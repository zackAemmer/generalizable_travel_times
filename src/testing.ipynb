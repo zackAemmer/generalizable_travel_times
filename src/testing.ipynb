{
 "cells": [
  {
   "cell_type": "code",
   "execution_count": 1,
   "id": "5ae430ee",
   "metadata": {},
   "outputs": [],
   "source": [
    "import database.summarize_rds"
   ]
  },
  {
   "cell_type": "code",
   "execution_count": 2,
   "id": "1322147f",
   "metadata": {},
   "outputs": [
    {
     "ename": "NameError",
     "evalue": "name 'summarize_rds' is not defined",
     "output_type": "error",
     "traceback": [
      "\u001b[0;31m---------------------------------------------------------------------------\u001b[0m",
      "\u001b[0;31mNameError\u001b[0m                                 Traceback (most recent call last)",
      "\u001b[0;32m/var/folders/6p/76scpql109v8rhf5gm61sr4c0000gn/T/ipykernel_95966/1081705769.py\u001b[0m in \u001b[0;36m<module>\u001b[0;34m\u001b[0m\n\u001b[0;32m----> 1\u001b[0;31m \u001b[0msummarize_rds\u001b[0m\u001b[0;34m\u001b[0m\u001b[0;34m\u001b[0m\u001b[0m\n\u001b[0m",
      "\u001b[0;31mNameError\u001b[0m: name 'summarize_rds' is not defined"
     ]
    }
   ],
   "source": [
    "database.summarize_rds."
   ]
  },
  {
   "cell_type": "code",
   "execution_count": 5,
   "id": "e94feae8-9c1a-46c9-bed0-34ce06dbc340",
   "metadata": {},
   "outputs": [],
   "source": [
    "# Limited to 4 requests/minute, otherwise need publish/subscribe\n",
    "endpoint = 'https://api.entur.io/realtime/v1/rest/vm'\n",
    "conn = connect_to_rds()\n",
    "current_hour, current_epoch = get_epoch_and_cet_24hr()\n",
    "\n",
    "# Call Entur SIRI API (returns XML)\n",
    "response = requests.get(endpoint)\n",
    "root = ElementTree.fromstring(response.content)\n",
    "# root = ElementTree.parse('vm.xml').getroot() # For testing without hitting API\n",
    "\n",
    "# Look at list of active vehicles from response\n",
    "root_dict = xml_to_dict(root)\n",
    "vehicle_statuses = root_dict['ServiceDelivery']['VehicleMonitoringDelivery']['VehicleActivity']\n",
    "clean_active_trips(vehicle_statuses) # Modifies in-place by deleting elements to save memory\n",
    "\n",
    "current_hour, current_epoch = get_epoch_and_cet_24hr()\n",
    "args_str = upload_to_rds(vehicle_statuses, conn, current_epoch)\n",
    "conn.close()"
   ]
  },
  {
   "cell_type": "code",
   "execution_count": null,
   "id": "ddaa67ad-c8d7-49b9-943f-c424b929d506",
   "metadata": {},
   "outputs": [],
   "source": []
  }
 ],
 "metadata": {
  "kernelspec": {
   "display_name": "Python 3.9.13 ('base')",
   "language": "python",
   "name": "python3"
  },
  "language_info": {
   "codemirror_mode": {
    "name": "ipython",
    "version": 3
   },
   "file_extension": ".py",
   "mimetype": "text/x-python",
   "name": "python",
   "nbconvert_exporter": "python",
   "pygments_lexer": "ipython3",
   "version": "3.9.13"
  },
  "vscode": {
   "interpreter": {
    "hash": "ee7dd9afb01237dfbf26e9cc0cb1d4f149c742bc84ef8f1e9c50b404e05a47f5"
   }
  }
 },
 "nbformat": 4,
 "nbformat_minor": 5
}
