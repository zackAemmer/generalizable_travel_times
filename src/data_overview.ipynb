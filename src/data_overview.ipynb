{
 "cells": [
  {
   "cell_type": "code",
   "execution_count": null,
   "metadata": {},
   "outputs": [],
   "source": []
  },
  {
   "cell_type": "code",
   "execution_count": null,
   "metadata": {},
   "outputs": [],
   "source": [
    "kcm_dates, kcm_data_summaries = data_utils.full_dataset_summary(\"../data/kcm_all\", ['tripid','file','locationtime','lat','lon','vehicleid'], \"America/Los_Angeles\")"
   ]
  },
  {
   "cell_type": "code",
   "execution_count": null,
   "metadata": {},
   "outputs": [],
   "source": [
    "atb_dates, atb_data_summaries = data_utils.full_dataset_summary(\"../data/atb_all\", ['datedvehiclejourney','file','locationtime','lat','lon','vehicle'], \"Europe/Oslo\")"
   ]
  },
  {
   "cell_type": "code",
   "execution_count": null,
   "metadata": {},
   "outputs": [],
   "source": [
    "nwy_dates, nwy_data_summaries = data_utils.full_dataset_summary(\"../data/nwy_all\", ['datedvehiclejourney','file','locationtime','lat','lon','vehicle'], \"Europe/Oslo\")"
   ]
  },
  {
   "cell_type": "code",
   "execution_count": null,
   "metadata": {},
   "outputs": [],
   "source": [
    "kcm_stats = pd.DataFrame({\n",
    "    \"Date\": kcm_dates,\n",
    "    \"Observations\": [x['n_points'] for x in kcm_data_summaries],\n",
    "    \"Trajectories\": [x['n_trajs'] for x in kcm_data_summaries],\n",
    "    \"Unique Trips\": [x['nunq_trips'] for x in kcm_data_summaries],\n",
    "    \"Unique Vehicles\": [x['nunq_vehs'] for x in kcm_data_summaries]\n",
    "})\n",
    "kcm_stats[\"City\"] = \"Seattle\"\n",
    "atb_stats = pd.DataFrame({\n",
    "    \"Date\": atb_dates,\n",
    "    \"Observations\": [x['n_points'] for x in atb_data_summaries],\n",
    "    \"Trajectories\": [x['n_trajs'] for x in atb_data_summaries],\n",
    "    \"Unique Trips\": [x['nunq_trips'] for x in atb_data_summaries],\n",
    "    \"Unique Vehicles\": [x['nunq_vehs'] for x in atb_data_summaries]\n",
    "})\n",
    "atb_stats[\"City\"] = \"Trondheim\"\n",
    "nwy_stats = pd.DataFrame({\n",
    "    \"Date\": nwy_dates,\n",
    "    \"Observations\": [x['n_points'] for x in nwy_data_summaries],\n",
    "    \"Trajectories\": [x['n_trajs'] for x in nwy_data_summaries],\n",
    "    \"Unique Trips\": [x['nunq_trips'] for x in nwy_data_summaries],\n",
    "    \"Unique Vehicles\": [x['nunq_vehs'] for x in nwy_data_summaries]\n",
    "})\n",
    "nwy_stats[\"City\"] = \"Norway\"\n",
    "plot_data = pd.concat([kcm_stats, atb_stats, nwy_stats], axis=0)\n",
    "# plot_data = pd.melt(plot_data, [\"Date\",\"City\"])"
   ]
  },
  {
   "cell_type": "code",
   "execution_count": null,
   "metadata": {},
   "outputs": [],
   "source": [
    "with warnings.catch_warnings():\n",
    "    # nanmean returns a warning if the array is all nan values\n",
    "    warnings.simplefilter(\"ignore\", category=RuntimeWarning)\n",
    "    kcm_hourly_stats = pd.DataFrame({\n",
    "        \"Hour\": np.arange(24, dtype=\"int32\"),\n",
    "        \"Hourly Points\": list(np.mean(np.array([x['hourly_points'] for x in kcm_data_summaries]), axis=0, dtype=\"int32\")),\n",
    "        \"Hourly Mean Speed (m/s)\": list(np.nanmean(np.array([x['hourly_mean_speeds'] for x in kcm_data_summaries]), axis=0, dtype=\"float32\")),\n",
    "        \"Hourly SD Speed (m/s)\": list(np.nanmean(np.array([x['hourly_sd_speeds'] for x in kcm_data_summaries]), axis=0, dtype=\"float32\"))\n",
    "    })\n",
    "    kcm_hourly_stats[\"City\"] = \"Seattle\"\n",
    "    atb_hourly_stats = pd.DataFrame({\n",
    "        \"Hour\": np.arange(24, dtype=\"int32\"),\n",
    "        \"Hourly Points\": list(np.mean(np.array([x['hourly_points'] for x in atb_data_summaries]), axis=0, dtype=\"int32\")),\n",
    "        \"Hourly Mean Speed (m/s)\": list(np.nanmean(np.array([x['hourly_mean_speeds'] for x in atb_data_summaries]), axis=0, dtype=\"float32\")),\n",
    "        \"Hourly SD Speed (m/s)\": list(np.nanmean(np.array([x['hourly_sd_speeds'] for x in atb_data_summaries]), axis=0, dtype=\"float32\"))\n",
    "    })\n",
    "    atb_hourly_stats[\"City\"] = \"Trondheim\"\n",
    "    nwy_hourly_stats = pd.DataFrame({\n",
    "        \"Hour\": np.arange(24, dtype=\"int32\"),\n",
    "        \"Hourly Points\": list(np.mean(np.array([x['hourly_points'] for x in nwy_data_summaries]), axis=0, dtype=\"int32\")),\n",
    "        \"Hourly Mean Speed (m/s)\": list(np.nanmean(np.array([x['hourly_mean_speeds'] for x in nwy_data_summaries]), axis=0, dtype=\"float32\")),\n",
    "        \"Hourly SD Speed (m/s)\": list(np.nanmean(np.array([x['hourly_sd_speeds'] for x in nwy_data_summaries]), axis=0, dtype=\"float32\"))\n",
    "    })\n",
    "    nwy_hourly_stats[\"City\"] = \"Norway\"\n",
    "plot_data_hourly = pd.concat([kcm_hourly_stats, atb_hourly_stats, nwy_hourly_stats], axis=0).fillna(np.inf)"
   ]
  },
  {
   "cell_type": "code",
   "execution_count": null,
   "metadata": {},
   "outputs": [],
   "source": [
    "fig, axes = plt.subplots(4,1)\n",
    "fig.set_figheight(8)\n",
    "fig.set_figwidth(12)\n",
    "\n",
    "fig.autofmt_xdate(rotation=90)\n",
    "sns.lineplot(plot_data, x=\"Date\", y=\"Observations\", hue=\"City\", ax=axes[0])\n",
    "sns.lineplot(plot_data, x=\"Date\", y=\"Trajectories\", hue=\"City\", ax=axes[1])\n",
    "sns.lineplot(plot_data, x=\"Date\", y=\"Unique Trips\", hue=\"City\", ax=axes[2])\n",
    "sns.lineplot(plot_data, x=\"Date\", y=\"Unique Vehicles\", hue=\"City\", ax=axes[3])\n",
    "axes[0].set_title(\"Observations\")\n",
    "axes[1].set_title(\"Trajectories\")\n",
    "axes[2].set_title(\"Unique Trips\")\n",
    "axes[3].set_title(\"Unique Vehicles\")\n",
    "for ax in axes:\n",
    "    ax.legend().set_visible(False)\n",
    "    ax.set_ylabel(None)\n",
    "    ax.xaxis.set_major_locator(mdates.MonthLocator(interval=1))\n",
    "    ax.xaxis.set_major_formatter(mdates.DateFormatter('%Y-%m-%d'))\n",
    "lines_labels = [ax.get_legend_handles_labels() for ax in fig.axes]\n",
    "plt.figlegend(lines_labels[0][0], lines_labels[0][1], bbox_to_anchor=(0.5, -0.1), loc='lower center', ncol=5, labelspacing=0.)\n",
    "fig.tight_layout()\n",
    "plt.savefig(\"../plots/timeline_of_collection.png\", dpi=1800, bbox_inches='tight')"
   ]
  },
  {
   "cell_type": "code",
   "execution_count": null,
   "metadata": {},
   "outputs": [],
   "source": [
    "fig, axes = plt.subplots(3,1)\n",
    "fig.set_figheight(6)\n",
    "fig.set_figwidth(9)\n",
    "\n",
    "fig.autofmt_xdate(rotation=90)\n",
    "sns.pointplot(plot_data_hourly, x=\"Hour\", y=\"Hourly Points\", hue=\"City\", ax=axes[0])\n",
    "sns.pointplot(plot_data_hourly, x=\"Hour\", y=\"Hourly Mean Speed (m/s)\", hue=\"City\", ax=axes[1], errorbar=lambda x: (x.min(), x.max()))\n",
    "sns.pointplot(plot_data_hourly, x=\"Hour\", y=\"Hourly SD Speed (m/s)\", hue=\"City\", ax=axes[2], errorbar=lambda x: (x.min(), x.max()))\n",
    "axes[0].set_title(\"Average Hourly Observations\")\n",
    "axes[1].set_title(\"Average Hourly Speed (m/s)\")\n",
    "axes[2].set_title(\"SD Hourly Speed (m/s)\")\n",
    "for ax in axes:\n",
    "    ax.legend().set_visible(False)\n",
    "    ax.set_ylabel(None)\n",
    "    ax.set_xticks(np.arange(24))\n",
    "lines_labels = [ax.get_legend_handles_labels() for ax in fig.axes]\n",
    "plt.figlegend(lines_labels[0][0], lines_labels[0][1], bbox_to_anchor=(0.5, -0.1), loc='lower center', ncol=5, labelspacing=0.)\n",
    "fig.tight_layout()\n",
    "plt.savefig(\"../plots/timeline_hourly_collection.png\", dpi=1800, bbox_inches='tight')"
   ]
  },
  {
   "cell_type": "code",
   "execution_count": null,
   "metadata": {},
   "outputs": [],
   "source": [
    "# How many days are there\n",
    "print(f\"Number of observation days: KCM {len(kcm_dates)}, ATB {len(atb_dates)}, NWY {len(nwy_dates)}\")\n",
    "# How many observations are there total\n",
    "print(f\"Number of observed GPS points: KCM {np.sum(kcm_stats['Observations'])}, ATB {np.sum(atb_stats['Observations'])}, , NWY {np.sum(nwy_stats['Observations'])}\")\n",
    "# How many observations are there per day on average\n",
    "kcm_per_day = int(np.sum(kcm_stats['Observations']) / len(kcm_dates))\n",
    "atb_per_day = int(np.sum(atb_stats['Observations']) / len(atb_dates))\n",
    "nwy_per_day = int(np.sum(nwy_stats['Observations']) / len(nwy_dates))\n",
    "print(f\"Number of points per day: KCM {kcm_per_day}, ATB {atb_per_day}, NWY {nwy_per_day}\")\n",
    "# How many points per trajectory are there on average\n",
    "kcm_points_per_trip = int(np.sum(kcm_stats['Observations']) / np.sum(kcm_stats['Trajectories']))\n",
    "atb_points_per_trip = int(np.sum(atb_stats['Observations']) / np.sum(atb_stats['Trajectories']))\n",
    "nwy_points_per_trip = int(np.sum(nwy_stats['Observations']) / np.sum(nwy_stats['Trajectories']))\n",
    "print(f\"Average points per trajectory: KCM {kcm_points_per_trip}, ATB {atb_points_per_trip}, NWY {nwy_points_per_trip}\")"
   ]
  },
  {
   "cell_type": "code",
   "execution_count": null,
   "metadata": {},
   "outputs": [],
   "source": [
    "# Read in network shape data\n",
    "with open('../data/processed_networks/kcm_segments.pkl', 'rb') as f:\n",
    "    kcm_segments = pickle.load(f)\n",
    "    kcm_segments = kcm_segments.to_crs('EPSG:32148')\n",
    "with open('../data/processed_networks/atb_segments.pkl', 'rb') as f:\n",
    "    atb_segments = pickle.load(f)\n",
    "    atb_segments = atb_segments.to_crs('EPSG:25833')"
   ]
  },
  {
   "cell_type": "code",
   "execution_count": null,
   "metadata": {},
   "outputs": [],
   "source": [
    "# How much lane mileage is covered\n",
    "kcm_mileage = int(np.sum(kcm_segments.length) / 1000)\n",
    "atb_mileage = int(np.sum(atb_segments.length) / 1000)\n",
    "print(f\"Number of roadway kilometers: KCM {kcm_mileage}, ATB {atb_mileage}\")\n",
    "# How much area is covered\n",
    "kcm_bounds = kcm_segments.bounds\n",
    "kcm_area = int(((max(kcm_bounds.maxx) - min(kcm_bounds.minx)) / 1000) * ((max(kcm_bounds.maxy) - min(kcm_bounds.miny)) / 1000))\n",
    "atb_bounds = atb_segments.bounds\n",
    "atb_area = int(((max(atb_bounds.maxx) - min(atb_bounds.minx)) / 1000) * ((max(atb_bounds.maxy) - min(atb_bounds.miny)) / 1000))\n",
    "print(f\"Total network area: KCM {kcm_area}, ATB {atb_area}\")"
   ]
  }
 ],
 "metadata": {
  "kernelspec": {
   "display_name": "valle_m1",
   "language": "python",
   "name": "python3"
  },
  "language_info": {
   "codemirror_mode": {
    "name": "ipython",
    "version": 3
   },
   "file_extension": ".py",
   "mimetype": "text/x-python",
   "name": "python",
   "nbconvert_exporter": "python",
   "pygments_lexer": "ipython3",
   "version": "3.9.16"
  },
  "orig_nbformat": 4,
  "vscode": {
   "interpreter": {
    "hash": "b30fe1de1713ca8e7537eef068b13a2de77ded03f86aab2e80ea73416dd3d704"
   }
  }
 },
 "nbformat": 4,
 "nbformat_minor": 2
}
