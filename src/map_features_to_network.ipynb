{
 "cells": [
  {
   "cell_type": "code",
   "execution_count": null,
   "metadata": {},
   "outputs": [],
   "source": [
    "import os\n",
    "\n",
    "from database import data_utils\n",
    "\n",
    "import contextily as cx\n",
    "import geopandas\n",
    "import matplotlib.pyplot as plt\n",
    "import numpy as np\n",
    "import pandas as pd\n",
    "import pickle\n",
    "from shapely.ops import nearest_points"
   ]
  },
  {
   "cell_type": "code",
   "execution_count": null,
   "metadata": {},
   "outputs": [],
   "source": [
    "# Get traces from all data that was collected during a validation day\n",
    "data = data_utils.combine_all_folder_data(\"../data/kcm_validation\")\n",
    "traces = data_utils.calculate_trace_df(data, 'file', 'tripid', 'locationtime', 'lat', 'lon', ['orientation','scheduledeviation','tripdistance','locationtime'], use_coord_dist=True)\n",
    "# Add geometry\n",
    "traces = geopandas.GeoDataFrame(traces, geometry=geopandas.points_from_xy(traces.lon, traces.lat), crs=\"EPSG:4326\")\n",
    "\n",
    "# # Get traces from all data that was collected during a validation day\n",
    "# data = data_utils.combine_all_folder_data(\"../data/nwy_all\", n_sample=10)\n",
    "# traces = data_utils.calculate_trace_df(data, 'file', 'datedvehiclejourney', 'locationtime', 'lat', 'lon', ['bearing','locationtime'], use_coord_dist=True)\n",
    "# # Add geometry\n",
    "# traces = geopandas.GeoDataFrame(traces, geometry=geopandas.points_from_xy(traces.lon, traces.lat), crs=\"EPSG:4326\")\n",
    "\n",
    "traces"
   ]
  },
  {
   "cell_type": "code",
   "execution_count": null,
   "metadata": {},
   "outputs": [],
   "source": [
    "# Map every trace to a network segment\n",
    "with open('../data/processed_networks/kcm_segments.pkl', 'rb') as f:\n",
    "    kcm_segments = pickle.load(f)\n",
    "\n",
    "# Convert to WA north projection\n",
    "kcm_segments = kcm_segments.to_crs('EPSG:32148')\n",
    "traces = traces.to_crs('EPSG:32148')\n",
    "\n",
    "kcm_segments"
   ]
  },
  {
   "cell_type": "code",
   "execution_count": null,
   "metadata": {},
   "outputs": [],
   "source": [
    "# Sample from the traces, match to the network\n",
    "traces_n = traces.sample(100000)\n",
    "# There are duplicates when distance to segments is tied; just take first\n",
    "traces_n = geopandas.sjoin_nearest(traces_n, kcm_segments, distance_col=\"join_dist\").drop_duplicates(['tripid','locationtime'])\n",
    "traces_n"
   ]
  },
  {
   "cell_type": "code",
   "execution_count": null,
   "metadata": {},
   "outputs": [],
   "source": [
    "traces.columns"
   ]
  },
  {
   "cell_type": "code",
   "execution_count": null,
   "metadata": {},
   "outputs": [],
   "source": [
    "traces.groupby(['vehicle']).agg(['count','mean','nunique'])"
   ]
  }
 ],
 "metadata": {
  "kernelspec": {
   "display_name": "valle",
   "language": "python",
   "name": "python3"
  },
  "language_info": {
   "codemirror_mode": {
    "name": "ipython",
    "version": 3
   },
   "file_extension": ".py",
   "mimetype": "text/x-python",
   "name": "python",
   "nbconvert_exporter": "python",
   "pygments_lexer": "ipython3",
   "version": "3.9.7"
  },
  "orig_nbformat": 4,
  "vscode": {
   "interpreter": {
    "hash": "ee7dd9afb01237dfbf26e9cc0cb1d4f149c742bc84ef8f1e9c50b404e05a47f5"
   }
  }
 },
 "nbformat": 4,
 "nbformat_minor": 2
}
