{
 "cells": [
  {
   "cell_type": "code",
   "execution_count": null,
   "metadata": {},
   "outputs": [],
   "source": [
    "from datetime import datetime\n",
    "import itertools\n",
    "import json\n",
    "import math\n",
    "import os\n",
    "import sys\n",
    "\n",
    "import importlib\n",
    "import matplotlib.animation as animation\n",
    "import matplotlib.pyplot as plt\n",
    "import numpy as np\n",
    "import pandas as pd\n",
    "import pickle\n",
    "import plotly.express as px\n",
    "import plotly.figure_factory as ff\n",
    "import plotly.graph_objects as go\n",
    "import scipy\n",
    "from scipy.spatial import KDTree\n",
    "import seaborn as sns\n",
    "from sklearn import metrics\n",
    "import torch\n",
    "from torch.utils.data import DataLoader\n",
    "\n",
    "from utils import data_utils, data_loader, shape_utils\n",
    "\n",
    "importlib.reload(data_utils)\n",
    "importlib.reload(data_loader)\n",
    "importlib.reload(shape_utils)\n",
    "\n",
    "from dotenv import load_dotenv\n",
    "load_dotenv()\n",
    "\n",
    "%matplotlib inline\n",
    "\n",
    "RUN_FOLDER = \"../results/debug/\""
   ]
  },
  {
   "cell_type": "code",
   "execution_count": 80,
   "metadata": {},
   "outputs": [],
   "source": [
    "kcm_inputs = data_utils.load_all_inputs(RUN_FOLDER, \"kcm/\")\n",
    "atb_inputs = data_utils.load_all_inputs(RUN_FOLDER, \"atb/\")"
   ]
  },
  {
   "cell_type": "code",
   "execution_count": null,
   "metadata": {},
   "outputs": [],
   "source": [
    "# Sample shingle ids and choose dist/time ranges to test\n",
    "shingle_ids = pd.unique(kcm_inputs['test_traces']['shingle_id'])\n",
    "shingle_id_sample = np.random.choice(shingle_ids, 100)\n",
    "d_buffers = np.linspace(1,10000,20)\n",
    "t_buffers = np.linspace(1,60*60*6,20)\n",
    "\n",
    "# Collect metrics for each combination of d/t\n",
    "target = np.empty((len(shingle_id_sample)))\n",
    "adj = np.empty((len(shingle_id_sample), len(d_buffers), len(t_buffers)))\n",
    "for i, id in enumerate(shingle_id_sample):\n",
    "    print(i)\n",
    "    for d, dist in enumerate(d_buffers):\n",
    "        for t, time in enumerate(t_buffers):\n",
    "            adj_pts = None\n",
    "            # Keep record of feature for each combination of dist and time buffers\n",
    "            shingle_pts, adj_pts = shape_utils.get_adjacent_points(kcm_inputs['test_traces'], id, dist, time)\n",
    "            if adj_pts is None:\n",
    "                adj[i,d,t] = np.nan\n",
    "            else:\n",
    "                adj[i,d,t] = np.mean(adj_pts.speed_m_s)\n",
    "    # Shingle data is same regardless of t_buffer and d_buffer\n",
    "    target[i] = np.mean(shingle_pts.speed_m_s)\n",
    "# Fill cases with no adjacent points with the average\n",
    "adj[np.isnan(adj)] = np.mean(adj[~np.isnan(adj)])"
   ]
  },
  {
   "cell_type": "code",
   "execution_count": null,
   "metadata": {},
   "outputs": [],
   "source": [
    "# Rows, Columns\n",
    "r_values = np.empty((adj.shape[1], adj.shape[2]))\n",
    "for d in range(adj.shape[1]):\n",
    "    for t in range(adj.shape[2]):\n",
    "        R2, x_plt, y_plt = shape_utils.fit_poly(adj[:,d,t], target)\n",
    "        r_values[d,t] = R2\n",
    "r_values"
   ]
  },
  {
   "cell_type": "code",
   "execution_count": null,
   "metadata": {},
   "outputs": [],
   "source": [
    "fig = px.imshow(r_values, labels={\"x\":\"Time\",\"y\":\"Dist\"})\n",
    "fig.show()"
   ]
  },
  {
   "cell_type": "code",
   "execution_count": null,
   "metadata": {},
   "outputs": [],
   "source": [
    "# zero_idx_adj = adj_metric!=0.0\n",
    "# zero_idx_target = target_metric!=0.0\n",
    "# x = np.log(adj_metric[zero_idx_adj & zero_idx_target])\n",
    "# y = np.log(target_metric[zero_idx_adj & zero_idx_target])"
   ]
  }
 ],
 "metadata": {
  "kernelspec": {
   "display_name": "valle_m1",
   "language": "python",
   "name": "python3"
  },
  "language_info": {
   "codemirror_mode": {
    "name": "ipython",
    "version": 3
   },
   "file_extension": ".py",
   "mimetype": "text/x-python",
   "name": "python",
   "nbconvert_exporter": "python",
   "pygments_lexer": "ipython3",
   "version": "3.9.16"
  },
  "orig_nbformat": 4,
  "vscode": {
   "interpreter": {
    "hash": "b30fe1de1713ca8e7537eef068b13a2de77ded03f86aab2e80ea73416dd3d704"
   }
  }
 },
 "nbformat": 4,
 "nbformat_minor": 2
}
