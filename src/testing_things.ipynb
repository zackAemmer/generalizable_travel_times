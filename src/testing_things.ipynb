{
 "cells": [
  {
   "cell_type": "code",
   "execution_count": null,
   "metadata": {},
   "outputs": [],
   "source": [
    "from datetime import datetime\n",
    "import itertools\n",
    "import json\n",
    "import math\n",
    "import os\n",
    "import sys\n",
    "\n",
    "import importlib\n",
    "from joblib import Parallel, delayed\n",
    "import matplotlib.animation as animation\n",
    "import matplotlib.pyplot as plt\n",
    "import numpy as np\n",
    "import pandas as pd\n",
    "import pickle\n",
    "import plotly.express as px\n",
    "import plotly.figure_factory as ff\n",
    "import plotly.graph_objects as go\n",
    "import scipy\n",
    "from scipy.spatial import KDTree\n",
    "import seaborn as sns\n",
    "from sklearn import metrics\n",
    "import torch\n",
    "from torch.utils.data import DataLoader\n",
    "\n",
    "from utils import data_utils, data_loader, shape_utils\n",
    "\n",
    "importlib.reload(data_utils)\n",
    "importlib.reload(data_loader)\n",
    "importlib.reload(shape_utils)\n",
    "\n",
    "from dotenv import load_dotenv\n",
    "load_dotenv()\n",
    "\n",
    "%matplotlib inline\n",
    "\n",
    "RUN_FOLDER = \"../results/debug/\""
   ]
  },
  {
   "cell_type": "code",
   "execution_count": null,
   "metadata": {},
   "outputs": [],
   "source": [
    "kcm_inputs = data_utils.load_all_inputs(RUN_FOLDER, \"kcm/\")\n",
    "atb_inputs = data_utils.load_all_inputs(RUN_FOLDER, \"atb/\")"
   ]
  },
  {
   "cell_type": "code",
   "execution_count": null,
   "metadata": {},
   "outputs": [],
   "source": [
    "# Sample shingle ids and choose dist/time ranges to test\n",
    "shingle_ids = pd.unique(kcm_inputs['test_traces']['shingle_id'])\n",
    "shingle_id_sample = np.random.choice(shingle_ids, 100, replace=False)\n",
    "d_buffers = np.linspace(1,5000,20)\n",
    "t_buffers = np.linspace(1,60*60*3,20)\n",
    "b_buffer = 10\n",
    "# Test shingle data against all other data\n",
    "traces = kcm_inputs['test_traces']\n",
    "shingle_traces = traces[traces['shingle_id'].isin(shingle_id_sample)][['x','y','locationtime','bearing','speed_m_s','shingle_id']]\n",
    "shingle_groups = shingle_traces.groupby('shingle_id')\n",
    "adj_traces = traces[~traces['shingle_id'].isin(shingle_id_sample)][['x','y','locationtime','bearing','speed_m_s']].values\n",
    "# Save results for each shingle, and buffer combination\n",
    "targets_res = np.zeros((len(shingle_id_sample), len(d_buffers), len(t_buffers)))\n",
    "preds_res = np.zeros((len(shingle_id_sample), len(d_buffers), len(t_buffers)))"
   ]
  },
  {
   "cell_type": "code",
   "execution_count": null,
   "metadata": {},
   "outputs": [],
   "source": [
    "# Parallel: 5min with 10 samples, 20x20 buffers\n",
    "def parallel_get_metrics(d):\n",
    "    dist_buffer = d_buffers[d]\n",
    "    results = []\n",
    "    for t, t_buffer in enumerate(t_buffers):\n",
    "        res = shingle_groups.apply(shape_utils.get_adjacent_metric, adj_traces, dist_buffer, t_buffer, b_buffer)\n",
    "        targets = np.array([x[0] for x in res])\n",
    "        preds = np.array([x[1] for x in res])\n",
    "        # If all nan, fill with zeros\n",
    "        if sum(~np.isnan(targets))==0:\n",
    "            targets = np.nan_to_num(targets, nan=1.0)\n",
    "        else:\n",
    "            targets[np.isnan(targets)] = np.mean(targets[~np.isnan(targets)])\n",
    "        # If some nan, fill with mean\n",
    "        if sum(~np.isnan(preds))==0:\n",
    "            preds = np.nan_to_num(preds, nan=1.0)\n",
    "        else:\n",
    "            preds[np.isnan(preds)] = np.mean(preds[~np.isnan(preds)])\n",
    "        results.append((targets, preds, d, t))\n",
    "    return results\n",
    "# Each item in the results corresponds to a distance buffer; it has n subitems, 1 for each time buffer\n",
    "# Within a d-t buffer, there are 4 values; (targets, preds, d_buffer idx, t_buffer idx)\n",
    "res_parallel = Parallel(n_jobs=-2)(delayed(parallel_get_metrics)(x) for x in range(len(d_buffers)))"
   ]
  },
  {
   "cell_type": "code",
   "execution_count": null,
   "metadata": {},
   "outputs": [],
   "source": [
    "# Expand parallel adjacent metric results\n",
    "for d_idx in range(len(res_parallel)):\n",
    "    for t_idx in range(len(res_parallel[0])):\n",
    "        targets = res_parallel[d_idx][t_idx][0]\n",
    "        preds = res_parallel[d_idx][t_idx][1]\n",
    "        targets_res[:,d_idx,t_idx] = targets\n",
    "        preds_res[:,d_idx,t_idx] = preds"
   ]
  },
  {
   "cell_type": "code",
   "execution_count": null,
   "metadata": {},
   "outputs": [],
   "source": [
    "# Get R2 value for each combination of preds and targets and for each d and t buffer\n",
    "r_values = np.empty((preds_res.shape[1], preds_res.shape[2]))\n",
    "for d in range(preds_res.shape[1]):\n",
    "    for t in range(preds_res.shape[2]):\n",
    "        R2, x_plt, y_plt = shape_utils.fit_poly(preds_res[:,d,t], targets_res[:,d,t])\n",
    "        r_values[d,t] = R2\n",
    "r_values"
   ]
  },
  {
   "cell_type": "code",
   "execution_count": null,
   "metadata": {},
   "outputs": [],
   "source": [
    "fig, ax = plt.subplots()\n",
    "im = ax.imshow(r_values, origin=\"lower\", cmap=\"plasma\")\n",
    "ax.set_title(\"R2 of Polynomial Fit to Adjacent Trips\")\n",
    "ax.set_xlabel(\"Time (s)\")\n",
    "ax.set_xticks([x for x in range(len(t_buffers))])\n",
    "ax.set_xticklabels([str(int(x)) for x in t_buffers], rotation=45)\n",
    "ax.set_ylabel(\"Distance (m)\")\n",
    "ax.set_yticks([y for y in range(len(d_buffers))])\n",
    "ax.set_yticklabels([str(int(y)) for y in d_buffers])\n",
    "plt.draw()\n",
    "plt.savefig(f\"../plots/R2_poly_adj_{b_buffer}.png\")\n",
    "plt.show()"
   ]
  }
 ],
 "metadata": {
  "kernelspec": {
   "display_name": "valle_m1",
   "language": "python",
   "name": "python3"
  },
  "language_info": {
   "codemirror_mode": {
    "name": "ipython",
    "version": 3
   },
   "file_extension": ".py",
   "mimetype": "text/x-python",
   "name": "python",
   "nbconvert_exporter": "python",
   "pygments_lexer": "ipython3",
   "version": "3.9.16"
  },
  "orig_nbformat": 4,
  "vscode": {
   "interpreter": {
    "hash": "b30fe1de1713ca8e7537eef068b13a2de77ded03f86aab2e80ea73416dd3d704"
   }
  }
 },
 "nbformat": 4,
 "nbformat_minor": 2
}
