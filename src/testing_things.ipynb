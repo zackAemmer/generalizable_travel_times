{
 "cells": [
  {
   "cell_type": "code",
   "execution_count": null,
   "metadata": {},
   "outputs": [],
   "source": [
    "from datetime import datetime\n",
    "import itertools\n",
    "import json\n",
    "import math\n",
    "import os\n",
    "import sys\n",
    "\n",
    "import importlib\n",
    "from joblib import Parallel, delayed\n",
    "import matplotlib.animation as animation\n",
    "import matplotlib.pyplot as plt\n",
    "import numpy as np\n",
    "import pandas as pd\n",
    "import pickle\n",
    "import plotly.express as px\n",
    "import plotly.figure_factory as ff\n",
    "import plotly.graph_objects as go\n",
    "import scipy\n",
    "from scipy.spatial import KDTree\n",
    "import seaborn as sns\n",
    "from sklearn import metrics\n",
    "import torch\n",
    "from torch.utils.data import DataLoader\n",
    "\n",
    "from utils import data_utils, data_loader, shape_utils\n",
    "\n",
    "importlib.reload(data_utils)\n",
    "importlib.reload(data_loader)\n",
    "importlib.reload(shape_utils)\n",
    "\n",
    "from dotenv import load_dotenv\n",
    "load_dotenv()\n",
    "\n",
    "%matplotlib inline\n",
    "\n",
    "RUN_FOLDER = \"../results/debug/\"\n",
    "NETWORK = \"kcm\""
   ]
  },
  {
   "cell_type": "code",
   "execution_count": null,
   "metadata": {},
   "outputs": [],
   "source": [
    "kcm_inputs = data_utils.load_all_inputs(RUN_FOLDER, \"kcm/\")\n",
    "atb_inputs = data_utils.load_all_inputs(RUN_FOLDER, \"atb/\")"
   ]
  },
  {
   "cell_type": "code",
   "execution_count": null,
   "metadata": {},
   "outputs": [],
   "source": [
    "kcm_model_results = data_utils.load_pkl(RUN_FOLDER + \"kcm/\" + \"model_results.pkl\")\n",
    "atb_model_results = data_utils.load_pkl(RUN_FOLDER + \"atb/\" + \"model_results.pkl\")\n",
    "kcm_result_df, kcm_loss_df = data_utils.extract_results(\"Seattle\", kcm_model_results)\n",
    "atb_result_df, atb_loss_df = data_utils.extract_results(\"Trondheim\", atb_model_results)\n",
    "\n",
    "performances_df = pd.concat([kcm_result_df, atb_result_df], axis=0).sort_values(['Model','City','Fold'])\n",
    "model_curves_df = pd.concat([kcm_loss_df, atb_loss_df], axis=0)\n",
    "\n",
    "print(f\"All Unique Models: {pd.unique(performances_df['Model'])}\")\n",
    "print(f\"All NN Models: {pd.unique(model_curves_df['Model'])}\")"
   ]
  }
 ],
 "metadata": {
  "kernelspec": {
   "display_name": "valle_m1",
   "language": "python",
   "name": "python3"
  },
  "language_info": {
   "codemirror_mode": {
    "name": "ipython",
    "version": 3
   },
   "file_extension": ".py",
   "mimetype": "text/x-python",
   "name": "python",
   "nbconvert_exporter": "python",
   "pygments_lexer": "ipython3",
   "version": "3.9.16"
  },
  "orig_nbformat": 4,
  "vscode": {
   "interpreter": {
    "hash": "b30fe1de1713ca8e7537eef068b13a2de77ded03f86aab2e80ea73416dd3d704"
   }
  }
 },
 "nbformat": 4,
 "nbformat_minor": 2
}
