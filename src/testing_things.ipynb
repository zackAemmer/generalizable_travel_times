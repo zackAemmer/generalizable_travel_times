{
 "cells": [
  {
   "cell_type": "code",
   "execution_count": 2,
   "metadata": {},
   "outputs": [],
   "source": [
    "from datetime import datetime\n",
    "import itertools\n",
    "import json\n",
    "import math\n",
    "import os\n",
    "\n",
    "import geopandas\n",
    "import importlib\n",
    "import matplotlib.pyplot as plt\n",
    "import numpy as np\n",
    "import pandas as pd\n",
    "import plotly.express as px\n",
    "import plotly.figure_factory as ff\n",
    "import psycopg2\n",
    "import scipy\n",
    "from scipy.spatial import KDTree\n",
    "import seaborn as sns\n",
    "from sklearn import metrics\n",
    "import torch\n",
    "from torch.utils.data import DataLoader\n",
    "\n",
    "from database import data_utils, data_loader, shape_utils, database_utils\n",
    "from models import basic_ff\n",
    "import run_models\n",
    "\n",
    "importlib.reload(data_utils)\n",
    "importlib.reload(basic_ff)\n",
    "importlib.reload(data_loader)\n",
    "importlib.reload(shape_utils)\n",
    "importlib.reload(database_utils)\n",
    "\n",
    "from dotenv import load_dotenv\n",
    "load_dotenv()\n",
    "\n",
    "RUN_FOLDER = \"../results/throwaway/\"\n",
    "\n",
    "# Get visual of adjacent buses actually working, also consider stops/schedule\n",
    "# Look at where residuals are high for picking new features\n",
    "# Try to get bearing/other stuff working for better feature of adjacent buses"
   ]
  },
  {
   "cell_type": "code",
   "execution_count": 3,
   "metadata": {},
   "outputs": [],
   "source": [
    "train_traces = data_utils.load_pkl(RUN_FOLDER + \"kcm/\" + \"train_traces.pkl\")\n",
    "test_traces = data_utils.load_pkl(RUN_FOLDER + \"kcm/\" + \"test_traces.pkl\")\n",
    "with open(RUN_FOLDER + \"kcm/deeptte_formatted/\" + \"config.json\") as f:\n",
    "    config = json.load(f)\n",
    "gtfs_data = data_utils.merge_gtfs_files(\".\" + config['gtfs_folder'])\n",
    "tte_train_chunks, tte_test = data_utils.load_train_test_data(RUN_FOLDER + \"kcm/deeptte_formatted/\", 5)"
   ]
  },
  {
   "cell_type": "code",
   "execution_count": 4,
   "metadata": {},
   "outputs": [
    {
     "data": {
      "image/png": "[encoded data removed]",
      "text/plain": [
       "<Figure size 640x480 with 1 Axes>"
      ]
     },
     "metadata": {},
     "output_type": "display_data"
    }
   ],
   "source": [
    "# Look at a single trip\n",
    "shingle_data = test_traces[test_traces['shingle_id']==0].iloc[:]\n",
    "\n",
    "plot_data = shingle_data.iloc[:]\n",
    "fig, axes = plt.subplots(1,1)\n",
    "shape_utils.plot_gtfs_trip(axes, plot_data['trip_id'].iloc[0], gtfs_data)\n",
    "shape_utils.plot_gtfsrt_trip(axes, plot_data)"
   ]
  },
  {
   "cell_type": "code",
   "execution_count": 5,
   "metadata": {},
   "outputs": [],
   "source": [
    "next_stops = shingle_data[['stop_lon','stop_lat','timeID_s']]\n",
    "next_stops.columns = [\"lon\",\"lat\",\"timeID_s\"]\n",
    "next_stops['Type'] = \"Closest Scheduled Stop\"\n",
    "next_points = shingle_data[['lon','lat','timeID_s']]\n",
    "next_points['Type'] = \"Current Position\"\n",
    "plot_data = pd.concat([next_points, next_stops], axis=0)"
   ]
  },
  {
   "cell_type": "code",
   "execution_count": 6,
   "metadata": {},
   "outputs": [
    {
     "data": {
      "application/vnd.plotly.v1+json": {
       "config": {
        "plotlyServerURL": "https://plot.ly"
       },
       "data": [
        {
         "hovertemplate": "Type=Current Position<br>timeID_s=26524<br>lat=%{lat}<br>lon=%{lon}<extra></extra>",
         "ids": [
          "Current Position"
         ],
         "lat": [
          47.5426521301
         ],
         "legendgroup": "Current Position",
         "lon": [
          -122.0628356934
         ],
         "marker": {
          "color": "#636efa"
         },
         "mode": "markers",
         "name": "Current Position",
         "showlegend": true,
         "subplot": "mapbox",
         "type": "scattermapbox"
        },
        {
         "hovertemplate": "Type=Closest Scheduled Stop<br>timeID_s=26524<br>lat=%{lat}<br>lon=%{lon}<extra></extra>",
         "ids": [
          "Closest Scheduled Stop"
         ],
         "lat": [
          47.5422516
         ],
         "legendgroup": "Closest Scheduled Stop",
         "lon": [
          -122.062225
         ],
         "marker": {
          "color": "#EF553B"
         },
         "mode": "markers",
         "name": "Closest Scheduled Stop",
         "showlegend": true,
         "subplot": "mapbox",
         "type": "scattermapbox"
        }
       ],
       "frames": [
        {
         "data": [
          {
           "hovertemplate": "Type=Current Position<br>timeID_s=26524<br>lat=%{lat}<br>lon=%{lon}<extra></extra>",
           "ids": [
            "Current Position"
           ],
           "lat": [
            47.5426521301
           ],
           "legendgroup": "Current Position",
           "lon": [
            -122.0628356934
           ],
           "marker": {
            "color": "#636efa"
           },
           "mode": "markers",
           "name": "Current Position",
           "showlegend": true,
           "subplot": "mapbox",
           "type": "scattermapbox"
          },
          {
           "hovertemplate": "Type=Closest Scheduled Stop<br>timeID_s=26524<br>lat=%{lat}<br>lon=%{lon}<extra></extra>",
           "ids": [
            "Closest Scheduled Stop"
           ],
           "lat": [
            47.5422516
           ],
           "legendgroup": "Closest Scheduled Stop",
           "lon": [
            -122.062225
           ],
           "marker": {
            "color": "#EF553B"
           },
           "mode": "markers",
           "name": "Closest Scheduled Stop",
           "showlegend": true,
           "subplot": "mapbox",
           "type": "scattermapbox"
          }
         ],
         "name": "26524"
        },
        {
         "data": [
          {
           "hovertemplate": "Type=Current Position<br>timeID_s=26554<br>lat=%{lat}<br>lon=%{lon}<extra></extra>",
           "ids": [
            "Current Position"
           ],
           "lat": [
            47.5436210632
           ],
           "legendgroup": "Current Position",
           "lon": [
            -122.0628128052
           ],
           "marker": {
            "color": "#636efa"
           },
           "mode": "markers",
           "name": "Current Position",
           "showlegend": true,
           "subplot": "mapbox",
           "type": "scattermapbox"
          },
          {
           "hovertemplate": "Type=Closest Scheduled Stop<br>timeID_s=26554<br>lat=%{lat}<br>lon=%{lon}<extra></extra>",
           "ids": [
            "Closest Scheduled Stop"
           ],
           "lat": [
            47.5422516
           ],
           "legendgroup": "Closest Scheduled Stop",
           "lon": [
            -122.062225
           ],
           "marker": {
            "color": "#EF553B"
           },
           "mode": "markers",
           "name": "Closest Scheduled Stop",
           "showlegend": true,
           "subplot": "mapbox",
           "type": "scattermapbox"
          }
         ],
         "name": "26554"
        },
        {
         "data": [
          {
           "hovertemplate": "Type=Current Position<br>timeID_s=26586<br>lat=%{lat}<br>lon=%{lon}<extra></extra>",
           "ids": [
            "Current Position"
           ],
           "lat": [
            47.5422019958
           ],
           "legendgroup": "Current Position",
           "lon": [
            -122.0621261597
           ],
           "marker": {
            "color": "#636efa"
           },
           "mode": "markers",
           "name": "Current Position",
           "showlegend": true,
           "subplot": "mapbox",
           "type": "scattermapbox"
          },
          {
           "hovertemplate": "Type=Closest Scheduled Stop<br>timeID_s=26586<br>lat=%{lat}<br>lon=%{lon}<extra></extra>",
           "ids": [
            "Closest Scheduled Stop"
           ],
           "lat": [
            47.5422516
           ],
           "legendgroup": "Closest Scheduled Stop",
           "lon": [
            -122.062225
           ],
           "marker": {
            "color": "#EF553B"
           },
           "mode": "markers",
           "name": "Closest Scheduled Stop",
           "showlegend": true,
           "subplot": "mapbox",
           "type": "scattermapbox"
          }
         ],
         "name": "26586"
        },
        {
         "data": [
          {
           "hovertemplate": "Type=Current Position<br>timeID_s=26614<br>lat=%{lat}<br>lon=%{lon}<extra></extra>",
           "ids": [
            "Current Position"
           ],
           "lat": [
            47.5477867126
           ],
           "legendgroup": "Current Position",
           "lon": [
            -122.0618133545
           ],
           "marker": {
            "color": "#636efa"
           },
           "mode": "markers",
           "name": "Current Position",
           "showlegend": true,
           "subplot": "mapbox",
           "type": "scattermapbox"
          },
          {
           "hovertemplate": "Type=Closest Scheduled Stop<br>timeID_s=26614<br>lat=%{lat}<br>lon=%{lon}<extra></extra>",
           "ids": [
            "Closest Scheduled Stop"
           ],
           "lat": [
            47.5422516
           ],
           "legendgroup": "Closest Scheduled Stop",
           "lon": [
            -122.062225
           ],
           "marker": {
            "color": "#EF553B"
           },
           "mode": "markers",
           "name": "Closest Scheduled Stop",
           "showlegend": true,
           "subplot": "mapbox",
           "type": "scattermapbox"
          }
         ],
         "name": "26614"
        },
        {
         "data": [
          {
           "hovertemplate": "Type=Current Position<br>timeID_s=26644<br>lat=%{lat}<br>lon=%{lon}<extra></extra>",
           "ids": [
            "Current Position"
           ],
           "lat": [
            47.5482139587
           ],
           "legendgroup": "Current Position",
           "lon": [
            -122.0614547729
           ],
           "marker": {
            "color": "#636efa"
           },
           "mode": "markers",
           "name": "Current Position",
           "showlegend": true,
           "subplot": "mapbox",
           "type": "scattermapbox"
          },
          {
           "hovertemplate": "Type=Closest Scheduled Stop<br>timeID_s=26644<br>lat=%{lat}<br>lon=%{lon}<extra></extra>",
           "ids": [
            "Closest Scheduled Stop"
           ],
           "lat": [
            47.5422516
           ],
           "legendgroup": "Closest Scheduled Stop",
           "lon": [
            -122.062225
           ],
           "marker": {
            "color": "#EF553B"
           },
           "mode": "markers",
           "name": "Closest Scheduled Stop",
           "showlegend": true,
           "subplot": "mapbox",
           "type": "scattermapbox"
          }
         ],
         "name": "26644"
        },
        {
         "data": [
          {
           "hovertemplate": "Type=Current Position<br>timeID_s=26677<br>lat=%{lat}<br>lon=%{lon}<extra></extra>",
           "ids": [
            "Current Position"
           ],
           "lat": [
            47.5482139587
           ],
           "legendgroup": "Current Position",
           "lon": [
            -122.0614547729
           ],
           "marker": {
            "color": "#636efa"
           },
           "mode": "markers",
           "name": "Current Position",
           "showlegend": true,
           "subplot": "mapbox",
           "type": "scattermapbox"
          },
          {
           "hovertemplate": "Type=Closest Scheduled Stop<br>timeID_s=26677<br>lat=%{lat}<br>lon=%{lon}<extra></extra>",
           "ids": [
            "Closest Scheduled Stop"
           ],
           "lat": [
            47.5422516
           ],
           "legendgroup": "Closest Scheduled Stop",
           "lon": [
            -122.062225
           ],
           "marker": {
            "color": "#EF553B"
           },
           "mode": "markers",
           "name": "Closest Scheduled Stop",
           "showlegend": true,
           "subplot": "mapbox",
           "type": "scattermapbox"
          }
         ],
         "name": "26677"
        },
        {
         "data": [
          {
           "hovertemplate": "Type=Current Position<br>timeID_s=26707<br>lat=%{lat}<br>lon=%{lon}<extra></extra>",
           "ids": [
            "Current Position"
           ],
           "lat": [
            47.5519790649
           ],
           "legendgroup": "Current Position",
           "lon": [
            -122.0524749756
           ],
           "marker": {
            "color": "#636efa"
           },
           "mode": "markers",
           "name": "Current Position",
           "showlegend": true,
           "subplot": "mapbox",
           "type": "scattermapbox"
          },
          {
           "hovertemplate": "Type=Closest Scheduled Stop<br>timeID_s=26707<br>lat=%{lat}<br>lon=%{lon}<extra></extra>",
           "ids": [
            "Closest Scheduled Stop"
           ],
           "lat": [
            47.5519142
           ],
           "legendgroup": "Closest Scheduled Stop",
           "lon": [
            -122.053436
           ],
           "marker": {
            "color": "#EF553B"
           },
           "mode": "markers",
           "name": "Closest Scheduled Stop",
           "showlegend": true,
           "subplot": "mapbox",
           "type": "scattermapbox"
          }
         ],
         "name": "26707"
        },
        {
         "data": [
          {
           "hovertemplate": "Type=Current Position<br>timeID_s=26748<br>lat=%{lat}<br>lon=%{lon}<extra></extra>",
           "ids": [
            "Current Position"
           ],
           "lat": [
            47.5519561768
           ],
           "legendgroup": "Current Position",
           "lon": [
            -122.0455093384
           ],
           "marker": {
            "color": "#636efa"
           },
           "mode": "markers",
           "name": "Current Position",
           "showlegend": true,
           "subplot": "mapbox",
           "type": "scattermapbox"
          },
          {
           "hovertemplate": "Type=Closest Scheduled Stop<br>timeID_s=26748<br>lat=%{lat}<br>lon=%{lon}<extra></extra>",
           "ids": [
            "Closest Scheduled Stop"
           ],
           "lat": [
            47.5518951
           ],
           "legendgroup": "Closest Scheduled Stop",
           "lon": [
            -122.046417
           ],
           "marker": {
            "color": "#EF553B"
           },
           "mode": "markers",
           "name": "Closest Scheduled Stop",
           "showlegend": true,
           "subplot": "mapbox",
           "type": "scattermapbox"
          }
         ],
         "name": "26748"
        },
        {
         "data": [
          {
           "hovertemplate": "Type=Current Position<br>timeID_s=26774<br>lat=%{lat}<br>lon=%{lon}<extra></extra>",
           "ids": [
            "Current Position"
           ],
           "lat": [
            47.5518684387
           ],
           "legendgroup": "Current Position",
           "lon": [
            -122.0437011719
           ],
           "marker": {
            "color": "#636efa"
           },
           "mode": "markers",
           "name": "Current Position",
           "showlegend": true,
           "subplot": "mapbox",
           "type": "scattermapbox"
          },
          {
           "hovertemplate": "Type=Closest Scheduled Stop<br>timeID_s=26774<br>lat=%{lat}<br>lon=%{lon}<extra></extra>",
           "ids": [
            "Closest Scheduled Stop"
           ],
           "lat": [
            47.5518646
           ],
           "legendgroup": "Closest Scheduled Stop",
           "lon": [
            -122.044014
           ],
           "marker": {
            "color": "#EF553B"
           },
           "mode": "markers",
           "name": "Closest Scheduled Stop",
           "showlegend": true,
           "subplot": "mapbox",
           "type": "scattermapbox"
          }
         ],
         "name": "26774"
        },
        {
         "data": [
          {
           "hovertemplate": "Type=Current Position<br>timeID_s=26834<br>lat=%{lat}<br>lon=%{lon}<extra></extra>",
           "ids": [
            "Current Position"
           ],
           "lat": [
            47.5500297546
           ],
           "legendgroup": "Current Position",
           "lon": [
            -122.0410842896
           ],
           "marker": {
            "color": "#636efa"
           },
           "mode": "markers",
           "name": "Current Position",
           "showlegend": true,
           "subplot": "mapbox",
           "type": "scattermapbox"
          },
          {
           "hovertemplate": "Type=Closest Scheduled Stop<br>timeID_s=26834<br>lat=%{lat}<br>lon=%{lon}<extra></extra>",
           "ids": [
            "Closest Scheduled Stop"
           ],
           "lat": [
            47.5499535
           ],
           "legendgroup": "Closest Scheduled Stop",
           "lon": [
            -122.040268
           ],
           "marker": {
            "color": "#EF553B"
           },
           "mode": "markers",
           "name": "Closest Scheduled Stop",
           "showlegend": true,
           "subplot": "mapbox",
           "type": "scattermapbox"
          }
         ],
         "name": "26834"
        },
        {
         "data": [
          {
           "hovertemplate": "Type=Current Position<br>timeID_s=26856<br>lat=%{lat}<br>lon=%{lon}<extra></extra>",
           "ids": [
            "Current Position"
           ],
           "lat": [
            47.5500259399
           ],
           "legendgroup": "Current Position",
           "lon": [
            -122.0402679443
           ],
           "marker": {
            "color": "#636efa"
           },
           "mode": "markers",
           "name": "Current Position",
           "showlegend": true,
           "subplot": "mapbox",
           "type": "scattermapbox"
          },
          {
           "hovertemplate": "Type=Closest Scheduled Stop<br>timeID_s=26856<br>lat=%{lat}<br>lon=%{lon}<extra></extra>",
           "ids": [
            "Closest Scheduled Stop"
           ],
           "lat": [
            47.5499535
           ],
           "legendgroup": "Closest Scheduled Stop",
           "lon": [
            -122.040268
           ],
           "marker": {
            "color": "#EF553B"
           },
           "mode": "markers",
           "name": "Closest Scheduled Stop",
           "showlegend": true,
           "subplot": "mapbox",
           "type": "scattermapbox"
          }
         ],
         "name": "26856"
        },
        {
         "data": [
          {
           "hovertemplate": "Type=Current Position<br>timeID_s=26898<br>lat=%{lat}<br>lon=%{lon}<extra></extra>",
           "ids": [
            "Current Position"
           ],
           "lat": [
            47.5487213135
           ],
           "legendgroup": "Current Position",
           "lon": [
            -122.0375747681
           ],
           "marker": {
            "color": "#636efa"
           },
           "mode": "markers",
           "name": "Current Position",
           "showlegend": true,
           "subplot": "mapbox",
           "type": "scattermapbox"
          },
          {
           "hovertemplate": "Type=Closest Scheduled Stop<br>timeID_s=26898<br>lat=%{lat}<br>lon=%{lon}<extra></extra>",
           "ids": [
            "Closest Scheduled Stop"
           ],
           "lat": [
            47.5478668
           ],
           "legendgroup": "Closest Scheduled Stop",
           "lon": [
            -122.03598
           ],
           "marker": {
            "color": "#EF553B"
           },
           "mode": "markers",
           "name": "Closest Scheduled Stop",
           "showlegend": true,
           "subplot": "mapbox",
           "type": "scattermapbox"
          }
         ],
         "name": "26898"
        },
        {
         "data": [
          {
           "hovertemplate": "Type=Current Position<br>timeID_s=26912<br>lat=%{lat}<br>lon=%{lon}<extra></extra>",
           "ids": [
            "Current Position"
           ],
           "lat": [
            47.5477867126
           ],
           "legendgroup": "Current Position",
           "lon": [
            -122.0355453491
           ],
           "marker": {
            "color": "#636efa"
           },
           "mode": "markers",
           "name": "Current Position",
           "showlegend": true,
           "subplot": "mapbox",
           "type": "scattermapbox"
          },
          {
           "hovertemplate": "Type=Closest Scheduled Stop<br>timeID_s=26912<br>lat=%{lat}<br>lon=%{lon}<extra></extra>",
           "ids": [
            "Closest Scheduled Stop"
           ],
           "lat": [
            47.5478668
           ],
           "legendgroup": "Closest Scheduled Stop",
           "lon": [
            -122.03598
           ],
           "marker": {
            "color": "#EF553B"
           },
           "mode": "markers",
           "name": "Closest Scheduled Stop",
           "showlegend": true,
           "subplot": "mapbox",
           "type": "scattermapbox"
          }
         ],
         "name": "26912"
        },
        {
         "data": [
          {
           "hovertemplate": "Type=Current Position<br>timeID_s=26947<br>lat=%{lat}<br>lon=%{lon}<extra></extra>",
           "ids": [
            "Current Position"
           ],
           "lat": [
            47.5479164124
           ],
           "legendgroup": "Current Position",
           "lon": [
            -122.0358963013
           ],
           "marker": {
            "color": "#636efa"
           },
           "mode": "markers",
           "name": "Current Position",
           "showlegend": true,
           "subplot": "mapbox",
           "type": "scattermapbox"
          },
          {
           "hovertemplate": "Type=Closest Scheduled Stop<br>timeID_s=26947<br>lat=%{lat}<br>lon=%{lon}<extra></extra>",
           "ids": [
            "Closest Scheduled Stop"
           ],
           "lat": [
            47.5478668
           ],
           "legendgroup": "Closest Scheduled Stop",
           "lon": [
            -122.03598
           ],
           "marker": {
            "color": "#EF553B"
           },
           "mode": "markers",
           "name": "Closest Scheduled Stop",
           "showlegend": true,
           "subplot": "mapbox",
           "type": "scattermapbox"
          }
         ],
         "name": "26947"
        },
        {
         "data": [
          {
           "hovertemplate": "Type=Current Position<br>timeID_s=26969<br>lat=%{lat}<br>lon=%{lon}<extra></extra>",
           "ids": [
            "Current Position"
           ],
           "lat": [
            47.5493965149
           ],
           "legendgroup": "Current Position",
           "lon": [
            -122.0288391113
           ],
           "marker": {
            "color": "#636efa"
           },
           "mode": "markers",
           "name": "Current Position",
           "showlegend": true,
           "subplot": "mapbox",
           "type": "scattermapbox"
          },
          {
           "hovertemplate": "Type=Closest Scheduled Stop<br>timeID_s=26969<br>lat=%{lat}<br>lon=%{lon}<extra></extra>",
           "ids": [
            "Closest Scheduled Stop"
           ],
           "lat": [
            47.5490379
           ],
           "legendgroup": "Closest Scheduled Stop",
           "lon": [
            -122.029434
           ],
           "marker": {
            "color": "#EF553B"
           },
           "mode": "markers",
           "name": "Closest Scheduled Stop",
           "showlegend": true,
           "subplot": "mapbox",
           "type": "scattermapbox"
          }
         ],
         "name": "26969"
        },
        {
         "data": [
          {
           "hovertemplate": "Type=Current Position<br>timeID_s=26991<br>lat=%{lat}<br>lon=%{lon}<extra></extra>",
           "ids": [
            "Current Position"
           ],
           "lat": [
            47.5495109558
           ],
           "legendgroup": "Current Position",
           "lon": [
            -122.0264663696
           ],
           "marker": {
            "color": "#636efa"
           },
           "mode": "markers",
           "name": "Current Position",
           "showlegend": true,
           "subplot": "mapbox",
           "type": "scattermapbox"
          },
          {
           "hovertemplate": "Type=Closest Scheduled Stop<br>timeID_s=26991<br>lat=%{lat}<br>lon=%{lon}<extra></extra>",
           "ids": [
            "Closest Scheduled Stop"
           ],
           "lat": [
            47.5494118
           ],
           "legendgroup": "Closest Scheduled Stop",
           "lon": [
            -122.026855
           ],
           "marker": {
            "color": "#EF553B"
           },
           "mode": "markers",
           "name": "Closest Scheduled Stop",
           "showlegend": true,
           "subplot": "mapbox",
           "type": "scattermapbox"
          }
         ],
         "name": "26991"
        },
        {
         "data": [
          {
           "hovertemplate": "Type=Current Position<br>timeID_s=27021<br>lat=%{lat}<br>lon=%{lon}<extra></extra>",
           "ids": [
            "Current Position"
           ],
           "lat": [
            47.5494728088
           ],
           "legendgroup": "Current Position",
           "lon": [
            -122.0255966187
           ],
           "marker": {
            "color": "#636efa"
           },
           "mode": "markers",
           "name": "Current Position",
           "showlegend": true,
           "subplot": "mapbox",
           "type": "scattermapbox"
          },
          {
           "hovertemplate": "Type=Closest Scheduled Stop<br>timeID_s=27021<br>lat=%{lat}<br>lon=%{lon}<extra></extra>",
           "ids": [
            "Closest Scheduled Stop"
           ],
           "lat": [
            47.5494118
           ],
           "legendgroup": "Closest Scheduled Stop",
           "lon": [
            -122.026855
           ],
           "marker": {
            "color": "#EF553B"
           },
           "mode": "markers",
           "name": "Closest Scheduled Stop",
           "showlegend": true,
           "subplot": "mapbox",
           "type": "scattermapbox"
          }
         ],
         "name": "27021"
        },
        {
         "data": [
          {
           "hovertemplate": "Type=Current Position<br>timeID_s=27051<br>lat=%{lat}<br>lon=%{lon}<extra></extra>",
           "ids": [
            "Current Position"
           ],
           "lat": [
            47.5499572754
           ],
           "legendgroup": "Current Position",
           "lon": [
            -122.0233917236
           ],
           "marker": {
            "color": "#636efa"
           },
           "mode": "markers",
           "name": "Current Position",
           "showlegend": true,
           "subplot": "mapbox",
           "type": "scattermapbox"
          },
          {
           "hovertemplate": "Type=Closest Scheduled Stop<br>timeID_s=27051<br>lat=%{lat}<br>lon=%{lon}<extra></extra>",
           "ids": [
            "Closest Scheduled Stop"
           ],
           "lat": [
            47.5494118
           ],
           "legendgroup": "Closest Scheduled Stop",
           "lon": [
            -122.026855
           ],
           "marker": {
            "color": "#EF553B"
           },
           "mode": "markers",
           "name": "Closest Scheduled Stop",
           "showlegend": true,
           "subplot": "mapbox",
           "type": "scattermapbox"
          }
         ],
         "name": "27051"
        },
        {
         "data": [
          {
           "hovertemplate": "Type=Current Position<br>timeID_s=27111<br>lat=%{lat}<br>lon=%{lon}<extra></extra>",
           "ids": [
            "Current Position"
           ],
           "lat": [
            47.546497345
           ],
           "legendgroup": "Current Position",
           "lon": [
            -122.0201797485
           ],
           "marker": {
            "color": "#636efa"
           },
           "mode": "markers",
           "name": "Current Position",
           "showlegend": true,
           "subplot": "mapbox",
           "type": "scattermapbox"
          },
          {
           "hovertemplate": "Type=Closest Scheduled Stop<br>timeID_s=27111<br>lat=%{lat}<br>lon=%{lon}<extra></extra>",
           "ids": [
            "Closest Scheduled Stop"
           ],
           "lat": [
            47.5459557
           ],
           "legendgroup": "Closest Scheduled Stop",
           "lon": [
            -122.020042
           ],
           "marker": {
            "color": "#EF553B"
           },
           "mode": "markers",
           "name": "Closest Scheduled Stop",
           "showlegend": true,
           "subplot": "mapbox",
           "type": "scattermapbox"
          }
         ],
         "name": "27111"
        },
        {
         "data": [
          {
           "hovertemplate": "Type=Current Position<br>timeID_s=27179<br>lat=%{lat}<br>lon=%{lon}<extra></extra>",
           "ids": [
            "Current Position"
           ],
           "lat": [
            47.5461273193
           ],
           "legendgroup": "Current Position",
           "lon": [
            -122.0193252563
           ],
           "marker": {
            "color": "#636efa"
           },
           "mode": "markers",
           "name": "Current Position",
           "showlegend": true,
           "subplot": "mapbox",
           "type": "scattermapbox"
          },
          {
           "hovertemplate": "Type=Closest Scheduled Stop<br>timeID_s=27179<br>lat=%{lat}<br>lon=%{lon}<extra></extra>",
           "ids": [
            "Closest Scheduled Stop"
           ],
           "lat": [
            47.5459557
           ],
           "legendgroup": "Closest Scheduled Stop",
           "lon": [
            -122.020042
           ],
           "marker": {
            "color": "#EF553B"
           },
           "mode": "markers",
           "name": "Closest Scheduled Stop",
           "showlegend": true,
           "subplot": "mapbox",
           "type": "scattermapbox"
          }
         ],
         "name": "27179"
        },
        {
         "data": [
          {
           "hovertemplate": "Type=Current Position<br>timeID_s=27217<br>lat=%{lat}<br>lon=%{lon}<extra></extra>",
           "ids": [
            "Current Position"
           ],
           "lat": [
            47.5459213257
           ],
           "legendgroup": "Current Position",
           "lon": [
            -122.0199356079
           ],
           "marker": {
            "color": "#636efa"
           },
           "mode": "markers",
           "name": "Current Position",
           "showlegend": true,
           "subplot": "mapbox",
           "type": "scattermapbox"
          },
          {
           "hovertemplate": "Type=Closest Scheduled Stop<br>timeID_s=27217<br>lat=%{lat}<br>lon=%{lon}<extra></extra>",
           "ids": [
            "Closest Scheduled Stop"
           ],
           "lat": [
            47.5459557
           ],
           "legendgroup": "Closest Scheduled Stop",
           "lon": [
            -122.020042
           ],
           "marker": {
            "color": "#EF553B"
           },
           "mode": "markers",
           "name": "Closest Scheduled Stop",
           "showlegend": true,
           "subplot": "mapbox",
           "type": "scattermapbox"
          }
         ],
         "name": "27217"
        },
        {
         "data": [
          {
           "hovertemplate": "Type=Current Position<br>timeID_s=27239<br>lat=%{lat}<br>lon=%{lon}<extra></extra>",
           "ids": [
            "Current Position"
           ],
           "lat": [
            47.5515098572
           ],
           "legendgroup": "Current Position",
           "lon": [
            -122.0220870972
           ],
           "marker": {
            "color": "#636efa"
           },
           "mode": "markers",
           "name": "Current Position",
           "showlegend": true,
           "subplot": "mapbox",
           "type": "scattermapbox"
          },
          {
           "hovertemplate": "Type=Closest Scheduled Stop<br>timeID_s=27239<br>lat=%{lat}<br>lon=%{lon}<extra></extra>",
           "ids": [
            "Closest Scheduled Stop"
           ],
           "lat": [
            47.5554733
           ],
           "legendgroup": "Closest Scheduled Stop",
           "lon": [
            -122.021736
           ],
           "marker": {
            "color": "#EF553B"
           },
           "mode": "markers",
           "name": "Closest Scheduled Stop",
           "showlegend": true,
           "subplot": "mapbox",
           "type": "scattermapbox"
          }
         ],
         "name": "27239"
        },
        {
         "data": [
          {
           "hovertemplate": "Type=Current Position<br>timeID_s=27269<br>lat=%{lat}<br>lon=%{lon}<extra></extra>",
           "ids": [
            "Current Position"
           ],
           "lat": [
            47.5540466309
           ],
           "legendgroup": "Current Position",
           "lon": [
            -122.0209197998
           ],
           "marker": {
            "color": "#636efa"
           },
           "mode": "markers",
           "name": "Current Position",
           "showlegend": true,
           "subplot": "mapbox",
           "type": "scattermapbox"
          },
          {
           "hovertemplate": "Type=Closest Scheduled Stop<br>timeID_s=27269<br>lat=%{lat}<br>lon=%{lon}<extra></extra>",
           "ids": [
            "Closest Scheduled Stop"
           ],
           "lat": [
            47.5554733
           ],
           "legendgroup": "Closest Scheduled Stop",
           "lon": [
            -122.021736
           ],
           "marker": {
            "color": "#EF553B"
           },
           "mode": "markers",
           "name": "Closest Scheduled Stop",
           "showlegend": true,
           "subplot": "mapbox",
           "type": "scattermapbox"
          }
         ],
         "name": "27269"
        },
        {
         "data": [
          {
           "hovertemplate": "Type=Current Position<br>timeID_s=27306<br>lat=%{lat}<br>lon=%{lon}<extra></extra>",
           "ids": [
            "Current Position"
           ],
           "lat": [
            47.5458602905
           ],
           "legendgroup": "Current Position",
           "lon": [
            -122.0199356079
           ],
           "marker": {
            "color": "#636efa"
           },
           "mode": "markers",
           "name": "Current Position",
           "showlegend": true,
           "subplot": "mapbox",
           "type": "scattermapbox"
          },
          {
           "hovertemplate": "Type=Closest Scheduled Stop<br>timeID_s=27306<br>lat=%{lat}<br>lon=%{lon}<extra></extra>",
           "ids": [
            "Closest Scheduled Stop"
           ],
           "lat": [
            47.5459557
           ],
           "legendgroup": "Closest Scheduled Stop",
           "lon": [
            -122.020042
           ],
           "marker": {
            "color": "#EF553B"
           },
           "mode": "markers",
           "name": "Closest Scheduled Stop",
           "showlegend": true,
           "subplot": "mapbox",
           "type": "scattermapbox"
          }
         ],
         "name": "27306"
        },
        {
         "data": [
          {
           "hovertemplate": "Type=Current Position<br>timeID_s=27373<br>lat=%{lat}<br>lon=%{lon}<extra></extra>",
           "ids": [
            "Current Position"
           ],
           "lat": [
            47.5622520447
           ],
           "legendgroup": "Current Position",
           "lon": [
            -122.0249328613
           ],
           "marker": {
            "color": "#636efa"
           },
           "mode": "markers",
           "name": "Current Position",
           "showlegend": true,
           "subplot": "mapbox",
           "type": "scattermapbox"
          },
          {
           "hovertemplate": "Type=Closest Scheduled Stop<br>timeID_s=27373<br>lat=%{lat}<br>lon=%{lon}<extra></extra>",
           "ids": [
            "Closest Scheduled Stop"
           ],
           "lat": [
            47.5616684
           ],
           "legendgroup": "Closest Scheduled Stop",
           "lon": [
            -122.024933
           ],
           "marker": {
            "color": "#EF553B"
           },
           "mode": "markers",
           "name": "Closest Scheduled Stop",
           "showlegend": true,
           "subplot": "mapbox",
           "type": "scattermapbox"
          }
         ],
         "name": "27373"
        },
        {
         "data": [
          {
           "hovertemplate": "Type=Current Position<br>timeID_s=27404<br>lat=%{lat}<br>lon=%{lon}<extra></extra>",
           "ids": [
            "Current Position"
           ],
           "lat": [
            47.5662651062
           ],
           "legendgroup": "Current Position",
           "lon": [
            -122.0253067017
           ],
           "marker": {
            "color": "#636efa"
           },
           "mode": "markers",
           "name": "Current Position",
           "showlegend": true,
           "subplot": "mapbox",
           "type": "scattermapbox"
          },
          {
           "hovertemplate": "Type=Closest Scheduled Stop<br>timeID_s=27404<br>lat=%{lat}<br>lon=%{lon}<extra></extra>",
           "ids": [
            "Closest Scheduled Stop"
           ],
           "lat": [
            47.5678024
           ],
           "legendgroup": "Closest Scheduled Stop",
           "lon": [
            -122.024612
           ],
           "marker": {
            "color": "#EF553B"
           },
           "mode": "markers",
           "name": "Closest Scheduled Stop",
           "showlegend": true,
           "subplot": "mapbox",
           "type": "scattermapbox"
          }
         ],
         "name": "27404"
        },
        {
         "data": [
          {
           "hovertemplate": "Type=Current Position<br>timeID_s=27433<br>lat=%{lat}<br>lon=%{lon}<extra></extra>",
           "ids": [
            "Current Position"
           ],
           "lat": [
            47.5673713684
           ],
           "legendgroup": "Current Position",
           "lon": [
            -122.0249633789
           ],
           "marker": {
            "color": "#636efa"
           },
           "mode": "markers",
           "name": "Current Position",
           "showlegend": true,
           "subplot": "mapbox",
           "type": "scattermapbox"
          },
          {
           "hovertemplate": "Type=Closest Scheduled Stop<br>timeID_s=27433<br>lat=%{lat}<br>lon=%{lon}<extra></extra>",
           "ids": [
            "Closest Scheduled Stop"
           ],
           "lat": [
            47.5678024
           ],
           "legendgroup": "Closest Scheduled Stop",
           "lon": [
            -122.024612
           ],
           "marker": {
            "color": "#EF553B"
           },
           "mode": "markers",
           "name": "Closest Scheduled Stop",
           "showlegend": true,
           "subplot": "mapbox",
           "type": "scattermapbox"
          }
         ],
         "name": "27433"
        },
        {
         "data": [
          {
           "hovertemplate": "Type=Current Position<br>timeID_s=27450<br>lat=%{lat}<br>lon=%{lon}<extra></extra>",
           "ids": [
            "Current Position"
           ],
           "lat": [
            47.5686225891
           ],
           "legendgroup": "Current Position",
           "lon": [
            -122.0242843628
           ],
           "marker": {
            "color": "#636efa"
           },
           "mode": "markers",
           "name": "Current Position",
           "showlegend": true,
           "subplot": "mapbox",
           "type": "scattermapbox"
          },
          {
           "hovertemplate": "Type=Closest Scheduled Stop<br>timeID_s=27450<br>lat=%{lat}<br>lon=%{lon}<extra></extra>",
           "ids": [
            "Closest Scheduled Stop"
           ],
           "lat": [
            47.5678024
           ],
           "legendgroup": "Closest Scheduled Stop",
           "lon": [
            -122.024612
           ],
           "marker": {
            "color": "#EF553B"
           },
           "mode": "markers",
           "name": "Closest Scheduled Stop",
           "showlegend": true,
           "subplot": "mapbox",
           "type": "scattermapbox"
          }
         ],
         "name": "27450"
        },
        {
         "data": [
          {
           "hovertemplate": "Type=Current Position<br>timeID_s=27491<br>lat=%{lat}<br>lon=%{lon}<extra></extra>",
           "ids": [
            "Current Position"
           ],
           "lat": [
            47.5725135803
           ],
           "legendgroup": "Current Position",
           "lon": [
            -122.022102356
           ],
           "marker": {
            "color": "#636efa"
           },
           "mode": "markers",
           "name": "Current Position",
           "showlegend": true,
           "subplot": "mapbox",
           "type": "scattermapbox"
          },
          {
           "hovertemplate": "Type=Closest Scheduled Stop<br>timeID_s=27491<br>lat=%{lat}<br>lon=%{lon}<extra></extra>",
           "ids": [
            "Closest Scheduled Stop"
           ],
           "lat": [
            47.5724907
           ],
           "legendgroup": "Closest Scheduled Stop",
           "lon": [
            -122.022018
           ],
           "marker": {
            "color": "#EF553B"
           },
           "mode": "markers",
           "name": "Closest Scheduled Stop",
           "showlegend": true,
           "subplot": "mapbox",
           "type": "scattermapbox"
          }
         ],
         "name": "27491"
        },
        {
         "data": [
          {
           "hovertemplate": "Type=Current Position<br>timeID_s=27531<br>lat=%{lat}<br>lon=%{lon}<extra></extra>",
           "ids": [
            "Current Position"
           ],
           "lat": [
            47.575504303
           ],
           "legendgroup": "Current Position",
           "lon": [
            -122.0230026245
           ],
           "marker": {
            "color": "#636efa"
           },
           "mode": "markers",
           "name": "Current Position",
           "showlegend": true,
           "subplot": "mapbox",
           "type": "scattermapbox"
          },
          {
           "hovertemplate": "Type=Closest Scheduled Stop<br>timeID_s=27531<br>lat=%{lat}<br>lon=%{lon}<extra></extra>",
           "ids": [
            "Closest Scheduled Stop"
           ],
           "lat": [
            47.5750618
           ],
           "legendgroup": "Closest Scheduled Stop",
           "lon": [
            -122.022331
           ],
           "marker": {
            "color": "#EF553B"
           },
           "mode": "markers",
           "name": "Closest Scheduled Stop",
           "showlegend": true,
           "subplot": "mapbox",
           "type": "scattermapbox"
          }
         ],
         "name": "27531"
        },
        {
         "data": [
          {
           "hovertemplate": "Type=Current Position<br>timeID_s=27591<br>lat=%{lat}<br>lon=%{lon}<extra></extra>",
           "ids": [
            "Current Position"
           ],
           "lat": [
            47.5792922974
           ],
           "legendgroup": "Current Position",
           "lon": [
            -122.0288925171
           ],
           "marker": {
            "color": "#636efa"
           },
           "mode": "markers",
           "name": "Current Position",
           "showlegend": true,
           "subplot": "mapbox",
           "type": "scattermapbox"
          },
          {
           "hovertemplate": "Type=Closest Scheduled Stop<br>timeID_s=27591<br>lat=%{lat}<br>lon=%{lon}<extra></extra>",
           "ids": [
            "Closest Scheduled Stop"
           ],
           "lat": [
            47.5813675
           ],
           "legendgroup": "Closest Scheduled Stop",
           "lon": [
            -122.032608
           ],
           "marker": {
            "color": "#EF553B"
           },
           "mode": "markers",
           "name": "Closest Scheduled Stop",
           "showlegend": true,
           "subplot": "mapbox",
           "type": "scattermapbox"
          }
         ],
         "name": "27591"
        }
       ],
       "layout": {
        "legend": {
         "title": {
          "text": "Type"
         },
         "tracegroupgap": 0
        },
        "mapbox": {
         "accesstoken": "pk.eyJ1IjoiemFja2FlbW1lciIsImEiOiJjbDJpYmFzYW4wMTZlM2JwYzJoMHB1Z3NhIn0.djPywnzqtsITNwGe4-AZ0A",
         "center": {
          "lat": 47.553093942662905,
          "lon": -122.03580276516125
         },
         "domain": {
          "x": [
           0,
           1
          ],
          "y": [
           0,
           1
          ]
         },
         "zoom": 8
        },
        "margin": {
         "t": 60
        },
        "sliders": [
         {
          "active": 0,
          "currentvalue": {
           "prefix": "timeID_s="
          },
          "len": 0.9,
          "pad": {
           "b": 10,
           "t": 60
          },
          "steps": [
           {
            "args": [
             [
              "26524"
             ],
             {
              "frame": {
               "duration": 0,
               "redraw": true
              },
              "fromcurrent": true,
              "mode": "immediate",
              "transition": {
               "duration": 0,
               "easing": "linear"
              }
             }
            ],
            "label": "26524",
            "method": "animate"
           },
           {
            "args": [
             [
              "26554"
             ],
             {
              "frame": {
               "duration": 0,
               "redraw": true
              },
              "fromcurrent": true,
              "mode": "immediate",
              "transition": {
               "duration": 0,
               "easing": "linear"
              }
             }
            ],
            "label": "26554",
            "method": "animate"
           },
           {
            "args": [
             [
              "26586"
             ],
             {
              "frame": {
               "duration": 0,
               "redraw": true
              },
              "fromcurrent": true,
              "mode": "immediate",
              "transition": {
               "duration": 0,
               "easing": "linear"
              }
             }
            ],
            "label": "26586",
            "method": "animate"
           },
           {
            "args": [
             [
              "26614"
             ],
             {
              "frame": {
               "duration": 0,
               "redraw": true
              },
              "fromcurrent": true,
              "mode": "immediate",
              "transition": {
               "duration": 0,
               "easing": "linear"
              }
             }
            ],
            "label": "26614",
            "method": "animate"
           },
           {
            "args": [
             [
              "26644"
             ],
             {
              "frame": {
               "duration": 0,
               "redraw": true
              },
              "fromcurrent": true,
              "mode": "immediate",
              "transition": {
               "duration": 0,
               "easing": "linear"
              }
             }
            ],
            "label": "26644",
            "method": "animate"
           },
           {
            "args": [
             [
              "26677"
             ],
             {
              "frame": {
               "duration": 0,
               "redraw": true
              },
              "fromcurrent": true,
              "mode": "immediate",
              "transition": {
               "duration": 0,
               "easing": "linear"
              }
             }
            ],
            "label": "26677",
            "method": "animate"
           },
           {
            "args": [
             [
              "26707"
             ],
             {
              "frame": {
               "duration": 0,
               "redraw": true
              },
              "fromcurrent": true,
              "mode": "immediate",
              "transition": {
               "duration": 0,
               "easing": "linear"
              }
             }
            ],
            "label": "26707",
            "method": "animate"
           },
           {
            "args": [
             [
              "26748"
             ],
             {
              "frame": {
               "duration": 0,
               "redraw": true
              },
              "fromcurrent": true,
              "mode": "immediate",
              "transition": {
               "duration": 0,
               "easing": "linear"
              }
             }
            ],
            "label": "26748",
            "method": "animate"
           },
           {
            "args": [
             [
              "26774"
             ],
             {
              "frame": {
               "duration": 0,
               "redraw": true
              },
              "fromcurrent": true,
              "mode": "immediate",
              "transition": {
               "duration": 0,
               "easing": "linear"
              }
             }
            ],
            "label": "26774",
            "method": "animate"
           },
           {
            "args": [
             [
              "26834"
             ],
             {
              "frame": {
               "duration": 0,
               "redraw": true
              },
              "fromcurrent": true,
              "mode": "immediate",
              "transition": {
               "duration": 0,
               "easing": "linear"
              }
             }
            ],
            "label": "26834",
            "method": "animate"
           },
           {
            "args": [
             [
              "26856"
             ],
             {
              "frame": {
               "duration": 0,
               "redraw": true
              },
              "fromcurrent": true,
              "mode": "immediate",
              "transition": {
               "duration": 0,
               "easing": "linear"
              }
             }
            ],
            "label": "26856",
            "method": "animate"
           },
           {
            "args": [
             [
              "26898"
             ],
             {
              "frame": {
               "duration": 0,
               "redraw": true
              },
              "fromcurrent": true,
              "mode": "immediate",
              "transition": {
               "duration": 0,
               "easing": "linear"
              }
             }
            ],
            "label": "26898",
            "method": "animate"
           },
           {
            "args": [
             [
              "26912"
             ],
             {
              "frame": {
               "duration": 0,
               "redraw": true
              },
              "fromcurrent": true,
              "mode": "immediate",
              "transition": {
               "duration": 0,
               "easing": "linear"
              }
             }
            ],
            "label": "26912",
            "method": "animate"
           },
           {
            "args": [
             [
              "26947"
             ],
             {
              "frame": {
               "duration": 0,
               "redraw": true
              },
              "fromcurrent": true,
              "mode": "immediate",
              "transition": {
               "duration": 0,
               "easing": "linear"
              }
             }
            ],
            "label": "26947",
            "method": "animate"
           },
           {
            "args": [
             [
              "26969"
             ],
             {
              "frame": {
               "duration": 0,
               "redraw": true
              },
              "fromcurrent": true,
              "mode": "immediate",
              "transition": {
               "duration": 0,
               "easing": "linear"
              }
             }
            ],
            "label": "26969",
            "method": "animate"
           },
           {
            "args": [
             [
              "26991"
             ],
             {
              "frame": {
               "duration": 0,
               "redraw": true
              },
              "fromcurrent": true,
              "mode": "immediate",
              "transition": {
               "duration": 0,
               "easing": "linear"
              }
             }
            ],
            "label": "26991",
            "method": "animate"
           },
           {
            "args": [
             [
              "27021"
             ],
             {
              "frame": {
               "duration": 0,
               "redraw": true
              },
              "fromcurrent": true,
              "mode": "immediate",
              "transition": {
               "duration": 0,
               "easing": "linear"
              }
             }
            ],
            "label": "27021",
            "method": "animate"
           },
           {
            "args": [
             [
              "27051"
             ],
             {
              "frame": {
               "duration": 0,
               "redraw": true
              },
              "fromcurrent": true,
              "mode": "immediate",
              "transition": {
               "duration": 0,
               "easing": "linear"
              }
             }
            ],
            "label": "27051",
            "method": "animate"
           },
           {
            "args": [
             [
              "27111"
             ],
             {
              "frame": {
               "duration": 0,
               "redraw": true
              },
              "fromcurrent": true,
              "mode": "immediate",
              "transition": {
               "duration": 0,
               "easing": "linear"
              }
             }
            ],
            "label": "27111",
            "method": "animate"
           },
           {
            "args": [
             [
              "27179"
             ],
             {
              "frame": {
               "duration": 0,
               "redraw": true
              },
              "fromcurrent": true,
              "mode": "immediate",
              "transition": {
               "duration": 0,
               "easing": "linear"
              }
             }
            ],
            "label": "27179",
            "method": "animate"
           },
           {
            "args": [
             [
              "27217"
             ],
             {
              "frame": {
               "duration": 0,
               "redraw": true
              },
              "fromcurrent": true,
              "mode": "immediate",
              "transition": {
               "duration": 0,
               "easing": "linear"
              }
             }
            ],
            "label": "27217",
            "method": "animate"
           },
           {
            "args": [
             [
              "27239"
             ],
             {
              "frame": {
               "duration": 0,
               "redraw": true
              },
              "fromcurrent": true,
              "mode": "immediate",
              "transition": {
               "duration": 0,
               "easing": "linear"
              }
             }
            ],
            "label": "27239",
            "method": "animate"
           },
           {
            "args": [
             [
              "27269"
             ],
             {
              "frame": {
               "duration": 0,
               "redraw": true
              },
              "fromcurrent": true,
              "mode": "immediate",
              "transition": {
               "duration": 0,
               "easing": "linear"
              }
             }
            ],
            "label": "27269",
            "method": "animate"
           },
           {
            "args": [
             [
              "27306"
             ],
             {
              "frame": {
               "duration": 0,
               "redraw": true
              },
              "fromcurrent": true,
              "mode": "immediate",
              "transition": {
               "duration": 0,
               "easing": "linear"
              }
             }
            ],
            "label": "27306",
            "method": "animate"
           },
           {
            "args": [
             [
              "27373"
             ],
             {
              "frame": {
               "duration": 0,
               "redraw": true
              },
              "fromcurrent": true,
              "mode": "immediate",
              "transition": {
               "duration": 0,
               "easing": "linear"
              }
             }
            ],
            "label": "27373",
            "method": "animate"
           },
           {
            "args": [
             [
              "27404"
             ],
             {
              "frame": {
               "duration": 0,
               "redraw": true
              },
              "fromcurrent": true,
              "mode": "immediate",
              "transition": {
               "duration": 0,
               "easing": "linear"
              }
             }
            ],
            "label": "27404",
            "method": "animate"
           },
           {
            "args": [
             [
              "27433"
             ],
             {
              "frame": {
               "duration": 0,
               "redraw": true
              },
              "fromcurrent": true,
              "mode": "immediate",
              "transition": {
               "duration": 0,
               "easing": "linear"
              }
             }
            ],
            "label": "27433",
            "method": "animate"
           },
           {
            "args": [
             [
              "27450"
             ],
             {
              "frame": {
               "duration": 0,
               "redraw": true
              },
              "fromcurrent": true,
              "mode": "immediate",
              "transition": {
               "duration": 0,
               "easing": "linear"
              }
             }
            ],
            "label": "27450",
            "method": "animate"
           },
           {
            "args": [
             [
              "27491"
             ],
             {
              "frame": {
               "duration": 0,
               "redraw": true
              },
              "fromcurrent": true,
              "mode": "immediate",
              "transition": {
               "duration": 0,
               "easing": "linear"
              }
             }
            ],
            "label": "27491",
            "method": "animate"
           },
           {
            "args": [
             [
              "27531"
             ],
             {
              "frame": {
               "duration": 0,
               "redraw": true
              },
              "fromcurrent": true,
              "mode": "immediate",
              "transition": {
               "duration": 0,
               "easing": "linear"
              }
             }
            ],
            "label": "27531",
            "method": "animate"
           },
           {
            "args": [
             [
              "27591"
             ],
             {
              "frame": {
               "duration": 0,
               "redraw": true
              },
              "fromcurrent": true,
              "mode": "immediate",
              "transition": {
               "duration": 0,
               "easing": "linear"
              }
             }
            ],
            "label": "27591",
            "method": "animate"
           }
          ],
          "x": 0.1,
          "xanchor": "left",
          "y": 0,
          "yanchor": "top"
         }
        ],
        "template": {
         "data": {
          "bar": [
           {
            "error_x": {
             "color": "#2a3f5f"
            },
            "error_y": {
             "color": "#2a3f5f"
            },
            "marker": {
             "line": {
              "color": "#E5ECF6",
              "width": 0.5
             },
             "pattern": {
              "fillmode": "overlay",
              "size": 10,
              "solidity": 0.2
             }
            },
            "type": "bar"
           }
          ],
          "barpolar": [
           {
            "marker": {
             "line": {
              "color": "#E5ECF6",
              "width": 0.5
             },
             "pattern": {
              "fillmode": "overlay",
              "size": 10,
              "solidity": 0.2
             }
            },
            "type": "barpolar"
           }
          ],
          "carpet": [
           {
            "aaxis": {
             "endlinecolor": "#2a3f5f",
             "gridcolor": "white",
             "linecolor": "white",
             "minorgridcolor": "white",
             "startlinecolor": "#2a3f5f"
            },
            "baxis": {
             "endlinecolor": "#2a3f5f",
             "gridcolor": "white",
             "linecolor": "white",
             "minorgridcolor": "white",
             "startlinecolor": "#2a3f5f"
            },
            "type": "carpet"
           }
          ],
          "choropleth": [
           {
            "colorbar": {
             "outlinewidth": 0,
             "ticks": ""
            },
            "type": "choropleth"
           }
          ],
          "contour": [
           {
            "colorbar": {
             "outlinewidth": 0,
             "ticks": ""
            },
            "colorscale": [
             [
              0,
              "#0d0887"
             ],
             [
              0.1111111111111111,
              "#46039f"
             ],
             [
              0.2222222222222222,
              "#7201a8"
             ],
             [
              0.3333333333333333,
              "#9c179e"
             ],
             [
              0.4444444444444444,
              "#bd3786"
             ],
             [
              0.5555555555555556,
              "#d8576b"
             ],
             [
              0.6666666666666666,
              "#ed7953"
             ],
             [
              0.7777777777777778,
              "#fb9f3a"
             ],
             [
              0.8888888888888888,
              "#fdca26"
             ],
             [
              1,
              "#f0f921"
             ]
            ],
            "type": "contour"
           }
          ],
          "contourcarpet": [
           {
            "colorbar": {
             "outlinewidth": 0,
             "ticks": ""
            },
            "type": "contourcarpet"
           }
          ],
          "heatmap": [
           {
            "colorbar": {
             "outlinewidth": 0,
             "ticks": ""
            },
            "colorscale": [
             [
              0,
              "#0d0887"
             ],
             [
              0.1111111111111111,
              "#46039f"
             ],
             [
              0.2222222222222222,
              "#7201a8"
             ],
             [
              0.3333333333333333,
              "#9c179e"
             ],
             [
              0.4444444444444444,
              "#bd3786"
             ],
             [
              0.5555555555555556,
              "#d8576b"
             ],
             [
              0.6666666666666666,
              "#ed7953"
             ],
             [
              0.7777777777777778,
              "#fb9f3a"
             ],
             [
              0.8888888888888888,
              "#fdca26"
             ],
             [
              1,
              "#f0f921"
             ]
            ],
            "type": "heatmap"
           }
          ],
          "heatmapgl": [
           {
            "colorbar": {
             "outlinewidth": 0,
             "ticks": ""
            },
            "colorscale": [
             [
              0,
              "#0d0887"
             ],
             [
              0.1111111111111111,
              "#46039f"
             ],
             [
              0.2222222222222222,
              "#7201a8"
             ],
             [
              0.3333333333333333,
              "#9c179e"
             ],
             [
              0.4444444444444444,
              "#bd3786"
             ],
             [
              0.5555555555555556,
              "#d8576b"
             ],
             [
              0.6666666666666666,
              "#ed7953"
             ],
             [
              0.7777777777777778,
              "#fb9f3a"
             ],
             [
              0.8888888888888888,
              "#fdca26"
             ],
             [
              1,
              "#f0f921"
             ]
            ],
            "type": "heatmapgl"
           }
          ],
          "histogram": [
           {
            "marker": {
             "pattern": {
              "fillmode": "overlay",
              "size": 10,
              "solidity": 0.2
             }
            },
            "type": "histogram"
           }
          ],
          "histogram2d": [
           {
            "colorbar": {
             "outlinewidth": 0,
             "ticks": ""
            },
            "colorscale": [
             [
              0,
              "#0d0887"
             ],
             [
              0.1111111111111111,
              "#46039f"
             ],
             [
              0.2222222222222222,
              "#7201a8"
             ],
             [
              0.3333333333333333,
              "#9c179e"
             ],
             [
              0.4444444444444444,
              "#bd3786"
             ],
             [
              0.5555555555555556,
              "#d8576b"
             ],
             [
              0.6666666666666666,
              "#ed7953"
             ],
             [
              0.7777777777777778,
              "#fb9f3a"
             ],
             [
              0.8888888888888888,
              "#fdca26"
             ],
             [
              1,
              "#f0f921"
             ]
            ],
            "type": "histogram2d"
           }
          ],
          "histogram2dcontour": [
           {
            "colorbar": {
             "outlinewidth": 0,
             "ticks": ""
            },
            "colorscale": [
             [
              0,
              "#0d0887"
             ],
             [
              0.1111111111111111,
              "#46039f"
             ],
             [
              0.2222222222222222,
              "#7201a8"
             ],
             [
              0.3333333333333333,
              "#9c179e"
             ],
             [
              0.4444444444444444,
              "#bd3786"
             ],
             [
              0.5555555555555556,
              "#d8576b"
             ],
             [
              0.6666666666666666,
              "#ed7953"
             ],
             [
              0.7777777777777778,
              "#fb9f3a"
             ],
             [
              0.8888888888888888,
              "#fdca26"
             ],
             [
              1,
              "#f0f921"
             ]
            ],
            "type": "histogram2dcontour"
           }
          ],
          "mesh3d": [
           {
            "colorbar": {
             "outlinewidth": 0,
             "ticks": ""
            },
            "type": "mesh3d"
           }
          ],
          "parcoords": [
           {
            "line": {
             "colorbar": {
              "outlinewidth": 0,
              "ticks": ""
             }
            },
            "type": "parcoords"
           }
          ],
          "pie": [
           {
            "automargin": true,
            "type": "pie"
           }
          ],
          "scatter": [
           {
            "fillpattern": {
             "fillmode": "overlay",
             "size": 10,
             "solidity": 0.2
            },
            "type": "scatter"
           }
          ],
          "scatter3d": [
           {
            "line": {
             "colorbar": {
              "outlinewidth": 0,
              "ticks": ""
             }
            },
            "marker": {
             "colorbar": {
              "outlinewidth": 0,
              "ticks": ""
             }
            },
            "type": "scatter3d"
           }
          ],
          "scattercarpet": [
           {
            "marker": {
             "colorbar": {
              "outlinewidth": 0,
              "ticks": ""
             }
            },
            "type": "scattercarpet"
           }
          ],
          "scattergeo": [
           {
            "marker": {
             "colorbar": {
              "outlinewidth": 0,
              "ticks": ""
             }
            },
            "type": "scattergeo"
           }
          ],
          "scattergl": [
           {
            "marker": {
             "colorbar": {
              "outlinewidth": 0,
              "ticks": ""
             }
            },
            "type": "scattergl"
           }
          ],
          "scattermapbox": [
           {
            "marker": {
             "colorbar": {
              "outlinewidth": 0,
              "ticks": ""
             }
            },
            "type": "scattermapbox"
           }
          ],
          "scatterpolar": [
           {
            "marker": {
             "colorbar": {
              "outlinewidth": 0,
              "ticks": ""
             }
            },
            "type": "scatterpolar"
           }
          ],
          "scatterpolargl": [
           {
            "marker": {
             "colorbar": {
              "outlinewidth": 0,
              "ticks": ""
             }
            },
            "type": "scatterpolargl"
           }
          ],
          "scatterternary": [
           {
            "marker": {
             "colorbar": {
              "outlinewidth": 0,
              "ticks": ""
             }
            },
            "type": "scatterternary"
           }
          ],
          "surface": [
           {
            "colorbar": {
             "outlinewidth": 0,
             "ticks": ""
            },
            "colorscale": [
             [
              0,
              "#0d0887"
             ],
             [
              0.1111111111111111,
              "#46039f"
             ],
             [
              0.2222222222222222,
              "#7201a8"
             ],
             [
              0.3333333333333333,
              "#9c179e"
             ],
             [
              0.4444444444444444,
              "#bd3786"
             ],
             [
              0.5555555555555556,
              "#d8576b"
             ],
             [
              0.6666666666666666,
              "#ed7953"
             ],
             [
              0.7777777777777778,
              "#fb9f3a"
             ],
             [
              0.8888888888888888,
              "#fdca26"
             ],
             [
              1,
              "#f0f921"
             ]
            ],
            "type": "surface"
           }
          ],
          "table": [
           {
            "cells": {
             "fill": {
              "color": "#EBF0F8"
             },
             "line": {
              "color": "white"
             }
            },
            "header": {
             "fill": {
              "color": "#C8D4E3"
             },
             "line": {
              "color": "white"
             }
            },
            "type": "table"
           }
          ]
         },
         "layout": {
          "annotationdefaults": {
           "arrowcolor": "#2a3f5f",
           "arrowhead": 0,
           "arrowwidth": 1
          },
          "autotypenumbers": "strict",
          "coloraxis": {
           "colorbar": {
            "outlinewidth": 0,
            "ticks": ""
           }
          },
          "colorscale": {
           "diverging": [
            [
             0,
             "#8e0152"
            ],
            [
             0.1,
             "#c51b7d"
            ],
            [
             0.2,
             "#de77ae"
            ],
            [
             0.3,
             "#f1b6da"
            ],
            [
             0.4,
             "#fde0ef"
            ],
            [
             0.5,
             "#f7f7f7"
            ],
            [
             0.6,
             "#e6f5d0"
            ],
            [
             0.7,
             "#b8e186"
            ],
            [
             0.8,
             "#7fbc41"
            ],
            [
             0.9,
             "#4d9221"
            ],
            [
             1,
             "#276419"
            ]
           ],
           "sequential": [
            [
             0,
             "#0d0887"
            ],
            [
             0.1111111111111111,
             "#46039f"
            ],
            [
             0.2222222222222222,
             "#7201a8"
            ],
            [
             0.3333333333333333,
             "#9c179e"
            ],
            [
             0.4444444444444444,
             "#bd3786"
            ],
            [
             0.5555555555555556,
             "#d8576b"
            ],
            [
             0.6666666666666666,
             "#ed7953"
            ],
            [
             0.7777777777777778,
             "#fb9f3a"
            ],
            [
             0.8888888888888888,
             "#fdca26"
            ],
            [
             1,
             "#f0f921"
            ]
           ],
           "sequentialminus": [
            [
             0,
             "#0d0887"
            ],
            [
             0.1111111111111111,
             "#46039f"
            ],
            [
             0.2222222222222222,
             "#7201a8"
            ],
            [
             0.3333333333333333,
             "#9c179e"
            ],
            [
             0.4444444444444444,
             "#bd3786"
            ],
            [
             0.5555555555555556,
             "#d8576b"
            ],
            [
             0.6666666666666666,
             "#ed7953"
            ],
            [
             0.7777777777777778,
             "#fb9f3a"
            ],
            [
             0.8888888888888888,
             "#fdca26"
            ],
            [
             1,
             "#f0f921"
            ]
           ]
          },
          "colorway": [
           "#636efa",
           "#EF553B",
           "#00cc96",
           "#ab63fa",
           "#FFA15A",
           "#19d3f3",
           "#FF6692",
           "#B6E880",
           "#FF97FF",
           "#FECB52"
          ],
          "font": {
           "color": "#2a3f5f"
          },
          "geo": {
           "bgcolor": "white",
           "lakecolor": "white",
           "landcolor": "#E5ECF6",
           "showlakes": true,
           "showland": true,
           "subunitcolor": "white"
          },
          "hoverlabel": {
           "align": "left"
          },
          "hovermode": "closest",
          "mapbox": {
           "style": "light"
          },
          "paper_bgcolor": "white",
          "plot_bgcolor": "#E5ECF6",
          "polar": {
           "angularaxis": {
            "gridcolor": "white",
            "linecolor": "white",
            "ticks": ""
           },
           "bgcolor": "#E5ECF6",
           "radialaxis": {
            "gridcolor": "white",
            "linecolor": "white",
            "ticks": ""
           }
          },
          "scene": {
           "xaxis": {
            "backgroundcolor": "#E5ECF6",
            "gridcolor": "white",
            "gridwidth": 2,
            "linecolor": "white",
            "showbackground": true,
            "ticks": "",
            "zerolinecolor": "white"
           },
           "yaxis": {
            "backgroundcolor": "#E5ECF6",
            "gridcolor": "white",
            "gridwidth": 2,
            "linecolor": "white",
            "showbackground": true,
            "ticks": "",
            "zerolinecolor": "white"
           },
           "zaxis": {
            "backgroundcolor": "#E5ECF6",
            "gridcolor": "white",
            "gridwidth": 2,
            "linecolor": "white",
            "showbackground": true,
            "ticks": "",
            "zerolinecolor": "white"
           }
          },
          "shapedefaults": {
           "line": {
            "color": "#2a3f5f"
           }
          },
          "ternary": {
           "aaxis": {
            "gridcolor": "white",
            "linecolor": "white",
            "ticks": ""
           },
           "baxis": {
            "gridcolor": "white",
            "linecolor": "white",
            "ticks": ""
           },
           "bgcolor": "#E5ECF6",
           "caxis": {
            "gridcolor": "white",
            "linecolor": "white",
            "ticks": ""
           }
          },
          "title": {
           "x": 0.05
          },
          "xaxis": {
           "automargin": true,
           "gridcolor": "white",
           "linecolor": "white",
           "ticks": "",
           "title": {
            "standoff": 15
           },
           "zerolinecolor": "white",
           "zerolinewidth": 2
          },
          "yaxis": {
           "automargin": true,
           "gridcolor": "white",
           "linecolor": "white",
           "ticks": "",
           "title": {
            "standoff": 15
           },
           "zerolinecolor": "white",
           "zerolinewidth": 2
          }
         }
        },
        "updatemenus": [
         {
          "buttons": [
           {
            "args": [
             null,
             {
              "frame": {
               "duration": 500,
               "redraw": true
              },
              "fromcurrent": true,
              "mode": "immediate",
              "transition": {
               "duration": 500,
               "easing": "linear"
              }
             }
            ],
            "label": "&#9654;",
            "method": "animate"
           },
           {
            "args": [
             [
              null
             ],
             {
              "frame": {
               "duration": 0,
               "redraw": true
              },
              "fromcurrent": true,
              "mode": "immediate",
              "transition": {
               "duration": 0,
               "easing": "linear"
              }
             }
            ],
            "label": "&#9724;",
            "method": "animate"
           }
          ],
          "direction": "left",
          "pad": {
           "r": 10,
           "t": 70
          },
          "showactive": false,
          "type": "buttons",
          "x": 0.1,
          "xanchor": "right",
          "y": 0,
          "yanchor": "top"
         }
        ]
       }
      }
     },
     "metadata": {},
     "output_type": "display_data"
    }
   ],
   "source": [
    "px.set_mapbox_access_token(os.getenv('MAPBOX_TOKEN'))\n",
    "fig = px.scatter_mapbox(\n",
    "    plot_data,\n",
    "    lon=\"lon\",\n",
    "    lat=\"lat\",\n",
    "    color=\"Type\",\n",
    "    animation_frame=\"timeID_s\",\n",
    "    animation_group=\"Type\"\n",
    ")\n",
    "fig.show()"
   ]
  },
  {
   "cell_type": "code",
   "execution_count": 12,
   "metadata": {},
   "outputs": [
    {
     "data": {
      "application/vnd.plotly.v1+json": {
       "config": {
        "plotlyServerURL": "https://plot.ly"
       },
       "data": [
        {
         "hovertemplate": "Type=Current Position<br>timeID_s=26524<br>lon=%{x}<br>lat=%{y}<extra></extra>",
         "ids": [
          "Current Position"
         ],
         "legendgroup": "Current Position",
         "marker": {
          "color": "#636efa",
          "symbol": "circle"
         },
         "mode": "markers",
         "name": "Current Position",
         "orientation": "v",
         "showlegend": true,
         "type": "scatter",
         "x": [
          -122.0628356934
         ],
         "xaxis": "x",
         "y": [
          47.5426521301
         ],
         "yaxis": "y"
        },
        {
         "hovertemplate": "Type=Closest Scheduled Stop<br>timeID_s=26524<br>lon=%{x}<br>lat=%{y}<extra></extra>",
         "ids": [
          "Closest Scheduled Stop"
         ],
         "legendgroup": "Closest Scheduled Stop",
         "marker": {
          "color": "#EF553B",
          "symbol": "circle"
         },
         "mode": "markers",
         "name": "Closest Scheduled Stop",
         "orientation": "v",
         "showlegend": true,
         "type": "scatter",
         "x": [
          -122.062225
         ],
         "xaxis": "x",
         "y": [
          47.5422516
         ],
         "yaxis": "y"
        }
       ],
       "frames": [
        {
         "data": [
          {
           "hovertemplate": "Type=Current Position<br>timeID_s=26524<br>lon=%{x}<br>lat=%{y}<extra></extra>",
           "ids": [
            "Current Position"
           ],
           "legendgroup": "Current Position",
           "marker": {
            "color": "#636efa",
            "symbol": "circle"
           },
           "mode": "markers",
           "name": "Current Position",
           "orientation": "v",
           "showlegend": true,
           "type": "scatter",
           "x": [
            -122.0628356934
           ],
           "xaxis": "x",
           "y": [
            47.5426521301
           ],
           "yaxis": "y"
          },
          {
           "hovertemplate": "Type=Closest Scheduled Stop<br>timeID_s=26524<br>lon=%{x}<br>lat=%{y}<extra></extra>",
           "ids": [
            "Closest Scheduled Stop"
           ],
           "legendgroup": "Closest Scheduled Stop",
           "marker": {
            "color": "#EF553B",
            "symbol": "circle"
           },
           "mode": "markers",
           "name": "Closest Scheduled Stop",
           "orientation": "v",
           "showlegend": true,
           "type": "scatter",
           "x": [
            -122.062225
           ],
           "xaxis": "x",
           "y": [
            47.5422516
           ],
           "yaxis": "y"
          }
         ],
         "name": "26524"
        },
        {
         "data": [
          {
           "hovertemplate": "Type=Current Position<br>timeID_s=26554<br>lon=%{x}<br>lat=%{y}<extra></extra>",
           "ids": [
            "Current Position"
           ],
           "legendgroup": "Current Position",
           "marker": {
            "color": "#636efa",
            "symbol": "circle"
           },
           "mode": "markers",
           "name": "Current Position",
           "orientation": "v",
           "showlegend": true,
           "type": "scatter",
           "x": [
            -122.0628128052
           ],
           "xaxis": "x",
           "y": [
            47.5436210632
           ],
           "yaxis": "y"
          },
          {
           "hovertemplate": "Type=Closest Scheduled Stop<br>timeID_s=26554<br>lon=%{x}<br>lat=%{y}<extra></extra>",
           "ids": [
            "Closest Scheduled Stop"
           ],
           "legendgroup": "Closest Scheduled Stop",
           "marker": {
            "color": "#EF553B",
            "symbol": "circle"
           },
           "mode": "markers",
           "name": "Closest Scheduled Stop",
           "orientation": "v",
           "showlegend": true,
           "type": "scatter",
           "x": [
            -122.062225
           ],
           "xaxis": "x",
           "y": [
            47.5422516
           ],
           "yaxis": "y"
          }
         ],
         "name": "26554"
        },
        {
         "data": [
          {
           "hovertemplate": "Type=Current Position<br>timeID_s=26586<br>lon=%{x}<br>lat=%{y}<extra></extra>",
           "ids": [
            "Current Position"
           ],
           "legendgroup": "Current Position",
           "marker": {
            "color": "#636efa",
            "symbol": "circle"
           },
           "mode": "markers",
           "name": "Current Position",
           "orientation": "v",
           "showlegend": true,
           "type": "scatter",
           "x": [
            -122.0621261597
           ],
           "xaxis": "x",
           "y": [
            47.5422019958
           ],
           "yaxis": "y"
          },
          {
           "hovertemplate": "Type=Closest Scheduled Stop<br>timeID_s=26586<br>lon=%{x}<br>lat=%{y}<extra></extra>",
           "ids": [
            "Closest Scheduled Stop"
           ],
           "legendgroup": "Closest Scheduled Stop",
           "marker": {
            "color": "#EF553B",
            "symbol": "circle"
           },
           "mode": "markers",
           "name": "Closest Scheduled Stop",
           "orientation": "v",
           "showlegend": true,
           "type": "scatter",
           "x": [
            -122.062225
           ],
           "xaxis": "x",
           "y": [
            47.5422516
           ],
           "yaxis": "y"
          }
         ],
         "name": "26586"
        },
        {
         "data": [
          {
           "hovertemplate": "Type=Current Position<br>timeID_s=26614<br>lon=%{x}<br>lat=%{y}<extra></extra>",
           "ids": [
            "Current Position"
           ],
           "legendgroup": "Current Position",
           "marker": {
            "color": "#636efa",
            "symbol": "circle"
           },
           "mode": "markers",
           "name": "Current Position",
           "orientation": "v",
           "showlegend": true,
           "type": "scatter",
           "x": [
            -122.0618133545
           ],
           "xaxis": "x",
           "y": [
            47.5477867126
           ],
           "yaxis": "y"
          },
          {
           "hovertemplate": "Type=Closest Scheduled Stop<br>timeID_s=26614<br>lon=%{x}<br>lat=%{y}<extra></extra>",
           "ids": [
            "Closest Scheduled Stop"
           ],
           "legendgroup": "Closest Scheduled Stop",
           "marker": {
            "color": "#EF553B",
            "symbol": "circle"
           },
           "mode": "markers",
           "name": "Closest Scheduled Stop",
           "orientation": "v",
           "showlegend": true,
           "type": "scatter",
           "x": [
            -122.062225
           ],
           "xaxis": "x",
           "y": [
            47.5422516
           ],
           "yaxis": "y"
          }
         ],
         "name": "26614"
        },
        {
         "data": [
          {
           "hovertemplate": "Type=Current Position<br>timeID_s=26644<br>lon=%{x}<br>lat=%{y}<extra></extra>",
           "ids": [
            "Current Position"
           ],
           "legendgroup": "Current Position",
           "marker": {
            "color": "#636efa",
            "symbol": "circle"
           },
           "mode": "markers",
           "name": "Current Position",
           "orientation": "v",
           "showlegend": true,
           "type": "scatter",
           "x": [
            -122.0614547729
           ],
           "xaxis": "x",
           "y": [
            47.5482139587
           ],
           "yaxis": "y"
          },
          {
           "hovertemplate": "Type=Closest Scheduled Stop<br>timeID_s=26644<br>lon=%{x}<br>lat=%{y}<extra></extra>",
           "ids": [
            "Closest Scheduled Stop"
           ],
           "legendgroup": "Closest Scheduled Stop",
           "marker": {
            "color": "#EF553B",
            "symbol": "circle"
           },
           "mode": "markers",
           "name": "Closest Scheduled Stop",
           "orientation": "v",
           "showlegend": true,
           "type": "scatter",
           "x": [
            -122.062225
           ],
           "xaxis": "x",
           "y": [
            47.5422516
           ],
           "yaxis": "y"
          }
         ],
         "name": "26644"
        },
        {
         "data": [
          {
           "hovertemplate": "Type=Current Position<br>timeID_s=26677<br>lon=%{x}<br>lat=%{y}<extra></extra>",
           "ids": [
            "Current Position"
           ],
           "legendgroup": "Current Position",
           "marker": {
            "color": "#636efa",
            "symbol": "circle"
           },
           "mode": "markers",
           "name": "Current Position",
           "orientation": "v",
           "showlegend": true,
           "type": "scatter",
           "x": [
            -122.0614547729
           ],
           "xaxis": "x",
           "y": [
            47.5482139587
           ],
           "yaxis": "y"
          },
          {
           "hovertemplate": "Type=Closest Scheduled Stop<br>timeID_s=26677<br>lon=%{x}<br>lat=%{y}<extra></extra>",
           "ids": [
            "Closest Scheduled Stop"
           ],
           "legendgroup": "Closest Scheduled Stop",
           "marker": {
            "color": "#EF553B",
            "symbol": "circle"
           },
           "mode": "markers",
           "name": "Closest Scheduled Stop",
           "orientation": "v",
           "showlegend": true,
           "type": "scatter",
           "x": [
            -122.062225
           ],
           "xaxis": "x",
           "y": [
            47.5422516
           ],
           "yaxis": "y"
          }
         ],
         "name": "26677"
        },
        {
         "data": [
          {
           "hovertemplate": "Type=Current Position<br>timeID_s=26707<br>lon=%{x}<br>lat=%{y}<extra></extra>",
           "ids": [
            "Current Position"
           ],
           "legendgroup": "Current Position",
           "marker": {
            "color": "#636efa",
            "symbol": "circle"
           },
           "mode": "markers",
           "name": "Current Position",
           "orientation": "v",
           "showlegend": true,
           "type": "scatter",
           "x": [
            -122.0524749756
           ],
           "xaxis": "x",
           "y": [
            47.5519790649
           ],
           "yaxis": "y"
          },
          {
           "hovertemplate": "Type=Closest Scheduled Stop<br>timeID_s=26707<br>lon=%{x}<br>lat=%{y}<extra></extra>",
           "ids": [
            "Closest Scheduled Stop"
           ],
           "legendgroup": "Closest Scheduled Stop",
           "marker": {
            "color": "#EF553B",
            "symbol": "circle"
           },
           "mode": "markers",
           "name": "Closest Scheduled Stop",
           "orientation": "v",
           "showlegend": true,
           "type": "scatter",
           "x": [
            -122.053436
           ],
           "xaxis": "x",
           "y": [
            47.5519142
           ],
           "yaxis": "y"
          }
         ],
         "name": "26707"
        },
        {
         "data": [
          {
           "hovertemplate": "Type=Current Position<br>timeID_s=26748<br>lon=%{x}<br>lat=%{y}<extra></extra>",
           "ids": [
            "Current Position"
           ],
           "legendgroup": "Current Position",
           "marker": {
            "color": "#636efa",
            "symbol": "circle"
           },
           "mode": "markers",
           "name": "Current Position",
           "orientation": "v",
           "showlegend": true,
           "type": "scatter",
           "x": [
            -122.0455093384
           ],
           "xaxis": "x",
           "y": [
            47.5519561768
           ],
           "yaxis": "y"
          },
          {
           "hovertemplate": "Type=Closest Scheduled Stop<br>timeID_s=26748<br>lon=%{x}<br>lat=%{y}<extra></extra>",
           "ids": [
            "Closest Scheduled Stop"
           ],
           "legendgroup": "Closest Scheduled Stop",
           "marker": {
            "color": "#EF553B",
            "symbol": "circle"
           },
           "mode": "markers",
           "name": "Closest Scheduled Stop",
           "orientation": "v",
           "showlegend": true,
           "type": "scatter",
           "x": [
            -122.046417
           ],
           "xaxis": "x",
           "y": [
            47.5518951
           ],
           "yaxis": "y"
          }
         ],
         "name": "26748"
        },
        {
         "data": [
          {
           "hovertemplate": "Type=Current Position<br>timeID_s=26774<br>lon=%{x}<br>lat=%{y}<extra></extra>",
           "ids": [
            "Current Position"
           ],
           "legendgroup": "Current Position",
           "marker": {
            "color": "#636efa",
            "symbol": "circle"
           },
           "mode": "markers",
           "name": "Current Position",
           "orientation": "v",
           "showlegend": true,
           "type": "scatter",
           "x": [
            -122.0437011719
           ],
           "xaxis": "x",
           "y": [
            47.5518684387
           ],
           "yaxis": "y"
          },
          {
           "hovertemplate": "Type=Closest Scheduled Stop<br>timeID_s=26774<br>lon=%{x}<br>lat=%{y}<extra></extra>",
           "ids": [
            "Closest Scheduled Stop"
           ],
           "legendgroup": "Closest Scheduled Stop",
           "marker": {
            "color": "#EF553B",
            "symbol": "circle"
           },
           "mode": "markers",
           "name": "Closest Scheduled Stop",
           "orientation": "v",
           "showlegend": true,
           "type": "scatter",
           "x": [
            -122.044014
           ],
           "xaxis": "x",
           "y": [
            47.5518646
           ],
           "yaxis": "y"
          }
         ],
         "name": "26774"
        },
        {
         "data": [
          {
           "hovertemplate": "Type=Current Position<br>timeID_s=26834<br>lon=%{x}<br>lat=%{y}<extra></extra>",
           "ids": [
            "Current Position"
           ],
           "legendgroup": "Current Position",
           "marker": {
            "color": "#636efa",
            "symbol": "circle"
           },
           "mode": "markers",
           "name": "Current Position",
           "orientation": "v",
           "showlegend": true,
           "type": "scatter",
           "x": [
            -122.0410842896
           ],
           "xaxis": "x",
           "y": [
            47.5500297546
           ],
           "yaxis": "y"
          },
          {
           "hovertemplate": "Type=Closest Scheduled Stop<br>timeID_s=26834<br>lon=%{x}<br>lat=%{y}<extra></extra>",
           "ids": [
            "Closest Scheduled Stop"
           ],
           "legendgroup": "Closest Scheduled Stop",
           "marker": {
            "color": "#EF553B",
            "symbol": "circle"
           },
           "mode": "markers",
           "name": "Closest Scheduled Stop",
           "orientation": "v",
           "showlegend": true,
           "type": "scatter",
           "x": [
            -122.040268
           ],
           "xaxis": "x",
           "y": [
            47.5499535
           ],
           "yaxis": "y"
          }
         ],
         "name": "26834"
        },
        {
         "data": [
          {
           "hovertemplate": "Type=Current Position<br>timeID_s=26856<br>lon=%{x}<br>lat=%{y}<extra></extra>",
           "ids": [
            "Current Position"
           ],
           "legendgroup": "Current Position",
           "marker": {
            "color": "#636efa",
            "symbol": "circle"
           },
           "mode": "markers",
           "name": "Current Position",
           "orientation": "v",
           "showlegend": true,
           "type": "scatter",
           "x": [
            -122.0402679443
           ],
           "xaxis": "x",
           "y": [
            47.5500259399
           ],
           "yaxis": "y"
          },
          {
           "hovertemplate": "Type=Closest Scheduled Stop<br>timeID_s=26856<br>lon=%{x}<br>lat=%{y}<extra></extra>",
           "ids": [
            "Closest Scheduled Stop"
           ],
           "legendgroup": "Closest Scheduled Stop",
           "marker": {
            "color": "#EF553B",
            "symbol": "circle"
           },
           "mode": "markers",
           "name": "Closest Scheduled Stop",
           "orientation": "v",
           "showlegend": true,
           "type": "scatter",
           "x": [
            -122.040268
           ],
           "xaxis": "x",
           "y": [
            47.5499535
           ],
           "yaxis": "y"
          }
         ],
         "name": "26856"
        },
        {
         "data": [
          {
           "hovertemplate": "Type=Current Position<br>timeID_s=26898<br>lon=%{x}<br>lat=%{y}<extra></extra>",
           "ids": [
            "Current Position"
           ],
           "legendgroup": "Current Position",
           "marker": {
            "color": "#636efa",
            "symbol": "circle"
           },
           "mode": "markers",
           "name": "Current Position",
           "orientation": "v",
           "showlegend": true,
           "type": "scatter",
           "x": [
            -122.0375747681
           ],
           "xaxis": "x",
           "y": [
            47.5487213135
           ],
           "yaxis": "y"
          },
          {
           "hovertemplate": "Type=Closest Scheduled Stop<br>timeID_s=26898<br>lon=%{x}<br>lat=%{y}<extra></extra>",
           "ids": [
            "Closest Scheduled Stop"
           ],
           "legendgroup": "Closest Scheduled Stop",
           "marker": {
            "color": "#EF553B",
            "symbol": "circle"
           },
           "mode": "markers",
           "name": "Closest Scheduled Stop",
           "orientation": "v",
           "showlegend": true,
           "type": "scatter",
           "x": [
            -122.03598
           ],
           "xaxis": "x",
           "y": [
            47.5478668
           ],
           "yaxis": "y"
          }
         ],
         "name": "26898"
        },
        {
         "data": [
          {
           "hovertemplate": "Type=Current Position<br>timeID_s=26912<br>lon=%{x}<br>lat=%{y}<extra></extra>",
           "ids": [
            "Current Position"
           ],
           "legendgroup": "Current Position",
           "marker": {
            "color": "#636efa",
            "symbol": "circle"
           },
           "mode": "markers",
           "name": "Current Position",
           "orientation": "v",
           "showlegend": true,
           "type": "scatter",
           "x": [
            -122.0355453491
           ],
           "xaxis": "x",
           "y": [
            47.5477867126
           ],
           "yaxis": "y"
          },
          {
           "hovertemplate": "Type=Closest Scheduled Stop<br>timeID_s=26912<br>lon=%{x}<br>lat=%{y}<extra></extra>",
           "ids": [
            "Closest Scheduled Stop"
           ],
           "legendgroup": "Closest Scheduled Stop",
           "marker": {
            "color": "#EF553B",
            "symbol": "circle"
           },
           "mode": "markers",
           "name": "Closest Scheduled Stop",
           "orientation": "v",
           "showlegend": true,
           "type": "scatter",
           "x": [
            -122.03598
           ],
           "xaxis": "x",
           "y": [
            47.5478668
           ],
           "yaxis": "y"
          }
         ],
         "name": "26912"
        },
        {
         "data": [
          {
           "hovertemplate": "Type=Current Position<br>timeID_s=26947<br>lon=%{x}<br>lat=%{y}<extra></extra>",
           "ids": [
            "Current Position"
           ],
           "legendgroup": "Current Position",
           "marker": {
            "color": "#636efa",
            "symbol": "circle"
           },
           "mode": "markers",
           "name": "Current Position",
           "orientation": "v",
           "showlegend": true,
           "type": "scatter",
           "x": [
            -122.0358963013
           ],
           "xaxis": "x",
           "y": [
            47.5479164124
           ],
           "yaxis": "y"
          },
          {
           "hovertemplate": "Type=Closest Scheduled Stop<br>timeID_s=26947<br>lon=%{x}<br>lat=%{y}<extra></extra>",
           "ids": [
            "Closest Scheduled Stop"
           ],
           "legendgroup": "Closest Scheduled Stop",
           "marker": {
            "color": "#EF553B",
            "symbol": "circle"
           },
           "mode": "markers",
           "name": "Closest Scheduled Stop",
           "orientation": "v",
           "showlegend": true,
           "type": "scatter",
           "x": [
            -122.03598
           ],
           "xaxis": "x",
           "y": [
            47.5478668
           ],
           "yaxis": "y"
          }
         ],
         "name": "26947"
        },
        {
         "data": [
          {
           "hovertemplate": "Type=Current Position<br>timeID_s=26969<br>lon=%{x}<br>lat=%{y}<extra></extra>",
           "ids": [
            "Current Position"
           ],
           "legendgroup": "Current Position",
           "marker": {
            "color": "#636efa",
            "symbol": "circle"
           },
           "mode": "markers",
           "name": "Current Position",
           "orientation": "v",
           "showlegend": true,
           "type": "scatter",
           "x": [
            -122.0288391113
           ],
           "xaxis": "x",
           "y": [
            47.5493965149
           ],
           "yaxis": "y"
          },
          {
           "hovertemplate": "Type=Closest Scheduled Stop<br>timeID_s=26969<br>lon=%{x}<br>lat=%{y}<extra></extra>",
           "ids": [
            "Closest Scheduled Stop"
           ],
           "legendgroup": "Closest Scheduled Stop",
           "marker": {
            "color": "#EF553B",
            "symbol": "circle"
           },
           "mode": "markers",
           "name": "Closest Scheduled Stop",
           "orientation": "v",
           "showlegend": true,
           "type": "scatter",
           "x": [
            -122.029434
           ],
           "xaxis": "x",
           "y": [
            47.5490379
           ],
           "yaxis": "y"
          }
         ],
         "name": "26969"
        },
        {
         "data": [
          {
           "hovertemplate": "Type=Current Position<br>timeID_s=26991<br>lon=%{x}<br>lat=%{y}<extra></extra>",
           "ids": [
            "Current Position"
           ],
           "legendgroup": "Current Position",
           "marker": {
            "color": "#636efa",
            "symbol": "circle"
           },
           "mode": "markers",
           "name": "Current Position",
           "orientation": "v",
           "showlegend": true,
           "type": "scatter",
           "x": [
            -122.0264663696
           ],
           "xaxis": "x",
           "y": [
            47.5495109558
           ],
           "yaxis": "y"
          },
          {
           "hovertemplate": "Type=Closest Scheduled Stop<br>timeID_s=26991<br>lon=%{x}<br>lat=%{y}<extra></extra>",
           "ids": [
            "Closest Scheduled Stop"
           ],
           "legendgroup": "Closest Scheduled Stop",
           "marker": {
            "color": "#EF553B",
            "symbol": "circle"
           },
           "mode": "markers",
           "name": "Closest Scheduled Stop",
           "orientation": "v",
           "showlegend": true,
           "type": "scatter",
           "x": [
            -122.026855
           ],
           "xaxis": "x",
           "y": [
            47.5494118
           ],
           "yaxis": "y"
          }
         ],
         "name": "26991"
        },
        {
         "data": [
          {
           "hovertemplate": "Type=Current Position<br>timeID_s=27021<br>lon=%{x}<br>lat=%{y}<extra></extra>",
           "ids": [
            "Current Position"
           ],
           "legendgroup": "Current Position",
           "marker": {
            "color": "#636efa",
            "symbol": "circle"
           },
           "mode": "markers",
           "name": "Current Position",
           "orientation": "v",
           "showlegend": true,
           "type": "scatter",
           "x": [
            -122.0255966187
           ],
           "xaxis": "x",
           "y": [
            47.5494728088
           ],
           "yaxis": "y"
          },
          {
           "hovertemplate": "Type=Closest Scheduled Stop<br>timeID_s=27021<br>lon=%{x}<br>lat=%{y}<extra></extra>",
           "ids": [
            "Closest Scheduled Stop"
           ],
           "legendgroup": "Closest Scheduled Stop",
           "marker": {
            "color": "#EF553B",
            "symbol": "circle"
           },
           "mode": "markers",
           "name": "Closest Scheduled Stop",
           "orientation": "v",
           "showlegend": true,
           "type": "scatter",
           "x": [
            -122.026855
           ],
           "xaxis": "x",
           "y": [
            47.5494118
           ],
           "yaxis": "y"
          }
         ],
         "name": "27021"
        },
        {
         "data": [
          {
           "hovertemplate": "Type=Current Position<br>timeID_s=27051<br>lon=%{x}<br>lat=%{y}<extra></extra>",
           "ids": [
            "Current Position"
           ],
           "legendgroup": "Current Position",
           "marker": {
            "color": "#636efa",
            "symbol": "circle"
           },
           "mode": "markers",
           "name": "Current Position",
           "orientation": "v",
           "showlegend": true,
           "type": "scatter",
           "x": [
            -122.0233917236
           ],
           "xaxis": "x",
           "y": [
            47.5499572754
           ],
           "yaxis": "y"
          },
          {
           "hovertemplate": "Type=Closest Scheduled Stop<br>timeID_s=27051<br>lon=%{x}<br>lat=%{y}<extra></extra>",
           "ids": [
            "Closest Scheduled Stop"
           ],
           "legendgroup": "Closest Scheduled Stop",
           "marker": {
            "color": "#EF553B",
            "symbol": "circle"
           },
           "mode": "markers",
           "name": "Closest Scheduled Stop",
           "orientation": "v",
           "showlegend": true,
           "type": "scatter",
           "x": [
            -122.026855
           ],
           "xaxis": "x",
           "y": [
            47.5494118
           ],
           "yaxis": "y"
          }
         ],
         "name": "27051"
        },
        {
         "data": [
          {
           "hovertemplate": "Type=Current Position<br>timeID_s=27111<br>lon=%{x}<br>lat=%{y}<extra></extra>",
           "ids": [
            "Current Position"
           ],
           "legendgroup": "Current Position",
           "marker": {
            "color": "#636efa",
            "symbol": "circle"
           },
           "mode": "markers",
           "name": "Current Position",
           "orientation": "v",
           "showlegend": true,
           "type": "scatter",
           "x": [
            -122.0201797485
           ],
           "xaxis": "x",
           "y": [
            47.546497345
           ],
           "yaxis": "y"
          },
          {
           "hovertemplate": "Type=Closest Scheduled Stop<br>timeID_s=27111<br>lon=%{x}<br>lat=%{y}<extra></extra>",
           "ids": [
            "Closest Scheduled Stop"
           ],
           "legendgroup": "Closest Scheduled Stop",
           "marker": {
            "color": "#EF553B",
            "symbol": "circle"
           },
           "mode": "markers",
           "name": "Closest Scheduled Stop",
           "orientation": "v",
           "showlegend": true,
           "type": "scatter",
           "x": [
            -122.020042
           ],
           "xaxis": "x",
           "y": [
            47.5459557
           ],
           "yaxis": "y"
          }
         ],
         "name": "27111"
        },
        {
         "data": [
          {
           "hovertemplate": "Type=Current Position<br>timeID_s=27179<br>lon=%{x}<br>lat=%{y}<extra></extra>",
           "ids": [
            "Current Position"
           ],
           "legendgroup": "Current Position",
           "marker": {
            "color": "#636efa",
            "symbol": "circle"
           },
           "mode": "markers",
           "name": "Current Position",
           "orientation": "v",
           "showlegend": true,
           "type": "scatter",
           "x": [
            -122.0193252563
           ],
           "xaxis": "x",
           "y": [
            47.5461273193
           ],
           "yaxis": "y"
          },
          {
           "hovertemplate": "Type=Closest Scheduled Stop<br>timeID_s=27179<br>lon=%{x}<br>lat=%{y}<extra></extra>",
           "ids": [
            "Closest Scheduled Stop"
           ],
           "legendgroup": "Closest Scheduled Stop",
           "marker": {
            "color": "#EF553B",
            "symbol": "circle"
           },
           "mode": "markers",
           "name": "Closest Scheduled Stop",
           "orientation": "v",
           "showlegend": true,
           "type": "scatter",
           "x": [
            -122.020042
           ],
           "xaxis": "x",
           "y": [
            47.5459557
           ],
           "yaxis": "y"
          }
         ],
         "name": "27179"
        },
        {
         "data": [
          {
           "hovertemplate": "Type=Current Position<br>timeID_s=27217<br>lon=%{x}<br>lat=%{y}<extra></extra>",
           "ids": [
            "Current Position"
           ],
           "legendgroup": "Current Position",
           "marker": {
            "color": "#636efa",
            "symbol": "circle"
           },
           "mode": "markers",
           "name": "Current Position",
           "orientation": "v",
           "showlegend": true,
           "type": "scatter",
           "x": [
            -122.0199356079
           ],
           "xaxis": "x",
           "y": [
            47.5459213257
           ],
           "yaxis": "y"
          },
          {
           "hovertemplate": "Type=Closest Scheduled Stop<br>timeID_s=27217<br>lon=%{x}<br>lat=%{y}<extra></extra>",
           "ids": [
            "Closest Scheduled Stop"
           ],
           "legendgroup": "Closest Scheduled Stop",
           "marker": {
            "color": "#EF553B",
            "symbol": "circle"
           },
           "mode": "markers",
           "name": "Closest Scheduled Stop",
           "orientation": "v",
           "showlegend": true,
           "type": "scatter",
           "x": [
            -122.020042
           ],
           "xaxis": "x",
           "y": [
            47.5459557
           ],
           "yaxis": "y"
          }
         ],
         "name": "27217"
        },
        {
         "data": [
          {
           "hovertemplate": "Type=Current Position<br>timeID_s=27239<br>lon=%{x}<br>lat=%{y}<extra></extra>",
           "ids": [
            "Current Position"
           ],
           "legendgroup": "Current Position",
           "marker": {
            "color": "#636efa",
            "symbol": "circle"
           },
           "mode": "markers",
           "name": "Current Position",
           "orientation": "v",
           "showlegend": true,
           "type": "scatter",
           "x": [
            -122.0220870972
           ],
           "xaxis": "x",
           "y": [
            47.5515098572
           ],
           "yaxis": "y"
          },
          {
           "hovertemplate": "Type=Closest Scheduled Stop<br>timeID_s=27239<br>lon=%{x}<br>lat=%{y}<extra></extra>",
           "ids": [
            "Closest Scheduled Stop"
           ],
           "legendgroup": "Closest Scheduled Stop",
           "marker": {
            "color": "#EF553B",
            "symbol": "circle"
           },
           "mode": "markers",
           "name": "Closest Scheduled Stop",
           "orientation": "v",
           "showlegend": true,
           "type": "scatter",
           "x": [
            -122.021736
           ],
           "xaxis": "x",
           "y": [
            47.5554733
           ],
           "yaxis": "y"
          }
         ],
         "name": "27239"
        },
        {
         "data": [
          {
           "hovertemplate": "Type=Current Position<br>timeID_s=27269<br>lon=%{x}<br>lat=%{y}<extra></extra>",
           "ids": [
            "Current Position"
           ],
           "legendgroup": "Current Position",
           "marker": {
            "color": "#636efa",
            "symbol": "circle"
           },
           "mode": "markers",
           "name": "Current Position",
           "orientation": "v",
           "showlegend": true,
           "type": "scatter",
           "x": [
            -122.0209197998
           ],
           "xaxis": "x",
           "y": [
            47.5540466309
           ],
           "yaxis": "y"
          },
          {
           "hovertemplate": "Type=Closest Scheduled Stop<br>timeID_s=27269<br>lon=%{x}<br>lat=%{y}<extra></extra>",
           "ids": [
            "Closest Scheduled Stop"
           ],
           "legendgroup": "Closest Scheduled Stop",
           "marker": {
            "color": "#EF553B",
            "symbol": "circle"
           },
           "mode": "markers",
           "name": "Closest Scheduled Stop",
           "orientation": "v",
           "showlegend": true,
           "type": "scatter",
           "x": [
            -122.021736
           ],
           "xaxis": "x",
           "y": [
            47.5554733
           ],
           "yaxis": "y"
          }
         ],
         "name": "27269"
        },
        {
         "data": [
          {
           "hovertemplate": "Type=Current Position<br>timeID_s=27306<br>lon=%{x}<br>lat=%{y}<extra></extra>",
           "ids": [
            "Current Position"
           ],
           "legendgroup": "Current Position",
           "marker": {
            "color": "#636efa",
            "symbol": "circle"
           },
           "mode": "markers",
           "name": "Current Position",
           "orientation": "v",
           "showlegend": true,
           "type": "scatter",
           "x": [
            -122.0199356079
           ],
           "xaxis": "x",
           "y": [
            47.5458602905
           ],
           "yaxis": "y"
          },
          {
           "hovertemplate": "Type=Closest Scheduled Stop<br>timeID_s=27306<br>lon=%{x}<br>lat=%{y}<extra></extra>",
           "ids": [
            "Closest Scheduled Stop"
           ],
           "legendgroup": "Closest Scheduled Stop",
           "marker": {
            "color": "#EF553B",
            "symbol": "circle"
           },
           "mode": "markers",
           "name": "Closest Scheduled Stop",
           "orientation": "v",
           "showlegend": true,
           "type": "scatter",
           "x": [
            -122.020042
           ],
           "xaxis": "x",
           "y": [
            47.5459557
           ],
           "yaxis": "y"
          }
         ],
         "name": "27306"
        },
        {
         "data": [
          {
           "hovertemplate": "Type=Current Position<br>timeID_s=27373<br>lon=%{x}<br>lat=%{y}<extra></extra>",
           "ids": [
            "Current Position"
           ],
           "legendgroup": "Current Position",
           "marker": {
            "color": "#636efa",
            "symbol": "circle"
           },
           "mode": "markers",
           "name": "Current Position",
           "orientation": "v",
           "showlegend": true,
           "type": "scatter",
           "x": [
            -122.0249328613
           ],
           "xaxis": "x",
           "y": [
            47.5622520447
           ],
           "yaxis": "y"
          },
          {
           "hovertemplate": "Type=Closest Scheduled Stop<br>timeID_s=27373<br>lon=%{x}<br>lat=%{y}<extra></extra>",
           "ids": [
            "Closest Scheduled Stop"
           ],
           "legendgroup": "Closest Scheduled Stop",
           "marker": {
            "color": "#EF553B",
            "symbol": "circle"
           },
           "mode": "markers",
           "name": "Closest Scheduled Stop",
           "orientation": "v",
           "showlegend": true,
           "type": "scatter",
           "x": [
            -122.024933
           ],
           "xaxis": "x",
           "y": [
            47.5616684
           ],
           "yaxis": "y"
          }
         ],
         "name": "27373"
        },
        {
         "data": [
          {
           "hovertemplate": "Type=Current Position<br>timeID_s=27404<br>lon=%{x}<br>lat=%{y}<extra></extra>",
           "ids": [
            "Current Position"
           ],
           "legendgroup": "Current Position",
           "marker": {
            "color": "#636efa",
            "symbol": "circle"
           },
           "mode": "markers",
           "name": "Current Position",
           "orientation": "v",
           "showlegend": true,
           "type": "scatter",
           "x": [
            -122.0253067017
           ],
           "xaxis": "x",
           "y": [
            47.5662651062
           ],
           "yaxis": "y"
          },
          {
           "hovertemplate": "Type=Closest Scheduled Stop<br>timeID_s=27404<br>lon=%{x}<br>lat=%{y}<extra></extra>",
           "ids": [
            "Closest Scheduled Stop"
           ],
           "legendgroup": "Closest Scheduled Stop",
           "marker": {
            "color": "#EF553B",
            "symbol": "circle"
           },
           "mode": "markers",
           "name": "Closest Scheduled Stop",
           "orientation": "v",
           "showlegend": true,
           "type": "scatter",
           "x": [
            -122.024612
           ],
           "xaxis": "x",
           "y": [
            47.5678024
           ],
           "yaxis": "y"
          }
         ],
         "name": "27404"
        },
        {
         "data": [
          {
           "hovertemplate": "Type=Current Position<br>timeID_s=27433<br>lon=%{x}<br>lat=%{y}<extra></extra>",
           "ids": [
            "Current Position"
           ],
           "legendgroup": "Current Position",
           "marker": {
            "color": "#636efa",
            "symbol": "circle"
           },
           "mode": "markers",
           "name": "Current Position",
           "orientation": "v",
           "showlegend": true,
           "type": "scatter",
           "x": [
            -122.0249633789
           ],
           "xaxis": "x",
           "y": [
            47.5673713684
           ],
           "yaxis": "y"
          },
          {
           "hovertemplate": "Type=Closest Scheduled Stop<br>timeID_s=27433<br>lon=%{x}<br>lat=%{y}<extra></extra>",
           "ids": [
            "Closest Scheduled Stop"
           ],
           "legendgroup": "Closest Scheduled Stop",
           "marker": {
            "color": "#EF553B",
            "symbol": "circle"
           },
           "mode": "markers",
           "name": "Closest Scheduled Stop",
           "orientation": "v",
           "showlegend": true,
           "type": "scatter",
           "x": [
            -122.024612
           ],
           "xaxis": "x",
           "y": [
            47.5678024
           ],
           "yaxis": "y"
          }
         ],
         "name": "27433"
        },
        {
         "data": [
          {
           "hovertemplate": "Type=Current Position<br>timeID_s=27450<br>lon=%{x}<br>lat=%{y}<extra></extra>",
           "ids": [
            "Current Position"
           ],
           "legendgroup": "Current Position",
           "marker": {
            "color": "#636efa",
            "symbol": "circle"
           },
           "mode": "markers",
           "name": "Current Position",
           "orientation": "v",
           "showlegend": true,
           "type": "scatter",
           "x": [
            -122.0242843628
           ],
           "xaxis": "x",
           "y": [
            47.5686225891
           ],
           "yaxis": "y"
          },
          {
           "hovertemplate": "Type=Closest Scheduled Stop<br>timeID_s=27450<br>lon=%{x}<br>lat=%{y}<extra></extra>",
           "ids": [
            "Closest Scheduled Stop"
           ],
           "legendgroup": "Closest Scheduled Stop",
           "marker": {
            "color": "#EF553B",
            "symbol": "circle"
           },
           "mode": "markers",
           "name": "Closest Scheduled Stop",
           "orientation": "v",
           "showlegend": true,
           "type": "scatter",
           "x": [
            -122.024612
           ],
           "xaxis": "x",
           "y": [
            47.5678024
           ],
           "yaxis": "y"
          }
         ],
         "name": "27450"
        },
        {
         "data": [
          {
           "hovertemplate": "Type=Current Position<br>timeID_s=27491<br>lon=%{x}<br>lat=%{y}<extra></extra>",
           "ids": [
            "Current Position"
           ],
           "legendgroup": "Current Position",
           "marker": {
            "color": "#636efa",
            "symbol": "circle"
           },
           "mode": "markers",
           "name": "Current Position",
           "orientation": "v",
           "showlegend": true,
           "type": "scatter",
           "x": [
            -122.022102356
           ],
           "xaxis": "x",
           "y": [
            47.5725135803
           ],
           "yaxis": "y"
          },
          {
           "hovertemplate": "Type=Closest Scheduled Stop<br>timeID_s=27491<br>lon=%{x}<br>lat=%{y}<extra></extra>",
           "ids": [
            "Closest Scheduled Stop"
           ],
           "legendgroup": "Closest Scheduled Stop",
           "marker": {
            "color": "#EF553B",
            "symbol": "circle"
           },
           "mode": "markers",
           "name": "Closest Scheduled Stop",
           "orientation": "v",
           "showlegend": true,
           "type": "scatter",
           "x": [
            -122.022018
           ],
           "xaxis": "x",
           "y": [
            47.5724907
           ],
           "yaxis": "y"
          }
         ],
         "name": "27491"
        },
        {
         "data": [
          {
           "hovertemplate": "Type=Current Position<br>timeID_s=27531<br>lon=%{x}<br>lat=%{y}<extra></extra>",
           "ids": [
            "Current Position"
           ],
           "legendgroup": "Current Position",
           "marker": {
            "color": "#636efa",
            "symbol": "circle"
           },
           "mode": "markers",
           "name": "Current Position",
           "orientation": "v",
           "showlegend": true,
           "type": "scatter",
           "x": [
            -122.0230026245
           ],
           "xaxis": "x",
           "y": [
            47.575504303
           ],
           "yaxis": "y"
          },
          {
           "hovertemplate": "Type=Closest Scheduled Stop<br>timeID_s=27531<br>lon=%{x}<br>lat=%{y}<extra></extra>",
           "ids": [
            "Closest Scheduled Stop"
           ],
           "legendgroup": "Closest Scheduled Stop",
           "marker": {
            "color": "#EF553B",
            "symbol": "circle"
           },
           "mode": "markers",
           "name": "Closest Scheduled Stop",
           "orientation": "v",
           "showlegend": true,
           "type": "scatter",
           "x": [
            -122.022331
           ],
           "xaxis": "x",
           "y": [
            47.5750618
           ],
           "yaxis": "y"
          }
         ],
         "name": "27531"
        },
        {
         "data": [
          {
           "hovertemplate": "Type=Current Position<br>timeID_s=27591<br>lon=%{x}<br>lat=%{y}<extra></extra>",
           "ids": [
            "Current Position"
           ],
           "legendgroup": "Current Position",
           "marker": {
            "color": "#636efa",
            "symbol": "circle"
           },
           "mode": "markers",
           "name": "Current Position",
           "orientation": "v",
           "showlegend": true,
           "type": "scatter",
           "x": [
            -122.0288925171
           ],
           "xaxis": "x",
           "y": [
            47.5792922974
           ],
           "yaxis": "y"
          },
          {
           "hovertemplate": "Type=Closest Scheduled Stop<br>timeID_s=27591<br>lon=%{x}<br>lat=%{y}<extra></extra>",
           "ids": [
            "Closest Scheduled Stop"
           ],
           "legendgroup": "Closest Scheduled Stop",
           "marker": {
            "color": "#EF553B",
            "symbol": "circle"
           },
           "mode": "markers",
           "name": "Closest Scheduled Stop",
           "orientation": "v",
           "showlegend": true,
           "type": "scatter",
           "x": [
            -122.032608
           ],
           "xaxis": "x",
           "y": [
            47.5813675
           ],
           "yaxis": "y"
          }
         ],
         "name": "27591"
        }
       ],
       "layout": {
        "legend": {
         "title": {
          "text": "Type"
         },
         "tracegroupgap": 0
        },
        "margin": {
         "t": 60
        },
        "sliders": [
         {
          "active": 0,
          "currentvalue": {
           "prefix": "timeID_s="
          },
          "len": 0.9,
          "pad": {
           "b": 10,
           "t": 60
          },
          "steps": [
           {
            "args": [
             [
              "26524"
             ],
             {
              "frame": {
               "duration": 0,
               "redraw": false
              },
              "fromcurrent": true,
              "mode": "immediate",
              "transition": {
               "duration": 0,
               "easing": "linear"
              }
             }
            ],
            "label": "26524",
            "method": "animate"
           },
           {
            "args": [
             [
              "26554"
             ],
             {
              "frame": {
               "duration": 0,
               "redraw": false
              },
              "fromcurrent": true,
              "mode": "immediate",
              "transition": {
               "duration": 0,
               "easing": "linear"
              }
             }
            ],
            "label": "26554",
            "method": "animate"
           },
           {
            "args": [
             [
              "26586"
             ],
             {
              "frame": {
               "duration": 0,
               "redraw": false
              },
              "fromcurrent": true,
              "mode": "immediate",
              "transition": {
               "duration": 0,
               "easing": "linear"
              }
             }
            ],
            "label": "26586",
            "method": "animate"
           },
           {
            "args": [
             [
              "26614"
             ],
             {
              "frame": {
               "duration": 0,
               "redraw": false
              },
              "fromcurrent": true,
              "mode": "immediate",
              "transition": {
               "duration": 0,
               "easing": "linear"
              }
             }
            ],
            "label": "26614",
            "method": "animate"
           },
           {
            "args": [
             [
              "26644"
             ],
             {
              "frame": {
               "duration": 0,
               "redraw": false
              },
              "fromcurrent": true,
              "mode": "immediate",
              "transition": {
               "duration": 0,
               "easing": "linear"
              }
             }
            ],
            "label": "26644",
            "method": "animate"
           },
           {
            "args": [
             [
              "26677"
             ],
             {
              "frame": {
               "duration": 0,
               "redraw": false
              },
              "fromcurrent": true,
              "mode": "immediate",
              "transition": {
               "duration": 0,
               "easing": "linear"
              }
             }
            ],
            "label": "26677",
            "method": "animate"
           },
           {
            "args": [
             [
              "26707"
             ],
             {
              "frame": {
               "duration": 0,
               "redraw": false
              },
              "fromcurrent": true,
              "mode": "immediate",
              "transition": {
               "duration": 0,
               "easing": "linear"
              }
             }
            ],
            "label": "26707",
            "method": "animate"
           },
           {
            "args": [
             [
              "26748"
             ],
             {
              "frame": {
               "duration": 0,
               "redraw": false
              },
              "fromcurrent": true,
              "mode": "immediate",
              "transition": {
               "duration": 0,
               "easing": "linear"
              }
             }
            ],
            "label": "26748",
            "method": "animate"
           },
           {
            "args": [
             [
              "26774"
             ],
             {
              "frame": {
               "duration": 0,
               "redraw": false
              },
              "fromcurrent": true,
              "mode": "immediate",
              "transition": {
               "duration": 0,
               "easing": "linear"
              }
             }
            ],
            "label": "26774",
            "method": "animate"
           },
           {
            "args": [
             [
              "26834"
             ],
             {
              "frame": {
               "duration": 0,
               "redraw": false
              },
              "fromcurrent": true,
              "mode": "immediate",
              "transition": {
               "duration": 0,
               "easing": "linear"
              }
             }
            ],
            "label": "26834",
            "method": "animate"
           },
           {
            "args": [
             [
              "26856"
             ],
             {
              "frame": {
               "duration": 0,
               "redraw": false
              },
              "fromcurrent": true,
              "mode": "immediate",
              "transition": {
               "duration": 0,
               "easing": "linear"
              }
             }
            ],
            "label": "26856",
            "method": "animate"
           },
           {
            "args": [
             [
              "26898"
             ],
             {
              "frame": {
               "duration": 0,
               "redraw": false
              },
              "fromcurrent": true,
              "mode": "immediate",
              "transition": {
               "duration": 0,
               "easing": "linear"
              }
             }
            ],
            "label": "26898",
            "method": "animate"
           },
           {
            "args": [
             [
              "26912"
             ],
             {
              "frame": {
               "duration": 0,
               "redraw": false
              },
              "fromcurrent": true,
              "mode": "immediate",
              "transition": {
               "duration": 0,
               "easing": "linear"
              }
             }
            ],
            "label": "26912",
            "method": "animate"
           },
           {
            "args": [
             [
              "26947"
             ],
             {
              "frame": {
               "duration": 0,
               "redraw": false
              },
              "fromcurrent": true,
              "mode": "immediate",
              "transition": {
               "duration": 0,
               "easing": "linear"
              }
             }
            ],
            "label": "26947",
            "method": "animate"
           },
           {
            "args": [
             [
              "26969"
             ],
             {
              "frame": {
               "duration": 0,
               "redraw": false
              },
              "fromcurrent": true,
              "mode": "immediate",
              "transition": {
               "duration": 0,
               "easing": "linear"
              }
             }
            ],
            "label": "26969",
            "method": "animate"
           },
           {
            "args": [
             [
              "26991"
             ],
             {
              "frame": {
               "duration": 0,
               "redraw": false
              },
              "fromcurrent": true,
              "mode": "immediate",
              "transition": {
               "duration": 0,
               "easing": "linear"
              }
             }
            ],
            "label": "26991",
            "method": "animate"
           },
           {
            "args": [
             [
              "27021"
             ],
             {
              "frame": {
               "duration": 0,
               "redraw": false
              },
              "fromcurrent": true,
              "mode": "immediate",
              "transition": {
               "duration": 0,
               "easing": "linear"
              }
             }
            ],
            "label": "27021",
            "method": "animate"
           },
           {
            "args": [
             [
              "27051"
             ],
             {
              "frame": {
               "duration": 0,
               "redraw": false
              },
              "fromcurrent": true,
              "mode": "immediate",
              "transition": {
               "duration": 0,
               "easing": "linear"
              }
             }
            ],
            "label": "27051",
            "method": "animate"
           },
           {
            "args": [
             [
              "27111"
             ],
             {
              "frame": {
               "duration": 0,
               "redraw": false
              },
              "fromcurrent": true,
              "mode": "immediate",
              "transition": {
               "duration": 0,
               "easing": "linear"
              }
             }
            ],
            "label": "27111",
            "method": "animate"
           },
           {
            "args": [
             [
              "27179"
             ],
             {
              "frame": {
               "duration": 0,
               "redraw": false
              },
              "fromcurrent": true,
              "mode": "immediate",
              "transition": {
               "duration": 0,
               "easing": "linear"
              }
             }
            ],
            "label": "27179",
            "method": "animate"
           },
           {
            "args": [
             [
              "27217"
             ],
             {
              "frame": {
               "duration": 0,
               "redraw": false
              },
              "fromcurrent": true,
              "mode": "immediate",
              "transition": {
               "duration": 0,
               "easing": "linear"
              }
             }
            ],
            "label": "27217",
            "method": "animate"
           },
           {
            "args": [
             [
              "27239"
             ],
             {
              "frame": {
               "duration": 0,
               "redraw": false
              },
              "fromcurrent": true,
              "mode": "immediate",
              "transition": {
               "duration": 0,
               "easing": "linear"
              }
             }
            ],
            "label": "27239",
            "method": "animate"
           },
           {
            "args": [
             [
              "27269"
             ],
             {
              "frame": {
               "duration": 0,
               "redraw": false
              },
              "fromcurrent": true,
              "mode": "immediate",
              "transition": {
               "duration": 0,
               "easing": "linear"
              }
             }
            ],
            "label": "27269",
            "method": "animate"
           },
           {
            "args": [
             [
              "27306"
             ],
             {
              "frame": {
               "duration": 0,
               "redraw": false
              },
              "fromcurrent": true,
              "mode": "immediate",
              "transition": {
               "duration": 0,
               "easing": "linear"
              }
             }
            ],
            "label": "27306",
            "method": "animate"
           },
           {
            "args": [
             [
              "27373"
             ],
             {
              "frame": {
               "duration": 0,
               "redraw": false
              },
              "fromcurrent": true,
              "mode": "immediate",
              "transition": {
               "duration": 0,
               "easing": "linear"
              }
             }
            ],
            "label": "27373",
            "method": "animate"
           },
           {
            "args": [
             [
              "27404"
             ],
             {
              "frame": {
               "duration": 0,
               "redraw": false
              },
              "fromcurrent": true,
              "mode": "immediate",
              "transition": {
               "duration": 0,
               "easing": "linear"
              }
             }
            ],
            "label": "27404",
            "method": "animate"
           },
           {
            "args": [
             [
              "27433"
             ],
             {
              "frame": {
               "duration": 0,
               "redraw": false
              },
              "fromcurrent": true,
              "mode": "immediate",
              "transition": {
               "duration": 0,
               "easing": "linear"
              }
             }
            ],
            "label": "27433",
            "method": "animate"
           },
           {
            "args": [
             [
              "27450"
             ],
             {
              "frame": {
               "duration": 0,
               "redraw": false
              },
              "fromcurrent": true,
              "mode": "immediate",
              "transition": {
               "duration": 0,
               "easing": "linear"
              }
             }
            ],
            "label": "27450",
            "method": "animate"
           },
           {
            "args": [
             [
              "27491"
             ],
             {
              "frame": {
               "duration": 0,
               "redraw": false
              },
              "fromcurrent": true,
              "mode": "immediate",
              "transition": {
               "duration": 0,
               "easing": "linear"
              }
             }
            ],
            "label": "27491",
            "method": "animate"
           },
           {
            "args": [
             [
              "27531"
             ],
             {
              "frame": {
               "duration": 0,
               "redraw": false
              },
              "fromcurrent": true,
              "mode": "immediate",
              "transition": {
               "duration": 0,
               "easing": "linear"
              }
             }
            ],
            "label": "27531",
            "method": "animate"
           },
           {
            "args": [
             [
              "27591"
             ],
             {
              "frame": {
               "duration": 0,
               "redraw": false
              },
              "fromcurrent": true,
              "mode": "immediate",
              "transition": {
               "duration": 0,
               "easing": "linear"
              }
             }
            ],
            "label": "27591",
            "method": "animate"
           }
          ],
          "x": 0.1,
          "xanchor": "left",
          "y": 0,
          "yanchor": "top"
         }
        ],
        "template": {
         "data": {
          "bar": [
           {
            "error_x": {
             "color": "#2a3f5f"
            },
            "error_y": {
             "color": "#2a3f5f"
            },
            "marker": {
             "line": {
              "color": "#E5ECF6",
              "width": 0.5
             },
             "pattern": {
              "fillmode": "overlay",
              "size": 10,
              "solidity": 0.2
             }
            },
            "type": "bar"
           }
          ],
          "barpolar": [
           {
            "marker": {
             "line": {
              "color": "#E5ECF6",
              "width": 0.5
             },
             "pattern": {
              "fillmode": "overlay",
              "size": 10,
              "solidity": 0.2
             }
            },
            "type": "barpolar"
           }
          ],
          "carpet": [
           {
            "aaxis": {
             "endlinecolor": "#2a3f5f",
             "gridcolor": "white",
             "linecolor": "white",
             "minorgridcolor": "white",
             "startlinecolor": "#2a3f5f"
            },
            "baxis": {
             "endlinecolor": "#2a3f5f",
             "gridcolor": "white",
             "linecolor": "white",
             "minorgridcolor": "white",
             "startlinecolor": "#2a3f5f"
            },
            "type": "carpet"
           }
          ],
          "choropleth": [
           {
            "colorbar": {
             "outlinewidth": 0,
             "ticks": ""
            },
            "type": "choropleth"
           }
          ],
          "contour": [
           {
            "colorbar": {
             "outlinewidth": 0,
             "ticks": ""
            },
            "colorscale": [
             [
              0,
              "#0d0887"
             ],
             [
              0.1111111111111111,
              "#46039f"
             ],
             [
              0.2222222222222222,
              "#7201a8"
             ],
             [
              0.3333333333333333,
              "#9c179e"
             ],
             [
              0.4444444444444444,
              "#bd3786"
             ],
             [
              0.5555555555555556,
              "#d8576b"
             ],
             [
              0.6666666666666666,
              "#ed7953"
             ],
             [
              0.7777777777777778,
              "#fb9f3a"
             ],
             [
              0.8888888888888888,
              "#fdca26"
             ],
             [
              1,
              "#f0f921"
             ]
            ],
            "type": "contour"
           }
          ],
          "contourcarpet": [
           {
            "colorbar": {
             "outlinewidth": 0,
             "ticks": ""
            },
            "type": "contourcarpet"
           }
          ],
          "heatmap": [
           {
            "colorbar": {
             "outlinewidth": 0,
             "ticks": ""
            },
            "colorscale": [
             [
              0,
              "#0d0887"
             ],
             [
              0.1111111111111111,
              "#46039f"
             ],
             [
              0.2222222222222222,
              "#7201a8"
             ],
             [
              0.3333333333333333,
              "#9c179e"
             ],
             [
              0.4444444444444444,
              "#bd3786"
             ],
             [
              0.5555555555555556,
              "#d8576b"
             ],
             [
              0.6666666666666666,
              "#ed7953"
             ],
             [
              0.7777777777777778,
              "#fb9f3a"
             ],
             [
              0.8888888888888888,
              "#fdca26"
             ],
             [
              1,
              "#f0f921"
             ]
            ],
            "type": "heatmap"
           }
          ],
          "heatmapgl": [
           {
            "colorbar": {
             "outlinewidth": 0,
             "ticks": ""
            },
            "colorscale": [
             [
              0,
              "#0d0887"
             ],
             [
              0.1111111111111111,
              "#46039f"
             ],
             [
              0.2222222222222222,
              "#7201a8"
             ],
             [
              0.3333333333333333,
              "#9c179e"
             ],
             [
              0.4444444444444444,
              "#bd3786"
             ],
             [
              0.5555555555555556,
              "#d8576b"
             ],
             [
              0.6666666666666666,
              "#ed7953"
             ],
             [
              0.7777777777777778,
              "#fb9f3a"
             ],
             [
              0.8888888888888888,
              "#fdca26"
             ],
             [
              1,
              "#f0f921"
             ]
            ],
            "type": "heatmapgl"
           }
          ],
          "histogram": [
           {
            "marker": {
             "pattern": {
              "fillmode": "overlay",
              "size": 10,
              "solidity": 0.2
             }
            },
            "type": "histogram"
           }
          ],
          "histogram2d": [
           {
            "colorbar": {
             "outlinewidth": 0,
             "ticks": ""
            },
            "colorscale": [
             [
              0,
              "#0d0887"
             ],
             [
              0.1111111111111111,
              "#46039f"
             ],
             [
              0.2222222222222222,
              "#7201a8"
             ],
             [
              0.3333333333333333,
              "#9c179e"
             ],
             [
              0.4444444444444444,
              "#bd3786"
             ],
             [
              0.5555555555555556,
              "#d8576b"
             ],
             [
              0.6666666666666666,
              "#ed7953"
             ],
             [
              0.7777777777777778,
              "#fb9f3a"
             ],
             [
              0.8888888888888888,
              "#fdca26"
             ],
             [
              1,
              "#f0f921"
             ]
            ],
            "type": "histogram2d"
           }
          ],
          "histogram2dcontour": [
           {
            "colorbar": {
             "outlinewidth": 0,
             "ticks": ""
            },
            "colorscale": [
             [
              0,
              "#0d0887"
             ],
             [
              0.1111111111111111,
              "#46039f"
             ],
             [
              0.2222222222222222,
              "#7201a8"
             ],
             [
              0.3333333333333333,
              "#9c179e"
             ],
             [
              0.4444444444444444,
              "#bd3786"
             ],
             [
              0.5555555555555556,
              "#d8576b"
             ],
             [
              0.6666666666666666,
              "#ed7953"
             ],
             [
              0.7777777777777778,
              "#fb9f3a"
             ],
             [
              0.8888888888888888,
              "#fdca26"
             ],
             [
              1,
              "#f0f921"
             ]
            ],
            "type": "histogram2dcontour"
           }
          ],
          "mesh3d": [
           {
            "colorbar": {
             "outlinewidth": 0,
             "ticks": ""
            },
            "type": "mesh3d"
           }
          ],
          "parcoords": [
           {
            "line": {
             "colorbar": {
              "outlinewidth": 0,
              "ticks": ""
             }
            },
            "type": "parcoords"
           }
          ],
          "pie": [
           {
            "automargin": true,
            "type": "pie"
           }
          ],
          "scatter": [
           {
            "fillpattern": {
             "fillmode": "overlay",
             "size": 10,
             "solidity": 0.2
            },
            "type": "scatter"
           }
          ],
          "scatter3d": [
           {
            "line": {
             "colorbar": {
              "outlinewidth": 0,
              "ticks": ""
             }
            },
            "marker": {
             "colorbar": {
              "outlinewidth": 0,
              "ticks": ""
             }
            },
            "type": "scatter3d"
           }
          ],
          "scattercarpet": [
           {
            "marker": {
             "colorbar": {
              "outlinewidth": 0,
              "ticks": ""
             }
            },
            "type": "scattercarpet"
           }
          ],
          "scattergeo": [
           {
            "marker": {
             "colorbar": {
              "outlinewidth": 0,
              "ticks": ""
             }
            },
            "type": "scattergeo"
           }
          ],
          "scattergl": [
           {
            "marker": {
             "colorbar": {
              "outlinewidth": 0,
              "ticks": ""
             }
            },
            "type": "scattergl"
           }
          ],
          "scattermapbox": [
           {
            "marker": {
             "colorbar": {
              "outlinewidth": 0,
              "ticks": ""
             }
            },
            "type": "scattermapbox"
           }
          ],
          "scatterpolar": [
           {
            "marker": {
             "colorbar": {
              "outlinewidth": 0,
              "ticks": ""
             }
            },
            "type": "scatterpolar"
           }
          ],
          "scatterpolargl": [
           {
            "marker": {
             "colorbar": {
              "outlinewidth": 0,
              "ticks": ""
             }
            },
            "type": "scatterpolargl"
           }
          ],
          "scatterternary": [
           {
            "marker": {
             "colorbar": {
              "outlinewidth": 0,
              "ticks": ""
             }
            },
            "type": "scatterternary"
           }
          ],
          "surface": [
           {
            "colorbar": {
             "outlinewidth": 0,
             "ticks": ""
            },
            "colorscale": [
             [
              0,
              "#0d0887"
             ],
             [
              0.1111111111111111,
              "#46039f"
             ],
             [
              0.2222222222222222,
              "#7201a8"
             ],
             [
              0.3333333333333333,
              "#9c179e"
             ],
             [
              0.4444444444444444,
              "#bd3786"
             ],
             [
              0.5555555555555556,
              "#d8576b"
             ],
             [
              0.6666666666666666,
              "#ed7953"
             ],
             [
              0.7777777777777778,
              "#fb9f3a"
             ],
             [
              0.8888888888888888,
              "#fdca26"
             ],
             [
              1,
              "#f0f921"
             ]
            ],
            "type": "surface"
           }
          ],
          "table": [
           {
            "cells": {
             "fill": {
              "color": "#EBF0F8"
             },
             "line": {
              "color": "white"
             }
            },
            "header": {
             "fill": {
              "color": "#C8D4E3"
             },
             "line": {
              "color": "white"
             }
            },
            "type": "table"
           }
          ]
         },
         "layout": {
          "annotationdefaults": {
           "arrowcolor": "#2a3f5f",
           "arrowhead": 0,
           "arrowwidth": 1
          },
          "autotypenumbers": "strict",
          "coloraxis": {
           "colorbar": {
            "outlinewidth": 0,
            "ticks": ""
           }
          },
          "colorscale": {
           "diverging": [
            [
             0,
             "#8e0152"
            ],
            [
             0.1,
             "#c51b7d"
            ],
            [
             0.2,
             "#de77ae"
            ],
            [
             0.3,
             "#f1b6da"
            ],
            [
             0.4,
             "#fde0ef"
            ],
            [
             0.5,
             "#f7f7f7"
            ],
            [
             0.6,
             "#e6f5d0"
            ],
            [
             0.7,
             "#b8e186"
            ],
            [
             0.8,
             "#7fbc41"
            ],
            [
             0.9,
             "#4d9221"
            ],
            [
             1,
             "#276419"
            ]
           ],
           "sequential": [
            [
             0,
             "#0d0887"
            ],
            [
             0.1111111111111111,
             "#46039f"
            ],
            [
             0.2222222222222222,
             "#7201a8"
            ],
            [
             0.3333333333333333,
             "#9c179e"
            ],
            [
             0.4444444444444444,
             "#bd3786"
            ],
            [
             0.5555555555555556,
             "#d8576b"
            ],
            [
             0.6666666666666666,
             "#ed7953"
            ],
            [
             0.7777777777777778,
             "#fb9f3a"
            ],
            [
             0.8888888888888888,
             "#fdca26"
            ],
            [
             1,
             "#f0f921"
            ]
           ],
           "sequentialminus": [
            [
             0,
             "#0d0887"
            ],
            [
             0.1111111111111111,
             "#46039f"
            ],
            [
             0.2222222222222222,
             "#7201a8"
            ],
            [
             0.3333333333333333,
             "#9c179e"
            ],
            [
             0.4444444444444444,
             "#bd3786"
            ],
            [
             0.5555555555555556,
             "#d8576b"
            ],
            [
             0.6666666666666666,
             "#ed7953"
            ],
            [
             0.7777777777777778,
             "#fb9f3a"
            ],
            [
             0.8888888888888888,
             "#fdca26"
            ],
            [
             1,
             "#f0f921"
            ]
           ]
          },
          "colorway": [
           "#636efa",
           "#EF553B",
           "#00cc96",
           "#ab63fa",
           "#FFA15A",
           "#19d3f3",
           "#FF6692",
           "#B6E880",
           "#FF97FF",
           "#FECB52"
          ],
          "font": {
           "color": "#2a3f5f"
          },
          "geo": {
           "bgcolor": "white",
           "lakecolor": "white",
           "landcolor": "#E5ECF6",
           "showlakes": true,
           "showland": true,
           "subunitcolor": "white"
          },
          "hoverlabel": {
           "align": "left"
          },
          "hovermode": "closest",
          "mapbox": {
           "style": "light"
          },
          "paper_bgcolor": "white",
          "plot_bgcolor": "#E5ECF6",
          "polar": {
           "angularaxis": {
            "gridcolor": "white",
            "linecolor": "white",
            "ticks": ""
           },
           "bgcolor": "#E5ECF6",
           "radialaxis": {
            "gridcolor": "white",
            "linecolor": "white",
            "ticks": ""
           }
          },
          "scene": {
           "xaxis": {
            "backgroundcolor": "#E5ECF6",
            "gridcolor": "white",
            "gridwidth": 2,
            "linecolor": "white",
            "showbackground": true,
            "ticks": "",
            "zerolinecolor": "white"
           },
           "yaxis": {
            "backgroundcolor": "#E5ECF6",
            "gridcolor": "white",
            "gridwidth": 2,
            "linecolor": "white",
            "showbackground": true,
            "ticks": "",
            "zerolinecolor": "white"
           },
           "zaxis": {
            "backgroundcolor": "#E5ECF6",
            "gridcolor": "white",
            "gridwidth": 2,
            "linecolor": "white",
            "showbackground": true,
            "ticks": "",
            "zerolinecolor": "white"
           }
          },
          "shapedefaults": {
           "line": {
            "color": "#2a3f5f"
           }
          },
          "ternary": {
           "aaxis": {
            "gridcolor": "white",
            "linecolor": "white",
            "ticks": ""
           },
           "baxis": {
            "gridcolor": "white",
            "linecolor": "white",
            "ticks": ""
           },
           "bgcolor": "#E5ECF6",
           "caxis": {
            "gridcolor": "white",
            "linecolor": "white",
            "ticks": ""
           }
          },
          "title": {
           "x": 0.05
          },
          "xaxis": {
           "automargin": true,
           "gridcolor": "white",
           "linecolor": "white",
           "ticks": "",
           "title": {
            "standoff": 15
           },
           "zerolinecolor": "white",
           "zerolinewidth": 2
          },
          "yaxis": {
           "automargin": true,
           "gridcolor": "white",
           "linecolor": "white",
           "ticks": "",
           "title": {
            "standoff": 15
           },
           "zerolinecolor": "white",
           "zerolinewidth": 2
          }
         }
        },
        "updatemenus": [
         {
          "buttons": [
           {
            "args": [
             null,
             {
              "frame": {
               "duration": 500,
               "redraw": false
              },
              "fromcurrent": true,
              "mode": "immediate",
              "transition": {
               "duration": 500,
               "easing": "linear"
              }
             }
            ],
            "label": "&#9654;",
            "method": "animate"
           },
           {
            "args": [
             [
              null
             ],
             {
              "frame": {
               "duration": 0,
               "redraw": false
              },
              "fromcurrent": true,
              "mode": "immediate",
              "transition": {
               "duration": 0,
               "easing": "linear"
              }
             }
            ],
            "label": "&#9724;",
            "method": "animate"
           }
          ],
          "direction": "left",
          "pad": {
           "r": 10,
           "t": 70
          },
          "showactive": false,
          "type": "buttons",
          "x": 0.1,
          "xanchor": "right",
          "y": 0,
          "yanchor": "top"
         }
        ],
        "xaxis": {
         "anchor": "y",
         "domain": [
          0,
          1
         ],
         "range": [
          -122.0628356934,
          -122.0193252563
         ],
         "title": {
          "text": "lon"
         }
        },
        "yaxis": {
         "anchor": "x",
         "domain": [
          0,
          1
         ],
         "range": [
          47.5422019958,
          47.5813675
         ],
         "title": {
          "text": "lat"
         }
        }
       }
      }
     },
     "metadata": {},
     "output_type": "display_data"
    }
   ],
   "source": [
    "fig = px.scatter(\n",
    "    plot_data,\n",
    "    x=\"lon\",\n",
    "    y=\"lat\",\n",
    "    range_x=[np.min(plot_data['lon']), np.max(plot_data['lon'])],\n",
    "    range_y=[np.min(plot_data['lat']), np.max(plot_data['lat'])],\n",
    "    color=\"Type\",\n",
    "    animation_frame=\"timeID_s\",\n",
    "    animation_group=\"Type\"\n",
    ")\n",
    "fig.show()"
   ]
  },
  {
   "cell_type": "code",
   "execution_count": null,
   "metadata": {},
   "outputs": [],
   "source": []
  },
  {
   "cell_type": "code",
   "execution_count": null,
   "metadata": {},
   "outputs": [],
   "source": []
  },
  {
   "cell_type": "code",
   "execution_count": 4,
   "metadata": {},
   "outputs": [
    {
     "data": {
      "text/plain": [
       "332"
      ]
     },
     "execution_count": 4,
     "metadata": {},
     "output_type": "execute_result"
    }
   ],
   "source": [
    "shingle = 1\n",
    "\n",
    "# Filter on id and time\n",
    "shingle_plot_data = train_traces[train_traces['shingle_id']==shingle]\n",
    "adjacent_plot_data = train_traces[train_traces['locationtime']<=np.max(shingle_plot_data['locationtime'])]\n",
    "adjacent_plot_data = adjacent_plot_data[adjacent_plot_data['locationtime']>=np.min(shingle_plot_data['locationtime'])]\n",
    "adjacent_plot_data = adjacent_plot_data[adjacent_plot_data['shingle_id']!=np.min(shingle_plot_data['shingle_id'])]\n",
    "\n",
    "# Filter on distance\n",
    "points = np.array([adjacent_plot_data['lon'], adjacent_plot_data['lat']]).T.tolist()\n",
    "query_points = np.array([shingle_plot_data['lon'], shingle_plot_data['lat']]).T.tolist()\n",
    "distance = .001\n",
    "flat_list = shape_utils.get_points_within_dist(points, query_points, distance)\n",
    "adjacent_plot_data = adjacent_plot_data.iloc[flat_list]\n",
    "\n",
    "# Join together for animation\n",
    "shingle_plot_data['Trip Type'] = \"Target\"\n",
    "adjacent_plot_data['Trip Type'] = \"Adjacent\"\n",
    "plot_data = pd.concat([shingle_plot_data, adjacent_plot_data]).sort_values(['shingle_id','locationtime'])\n",
    "len(plot_data)"
   ]
  },
  {
   "cell_type": "code",
   "execution_count": null,
   "metadata": {},
   "outputs": [],
   "source": [
    "data = plot_data[['lon','lat','locationtime','shingle_id']]\n",
    "data = data[data['shingle_id']==shingle].values\n",
    "\n",
    "# Get unique IDs\n",
    "IDs = np.unique(data[:, 3])\n",
    "\n",
    "# Find the minimum and maximum times across all traces\n",
    "t_min = np.min(data[:, 2])\n",
    "t_max = np.max(data[:, 2])\n",
    "\n",
    "# Set the time step for interpolation\n",
    "dt = 1.0  # for example, 1 second\n",
    "\n",
    "# Create a uniform time grid that covers the entire time range\n",
    "t_grid = np.arange(t_min, t_max + dt, dt)\n",
    "\n",
    "# Initialize arrays to store the interpolated x and y values for each trace\n",
    "x_interp = np.zeros((len(t_grid), len(IDs)))\n",
    "y_interp = np.zeros((len(t_grid), len(IDs)))\n",
    "\n",
    "# Loop over each ID and interpolate x and y coordinates onto the uniform time grid\n",
    "for i, ID in enumerate(IDs):\n",
    "    # Extract x, y, and time values for the current trace\n",
    "    trace_data = data[data[:, 3] == ID][:, :3]\n",
    "    x = trace_data[:, 0]\n",
    "    y = trace_data[:, 1]\n",
    "    t = trace_data[:, 2]\n",
    "    \n",
    "    # Interpolate x and y coordinates onto the uniform time grid using cubic interpolation\n",
    "    x_interp[:, i] = np.interp(t_grid, t, x, left=np.nan, right=np.nan)\n",
    "    y_interp[:, i] = np.interp(t_grid, t, y, left=np.nan, right=np.nan)\n",
    "\n",
    "# Combine the interpolated x, y, and time values to create a new set of points representing one observation per timestep, per trace\n",
    "interpolated_data = np.column_stack((x_interp.flatten(), y_interp.flatten(), np.tile(t_grid, len(IDs)), np.repeat(IDs, len(t_grid))))\n",
    "plot_data = pd.DataFrame(interpolated_data, columns=['lon','lat','locationtime','shingle_id'])"
   ]
  },
  {
   "cell_type": "code",
   "execution_count": 6,
   "metadata": {},
   "outputs": [
    {
     "data": {
      "application/vnd.plotly.v1+json": {
       "config": {
        "plotlyServerURL": "https://plot.ly"
       },
       "data": [
        {
         "hovertemplate": "locationtime=1610466953<br>lon=%{x}<br>lat=%{y}<br>shingle_id=%{marker.color}<extra></extra>",
         "ids": [
          1
         ],
         "legendgroup": "",
         "marker": {
          "color": [
           1
          ],
          "coloraxis": "coloraxis",
          "symbol": "circle"
         },
         "mode": "markers",
         "name": "",
         "orientation": "v",
         "showlegend": false,
         "type": "scatter",
         "x": [
          -122.0354537964
         ],
         "xaxis": "x",
         "y": [
          47.6293258667
         ],
         "yaxis": "y"
        }
       ],
       "frames": [
        {
         "data": [
          {
           "hovertemplate": "locationtime=1610466953<br>lon=%{x}<br>lat=%{y}<br>shingle_id=%{marker.color}<extra></extra>",
           "ids": [
            1
           ],
           "legendgroup": "",
           "marker": {
            "color": [
             1
            ],
            "coloraxis": "coloraxis",
            "symbol": "circle"
           },
           "mode": "markers",
           "name": "",
           "orientation": "v",
           "showlegend": false,
           "type": "scatter",
           "x": [
            -122.0354537964
           ],
           "xaxis": "x",
           "y": [
            47.6293258667
           ],
           "yaxis": "y"
          }
         ],
         "name": "1610466953"
        },
        {
         "data": [
          {
           "hovertemplate": "locationtime=1610467008<br>lon=%{x}<br>lat=%{y}<br>shingle_id=%{marker.color}<extra></extra>",
           "ids": [
            5532
           ],
           "legendgroup": "",
           "marker": {
            "color": [
             5532
            ],
            "coloraxis": "coloraxis",
            "symbol": "circle"
           },
           "mode": "markers",
           "name": "",
           "orientation": "v",
           "showlegend": false,
           "type": "scatter",
           "x": [
            -122.137512207
           ],
           "xaxis": "x",
           "y": [
            47.6459922791
           ],
           "yaxis": "y"
          }
         ],
         "name": "1610467008"
        },
        {
         "data": [
          {
           "hovertemplate": "locationtime=1610467010<br>lon=%{x}<br>lat=%{y}<br>shingle_id=%{marker.color}<extra></extra>",
           "ids": [
            1
           ],
           "legendgroup": "",
           "marker": {
            "color": [
             1
            ],
            "coloraxis": "coloraxis",
            "symbol": "circle"
           },
           "mode": "markers",
           "name": "",
           "orientation": "v",
           "showlegend": false,
           "type": "scatter",
           "x": [
            -122.0388259888
           ],
           "xaxis": "x",
           "y": [
            47.6353149414
           ],
           "yaxis": "y"
          }
         ],
         "name": "1610467010"
        },
        {
         "data": [
          {
           "hovertemplate": "locationtime=1610467032<br>lon=%{x}<br>lat=%{y}<br>shingle_id=%{marker.color}<extra></extra>",
           "ids": [
            1
           ],
           "legendgroup": "",
           "marker": {
            "color": [
             1
            ],
            "coloraxis": "coloraxis",
            "symbol": "circle"
           },
           "mode": "markers",
           "name": "",
           "orientation": "v",
           "showlegend": false,
           "type": "scatter",
           "x": [
            -122.0431442261
           ],
           "xaxis": "x",
           "y": [
            47.6363868713
           ],
           "yaxis": "y"
          }
         ],
         "name": "1610467032"
        },
        {
         "data": [
          {
           "hovertemplate": "locationtime=1610467056<br>lon=%{x}<br>lat=%{y}<br>shingle_id=%{marker.color}<extra></extra>",
           "ids": [
            1
           ],
           "legendgroup": "",
           "marker": {
            "color": [
             1
            ],
            "coloraxis": "coloraxis",
            "symbol": "circle"
           },
           "mode": "markers",
           "name": "",
           "orientation": "v",
           "showlegend": false,
           "type": "scatter",
           "x": [
            -122.0478286743
           ],
           "xaxis": "x",
           "y": [
            47.6381263733
           ],
           "yaxis": "y"
          }
         ],
         "name": "1610467056"
        },
        {
         "data": [
          {
           "hovertemplate": "locationtime=1610467068<br>lon=%{x}<br>lat=%{y}<br>shingle_id=%{marker.color}<extra></extra>",
           "ids": [
            469,
            469,
            469,
            469,
            469,
            469,
            469,
            469,
            469,
            469,
            469,
            469,
            469
           ],
           "legendgroup": "",
           "marker": {
            "color": [
             469,
             469,
             469,
             469,
             469,
             469,
             469,
             469,
             469,
             469,
             469,
             469,
             469
            ],
            "coloraxis": "coloraxis",
            "symbol": "circle"
           },
           "mode": "markers",
           "name": "",
           "orientation": "v",
           "showlegend": false,
           "type": "scatter",
           "x": [
            -122.136177063,
            -122.136177063,
            -122.136177063,
            -122.136177063,
            -122.136177063,
            -122.136177063,
            -122.136177063,
            -122.136177063,
            -122.136177063,
            -122.136177063,
            -122.136177063,
            -122.136177063,
            -122.136177063
           ],
           "xaxis": "x",
           "y": [
            47.6331596375,
            47.6331596375,
            47.6331596375,
            47.6331596375,
            47.6331596375,
            47.6331596375,
            47.6331596375,
            47.6331596375,
            47.6331596375,
            47.6331596375,
            47.6331596375,
            47.6331596375,
            47.6331596375
           ],
           "yaxis": "y"
          }
         ],
         "name": "1610467068"
        },
        {
         "data": [
          {
           "hovertemplate": "locationtime=1610467080<br>lon=%{x}<br>lat=%{y}<br>shingle_id=%{marker.color}<extra></extra>",
           "ids": [
            469
           ],
           "legendgroup": "",
           "marker": {
            "color": [
             469
            ],
            "coloraxis": "coloraxis",
            "symbol": "circle"
           },
           "mode": "markers",
           "name": "",
           "orientation": "v",
           "showlegend": false,
           "type": "scatter",
           "x": [
            -122.1373291016
           ],
           "xaxis": "x",
           "y": [
            47.6332778931
           ],
           "yaxis": "y"
          }
         ],
         "name": "1610467080"
        },
        {
         "data": [
          {
           "hovertemplate": "locationtime=1610467086<br>lon=%{x}<br>lat=%{y}<br>shingle_id=%{marker.color}<extra></extra>",
           "ids": [
            1
           ],
           "legendgroup": "",
           "marker": {
            "color": [
             1
            ],
            "coloraxis": "coloraxis",
            "symbol": "circle"
           },
           "mode": "markers",
           "name": "",
           "orientation": "v",
           "showlegend": false,
           "type": "scatter",
           "x": [
            -122.0537796021
           ],
           "xaxis": "x",
           "y": [
            47.6401367188
           ],
           "yaxis": "y"
          }
         ],
         "name": "1610467086"
        },
        {
         "data": [
          {
           "hovertemplate": "locationtime=1610467126<br>lon=%{x}<br>lat=%{y}<br>shingle_id=%{marker.color}<extra></extra>",
           "ids": [
            469
           ],
           "legendgroup": "",
           "marker": {
            "color": [
             469
            ],
            "coloraxis": "coloraxis",
            "symbol": "circle"
           },
           "mode": "markers",
           "name": "",
           "orientation": "v",
           "showlegend": false,
           "type": "scatter",
           "x": [
            -122.1371917725
           ],
           "xaxis": "x",
           "y": [
            47.6332740784
           ],
           "yaxis": "y"
          }
         ],
         "name": "1610467126"
        },
        {
         "data": [
          {
           "hovertemplate": "locationtime=1610467134<br>lon=%{x}<br>lat=%{y}<br>shingle_id=%{marker.color}<extra></extra>",
           "ids": [
            1
           ],
           "legendgroup": "",
           "marker": {
            "color": [
             1
            ],
            "coloraxis": "coloraxis",
            "symbol": "circle"
           },
           "mode": "markers",
           "name": "",
           "orientation": "v",
           "showlegend": false,
           "type": "scatter",
           "x": [
            -122.0565719604
           ],
           "xaxis": "x",
           "y": [
            47.6446609497
           ],
           "yaxis": "y"
          }
         ],
         "name": "1610467134"
        },
        {
         "data": [
          {
           "hovertemplate": "locationtime=1610467157<br>lon=%{x}<br>lat=%{y}<br>shingle_id=%{marker.color}<extra></extra>",
           "ids": [
            1
           ],
           "legendgroup": "",
           "marker": {
            "color": [
             1
            ],
            "coloraxis": "coloraxis",
            "symbol": "circle"
           },
           "mode": "markers",
           "name": "",
           "orientation": "v",
           "showlegend": false,
           "type": "scatter",
           "x": [
            -122.0558166504
           ],
           "xaxis": "x",
           "y": [
            47.6492919922
           ],
           "yaxis": "y"
          }
         ],
         "name": "1610467157"
        },
        {
         "data": [
          {
           "hovertemplate": "locationtime=1610467178<br>lon=%{x}<br>lat=%{y}<br>shingle_id=%{marker.color}<extra></extra>",
           "ids": [
            1755
           ],
           "legendgroup": "",
           "marker": {
            "color": [
             1755
            ],
            "coloraxis": "coloraxis",
            "symbol": "circle"
           },
           "mode": "markers",
           "name": "",
           "orientation": "v",
           "showlegend": false,
           "type": "scatter",
           "x": [
            -122.1433258057
           ],
           "xaxis": "x",
           "y": [
            47.6518974304
           ],
           "yaxis": "y"
          }
         ],
         "name": "1610467178"
        },
        {
         "data": [
          {
           "hovertemplate": "locationtime=1610467184<br>lon=%{x}<br>lat=%{y}<br>shingle_id=%{marker.color}<extra></extra>",
           "ids": [
            529
           ],
           "legendgroup": "",
           "marker": {
            "color": [
             529
            ],
            "coloraxis": "coloraxis",
            "symbol": "circle"
           },
           "mode": "markers",
           "name": "",
           "orientation": "v",
           "showlegend": false,
           "type": "scatter",
           "x": [
            -122.1433105469
           ],
           "xaxis": "x",
           "y": [
            47.6514854431
           ],
           "yaxis": "y"
          }
         ],
         "name": "1610467184"
        },
        {
         "data": [
          {
           "hovertemplate": "locationtime=1610467188<br>lon=%{x}<br>lat=%{y}<br>shingle_id=%{marker.color}<extra></extra>",
           "ids": [
            1
           ],
           "legendgroup": "",
           "marker": {
            "color": [
             1
            ],
            "coloraxis": "coloraxis",
            "symbol": "circle"
           },
           "mode": "markers",
           "name": "",
           "orientation": "v",
           "showlegend": false,
           "type": "scatter",
           "x": [
            -122.0604476929
           ],
           "xaxis": "x",
           "y": [
            47.6522407532
           ],
           "yaxis": "y"
          }
         ],
         "name": "1610467188"
        },
        {
         "data": [
          {
           "hovertemplate": "locationtime=1610467189<br>lon=%{x}<br>lat=%{y}<br>shingle_id=%{marker.color}<extra></extra>",
           "ids": [
            5532
           ],
           "legendgroup": "",
           "marker": {
            "color": [
             5532
            ],
            "coloraxis": "coloraxis",
            "symbol": "circle"
           },
           "mode": "markers",
           "name": "",
           "orientation": "v",
           "showlegend": false,
           "type": "scatter",
           "x": [
            -122.137512207
           ],
           "xaxis": "x",
           "y": [
            47.6459922791
           ],
           "yaxis": "y"
          }
         ],
         "name": "1610467189"
        },
        {
         "data": [
          {
           "hovertemplate": "locationtime=1610467224<br>lon=%{x}<br>lat=%{y}<br>shingle_id=%{marker.color}<extra></extra>",
           "ids": [
            1
           ],
           "legendgroup": "",
           "marker": {
            "color": [
             1
            ],
            "coloraxis": "coloraxis",
            "symbol": "circle"
           },
           "mode": "markers",
           "name": "",
           "orientation": "v",
           "showlegend": false,
           "type": "scatter",
           "x": [
            -122.0626449585
           ],
           "xaxis": "x",
           "y": [
            47.6559524536
           ],
           "yaxis": "y"
          }
         ],
         "name": "1610467224"
        },
        {
         "data": [
          {
           "hovertemplate": "locationtime=1610467230<br>lon=%{x}<br>lat=%{y}<br>shingle_id=%{marker.color}<extra></extra>",
           "ids": [
            469,
            469,
            469,
            469,
            469,
            469,
            469,
            469,
            469,
            469,
            469
           ],
           "legendgroup": "",
           "marker": {
            "color": [
             469,
             469,
             469,
             469,
             469,
             469,
             469,
             469,
             469,
             469,
             469
            ],
            "coloraxis": "coloraxis",
            "symbol": "circle"
           },
           "mode": "markers",
           "name": "",
           "orientation": "v",
           "showlegend": false,
           "type": "scatter",
           "x": [
            -122.1328125,
            -122.1328125,
            -122.1328125,
            -122.1328125,
            -122.1328125,
            -122.1328125,
            -122.1328125,
            -122.1328125,
            -122.1328125,
            -122.1328125,
            -122.1328125
           ],
           "xaxis": "x",
           "y": [
            47.6381530762,
            47.6381530762,
            47.6381530762,
            47.6381530762,
            47.6381530762,
            47.6381530762,
            47.6381530762,
            47.6381530762,
            47.6381530762,
            47.6381530762,
            47.6381530762
           ],
           "yaxis": "y"
          }
         ],
         "name": "1610467230"
        },
        {
         "data": [
          {
           "hovertemplate": "locationtime=1610467254<br>lon=%{x}<br>lat=%{y}<br>shingle_id=%{marker.color}<extra></extra>",
           "ids": [
            1
           ],
           "legendgroup": "",
           "marker": {
            "color": [
             1
            ],
            "coloraxis": "coloraxis",
            "symbol": "circle"
           },
           "mode": "markers",
           "name": "",
           "orientation": "v",
           "showlegend": false,
           "type": "scatter",
           "x": [
            -122.0626525879
           ],
           "xaxis": "x",
           "y": [
            47.6562042236
           ],
           "yaxis": "y"
          }
         ],
         "name": "1610467254"
        },
        {
         "data": [
          {
           "hovertemplate": "locationtime=1610467351<br>lon=%{x}<br>lat=%{y}<br>shingle_id=%{marker.color}<extra></extra>",
           "ids": [
            469
           ],
           "legendgroup": "",
           "marker": {
            "color": [
             469
            ],
            "coloraxis": "coloraxis",
            "symbol": "circle"
           },
           "mode": "markers",
           "name": "",
           "orientation": "v",
           "showlegend": false,
           "type": "scatter",
           "x": [
            -122.1283950806
           ],
           "xaxis": "x",
           "y": [
            47.6425132751
           ],
           "yaxis": "y"
          }
         ],
         "name": "1610467351"
        },
        {
         "data": [
          {
           "hovertemplate": "locationtime=1610467375<br>lon=%{x}<br>lat=%{y}<br>shingle_id=%{marker.color}<extra></extra>",
           "ids": [
            1
           ],
           "legendgroup": "",
           "marker": {
            "color": [
             1
            ],
            "coloraxis": "coloraxis",
            "symbol": "circle"
           },
           "mode": "markers",
           "name": "",
           "orientation": "v",
           "showlegend": false,
           "type": "scatter",
           "x": [
            -122.0720748901
           ],
           "xaxis": "x",
           "y": [
            47.6556396484
           ],
           "yaxis": "y"
          }
         ],
         "name": "1610467375"
        },
        {
         "data": [
          {
           "hovertemplate": "locationtime=1610467385<br>lon=%{x}<br>lat=%{y}<br>shingle_id=%{marker.color}<extra></extra>",
           "ids": [
            1645
           ],
           "legendgroup": "",
           "marker": {
            "color": [
             1645
            ],
            "coloraxis": "coloraxis",
            "symbol": "circle"
           },
           "mode": "markers",
           "name": "",
           "orientation": "v",
           "showlegend": false,
           "type": "scatter",
           "x": [
            -122.1376724243
           ],
           "xaxis": "x",
           "y": [
            47.6364402771
           ],
           "yaxis": "y"
          }
         ],
         "name": "1610467385"
        },
        {
         "data": [
          {
           "hovertemplate": "locationtime=1610467403<br>lon=%{x}<br>lat=%{y}<br>shingle_id=%{marker.color}<extra></extra>",
           "ids": [
            1
           ],
           "legendgroup": "",
           "marker": {
            "color": [
             1
            ],
            "coloraxis": "coloraxis",
            "symbol": "circle"
           },
           "mode": "markers",
           "name": "",
           "orientation": "v",
           "showlegend": false,
           "type": "scatter",
           "x": [
            -122.0626220703
           ],
           "xaxis": "x",
           "y": [
            47.6554679871
           ],
           "yaxis": "y"
          }
         ],
         "name": "1610467403"
        },
        {
         "data": [
          {
           "hovertemplate": "locationtime=1610467426<br>lon=%{x}<br>lat=%{y}<br>shingle_id=%{marker.color}<extra></extra>",
           "ids": [
            1645
           ],
           "legendgroup": "",
           "marker": {
            "color": [
             1645
            ],
            "coloraxis": "coloraxis",
            "symbol": "circle"
           },
           "mode": "markers",
           "name": "",
           "orientation": "v",
           "showlegend": false,
           "type": "scatter",
           "x": [
            -122.1355361938
           ],
           "xaxis": "x",
           "y": [
            47.6381454468
           ],
           "yaxis": "y"
          }
         ],
         "name": "1610467426"
        },
        {
         "data": [
          {
           "hovertemplate": "locationtime=1610467427<br>lon=%{x}<br>lat=%{y}<br>shingle_id=%{marker.color}<extra></extra>",
           "ids": [
            469
           ],
           "legendgroup": "",
           "marker": {
            "color": [
             469
            ],
            "coloraxis": "coloraxis",
            "symbol": "circle"
           },
           "mode": "markers",
           "name": "",
           "orientation": "v",
           "showlegend": false,
           "type": "scatter",
           "x": [
            -122.1360702515
           ],
           "xaxis": "x",
           "y": [
            47.6381225586
           ],
           "yaxis": "y"
          }
         ],
         "name": "1610467427"
        },
        {
         "data": [
          {
           "hovertemplate": "locationtime=1610467448<br>lon=%{x}<br>lat=%{y}<br>shingle_id=%{marker.color}<extra></extra>",
           "ids": [
            801
           ],
           "legendgroup": "",
           "marker": {
            "color": [
             801
            ],
            "coloraxis": "coloraxis",
            "symbol": "circle"
           },
           "mode": "markers",
           "name": "",
           "orientation": "v",
           "showlegend": false,
           "type": "scatter",
           "x": [
            -122.1322860718
           ],
           "xaxis": "x",
           "y": [
            47.6460342407
           ],
           "yaxis": "y"
          }
         ],
         "name": "1610467448"
        },
        {
         "data": [
          {
           "hovertemplate": "locationtime=1610467449<br>lon=%{x}<br>lat=%{y}<br>shingle_id=%{marker.color}<extra></extra>",
           "ids": [
            1755,
            1755,
            1755,
            1755,
            1755,
            1755,
            1755,
            1755,
            1755,
            1755,
            1755
           ],
           "legendgroup": "",
           "marker": {
            "color": [
             1755,
             1755,
             1755,
             1755,
             1755,
             1755,
             1755,
             1755,
             1755,
             1755,
             1755
            ],
            "coloraxis": "coloraxis",
            "symbol": "circle"
           },
           "mode": "markers",
           "name": "",
           "orientation": "v",
           "showlegend": false,
           "type": "scatter",
           "x": [
            -122.1332321167,
            -122.1332321167,
            -122.1332321167,
            -122.1332321167,
            -122.1332321167,
            -122.1332321167,
            -122.1332321167,
            -122.1332321167,
            -122.1332321167,
            -122.1332321167,
            -122.1332321167
           ],
           "xaxis": "x",
           "y": [
            47.6381492615,
            47.6381492615,
            47.6381492615,
            47.6381492615,
            47.6381492615,
            47.6381492615,
            47.6381492615,
            47.6381492615,
            47.6381492615,
            47.6381492615,
            47.6381492615
           ],
           "yaxis": "y"
          }
         ],
         "name": "1610467449"
        },
        {
         "data": [
          {
           "hovertemplate": "locationtime=1610467456<br>lon=%{x}<br>lat=%{y}<br>shingle_id=%{marker.color}<extra></extra>",
           "ids": [
            1645,
            1645,
            1645,
            1645,
            1645,
            1645,
            1645,
            1645,
            1645,
            1645,
            1645
           ],
           "legendgroup": "",
           "marker": {
            "color": [
             1645,
             1645,
             1645,
             1645,
             1645,
             1645,
             1645,
             1645,
             1645,
             1645,
             1645
            ],
            "coloraxis": "coloraxis",
            "symbol": "circle"
           },
           "mode": "markers",
           "name": "",
           "orientation": "v",
           "showlegend": false,
           "type": "scatter",
           "x": [
            -122.1325302124,
            -122.1325302124,
            -122.1325302124,
            -122.1325302124,
            -122.1325302124,
            -122.1325302124,
            -122.1325302124,
            -122.1325302124,
            -122.1325302124,
            -122.1325302124,
            -122.1325302124
           ],
           "xaxis": "x",
           "y": [
            47.6381530762,
            47.6381530762,
            47.6381530762,
            47.6381530762,
            47.6381530762,
            47.6381530762,
            47.6381530762,
            47.6381530762,
            47.6381530762,
            47.6381530762,
            47.6381530762
           ],
           "yaxis": "y"
          }
         ],
         "name": "1610467456"
        },
        {
         "data": [
          {
           "hovertemplate": "locationtime=1610467484<br>lon=%{x}<br>lat=%{y}<br>shingle_id=%{marker.color}<extra></extra>",
           "ids": [
            1821
           ],
           "legendgroup": "",
           "marker": {
            "color": [
             1821
            ],
            "coloraxis": "coloraxis",
            "symbol": "circle"
           },
           "mode": "markers",
           "name": "",
           "orientation": "v",
           "showlegend": false,
           "type": "scatter",
           "x": [
            -122.1370773315
           ],
           "xaxis": "x",
           "y": [
            47.637336731
           ],
           "yaxis": "y"
          }
         ],
         "name": "1610467484"
        },
        {
         "data": [
          {
           "hovertemplate": "locationtime=1610467493<br>lon=%{x}<br>lat=%{y}<br>shingle_id=%{marker.color}<extra></extra>",
           "ids": [
            1
           ],
           "legendgroup": "",
           "marker": {
            "color": [
             1
            ],
            "coloraxis": "coloraxis",
            "symbol": "circle"
           },
           "mode": "markers",
           "name": "",
           "orientation": "v",
           "showlegend": false,
           "type": "scatter",
           "x": [
            -122.0878601074
           ],
           "xaxis": "x",
           "y": [
            47.6579246521
           ],
           "yaxis": "y"
          }
         ],
         "name": "1610467493"
        },
        {
         "data": [
          {
           "hovertemplate": "locationtime=1610467501<br>lon=%{x}<br>lat=%{y}<br>shingle_id=%{marker.color}<extra></extra>",
           "ids": [
            1822
           ],
           "legendgroup": "",
           "marker": {
            "color": [
             1822
            ],
            "coloraxis": "coloraxis",
            "symbol": "circle"
           },
           "mode": "markers",
           "name": "",
           "orientation": "v",
           "showlegend": false,
           "type": "scatter",
           "x": [
            -122.1354980469
           ],
           "xaxis": "x",
           "y": [
            47.6381454468
           ],
           "yaxis": "y"
          }
         ],
         "name": "1610467501"
        },
        {
         "data": [
          {
           "hovertemplate": "locationtime=1610467554<br>lon=%{x}<br>lat=%{y}<br>shingle_id=%{marker.color}<extra></extra>",
           "ids": [
            1787
           ],
           "legendgroup": "",
           "marker": {
            "color": [
             1787
            ],
            "coloraxis": "coloraxis",
            "symbol": "circle"
           },
           "mode": "markers",
           "name": "",
           "orientation": "v",
           "showlegend": false,
           "type": "scatter",
           "x": [
            -122.1368255615
           ],
           "xaxis": "x",
           "y": [
            47.6459999084
           ],
           "yaxis": "y"
          }
         ],
         "name": "1610467554"
        },
        {
         "data": [
          {
           "hovertemplate": "locationtime=1610467577<br>lon=%{x}<br>lat=%{y}<br>shingle_id=%{marker.color}<extra></extra>",
           "ids": [
            1645
           ],
           "legendgroup": "",
           "marker": {
            "color": [
             1645
            ],
            "coloraxis": "coloraxis",
            "symbol": "circle"
           },
           "mode": "markers",
           "name": "",
           "orientation": "v",
           "showlegend": false,
           "type": "scatter",
           "x": [
            -122.1322860718
           ],
           "xaxis": "x",
           "y": [
            47.6457595825
           ],
           "yaxis": "y"
          }
         ],
         "name": "1610467577"
        },
        {
         "data": [
          {
           "hovertemplate": "locationtime=1610467583<br>lon=%{x}<br>lat=%{y}<br>shingle_id=%{marker.color}<extra></extra>",
           "ids": [
            1
           ],
           "legendgroup": "",
           "marker": {
            "color": [
             1
            ],
            "coloraxis": "coloraxis",
            "symbol": "circle"
           },
           "mode": "markers",
           "name": "",
           "orientation": "v",
           "showlegend": false,
           "type": "scatter",
           "x": [
            -122.0932388306
           ],
           "xaxis": "x",
           "y": [
            47.6639671326
           ],
           "yaxis": "y"
          }
         ],
         "name": "1610467583"
        },
        {
         "data": [
          {
           "hovertemplate": "locationtime=1610467593<br>lon=%{x}<br>lat=%{y}<br>shingle_id=%{marker.color}<extra></extra>",
           "ids": [
            469
           ],
           "legendgroup": "",
           "marker": {
            "color": [
             469
            ],
            "coloraxis": "coloraxis",
            "symbol": "circle"
           },
           "mode": "markers",
           "name": "",
           "orientation": "v",
           "showlegend": false,
           "type": "scatter",
           "x": [
            -122.1316833496
           ],
           "xaxis": "x",
           "y": [
            47.6460494995
           ],
           "yaxis": "y"
          }
         ],
         "name": "1610467593"
        },
        {
         "data": [
          {
           "hovertemplate": "locationtime=1610467607<br>lon=%{x}<br>lat=%{y}<br>shingle_id=%{marker.color}<extra></extra>",
           "ids": [
            469
           ],
           "legendgroup": "",
           "marker": {
            "color": [
             469
            ],
            "coloraxis": "coloraxis",
            "symbol": "circle"
           },
           "mode": "markers",
           "name": "",
           "orientation": "v",
           "showlegend": false,
           "type": "scatter",
           "x": [
            -122.1305541992
           ],
           "xaxis": "x",
           "y": [
            47.6460533142
           ],
           "yaxis": "y"
          }
         ],
         "name": "1610467607"
        },
        {
         "data": [
          {
           "hovertemplate": "locationtime=1610467615<br>lon=%{x}<br>lat=%{y}<br>shingle_id=%{marker.color}<extra></extra>",
           "ids": [
            1787,
            1822
           ],
           "legendgroup": "",
           "marker": {
            "color": [
             1787,
             1822
            ],
            "coloraxis": "coloraxis",
            "symbol": "circle"
           },
           "mode": "markers",
           "name": "",
           "orientation": "v",
           "showlegend": false,
           "type": "scatter",
           "x": [
            -122.1377105713,
            -122.1322860718
           ],
           "xaxis": "x",
           "y": [
            47.6459884644,
            47.6458854675
           ],
           "yaxis": "y"
          }
         ],
         "name": "1610467615"
        },
        {
         "data": [
          {
           "hovertemplate": "locationtime=1610467656<br>lon=%{x}<br>lat=%{y}<br>shingle_id=%{marker.color}<extra></extra>",
           "ids": [
            1645
           ],
           "legendgroup": "",
           "marker": {
            "color": [
             1645
            ],
            "coloraxis": "coloraxis",
            "symbol": "circle"
           },
           "mode": "markers",
           "name": "",
           "orientation": "v",
           "showlegend": false,
           "type": "scatter",
           "x": [
            -122.137878418
           ],
           "xaxis": "x",
           "y": [
            47.6459884644
           ],
           "yaxis": "y"
          }
         ],
         "name": "1610467656"
        },
        {
         "data": [
          {
           "hovertemplate": "locationtime=1610467661<br>lon=%{x}<br>lat=%{y}<br>shingle_id=%{marker.color}<extra></extra>",
           "ids": [
            1645
           ],
           "legendgroup": "",
           "marker": {
            "color": [
             1645
            ],
            "coloraxis": "coloraxis",
            "symbol": "circle"
           },
           "mode": "markers",
           "name": "",
           "orientation": "v",
           "showlegend": false,
           "type": "scatter",
           "x": [
            -122.137802124
           ],
           "xaxis": "x",
           "y": [
            47.6459884644
           ],
           "yaxis": "y"
          }
         ],
         "name": "1610467661"
        },
        {
         "data": [
          {
           "hovertemplate": "locationtime=1610467673<br>lon=%{x}<br>lat=%{y}<br>shingle_id=%{marker.color}<extra></extra>",
           "ids": [
            1
           ],
           "legendgroup": "",
           "marker": {
            "color": [
             1
            ],
            "coloraxis": "coloraxis",
            "symbol": "circle"
           },
           "mode": "markers",
           "name": "",
           "orientation": "v",
           "showlegend": false,
           "type": "scatter",
           "x": [
            -122.0936889648
           ],
           "xaxis": "x",
           "y": [
            47.667263031
           ],
           "yaxis": "y"
          }
         ],
         "name": "1610467673"
        },
        {
         "data": [
          {
           "hovertemplate": "locationtime=1610467687<br>lon=%{x}<br>lat=%{y}<br>shingle_id=%{marker.color}<extra></extra>",
           "ids": [
            1645
           ],
           "legendgroup": "",
           "marker": {
            "color": [
             1645
            ],
            "coloraxis": "coloraxis",
            "symbol": "circle"
           },
           "mode": "markers",
           "name": "",
           "orientation": "v",
           "showlegend": false,
           "type": "scatter",
           "x": [
            -122.1402511597
           ],
           "xaxis": "x",
           "y": [
            47.6459617615
           ],
           "yaxis": "y"
          }
         ],
         "name": "1610467687"
        },
        {
         "data": [
          {
           "hovertemplate": "locationtime=1610467693<br>lon=%{x}<br>lat=%{y}<br>shingle_id=%{marker.color}<extra></extra>",
           "ids": [
            469
           ],
           "legendgroup": "",
           "marker": {
            "color": [
             469
            ],
            "coloraxis": "coloraxis",
            "symbol": "circle"
           },
           "mode": "markers",
           "name": "",
           "orientation": "v",
           "showlegend": false,
           "type": "scatter",
           "x": [
            -122.1410675049
           ],
           "xaxis": "x",
           "y": [
            47.6459541321
           ],
           "yaxis": "y"
          }
         ],
         "name": "1610467693"
        },
        {
         "data": [
          {
           "hovertemplate": "locationtime=1610467747<br>lon=%{x}<br>lat=%{y}<br>shingle_id=%{marker.color}<extra></extra>",
           "ids": [
            1822
           ],
           "legendgroup": "",
           "marker": {
            "color": [
             1822
            ],
            "coloraxis": "coloraxis",
            "symbol": "circle"
           },
           "mode": "markers",
           "name": "",
           "orientation": "v",
           "showlegend": false,
           "type": "scatter",
           "x": [
            -122.1408920288
           ],
           "xaxis": "x",
           "y": [
            47.6459541321
           ],
           "yaxis": "y"
          }
         ],
         "name": "1610467747"
        },
        {
         "data": [
          {
           "hovertemplate": "locationtime=1610467763<br>lon=%{x}<br>lat=%{y}<br>shingle_id=%{marker.color}<extra></extra>",
           "ids": [
            1
           ],
           "legendgroup": "",
           "marker": {
            "color": [
             1
            ],
            "coloraxis": "coloraxis",
            "symbol": "circle"
           },
           "mode": "markers",
           "name": "",
           "orientation": "v",
           "showlegend": false,
           "type": "scatter",
           "x": [
            -122.100151062
           ],
           "xaxis": "x",
           "y": [
            47.667640686
           ],
           "yaxis": "y"
          }
         ],
         "name": "1610467763"
        },
        {
         "data": [
          {
           "hovertemplate": "locationtime=1610467788<br>lon=%{x}<br>lat=%{y}<br>shingle_id=%{marker.color}<extra></extra>",
           "ids": [
            469
           ],
           "legendgroup": "",
           "marker": {
            "color": [
             469
            ],
            "coloraxis": "coloraxis",
            "symbol": "circle"
           },
           "mode": "markers",
           "name": "",
           "orientation": "v",
           "showlegend": false,
           "type": "scatter",
           "x": [
            -122.1431884766
           ],
           "xaxis": "x",
           "y": [
            47.65259552
           ],
           "yaxis": "y"
          }
         ],
         "name": "1610467788"
        },
        {
         "data": [
          {
           "hovertemplate": "locationtime=1610467795<br>lon=%{x}<br>lat=%{y}<br>shingle_id=%{marker.color}<extra></extra>",
           "ids": [
            1787,
            1787,
            1787,
            1787,
            1787,
            1787,
            1787,
            1787,
            1787,
            1787,
            1787
           ],
           "legendgroup": "",
           "marker": {
            "color": [
             1787,
             1787,
             1787,
             1787,
             1787,
             1787,
             1787,
             1787,
             1787,
             1787,
             1787
            ],
            "coloraxis": "coloraxis",
            "symbol": "circle"
           },
           "mode": "markers",
           "name": "",
           "orientation": "v",
           "showlegend": false,
           "type": "scatter",
           "x": [
            -122.1332473755,
            -122.1332473755,
            -122.1332473755,
            -122.1332473755,
            -122.1332473755,
            -122.1332473755,
            -122.1332473755,
            -122.1332473755,
            -122.1332473755,
            -122.1332473755,
            -122.1332473755
           ],
           "xaxis": "x",
           "y": [
            47.6381492615,
            47.6381492615,
            47.6381492615,
            47.6381492615,
            47.6381492615,
            47.6381492615,
            47.6381492615,
            47.6381492615,
            47.6381492615,
            47.6381492615,
            47.6381492615
           ],
           "yaxis": "y"
          }
         ],
         "name": "1610467795"
        },
        {
         "data": [
          {
           "hovertemplate": "locationtime=1610467831<br>lon=%{x}<br>lat=%{y}<br>shingle_id=%{marker.color}<extra></extra>",
           "ids": [
            1787
           ],
           "legendgroup": "",
           "marker": {
            "color": [
             1787
            ],
            "coloraxis": "coloraxis",
            "symbol": "circle"
           },
           "mode": "markers",
           "name": "",
           "orientation": "v",
           "showlegend": false,
           "type": "scatter",
           "x": [
            -122.1376800537
           ],
           "xaxis": "x",
           "y": [
            47.6356048584
           ],
           "yaxis": "y"
          }
         ],
         "name": "1610467831"
        },
        {
         "data": [
          {
           "hovertemplate": "locationtime=1610467854<br>lon=%{x}<br>lat=%{y}<br>shingle_id=%{marker.color}<extra></extra>",
           "ids": [
            1
           ],
           "legendgroup": "",
           "marker": {
            "color": [
             1
            ],
            "coloraxis": "coloraxis",
            "symbol": "circle"
           },
           "mode": "markers",
           "name": "",
           "orientation": "v",
           "showlegend": false,
           "type": "scatter",
           "x": [
            -122.100112915
           ],
           "xaxis": "x",
           "y": [
            47.6715278625
           ],
           "yaxis": "y"
          }
         ],
         "name": "1610467854"
        },
        {
         "data": [
          {
           "hovertemplate": "locationtime=1610467916<br>lon=%{x}<br>lat=%{y}<br>shingle_id=%{marker.color}<extra></extra>",
           "ids": [
            1
           ],
           "legendgroup": "",
           "marker": {
            "color": [
             1
            ],
            "coloraxis": "coloraxis",
            "symbol": "circle"
           },
           "mode": "markers",
           "name": "",
           "orientation": "v",
           "showlegend": false,
           "type": "scatter",
           "x": [
            -122.1013031006
           ],
           "xaxis": "x",
           "y": [
            47.6713752747
           ],
           "yaxis": "y"
          }
         ],
         "name": "1610467916"
        },
        {
         "data": [
          {
           "hovertemplate": "locationtime=1610467936<br>lon=%{x}<br>lat=%{y}<br>shingle_id=%{marker.color}<extra></extra>",
           "ids": [
            1
           ],
           "legendgroup": "",
           "marker": {
            "color": [
             1
            ],
            "coloraxis": "coloraxis",
            "symbol": "circle"
           },
           "mode": "markers",
           "name": "",
           "orientation": "v",
           "showlegend": false,
           "type": "scatter",
           "x": [
            -122.1037063599
           ],
           "xaxis": "x",
           "y": [
            47.6716842651
           ],
           "yaxis": "y"
          }
         ],
         "name": "1610467936"
        },
        {
         "data": [
          {
           "hovertemplate": "locationtime=1610467958<br>lon=%{x}<br>lat=%{y}<br>shingle_id=%{marker.color}<extra></extra>",
           "ids": [
            1
           ],
           "legendgroup": "",
           "marker": {
            "color": [
             1
            ],
            "coloraxis": "coloraxis",
            "symbol": "circle"
           },
           "mode": "markers",
           "name": "",
           "orientation": "v",
           "showlegend": false,
           "type": "scatter",
           "x": [
            -122.1037597656
           ],
           "xaxis": "x",
           "y": [
            47.6716766357
           ],
           "yaxis": "y"
          }
         ],
         "name": "1610467958"
        },
        {
         "data": [
          {
           "hovertemplate": "locationtime=1610467970<br>lon=%{x}<br>lat=%{y}<br>shingle_id=%{marker.color}<extra></extra>",
           "ids": [
            1822,
            793
           ],
           "legendgroup": "",
           "marker": {
            "color": [
             1822,
             793
            ],
            "coloraxis": "coloraxis",
            "symbol": "circle"
           },
           "mode": "markers",
           "name": "",
           "orientation": "v",
           "showlegend": false,
           "type": "scatter",
           "x": [
            -122.1431884766,
            -122.1322860718
           ],
           "xaxis": "x",
           "y": [
            47.6526069641,
            47.6459121704
           ],
           "yaxis": "y"
          }
         ],
         "name": "1610467970"
        },
        {
         "data": [
          {
           "hovertemplate": "locationtime=1610467972<br>lon=%{x}<br>lat=%{y}<br>shingle_id=%{marker.color}<extra></extra>",
           "ids": [
            5608
           ],
           "legendgroup": "",
           "marker": {
            "color": [
             5608
            ],
            "coloraxis": "coloraxis",
            "symbol": "circle"
           },
           "mode": "markers",
           "name": "",
           "orientation": "v",
           "showlegend": false,
           "type": "scatter",
           "x": [
            -122.1411132812
           ],
           "xaxis": "x",
           "y": [
            47.6459541321
           ],
           "yaxis": "y"
          }
         ],
         "name": "1610467972"
        },
        {
         "data": [
          {
           "hovertemplate": "locationtime=1610468033<br>lon=%{x}<br>lat=%{y}<br>shingle_id=%{marker.color}<extra></extra>",
           "ids": [
            1
           ],
           "legendgroup": "",
           "marker": {
            "color": [
             1
            ],
            "coloraxis": "coloraxis",
            "symbol": "circle"
           },
           "mode": "markers",
           "name": "",
           "orientation": "v",
           "showlegend": false,
           "type": "scatter",
           "x": [
            -122.1037445068
           ],
           "xaxis": "x",
           "y": [
            47.6716804504
           ],
           "yaxis": "y"
          }
         ],
         "name": "1610468033"
        },
        {
         "data": [
          {
           "hovertemplate": "locationtime=1610468123<br>lon=%{x}<br>lat=%{y}<br>shingle_id=%{marker.color}<extra></extra>",
           "ids": [
            1
           ],
           "legendgroup": "",
           "marker": {
            "color": [
             1
            ],
            "coloraxis": "coloraxis",
            "symbol": "circle"
           },
           "mode": "markers",
           "name": "",
           "orientation": "v",
           "showlegend": false,
           "type": "scatter",
           "x": [
            -122.1039199829
           ],
           "xaxis": "x",
           "y": [
            47.671661377
           ],
           "yaxis": "y"
          }
         ],
         "name": "1610468123"
        },
        {
         "data": [
          {
           "hovertemplate": "locationtime=1610468141<br>lon=%{x}<br>lat=%{y}<br>shingle_id=%{marker.color}<extra></extra>",
           "ids": [
            1613
           ],
           "legendgroup": "",
           "marker": {
            "color": [
             1613
            ],
            "coloraxis": "coloraxis",
            "symbol": "circle"
           },
           "mode": "markers",
           "name": "",
           "orientation": "v",
           "showlegend": false,
           "type": "scatter",
           "x": [
            -122.1433258057
           ],
           "xaxis": "x",
           "y": [
            47.6518440247
           ],
           "yaxis": "y"
          }
         ],
         "name": "1610468141"
        },
        {
         "data": [
          {
           "hovertemplate": "locationtime=1610468196<br>lon=%{x}<br>lat=%{y}<br>shingle_id=%{marker.color}<extra></extra>",
           "ids": [
            8
           ],
           "legendgroup": "",
           "marker": {
            "color": [
             8
            ],
            "coloraxis": "coloraxis",
            "symbol": "circle"
           },
           "mode": "markers",
           "name": "",
           "orientation": "v",
           "showlegend": false,
           "type": "scatter",
           "x": [
            -122.035446167
           ],
           "xaxis": "x",
           "y": [
            47.6298408508
           ],
           "yaxis": "y"
          }
         ],
         "name": "1610468196"
        },
        {
         "data": [
          {
           "hovertemplate": "locationtime=1610468202<br>lon=%{x}<br>lat=%{y}<br>shingle_id=%{marker.color}<extra></extra>",
           "ids": [
            5534
           ],
           "legendgroup": "",
           "marker": {
            "color": [
             5534
            ],
            "coloraxis": "coloraxis",
            "symbol": "circle"
           },
           "mode": "markers",
           "name": "",
           "orientation": "v",
           "showlegend": false,
           "type": "scatter",
           "x": [
            -122.1376953125
           ],
           "xaxis": "x",
           "y": [
            47.6459884644
           ],
           "yaxis": "y"
          }
         ],
         "name": "1610468202"
        },
        {
         "data": [
          {
           "hovertemplate": "locationtime=1610468213<br>lon=%{x}<br>lat=%{y}<br>shingle_id=%{marker.color}<extra></extra>",
           "ids": [
            1
           ],
           "legendgroup": "",
           "marker": {
            "color": [
             1
            ],
            "coloraxis": "coloraxis",
            "symbol": "circle"
           },
           "mode": "markers",
           "name": "",
           "orientation": "v",
           "showlegend": false,
           "type": "scatter",
           "x": [
            -122.1041259766
           ],
           "xaxis": "x",
           "y": [
            47.6716308594
           ],
           "yaxis": "y"
          }
         ],
         "name": "1610468213"
        },
        {
         "data": [
          {
           "hovertemplate": "locationtime=1610468231<br>lon=%{x}<br>lat=%{y}<br>shingle_id=%{marker.color}<extra></extra>",
           "ids": [
            1613
           ],
           "legendgroup": "",
           "marker": {
            "color": [
             1613
            ],
            "coloraxis": "coloraxis",
            "symbol": "circle"
           },
           "mode": "markers",
           "name": "",
           "orientation": "v",
           "showlegend": false,
           "type": "scatter",
           "x": [
            -122.1376800537
           ],
           "xaxis": "x",
           "y": [
            47.6459922791
           ],
           "yaxis": "y"
          }
         ],
         "name": "1610468231"
        },
        {
         "data": [
          {
           "hovertemplate": "locationtime=1610468271<br>lon=%{x}<br>lat=%{y}<br>shingle_id=%{marker.color}<extra></extra>",
           "ids": [
            469
           ],
           "legendgroup": "",
           "marker": {
            "color": [
             469
            ],
            "coloraxis": "coloraxis",
            "symbol": "circle"
           },
           "mode": "markers",
           "name": "",
           "orientation": "v",
           "showlegend": false,
           "type": "scatter",
           "x": [
            -122.1001586914
           ],
           "xaxis": "x",
           "y": [
            47.667301178
           ],
           "yaxis": "y"
          }
         ],
         "name": "1610468271"
        },
        {
         "data": [
          {
           "hovertemplate": "locationtime=1610468290<br>lon=%{x}<br>lat=%{y}<br>shingle_id=%{marker.color}<extra></extra>",
           "ids": [
            5534
           ],
           "legendgroup": "",
           "marker": {
            "color": [
             5534
            ],
            "coloraxis": "coloraxis",
            "symbol": "circle"
           },
           "mode": "markers",
           "name": "",
           "orientation": "v",
           "showlegend": false,
           "type": "scatter",
           "x": [
            -122.137588501
           ],
           "xaxis": "x",
           "y": [
            47.6459922791
           ],
           "yaxis": "y"
          }
         ],
         "name": "1610468290"
        },
        {
         "data": [
          {
           "hovertemplate": "locationtime=1610468326<br>lon=%{x}<br>lat=%{y}<br>shingle_id=%{marker.color}<extra></extra>",
           "ids": [
            8
           ],
           "legendgroup": "",
           "marker": {
            "color": [
             8
            ],
            "coloraxis": "coloraxis",
            "symbol": "circle"
           },
           "mode": "markers",
           "name": "",
           "orientation": "v",
           "showlegend": false,
           "type": "scatter",
           "x": [
            -122.0477752686
           ],
           "xaxis": "x",
           "y": [
            47.6381111145
           ],
           "yaxis": "y"
          }
         ],
         "name": "1610468326"
        },
        {
         "data": [
          {
           "hovertemplate": "locationtime=1610468346<br>lon=%{x}<br>lat=%{y}<br>shingle_id=%{marker.color}<extra></extra>",
           "ids": [
            1613,
            1613,
            1613,
            1613,
            1613,
            1613,
            1613,
            1613,
            1613,
            1613,
            1613
           ],
           "legendgroup": "",
           "marker": {
            "color": [
             1613,
             1613,
             1613,
             1613,
             1613,
             1613,
             1613,
             1613,
             1613,
             1613,
             1613
            ],
            "coloraxis": "coloraxis",
            "symbol": "circle"
           },
           "mode": "markers",
           "name": "",
           "orientation": "v",
           "showlegend": false,
           "type": "scatter",
           "x": [
            -122.1340026855,
            -122.1340026855,
            -122.1340026855,
            -122.1340026855,
            -122.1340026855,
            -122.1340026855,
            -122.1340026855,
            -122.1340026855,
            -122.1340026855,
            -122.1340026855,
            -122.1340026855
           ],
           "xaxis": "x",
           "y": [
            47.6381492615,
            47.6381492615,
            47.6381492615,
            47.6381492615,
            47.6381492615,
            47.6381492615,
            47.6381492615,
            47.6381492615,
            47.6381492615,
            47.6381492615,
            47.6381492615
           ],
           "yaxis": "y"
          }
         ],
         "name": "1610468346"
        },
        {
         "data": [
          {
           "hovertemplate": "locationtime=1610468356<br>lon=%{x}<br>lat=%{y}<br>shingle_id=%{marker.color}<extra></extra>",
           "ids": [
            8
           ],
           "legendgroup": "",
           "marker": {
            "color": [
             8
            ],
            "coloraxis": "coloraxis",
            "symbol": "circle"
           },
           "mode": "markers",
           "name": "",
           "orientation": "v",
           "showlegend": false,
           "type": "scatter",
           "x": [
            -122.0537567139
           ],
           "xaxis": "x",
           "y": [
            47.6401252747
           ],
           "yaxis": "y"
          }
         ],
         "name": "1610468356"
        },
        {
         "data": [
          {
           "hovertemplate": "locationtime=1610468376<br>lon=%{x}<br>lat=%{y}<br>shingle_id=%{marker.color}<extra></extra>",
           "ids": [
            1613
           ],
           "legendgroup": "",
           "marker": {
            "color": [
             1613
            ],
            "coloraxis": "coloraxis",
            "symbol": "circle"
           },
           "mode": "markers",
           "name": "",
           "orientation": "v",
           "showlegend": false,
           "type": "scatter",
           "x": [
            -122.1360702515
           ],
           "xaxis": "x",
           "y": [
            47.6381225586
           ],
           "yaxis": "y"
          }
         ],
         "name": "1610468376"
        },
        {
         "data": [
          {
           "hovertemplate": "locationtime=1610468381<br>lon=%{x}<br>lat=%{y}<br>shingle_id=%{marker.color}<extra></extra>",
           "ids": [
            5534
           ],
           "legendgroup": "",
           "marker": {
            "color": [
             5534
            ],
            "coloraxis": "coloraxis",
            "symbol": "circle"
           },
           "mode": "markers",
           "name": "",
           "orientation": "v",
           "showlegend": false,
           "type": "scatter",
           "x": [
            -122.1375350952
           ],
           "xaxis": "x",
           "y": [
            47.6459922791
           ],
           "yaxis": "y"
          }
         ],
         "name": "1610468381"
        },
        {
         "data": [
          {
           "hovertemplate": "locationtime=1610468385<br>lon=%{x}<br>lat=%{y}<br>shingle_id=%{marker.color}<extra></extra>",
           "ids": [
            469
           ],
           "legendgroup": "",
           "marker": {
            "color": [
             469
            ],
            "coloraxis": "coloraxis",
            "symbol": "circle"
           },
           "mode": "markers",
           "name": "",
           "orientation": "v",
           "showlegend": false,
           "type": "scatter",
           "x": [
            -122.0931243896
           ],
           "xaxis": "x",
           "y": [
            47.6639671326
           ],
           "yaxis": "y"
          }
         ],
         "name": "1610468385"
        },
        {
         "data": [
          {
           "hovertemplate": "locationtime=1610468394<br>lon=%{x}<br>lat=%{y}<br>shingle_id=%{marker.color}<extra></extra>",
           "ids": [
            1
           ],
           "legendgroup": "",
           "marker": {
            "color": [
             1
            ],
            "coloraxis": "coloraxis",
            "symbol": "circle"
           },
           "mode": "markers",
           "name": "",
           "orientation": "v",
           "showlegend": false,
           "type": "scatter",
           "x": [
            -122.1433258057
           ],
           "xaxis": "x",
           "y": [
            47.6518707275
           ],
           "yaxis": "y"
          }
         ],
         "name": "1610468394"
        },
        {
         "data": [
          {
           "hovertemplate": "locationtime=1610468396<br>lon=%{x}<br>lat=%{y}<br>shingle_id=%{marker.color}<extra></extra>",
           "ids": [
            8
           ],
           "legendgroup": "",
           "marker": {
            "color": [
             8
            ],
            "coloraxis": "coloraxis",
            "symbol": "circle"
           },
           "mode": "markers",
           "name": "",
           "orientation": "v",
           "showlegend": false,
           "type": "scatter",
           "x": [
            -122.0564651489
           ],
           "xaxis": "x",
           "y": [
            47.6451034546
           ],
           "yaxis": "y"
          }
         ],
         "name": "1610468396"
        },
        {
         "data": [
          {
           "hovertemplate": "locationtime=1610468427<br>lon=%{x}<br>lat=%{y}<br>shingle_id=%{marker.color}<extra></extra>",
           "ids": [
            8
           ],
           "legendgroup": "",
           "marker": {
            "color": [
             8
            ],
            "coloraxis": "coloraxis",
            "symbol": "circle"
           },
           "mode": "markers",
           "name": "",
           "orientation": "v",
           "showlegend": false,
           "type": "scatter",
           "x": [
            -122.0558776855
           ],
           "xaxis": "x",
           "y": [
            47.6494483948
           ],
           "yaxis": "y"
          }
         ],
         "name": "1610468427"
        },
        {
         "data": [
          {
           "hovertemplate": "locationtime=1610468482<br>lon=%{x}<br>lat=%{y}<br>shingle_id=%{marker.color}<extra></extra>",
           "ids": [
            8,
            8,
            8
           ],
           "legendgroup": "",
           "marker": {
            "color": [
             8,
             8,
             8
            ],
            "coloraxis": "coloraxis",
            "symbol": "circle"
           },
           "mode": "markers",
           "name": "",
           "orientation": "v",
           "showlegend": false,
           "type": "scatter",
           "x": [
            -122.0626602173,
            -122.0626602173,
            -122.0626602173
           ],
           "xaxis": "x",
           "y": [
            47.656337738,
            47.656337738,
            47.656337738
           ],
           "yaxis": "y"
          }
         ],
         "name": "1610468482"
        },
        {
         "data": [
          {
           "hovertemplate": "locationtime=1610468483<br>lon=%{x}<br>lat=%{y}<br>shingle_id=%{marker.color}<extra></extra>",
           "ids": [
            1
           ],
           "legendgroup": "",
           "marker": {
            "color": [
             1
            ],
            "coloraxis": "coloraxis",
            "symbol": "circle"
           },
           "mode": "markers",
           "name": "",
           "orientation": "v",
           "showlegend": false,
           "type": "scatter",
           "x": [
            -122.141166687
           ],
           "xaxis": "x",
           "y": [
            47.6459541321
           ],
           "yaxis": "y"
          }
         ],
         "name": "1610468483"
        },
        {
         "data": [
          {
           "hovertemplate": "locationtime=1610468512<br>lon=%{x}<br>lat=%{y}<br>shingle_id=%{marker.color}<extra></extra>",
           "ids": [
            8,
            8
           ],
           "legendgroup": "",
           "marker": {
            "color": [
             8,
             8
            ],
            "coloraxis": "coloraxis",
            "symbol": "circle"
           },
           "mode": "markers",
           "name": "",
           "orientation": "v",
           "showlegend": false,
           "type": "scatter",
           "x": [
            -122.0626678467,
            -122.0626678467
           ],
           "xaxis": "x",
           "y": [
            47.6564903259,
            47.6564903259
           ],
           "yaxis": "y"
          }
         ],
         "name": "1610468512"
        },
        {
         "data": [
          {
           "hovertemplate": "locationtime=1610468513<br>lon=%{x}<br>lat=%{y}<br>shingle_id=%{marker.color}<extra></extra>",
           "ids": [
            469
           ],
           "legendgroup": "",
           "marker": {
            "color": [
             469
            ],
            "coloraxis": "coloraxis",
            "symbol": "circle"
           },
           "mode": "markers",
           "name": "",
           "orientation": "v",
           "showlegend": false,
           "type": "scatter",
           "x": [
            -122.0879516602
           ],
           "xaxis": "x",
           "y": [
            47.6579780579
           ],
           "yaxis": "y"
          }
         ],
         "name": "1610468513"
        },
        {
         "data": [
          {
           "hovertemplate": "locationtime=1610468543<br>lon=%{x}<br>lat=%{y}<br>shingle_id=%{marker.color}<extra></extra>",
           "ids": [
            469
           ],
           "legendgroup": "",
           "marker": {
            "color": [
             469
            ],
            "coloraxis": "coloraxis",
            "symbol": "circle"
           },
           "mode": "markers",
           "name": "",
           "orientation": "v",
           "showlegend": false,
           "type": "scatter",
           "x": [
            -122.0879592896
           ],
           "xaxis": "x",
           "y": [
            47.6579666138
           ],
           "yaxis": "y"
          }
         ],
         "name": "1610468543"
        },
        {
         "data": [
          {
           "hovertemplate": "locationtime=1610468572<br>lon=%{x}<br>lat=%{y}<br>shingle_id=%{marker.color}<extra></extra>",
           "ids": [
            8
           ],
           "legendgroup": "",
           "marker": {
            "color": [
             8
            ],
            "coloraxis": "coloraxis",
            "symbol": "circle"
           },
           "mode": "markers",
           "name": "",
           "orientation": "v",
           "showlegend": false,
           "type": "scatter",
           "x": [
            -122.072883606
           ],
           "xaxis": "x",
           "y": [
            47.655380249
           ],
           "yaxis": "y"
          }
         ],
         "name": "1610468572"
        },
        {
         "data": [
          {
           "hovertemplate": "locationtime=1610468573<br>lon=%{x}<br>lat=%{y}<br>shingle_id=%{marker.color}<extra></extra>",
           "ids": [
            469,
            1
           ],
           "legendgroup": "",
           "marker": {
            "color": [
             469,
             1
            ],
            "coloraxis": "coloraxis",
            "symbol": "circle"
           },
           "mode": "markers",
           "name": "",
           "orientation": "v",
           "showlegend": false,
           "type": "scatter",
           "x": [
            -122.0880737305,
            -122.1377182007
           ],
           "xaxis": "x",
           "y": [
            47.6574745178,
            47.6459884644
           ],
           "yaxis": "y"
          }
         ],
         "name": "1610468573"
        },
        {
         "data": [
          {
           "hovertemplate": "locationtime=1610468638<br>lon=%{x}<br>lat=%{y}<br>shingle_id=%{marker.color}<extra></extra>",
           "ids": [
            470
           ],
           "legendgroup": "",
           "marker": {
            "color": [
             470
            ],
            "coloraxis": "coloraxis",
            "symbol": "circle"
           },
           "mode": "markers",
           "name": "",
           "orientation": "v",
           "showlegend": false,
           "type": "scatter",
           "x": [
            -122.0715255737
           ],
           "xaxis": "x",
           "y": [
            47.6558227539
           ],
           "yaxis": "y"
          }
         ],
         "name": "1610468638"
        },
        {
         "data": [
          {
           "hovertemplate": "locationtime=1610468651<br>lon=%{x}<br>lat=%{y}<br>shingle_id=%{marker.color}<extra></extra>",
           "ids": [
            748
           ],
           "legendgroup": "",
           "marker": {
            "color": [
             748
            ],
            "coloraxis": "coloraxis",
            "symbol": "circle"
           },
           "mode": "markers",
           "name": "",
           "orientation": "v",
           "showlegend": false,
           "type": "scatter",
           "x": [
            -122.1322860718
           ],
           "xaxis": "x",
           "y": [
            47.6460494995
           ],
           "yaxis": "y"
          }
         ],
         "name": "1610468651"
        },
        {
         "data": [
          {
           "hovertemplate": "locationtime=1610468663<br>lon=%{x}<br>lat=%{y}<br>shingle_id=%{marker.color}<extra></extra>",
           "ids": [
            1
           ],
           "legendgroup": "",
           "marker": {
            "color": [
             1
            ],
            "coloraxis": "coloraxis",
            "symbol": "circle"
           },
           "mode": "markers",
           "name": "",
           "orientation": "v",
           "showlegend": false,
           "type": "scatter",
           "x": [
            -122.1313476562
           ],
           "xaxis": "x",
           "y": [
            47.6460494995
           ],
           "yaxis": "y"
          }
         ],
         "name": "1610468663"
        },
        {
         "data": [
          {
           "hovertemplate": "locationtime=1610468677<br>lon=%{x}<br>lat=%{y}<br>shingle_id=%{marker.color}<extra></extra>",
           "ids": [
            8
           ],
           "legendgroup": "",
           "marker": {
            "color": [
             8
            ],
            "coloraxis": "coloraxis",
            "symbol": "circle"
           },
           "mode": "markers",
           "name": "",
           "orientation": "v",
           "showlegend": false,
           "type": "scatter",
           "x": [
            -122.087852478
           ],
           "xaxis": "x",
           "y": [
            47.6579437256
           ],
           "yaxis": "y"
          }
         ],
         "name": "1610468677"
        },
        {
         "data": [
          {
           "hovertemplate": "locationtime=1610468694<br>lon=%{x}<br>lat=%{y}<br>shingle_id=%{marker.color}<extra></extra>",
           "ids": [
            470
           ],
           "legendgroup": "",
           "marker": {
            "color": [
             470
            ],
            "coloraxis": "coloraxis",
            "symbol": "circle"
           },
           "mode": "markers",
           "name": "",
           "orientation": "v",
           "showlegend": false,
           "type": "scatter",
           "x": [
            -122.0625991821
           ],
           "xaxis": "x",
           "y": [
            47.654914856
           ],
           "yaxis": "y"
          }
         ],
         "name": "1610468694"
        },
        {
         "data": [
          {
           "hovertemplate": "locationtime=1610468714<br>lon=%{x}<br>lat=%{y}<br>shingle_id=%{marker.color}<extra></extra>",
           "ids": [
            92
           ],
           "legendgroup": "",
           "marker": {
            "color": [
             92
            ],
            "coloraxis": "coloraxis",
            "symbol": "circle"
           },
           "mode": "markers",
           "name": "",
           "orientation": "v",
           "showlegend": false,
           "type": "scatter",
           "x": [
            -122.1433410645
           ],
           "xaxis": "x",
           "y": [
            47.6521148682
           ],
           "yaxis": "y"
          }
         ],
         "name": "1610468714"
        },
        {
         "data": [
          {
           "hovertemplate": "locationtime=1610468729<br>lon=%{x}<br>lat=%{y}<br>shingle_id=%{marker.color}<extra></extra>",
           "ids": [
            1673
           ],
           "legendgroup": "",
           "marker": {
            "color": [
             1673
            ],
            "coloraxis": "coloraxis",
            "symbol": "circle"
           },
           "mode": "markers",
           "name": "",
           "orientation": "v",
           "showlegend": false,
           "type": "scatter",
           "x": [
            -122.1433029175
           ],
           "xaxis": "x",
           "y": [
            47.6514472961
           ],
           "yaxis": "y"
          }
         ],
         "name": "1610468729"
        },
        {
         "data": [
          {
           "hovertemplate": "locationtime=1610468737<br>lon=%{x}<br>lat=%{y}<br>shingle_id=%{marker.color}<extra></extra>",
           "ids": [
            8
           ],
           "legendgroup": "",
           "marker": {
            "color": [
             8
            ],
            "coloraxis": "coloraxis",
            "symbol": "circle"
           },
           "mode": "markers",
           "name": "",
           "orientation": "v",
           "showlegend": false,
           "type": "scatter",
           "x": [
            -122.0936965942
           ],
           "xaxis": "x",
           "y": [
            47.6641387939
           ],
           "yaxis": "y"
          }
         ],
         "name": "1610468737"
        },
        {
         "data": [
          {
           "hovertemplate": "locationtime=1610468753<br>lon=%{x}<br>lat=%{y}<br>shingle_id=%{marker.color}<extra></extra>",
           "ids": [
            1
           ],
           "legendgroup": "",
           "marker": {
            "color": [
             1
            ],
            "coloraxis": "coloraxis",
            "symbol": "circle"
           },
           "mode": "markers",
           "name": "",
           "orientation": "v",
           "showlegend": false,
           "type": "scatter",
           "x": [
            -122.1291656494
           ],
           "xaxis": "x",
           "y": [
            47.6425132751
           ],
           "yaxis": "y"
          }
         ],
         "name": "1610468753"
        },
        {
         "data": [
          {
           "hovertemplate": "locationtime=1610468754<br>lon=%{x}<br>lat=%{y}<br>shingle_id=%{marker.color}<extra></extra>",
           "ids": [
            470
           ],
           "legendgroup": "",
           "marker": {
            "color": [
             470
            ],
            "coloraxis": "coloraxis",
            "symbol": "circle"
           },
           "mode": "markers",
           "name": "",
           "orientation": "v",
           "showlegend": false,
           "type": "scatter",
           "x": [
            -122.0557556152
           ],
           "xaxis": "x",
           "y": [
            47.649017334
           ],
           "yaxis": "y"
          }
         ],
         "name": "1610468754"
        },
        {
         "data": [
          {
           "hovertemplate": "locationtime=1610468759<br>lon=%{x}<br>lat=%{y}<br>shingle_id=%{marker.color}<extra></extra>",
           "ids": [
            1558
           ],
           "legendgroup": "",
           "marker": {
            "color": [
             1558
            ],
            "coloraxis": "coloraxis",
            "symbol": "circle"
           },
           "mode": "markers",
           "name": "",
           "orientation": "v",
           "showlegend": false,
           "type": "scatter",
           "x": [
            -122.1355743408
           ],
           "xaxis": "x",
           "y": [
            47.6381530762
           ],
           "yaxis": "y"
          }
         ],
         "name": "1610468759"
        },
        {
         "data": [
          {
           "hovertemplate": "locationtime=1610468773<br>lon=%{x}<br>lat=%{y}<br>shingle_id=%{marker.color}<extra></extra>",
           "ids": [
            8
           ],
           "legendgroup": "",
           "marker": {
            "color": [
             8
            ],
            "coloraxis": "coloraxis",
            "symbol": "circle"
           },
           "mode": "markers",
           "name": "",
           "orientation": "v",
           "showlegend": false,
           "type": "scatter",
           "x": [
            -122.0944061279
           ],
           "xaxis": "x",
           "y": [
            47.6675872803
           ],
           "yaxis": "y"
          }
         ],
         "name": "1610468773"
        },
        {
         "data": [
          {
           "hovertemplate": "locationtime=1610468804<br>lon=%{x}<br>lat=%{y}<br>shingle_id=%{marker.color}<extra></extra>",
           "ids": [
            470
           ],
           "legendgroup": "",
           "marker": {
            "color": [
             470
            ],
            "coloraxis": "coloraxis",
            "symbol": "circle"
           },
           "mode": "markers",
           "name": "",
           "orientation": "v",
           "showlegend": false,
           "type": "scatter",
           "x": [
            -122.0563049316
           ],
           "xaxis": "x",
           "y": [
            47.643737793
           ],
           "yaxis": "y"
          }
         ],
         "name": "1610468804"
        },
        {
         "data": [
          {
           "hovertemplate": "locationtime=1610468809<br>lon=%{x}<br>lat=%{y}<br>shingle_id=%{marker.color}<extra></extra>",
           "ids": [
            1558
           ],
           "legendgroup": "",
           "marker": {
            "color": [
             1558
            ],
            "coloraxis": "coloraxis",
            "symbol": "circle"
           },
           "mode": "markers",
           "name": "",
           "orientation": "v",
           "showlegend": false,
           "type": "scatter",
           "x": [
            -122.1361541748
           ],
           "xaxis": "x",
           "y": [
            47.6380615234
           ],
           "yaxis": "y"
          }
         ],
         "name": "1610468809"
        },
        {
         "data": [
          {
           "hovertemplate": "locationtime=1610468830<br>lon=%{x}<br>lat=%{y}<br>shingle_id=%{marker.color}<extra></extra>",
           "ids": [
            1673
           ],
           "legendgroup": "",
           "marker": {
            "color": [
             1673
            ],
            "coloraxis": "coloraxis",
            "symbol": "circle"
           },
           "mode": "markers",
           "name": "",
           "orientation": "v",
           "showlegend": false,
           "type": "scatter",
           "x": [
            -122.141166687
           ],
           "xaxis": "x",
           "y": [
            47.6459541321
           ],
           "yaxis": "y"
          }
         ],
         "name": "1610468830"
        },
        {
         "data": [
          {
           "hovertemplate": "locationtime=1610468831<br>lon=%{x}<br>lat=%{y}<br>shingle_id=%{marker.color}<extra></extra>",
           "ids": [
            9
           ],
           "legendgroup": "",
           "marker": {
            "color": [
             9
            ],
            "coloraxis": "coloraxis",
            "symbol": "circle"
           },
           "mode": "markers",
           "name": "",
           "orientation": "v",
           "showlegend": false,
           "type": "scatter",
           "x": [
            -122.100151062
           ],
           "xaxis": "x",
           "y": [
            47.6676330566
           ],
           "yaxis": "y"
          }
         ],
         "name": "1610468831"
        },
        {
         "data": [
          {
           "hovertemplate": "locationtime=1610468864<br>lon=%{x}<br>lat=%{y}<br>shingle_id=%{marker.color}<extra></extra>",
           "ids": [
            1673
           ],
           "legendgroup": "",
           "marker": {
            "color": [
             1673
            ],
            "coloraxis": "coloraxis",
            "symbol": "circle"
           },
           "mode": "markers",
           "name": "",
           "orientation": "v",
           "showlegend": false,
           "type": "scatter",
           "x": [
            -122.1370010376
           ],
           "xaxis": "x",
           "y": [
            47.6459999084
           ],
           "yaxis": "y"
          }
         ],
         "name": "1610468864"
        },
        {
         "data": [
          {
           "hovertemplate": "locationtime=1610468870<br>lon=%{x}<br>lat=%{y}<br>shingle_id=%{marker.color}<extra></extra>",
           "ids": [
            1
           ],
           "legendgroup": "",
           "marker": {
            "color": [
             1
            ],
            "coloraxis": "coloraxis",
            "symbol": "circle"
           },
           "mode": "markers",
           "name": "",
           "orientation": "v",
           "showlegend": false,
           "type": "scatter",
           "x": [
            -122.1363754272
           ],
           "xaxis": "x",
           "y": [
            47.637878418
           ],
           "yaxis": "y"
          }
         ],
         "name": "1610468870"
        },
        {
         "data": [
          {
           "hovertemplate": "locationtime=1610468873<br>lon=%{x}<br>lat=%{y}<br>shingle_id=%{marker.color}<extra></extra>",
           "ids": [
            1727,
            1727,
            1727,
            1727,
            1727,
            1727,
            1727,
            1727,
            1727,
            1727,
            1727
           ],
           "legendgroup": "",
           "marker": {
            "color": [
             1727,
             1727,
             1727,
             1727,
             1727,
             1727,
             1727,
             1727,
             1727,
             1727,
             1727
            ],
            "coloraxis": "coloraxis",
            "symbol": "circle"
           },
           "mode": "markers",
           "name": "",
           "orientation": "v",
           "showlegend": false,
           "type": "scatter",
           "x": [
            -122.1328125,
            -122.1328125,
            -122.1328125,
            -122.1328125,
            -122.1328125,
            -122.1328125,
            -122.1328125,
            -122.1328125,
            -122.1328125,
            -122.1328125,
            -122.1328125
           ],
           "xaxis": "x",
           "y": [
            47.6381530762,
            47.6381530762,
            47.6381530762,
            47.6381530762,
            47.6381530762,
            47.6381530762,
            47.6381530762,
            47.6381530762,
            47.6381530762,
            47.6381530762,
            47.6381530762
           ],
           "yaxis": "y"
          }
         ],
         "name": "1610468873"
        },
        {
         "data": [
          {
           "hovertemplate": "locationtime=1610468901<br>lon=%{x}<br>lat=%{y}<br>shingle_id=%{marker.color}<extra></extra>",
           "ids": [
            1
           ],
           "legendgroup": "",
           "marker": {
            "color": [
             1
            ],
            "coloraxis": "coloraxis",
            "symbol": "circle"
           },
           "mode": "markers",
           "name": "",
           "orientation": "v",
           "showlegend": false,
           "type": "scatter",
           "x": [
            -122.1376800537
           ],
           "xaxis": "x",
           "y": [
            47.6355743408
           ],
           "yaxis": "y"
          }
         ],
         "name": "1610468901"
        },
        {
         "data": [
          {
           "hovertemplate": "locationtime=1610468960<br>lon=%{x}<br>lat=%{y}<br>shingle_id=%{marker.color}<extra></extra>",
           "ids": [
            1
           ],
           "legendgroup": "",
           "marker": {
            "color": [
             1
            ],
            "coloraxis": "coloraxis",
            "symbol": "circle"
           },
           "mode": "markers",
           "name": "",
           "orientation": "v",
           "showlegend": false,
           "type": "scatter",
           "x": [
            -122.1364822388
           ],
           "xaxis": "x",
           "y": [
            47.6329879761
           ],
           "yaxis": "y"
          }
         ],
         "name": "1610468960"
        },
        {
         "data": [
          {
           "hovertemplate": "locationtime=1610468991<br>lon=%{x}<br>lat=%{y}<br>shingle_id=%{marker.color}<extra></extra>",
           "ids": [
            1
           ],
           "legendgroup": "",
           "marker": {
            "color": [
             1
            ],
            "coloraxis": "coloraxis",
            "symbol": "circle"
           },
           "mode": "markers",
           "name": "",
           "orientation": "v",
           "showlegend": false,
           "type": "scatter",
           "x": [
            -122.1363143921
           ],
           "xaxis": "x",
           "y": [
            47.6325149536
           ],
           "yaxis": "y"
          }
         ],
         "name": "1610468991"
        },
        {
         "data": [
          {
           "hovertemplate": "locationtime=1610469012<br>lon=%{x}<br>lat=%{y}<br>shingle_id=%{marker.color}<extra></extra>",
           "ids": [
            1558
           ],
           "legendgroup": "",
           "marker": {
            "color": [
             1558
            ],
            "coloraxis": "coloraxis",
            "symbol": "circle"
           },
           "mode": "markers",
           "name": "",
           "orientation": "v",
           "showlegend": false,
           "type": "scatter",
           "x": [
            -122.1386489868
           ],
           "xaxis": "x",
           "y": [
            47.6459770203
           ],
           "yaxis": "y"
          }
         ],
         "name": "1610469012"
        },
        {
         "data": [
          {
           "hovertemplate": "locationtime=1610469056<br>lon=%{x}<br>lat=%{y}<br>shingle_id=%{marker.color}<extra></extra>",
           "ids": [
            9,
            9,
            9,
            9,
            9
           ],
           "legendgroup": "",
           "marker": {
            "color": [
             9,
             9,
             9,
             9,
             9
            ],
            "coloraxis": "coloraxis",
            "symbol": "circle"
           },
           "mode": "markers",
           "name": "",
           "orientation": "v",
           "showlegend": false,
           "type": "scatter",
           "x": [
            -122.1045532227,
            -122.1045532227,
            -122.1045532227,
            -122.1045532227,
            -122.1045532227
           ],
           "xaxis": "x",
           "y": [
            47.6715316772,
            47.6715316772,
            47.6715316772,
            47.6715316772,
            47.6715316772
           ],
           "yaxis": "y"
          }
         ],
         "name": "1610469056"
        },
        {
         "data": [
          {
           "hovertemplate": "locationtime=1610469104<br>lon=%{x}<br>lat=%{y}<br>shingle_id=%{marker.color}<extra></extra>",
           "ids": [
            1558
           ],
           "legendgroup": "",
           "marker": {
            "color": [
             1558
            ],
            "coloraxis": "coloraxis",
            "symbol": "circle"
           },
           "mode": "markers",
           "name": "",
           "orientation": "v",
           "showlegend": false,
           "type": "scatter",
           "x": [
            -122.1431884766
           ],
           "xaxis": "x",
           "y": [
            47.652633667
           ],
           "yaxis": "y"
          }
         ],
         "name": "1610469104"
        },
        {
         "data": [
          {
           "hovertemplate": "locationtime=1610469106<br>lon=%{x}<br>lat=%{y}<br>shingle_id=%{marker.color}<extra></extra>",
           "ids": [
            1674
           ],
           "legendgroup": "",
           "marker": {
            "color": [
             1674
            ],
            "coloraxis": "coloraxis",
            "symbol": "circle"
           },
           "mode": "markers",
           "name": "",
           "orientation": "v",
           "showlegend": false,
           "type": "scatter",
           "x": [
            -122.135848999
           ],
           "xaxis": "x",
           "y": [
            47.638217926
           ],
           "yaxis": "y"
          }
         ],
         "name": "1610469106"
        },
        {
         "data": [
          {
           "hovertemplate": "locationtime=1610469136<br>lon=%{x}<br>lat=%{y}<br>shingle_id=%{marker.color}<extra></extra>",
           "ids": [
            1674
           ],
           "legendgroup": "",
           "marker": {
            "color": [
             1674
            ],
            "coloraxis": "coloraxis",
            "symbol": "circle"
           },
           "mode": "markers",
           "name": "",
           "orientation": "v",
           "showlegend": false,
           "type": "scatter",
           "x": [
            -122.1376724243
           ],
           "xaxis": "x",
           "y": [
            47.6361808777
           ],
           "yaxis": "y"
          }
         ],
         "name": "1610469136"
        },
        {
         "data": [
          {
           "hovertemplate": "locationtime=1610469173<br>lon=%{x}<br>lat=%{y}<br>shingle_id=%{marker.color}<extra></extra>",
           "ids": [
            768
           ],
           "legendgroup": "",
           "marker": {
            "color": [
             768
            ],
            "coloraxis": "coloraxis",
            "symbol": "circle"
           },
           "mode": "markers",
           "name": "",
           "orientation": "v",
           "showlegend": false,
           "type": "scatter",
           "x": [
            -122.1322860718
           ],
           "xaxis": "x",
           "y": [
            47.6458702087
           ],
           "yaxis": "y"
          }
         ],
         "name": "1610469173"
        },
        {
         "data": [
          {
           "hovertemplate": "locationtime=1610469203<br>lon=%{x}<br>lat=%{y}<br>shingle_id=%{marker.color}<extra></extra>",
           "ids": [
            1
           ],
           "legendgroup": "",
           "marker": {
            "color": [
             1
            ],
            "coloraxis": "coloraxis",
            "symbol": "circle"
           },
           "mode": "markers",
           "name": "",
           "orientation": "v",
           "showlegend": false,
           "type": "scatter",
           "x": [
            -122.133354187
           ],
           "xaxis": "x",
           "y": [
            47.6381492615
           ],
           "yaxis": "y"
          }
         ],
         "name": "1610469203"
        },
        {
         "data": [
          {
           "hovertemplate": "locationtime=1610469231<br>lon=%{x}<br>lat=%{y}<br>shingle_id=%{marker.color}<extra></extra>",
           "ids": [
            1
           ],
           "legendgroup": "",
           "marker": {
            "color": [
             1
            ],
            "coloraxis": "coloraxis",
            "symbol": "circle"
           },
           "mode": "markers",
           "name": "",
           "orientation": "v",
           "showlegend": false,
           "type": "scatter",
           "x": [
            -122.1363143921
           ],
           "xaxis": "x",
           "y": [
            47.6325149536
           ],
           "yaxis": "y"
          }
         ],
         "name": "1610469231"
        },
        {
         "data": [
          {
           "hovertemplate": "locationtime=1610469249<br>lon=%{x}<br>lat=%{y}<br>shingle_id=%{marker.color}<extra></extra>",
           "ids": [
            1581
           ],
           "legendgroup": "",
           "marker": {
            "color": [
             1581
            ],
            "coloraxis": "coloraxis",
            "symbol": "circle"
           },
           "mode": "markers",
           "name": "",
           "orientation": "v",
           "showlegend": false,
           "type": "scatter",
           "x": [
            -122.1433029175
           ],
           "xaxis": "x",
           "y": [
            47.6514472961
           ],
           "yaxis": "y"
          }
         ],
         "name": "1610469249"
        },
        {
         "data": [
          {
           "hovertemplate": "locationtime=1610469326<br>lon=%{x}<br>lat=%{y}<br>shingle_id=%{marker.color}<extra></extra>",
           "ids": [
            1727
           ],
           "legendgroup": "",
           "marker": {
            "color": [
             1727
            ],
            "coloraxis": "coloraxis",
            "symbol": "circle"
           },
           "mode": "markers",
           "name": "",
           "orientation": "v",
           "showlegend": false,
           "type": "scatter",
           "x": [
            -122.137802124
           ],
           "xaxis": "x",
           "y": [
            47.6459884644
           ],
           "yaxis": "y"
          }
         ],
         "name": "1610469326"
        },
        {
         "data": [
          {
           "hovertemplate": "locationtime=1610469338<br>lon=%{x}<br>lat=%{y}<br>shingle_id=%{marker.color}<extra></extra>",
           "ids": [
            1582
           ],
           "legendgroup": "",
           "marker": {
            "color": [
             1582
            ],
            "coloraxis": "coloraxis",
            "symbol": "circle"
           },
           "mode": "markers",
           "name": "",
           "orientation": "v",
           "showlegend": false,
           "type": "scatter",
           "x": [
            -122.1402740479
           ],
           "xaxis": "x",
           "y": [
            47.6459617615
           ],
           "yaxis": "y"
          }
         ],
         "name": "1610469338"
        },
        {
         "data": [
          {
           "hovertemplate": "locationtime=1610469383<br>lon=%{x}<br>lat=%{y}<br>shingle_id=%{marker.color}<extra></extra>",
           "ids": [
            1
           ],
           "legendgroup": "",
           "marker": {
            "color": [
             1
            ],
            "coloraxis": "coloraxis",
            "symbol": "circle"
           },
           "mode": "markers",
           "name": "",
           "orientation": "v",
           "showlegend": false,
           "type": "scatter",
           "x": [
            -122.133354187
           ],
           "xaxis": "x",
           "y": [
            47.6381492615
           ],
           "yaxis": "y"
          }
         ],
         "name": "1610469383"
        },
        {
         "data": [
          {
           "hovertemplate": "locationtime=1610469385<br>lon=%{x}<br>lat=%{y}<br>shingle_id=%{marker.color}<extra></extra>",
           "ids": [
            709
           ],
           "legendgroup": "",
           "marker": {
            "color": [
             709
            ],
            "coloraxis": "coloraxis",
            "symbol": "circle"
           },
           "mode": "markers",
           "name": "",
           "orientation": "v",
           "showlegend": false,
           "type": "scatter",
           "x": [
            -122.1322860718
           ],
           "xaxis": "x",
           "y": [
            47.6462211609
           ],
           "yaxis": "y"
          }
         ],
         "name": "1610469385"
        },
        {
         "data": [
          {
           "hovertemplate": "locationtime=1610469393<br>lon=%{x}<br>lat=%{y}<br>shingle_id=%{marker.color}<extra></extra>",
           "ids": [
            1582,
            9
           ],
           "legendgroup": "",
           "marker": {
            "color": [
             1582,
             9
            ],
            "coloraxis": "coloraxis",
            "symbol": "circle"
           },
           "mode": "markers",
           "name": "",
           "orientation": "v",
           "showlegend": false,
           "type": "scatter",
           "x": [
            -122.1377182007,
            -122.1433105469
           ],
           "xaxis": "x",
           "y": [
            47.6459884644,
            47.6515388489
           ],
           "yaxis": "y"
          }
         ],
         "name": "1610469393"
        },
        {
         "data": [
          {
           "hovertemplate": "locationtime=1610469397<br>lon=%{x}<br>lat=%{y}<br>shingle_id=%{marker.color}<extra></extra>",
           "ids": [
            1728
           ],
           "legendgroup": "",
           "marker": {
            "color": [
             1728
            ],
            "coloraxis": "coloraxis",
            "symbol": "circle"
           },
           "mode": "markers",
           "name": "",
           "orientation": "v",
           "showlegend": false,
           "type": "scatter",
           "x": [
            -122.1421279907
           ],
           "xaxis": "x",
           "y": [
            47.645942688
           ],
           "yaxis": "y"
          }
         ],
         "name": "1610469397"
        },
        {
         "data": [
          {
           "hovertemplate": "locationtime=1610469398<br>lon=%{x}<br>lat=%{y}<br>shingle_id=%{marker.color}<extra></extra>",
           "ids": [
            9
           ],
           "legendgroup": "",
           "marker": {
            "color": [
             9
            ],
            "coloraxis": "coloraxis",
            "symbol": "circle"
           },
           "mode": "markers",
           "name": "",
           "orientation": "v",
           "showlegend": false,
           "type": "scatter",
           "x": [
            -122.1433258057
           ],
           "xaxis": "x",
           "y": [
            47.6518974304
           ],
           "yaxis": "y"
          }
         ],
         "name": "1610469398"
        },
        {
         "data": [
          {
           "hovertemplate": "locationtime=1610469411<br>lon=%{x}<br>lat=%{y}<br>shingle_id=%{marker.color}<extra></extra>",
           "ids": [
            1
           ],
           "legendgroup": "",
           "marker": {
            "color": [
             1
            ],
            "coloraxis": "coloraxis",
            "symbol": "circle"
           },
           "mode": "markers",
           "name": "",
           "orientation": "v",
           "showlegend": false,
           "type": "scatter",
           "x": [
            -122.1363143921
           ],
           "xaxis": "x",
           "y": [
            47.6325149536
           ],
           "yaxis": "y"
          }
         ],
         "name": "1610469411"
        },
        {
         "data": [
          {
           "hovertemplate": "locationtime=1610469429<br>lon=%{x}<br>lat=%{y}<br>shingle_id=%{marker.color}<extra></extra>",
           "ids": [
            1728
           ],
           "legendgroup": "",
           "marker": {
            "color": [
             1728
            ],
            "coloraxis": "coloraxis",
            "symbol": "circle"
           },
           "mode": "markers",
           "name": "",
           "orientation": "v",
           "showlegend": false,
           "type": "scatter",
           "x": [
            -122.1378555298
           ],
           "xaxis": "x",
           "y": [
            47.6459884644
           ],
           "yaxis": "y"
          }
         ],
         "name": "1610469429"
        },
        {
         "data": [
          {
           "hovertemplate": "locationtime=1610469473<br>lon=%{x}<br>lat=%{y}<br>shingle_id=%{marker.color}<extra></extra>",
           "ids": [
            1
           ],
           "legendgroup": "",
           "marker": {
            "color": [
             1
            ],
            "coloraxis": "coloraxis",
            "symbol": "circle"
           },
           "mode": "markers",
           "name": "",
           "orientation": "v",
           "showlegend": false,
           "type": "scatter",
           "x": [
            -122.133354187
           ],
           "xaxis": "x",
           "y": [
            47.6381492615
           ],
           "yaxis": "y"
          }
         ],
         "name": "1610469473"
        },
        {
         "data": [
          {
           "hovertemplate": "locationtime=1610469481<br>lon=%{x}<br>lat=%{y}<br>shingle_id=%{marker.color}<extra></extra>",
           "ids": [
            1582
           ],
           "legendgroup": "",
           "marker": {
            "color": [
             1582
            ],
            "coloraxis": "coloraxis",
            "symbol": "circle"
           },
           "mode": "markers",
           "name": "",
           "orientation": "v",
           "showlegend": false,
           "type": "scatter",
           "x": [
            -122.1377105713
           ],
           "xaxis": "x",
           "y": [
            47.6459884644
           ],
           "yaxis": "y"
          }
         ],
         "name": "1610469481"
        },
        {
         "data": [
          {
           "hovertemplate": "locationtime=1610469519<br>lon=%{x}<br>lat=%{y}<br>shingle_id=%{marker.color}<extra></extra>",
           "ids": [
            1728
           ],
           "legendgroup": "",
           "marker": {
            "color": [
             1728
            ],
            "coloraxis": "coloraxis",
            "symbol": "circle"
           },
           "mode": "markers",
           "name": "",
           "orientation": "v",
           "showlegend": false,
           "type": "scatter",
           "x": [
            -122.1431884766
           ],
           "xaxis": "x",
           "y": [
            47.6526069641
           ],
           "yaxis": "y"
          }
         ],
         "name": "1610469519"
        },
        {
         "data": [
          {
           "hovertemplate": "locationtime=1610469531<br>lon=%{x}<br>lat=%{y}<br>shingle_id=%{marker.color}<extra></extra>",
           "ids": [
            1
           ],
           "legendgroup": "",
           "marker": {
            "color": [
             1
            ],
            "coloraxis": "coloraxis",
            "symbol": "circle"
           },
           "mode": "markers",
           "name": "",
           "orientation": "v",
           "showlegend": false,
           "type": "scatter",
           "x": [
            -122.1363143921
           ],
           "xaxis": "x",
           "y": [
            47.6325149536
           ],
           "yaxis": "y"
          }
         ],
         "name": "1610469531"
        },
        {
         "data": [
          {
           "hovertemplate": "locationtime=1610469536<br>lon=%{x}<br>lat=%{y}<br>shingle_id=%{marker.color}<extra></extra>",
           "ids": [
            9
           ],
           "legendgroup": "",
           "marker": {
            "color": [
             9
            ],
            "coloraxis": "coloraxis",
            "symbol": "circle"
           },
           "mode": "markers",
           "name": "",
           "orientation": "v",
           "showlegend": false,
           "type": "scatter",
           "x": [
            -122.1371994019
           ],
           "xaxis": "x",
           "y": [
            47.6459960938
           ],
           "yaxis": "y"
          }
         ],
         "name": "1610469536"
        },
        {
         "data": [
          {
           "hovertemplate": "locationtime=1610469563<br>lon=%{x}<br>lat=%{y}<br>shingle_id=%{marker.color}<extra></extra>",
           "ids": [
            1
           ],
           "legendgroup": "",
           "marker": {
            "color": [
             1
            ],
            "coloraxis": "coloraxis",
            "symbol": "circle"
           },
           "mode": "markers",
           "name": "",
           "orientation": "v",
           "showlegend": false,
           "type": "scatter",
           "x": [
            -122.133354187
           ],
           "xaxis": "x",
           "y": [
            47.6381492615
           ],
           "yaxis": "y"
          }
         ],
         "name": "1610469563"
        },
        {
         "data": [
          {
           "hovertemplate": "locationtime=1610469590<br>lon=%{x}<br>lat=%{y}<br>shingle_id=%{marker.color}<extra></extra>",
           "ids": [
            1
           ],
           "legendgroup": "",
           "marker": {
            "color": [
             1
            ],
            "coloraxis": "coloraxis",
            "symbol": "circle"
           },
           "mode": "markers",
           "name": "",
           "orientation": "v",
           "showlegend": false,
           "type": "scatter",
           "x": [
            -122.1363143921
           ],
           "xaxis": "x",
           "y": [
            47.6325149536
           ],
           "yaxis": "y"
          }
         ],
         "name": "1610469590"
        },
        {
         "data": [
          {
           "hovertemplate": "locationtime=1610469599<br>lon=%{x}<br>lat=%{y}<br>shingle_id=%{marker.color}<extra></extra>",
           "ids": [
            1582,
            1582,
            1582,
            1582,
            1582,
            1582,
            1582,
            1582,
            1582,
            1582,
            1582
           ],
           "legendgroup": "",
           "marker": {
            "color": [
             1582,
             1582,
             1582,
             1582,
             1582,
             1582,
             1582,
             1582,
             1582,
             1582,
             1582
            ],
            "coloraxis": "coloraxis",
            "symbol": "circle"
           },
           "mode": "markers",
           "name": "",
           "orientation": "v",
           "showlegend": false,
           "type": "scatter",
           "x": [
            -122.1323547363,
            -122.1323547363,
            -122.1323547363,
            -122.1323547363,
            -122.1323547363,
            -122.1323547363,
            -122.1323547363,
            -122.1323547363,
            -122.1323547363,
            -122.1323547363,
            -122.1323547363
           ],
           "xaxis": "x",
           "y": [
            47.6381568909,
            47.6381568909,
            47.6381568909,
            47.6381568909,
            47.6381568909,
            47.6381568909,
            47.6381568909,
            47.6381568909,
            47.6381568909,
            47.6381568909,
            47.6381568909
           ],
           "yaxis": "y"
          }
         ],
         "name": "1610469599"
        },
        {
         "data": [
          {
           "hovertemplate": "locationtime=1610469608<br>lon=%{x}<br>lat=%{y}<br>shingle_id=%{marker.color}<extra></extra>",
           "ids": [
            1728
           ],
           "legendgroup": "",
           "marker": {
            "color": [
             1728
            ],
            "coloraxis": "coloraxis",
            "symbol": "circle"
           },
           "mode": "markers",
           "name": "",
           "orientation": "v",
           "showlegend": false,
           "type": "scatter",
           "x": [
            -122.1431884766
           ],
           "xaxis": "x",
           "y": [
            47.6526069641
           ],
           "yaxis": "y"
          }
         ],
         "name": "1610469608"
        },
        {
         "data": [
          {
           "hovertemplate": "locationtime=1610469634<br>lon=%{x}<br>lat=%{y}<br>shingle_id=%{marker.color}<extra></extra>",
           "ids": [
            9
           ],
           "legendgroup": "",
           "marker": {
            "color": [
             9
            ],
            "coloraxis": "coloraxis",
            "symbol": "circle"
           },
           "mode": "markers",
           "name": "",
           "orientation": "v",
           "showlegend": false,
           "type": "scatter",
           "x": [
            -122.1304931641
           ],
           "xaxis": "x",
           "y": [
            47.6460533142
           ],
           "yaxis": "y"
          }
         ],
         "name": "1610469634"
        },
        {
         "data": [
          {
           "hovertemplate": "locationtime=1610469653<br>lon=%{x}<br>lat=%{y}<br>shingle_id=%{marker.color}<extra></extra>",
           "ids": [
            1
           ],
           "legendgroup": "",
           "marker": {
            "color": [
             1
            ],
            "coloraxis": "coloraxis",
            "symbol": "circle"
           },
           "mode": "markers",
           "name": "",
           "orientation": "v",
           "showlegend": false,
           "type": "scatter",
           "x": [
            -122.133354187
           ],
           "xaxis": "x",
           "y": [
            47.6381492615
           ],
           "yaxis": "y"
          }
         ],
         "name": "1610469653"
        },
        {
         "data": [
          {
           "hovertemplate": "locationtime=1610469658<br>lon=%{x}<br>lat=%{y}<br>shingle_id=%{marker.color}<extra></extra>",
           "ids": [
            5612
           ],
           "legendgroup": "",
           "marker": {
            "color": [
             5612
            ],
            "coloraxis": "coloraxis",
            "symbol": "circle"
           },
           "mode": "markers",
           "name": "",
           "orientation": "v",
           "showlegend": false,
           "type": "scatter",
           "x": [
            -122.1374893188
           ],
           "xaxis": "x",
           "y": [
            47.6459922791
           ],
           "yaxis": "y"
          }
         ],
         "name": "1610469658"
        },
        {
         "data": [
          {
           "hovertemplate": "locationtime=1610469667<br>lon=%{x}<br>lat=%{y}<br>shingle_id=%{marker.color}<extra></extra>",
           "ids": [
            9
           ],
           "legendgroup": "",
           "marker": {
            "color": [
             9
            ],
            "coloraxis": "coloraxis",
            "symbol": "circle"
           },
           "mode": "markers",
           "name": "",
           "orientation": "v",
           "showlegend": false,
           "type": "scatter",
           "x": [
            -122.131362915
           ],
           "xaxis": "x",
           "y": [
            47.6460494995
           ],
           "yaxis": "y"
          }
         ],
         "name": "1610469667"
        },
        {
         "data": [
          {
           "hovertemplate": "locationtime=1610469676<br>lon=%{x}<br>lat=%{y}<br>shingle_id=%{marker.color}<extra></extra>",
           "ids": [
            1582
           ],
           "legendgroup": "",
           "marker": {
            "color": [
             1582
            ],
            "coloraxis": "coloraxis",
            "symbol": "circle"
           },
           "mode": "markers",
           "name": "",
           "orientation": "v",
           "showlegend": false,
           "type": "scatter",
           "x": [
            -122.1376800537
           ],
           "xaxis": "x",
           "y": [
            47.635471344
           ],
           "yaxis": "y"
          }
         ],
         "name": "1610469676"
        },
        {
         "data": [
          {
           "hovertemplate": "locationtime=1610469698<br>lon=%{x}<br>lat=%{y}<br>shingle_id=%{marker.color}<extra></extra>",
           "ids": [
            1728
           ],
           "legendgroup": "",
           "marker": {
            "color": [
             1728
            ],
            "coloraxis": "coloraxis",
            "symbol": "circle"
           },
           "mode": "markers",
           "name": "",
           "orientation": "v",
           "showlegend": false,
           "type": "scatter",
           "x": [
            -122.1431884766
           ],
           "xaxis": "x",
           "y": [
            47.6526069641
           ],
           "yaxis": "y"
          }
         ],
         "name": "1610469698"
        },
        {
         "data": [
          {
           "hovertemplate": "locationtime=1610469707<br>lon=%{x}<br>lat=%{y}<br>shingle_id=%{marker.color}<extra></extra>",
           "ids": [
            1634
           ],
           "legendgroup": "",
           "marker": {
            "color": [
             1634
            ],
            "coloraxis": "coloraxis",
            "symbol": "circle"
           },
           "mode": "markers",
           "name": "",
           "orientation": "v",
           "showlegend": false,
           "type": "scatter",
           "x": [
            -122.1354598999
           ],
           "xaxis": "x",
           "y": [
            47.6381492615
           ],
           "yaxis": "y"
          }
         ],
         "name": "1610469707"
        },
        {
         "data": [
          {
           "hovertemplate": "locationtime=1610469708<br>lon=%{x}<br>lat=%{y}<br>shingle_id=%{marker.color}<extra></extra>",
           "ids": [
            5612
           ],
           "legendgroup": "",
           "marker": {
            "color": [
             5612
            ],
            "coloraxis": "coloraxis",
            "symbol": "circle"
           },
           "mode": "markers",
           "name": "",
           "orientation": "v",
           "showlegend": false,
           "type": "scatter",
           "x": [
            -122.1406784058
           ],
           "xaxis": "x",
           "y": [
            47.6459579468
           ],
           "yaxis": "y"
          }
         ],
         "name": "1610469708"
        },
        {
         "data": [
          {
           "hovertemplate": "locationtime=1610469710<br>lon=%{x}<br>lat=%{y}<br>shingle_id=%{marker.color}<extra></extra>",
           "ids": [
            1
           ],
           "legendgroup": "",
           "marker": {
            "color": [
             1
            ],
            "coloraxis": "coloraxis",
            "symbol": "circle"
           },
           "mode": "markers",
           "name": "",
           "orientation": "v",
           "showlegend": false,
           "type": "scatter",
           "x": [
            -122.1363143921
           ],
           "xaxis": "x",
           "y": [
            47.6325149536
           ],
           "yaxis": "y"
          }
         ],
         "name": "1610469710"
        },
        {
         "data": [
          {
           "hovertemplate": "locationtime=1610469736<br>lon=%{x}<br>lat=%{y}<br>shingle_id=%{marker.color}<extra></extra>",
           "ids": [
            1635,
            1635,
            1635,
            1635,
            1635,
            1635,
            1635,
            1635,
            1635,
            1635,
            1635
           ],
           "legendgroup": "",
           "marker": {
            "color": [
             1635,
             1635,
             1635,
             1635,
             1635,
             1635,
             1635,
             1635,
             1635,
             1635,
             1635
            ],
            "coloraxis": "coloraxis",
            "symbol": "circle"
           },
           "mode": "markers",
           "name": "",
           "orientation": "v",
           "showlegend": false,
           "type": "scatter",
           "x": [
            -122.1327209473,
            -122.1327209473,
            -122.1327209473,
            -122.1327209473,
            -122.1327209473,
            -122.1327209473,
            -122.1327209473,
            -122.1327209473,
            -122.1327209473,
            -122.1327209473,
            -122.1327209473
           ],
           "xaxis": "x",
           "y": [
            47.6381530762,
            47.6381530762,
            47.6381530762,
            47.6381530762,
            47.6381530762,
            47.6381530762,
            47.6381530762,
            47.6381530762,
            47.6381530762,
            47.6381530762,
            47.6381530762
           ],
           "yaxis": "y"
          }
         ],
         "name": "1610469736"
        },
        {
         "data": [
          {
           "hovertemplate": "locationtime=1610469743<br>lon=%{x}<br>lat=%{y}<br>shingle_id=%{marker.color}<extra></extra>",
           "ids": [
            1
           ],
           "legendgroup": "",
           "marker": {
            "color": [
             1
            ],
            "coloraxis": "coloraxis",
            "symbol": "circle"
           },
           "mode": "markers",
           "name": "",
           "orientation": "v",
           "showlegend": false,
           "type": "scatter",
           "x": [
            -122.133354187
           ],
           "xaxis": "x",
           "y": [
            47.6381492615
           ],
           "yaxis": "y"
          }
         ],
         "name": "1610469743"
        },
        {
         "data": [
          {
           "hovertemplate": "locationtime=1610469765<br>lon=%{x}<br>lat=%{y}<br>shingle_id=%{marker.color}<extra></extra>",
           "ids": [
            1582,
            1582,
            1582,
            1582,
            1582,
            1582,
            1582,
            1582,
            1582,
            1582,
            1582
           ],
           "legendgroup": "",
           "marker": {
            "color": [
             1582,
             1582,
             1582,
             1582,
             1582,
             1582,
             1582,
             1582,
             1582,
             1582,
             1582
            ],
            "coloraxis": "coloraxis",
            "symbol": "circle"
           },
           "mode": "markers",
           "name": "",
           "orientation": "v",
           "showlegend": false,
           "type": "scatter",
           "x": [
            -122.1365356445,
            -122.1365356445,
            -122.1365356445,
            -122.1365356445,
            -122.1365356445,
            -122.1365356445,
            -122.1365356445,
            -122.1365356445,
            -122.1365356445,
            -122.1365356445,
            -122.1365356445
           ],
           "xaxis": "x",
           "y": [
            47.6315612793,
            47.6315612793,
            47.6315612793,
            47.6315612793,
            47.6315612793,
            47.6315612793,
            47.6315612793,
            47.6315612793,
            47.6315612793,
            47.6315612793,
            47.6315612793
           ],
           "yaxis": "y"
          }
         ],
         "name": "1610469765"
        },
        {
         "data": [
          {
           "hovertemplate": "locationtime=1610469772<br>lon=%{x}<br>lat=%{y}<br>shingle_id=%{marker.color}<extra></extra>",
           "ids": [
            1
           ],
           "legendgroup": "",
           "marker": {
            "color": [
             1
            ],
            "coloraxis": "coloraxis",
            "symbol": "circle"
           },
           "mode": "markers",
           "name": "",
           "orientation": "v",
           "showlegend": false,
           "type": "scatter",
           "x": [
            -122.1363143921
           ],
           "xaxis": "x",
           "y": [
            47.6325149536
           ],
           "yaxis": "y"
          }
         ],
         "name": "1610469772"
        },
        {
         "data": [
          {
           "hovertemplate": "locationtime=1610469796<br>lon=%{x}<br>lat=%{y}<br>shingle_id=%{marker.color}<extra></extra>",
           "ids": [
            5538
           ],
           "legendgroup": "",
           "marker": {
            "color": [
             5538
            ],
            "coloraxis": "coloraxis",
            "symbol": "circle"
           },
           "mode": "markers",
           "name": "",
           "orientation": "v",
           "showlegend": false,
           "type": "scatter",
           "x": [
            -122.1433258057
           ],
           "xaxis": "x",
           "y": [
            47.6518707275
           ],
           "yaxis": "y"
          }
         ],
         "name": "1610469796"
        },
        {
         "data": [
          {
           "hovertemplate": "locationtime=1610469811<br>lon=%{x}<br>lat=%{y}<br>shingle_id=%{marker.color}<extra></extra>",
           "ids": [
            1145
           ],
           "legendgroup": "",
           "marker": {
            "color": [
             1145
            ],
            "coloraxis": "coloraxis",
            "symbol": "circle"
           },
           "mode": "markers",
           "name": "",
           "orientation": "v",
           "showlegend": false,
           "type": "scatter",
           "x": [
            -122.1001586914
           ],
           "xaxis": "x",
           "y": [
            47.6673278809
           ],
           "yaxis": "y"
          }
         ],
         "name": "1610469811"
        },
        {
         "data": [
          {
           "hovertemplate": "locationtime=1610469860<br>lon=%{x}<br>lat=%{y}<br>shingle_id=%{marker.color}<extra></extra>",
           "ids": [
            1145
           ],
           "legendgroup": "",
           "marker": {
            "color": [
             1145
            ],
            "coloraxis": "coloraxis",
            "symbol": "circle"
           },
           "mode": "markers",
           "name": "",
           "orientation": "v",
           "showlegend": false,
           "type": "scatter",
           "x": [
            -122.0936889648
           ],
           "xaxis": "x",
           "y": [
            47.66746521
           ],
           "yaxis": "y"
          }
         ],
         "name": "1610469860"
        },
        {
         "data": [
          {
           "hovertemplate": "locationtime=1610469865<br>lon=%{x}<br>lat=%{y}<br>shingle_id=%{marker.color}<extra></extra>",
           "ids": [
            9
           ],
           "legendgroup": "",
           "marker": {
            "color": [
             9
            ],
            "coloraxis": "coloraxis",
            "symbol": "circle"
           },
           "mode": "markers",
           "name": "",
           "orientation": "v",
           "showlegend": false,
           "type": "scatter",
           "x": [
            -122.1365509033
           ],
           "xaxis": "x",
           "y": [
            47.6377334595
           ],
           "yaxis": "y"
          }
         ],
         "name": "1610469865"
        },
        {
         "data": [
          {
           "hovertemplate": "locationtime=1610469886<br>lon=%{x}<br>lat=%{y}<br>shingle_id=%{marker.color}<extra></extra>",
           "ids": [
            5538
           ],
           "legendgroup": "",
           "marker": {
            "color": [
             5538
            ],
            "coloraxis": "coloraxis",
            "symbol": "circle"
           },
           "mode": "markers",
           "name": "",
           "orientation": "v",
           "showlegend": false,
           "type": "scatter",
           "x": [
            -122.1377334595
           ],
           "xaxis": "x",
           "y": [
            47.6459884644
           ],
           "yaxis": "y"
          }
         ],
         "name": "1610469886"
        },
        {
         "data": [
          {
           "hovertemplate": "locationtime=1610469895<br>lon=%{x}<br>lat=%{y}<br>shingle_id=%{marker.color}<extra></extra>",
           "ids": [
            9
           ],
           "legendgroup": "",
           "marker": {
            "color": [
             9
            ],
            "coloraxis": "coloraxis",
            "symbol": "circle"
           },
           "mode": "markers",
           "name": "",
           "orientation": "v",
           "showlegend": false,
           "type": "scatter",
           "x": [
            -122.1376876831
           ],
           "xaxis": "x",
           "y": [
            47.6350784302
           ],
           "yaxis": "y"
          }
         ],
         "name": "1610469895"
        },
        {
         "data": [
          {
           "hovertemplate": "locationtime=1610469908<br>lon=%{x}<br>lat=%{y}<br>shingle_id=%{marker.color}<extra></extra>",
           "ids": [
            1145
           ],
           "legendgroup": "",
           "marker": {
            "color": [
             1145
            ],
            "coloraxis": "coloraxis",
            "symbol": "circle"
           },
           "mode": "markers",
           "name": "",
           "orientation": "v",
           "showlegend": false,
           "type": "scatter",
           "x": [
            -122.0925445557
           ],
           "xaxis": "x",
           "y": [
            47.6639671326
           ],
           "yaxis": "y"
          }
         ],
         "name": "1610469908"
        },
        {
         "data": [
          {
           "hovertemplate": "locationtime=1610469945<br>lon=%{x}<br>lat=%{y}<br>shingle_id=%{marker.color}<extra></extra>",
           "ids": [
            770
           ],
           "legendgroup": "",
           "marker": {
            "color": [
             770
            ],
            "coloraxis": "coloraxis",
            "symbol": "circle"
           },
           "mode": "markers",
           "name": "",
           "orientation": "v",
           "showlegend": false,
           "type": "scatter",
           "x": [
            -122.1322860718
           ],
           "xaxis": "x",
           "y": [
            47.6457633972
           ],
           "yaxis": "y"
          }
         ],
         "name": "1610469945"
        },
        {
         "data": [
          {
           "hovertemplate": "locationtime=1610469951<br>lon=%{x}<br>lat=%{y}<br>shingle_id=%{marker.color}<extra></extra>",
           "ids": [
            9,
            9,
            9,
            9,
            9,
            9,
            9,
            9,
            9,
            9,
            9,
            9,
            9
           ],
           "legendgroup": "",
           "marker": {
            "color": [
             9,
             9,
             9,
             9,
             9,
             9,
             9,
             9,
             9,
             9,
             9,
             9,
             9
            ],
            "coloraxis": "coloraxis",
            "symbol": "circle"
           },
           "mode": "markers",
           "name": "",
           "orientation": "v",
           "showlegend": false,
           "type": "scatter",
           "x": [
            -122.1364822388,
            -122.1364822388,
            -122.1364822388,
            -122.1364822388,
            -122.1364822388,
            -122.1364822388,
            -122.1364822388,
            -122.1364822388,
            -122.1364822388,
            -122.1364822388,
            -122.1364822388,
            -122.1364822388,
            -122.1364822388
           ],
           "xaxis": "x",
           "y": [
            47.6329612732,
            47.6329612732,
            47.6329612732,
            47.6329612732,
            47.6329612732,
            47.6329612732,
            47.6329612732,
            47.6329612732,
            47.6329612732,
            47.6329612732,
            47.6329612732,
            47.6329612732,
            47.6329612732
           ],
           "yaxis": "y"
          }
         ],
         "name": "1610469951"
        },
        {
         "data": [
          {
           "hovertemplate": "locationtime=1610469976<br>lon=%{x}<br>lat=%{y}<br>shingle_id=%{marker.color}<extra></extra>",
           "ids": [
            5538
           ],
           "legendgroup": "",
           "marker": {
            "color": [
             5538
            ],
            "coloraxis": "coloraxis",
            "symbol": "circle"
           },
           "mode": "markers",
           "name": "",
           "orientation": "v",
           "showlegend": false,
           "type": "scatter",
           "x": [
            -122.1376266479
           ],
           "xaxis": "x",
           "y": [
            47.6459922791
           ],
           "yaxis": "y"
          }
         ],
         "name": "1610469976"
        },
        {
         "data": [
          {
           "hovertemplate": "locationtime=1610469988<br>lon=%{x}<br>lat=%{y}<br>shingle_id=%{marker.color}<extra></extra>",
           "ids": [
            1635
           ],
           "legendgroup": "",
           "marker": {
            "color": [
             1635
            ],
            "coloraxis": "coloraxis",
            "symbol": "circle"
           },
           "mode": "markers",
           "name": "",
           "orientation": "v",
           "showlegend": false,
           "type": "scatter",
           "x": [
            -122.1322860718
           ],
           "xaxis": "x",
           "y": [
            47.6457061768
           ],
           "yaxis": "y"
          }
         ],
         "name": "1610469988"
        },
        {
         "data": [
          {
           "hovertemplate": "locationtime=1610470012<br>lon=%{x}<br>lat=%{y}<br>shingle_id=%{marker.color}<extra></extra>",
           "ids": [
            1145
           ],
           "legendgroup": "",
           "marker": {
            "color": [
             1145
            ],
            "coloraxis": "coloraxis",
            "symbol": "circle"
           },
           "mode": "markers",
           "name": "",
           "orientation": "v",
           "showlegend": false,
           "type": "scatter",
           "x": [
            -122.0879898071
           ],
           "xaxis": "x",
           "y": [
            47.6579017639
           ],
           "yaxis": "y"
          }
         ],
         "name": "1610470012"
        },
        {
         "data": [
          {
           "hovertemplate": "locationtime=1610470013<br>lon=%{x}<br>lat=%{y}<br>shingle_id=%{marker.color}<extra></extra>",
           "ids": [
            1
           ],
           "legendgroup": "",
           "marker": {
            "color": [
             1
            ],
            "coloraxis": "coloraxis",
            "symbol": "circle"
           },
           "mode": "markers",
           "name": "",
           "orientation": "v",
           "showlegend": false,
           "type": "scatter",
           "x": [
            -122.133354187
           ],
           "xaxis": "x",
           "y": [
            47.6381492615
           ],
           "yaxis": "y"
          }
         ],
         "name": "1610470013"
        },
        {
         "data": [
          {
           "hovertemplate": "locationtime=1610470066<br>lon=%{x}<br>lat=%{y}<br>shingle_id=%{marker.color}<extra></extra>",
           "ids": [
            5538
           ],
           "legendgroup": "",
           "marker": {
            "color": [
             5538
            ],
            "coloraxis": "coloraxis",
            "symbol": "circle"
           },
           "mode": "markers",
           "name": "",
           "orientation": "v",
           "showlegend": false,
           "type": "scatter",
           "x": [
            -122.137550354
           ],
           "xaxis": "x",
           "y": [
            47.6459922791
           ],
           "yaxis": "y"
          }
         ],
         "name": "1610470066"
        },
        {
         "data": [
          {
           "hovertemplate": "locationtime=1610470071<br>lon=%{x}<br>lat=%{y}<br>shingle_id=%{marker.color}<extra></extra>",
           "ids": [
            9,
            9,
            9,
            9,
            1,
            9,
            9,
            9,
            9,
            9,
            9,
            9,
            9,
            9
           ],
           "legendgroup": "",
           "marker": {
            "color": [
             9,
             9,
             9,
             9,
             1,
             9,
             9,
             9,
             9,
             9,
             9,
             9,
             9,
             9
            ],
            "coloraxis": "coloraxis",
            "symbol": "circle"
           },
           "mode": "markers",
           "name": "",
           "orientation": "v",
           "showlegend": false,
           "type": "scatter",
           "x": [
            -122.1364822388,
            -122.1364822388,
            -122.1364822388,
            -122.1364822388,
            -122.1363143921,
            -122.1364822388,
            -122.1364822388,
            -122.1364822388,
            -122.1364822388,
            -122.1364822388,
            -122.1364822388,
            -122.1364822388,
            -122.1364822388,
            -122.1364822388
           ],
           "xaxis": "x",
           "y": [
            47.6329612732,
            47.6329612732,
            47.6329612732,
            47.6329612732,
            47.6325149536,
            47.6329612732,
            47.6329612732,
            47.6329612732,
            47.6329612732,
            47.6329612732,
            47.6329612732,
            47.6329612732,
            47.6329612732,
            47.6329612732
           ],
           "yaxis": "y"
          }
         ],
         "name": "1610470071"
        },
        {
         "data": [
          {
           "hovertemplate": "locationtime=1610470119<br>lon=%{x}<br>lat=%{y}<br>shingle_id=%{marker.color}<extra></extra>",
           "ids": [
            1635
           ],
           "legendgroup": "",
           "marker": {
            "color": [
             1635
            ],
            "coloraxis": "coloraxis",
            "symbol": "circle"
           },
           "mode": "markers",
           "name": "",
           "orientation": "v",
           "showlegend": false,
           "type": "scatter",
           "x": [
            -122.1378097534
           ],
           "xaxis": "x",
           "y": [
            47.6459884644
           ],
           "yaxis": "y"
          }
         ],
         "name": "1610470119"
        },
        {
         "data": [
          {
           "hovertemplate": "locationtime=1610470136<br>lon=%{x}<br>lat=%{y}<br>shingle_id=%{marker.color}<extra></extra>",
           "ids": [
            1145
           ],
           "legendgroup": "",
           "marker": {
            "color": [
             1145
            ],
            "coloraxis": "coloraxis",
            "symbol": "circle"
           },
           "mode": "markers",
           "name": "",
           "orientation": "v",
           "showlegend": false,
           "type": "scatter",
           "x": [
            -122.0626068115
           ],
           "xaxis": "x",
           "y": [
            47.6549301147
           ],
           "yaxis": "y"
          }
         ],
         "name": "1610470136"
        },
        {
         "data": [
          {
           "hovertemplate": "locationtime=1610470193<br>lon=%{x}<br>lat=%{y}<br>shingle_id=%{marker.color}<extra></extra>",
           "ids": [
            1
           ],
           "legendgroup": "",
           "marker": {
            "color": [
             1
            ],
            "coloraxis": "coloraxis",
            "symbol": "circle"
           },
           "mode": "markers",
           "name": "",
           "orientation": "v",
           "showlegend": false,
           "type": "scatter",
           "x": [
            -122.133354187
           ],
           "xaxis": "x",
           "y": [
            47.6381492615
           ],
           "yaxis": "y"
          }
         ],
         "name": "1610470193"
        },
        {
         "data": [
          {
           "hovertemplate": "locationtime=1610470196<br>lon=%{x}<br>lat=%{y}<br>shingle_id=%{marker.color}<extra></extra>",
           "ids": [
            1145
           ],
           "legendgroup": "",
           "marker": {
            "color": [
             1145
            ],
            "coloraxis": "coloraxis",
            "symbol": "circle"
           },
           "mode": "markers",
           "name": "",
           "orientation": "v",
           "showlegend": false,
           "type": "scatter",
           "x": [
            -122.0557556152
           ],
           "xaxis": "x",
           "y": [
            47.6488494873
           ],
           "yaxis": "y"
          }
         ],
         "name": "1610470196"
        },
        {
         "data": [
          {
           "hovertemplate": "locationtime=1610470221<br>lon=%{x}<br>lat=%{y}<br>shingle_id=%{marker.color}<extra></extra>",
           "ids": [
            1
           ],
           "legendgroup": "",
           "marker": {
            "color": [
             1
            ],
            "coloraxis": "coloraxis",
            "symbol": "circle"
           },
           "mode": "markers",
           "name": "",
           "orientation": "v",
           "showlegend": false,
           "type": "scatter",
           "x": [
            -122.1363143921
           ],
           "xaxis": "x",
           "y": [
            47.6325149536
           ],
           "yaxis": "y"
          }
         ],
         "name": "1610470221"
        },
        {
         "data": [
          {
           "hovertemplate": "locationtime=1610470226<br>lon=%{x}<br>lat=%{y}<br>shingle_id=%{marker.color}<extra></extra>",
           "ids": [
            1145
           ],
           "legendgroup": "",
           "marker": {
            "color": [
             1145
            ],
            "coloraxis": "coloraxis",
            "symbol": "circle"
           },
           "mode": "markers",
           "name": "",
           "orientation": "v",
           "showlegend": false,
           "type": "scatter",
           "x": [
            -122.056388855
           ],
           "xaxis": "x",
           "y": [
            47.6454048157
           ],
           "yaxis": "y"
          }
         ],
         "name": "1610470226"
        },
        {
         "data": [
          {
           "hovertemplate": "locationtime=1610470234<br>lon=%{x}<br>lat=%{y}<br>shingle_id=%{marker.color}<extra></extra>",
           "ids": [
            1561
           ],
           "legendgroup": "",
           "marker": {
            "color": [
             1561
            ],
            "coloraxis": "coloraxis",
            "symbol": "circle"
           },
           "mode": "markers",
           "name": "",
           "orientation": "v",
           "showlegend": false,
           "type": "scatter",
           "x": [
            -122.1354598999
           ],
           "xaxis": "x",
           "y": [
            47.6381492615
           ],
           "yaxis": "y"
          }
         ],
         "name": "1610470234"
        },
        {
         "data": [
          {
           "hovertemplate": "locationtime=1610470255<br>lon=%{x}<br>lat=%{y}<br>shingle_id=%{marker.color}<extra></extra>",
           "ids": [
            1145
           ],
           "legendgroup": "",
           "marker": {
            "color": [
             1145
            ],
            "coloraxis": "coloraxis",
            "symbol": "circle"
           },
           "mode": "markers",
           "name": "",
           "orientation": "v",
           "showlegend": false,
           "type": "scatter",
           "x": [
            -122.0563735962
           ],
           "xaxis": "x",
           "y": [
            47.6438140869
           ],
           "yaxis": "y"
          }
         ],
         "name": "1610470255"
        },
        {
         "data": [
          {
           "hovertemplate": "locationtime=1610470284<br>lon=%{x}<br>lat=%{y}<br>shingle_id=%{marker.color}<extra></extra>",
           "ids": [
            1
           ],
           "legendgroup": "",
           "marker": {
            "color": [
             1
            ],
            "coloraxis": "coloraxis",
            "symbol": "circle"
           },
           "mode": "markers",
           "name": "",
           "orientation": "v",
           "showlegend": false,
           "type": "scatter",
           "x": [
            -122.133354187
           ],
           "xaxis": "x",
           "y": [
            47.6381492615
           ],
           "yaxis": "y"
          }
         ],
         "name": "1610470284"
        },
        {
         "data": [
          {
           "hovertemplate": "locationtime=1610470310<br>lon=%{x}<br>lat=%{y}<br>shingle_id=%{marker.color}<extra></extra>",
           "ids": [
            1561
           ],
           "legendgroup": "",
           "marker": {
            "color": [
             1561
            ],
            "coloraxis": "coloraxis",
            "symbol": "circle"
           },
           "mode": "markers",
           "name": "",
           "orientation": "v",
           "showlegend": false,
           "type": "scatter",
           "x": [
            -122.1361465454
           ],
           "xaxis": "x",
           "y": [
            47.6380691528
           ],
           "yaxis": "y"
          }
         ],
         "name": "1610470310"
        },
        {
         "data": [
          {
           "hovertemplate": "locationtime=1610470311<br>lon=%{x}<br>lat=%{y}<br>shingle_id=%{marker.color}<extra></extra>",
           "ids": [
            1
           ],
           "legendgroup": "",
           "marker": {
            "color": [
             1
            ],
            "coloraxis": "coloraxis",
            "symbol": "circle"
           },
           "mode": "markers",
           "name": "",
           "orientation": "v",
           "showlegend": false,
           "type": "scatter",
           "x": [
            -122.1363143921
           ],
           "xaxis": "x",
           "y": [
            47.6325149536
           ],
           "yaxis": "y"
          }
         ],
         "name": "1610470311"
        },
        {
         "data": [
          {
           "hovertemplate": "locationtime=1610470336<br>lon=%{x}<br>lat=%{y}<br>shingle_id=%{marker.color}<extra></extra>",
           "ids": [
            5538
           ],
           "legendgroup": "",
           "marker": {
            "color": [
             5538
            ],
            "coloraxis": "coloraxis",
            "symbol": "circle"
           },
           "mode": "markers",
           "name": "",
           "orientation": "v",
           "showlegend": false,
           "type": "scatter",
           "x": [
            -122.137512207
           ],
           "xaxis": "x",
           "y": [
            47.6459922791
           ],
           "yaxis": "y"
          }
         ],
         "name": "1610470336"
        },
        {
         "data": [
          {
           "hovertemplate": "locationtime=1610470370<br>lon=%{x}<br>lat=%{y}<br>shingle_id=%{marker.color}<extra></extra>",
           "ids": [
            12
           ],
           "legendgroup": "",
           "marker": {
            "color": [
             12
            ],
            "coloraxis": "coloraxis",
            "symbol": "circle"
           },
           "mode": "markers",
           "name": "",
           "orientation": "v",
           "showlegend": false,
           "type": "scatter",
           "x": [
            -122.035446167
           ],
           "xaxis": "x",
           "y": [
            47.6299209595
           ],
           "yaxis": "y"
          }
         ],
         "name": "1610470370"
        },
        {
         "data": [
          {
           "hovertemplate": "locationtime=1610470373<br>lon=%{x}<br>lat=%{y}<br>shingle_id=%{marker.color}<extra></extra>",
           "ids": [
            1
           ],
           "legendgroup": "",
           "marker": {
            "color": [
             1
            ],
            "coloraxis": "coloraxis",
            "symbol": "circle"
           },
           "mode": "markers",
           "name": "",
           "orientation": "v",
           "showlegend": false,
           "type": "scatter",
           "x": [
            -122.133354187
           ],
           "xaxis": "x",
           "y": [
            47.6381492615
           ],
           "yaxis": "y"
          }
         ],
         "name": "1610470373"
        },
        {
         "data": [
          {
           "hovertemplate": "locationtime=1610470389<br>lon=%{x}<br>lat=%{y}<br>shingle_id=%{marker.color}<extra></extra>",
           "ids": [
            1653
           ],
           "legendgroup": "",
           "marker": {
            "color": [
             1653
            ],
            "coloraxis": "coloraxis",
            "symbol": "circle"
           },
           "mode": "markers",
           "name": "",
           "orientation": "v",
           "showlegend": false,
           "type": "scatter",
           "x": [
            -122.1433029175
           ],
           "xaxis": "x",
           "y": [
            47.6513938904
           ],
           "yaxis": "y"
          }
         ],
         "name": "1610470389"
        },
        {
         "data": [
          {
           "hovertemplate": "locationtime=1610470390<br>lon=%{x}<br>lat=%{y}<br>shingle_id=%{marker.color}<extra></extra>",
           "ids": [
            12
           ],
           "legendgroup": "",
           "marker": {
            "color": [
             12
            ],
            "coloraxis": "coloraxis",
            "symbol": "circle"
           },
           "mode": "markers",
           "name": "",
           "orientation": "v",
           "showlegend": false,
           "type": "scatter",
           "x": [
            -122.0354537964
           ],
           "xaxis": "x",
           "y": [
            47.6293449402
           ],
           "yaxis": "y"
          }
         ],
         "name": "1610470390"
        },
        {
         "data": [
          {
           "hovertemplate": "locationtime=1610470391<br>lon=%{x}<br>lat=%{y}<br>shingle_id=%{marker.color}<extra></extra>",
           "ids": [
            1146
           ],
           "legendgroup": "",
           "marker": {
            "color": [
             1146
            ],
            "coloraxis": "coloraxis",
            "symbol": "circle"
           },
           "mode": "markers",
           "name": "",
           "orientation": "v",
           "showlegend": false,
           "type": "scatter",
           "x": [
            -122.0354537964
           ],
           "xaxis": "x",
           "y": [
            47.6293296814
           ],
           "yaxis": "y"
          }
         ],
         "name": "1610470391"
        },
        {
         "data": [
          {
           "hovertemplate": "locationtime=1610470431<br>lon=%{x}<br>lat=%{y}<br>shingle_id=%{marker.color}<extra></extra>",
           "ids": [
            9,
            9,
            9,
            9,
            9,
            9,
            9,
            9,
            9,
            9,
            9,
            9,
            9
           ],
           "legendgroup": "",
           "marker": {
            "color": [
             9,
             9,
             9,
             9,
             9,
             9,
             9,
             9,
             9,
             9,
             9,
             9,
             9
            ],
            "coloraxis": "coloraxis",
            "symbol": "circle"
           },
           "mode": "markers",
           "name": "",
           "orientation": "v",
           "showlegend": false,
           "type": "scatter",
           "x": [
            -122.1364822388,
            -122.1364822388,
            -122.1364822388,
            -122.1364822388,
            -122.1364822388,
            -122.1364822388,
            -122.1364822388,
            -122.1364822388,
            -122.1364822388,
            -122.1364822388,
            -122.1364822388,
            -122.1364822388,
            -122.1364822388
           ],
           "xaxis": "x",
           "y": [
            47.6329612732,
            47.6329612732,
            47.6329612732,
            47.6329612732,
            47.6329612732,
            47.6329612732,
            47.6329612732,
            47.6329612732,
            47.6329612732,
            47.6329612732,
            47.6329612732,
            47.6329612732,
            47.6329612732
           ],
           "yaxis": "y"
          }
         ],
         "name": "1610470431"
        },
        {
         "data": [
          {
           "hovertemplate": "locationtime=1610470432<br>lon=%{x}<br>lat=%{y}<br>shingle_id=%{marker.color}<extra></extra>",
           "ids": [
            1
           ],
           "legendgroup": "",
           "marker": {
            "color": [
             1
            ],
            "coloraxis": "coloraxis",
            "symbol": "circle"
           },
           "mode": "markers",
           "name": "",
           "orientation": "v",
           "showlegend": false,
           "type": "scatter",
           "x": [
            -122.1363143921
           ],
           "xaxis": "x",
           "y": [
            47.6325149536
           ],
           "yaxis": "y"
          }
         ],
         "name": "1610470432"
        },
        {
         "data": [
          {
           "hovertemplate": "locationtime=1610470434<br>lon=%{x}<br>lat=%{y}<br>shingle_id=%{marker.color}<extra></extra>",
           "ids": [
            12
           ],
           "legendgroup": "",
           "marker": {
            "color": [
             12
            ],
            "coloraxis": "coloraxis",
            "symbol": "circle"
           },
           "mode": "markers",
           "name": "",
           "orientation": "v",
           "showlegend": false,
           "type": "scatter",
           "x": [
            -122.0432357788
           ],
           "xaxis": "x",
           "y": [
            47.6364212036
           ],
           "yaxis": "y"
          }
         ],
         "name": "1610470434"
        },
        {
         "data": [
          {
           "hovertemplate": "locationtime=1610470449<br>lon=%{x}<br>lat=%{y}<br>shingle_id=%{marker.color}<extra></extra>",
           "ids": [
            1561
           ],
           "legendgroup": "",
           "marker": {
            "color": [
             1561
            ],
            "coloraxis": "coloraxis",
            "symbol": "circle"
           },
           "mode": "markers",
           "name": "",
           "orientation": "v",
           "showlegend": false,
           "type": "scatter",
           "x": [
            -122.1368255615
           ],
           "xaxis": "x",
           "y": [
            47.6459999084
           ],
           "yaxis": "y"
          }
         ],
         "name": "1610470449"
        },
        {
         "data": [
          {
           "hovertemplate": "locationtime=1610470451<br>lon=%{x}<br>lat=%{y}<br>shingle_id=%{marker.color}<extra></extra>",
           "ids": [
            1653
           ],
           "legendgroup": "",
           "marker": {
            "color": [
             1653
            ],
            "coloraxis": "coloraxis",
            "symbol": "circle"
           },
           "mode": "markers",
           "name": "",
           "orientation": "v",
           "showlegend": false,
           "type": "scatter",
           "x": [
            -122.1433258057
           ],
           "xaxis": "x",
           "y": [
            47.6518440247
           ],
           "yaxis": "y"
          }
         ],
         "name": "1610470451"
        },
        {
         "data": [
          {
           "hovertemplate": "locationtime=1610470463<br>lon=%{x}<br>lat=%{y}<br>shingle_id=%{marker.color}<extra></extra>",
           "ids": [
            1
           ],
           "legendgroup": "",
           "marker": {
            "color": [
             1
            ],
            "coloraxis": "coloraxis",
            "symbol": "circle"
           },
           "mode": "markers",
           "name": "",
           "orientation": "v",
           "showlegend": false,
           "type": "scatter",
           "x": [
            -122.133354187
           ],
           "xaxis": "x",
           "y": [
            47.6381492615
           ],
           "yaxis": "y"
          }
         ],
         "name": "1610470463"
        },
        {
         "data": [
          {
           "hovertemplate": "locationtime=1610470487<br>lon=%{x}<br>lat=%{y}<br>shingle_id=%{marker.color}<extra></extra>",
           "ids": [
            12
           ],
           "legendgroup": "",
           "marker": {
            "color": [
             12
            ],
            "coloraxis": "coloraxis",
            "symbol": "circle"
           },
           "mode": "markers",
           "name": "",
           "orientation": "v",
           "showlegend": false,
           "type": "scatter",
           "x": [
            -122.0543060303
           ],
           "xaxis": "x",
           "y": [
            47.6404762268
           ],
           "yaxis": "y"
          }
         ],
         "name": "1610470487"
        },
        {
         "data": [
          {
           "hovertemplate": "locationtime=1610470504<br>lon=%{x}<br>lat=%{y}<br>shingle_id=%{marker.color}<extra></extra>",
           "ids": [
            1654
           ],
           "legendgroup": "",
           "marker": {
            "color": [
             1654
            ],
            "coloraxis": "coloraxis",
            "symbol": "circle"
           },
           "mode": "markers",
           "name": "",
           "orientation": "v",
           "showlegend": false,
           "type": "scatter",
           "x": [
            -122.141166687
           ],
           "xaxis": "x",
           "y": [
            47.6459541321
           ],
           "yaxis": "y"
          }
         ],
         "name": "1610470504"
        },
        {
         "data": [
          {
           "hovertemplate": "locationtime=1610470508<br>lon=%{x}<br>lat=%{y}<br>shingle_id=%{marker.color}<extra></extra>",
           "ids": [
            549
           ],
           "legendgroup": "",
           "marker": {
            "color": [
             549
            ],
            "coloraxis": "coloraxis",
            "symbol": "circle"
           },
           "mode": "markers",
           "name": "",
           "orientation": "v",
           "showlegend": false,
           "type": "scatter",
           "x": [
            -122.1433258057
           ],
           "xaxis": "x",
           "y": [
            47.6518707275
           ],
           "yaxis": "y"
          }
         ],
         "name": "1610470508"
        },
        {
         "data": [
          {
           "hovertemplate": "locationtime=1610470509<br>lon=%{x}<br>lat=%{y}<br>shingle_id=%{marker.color}<extra></extra>",
           "ids": [
            1561
           ],
           "legendgroup": "",
           "marker": {
            "color": [
             1561
            ],
            "coloraxis": "coloraxis",
            "symbol": "circle"
           },
           "mode": "markers",
           "name": "",
           "orientation": "v",
           "showlegend": false,
           "type": "scatter",
           "x": [
            -122.137802124
           ],
           "xaxis": "x",
           "y": [
            47.6459884644
           ],
           "yaxis": "y"
          }
         ],
         "name": "1610470509"
        },
        {
         "data": [
          {
           "hovertemplate": "locationtime=1610470510<br>lon=%{x}<br>lat=%{y}<br>shingle_id=%{marker.color}<extra></extra>",
           "ids": [
            1
           ],
           "legendgroup": "",
           "marker": {
            "color": [
             1
            ],
            "coloraxis": "coloraxis",
            "symbol": "circle"
           },
           "mode": "markers",
           "name": "",
           "orientation": "v",
           "showlegend": false,
           "type": "scatter",
           "x": [
            -122.136177063
           ],
           "xaxis": "x",
           "y": [
            47.6331596375
           ],
           "yaxis": "y"
          }
         ],
         "name": "1610470510"
        }
       ],
       "layout": {
        "coloraxis": {
         "colorbar": {
          "title": {
           "text": "shingle_id"
          }
         },
         "colorscale": [
          [
           0,
           "#0d0887"
          ],
          [
           0.1111111111111111,
           "#46039f"
          ],
          [
           0.2222222222222222,
           "#7201a8"
          ],
          [
           0.3333333333333333,
           "#9c179e"
          ],
          [
           0.4444444444444444,
           "#bd3786"
          ],
          [
           0.5555555555555556,
           "#d8576b"
          ],
          [
           0.6666666666666666,
           "#ed7953"
          ],
          [
           0.7777777777777778,
           "#fb9f3a"
          ],
          [
           0.8888888888888888,
           "#fdca26"
          ],
          [
           1,
           "#f0f921"
          ]
         ]
        },
        "legend": {
         "tracegroupgap": 0
        },
        "margin": {
         "t": 60
        },
        "sliders": [
         {
          "active": 0,
          "currentvalue": {
           "prefix": "locationtime="
          },
          "len": 0.9,
          "pad": {
           "b": 10,
           "t": 60
          },
          "steps": [
           {
            "args": [
             [
              "1610466953"
             ],
             {
              "frame": {
               "duration": 0,
               "redraw": false
              },
              "fromcurrent": true,
              "mode": "immediate",
              "transition": {
               "duration": 0,
               "easing": "linear"
              }
             }
            ],
            "label": "1610466953",
            "method": "animate"
           },
           {
            "args": [
             [
              "1610467008"
             ],
             {
              "frame": {
               "duration": 0,
               "redraw": false
              },
              "fromcurrent": true,
              "mode": "immediate",
              "transition": {
               "duration": 0,
               "easing": "linear"
              }
             }
            ],
            "label": "1610467008",
            "method": "animate"
           },
           {
            "args": [
             [
              "1610467010"
             ],
             {
              "frame": {
               "duration": 0,
               "redraw": false
              },
              "fromcurrent": true,
              "mode": "immediate",
              "transition": {
               "duration": 0,
               "easing": "linear"
              }
             }
            ],
            "label": "1610467010",
            "method": "animate"
           },
           {
            "args": [
             [
              "1610467032"
             ],
             {
              "frame": {
               "duration": 0,
               "redraw": false
              },
              "fromcurrent": true,
              "mode": "immediate",
              "transition": {
               "duration": 0,
               "easing": "linear"
              }
             }
            ],
            "label": "1610467032",
            "method": "animate"
           },
           {
            "args": [
             [
              "1610467056"
             ],
             {
              "frame": {
               "duration": 0,
               "redraw": false
              },
              "fromcurrent": true,
              "mode": "immediate",
              "transition": {
               "duration": 0,
               "easing": "linear"
              }
             }
            ],
            "label": "1610467056",
            "method": "animate"
           },
           {
            "args": [
             [
              "1610467068"
             ],
             {
              "frame": {
               "duration": 0,
               "redraw": false
              },
              "fromcurrent": true,
              "mode": "immediate",
              "transition": {
               "duration": 0,
               "easing": "linear"
              }
             }
            ],
            "label": "1610467068",
            "method": "animate"
           },
           {
            "args": [
             [
              "1610467080"
             ],
             {
              "frame": {
               "duration": 0,
               "redraw": false
              },
              "fromcurrent": true,
              "mode": "immediate",
              "transition": {
               "duration": 0,
               "easing": "linear"
              }
             }
            ],
            "label": "1610467080",
            "method": "animate"
           },
           {
            "args": [
             [
              "1610467086"
             ],
             {
              "frame": {
               "duration": 0,
               "redraw": false
              },
              "fromcurrent": true,
              "mode": "immediate",
              "transition": {
               "duration": 0,
               "easing": "linear"
              }
             }
            ],
            "label": "1610467086",
            "method": "animate"
           },
           {
            "args": [
             [
              "1610467126"
             ],
             {
              "frame": {
               "duration": 0,
               "redraw": false
              },
              "fromcurrent": true,
              "mode": "immediate",
              "transition": {
               "duration": 0,
               "easing": "linear"
              }
             }
            ],
            "label": "1610467126",
            "method": "animate"
           },
           {
            "args": [
             [
              "1610467134"
             ],
             {
              "frame": {
               "duration": 0,
               "redraw": false
              },
              "fromcurrent": true,
              "mode": "immediate",
              "transition": {
               "duration": 0,
               "easing": "linear"
              }
             }
            ],
            "label": "1610467134",
            "method": "animate"
           },
           {
            "args": [
             [
              "1610467157"
             ],
             {
              "frame": {
               "duration": 0,
               "redraw": false
              },
              "fromcurrent": true,
              "mode": "immediate",
              "transition": {
               "duration": 0,
               "easing": "linear"
              }
             }
            ],
            "label": "1610467157",
            "method": "animate"
           },
           {
            "args": [
             [
              "1610467178"
             ],
             {
              "frame": {
               "duration": 0,
               "redraw": false
              },
              "fromcurrent": true,
              "mode": "immediate",
              "transition": {
               "duration": 0,
               "easing": "linear"
              }
             }
            ],
            "label": "1610467178",
            "method": "animate"
           },
           {
            "args": [
             [
              "1610467184"
             ],
             {
              "frame": {
               "duration": 0,
               "redraw": false
              },
              "fromcurrent": true,
              "mode": "immediate",
              "transition": {
               "duration": 0,
               "easing": "linear"
              }
             }
            ],
            "label": "1610467184",
            "method": "animate"
           },
           {
            "args": [
             [
              "1610467188"
             ],
             {
              "frame": {
               "duration": 0,
               "redraw": false
              },
              "fromcurrent": true,
              "mode": "immediate",
              "transition": {
               "duration": 0,
               "easing": "linear"
              }
             }
            ],
            "label": "1610467188",
            "method": "animate"
           },
           {
            "args": [
             [
              "1610467189"
             ],
             {
              "frame": {
               "duration": 0,
               "redraw": false
              },
              "fromcurrent": true,
              "mode": "immediate",
              "transition": {
               "duration": 0,
               "easing": "linear"
              }
             }
            ],
            "label": "1610467189",
            "method": "animate"
           },
           {
            "args": [
             [
              "1610467224"
             ],
             {
              "frame": {
               "duration": 0,
               "redraw": false
              },
              "fromcurrent": true,
              "mode": "immediate",
              "transition": {
               "duration": 0,
               "easing": "linear"
              }
             }
            ],
            "label": "1610467224",
            "method": "animate"
           },
           {
            "args": [
             [
              "1610467230"
             ],
             {
              "frame": {
               "duration": 0,
               "redraw": false
              },
              "fromcurrent": true,
              "mode": "immediate",
              "transition": {
               "duration": 0,
               "easing": "linear"
              }
             }
            ],
            "label": "1610467230",
            "method": "animate"
           },
           {
            "args": [
             [
              "1610467254"
             ],
             {
              "frame": {
               "duration": 0,
               "redraw": false
              },
              "fromcurrent": true,
              "mode": "immediate",
              "transition": {
               "duration": 0,
               "easing": "linear"
              }
             }
            ],
            "label": "1610467254",
            "method": "animate"
           },
           {
            "args": [
             [
              "1610467351"
             ],
             {
              "frame": {
               "duration": 0,
               "redraw": false
              },
              "fromcurrent": true,
              "mode": "immediate",
              "transition": {
               "duration": 0,
               "easing": "linear"
              }
             }
            ],
            "label": "1610467351",
            "method": "animate"
           },
           {
            "args": [
             [
              "1610467375"
             ],
             {
              "frame": {
               "duration": 0,
               "redraw": false
              },
              "fromcurrent": true,
              "mode": "immediate",
              "transition": {
               "duration": 0,
               "easing": "linear"
              }
             }
            ],
            "label": "1610467375",
            "method": "animate"
           },
           {
            "args": [
             [
              "1610467385"
             ],
             {
              "frame": {
               "duration": 0,
               "redraw": false
              },
              "fromcurrent": true,
              "mode": "immediate",
              "transition": {
               "duration": 0,
               "easing": "linear"
              }
             }
            ],
            "label": "1610467385",
            "method": "animate"
           },
           {
            "args": [
             [
              "1610467403"
             ],
             {
              "frame": {
               "duration": 0,
               "redraw": false
              },
              "fromcurrent": true,
              "mode": "immediate",
              "transition": {
               "duration": 0,
               "easing": "linear"
              }
             }
            ],
            "label": "1610467403",
            "method": "animate"
           },
           {
            "args": [
             [
              "1610467426"
             ],
             {
              "frame": {
               "duration": 0,
               "redraw": false
              },
              "fromcurrent": true,
              "mode": "immediate",
              "transition": {
               "duration": 0,
               "easing": "linear"
              }
             }
            ],
            "label": "1610467426",
            "method": "animate"
           },
           {
            "args": [
             [
              "1610467427"
             ],
             {
              "frame": {
               "duration": 0,
               "redraw": false
              },
              "fromcurrent": true,
              "mode": "immediate",
              "transition": {
               "duration": 0,
               "easing": "linear"
              }
             }
            ],
            "label": "1610467427",
            "method": "animate"
           },
           {
            "args": [
             [
              "1610467448"
             ],
             {
              "frame": {
               "duration": 0,
               "redraw": false
              },
              "fromcurrent": true,
              "mode": "immediate",
              "transition": {
               "duration": 0,
               "easing": "linear"
              }
             }
            ],
            "label": "1610467448",
            "method": "animate"
           },
           {
            "args": [
             [
              "1610467449"
             ],
             {
              "frame": {
               "duration": 0,
               "redraw": false
              },
              "fromcurrent": true,
              "mode": "immediate",
              "transition": {
               "duration": 0,
               "easing": "linear"
              }
             }
            ],
            "label": "1610467449",
            "method": "animate"
           },
           {
            "args": [
             [
              "1610467456"
             ],
             {
              "frame": {
               "duration": 0,
               "redraw": false
              },
              "fromcurrent": true,
              "mode": "immediate",
              "transition": {
               "duration": 0,
               "easing": "linear"
              }
             }
            ],
            "label": "1610467456",
            "method": "animate"
           },
           {
            "args": [
             [
              "1610467484"
             ],
             {
              "frame": {
               "duration": 0,
               "redraw": false
              },
              "fromcurrent": true,
              "mode": "immediate",
              "transition": {
               "duration": 0,
               "easing": "linear"
              }
             }
            ],
            "label": "1610467484",
            "method": "animate"
           },
           {
            "args": [
             [
              "1610467493"
             ],
             {
              "frame": {
               "duration": 0,
               "redraw": false
              },
              "fromcurrent": true,
              "mode": "immediate",
              "transition": {
               "duration": 0,
               "easing": "linear"
              }
             }
            ],
            "label": "1610467493",
            "method": "animate"
           },
           {
            "args": [
             [
              "1610467501"
             ],
             {
              "frame": {
               "duration": 0,
               "redraw": false
              },
              "fromcurrent": true,
              "mode": "immediate",
              "transition": {
               "duration": 0,
               "easing": "linear"
              }
             }
            ],
            "label": "1610467501",
            "method": "animate"
           },
           {
            "args": [
             [
              "1610467554"
             ],
             {
              "frame": {
               "duration": 0,
               "redraw": false
              },
              "fromcurrent": true,
              "mode": "immediate",
              "transition": {
               "duration": 0,
               "easing": "linear"
              }
             }
            ],
            "label": "1610467554",
            "method": "animate"
           },
           {
            "args": [
             [
              "1610467577"
             ],
             {
              "frame": {
               "duration": 0,
               "redraw": false
              },
              "fromcurrent": true,
              "mode": "immediate",
              "transition": {
               "duration": 0,
               "easing": "linear"
              }
             }
            ],
            "label": "1610467577",
            "method": "animate"
           },
           {
            "args": [
             [
              "1610467583"
             ],
             {
              "frame": {
               "duration": 0,
               "redraw": false
              },
              "fromcurrent": true,
              "mode": "immediate",
              "transition": {
               "duration": 0,
               "easing": "linear"
              }
             }
            ],
            "label": "1610467583",
            "method": "animate"
           },
           {
            "args": [
             [
              "1610467593"
             ],
             {
              "frame": {
               "duration": 0,
               "redraw": false
              },
              "fromcurrent": true,
              "mode": "immediate",
              "transition": {
               "duration": 0,
               "easing": "linear"
              }
             }
            ],
            "label": "1610467593",
            "method": "animate"
           },
           {
            "args": [
             [
              "1610467607"
             ],
             {
              "frame": {
               "duration": 0,
               "redraw": false
              },
              "fromcurrent": true,
              "mode": "immediate",
              "transition": {
               "duration": 0,
               "easing": "linear"
              }
             }
            ],
            "label": "1610467607",
            "method": "animate"
           },
           {
            "args": [
             [
              "1610467615"
             ],
             {
              "frame": {
               "duration": 0,
               "redraw": false
              },
              "fromcurrent": true,
              "mode": "immediate",
              "transition": {
               "duration": 0,
               "easing": "linear"
              }
             }
            ],
            "label": "1610467615",
            "method": "animate"
           },
           {
            "args": [
             [
              "1610467656"
             ],
             {
              "frame": {
               "duration": 0,
               "redraw": false
              },
              "fromcurrent": true,
              "mode": "immediate",
              "transition": {
               "duration": 0,
               "easing": "linear"
              }
             }
            ],
            "label": "1610467656",
            "method": "animate"
           },
           {
            "args": [
             [
              "1610467661"
             ],
             {
              "frame": {
               "duration": 0,
               "redraw": false
              },
              "fromcurrent": true,
              "mode": "immediate",
              "transition": {
               "duration": 0,
               "easing": "linear"
              }
             }
            ],
            "label": "1610467661",
            "method": "animate"
           },
           {
            "args": [
             [
              "1610467673"
             ],
             {
              "frame": {
               "duration": 0,
               "redraw": false
              },
              "fromcurrent": true,
              "mode": "immediate",
              "transition": {
               "duration": 0,
               "easing": "linear"
              }
             }
            ],
            "label": "1610467673",
            "method": "animate"
           },
           {
            "args": [
             [
              "1610467687"
             ],
             {
              "frame": {
               "duration": 0,
               "redraw": false
              },
              "fromcurrent": true,
              "mode": "immediate",
              "transition": {
               "duration": 0,
               "easing": "linear"
              }
             }
            ],
            "label": "1610467687",
            "method": "animate"
           },
           {
            "args": [
             [
              "1610467693"
             ],
             {
              "frame": {
               "duration": 0,
               "redraw": false
              },
              "fromcurrent": true,
              "mode": "immediate",
              "transition": {
               "duration": 0,
               "easing": "linear"
              }
             }
            ],
            "label": "1610467693",
            "method": "animate"
           },
           {
            "args": [
             [
              "1610467747"
             ],
             {
              "frame": {
               "duration": 0,
               "redraw": false
              },
              "fromcurrent": true,
              "mode": "immediate",
              "transition": {
               "duration": 0,
               "easing": "linear"
              }
             }
            ],
            "label": "1610467747",
            "method": "animate"
           },
           {
            "args": [
             [
              "1610467763"
             ],
             {
              "frame": {
               "duration": 0,
               "redraw": false
              },
              "fromcurrent": true,
              "mode": "immediate",
              "transition": {
               "duration": 0,
               "easing": "linear"
              }
             }
            ],
            "label": "1610467763",
            "method": "animate"
           },
           {
            "args": [
             [
              "1610467788"
             ],
             {
              "frame": {
               "duration": 0,
               "redraw": false
              },
              "fromcurrent": true,
              "mode": "immediate",
              "transition": {
               "duration": 0,
               "easing": "linear"
              }
             }
            ],
            "label": "1610467788",
            "method": "animate"
           },
           {
            "args": [
             [
              "1610467795"
             ],
             {
              "frame": {
               "duration": 0,
               "redraw": false
              },
              "fromcurrent": true,
              "mode": "immediate",
              "transition": {
               "duration": 0,
               "easing": "linear"
              }
             }
            ],
            "label": "1610467795",
            "method": "animate"
           },
           {
            "args": [
             [
              "1610467831"
             ],
             {
              "frame": {
               "duration": 0,
               "redraw": false
              },
              "fromcurrent": true,
              "mode": "immediate",
              "transition": {
               "duration": 0,
               "easing": "linear"
              }
             }
            ],
            "label": "1610467831",
            "method": "animate"
           },
           {
            "args": [
             [
              "1610467854"
             ],
             {
              "frame": {
               "duration": 0,
               "redraw": false
              },
              "fromcurrent": true,
              "mode": "immediate",
              "transition": {
               "duration": 0,
               "easing": "linear"
              }
             }
            ],
            "label": "1610467854",
            "method": "animate"
           },
           {
            "args": [
             [
              "1610467916"
             ],
             {
              "frame": {
               "duration": 0,
               "redraw": false
              },
              "fromcurrent": true,
              "mode": "immediate",
              "transition": {
               "duration": 0,
               "easing": "linear"
              }
             }
            ],
            "label": "1610467916",
            "method": "animate"
           },
           {
            "args": [
             [
              "1610467936"
             ],
             {
              "frame": {
               "duration": 0,
               "redraw": false
              },
              "fromcurrent": true,
              "mode": "immediate",
              "transition": {
               "duration": 0,
               "easing": "linear"
              }
             }
            ],
            "label": "1610467936",
            "method": "animate"
           },
           {
            "args": [
             [
              "1610467958"
             ],
             {
              "frame": {
               "duration": 0,
               "redraw": false
              },
              "fromcurrent": true,
              "mode": "immediate",
              "transition": {
               "duration": 0,
               "easing": "linear"
              }
             }
            ],
            "label": "1610467958",
            "method": "animate"
           },
           {
            "args": [
             [
              "1610467970"
             ],
             {
              "frame": {
               "duration": 0,
               "redraw": false
              },
              "fromcurrent": true,
              "mode": "immediate",
              "transition": {
               "duration": 0,
               "easing": "linear"
              }
             }
            ],
            "label": "1610467970",
            "method": "animate"
           },
           {
            "args": [
             [
              "1610467972"
             ],
             {
              "frame": {
               "duration": 0,
               "redraw": false
              },
              "fromcurrent": true,
              "mode": "immediate",
              "transition": {
               "duration": 0,
               "easing": "linear"
              }
             }
            ],
            "label": "1610467972",
            "method": "animate"
           },
           {
            "args": [
             [
              "1610468033"
             ],
             {
              "frame": {
               "duration": 0,
               "redraw": false
              },
              "fromcurrent": true,
              "mode": "immediate",
              "transition": {
               "duration": 0,
               "easing": "linear"
              }
             }
            ],
            "label": "1610468033",
            "method": "animate"
           },
           {
            "args": [
             [
              "1610468123"
             ],
             {
              "frame": {
               "duration": 0,
               "redraw": false
              },
              "fromcurrent": true,
              "mode": "immediate",
              "transition": {
               "duration": 0,
               "easing": "linear"
              }
             }
            ],
            "label": "1610468123",
            "method": "animate"
           },
           {
            "args": [
             [
              "1610468141"
             ],
             {
              "frame": {
               "duration": 0,
               "redraw": false
              },
              "fromcurrent": true,
              "mode": "immediate",
              "transition": {
               "duration": 0,
               "easing": "linear"
              }
             }
            ],
            "label": "1610468141",
            "method": "animate"
           },
           {
            "args": [
             [
              "1610468196"
             ],
             {
              "frame": {
               "duration": 0,
               "redraw": false
              },
              "fromcurrent": true,
              "mode": "immediate",
              "transition": {
               "duration": 0,
               "easing": "linear"
              }
             }
            ],
            "label": "1610468196",
            "method": "animate"
           },
           {
            "args": [
             [
              "1610468202"
             ],
             {
              "frame": {
               "duration": 0,
               "redraw": false
              },
              "fromcurrent": true,
              "mode": "immediate",
              "transition": {
               "duration": 0,
               "easing": "linear"
              }
             }
            ],
            "label": "1610468202",
            "method": "animate"
           },
           {
            "args": [
             [
              "1610468213"
             ],
             {
              "frame": {
               "duration": 0,
               "redraw": false
              },
              "fromcurrent": true,
              "mode": "immediate",
              "transition": {
               "duration": 0,
               "easing": "linear"
              }
             }
            ],
            "label": "1610468213",
            "method": "animate"
           },
           {
            "args": [
             [
              "1610468231"
             ],
             {
              "frame": {
               "duration": 0,
               "redraw": false
              },
              "fromcurrent": true,
              "mode": "immediate",
              "transition": {
               "duration": 0,
               "easing": "linear"
              }
             }
            ],
            "label": "1610468231",
            "method": "animate"
           },
           {
            "args": [
             [
              "1610468271"
             ],
             {
              "frame": {
               "duration": 0,
               "redraw": false
              },
              "fromcurrent": true,
              "mode": "immediate",
              "transition": {
               "duration": 0,
               "easing": "linear"
              }
             }
            ],
            "label": "1610468271",
            "method": "animate"
           },
           {
            "args": [
             [
              "1610468290"
             ],
             {
              "frame": {
               "duration": 0,
               "redraw": false
              },
              "fromcurrent": true,
              "mode": "immediate",
              "transition": {
               "duration": 0,
               "easing": "linear"
              }
             }
            ],
            "label": "1610468290",
            "method": "animate"
           },
           {
            "args": [
             [
              "1610468326"
             ],
             {
              "frame": {
               "duration": 0,
               "redraw": false
              },
              "fromcurrent": true,
              "mode": "immediate",
              "transition": {
               "duration": 0,
               "easing": "linear"
              }
             }
            ],
            "label": "1610468326",
            "method": "animate"
           },
           {
            "args": [
             [
              "1610468346"
             ],
             {
              "frame": {
               "duration": 0,
               "redraw": false
              },
              "fromcurrent": true,
              "mode": "immediate",
              "transition": {
               "duration": 0,
               "easing": "linear"
              }
             }
            ],
            "label": "1610468346",
            "method": "animate"
           },
           {
            "args": [
             [
              "1610468356"
             ],
             {
              "frame": {
               "duration": 0,
               "redraw": false
              },
              "fromcurrent": true,
              "mode": "immediate",
              "transition": {
               "duration": 0,
               "easing": "linear"
              }
             }
            ],
            "label": "1610468356",
            "method": "animate"
           },
           {
            "args": [
             [
              "1610468376"
             ],
             {
              "frame": {
               "duration": 0,
               "redraw": false
              },
              "fromcurrent": true,
              "mode": "immediate",
              "transition": {
               "duration": 0,
               "easing": "linear"
              }
             }
            ],
            "label": "1610468376",
            "method": "animate"
           },
           {
            "args": [
             [
              "1610468381"
             ],
             {
              "frame": {
               "duration": 0,
               "redraw": false
              },
              "fromcurrent": true,
              "mode": "immediate",
              "transition": {
               "duration": 0,
               "easing": "linear"
              }
             }
            ],
            "label": "1610468381",
            "method": "animate"
           },
           {
            "args": [
             [
              "1610468385"
             ],
             {
              "frame": {
               "duration": 0,
               "redraw": false
              },
              "fromcurrent": true,
              "mode": "immediate",
              "transition": {
               "duration": 0,
               "easing": "linear"
              }
             }
            ],
            "label": "1610468385",
            "method": "animate"
           },
           {
            "args": [
             [
              "1610468394"
             ],
             {
              "frame": {
               "duration": 0,
               "redraw": false
              },
              "fromcurrent": true,
              "mode": "immediate",
              "transition": {
               "duration": 0,
               "easing": "linear"
              }
             }
            ],
            "label": "1610468394",
            "method": "animate"
           },
           {
            "args": [
             [
              "1610468396"
             ],
             {
              "frame": {
               "duration": 0,
               "redraw": false
              },
              "fromcurrent": true,
              "mode": "immediate",
              "transition": {
               "duration": 0,
               "easing": "linear"
              }
             }
            ],
            "label": "1610468396",
            "method": "animate"
           },
           {
            "args": [
             [
              "1610468427"
             ],
             {
              "frame": {
               "duration": 0,
               "redraw": false
              },
              "fromcurrent": true,
              "mode": "immediate",
              "transition": {
               "duration": 0,
               "easing": "linear"
              }
             }
            ],
            "label": "1610468427",
            "method": "animate"
           },
           {
            "args": [
             [
              "1610468482"
             ],
             {
              "frame": {
               "duration": 0,
               "redraw": false
              },
              "fromcurrent": true,
              "mode": "immediate",
              "transition": {
               "duration": 0,
               "easing": "linear"
              }
             }
            ],
            "label": "1610468482",
            "method": "animate"
           },
           {
            "args": [
             [
              "1610468483"
             ],
             {
              "frame": {
               "duration": 0,
               "redraw": false
              },
              "fromcurrent": true,
              "mode": "immediate",
              "transition": {
               "duration": 0,
               "easing": "linear"
              }
             }
            ],
            "label": "1610468483",
            "method": "animate"
           },
           {
            "args": [
             [
              "1610468512"
             ],
             {
              "frame": {
               "duration": 0,
               "redraw": false
              },
              "fromcurrent": true,
              "mode": "immediate",
              "transition": {
               "duration": 0,
               "easing": "linear"
              }
             }
            ],
            "label": "1610468512",
            "method": "animate"
           },
           {
            "args": [
             [
              "1610468513"
             ],
             {
              "frame": {
               "duration": 0,
               "redraw": false
              },
              "fromcurrent": true,
              "mode": "immediate",
              "transition": {
               "duration": 0,
               "easing": "linear"
              }
             }
            ],
            "label": "1610468513",
            "method": "animate"
           },
           {
            "args": [
             [
              "1610468543"
             ],
             {
              "frame": {
               "duration": 0,
               "redraw": false
              },
              "fromcurrent": true,
              "mode": "immediate",
              "transition": {
               "duration": 0,
               "easing": "linear"
              }
             }
            ],
            "label": "1610468543",
            "method": "animate"
           },
           {
            "args": [
             [
              "1610468572"
             ],
             {
              "frame": {
               "duration": 0,
               "redraw": false
              },
              "fromcurrent": true,
              "mode": "immediate",
              "transition": {
               "duration": 0,
               "easing": "linear"
              }
             }
            ],
            "label": "1610468572",
            "method": "animate"
           },
           {
            "args": [
             [
              "1610468573"
             ],
             {
              "frame": {
               "duration": 0,
               "redraw": false
              },
              "fromcurrent": true,
              "mode": "immediate",
              "transition": {
               "duration": 0,
               "easing": "linear"
              }
             }
            ],
            "label": "1610468573",
            "method": "animate"
           },
           {
            "args": [
             [
              "1610468638"
             ],
             {
              "frame": {
               "duration": 0,
               "redraw": false
              },
              "fromcurrent": true,
              "mode": "immediate",
              "transition": {
               "duration": 0,
               "easing": "linear"
              }
             }
            ],
            "label": "1610468638",
            "method": "animate"
           },
           {
            "args": [
             [
              "1610468651"
             ],
             {
              "frame": {
               "duration": 0,
               "redraw": false
              },
              "fromcurrent": true,
              "mode": "immediate",
              "transition": {
               "duration": 0,
               "easing": "linear"
              }
             }
            ],
            "label": "1610468651",
            "method": "animate"
           },
           {
            "args": [
             [
              "1610468663"
             ],
             {
              "frame": {
               "duration": 0,
               "redraw": false
              },
              "fromcurrent": true,
              "mode": "immediate",
              "transition": {
               "duration": 0,
               "easing": "linear"
              }
             }
            ],
            "label": "1610468663",
            "method": "animate"
           },
           {
            "args": [
             [
              "1610468677"
             ],
             {
              "frame": {
               "duration": 0,
               "redraw": false
              },
              "fromcurrent": true,
              "mode": "immediate",
              "transition": {
               "duration": 0,
               "easing": "linear"
              }
             }
            ],
            "label": "1610468677",
            "method": "animate"
           },
           {
            "args": [
             [
              "1610468694"
             ],
             {
              "frame": {
               "duration": 0,
               "redraw": false
              },
              "fromcurrent": true,
              "mode": "immediate",
              "transition": {
               "duration": 0,
               "easing": "linear"
              }
             }
            ],
            "label": "1610468694",
            "method": "animate"
           },
           {
            "args": [
             [
              "1610468714"
             ],
             {
              "frame": {
               "duration": 0,
               "redraw": false
              },
              "fromcurrent": true,
              "mode": "immediate",
              "transition": {
               "duration": 0,
               "easing": "linear"
              }
             }
            ],
            "label": "1610468714",
            "method": "animate"
           },
           {
            "args": [
             [
              "1610468729"
             ],
             {
              "frame": {
               "duration": 0,
               "redraw": false
              },
              "fromcurrent": true,
              "mode": "immediate",
              "transition": {
               "duration": 0,
               "easing": "linear"
              }
             }
            ],
            "label": "1610468729",
            "method": "animate"
           },
           {
            "args": [
             [
              "1610468737"
             ],
             {
              "frame": {
               "duration": 0,
               "redraw": false
              },
              "fromcurrent": true,
              "mode": "immediate",
              "transition": {
               "duration": 0,
               "easing": "linear"
              }
             }
            ],
            "label": "1610468737",
            "method": "animate"
           },
           {
            "args": [
             [
              "1610468753"
             ],
             {
              "frame": {
               "duration": 0,
               "redraw": false
              },
              "fromcurrent": true,
              "mode": "immediate",
              "transition": {
               "duration": 0,
               "easing": "linear"
              }
             }
            ],
            "label": "1610468753",
            "method": "animate"
           },
           {
            "args": [
             [
              "1610468754"
             ],
             {
              "frame": {
               "duration": 0,
               "redraw": false
              },
              "fromcurrent": true,
              "mode": "immediate",
              "transition": {
               "duration": 0,
               "easing": "linear"
              }
             }
            ],
            "label": "1610468754",
            "method": "animate"
           },
           {
            "args": [
             [
              "1610468759"
             ],
             {
              "frame": {
               "duration": 0,
               "redraw": false
              },
              "fromcurrent": true,
              "mode": "immediate",
              "transition": {
               "duration": 0,
               "easing": "linear"
              }
             }
            ],
            "label": "1610468759",
            "method": "animate"
           },
           {
            "args": [
             [
              "1610468773"
             ],
             {
              "frame": {
               "duration": 0,
               "redraw": false
              },
              "fromcurrent": true,
              "mode": "immediate",
              "transition": {
               "duration": 0,
               "easing": "linear"
              }
             }
            ],
            "label": "1610468773",
            "method": "animate"
           },
           {
            "args": [
             [
              "1610468804"
             ],
             {
              "frame": {
               "duration": 0,
               "redraw": false
              },
              "fromcurrent": true,
              "mode": "immediate",
              "transition": {
               "duration": 0,
               "easing": "linear"
              }
             }
            ],
            "label": "1610468804",
            "method": "animate"
           },
           {
            "args": [
             [
              "1610468809"
             ],
             {
              "frame": {
               "duration": 0,
               "redraw": false
              },
              "fromcurrent": true,
              "mode": "immediate",
              "transition": {
               "duration": 0,
               "easing": "linear"
              }
             }
            ],
            "label": "1610468809",
            "method": "animate"
           },
           {
            "args": [
             [
              "1610468830"
             ],
             {
              "frame": {
               "duration": 0,
               "redraw": false
              },
              "fromcurrent": true,
              "mode": "immediate",
              "transition": {
               "duration": 0,
               "easing": "linear"
              }
             }
            ],
            "label": "1610468830",
            "method": "animate"
           },
           {
            "args": [
             [
              "1610468831"
             ],
             {
              "frame": {
               "duration": 0,
               "redraw": false
              },
              "fromcurrent": true,
              "mode": "immediate",
              "transition": {
               "duration": 0,
               "easing": "linear"
              }
             }
            ],
            "label": "1610468831",
            "method": "animate"
           },
           {
            "args": [
             [
              "1610468864"
             ],
             {
              "frame": {
               "duration": 0,
               "redraw": false
              },
              "fromcurrent": true,
              "mode": "immediate",
              "transition": {
               "duration": 0,
               "easing": "linear"
              }
             }
            ],
            "label": "1610468864",
            "method": "animate"
           },
           {
            "args": [
             [
              "1610468870"
             ],
             {
              "frame": {
               "duration": 0,
               "redraw": false
              },
              "fromcurrent": true,
              "mode": "immediate",
              "transition": {
               "duration": 0,
               "easing": "linear"
              }
             }
            ],
            "label": "1610468870",
            "method": "animate"
           },
           {
            "args": [
             [
              "1610468873"
             ],
             {
              "frame": {
               "duration": 0,
               "redraw": false
              },
              "fromcurrent": true,
              "mode": "immediate",
              "transition": {
               "duration": 0,
               "easing": "linear"
              }
             }
            ],
            "label": "1610468873",
            "method": "animate"
           },
           {
            "args": [
             [
              "1610468901"
             ],
             {
              "frame": {
               "duration": 0,
               "redraw": false
              },
              "fromcurrent": true,
              "mode": "immediate",
              "transition": {
               "duration": 0,
               "easing": "linear"
              }
             }
            ],
            "label": "1610468901",
            "method": "animate"
           },
           {
            "args": [
             [
              "1610468960"
             ],
             {
              "frame": {
               "duration": 0,
               "redraw": false
              },
              "fromcurrent": true,
              "mode": "immediate",
              "transition": {
               "duration": 0,
               "easing": "linear"
              }
             }
            ],
            "label": "1610468960",
            "method": "animate"
           },
           {
            "args": [
             [
              "1610468991"
             ],
             {
              "frame": {
               "duration": 0,
               "redraw": false
              },
              "fromcurrent": true,
              "mode": "immediate",
              "transition": {
               "duration": 0,
               "easing": "linear"
              }
             }
            ],
            "label": "1610468991",
            "method": "animate"
           },
           {
            "args": [
             [
              "1610469012"
             ],
             {
              "frame": {
               "duration": 0,
               "redraw": false
              },
              "fromcurrent": true,
              "mode": "immediate",
              "transition": {
               "duration": 0,
               "easing": "linear"
              }
             }
            ],
            "label": "1610469012",
            "method": "animate"
           },
           {
            "args": [
             [
              "1610469056"
             ],
             {
              "frame": {
               "duration": 0,
               "redraw": false
              },
              "fromcurrent": true,
              "mode": "immediate",
              "transition": {
               "duration": 0,
               "easing": "linear"
              }
             }
            ],
            "label": "1610469056",
            "method": "animate"
           },
           {
            "args": [
             [
              "1610469104"
             ],
             {
              "frame": {
               "duration": 0,
               "redraw": false
              },
              "fromcurrent": true,
              "mode": "immediate",
              "transition": {
               "duration": 0,
               "easing": "linear"
              }
             }
            ],
            "label": "1610469104",
            "method": "animate"
           },
           {
            "args": [
             [
              "1610469106"
             ],
             {
              "frame": {
               "duration": 0,
               "redraw": false
              },
              "fromcurrent": true,
              "mode": "immediate",
              "transition": {
               "duration": 0,
               "easing": "linear"
              }
             }
            ],
            "label": "1610469106",
            "method": "animate"
           },
           {
            "args": [
             [
              "1610469136"
             ],
             {
              "frame": {
               "duration": 0,
               "redraw": false
              },
              "fromcurrent": true,
              "mode": "immediate",
              "transition": {
               "duration": 0,
               "easing": "linear"
              }
             }
            ],
            "label": "1610469136",
            "method": "animate"
           },
           {
            "args": [
             [
              "1610469173"
             ],
             {
              "frame": {
               "duration": 0,
               "redraw": false
              },
              "fromcurrent": true,
              "mode": "immediate",
              "transition": {
               "duration": 0,
               "easing": "linear"
              }
             }
            ],
            "label": "1610469173",
            "method": "animate"
           },
           {
            "args": [
             [
              "1610469203"
             ],
             {
              "frame": {
               "duration": 0,
               "redraw": false
              },
              "fromcurrent": true,
              "mode": "immediate",
              "transition": {
               "duration": 0,
               "easing": "linear"
              }
             }
            ],
            "label": "1610469203",
            "method": "animate"
           },
           {
            "args": [
             [
              "1610469231"
             ],
             {
              "frame": {
               "duration": 0,
               "redraw": false
              },
              "fromcurrent": true,
              "mode": "immediate",
              "transition": {
               "duration": 0,
               "easing": "linear"
              }
             }
            ],
            "label": "1610469231",
            "method": "animate"
           },
           {
            "args": [
             [
              "1610469249"
             ],
             {
              "frame": {
               "duration": 0,
               "redraw": false
              },
              "fromcurrent": true,
              "mode": "immediate",
              "transition": {
               "duration": 0,
               "easing": "linear"
              }
             }
            ],
            "label": "1610469249",
            "method": "animate"
           },
           {
            "args": [
             [
              "1610469326"
             ],
             {
              "frame": {
               "duration": 0,
               "redraw": false
              },
              "fromcurrent": true,
              "mode": "immediate",
              "transition": {
               "duration": 0,
               "easing": "linear"
              }
             }
            ],
            "label": "1610469326",
            "method": "animate"
           },
           {
            "args": [
             [
              "1610469338"
             ],
             {
              "frame": {
               "duration": 0,
               "redraw": false
              },
              "fromcurrent": true,
              "mode": "immediate",
              "transition": {
               "duration": 0,
               "easing": "linear"
              }
             }
            ],
            "label": "1610469338",
            "method": "animate"
           },
           {
            "args": [
             [
              "1610469383"
             ],
             {
              "frame": {
               "duration": 0,
               "redraw": false
              },
              "fromcurrent": true,
              "mode": "immediate",
              "transition": {
               "duration": 0,
               "easing": "linear"
              }
             }
            ],
            "label": "1610469383",
            "method": "animate"
           },
           {
            "args": [
             [
              "1610469385"
             ],
             {
              "frame": {
               "duration": 0,
               "redraw": false
              },
              "fromcurrent": true,
              "mode": "immediate",
              "transition": {
               "duration": 0,
               "easing": "linear"
              }
             }
            ],
            "label": "1610469385",
            "method": "animate"
           },
           {
            "args": [
             [
              "1610469393"
             ],
             {
              "frame": {
               "duration": 0,
               "redraw": false
              },
              "fromcurrent": true,
              "mode": "immediate",
              "transition": {
               "duration": 0,
               "easing": "linear"
              }
             }
            ],
            "label": "1610469393",
            "method": "animate"
           },
           {
            "args": [
             [
              "1610469397"
             ],
             {
              "frame": {
               "duration": 0,
               "redraw": false
              },
              "fromcurrent": true,
              "mode": "immediate",
              "transition": {
               "duration": 0,
               "easing": "linear"
              }
             }
            ],
            "label": "1610469397",
            "method": "animate"
           },
           {
            "args": [
             [
              "1610469398"
             ],
             {
              "frame": {
               "duration": 0,
               "redraw": false
              },
              "fromcurrent": true,
              "mode": "immediate",
              "transition": {
               "duration": 0,
               "easing": "linear"
              }
             }
            ],
            "label": "1610469398",
            "method": "animate"
           },
           {
            "args": [
             [
              "1610469411"
             ],
             {
              "frame": {
               "duration": 0,
               "redraw": false
              },
              "fromcurrent": true,
              "mode": "immediate",
              "transition": {
               "duration": 0,
               "easing": "linear"
              }
             }
            ],
            "label": "1610469411",
            "method": "animate"
           },
           {
            "args": [
             [
              "1610469429"
             ],
             {
              "frame": {
               "duration": 0,
               "redraw": false
              },
              "fromcurrent": true,
              "mode": "immediate",
              "transition": {
               "duration": 0,
               "easing": "linear"
              }
             }
            ],
            "label": "1610469429",
            "method": "animate"
           },
           {
            "args": [
             [
              "1610469473"
             ],
             {
              "frame": {
               "duration": 0,
               "redraw": false
              },
              "fromcurrent": true,
              "mode": "immediate",
              "transition": {
               "duration": 0,
               "easing": "linear"
              }
             }
            ],
            "label": "1610469473",
            "method": "animate"
           },
           {
            "args": [
             [
              "1610469481"
             ],
             {
              "frame": {
               "duration": 0,
               "redraw": false
              },
              "fromcurrent": true,
              "mode": "immediate",
              "transition": {
               "duration": 0,
               "easing": "linear"
              }
             }
            ],
            "label": "1610469481",
            "method": "animate"
           },
           {
            "args": [
             [
              "1610469519"
             ],
             {
              "frame": {
               "duration": 0,
               "redraw": false
              },
              "fromcurrent": true,
              "mode": "immediate",
              "transition": {
               "duration": 0,
               "easing": "linear"
              }
             }
            ],
            "label": "1610469519",
            "method": "animate"
           },
           {
            "args": [
             [
              "1610469531"
             ],
             {
              "frame": {
               "duration": 0,
               "redraw": false
              },
              "fromcurrent": true,
              "mode": "immediate",
              "transition": {
               "duration": 0,
               "easing": "linear"
              }
             }
            ],
            "label": "1610469531",
            "method": "animate"
           },
           {
            "args": [
             [
              "1610469536"
             ],
             {
              "frame": {
               "duration": 0,
               "redraw": false
              },
              "fromcurrent": true,
              "mode": "immediate",
              "transition": {
               "duration": 0,
               "easing": "linear"
              }
             }
            ],
            "label": "1610469536",
            "method": "animate"
           },
           {
            "args": [
             [
              "1610469563"
             ],
             {
              "frame": {
               "duration": 0,
               "redraw": false
              },
              "fromcurrent": true,
              "mode": "immediate",
              "transition": {
               "duration": 0,
               "easing": "linear"
              }
             }
            ],
            "label": "1610469563",
            "method": "animate"
           },
           {
            "args": [
             [
              "1610469590"
             ],
             {
              "frame": {
               "duration": 0,
               "redraw": false
              },
              "fromcurrent": true,
              "mode": "immediate",
              "transition": {
               "duration": 0,
               "easing": "linear"
              }
             }
            ],
            "label": "1610469590",
            "method": "animate"
           },
           {
            "args": [
             [
              "1610469599"
             ],
             {
              "frame": {
               "duration": 0,
               "redraw": false
              },
              "fromcurrent": true,
              "mode": "immediate",
              "transition": {
               "duration": 0,
               "easing": "linear"
              }
             }
            ],
            "label": "1610469599",
            "method": "animate"
           },
           {
            "args": [
             [
              "1610469608"
             ],
             {
              "frame": {
               "duration": 0,
               "redraw": false
              },
              "fromcurrent": true,
              "mode": "immediate",
              "transition": {
               "duration": 0,
               "easing": "linear"
              }
             }
            ],
            "label": "1610469608",
            "method": "animate"
           },
           {
            "args": [
             [
              "1610469634"
             ],
             {
              "frame": {
               "duration": 0,
               "redraw": false
              },
              "fromcurrent": true,
              "mode": "immediate",
              "transition": {
               "duration": 0,
               "easing": "linear"
              }
             }
            ],
            "label": "1610469634",
            "method": "animate"
           },
           {
            "args": [
             [
              "1610469653"
             ],
             {
              "frame": {
               "duration": 0,
               "redraw": false
              },
              "fromcurrent": true,
              "mode": "immediate",
              "transition": {
               "duration": 0,
               "easing": "linear"
              }
             }
            ],
            "label": "1610469653",
            "method": "animate"
           },
           {
            "args": [
             [
              "1610469658"
             ],
             {
              "frame": {
               "duration": 0,
               "redraw": false
              },
              "fromcurrent": true,
              "mode": "immediate",
              "transition": {
               "duration": 0,
               "easing": "linear"
              }
             }
            ],
            "label": "1610469658",
            "method": "animate"
           },
           {
            "args": [
             [
              "1610469667"
             ],
             {
              "frame": {
               "duration": 0,
               "redraw": false
              },
              "fromcurrent": true,
              "mode": "immediate",
              "transition": {
               "duration": 0,
               "easing": "linear"
              }
             }
            ],
            "label": "1610469667",
            "method": "animate"
           },
           {
            "args": [
             [
              "1610469676"
             ],
             {
              "frame": {
               "duration": 0,
               "redraw": false
              },
              "fromcurrent": true,
              "mode": "immediate",
              "transition": {
               "duration": 0,
               "easing": "linear"
              }
             }
            ],
            "label": "1610469676",
            "method": "animate"
           },
           {
            "args": [
             [
              "1610469698"
             ],
             {
              "frame": {
               "duration": 0,
               "redraw": false
              },
              "fromcurrent": true,
              "mode": "immediate",
              "transition": {
               "duration": 0,
               "easing": "linear"
              }
             }
            ],
            "label": "1610469698",
            "method": "animate"
           },
           {
            "args": [
             [
              "1610469707"
             ],
             {
              "frame": {
               "duration": 0,
               "redraw": false
              },
              "fromcurrent": true,
              "mode": "immediate",
              "transition": {
               "duration": 0,
               "easing": "linear"
              }
             }
            ],
            "label": "1610469707",
            "method": "animate"
           },
           {
            "args": [
             [
              "1610469708"
             ],
             {
              "frame": {
               "duration": 0,
               "redraw": false
              },
              "fromcurrent": true,
              "mode": "immediate",
              "transition": {
               "duration": 0,
               "easing": "linear"
              }
             }
            ],
            "label": "1610469708",
            "method": "animate"
           },
           {
            "args": [
             [
              "1610469710"
             ],
             {
              "frame": {
               "duration": 0,
               "redraw": false
              },
              "fromcurrent": true,
              "mode": "immediate",
              "transition": {
               "duration": 0,
               "easing": "linear"
              }
             }
            ],
            "label": "1610469710",
            "method": "animate"
           },
           {
            "args": [
             [
              "1610469736"
             ],
             {
              "frame": {
               "duration": 0,
               "redraw": false
              },
              "fromcurrent": true,
              "mode": "immediate",
              "transition": {
               "duration": 0,
               "easing": "linear"
              }
             }
            ],
            "label": "1610469736",
            "method": "animate"
           },
           {
            "args": [
             [
              "1610469743"
             ],
             {
              "frame": {
               "duration": 0,
               "redraw": false
              },
              "fromcurrent": true,
              "mode": "immediate",
              "transition": {
               "duration": 0,
               "easing": "linear"
              }
             }
            ],
            "label": "1610469743",
            "method": "animate"
           },
           {
            "args": [
             [
              "1610469765"
             ],
             {
              "frame": {
               "duration": 0,
               "redraw": false
              },
              "fromcurrent": true,
              "mode": "immediate",
              "transition": {
               "duration": 0,
               "easing": "linear"
              }
             }
            ],
            "label": "1610469765",
            "method": "animate"
           },
           {
            "args": [
             [
              "1610469772"
             ],
             {
              "frame": {
               "duration": 0,
               "redraw": false
              },
              "fromcurrent": true,
              "mode": "immediate",
              "transition": {
               "duration": 0,
               "easing": "linear"
              }
             }
            ],
            "label": "1610469772",
            "method": "animate"
           },
           {
            "args": [
             [
              "1610469796"
             ],
             {
              "frame": {
               "duration": 0,
               "redraw": false
              },
              "fromcurrent": true,
              "mode": "immediate",
              "transition": {
               "duration": 0,
               "easing": "linear"
              }
             }
            ],
            "label": "1610469796",
            "method": "animate"
           },
           {
            "args": [
             [
              "1610469811"
             ],
             {
              "frame": {
               "duration": 0,
               "redraw": false
              },
              "fromcurrent": true,
              "mode": "immediate",
              "transition": {
               "duration": 0,
               "easing": "linear"
              }
             }
            ],
            "label": "1610469811",
            "method": "animate"
           },
           {
            "args": [
             [
              "1610469860"
             ],
             {
              "frame": {
               "duration": 0,
               "redraw": false
              },
              "fromcurrent": true,
              "mode": "immediate",
              "transition": {
               "duration": 0,
               "easing": "linear"
              }
             }
            ],
            "label": "1610469860",
            "method": "animate"
           },
           {
            "args": [
             [
              "1610469865"
             ],
             {
              "frame": {
               "duration": 0,
               "redraw": false
              },
              "fromcurrent": true,
              "mode": "immediate",
              "transition": {
               "duration": 0,
               "easing": "linear"
              }
             }
            ],
            "label": "1610469865",
            "method": "animate"
           },
           {
            "args": [
             [
              "1610469886"
             ],
             {
              "frame": {
               "duration": 0,
               "redraw": false
              },
              "fromcurrent": true,
              "mode": "immediate",
              "transition": {
               "duration": 0,
               "easing": "linear"
              }
             }
            ],
            "label": "1610469886",
            "method": "animate"
           },
           {
            "args": [
             [
              "1610469895"
             ],
             {
              "frame": {
               "duration": 0,
               "redraw": false
              },
              "fromcurrent": true,
              "mode": "immediate",
              "transition": {
               "duration": 0,
               "easing": "linear"
              }
             }
            ],
            "label": "1610469895",
            "method": "animate"
           },
           {
            "args": [
             [
              "1610469908"
             ],
             {
              "frame": {
               "duration": 0,
               "redraw": false
              },
              "fromcurrent": true,
              "mode": "immediate",
              "transition": {
               "duration": 0,
               "easing": "linear"
              }
             }
            ],
            "label": "1610469908",
            "method": "animate"
           },
           {
            "args": [
             [
              "1610469945"
             ],
             {
              "frame": {
               "duration": 0,
               "redraw": false
              },
              "fromcurrent": true,
              "mode": "immediate",
              "transition": {
               "duration": 0,
               "easing": "linear"
              }
             }
            ],
            "label": "1610469945",
            "method": "animate"
           },
           {
            "args": [
             [
              "1610469951"
             ],
             {
              "frame": {
               "duration": 0,
               "redraw": false
              },
              "fromcurrent": true,
              "mode": "immediate",
              "transition": {
               "duration": 0,
               "easing": "linear"
              }
             }
            ],
            "label": "1610469951",
            "method": "animate"
           },
           {
            "args": [
             [
              "1610469976"
             ],
             {
              "frame": {
               "duration": 0,
               "redraw": false
              },
              "fromcurrent": true,
              "mode": "immediate",
              "transition": {
               "duration": 0,
               "easing": "linear"
              }
             }
            ],
            "label": "1610469976",
            "method": "animate"
           },
           {
            "args": [
             [
              "1610469988"
             ],
             {
              "frame": {
               "duration": 0,
               "redraw": false
              },
              "fromcurrent": true,
              "mode": "immediate",
              "transition": {
               "duration": 0,
               "easing": "linear"
              }
             }
            ],
            "label": "1610469988",
            "method": "animate"
           },
           {
            "args": [
             [
              "1610470012"
             ],
             {
              "frame": {
               "duration": 0,
               "redraw": false
              },
              "fromcurrent": true,
              "mode": "immediate",
              "transition": {
               "duration": 0,
               "easing": "linear"
              }
             }
            ],
            "label": "1610470012",
            "method": "animate"
           },
           {
            "args": [
             [
              "1610470013"
             ],
             {
              "frame": {
               "duration": 0,
               "redraw": false
              },
              "fromcurrent": true,
              "mode": "immediate",
              "transition": {
               "duration": 0,
               "easing": "linear"
              }
             }
            ],
            "label": "1610470013",
            "method": "animate"
           },
           {
            "args": [
             [
              "1610470066"
             ],
             {
              "frame": {
               "duration": 0,
               "redraw": false
              },
              "fromcurrent": true,
              "mode": "immediate",
              "transition": {
               "duration": 0,
               "easing": "linear"
              }
             }
            ],
            "label": "1610470066",
            "method": "animate"
           },
           {
            "args": [
             [
              "1610470071"
             ],
             {
              "frame": {
               "duration": 0,
               "redraw": false
              },
              "fromcurrent": true,
              "mode": "immediate",
              "transition": {
               "duration": 0,
               "easing": "linear"
              }
             }
            ],
            "label": "1610470071",
            "method": "animate"
           },
           {
            "args": [
             [
              "1610470119"
             ],
             {
              "frame": {
               "duration": 0,
               "redraw": false
              },
              "fromcurrent": true,
              "mode": "immediate",
              "transition": {
               "duration": 0,
               "easing": "linear"
              }
             }
            ],
            "label": "1610470119",
            "method": "animate"
           },
           {
            "args": [
             [
              "1610470136"
             ],
             {
              "frame": {
               "duration": 0,
               "redraw": false
              },
              "fromcurrent": true,
              "mode": "immediate",
              "transition": {
               "duration": 0,
               "easing": "linear"
              }
             }
            ],
            "label": "1610470136",
            "method": "animate"
           },
           {
            "args": [
             [
              "1610470193"
             ],
             {
              "frame": {
               "duration": 0,
               "redraw": false
              },
              "fromcurrent": true,
              "mode": "immediate",
              "transition": {
               "duration": 0,
               "easing": "linear"
              }
             }
            ],
            "label": "1610470193",
            "method": "animate"
           },
           {
            "args": [
             [
              "1610470196"
             ],
             {
              "frame": {
               "duration": 0,
               "redraw": false
              },
              "fromcurrent": true,
              "mode": "immediate",
              "transition": {
               "duration": 0,
               "easing": "linear"
              }
             }
            ],
            "label": "1610470196",
            "method": "animate"
           },
           {
            "args": [
             [
              "1610470221"
             ],
             {
              "frame": {
               "duration": 0,
               "redraw": false
              },
              "fromcurrent": true,
              "mode": "immediate",
              "transition": {
               "duration": 0,
               "easing": "linear"
              }
             }
            ],
            "label": "1610470221",
            "method": "animate"
           },
           {
            "args": [
             [
              "1610470226"
             ],
             {
              "frame": {
               "duration": 0,
               "redraw": false
              },
              "fromcurrent": true,
              "mode": "immediate",
              "transition": {
               "duration": 0,
               "easing": "linear"
              }
             }
            ],
            "label": "1610470226",
            "method": "animate"
           },
           {
            "args": [
             [
              "1610470234"
             ],
             {
              "frame": {
               "duration": 0,
               "redraw": false
              },
              "fromcurrent": true,
              "mode": "immediate",
              "transition": {
               "duration": 0,
               "easing": "linear"
              }
             }
            ],
            "label": "1610470234",
            "method": "animate"
           },
           {
            "args": [
             [
              "1610470255"
             ],
             {
              "frame": {
               "duration": 0,
               "redraw": false
              },
              "fromcurrent": true,
              "mode": "immediate",
              "transition": {
               "duration": 0,
               "easing": "linear"
              }
             }
            ],
            "label": "1610470255",
            "method": "animate"
           },
           {
            "args": [
             [
              "1610470284"
             ],
             {
              "frame": {
               "duration": 0,
               "redraw": false
              },
              "fromcurrent": true,
              "mode": "immediate",
              "transition": {
               "duration": 0,
               "easing": "linear"
              }
             }
            ],
            "label": "1610470284",
            "method": "animate"
           },
           {
            "args": [
             [
              "1610470310"
             ],
             {
              "frame": {
               "duration": 0,
               "redraw": false
              },
              "fromcurrent": true,
              "mode": "immediate",
              "transition": {
               "duration": 0,
               "easing": "linear"
              }
             }
            ],
            "label": "1610470310",
            "method": "animate"
           },
           {
            "args": [
             [
              "1610470311"
             ],
             {
              "frame": {
               "duration": 0,
               "redraw": false
              },
              "fromcurrent": true,
              "mode": "immediate",
              "transition": {
               "duration": 0,
               "easing": "linear"
              }
             }
            ],
            "label": "1610470311",
            "method": "animate"
           },
           {
            "args": [
             [
              "1610470336"
             ],
             {
              "frame": {
               "duration": 0,
               "redraw": false
              },
              "fromcurrent": true,
              "mode": "immediate",
              "transition": {
               "duration": 0,
               "easing": "linear"
              }
             }
            ],
            "label": "1610470336",
            "method": "animate"
           },
           {
            "args": [
             [
              "1610470370"
             ],
             {
              "frame": {
               "duration": 0,
               "redraw": false
              },
              "fromcurrent": true,
              "mode": "immediate",
              "transition": {
               "duration": 0,
               "easing": "linear"
              }
             }
            ],
            "label": "1610470370",
            "method": "animate"
           },
           {
            "args": [
             [
              "1610470373"
             ],
             {
              "frame": {
               "duration": 0,
               "redraw": false
              },
              "fromcurrent": true,
              "mode": "immediate",
              "transition": {
               "duration": 0,
               "easing": "linear"
              }
             }
            ],
            "label": "1610470373",
            "method": "animate"
           },
           {
            "args": [
             [
              "1610470389"
             ],
             {
              "frame": {
               "duration": 0,
               "redraw": false
              },
              "fromcurrent": true,
              "mode": "immediate",
              "transition": {
               "duration": 0,
               "easing": "linear"
              }
             }
            ],
            "label": "1610470389",
            "method": "animate"
           },
           {
            "args": [
             [
              "1610470390"
             ],
             {
              "frame": {
               "duration": 0,
               "redraw": false
              },
              "fromcurrent": true,
              "mode": "immediate",
              "transition": {
               "duration": 0,
               "easing": "linear"
              }
             }
            ],
            "label": "1610470390",
            "method": "animate"
           },
           {
            "args": [
             [
              "1610470391"
             ],
             {
              "frame": {
               "duration": 0,
               "redraw": false
              },
              "fromcurrent": true,
              "mode": "immediate",
              "transition": {
               "duration": 0,
               "easing": "linear"
              }
             }
            ],
            "label": "1610470391",
            "method": "animate"
           },
           {
            "args": [
             [
              "1610470431"
             ],
             {
              "frame": {
               "duration": 0,
               "redraw": false
              },
              "fromcurrent": true,
              "mode": "immediate",
              "transition": {
               "duration": 0,
               "easing": "linear"
              }
             }
            ],
            "label": "1610470431",
            "method": "animate"
           },
           {
            "args": [
             [
              "1610470432"
             ],
             {
              "frame": {
               "duration": 0,
               "redraw": false
              },
              "fromcurrent": true,
              "mode": "immediate",
              "transition": {
               "duration": 0,
               "easing": "linear"
              }
             }
            ],
            "label": "1610470432",
            "method": "animate"
           },
           {
            "args": [
             [
              "1610470434"
             ],
             {
              "frame": {
               "duration": 0,
               "redraw": false
              },
              "fromcurrent": true,
              "mode": "immediate",
              "transition": {
               "duration": 0,
               "easing": "linear"
              }
             }
            ],
            "label": "1610470434",
            "method": "animate"
           },
           {
            "args": [
             [
              "1610470449"
             ],
             {
              "frame": {
               "duration": 0,
               "redraw": false
              },
              "fromcurrent": true,
              "mode": "immediate",
              "transition": {
               "duration": 0,
               "easing": "linear"
              }
             }
            ],
            "label": "1610470449",
            "method": "animate"
           },
           {
            "args": [
             [
              "1610470451"
             ],
             {
              "frame": {
               "duration": 0,
               "redraw": false
              },
              "fromcurrent": true,
              "mode": "immediate",
              "transition": {
               "duration": 0,
               "easing": "linear"
              }
             }
            ],
            "label": "1610470451",
            "method": "animate"
           },
           {
            "args": [
             [
              "1610470463"
             ],
             {
              "frame": {
               "duration": 0,
               "redraw": false
              },
              "fromcurrent": true,
              "mode": "immediate",
              "transition": {
               "duration": 0,
               "easing": "linear"
              }
             }
            ],
            "label": "1610470463",
            "method": "animate"
           },
           {
            "args": [
             [
              "1610470487"
             ],
             {
              "frame": {
               "duration": 0,
               "redraw": false
              },
              "fromcurrent": true,
              "mode": "immediate",
              "transition": {
               "duration": 0,
               "easing": "linear"
              }
             }
            ],
            "label": "1610470487",
            "method": "animate"
           },
           {
            "args": [
             [
              "1610470504"
             ],
             {
              "frame": {
               "duration": 0,
               "redraw": false
              },
              "fromcurrent": true,
              "mode": "immediate",
              "transition": {
               "duration": 0,
               "easing": "linear"
              }
             }
            ],
            "label": "1610470504",
            "method": "animate"
           },
           {
            "args": [
             [
              "1610470508"
             ],
             {
              "frame": {
               "duration": 0,
               "redraw": false
              },
              "fromcurrent": true,
              "mode": "immediate",
              "transition": {
               "duration": 0,
               "easing": "linear"
              }
             }
            ],
            "label": "1610470508",
            "method": "animate"
           },
           {
            "args": [
             [
              "1610470509"
             ],
             {
              "frame": {
               "duration": 0,
               "redraw": false
              },
              "fromcurrent": true,
              "mode": "immediate",
              "transition": {
               "duration": 0,
               "easing": "linear"
              }
             }
            ],
            "label": "1610470509",
            "method": "animate"
           },
           {
            "args": [
             [
              "1610470510"
             ],
             {
              "frame": {
               "duration": 0,
               "redraw": false
              },
              "fromcurrent": true,
              "mode": "immediate",
              "transition": {
               "duration": 0,
               "easing": "linear"
              }
             }
            ],
            "label": "1610470510",
            "method": "animate"
           }
          ],
          "x": 0.1,
          "xanchor": "left",
          "y": 0,
          "yanchor": "top"
         }
        ],
        "template": {
         "data": {
          "bar": [
           {
            "error_x": {
             "color": "#2a3f5f"
            },
            "error_y": {
             "color": "#2a3f5f"
            },
            "marker": {
             "line": {
              "color": "#E5ECF6",
              "width": 0.5
             },
             "pattern": {
              "fillmode": "overlay",
              "size": 10,
              "solidity": 0.2
             }
            },
            "type": "bar"
           }
          ],
          "barpolar": [
           {
            "marker": {
             "line": {
              "color": "#E5ECF6",
              "width": 0.5
             },
             "pattern": {
              "fillmode": "overlay",
              "size": 10,
              "solidity": 0.2
             }
            },
            "type": "barpolar"
           }
          ],
          "carpet": [
           {
            "aaxis": {
             "endlinecolor": "#2a3f5f",
             "gridcolor": "white",
             "linecolor": "white",
             "minorgridcolor": "white",
             "startlinecolor": "#2a3f5f"
            },
            "baxis": {
             "endlinecolor": "#2a3f5f",
             "gridcolor": "white",
             "linecolor": "white",
             "minorgridcolor": "white",
             "startlinecolor": "#2a3f5f"
            },
            "type": "carpet"
           }
          ],
          "choropleth": [
           {
            "colorbar": {
             "outlinewidth": 0,
             "ticks": ""
            },
            "type": "choropleth"
           }
          ],
          "contour": [
           {
            "colorbar": {
             "outlinewidth": 0,
             "ticks": ""
            },
            "colorscale": [
             [
              0,
              "#0d0887"
             ],
             [
              0.1111111111111111,
              "#46039f"
             ],
             [
              0.2222222222222222,
              "#7201a8"
             ],
             [
              0.3333333333333333,
              "#9c179e"
             ],
             [
              0.4444444444444444,
              "#bd3786"
             ],
             [
              0.5555555555555556,
              "#d8576b"
             ],
             [
              0.6666666666666666,
              "#ed7953"
             ],
             [
              0.7777777777777778,
              "#fb9f3a"
             ],
             [
              0.8888888888888888,
              "#fdca26"
             ],
             [
              1,
              "#f0f921"
             ]
            ],
            "type": "contour"
           }
          ],
          "contourcarpet": [
           {
            "colorbar": {
             "outlinewidth": 0,
             "ticks": ""
            },
            "type": "contourcarpet"
           }
          ],
          "heatmap": [
           {
            "colorbar": {
             "outlinewidth": 0,
             "ticks": ""
            },
            "colorscale": [
             [
              0,
              "#0d0887"
             ],
             [
              0.1111111111111111,
              "#46039f"
             ],
             [
              0.2222222222222222,
              "#7201a8"
             ],
             [
              0.3333333333333333,
              "#9c179e"
             ],
             [
              0.4444444444444444,
              "#bd3786"
             ],
             [
              0.5555555555555556,
              "#d8576b"
             ],
             [
              0.6666666666666666,
              "#ed7953"
             ],
             [
              0.7777777777777778,
              "#fb9f3a"
             ],
             [
              0.8888888888888888,
              "#fdca26"
             ],
             [
              1,
              "#f0f921"
             ]
            ],
            "type": "heatmap"
           }
          ],
          "heatmapgl": [
           {
            "colorbar": {
             "outlinewidth": 0,
             "ticks": ""
            },
            "colorscale": [
             [
              0,
              "#0d0887"
             ],
             [
              0.1111111111111111,
              "#46039f"
             ],
             [
              0.2222222222222222,
              "#7201a8"
             ],
             [
              0.3333333333333333,
              "#9c179e"
             ],
             [
              0.4444444444444444,
              "#bd3786"
             ],
             [
              0.5555555555555556,
              "#d8576b"
             ],
             [
              0.6666666666666666,
              "#ed7953"
             ],
             [
              0.7777777777777778,
              "#fb9f3a"
             ],
             [
              0.8888888888888888,
              "#fdca26"
             ],
             [
              1,
              "#f0f921"
             ]
            ],
            "type": "heatmapgl"
           }
          ],
          "histogram": [
           {
            "marker": {
             "pattern": {
              "fillmode": "overlay",
              "size": 10,
              "solidity": 0.2
             }
            },
            "type": "histogram"
           }
          ],
          "histogram2d": [
           {
            "colorbar": {
             "outlinewidth": 0,
             "ticks": ""
            },
            "colorscale": [
             [
              0,
              "#0d0887"
             ],
             [
              0.1111111111111111,
              "#46039f"
             ],
             [
              0.2222222222222222,
              "#7201a8"
             ],
             [
              0.3333333333333333,
              "#9c179e"
             ],
             [
              0.4444444444444444,
              "#bd3786"
             ],
             [
              0.5555555555555556,
              "#d8576b"
             ],
             [
              0.6666666666666666,
              "#ed7953"
             ],
             [
              0.7777777777777778,
              "#fb9f3a"
             ],
             [
              0.8888888888888888,
              "#fdca26"
             ],
             [
              1,
              "#f0f921"
             ]
            ],
            "type": "histogram2d"
           }
          ],
          "histogram2dcontour": [
           {
            "colorbar": {
             "outlinewidth": 0,
             "ticks": ""
            },
            "colorscale": [
             [
              0,
              "#0d0887"
             ],
             [
              0.1111111111111111,
              "#46039f"
             ],
             [
              0.2222222222222222,
              "#7201a8"
             ],
             [
              0.3333333333333333,
              "#9c179e"
             ],
             [
              0.4444444444444444,
              "#bd3786"
             ],
             [
              0.5555555555555556,
              "#d8576b"
             ],
             [
              0.6666666666666666,
              "#ed7953"
             ],
             [
              0.7777777777777778,
              "#fb9f3a"
             ],
             [
              0.8888888888888888,
              "#fdca26"
             ],
             [
              1,
              "#f0f921"
             ]
            ],
            "type": "histogram2dcontour"
           }
          ],
          "mesh3d": [
           {
            "colorbar": {
             "outlinewidth": 0,
             "ticks": ""
            },
            "type": "mesh3d"
           }
          ],
          "parcoords": [
           {
            "line": {
             "colorbar": {
              "outlinewidth": 0,
              "ticks": ""
             }
            },
            "type": "parcoords"
           }
          ],
          "pie": [
           {
            "automargin": true,
            "type": "pie"
           }
          ],
          "scatter": [
           {
            "fillpattern": {
             "fillmode": "overlay",
             "size": 10,
             "solidity": 0.2
            },
            "type": "scatter"
           }
          ],
          "scatter3d": [
           {
            "line": {
             "colorbar": {
              "outlinewidth": 0,
              "ticks": ""
             }
            },
            "marker": {
             "colorbar": {
              "outlinewidth": 0,
              "ticks": ""
             }
            },
            "type": "scatter3d"
           }
          ],
          "scattercarpet": [
           {
            "marker": {
             "colorbar": {
              "outlinewidth": 0,
              "ticks": ""
             }
            },
            "type": "scattercarpet"
           }
          ],
          "scattergeo": [
           {
            "marker": {
             "colorbar": {
              "outlinewidth": 0,
              "ticks": ""
             }
            },
            "type": "scattergeo"
           }
          ],
          "scattergl": [
           {
            "marker": {
             "colorbar": {
              "outlinewidth": 0,
              "ticks": ""
             }
            },
            "type": "scattergl"
           }
          ],
          "scattermapbox": [
           {
            "marker": {
             "colorbar": {
              "outlinewidth": 0,
              "ticks": ""
             }
            },
            "type": "scattermapbox"
           }
          ],
          "scatterpolar": [
           {
            "marker": {
             "colorbar": {
              "outlinewidth": 0,
              "ticks": ""
             }
            },
            "type": "scatterpolar"
           }
          ],
          "scatterpolargl": [
           {
            "marker": {
             "colorbar": {
              "outlinewidth": 0,
              "ticks": ""
             }
            },
            "type": "scatterpolargl"
           }
          ],
          "scatterternary": [
           {
            "marker": {
             "colorbar": {
              "outlinewidth": 0,
              "ticks": ""
             }
            },
            "type": "scatterternary"
           }
          ],
          "surface": [
           {
            "colorbar": {
             "outlinewidth": 0,
             "ticks": ""
            },
            "colorscale": [
             [
              0,
              "#0d0887"
             ],
             [
              0.1111111111111111,
              "#46039f"
             ],
             [
              0.2222222222222222,
              "#7201a8"
             ],
             [
              0.3333333333333333,
              "#9c179e"
             ],
             [
              0.4444444444444444,
              "#bd3786"
             ],
             [
              0.5555555555555556,
              "#d8576b"
             ],
             [
              0.6666666666666666,
              "#ed7953"
             ],
             [
              0.7777777777777778,
              "#fb9f3a"
             ],
             [
              0.8888888888888888,
              "#fdca26"
             ],
             [
              1,
              "#f0f921"
             ]
            ],
            "type": "surface"
           }
          ],
          "table": [
           {
            "cells": {
             "fill": {
              "color": "#EBF0F8"
             },
             "line": {
              "color": "white"
             }
            },
            "header": {
             "fill": {
              "color": "#C8D4E3"
             },
             "line": {
              "color": "white"
             }
            },
            "type": "table"
           }
          ]
         },
         "layout": {
          "annotationdefaults": {
           "arrowcolor": "#2a3f5f",
           "arrowhead": 0,
           "arrowwidth": 1
          },
          "autotypenumbers": "strict",
          "coloraxis": {
           "colorbar": {
            "outlinewidth": 0,
            "ticks": ""
           }
          },
          "colorscale": {
           "diverging": [
            [
             0,
             "#8e0152"
            ],
            [
             0.1,
             "#c51b7d"
            ],
            [
             0.2,
             "#de77ae"
            ],
            [
             0.3,
             "#f1b6da"
            ],
            [
             0.4,
             "#fde0ef"
            ],
            [
             0.5,
             "#f7f7f7"
            ],
            [
             0.6,
             "#e6f5d0"
            ],
            [
             0.7,
             "#b8e186"
            ],
            [
             0.8,
             "#7fbc41"
            ],
            [
             0.9,
             "#4d9221"
            ],
            [
             1,
             "#276419"
            ]
           ],
           "sequential": [
            [
             0,
             "#0d0887"
            ],
            [
             0.1111111111111111,
             "#46039f"
            ],
            [
             0.2222222222222222,
             "#7201a8"
            ],
            [
             0.3333333333333333,
             "#9c179e"
            ],
            [
             0.4444444444444444,
             "#bd3786"
            ],
            [
             0.5555555555555556,
             "#d8576b"
            ],
            [
             0.6666666666666666,
             "#ed7953"
            ],
            [
             0.7777777777777778,
             "#fb9f3a"
            ],
            [
             0.8888888888888888,
             "#fdca26"
            ],
            [
             1,
             "#f0f921"
            ]
           ],
           "sequentialminus": [
            [
             0,
             "#0d0887"
            ],
            [
             0.1111111111111111,
             "#46039f"
            ],
            [
             0.2222222222222222,
             "#7201a8"
            ],
            [
             0.3333333333333333,
             "#9c179e"
            ],
            [
             0.4444444444444444,
             "#bd3786"
            ],
            [
             0.5555555555555556,
             "#d8576b"
            ],
            [
             0.6666666666666666,
             "#ed7953"
            ],
            [
             0.7777777777777778,
             "#fb9f3a"
            ],
            [
             0.8888888888888888,
             "#fdca26"
            ],
            [
             1,
             "#f0f921"
            ]
           ]
          },
          "colorway": [
           "#636efa",
           "#EF553B",
           "#00cc96",
           "#ab63fa",
           "#FFA15A",
           "#19d3f3",
           "#FF6692",
           "#B6E880",
           "#FF97FF",
           "#FECB52"
          ],
          "font": {
           "color": "#2a3f5f"
          },
          "geo": {
           "bgcolor": "white",
           "lakecolor": "white",
           "landcolor": "#E5ECF6",
           "showlakes": true,
           "showland": true,
           "subunitcolor": "white"
          },
          "hoverlabel": {
           "align": "left"
          },
          "hovermode": "closest",
          "mapbox": {
           "style": "light"
          },
          "paper_bgcolor": "white",
          "plot_bgcolor": "#E5ECF6",
          "polar": {
           "angularaxis": {
            "gridcolor": "white",
            "linecolor": "white",
            "ticks": ""
           },
           "bgcolor": "#E5ECF6",
           "radialaxis": {
            "gridcolor": "white",
            "linecolor": "white",
            "ticks": ""
           }
          },
          "scene": {
           "xaxis": {
            "backgroundcolor": "#E5ECF6",
            "gridcolor": "white",
            "gridwidth": 2,
            "linecolor": "white",
            "showbackground": true,
            "ticks": "",
            "zerolinecolor": "white"
           },
           "yaxis": {
            "backgroundcolor": "#E5ECF6",
            "gridcolor": "white",
            "gridwidth": 2,
            "linecolor": "white",
            "showbackground": true,
            "ticks": "",
            "zerolinecolor": "white"
           },
           "zaxis": {
            "backgroundcolor": "#E5ECF6",
            "gridcolor": "white",
            "gridwidth": 2,
            "linecolor": "white",
            "showbackground": true,
            "ticks": "",
            "zerolinecolor": "white"
           }
          },
          "shapedefaults": {
           "line": {
            "color": "#2a3f5f"
           }
          },
          "ternary": {
           "aaxis": {
            "gridcolor": "white",
            "linecolor": "white",
            "ticks": ""
           },
           "baxis": {
            "gridcolor": "white",
            "linecolor": "white",
            "ticks": ""
           },
           "bgcolor": "#E5ECF6",
           "caxis": {
            "gridcolor": "white",
            "linecolor": "white",
            "ticks": ""
           }
          },
          "title": {
           "x": 0.05
          },
          "xaxis": {
           "automargin": true,
           "gridcolor": "white",
           "linecolor": "white",
           "ticks": "",
           "title": {
            "standoff": 15
           },
           "zerolinecolor": "white",
           "zerolinewidth": 2
          },
          "yaxis": {
           "automargin": true,
           "gridcolor": "white",
           "linecolor": "white",
           "ticks": "",
           "title": {
            "standoff": 15
           },
           "zerolinecolor": "white",
           "zerolinewidth": 2
          }
         }
        },
        "updatemenus": [
         {
          "buttons": [
           {
            "args": [
             null,
             {
              "frame": {
               "duration": 500,
               "redraw": false
              },
              "fromcurrent": true,
              "mode": "immediate",
              "transition": {
               "duration": 500,
               "easing": "linear"
              }
             }
            ],
            "label": "&#9654;",
            "method": "animate"
           },
           {
            "args": [
             [
              null
             ],
             {
              "frame": {
               "duration": 0,
               "redraw": false
              },
              "fromcurrent": true,
              "mode": "immediate",
              "transition": {
               "duration": 0,
               "easing": "linear"
              }
             }
            ],
            "label": "&#9724;",
            "method": "animate"
           }
          ],
          "direction": "left",
          "pad": {
           "r": 10,
           "t": 70
          },
          "showactive": false,
          "type": "buttons",
          "x": 0.1,
          "xanchor": "right",
          "y": 0,
          "yanchor": "top"
         }
        ],
        "xaxis": {
         "anchor": "y",
         "domain": [
          0,
          1
         ],
         "range": [
          -122.1433410645,
          -122.035446167
         ],
         "title": {
          "text": "lon"
         }
        },
        "yaxis": {
         "anchor": "x",
         "domain": [
          0,
          1
         ],
         "range": [
          47.6293258667,
          47.6716842651
         ],
         "title": {
          "text": "lat"
         }
        }
       }
      }
     },
     "metadata": {},
     "output_type": "display_data"
    }
   ],
   "source": [
    "# px.set_mapbox_access_token(os.getenv('MAPBOX_TOKEN'))\n",
    "fig = px.scatter(\n",
    "    plot_data.sort_values('locationtime'),\n",
    "    x=\"lon\",\n",
    "    y=\"lat\",\n",
    "    range_x=[np.min(plot_data['lon']), np.max(plot_data['lon'])],\n",
    "    range_y=[np.min(plot_data['lat']), np.max(plot_data['lat'])],\n",
    "    color=\"shingle_id\",\n",
    "    # symbol=\"Trip Type\",\n",
    "    animation_frame=\"locationtime\",\n",
    "    animation_group=\"shingle_id\"\n",
    ")\n",
    "fig.show()"
   ]
  },
  {
   "cell_type": "code",
   "execution_count": 7,
   "metadata": {},
   "outputs": [
    {
     "data": {
      "application/vnd.plotly.v1+json": {
       "config": {
        "plotlyServerURL": "https://plot.ly"
       },
       "data": [
        {
         "hovertemplate": "locationtime=1610466953<br>lat=%{lat}<br>lon=%{lon}<br>shingle_id=%{marker.color}<extra></extra>",
         "ids": [
          1
         ],
         "lat": [
          47.6293258667
         ],
         "legendgroup": "",
         "lon": [
          -122.0354537964
         ],
         "marker": {
          "color": [
           1
          ],
          "coloraxis": "coloraxis"
         },
         "mode": "markers",
         "name": "",
         "showlegend": false,
         "subplot": "mapbox",
         "type": "scattermapbox"
        }
       ],
       "frames": [
        {
         "data": [
          {
           "hovertemplate": "locationtime=1610466953<br>lat=%{lat}<br>lon=%{lon}<br>shingle_id=%{marker.color}<extra></extra>",
           "ids": [
            1
           ],
           "lat": [
            47.6293258667
           ],
           "legendgroup": "",
           "lon": [
            -122.0354537964
           ],
           "marker": {
            "color": [
             1
            ],
            "coloraxis": "coloraxis"
           },
           "mode": "markers",
           "name": "",
           "showlegend": false,
           "subplot": "mapbox",
           "type": "scattermapbox"
          }
         ],
         "name": "1610466953"
        },
        {
         "data": [
          {
           "hovertemplate": "locationtime=1610467010<br>lat=%{lat}<br>lon=%{lon}<br>shingle_id=%{marker.color}<extra></extra>",
           "ids": [
            1
           ],
           "lat": [
            47.6353149414
           ],
           "legendgroup": "",
           "lon": [
            -122.0388259888
           ],
           "marker": {
            "color": [
             1
            ],
            "coloraxis": "coloraxis"
           },
           "mode": "markers",
           "name": "",
           "showlegend": false,
           "subplot": "mapbox",
           "type": "scattermapbox"
          }
         ],
         "name": "1610467010"
        },
        {
         "data": [
          {
           "hovertemplate": "locationtime=1610467032<br>lat=%{lat}<br>lon=%{lon}<br>shingle_id=%{marker.color}<extra></extra>",
           "ids": [
            1
           ],
           "lat": [
            47.6363868713
           ],
           "legendgroup": "",
           "lon": [
            -122.0431442261
           ],
           "marker": {
            "color": [
             1
            ],
            "coloraxis": "coloraxis"
           },
           "mode": "markers",
           "name": "",
           "showlegend": false,
           "subplot": "mapbox",
           "type": "scattermapbox"
          }
         ],
         "name": "1610467032"
        },
        {
         "data": [
          {
           "hovertemplate": "locationtime=1610467056<br>lat=%{lat}<br>lon=%{lon}<br>shingle_id=%{marker.color}<extra></extra>",
           "ids": [
            1
           ],
           "lat": [
            47.6381263733
           ],
           "legendgroup": "",
           "lon": [
            -122.0478286743
           ],
           "marker": {
            "color": [
             1
            ],
            "coloraxis": "coloraxis"
           },
           "mode": "markers",
           "name": "",
           "showlegend": false,
           "subplot": "mapbox",
           "type": "scattermapbox"
          }
         ],
         "name": "1610467056"
        },
        {
         "data": [
          {
           "hovertemplate": "locationtime=1610467086<br>lat=%{lat}<br>lon=%{lon}<br>shingle_id=%{marker.color}<extra></extra>",
           "ids": [
            1
           ],
           "lat": [
            47.6401367188
           ],
           "legendgroup": "",
           "lon": [
            -122.0537796021
           ],
           "marker": {
            "color": [
             1
            ],
            "coloraxis": "coloraxis"
           },
           "mode": "markers",
           "name": "",
           "showlegend": false,
           "subplot": "mapbox",
           "type": "scattermapbox"
          }
         ],
         "name": "1610467086"
        },
        {
         "data": [
          {
           "hovertemplate": "locationtime=1610467134<br>lat=%{lat}<br>lon=%{lon}<br>shingle_id=%{marker.color}<extra></extra>",
           "ids": [
            1
           ],
           "lat": [
            47.6446609497
           ],
           "legendgroup": "",
           "lon": [
            -122.0565719604
           ],
           "marker": {
            "color": [
             1
            ],
            "coloraxis": "coloraxis"
           },
           "mode": "markers",
           "name": "",
           "showlegend": false,
           "subplot": "mapbox",
           "type": "scattermapbox"
          }
         ],
         "name": "1610467134"
        },
        {
         "data": [
          {
           "hovertemplate": "locationtime=1610467157<br>lat=%{lat}<br>lon=%{lon}<br>shingle_id=%{marker.color}<extra></extra>",
           "ids": [
            1
           ],
           "lat": [
            47.6492919922
           ],
           "legendgroup": "",
           "lon": [
            -122.0558166504
           ],
           "marker": {
            "color": [
             1
            ],
            "coloraxis": "coloraxis"
           },
           "mode": "markers",
           "name": "",
           "showlegend": false,
           "subplot": "mapbox",
           "type": "scattermapbox"
          }
         ],
         "name": "1610467157"
        },
        {
         "data": [
          {
           "hovertemplate": "locationtime=1610467188<br>lat=%{lat}<br>lon=%{lon}<br>shingle_id=%{marker.color}<extra></extra>",
           "ids": [
            1
           ],
           "lat": [
            47.6522407532
           ],
           "legendgroup": "",
           "lon": [
            -122.0604476929
           ],
           "marker": {
            "color": [
             1
            ],
            "coloraxis": "coloraxis"
           },
           "mode": "markers",
           "name": "",
           "showlegend": false,
           "subplot": "mapbox",
           "type": "scattermapbox"
          }
         ],
         "name": "1610467188"
        },
        {
         "data": [
          {
           "hovertemplate": "locationtime=1610467224<br>lat=%{lat}<br>lon=%{lon}<br>shingle_id=%{marker.color}<extra></extra>",
           "ids": [
            1
           ],
           "lat": [
            47.6559524536
           ],
           "legendgroup": "",
           "lon": [
            -122.0626449585
           ],
           "marker": {
            "color": [
             1
            ],
            "coloraxis": "coloraxis"
           },
           "mode": "markers",
           "name": "",
           "showlegend": false,
           "subplot": "mapbox",
           "type": "scattermapbox"
          }
         ],
         "name": "1610467224"
        },
        {
         "data": [
          {
           "hovertemplate": "locationtime=1610467254<br>lat=%{lat}<br>lon=%{lon}<br>shingle_id=%{marker.color}<extra></extra>",
           "ids": [
            1
           ],
           "lat": [
            47.6562042236
           ],
           "legendgroup": "",
           "lon": [
            -122.0626525879
           ],
           "marker": {
            "color": [
             1
            ],
            "coloraxis": "coloraxis"
           },
           "mode": "markers",
           "name": "",
           "showlegend": false,
           "subplot": "mapbox",
           "type": "scattermapbox"
          }
         ],
         "name": "1610467254"
        },
        {
         "data": [
          {
           "hovertemplate": "locationtime=1610467375<br>lat=%{lat}<br>lon=%{lon}<br>shingle_id=%{marker.color}<extra></extra>",
           "ids": [
            1
           ],
           "lat": [
            47.6556396484
           ],
           "legendgroup": "",
           "lon": [
            -122.0720748901
           ],
           "marker": {
            "color": [
             1
            ],
            "coloraxis": "coloraxis"
           },
           "mode": "markers",
           "name": "",
           "showlegend": false,
           "subplot": "mapbox",
           "type": "scattermapbox"
          }
         ],
         "name": "1610467375"
        },
        {
         "data": [
          {
           "hovertemplate": "locationtime=1610467403<br>lat=%{lat}<br>lon=%{lon}<br>shingle_id=%{marker.color}<extra></extra>",
           "ids": [
            1
           ],
           "lat": [
            47.6554679871
           ],
           "legendgroup": "",
           "lon": [
            -122.0626220703
           ],
           "marker": {
            "color": [
             1
            ],
            "coloraxis": "coloraxis"
           },
           "mode": "markers",
           "name": "",
           "showlegend": false,
           "subplot": "mapbox",
           "type": "scattermapbox"
          }
         ],
         "name": "1610467403"
        },
        {
         "data": [
          {
           "hovertemplate": "locationtime=1610467493<br>lat=%{lat}<br>lon=%{lon}<br>shingle_id=%{marker.color}<extra></extra>",
           "ids": [
            1
           ],
           "lat": [
            47.6579246521
           ],
           "legendgroup": "",
           "lon": [
            -122.0878601074
           ],
           "marker": {
            "color": [
             1
            ],
            "coloraxis": "coloraxis"
           },
           "mode": "markers",
           "name": "",
           "showlegend": false,
           "subplot": "mapbox",
           "type": "scattermapbox"
          }
         ],
         "name": "1610467493"
        },
        {
         "data": [
          {
           "hovertemplate": "locationtime=1610467583<br>lat=%{lat}<br>lon=%{lon}<br>shingle_id=%{marker.color}<extra></extra>",
           "ids": [
            1
           ],
           "lat": [
            47.6639671326
           ],
           "legendgroup": "",
           "lon": [
            -122.0932388306
           ],
           "marker": {
            "color": [
             1
            ],
            "coloraxis": "coloraxis"
           },
           "mode": "markers",
           "name": "",
           "showlegend": false,
           "subplot": "mapbox",
           "type": "scattermapbox"
          }
         ],
         "name": "1610467583"
        },
        {
         "data": [
          {
           "hovertemplate": "locationtime=1610467673<br>lat=%{lat}<br>lon=%{lon}<br>shingle_id=%{marker.color}<extra></extra>",
           "ids": [
            1
           ],
           "lat": [
            47.667263031
           ],
           "legendgroup": "",
           "lon": [
            -122.0936889648
           ],
           "marker": {
            "color": [
             1
            ],
            "coloraxis": "coloraxis"
           },
           "mode": "markers",
           "name": "",
           "showlegend": false,
           "subplot": "mapbox",
           "type": "scattermapbox"
          }
         ],
         "name": "1610467673"
        },
        {
         "data": [
          {
           "hovertemplate": "locationtime=1610467763<br>lat=%{lat}<br>lon=%{lon}<br>shingle_id=%{marker.color}<extra></extra>",
           "ids": [
            1
           ],
           "lat": [
            47.667640686
           ],
           "legendgroup": "",
           "lon": [
            -122.100151062
           ],
           "marker": {
            "color": [
             1
            ],
            "coloraxis": "coloraxis"
           },
           "mode": "markers",
           "name": "",
           "showlegend": false,
           "subplot": "mapbox",
           "type": "scattermapbox"
          }
         ],
         "name": "1610467763"
        },
        {
         "data": [
          {
           "hovertemplate": "locationtime=1610467854<br>lat=%{lat}<br>lon=%{lon}<br>shingle_id=%{marker.color}<extra></extra>",
           "ids": [
            1
           ],
           "lat": [
            47.6715278625
           ],
           "legendgroup": "",
           "lon": [
            -122.100112915
           ],
           "marker": {
            "color": [
             1
            ],
            "coloraxis": "coloraxis"
           },
           "mode": "markers",
           "name": "",
           "showlegend": false,
           "subplot": "mapbox",
           "type": "scattermapbox"
          }
         ],
         "name": "1610467854"
        },
        {
         "data": [
          {
           "hovertemplate": "locationtime=1610467916<br>lat=%{lat}<br>lon=%{lon}<br>shingle_id=%{marker.color}<extra></extra>",
           "ids": [
            1
           ],
           "lat": [
            47.6713752747
           ],
           "legendgroup": "",
           "lon": [
            -122.1013031006
           ],
           "marker": {
            "color": [
             1
            ],
            "coloraxis": "coloraxis"
           },
           "mode": "markers",
           "name": "",
           "showlegend": false,
           "subplot": "mapbox",
           "type": "scattermapbox"
          }
         ],
         "name": "1610467916"
        },
        {
         "data": [
          {
           "hovertemplate": "locationtime=1610467936<br>lat=%{lat}<br>lon=%{lon}<br>shingle_id=%{marker.color}<extra></extra>",
           "ids": [
            1
           ],
           "lat": [
            47.6716842651
           ],
           "legendgroup": "",
           "lon": [
            -122.1037063599
           ],
           "marker": {
            "color": [
             1
            ],
            "coloraxis": "coloraxis"
           },
           "mode": "markers",
           "name": "",
           "showlegend": false,
           "subplot": "mapbox",
           "type": "scattermapbox"
          }
         ],
         "name": "1610467936"
        },
        {
         "data": [
          {
           "hovertemplate": "locationtime=1610467958<br>lat=%{lat}<br>lon=%{lon}<br>shingle_id=%{marker.color}<extra></extra>",
           "ids": [
            1
           ],
           "lat": [
            47.6716766357
           ],
           "legendgroup": "",
           "lon": [
            -122.1037597656
           ],
           "marker": {
            "color": [
             1
            ],
            "coloraxis": "coloraxis"
           },
           "mode": "markers",
           "name": "",
           "showlegend": false,
           "subplot": "mapbox",
           "type": "scattermapbox"
          }
         ],
         "name": "1610467958"
        },
        {
         "data": [
          {
           "hovertemplate": "locationtime=1610468033<br>lat=%{lat}<br>lon=%{lon}<br>shingle_id=%{marker.color}<extra></extra>",
           "ids": [
            1
           ],
           "lat": [
            47.6716804504
           ],
           "legendgroup": "",
           "lon": [
            -122.1037445068
           ],
           "marker": {
            "color": [
             1
            ],
            "coloraxis": "coloraxis"
           },
           "mode": "markers",
           "name": "",
           "showlegend": false,
           "subplot": "mapbox",
           "type": "scattermapbox"
          }
         ],
         "name": "1610468033"
        },
        {
         "data": [
          {
           "hovertemplate": "locationtime=1610468123<br>lat=%{lat}<br>lon=%{lon}<br>shingle_id=%{marker.color}<extra></extra>",
           "ids": [
            1
           ],
           "lat": [
            47.671661377
           ],
           "legendgroup": "",
           "lon": [
            -122.1039199829
           ],
           "marker": {
            "color": [
             1
            ],
            "coloraxis": "coloraxis"
           },
           "mode": "markers",
           "name": "",
           "showlegend": false,
           "subplot": "mapbox",
           "type": "scattermapbox"
          }
         ],
         "name": "1610468123"
        },
        {
         "data": [
          {
           "hovertemplate": "locationtime=1610468213<br>lat=%{lat}<br>lon=%{lon}<br>shingle_id=%{marker.color}<extra></extra>",
           "ids": [
            1
           ],
           "lat": [
            47.6716308594
           ],
           "legendgroup": "",
           "lon": [
            -122.1041259766
           ],
           "marker": {
            "color": [
             1
            ],
            "coloraxis": "coloraxis"
           },
           "mode": "markers",
           "name": "",
           "showlegend": false,
           "subplot": "mapbox",
           "type": "scattermapbox"
          }
         ],
         "name": "1610468213"
        },
        {
         "data": [
          {
           "hovertemplate": "locationtime=1610468394<br>lat=%{lat}<br>lon=%{lon}<br>shingle_id=%{marker.color}<extra></extra>",
           "ids": [
            1
           ],
           "lat": [
            47.6518707275
           ],
           "legendgroup": "",
           "lon": [
            -122.1433258057
           ],
           "marker": {
            "color": [
             1
            ],
            "coloraxis": "coloraxis"
           },
           "mode": "markers",
           "name": "",
           "showlegend": false,
           "subplot": "mapbox",
           "type": "scattermapbox"
          }
         ],
         "name": "1610468394"
        },
        {
         "data": [
          {
           "hovertemplate": "locationtime=1610468483<br>lat=%{lat}<br>lon=%{lon}<br>shingle_id=%{marker.color}<extra></extra>",
           "ids": [
            1
           ],
           "lat": [
            47.6459541321
           ],
           "legendgroup": "",
           "lon": [
            -122.141166687
           ],
           "marker": {
            "color": [
             1
            ],
            "coloraxis": "coloraxis"
           },
           "mode": "markers",
           "name": "",
           "showlegend": false,
           "subplot": "mapbox",
           "type": "scattermapbox"
          }
         ],
         "name": "1610468483"
        },
        {
         "data": [
          {
           "hovertemplate": "locationtime=1610468573<br>lat=%{lat}<br>lon=%{lon}<br>shingle_id=%{marker.color}<extra></extra>",
           "ids": [
            1,
            469
           ],
           "lat": [
            47.6459884644,
            47.6574745178
           ],
           "legendgroup": "",
           "lon": [
            -122.1377182007,
            -122.0880737305
           ],
           "marker": {
            "color": [
             1,
             469
            ],
            "coloraxis": "coloraxis"
           },
           "mode": "markers",
           "name": "",
           "showlegend": false,
           "subplot": "mapbox",
           "type": "scattermapbox"
          }
         ],
         "name": "1610468573"
        },
        {
         "data": [
          {
           "hovertemplate": "locationtime=1610468663<br>lat=%{lat}<br>lon=%{lon}<br>shingle_id=%{marker.color}<extra></extra>",
           "ids": [
            1
           ],
           "lat": [
            47.6460494995
           ],
           "legendgroup": "",
           "lon": [
            -122.1313476562
           ],
           "marker": {
            "color": [
             1
            ],
            "coloraxis": "coloraxis"
           },
           "mode": "markers",
           "name": "",
           "showlegend": false,
           "subplot": "mapbox",
           "type": "scattermapbox"
          }
         ],
         "name": "1610468663"
        },
        {
         "data": [
          {
           "hovertemplate": "locationtime=1610468753<br>lat=%{lat}<br>lon=%{lon}<br>shingle_id=%{marker.color}<extra></extra>",
           "ids": [
            1
           ],
           "lat": [
            47.6425132751
           ],
           "legendgroup": "",
           "lon": [
            -122.1291656494
           ],
           "marker": {
            "color": [
             1
            ],
            "coloraxis": "coloraxis"
           },
           "mode": "markers",
           "name": "",
           "showlegend": false,
           "subplot": "mapbox",
           "type": "scattermapbox"
          }
         ],
         "name": "1610468753"
        },
        {
         "data": [
          {
           "hovertemplate": "locationtime=1610468870<br>lat=%{lat}<br>lon=%{lon}<br>shingle_id=%{marker.color}<extra></extra>",
           "ids": [
            1
           ],
           "lat": [
            47.637878418
           ],
           "legendgroup": "",
           "lon": [
            -122.1363754272
           ],
           "marker": {
            "color": [
             1
            ],
            "coloraxis": "coloraxis"
           },
           "mode": "markers",
           "name": "",
           "showlegend": false,
           "subplot": "mapbox",
           "type": "scattermapbox"
          }
         ],
         "name": "1610468870"
        },
        {
         "data": [
          {
           "hovertemplate": "locationtime=1610468901<br>lat=%{lat}<br>lon=%{lon}<br>shingle_id=%{marker.color}<extra></extra>",
           "ids": [
            1
           ],
           "lat": [
            47.6355743408
           ],
           "legendgroup": "",
           "lon": [
            -122.1376800537
           ],
           "marker": {
            "color": [
             1
            ],
            "coloraxis": "coloraxis"
           },
           "mode": "markers",
           "name": "",
           "showlegend": false,
           "subplot": "mapbox",
           "type": "scattermapbox"
          }
         ],
         "name": "1610468901"
        },
        {
         "data": [
          {
           "hovertemplate": "locationtime=1610468960<br>lat=%{lat}<br>lon=%{lon}<br>shingle_id=%{marker.color}<extra></extra>",
           "ids": [
            1
           ],
           "lat": [
            47.6329879761
           ],
           "legendgroup": "",
           "lon": [
            -122.1364822388
           ],
           "marker": {
            "color": [
             1
            ],
            "coloraxis": "coloraxis"
           },
           "mode": "markers",
           "name": "",
           "showlegend": false,
           "subplot": "mapbox",
           "type": "scattermapbox"
          }
         ],
         "name": "1610468960"
        },
        {
         "data": [
          {
           "hovertemplate": "locationtime=1610468991<br>lat=%{lat}<br>lon=%{lon}<br>shingle_id=%{marker.color}<extra></extra>",
           "ids": [
            1
           ],
           "lat": [
            47.6325149536
           ],
           "legendgroup": "",
           "lon": [
            -122.1363143921
           ],
           "marker": {
            "color": [
             1
            ],
            "coloraxis": "coloraxis"
           },
           "mode": "markers",
           "name": "",
           "showlegend": false,
           "subplot": "mapbox",
           "type": "scattermapbox"
          }
         ],
         "name": "1610468991"
        },
        {
         "data": [
          {
           "hovertemplate": "locationtime=1610469203<br>lat=%{lat}<br>lon=%{lon}<br>shingle_id=%{marker.color}<extra></extra>",
           "ids": [
            1
           ],
           "lat": [
            47.6381492615
           ],
           "legendgroup": "",
           "lon": [
            -122.133354187
           ],
           "marker": {
            "color": [
             1
            ],
            "coloraxis": "coloraxis"
           },
           "mode": "markers",
           "name": "",
           "showlegend": false,
           "subplot": "mapbox",
           "type": "scattermapbox"
          }
         ],
         "name": "1610469203"
        },
        {
         "data": [
          {
           "hovertemplate": "locationtime=1610469231<br>lat=%{lat}<br>lon=%{lon}<br>shingle_id=%{marker.color}<extra></extra>",
           "ids": [
            1
           ],
           "lat": [
            47.6325149536
           ],
           "legendgroup": "",
           "lon": [
            -122.1363143921
           ],
           "marker": {
            "color": [
             1
            ],
            "coloraxis": "coloraxis"
           },
           "mode": "markers",
           "name": "",
           "showlegend": false,
           "subplot": "mapbox",
           "type": "scattermapbox"
          }
         ],
         "name": "1610469231"
        },
        {
         "data": [
          {
           "hovertemplate": "locationtime=1610469383<br>lat=%{lat}<br>lon=%{lon}<br>shingle_id=%{marker.color}<extra></extra>",
           "ids": [
            1
           ],
           "lat": [
            47.6381492615
           ],
           "legendgroup": "",
           "lon": [
            -122.133354187
           ],
           "marker": {
            "color": [
             1
            ],
            "coloraxis": "coloraxis"
           },
           "mode": "markers",
           "name": "",
           "showlegend": false,
           "subplot": "mapbox",
           "type": "scattermapbox"
          }
         ],
         "name": "1610469383"
        },
        {
         "data": [
          {
           "hovertemplate": "locationtime=1610469411<br>lat=%{lat}<br>lon=%{lon}<br>shingle_id=%{marker.color}<extra></extra>",
           "ids": [
            1
           ],
           "lat": [
            47.6325149536
           ],
           "legendgroup": "",
           "lon": [
            -122.1363143921
           ],
           "marker": {
            "color": [
             1
            ],
            "coloraxis": "coloraxis"
           },
           "mode": "markers",
           "name": "",
           "showlegend": false,
           "subplot": "mapbox",
           "type": "scattermapbox"
          }
         ],
         "name": "1610469411"
        },
        {
         "data": [
          {
           "hovertemplate": "locationtime=1610469473<br>lat=%{lat}<br>lon=%{lon}<br>shingle_id=%{marker.color}<extra></extra>",
           "ids": [
            1
           ],
           "lat": [
            47.6381492615
           ],
           "legendgroup": "",
           "lon": [
            -122.133354187
           ],
           "marker": {
            "color": [
             1
            ],
            "coloraxis": "coloraxis"
           },
           "mode": "markers",
           "name": "",
           "showlegend": false,
           "subplot": "mapbox",
           "type": "scattermapbox"
          }
         ],
         "name": "1610469473"
        },
        {
         "data": [
          {
           "hovertemplate": "locationtime=1610469531<br>lat=%{lat}<br>lon=%{lon}<br>shingle_id=%{marker.color}<extra></extra>",
           "ids": [
            1
           ],
           "lat": [
            47.6325149536
           ],
           "legendgroup": "",
           "lon": [
            -122.1363143921
           ],
           "marker": {
            "color": [
             1
            ],
            "coloraxis": "coloraxis"
           },
           "mode": "markers",
           "name": "",
           "showlegend": false,
           "subplot": "mapbox",
           "type": "scattermapbox"
          }
         ],
         "name": "1610469531"
        },
        {
         "data": [
          {
           "hovertemplate": "locationtime=1610469563<br>lat=%{lat}<br>lon=%{lon}<br>shingle_id=%{marker.color}<extra></extra>",
           "ids": [
            1
           ],
           "lat": [
            47.6381492615
           ],
           "legendgroup": "",
           "lon": [
            -122.133354187
           ],
           "marker": {
            "color": [
             1
            ],
            "coloraxis": "coloraxis"
           },
           "mode": "markers",
           "name": "",
           "showlegend": false,
           "subplot": "mapbox",
           "type": "scattermapbox"
          }
         ],
         "name": "1610469563"
        },
        {
         "data": [
          {
           "hovertemplate": "locationtime=1610469590<br>lat=%{lat}<br>lon=%{lon}<br>shingle_id=%{marker.color}<extra></extra>",
           "ids": [
            1
           ],
           "lat": [
            47.6325149536
           ],
           "legendgroup": "",
           "lon": [
            -122.1363143921
           ],
           "marker": {
            "color": [
             1
            ],
            "coloraxis": "coloraxis"
           },
           "mode": "markers",
           "name": "",
           "showlegend": false,
           "subplot": "mapbox",
           "type": "scattermapbox"
          }
         ],
         "name": "1610469590"
        },
        {
         "data": [
          {
           "hovertemplate": "locationtime=1610469653<br>lat=%{lat}<br>lon=%{lon}<br>shingle_id=%{marker.color}<extra></extra>",
           "ids": [
            1
           ],
           "lat": [
            47.6381492615
           ],
           "legendgroup": "",
           "lon": [
            -122.133354187
           ],
           "marker": {
            "color": [
             1
            ],
            "coloraxis": "coloraxis"
           },
           "mode": "markers",
           "name": "",
           "showlegend": false,
           "subplot": "mapbox",
           "type": "scattermapbox"
          }
         ],
         "name": "1610469653"
        },
        {
         "data": [
          {
           "hovertemplate": "locationtime=1610469710<br>lat=%{lat}<br>lon=%{lon}<br>shingle_id=%{marker.color}<extra></extra>",
           "ids": [
            1
           ],
           "lat": [
            47.6325149536
           ],
           "legendgroup": "",
           "lon": [
            -122.1363143921
           ],
           "marker": {
            "color": [
             1
            ],
            "coloraxis": "coloraxis"
           },
           "mode": "markers",
           "name": "",
           "showlegend": false,
           "subplot": "mapbox",
           "type": "scattermapbox"
          }
         ],
         "name": "1610469710"
        },
        {
         "data": [
          {
           "hovertemplate": "locationtime=1610469743<br>lat=%{lat}<br>lon=%{lon}<br>shingle_id=%{marker.color}<extra></extra>",
           "ids": [
            1
           ],
           "lat": [
            47.6381492615
           ],
           "legendgroup": "",
           "lon": [
            -122.133354187
           ],
           "marker": {
            "color": [
             1
            ],
            "coloraxis": "coloraxis"
           },
           "mode": "markers",
           "name": "",
           "showlegend": false,
           "subplot": "mapbox",
           "type": "scattermapbox"
          }
         ],
         "name": "1610469743"
        },
        {
         "data": [
          {
           "hovertemplate": "locationtime=1610469772<br>lat=%{lat}<br>lon=%{lon}<br>shingle_id=%{marker.color}<extra></extra>",
           "ids": [
            1
           ],
           "lat": [
            47.6325149536
           ],
           "legendgroup": "",
           "lon": [
            -122.1363143921
           ],
           "marker": {
            "color": [
             1
            ],
            "coloraxis": "coloraxis"
           },
           "mode": "markers",
           "name": "",
           "showlegend": false,
           "subplot": "mapbox",
           "type": "scattermapbox"
          }
         ],
         "name": "1610469772"
        },
        {
         "data": [
          {
           "hovertemplate": "locationtime=1610470013<br>lat=%{lat}<br>lon=%{lon}<br>shingle_id=%{marker.color}<extra></extra>",
           "ids": [
            1
           ],
           "lat": [
            47.6381492615
           ],
           "legendgroup": "",
           "lon": [
            -122.133354187
           ],
           "marker": {
            "color": [
             1
            ],
            "coloraxis": "coloraxis"
           },
           "mode": "markers",
           "name": "",
           "showlegend": false,
           "subplot": "mapbox",
           "type": "scattermapbox"
          }
         ],
         "name": "1610470013"
        },
        {
         "data": [
          {
           "hovertemplate": "locationtime=1610470071<br>lat=%{lat}<br>lon=%{lon}<br>shingle_id=%{marker.color}<extra></extra>",
           "ids": [
            1,
            9,
            9,
            9,
            9,
            9,
            9,
            9,
            9,
            9,
            9,
            9,
            9,
            9
           ],
           "lat": [
            47.6325149536,
            47.6329612732,
            47.6329612732,
            47.6329612732,
            47.6329612732,
            47.6329612732,
            47.6329612732,
            47.6329612732,
            47.6329612732,
            47.6329612732,
            47.6329612732,
            47.6329612732,
            47.6329612732,
            47.6329612732
           ],
           "legendgroup": "",
           "lon": [
            -122.1363143921,
            -122.1364822388,
            -122.1364822388,
            -122.1364822388,
            -122.1364822388,
            -122.1364822388,
            -122.1364822388,
            -122.1364822388,
            -122.1364822388,
            -122.1364822388,
            -122.1364822388,
            -122.1364822388,
            -122.1364822388,
            -122.1364822388
           ],
           "marker": {
            "color": [
             1,
             9,
             9,
             9,
             9,
             9,
             9,
             9,
             9,
             9,
             9,
             9,
             9,
             9
            ],
            "coloraxis": "coloraxis"
           },
           "mode": "markers",
           "name": "",
           "showlegend": false,
           "subplot": "mapbox",
           "type": "scattermapbox"
          }
         ],
         "name": "1610470071"
        },
        {
         "data": [
          {
           "hovertemplate": "locationtime=1610470193<br>lat=%{lat}<br>lon=%{lon}<br>shingle_id=%{marker.color}<extra></extra>",
           "ids": [
            1
           ],
           "lat": [
            47.6381492615
           ],
           "legendgroup": "",
           "lon": [
            -122.133354187
           ],
           "marker": {
            "color": [
             1
            ],
            "coloraxis": "coloraxis"
           },
           "mode": "markers",
           "name": "",
           "showlegend": false,
           "subplot": "mapbox",
           "type": "scattermapbox"
          }
         ],
         "name": "1610470193"
        },
        {
         "data": [
          {
           "hovertemplate": "locationtime=1610470221<br>lat=%{lat}<br>lon=%{lon}<br>shingle_id=%{marker.color}<extra></extra>",
           "ids": [
            1
           ],
           "lat": [
            47.6325149536
           ],
           "legendgroup": "",
           "lon": [
            -122.1363143921
           ],
           "marker": {
            "color": [
             1
            ],
            "coloraxis": "coloraxis"
           },
           "mode": "markers",
           "name": "",
           "showlegend": false,
           "subplot": "mapbox",
           "type": "scattermapbox"
          }
         ],
         "name": "1610470221"
        },
        {
         "data": [
          {
           "hovertemplate": "locationtime=1610470284<br>lat=%{lat}<br>lon=%{lon}<br>shingle_id=%{marker.color}<extra></extra>",
           "ids": [
            1
           ],
           "lat": [
            47.6381492615
           ],
           "legendgroup": "",
           "lon": [
            -122.133354187
           ],
           "marker": {
            "color": [
             1
            ],
            "coloraxis": "coloraxis"
           },
           "mode": "markers",
           "name": "",
           "showlegend": false,
           "subplot": "mapbox",
           "type": "scattermapbox"
          }
         ],
         "name": "1610470284"
        },
        {
         "data": [
          {
           "hovertemplate": "locationtime=1610470311<br>lat=%{lat}<br>lon=%{lon}<br>shingle_id=%{marker.color}<extra></extra>",
           "ids": [
            1
           ],
           "lat": [
            47.6325149536
           ],
           "legendgroup": "",
           "lon": [
            -122.1363143921
           ],
           "marker": {
            "color": [
             1
            ],
            "coloraxis": "coloraxis"
           },
           "mode": "markers",
           "name": "",
           "showlegend": false,
           "subplot": "mapbox",
           "type": "scattermapbox"
          }
         ],
         "name": "1610470311"
        },
        {
         "data": [
          {
           "hovertemplate": "locationtime=1610470373<br>lat=%{lat}<br>lon=%{lon}<br>shingle_id=%{marker.color}<extra></extra>",
           "ids": [
            1
           ],
           "lat": [
            47.6381492615
           ],
           "legendgroup": "",
           "lon": [
            -122.133354187
           ],
           "marker": {
            "color": [
             1
            ],
            "coloraxis": "coloraxis"
           },
           "mode": "markers",
           "name": "",
           "showlegend": false,
           "subplot": "mapbox",
           "type": "scattermapbox"
          }
         ],
         "name": "1610470373"
        },
        {
         "data": [
          {
           "hovertemplate": "locationtime=1610470432<br>lat=%{lat}<br>lon=%{lon}<br>shingle_id=%{marker.color}<extra></extra>",
           "ids": [
            1
           ],
           "lat": [
            47.6325149536
           ],
           "legendgroup": "",
           "lon": [
            -122.1363143921
           ],
           "marker": {
            "color": [
             1
            ],
            "coloraxis": "coloraxis"
           },
           "mode": "markers",
           "name": "",
           "showlegend": false,
           "subplot": "mapbox",
           "type": "scattermapbox"
          }
         ],
         "name": "1610470432"
        },
        {
         "data": [
          {
           "hovertemplate": "locationtime=1610470463<br>lat=%{lat}<br>lon=%{lon}<br>shingle_id=%{marker.color}<extra></extra>",
           "ids": [
            1
           ],
           "lat": [
            47.6381492615
           ],
           "legendgroup": "",
           "lon": [
            -122.133354187
           ],
           "marker": {
            "color": [
             1
            ],
            "coloraxis": "coloraxis"
           },
           "mode": "markers",
           "name": "",
           "showlegend": false,
           "subplot": "mapbox",
           "type": "scattermapbox"
          }
         ],
         "name": "1610470463"
        },
        {
         "data": [
          {
           "hovertemplate": "locationtime=1610470510<br>lat=%{lat}<br>lon=%{lon}<br>shingle_id=%{marker.color}<extra></extra>",
           "ids": [
            1
           ],
           "lat": [
            47.6331596375
           ],
           "legendgroup": "",
           "lon": [
            -122.136177063
           ],
           "marker": {
            "color": [
             1
            ],
            "coloraxis": "coloraxis"
           },
           "mode": "markers",
           "name": "",
           "showlegend": false,
           "subplot": "mapbox",
           "type": "scattermapbox"
          }
         ],
         "name": "1610470510"
        },
        {
         "data": [
          {
           "hovertemplate": "locationtime=1610468196<br>lat=%{lat}<br>lon=%{lon}<br>shingle_id=%{marker.color}<extra></extra>",
           "ids": [
            8
           ],
           "lat": [
            47.6298408508
           ],
           "legendgroup": "",
           "lon": [
            -122.035446167
           ],
           "marker": {
            "color": [
             8
            ],
            "coloraxis": "coloraxis"
           },
           "mode": "markers",
           "name": "",
           "showlegend": false,
           "subplot": "mapbox",
           "type": "scattermapbox"
          }
         ],
         "name": "1610468196"
        },
        {
         "data": [
          {
           "hovertemplate": "locationtime=1610468326<br>lat=%{lat}<br>lon=%{lon}<br>shingle_id=%{marker.color}<extra></extra>",
           "ids": [
            8
           ],
           "lat": [
            47.6381111145
           ],
           "legendgroup": "",
           "lon": [
            -122.0477752686
           ],
           "marker": {
            "color": [
             8
            ],
            "coloraxis": "coloraxis"
           },
           "mode": "markers",
           "name": "",
           "showlegend": false,
           "subplot": "mapbox",
           "type": "scattermapbox"
          }
         ],
         "name": "1610468326"
        },
        {
         "data": [
          {
           "hovertemplate": "locationtime=1610468356<br>lat=%{lat}<br>lon=%{lon}<br>shingle_id=%{marker.color}<extra></extra>",
           "ids": [
            8
           ],
           "lat": [
            47.6401252747
           ],
           "legendgroup": "",
           "lon": [
            -122.0537567139
           ],
           "marker": {
            "color": [
             8
            ],
            "coloraxis": "coloraxis"
           },
           "mode": "markers",
           "name": "",
           "showlegend": false,
           "subplot": "mapbox",
           "type": "scattermapbox"
          }
         ],
         "name": "1610468356"
        },
        {
         "data": [
          {
           "hovertemplate": "locationtime=1610468396<br>lat=%{lat}<br>lon=%{lon}<br>shingle_id=%{marker.color}<extra></extra>",
           "ids": [
            8
           ],
           "lat": [
            47.6451034546
           ],
           "legendgroup": "",
           "lon": [
            -122.0564651489
           ],
           "marker": {
            "color": [
             8
            ],
            "coloraxis": "coloraxis"
           },
           "mode": "markers",
           "name": "",
           "showlegend": false,
           "subplot": "mapbox",
           "type": "scattermapbox"
          }
         ],
         "name": "1610468396"
        },
        {
         "data": [
          {
           "hovertemplate": "locationtime=1610468427<br>lat=%{lat}<br>lon=%{lon}<br>shingle_id=%{marker.color}<extra></extra>",
           "ids": [
            8
           ],
           "lat": [
            47.6494483948
           ],
           "legendgroup": "",
           "lon": [
            -122.0558776855
           ],
           "marker": {
            "color": [
             8
            ],
            "coloraxis": "coloraxis"
           },
           "mode": "markers",
           "name": "",
           "showlegend": false,
           "subplot": "mapbox",
           "type": "scattermapbox"
          }
         ],
         "name": "1610468427"
        },
        {
         "data": [
          {
           "hovertemplate": "locationtime=1610468482<br>lat=%{lat}<br>lon=%{lon}<br>shingle_id=%{marker.color}<extra></extra>",
           "ids": [
            8,
            8,
            8
           ],
           "lat": [
            47.656337738,
            47.656337738,
            47.656337738
           ],
           "legendgroup": "",
           "lon": [
            -122.0626602173,
            -122.0626602173,
            -122.0626602173
           ],
           "marker": {
            "color": [
             8,
             8,
             8
            ],
            "coloraxis": "coloraxis"
           },
           "mode": "markers",
           "name": "",
           "showlegend": false,
           "subplot": "mapbox",
           "type": "scattermapbox"
          }
         ],
         "name": "1610468482"
        },
        {
         "data": [
          {
           "hovertemplate": "locationtime=1610468512<br>lat=%{lat}<br>lon=%{lon}<br>shingle_id=%{marker.color}<extra></extra>",
           "ids": [
            8,
            8
           ],
           "lat": [
            47.6564903259,
            47.6564903259
           ],
           "legendgroup": "",
           "lon": [
            -122.0626678467,
            -122.0626678467
           ],
           "marker": {
            "color": [
             8,
             8
            ],
            "coloraxis": "coloraxis"
           },
           "mode": "markers",
           "name": "",
           "showlegend": false,
           "subplot": "mapbox",
           "type": "scattermapbox"
          }
         ],
         "name": "1610468512"
        },
        {
         "data": [
          {
           "hovertemplate": "locationtime=1610468572<br>lat=%{lat}<br>lon=%{lon}<br>shingle_id=%{marker.color}<extra></extra>",
           "ids": [
            8
           ],
           "lat": [
            47.655380249
           ],
           "legendgroup": "",
           "lon": [
            -122.072883606
           ],
           "marker": {
            "color": [
             8
            ],
            "coloraxis": "coloraxis"
           },
           "mode": "markers",
           "name": "",
           "showlegend": false,
           "subplot": "mapbox",
           "type": "scattermapbox"
          }
         ],
         "name": "1610468572"
        },
        {
         "data": [
          {
           "hovertemplate": "locationtime=1610468677<br>lat=%{lat}<br>lon=%{lon}<br>shingle_id=%{marker.color}<extra></extra>",
           "ids": [
            8
           ],
           "lat": [
            47.6579437256
           ],
           "legendgroup": "",
           "lon": [
            -122.087852478
           ],
           "marker": {
            "color": [
             8
            ],
            "coloraxis": "coloraxis"
           },
           "mode": "markers",
           "name": "",
           "showlegend": false,
           "subplot": "mapbox",
           "type": "scattermapbox"
          }
         ],
         "name": "1610468677"
        },
        {
         "data": [
          {
           "hovertemplate": "locationtime=1610468737<br>lat=%{lat}<br>lon=%{lon}<br>shingle_id=%{marker.color}<extra></extra>",
           "ids": [
            8
           ],
           "lat": [
            47.6641387939
           ],
           "legendgroup": "",
           "lon": [
            -122.0936965942
           ],
           "marker": {
            "color": [
             8
            ],
            "coloraxis": "coloraxis"
           },
           "mode": "markers",
           "name": "",
           "showlegend": false,
           "subplot": "mapbox",
           "type": "scattermapbox"
          }
         ],
         "name": "1610468737"
        },
        {
         "data": [
          {
           "hovertemplate": "locationtime=1610468773<br>lat=%{lat}<br>lon=%{lon}<br>shingle_id=%{marker.color}<extra></extra>",
           "ids": [
            8
           ],
           "lat": [
            47.6675872803
           ],
           "legendgroup": "",
           "lon": [
            -122.0944061279
           ],
           "marker": {
            "color": [
             8
            ],
            "coloraxis": "coloraxis"
           },
           "mode": "markers",
           "name": "",
           "showlegend": false,
           "subplot": "mapbox",
           "type": "scattermapbox"
          }
         ],
         "name": "1610468773"
        },
        {
         "data": [
          {
           "hovertemplate": "locationtime=1610468831<br>lat=%{lat}<br>lon=%{lon}<br>shingle_id=%{marker.color}<extra></extra>",
           "ids": [
            9
           ],
           "lat": [
            47.6676330566
           ],
           "legendgroup": "",
           "lon": [
            -122.100151062
           ],
           "marker": {
            "color": [
             9
            ],
            "coloraxis": "coloraxis"
           },
           "mode": "markers",
           "name": "",
           "showlegend": false,
           "subplot": "mapbox",
           "type": "scattermapbox"
          }
         ],
         "name": "1610468831"
        },
        {
         "data": [
          {
           "hovertemplate": "locationtime=1610469056<br>lat=%{lat}<br>lon=%{lon}<br>shingle_id=%{marker.color}<extra></extra>",
           "ids": [
            9,
            9,
            9,
            9,
            9
           ],
           "lat": [
            47.6715316772,
            47.6715316772,
            47.6715316772,
            47.6715316772,
            47.6715316772
           ],
           "legendgroup": "",
           "lon": [
            -122.1045532227,
            -122.1045532227,
            -122.1045532227,
            -122.1045532227,
            -122.1045532227
           ],
           "marker": {
            "color": [
             9,
             9,
             9,
             9,
             9
            ],
            "coloraxis": "coloraxis"
           },
           "mode": "markers",
           "name": "",
           "showlegend": false,
           "subplot": "mapbox",
           "type": "scattermapbox"
          }
         ],
         "name": "1610469056"
        },
        {
         "data": [
          {
           "hovertemplate": "locationtime=1610469393<br>lat=%{lat}<br>lon=%{lon}<br>shingle_id=%{marker.color}<extra></extra>",
           "ids": [
            9,
            1582
           ],
           "lat": [
            47.6515388489,
            47.6459884644
           ],
           "legendgroup": "",
           "lon": [
            -122.1433105469,
            -122.1377182007
           ],
           "marker": {
            "color": [
             9,
             1582
            ],
            "coloraxis": "coloraxis"
           },
           "mode": "markers",
           "name": "",
           "showlegend": false,
           "subplot": "mapbox",
           "type": "scattermapbox"
          }
         ],
         "name": "1610469393"
        },
        {
         "data": [
          {
           "hovertemplate": "locationtime=1610469398<br>lat=%{lat}<br>lon=%{lon}<br>shingle_id=%{marker.color}<extra></extra>",
           "ids": [
            9
           ],
           "lat": [
            47.6518974304
           ],
           "legendgroup": "",
           "lon": [
            -122.1433258057
           ],
           "marker": {
            "color": [
             9
            ],
            "coloraxis": "coloraxis"
           },
           "mode": "markers",
           "name": "",
           "showlegend": false,
           "subplot": "mapbox",
           "type": "scattermapbox"
          }
         ],
         "name": "1610469398"
        },
        {
         "data": [
          {
           "hovertemplate": "locationtime=1610469536<br>lat=%{lat}<br>lon=%{lon}<br>shingle_id=%{marker.color}<extra></extra>",
           "ids": [
            9
           ],
           "lat": [
            47.6459960938
           ],
           "legendgroup": "",
           "lon": [
            -122.1371994019
           ],
           "marker": {
            "color": [
             9
            ],
            "coloraxis": "coloraxis"
           },
           "mode": "markers",
           "name": "",
           "showlegend": false,
           "subplot": "mapbox",
           "type": "scattermapbox"
          }
         ],
         "name": "1610469536"
        },
        {
         "data": [
          {
           "hovertemplate": "locationtime=1610469634<br>lat=%{lat}<br>lon=%{lon}<br>shingle_id=%{marker.color}<extra></extra>",
           "ids": [
            9
           ],
           "lat": [
            47.6460533142
           ],
           "legendgroup": "",
           "lon": [
            -122.1304931641
           ],
           "marker": {
            "color": [
             9
            ],
            "coloraxis": "coloraxis"
           },
           "mode": "markers",
           "name": "",
           "showlegend": false,
           "subplot": "mapbox",
           "type": "scattermapbox"
          }
         ],
         "name": "1610469634"
        },
        {
         "data": [
          {
           "hovertemplate": "locationtime=1610469667<br>lat=%{lat}<br>lon=%{lon}<br>shingle_id=%{marker.color}<extra></extra>",
           "ids": [
            9
           ],
           "lat": [
            47.6460494995
           ],
           "legendgroup": "",
           "lon": [
            -122.131362915
           ],
           "marker": {
            "color": [
             9
            ],
            "coloraxis": "coloraxis"
           },
           "mode": "markers",
           "name": "",
           "showlegend": false,
           "subplot": "mapbox",
           "type": "scattermapbox"
          }
         ],
         "name": "1610469667"
        },
        {
         "data": [
          {
           "hovertemplate": "locationtime=1610469865<br>lat=%{lat}<br>lon=%{lon}<br>shingle_id=%{marker.color}<extra></extra>",
           "ids": [
            9
           ],
           "lat": [
            47.6377334595
           ],
           "legendgroup": "",
           "lon": [
            -122.1365509033
           ],
           "marker": {
            "color": [
             9
            ],
            "coloraxis": "coloraxis"
           },
           "mode": "markers",
           "name": "",
           "showlegend": false,
           "subplot": "mapbox",
           "type": "scattermapbox"
          }
         ],
         "name": "1610469865"
        },
        {
         "data": [
          {
           "hovertemplate": "locationtime=1610469895<br>lat=%{lat}<br>lon=%{lon}<br>shingle_id=%{marker.color}<extra></extra>",
           "ids": [
            9
           ],
           "lat": [
            47.6350784302
           ],
           "legendgroup": "",
           "lon": [
            -122.1376876831
           ],
           "marker": {
            "color": [
             9
            ],
            "coloraxis": "coloraxis"
           },
           "mode": "markers",
           "name": "",
           "showlegend": false,
           "subplot": "mapbox",
           "type": "scattermapbox"
          }
         ],
         "name": "1610469895"
        },
        {
         "data": [
          {
           "hovertemplate": "locationtime=1610469951<br>lat=%{lat}<br>lon=%{lon}<br>shingle_id=%{marker.color}<extra></extra>",
           "ids": [
            9,
            9,
            9,
            9,
            9,
            9,
            9,
            9,
            9,
            9,
            9,
            9,
            9
           ],
           "lat": [
            47.6329612732,
            47.6329612732,
            47.6329612732,
            47.6329612732,
            47.6329612732,
            47.6329612732,
            47.6329612732,
            47.6329612732,
            47.6329612732,
            47.6329612732,
            47.6329612732,
            47.6329612732,
            47.6329612732
           ],
           "legendgroup": "",
           "lon": [
            -122.1364822388,
            -122.1364822388,
            -122.1364822388,
            -122.1364822388,
            -122.1364822388,
            -122.1364822388,
            -122.1364822388,
            -122.1364822388,
            -122.1364822388,
            -122.1364822388,
            -122.1364822388,
            -122.1364822388,
            -122.1364822388
           ],
           "marker": {
            "color": [
             9,
             9,
             9,
             9,
             9,
             9,
             9,
             9,
             9,
             9,
             9,
             9,
             9
            ],
            "coloraxis": "coloraxis"
           },
           "mode": "markers",
           "name": "",
           "showlegend": false,
           "subplot": "mapbox",
           "type": "scattermapbox"
          }
         ],
         "name": "1610469951"
        },
        {
         "data": [
          {
           "hovertemplate": "locationtime=1610470431<br>lat=%{lat}<br>lon=%{lon}<br>shingle_id=%{marker.color}<extra></extra>",
           "ids": [
            9,
            9,
            9,
            9,
            9,
            9,
            9,
            9,
            9,
            9,
            9,
            9,
            9
           ],
           "lat": [
            47.6329612732,
            47.6329612732,
            47.6329612732,
            47.6329612732,
            47.6329612732,
            47.6329612732,
            47.6329612732,
            47.6329612732,
            47.6329612732,
            47.6329612732,
            47.6329612732,
            47.6329612732,
            47.6329612732
           ],
           "legendgroup": "",
           "lon": [
            -122.1364822388,
            -122.1364822388,
            -122.1364822388,
            -122.1364822388,
            -122.1364822388,
            -122.1364822388,
            -122.1364822388,
            -122.1364822388,
            -122.1364822388,
            -122.1364822388,
            -122.1364822388,
            -122.1364822388,
            -122.1364822388
           ],
           "marker": {
            "color": [
             9,
             9,
             9,
             9,
             9,
             9,
             9,
             9,
             9,
             9,
             9,
             9,
             9
            ],
            "coloraxis": "coloraxis"
           },
           "mode": "markers",
           "name": "",
           "showlegend": false,
           "subplot": "mapbox",
           "type": "scattermapbox"
          }
         ],
         "name": "1610470431"
        },
        {
         "data": [
          {
           "hovertemplate": "locationtime=1610470370<br>lat=%{lat}<br>lon=%{lon}<br>shingle_id=%{marker.color}<extra></extra>",
           "ids": [
            12
           ],
           "lat": [
            47.6299209595
           ],
           "legendgroup": "",
           "lon": [
            -122.035446167
           ],
           "marker": {
            "color": [
             12
            ],
            "coloraxis": "coloraxis"
           },
           "mode": "markers",
           "name": "",
           "showlegend": false,
           "subplot": "mapbox",
           "type": "scattermapbox"
          }
         ],
         "name": "1610470370"
        },
        {
         "data": [
          {
           "hovertemplate": "locationtime=1610470390<br>lat=%{lat}<br>lon=%{lon}<br>shingle_id=%{marker.color}<extra></extra>",
           "ids": [
            12
           ],
           "lat": [
            47.6293449402
           ],
           "legendgroup": "",
           "lon": [
            -122.0354537964
           ],
           "marker": {
            "color": [
             12
            ],
            "coloraxis": "coloraxis"
           },
           "mode": "markers",
           "name": "",
           "showlegend": false,
           "subplot": "mapbox",
           "type": "scattermapbox"
          }
         ],
         "name": "1610470390"
        },
        {
         "data": [
          {
           "hovertemplate": "locationtime=1610470434<br>lat=%{lat}<br>lon=%{lon}<br>shingle_id=%{marker.color}<extra></extra>",
           "ids": [
            12
           ],
           "lat": [
            47.6364212036
           ],
           "legendgroup": "",
           "lon": [
            -122.0432357788
           ],
           "marker": {
            "color": [
             12
            ],
            "coloraxis": "coloraxis"
           },
           "mode": "markers",
           "name": "",
           "showlegend": false,
           "subplot": "mapbox",
           "type": "scattermapbox"
          }
         ],
         "name": "1610470434"
        },
        {
         "data": [
          {
           "hovertemplate": "locationtime=1610470487<br>lat=%{lat}<br>lon=%{lon}<br>shingle_id=%{marker.color}<extra></extra>",
           "ids": [
            12
           ],
           "lat": [
            47.6404762268
           ],
           "legendgroup": "",
           "lon": [
            -122.0543060303
           ],
           "marker": {
            "color": [
             12
            ],
            "coloraxis": "coloraxis"
           },
           "mode": "markers",
           "name": "",
           "showlegend": false,
           "subplot": "mapbox",
           "type": "scattermapbox"
          }
         ],
         "name": "1610470487"
        },
        {
         "data": [
          {
           "hovertemplate": "locationtime=1610468714<br>lat=%{lat}<br>lon=%{lon}<br>shingle_id=%{marker.color}<extra></extra>",
           "ids": [
            92
           ],
           "lat": [
            47.6521148682
           ],
           "legendgroup": "",
           "lon": [
            -122.1433410645
           ],
           "marker": {
            "color": [
             92
            ],
            "coloraxis": "coloraxis"
           },
           "mode": "markers",
           "name": "",
           "showlegend": false,
           "subplot": "mapbox",
           "type": "scattermapbox"
          }
         ],
         "name": "1610468714"
        },
        {
         "data": [
          {
           "hovertemplate": "locationtime=1610467068<br>lat=%{lat}<br>lon=%{lon}<br>shingle_id=%{marker.color}<extra></extra>",
           "ids": [
            469,
            469,
            469,
            469,
            469,
            469,
            469,
            469,
            469,
            469,
            469,
            469,
            469
           ],
           "lat": [
            47.6331596375,
            47.6331596375,
            47.6331596375,
            47.6331596375,
            47.6331596375,
            47.6331596375,
            47.6331596375,
            47.6331596375,
            47.6331596375,
            47.6331596375,
            47.6331596375,
            47.6331596375,
            47.6331596375
           ],
           "legendgroup": "",
           "lon": [
            -122.136177063,
            -122.136177063,
            -122.136177063,
            -122.136177063,
            -122.136177063,
            -122.136177063,
            -122.136177063,
            -122.136177063,
            -122.136177063,
            -122.136177063,
            -122.136177063,
            -122.136177063,
            -122.136177063
           ],
           "marker": {
            "color": [
             469,
             469,
             469,
             469,
             469,
             469,
             469,
             469,
             469,
             469,
             469,
             469,
             469
            ],
            "coloraxis": "coloraxis"
           },
           "mode": "markers",
           "name": "",
           "showlegend": false,
           "subplot": "mapbox",
           "type": "scattermapbox"
          }
         ],
         "name": "1610467068"
        },
        {
         "data": [
          {
           "hovertemplate": "locationtime=1610467080<br>lat=%{lat}<br>lon=%{lon}<br>shingle_id=%{marker.color}<extra></extra>",
           "ids": [
            469
           ],
           "lat": [
            47.6332778931
           ],
           "legendgroup": "",
           "lon": [
            -122.1373291016
           ],
           "marker": {
            "color": [
             469
            ],
            "coloraxis": "coloraxis"
           },
           "mode": "markers",
           "name": "",
           "showlegend": false,
           "subplot": "mapbox",
           "type": "scattermapbox"
          }
         ],
         "name": "1610467080"
        },
        {
         "data": [
          {
           "hovertemplate": "locationtime=1610467126<br>lat=%{lat}<br>lon=%{lon}<br>shingle_id=%{marker.color}<extra></extra>",
           "ids": [
            469
           ],
           "lat": [
            47.6332740784
           ],
           "legendgroup": "",
           "lon": [
            -122.1371917725
           ],
           "marker": {
            "color": [
             469
            ],
            "coloraxis": "coloraxis"
           },
           "mode": "markers",
           "name": "",
           "showlegend": false,
           "subplot": "mapbox",
           "type": "scattermapbox"
          }
         ],
         "name": "1610467126"
        },
        {
         "data": [
          {
           "hovertemplate": "locationtime=1610467230<br>lat=%{lat}<br>lon=%{lon}<br>shingle_id=%{marker.color}<extra></extra>",
           "ids": [
            469,
            469,
            469,
            469,
            469,
            469,
            469,
            469,
            469,
            469,
            469
           ],
           "lat": [
            47.6381530762,
            47.6381530762,
            47.6381530762,
            47.6381530762,
            47.6381530762,
            47.6381530762,
            47.6381530762,
            47.6381530762,
            47.6381530762,
            47.6381530762,
            47.6381530762
           ],
           "legendgroup": "",
           "lon": [
            -122.1328125,
            -122.1328125,
            -122.1328125,
            -122.1328125,
            -122.1328125,
            -122.1328125,
            -122.1328125,
            -122.1328125,
            -122.1328125,
            -122.1328125,
            -122.1328125
           ],
           "marker": {
            "color": [
             469,
             469,
             469,
             469,
             469,
             469,
             469,
             469,
             469,
             469,
             469
            ],
            "coloraxis": "coloraxis"
           },
           "mode": "markers",
           "name": "",
           "showlegend": false,
           "subplot": "mapbox",
           "type": "scattermapbox"
          }
         ],
         "name": "1610467230"
        },
        {
         "data": [
          {
           "hovertemplate": "locationtime=1610467351<br>lat=%{lat}<br>lon=%{lon}<br>shingle_id=%{marker.color}<extra></extra>",
           "ids": [
            469
           ],
           "lat": [
            47.6425132751
           ],
           "legendgroup": "",
           "lon": [
            -122.1283950806
           ],
           "marker": {
            "color": [
             469
            ],
            "coloraxis": "coloraxis"
           },
           "mode": "markers",
           "name": "",
           "showlegend": false,
           "subplot": "mapbox",
           "type": "scattermapbox"
          }
         ],
         "name": "1610467351"
        },
        {
         "data": [
          {
           "hovertemplate": "locationtime=1610467427<br>lat=%{lat}<br>lon=%{lon}<br>shingle_id=%{marker.color}<extra></extra>",
           "ids": [
            469
           ],
           "lat": [
            47.6381225586
           ],
           "legendgroup": "",
           "lon": [
            -122.1360702515
           ],
           "marker": {
            "color": [
             469
            ],
            "coloraxis": "coloraxis"
           },
           "mode": "markers",
           "name": "",
           "showlegend": false,
           "subplot": "mapbox",
           "type": "scattermapbox"
          }
         ],
         "name": "1610467427"
        },
        {
         "data": [
          {
           "hovertemplate": "locationtime=1610467593<br>lat=%{lat}<br>lon=%{lon}<br>shingle_id=%{marker.color}<extra></extra>",
           "ids": [
            469
           ],
           "lat": [
            47.6460494995
           ],
           "legendgroup": "",
           "lon": [
            -122.1316833496
           ],
           "marker": {
            "color": [
             469
            ],
            "coloraxis": "coloraxis"
           },
           "mode": "markers",
           "name": "",
           "showlegend": false,
           "subplot": "mapbox",
           "type": "scattermapbox"
          }
         ],
         "name": "1610467593"
        },
        {
         "data": [
          {
           "hovertemplate": "locationtime=1610467607<br>lat=%{lat}<br>lon=%{lon}<br>shingle_id=%{marker.color}<extra></extra>",
           "ids": [
            469
           ],
           "lat": [
            47.6460533142
           ],
           "legendgroup": "",
           "lon": [
            -122.1305541992
           ],
           "marker": {
            "color": [
             469
            ],
            "coloraxis": "coloraxis"
           },
           "mode": "markers",
           "name": "",
           "showlegend": false,
           "subplot": "mapbox",
           "type": "scattermapbox"
          }
         ],
         "name": "1610467607"
        },
        {
         "data": [
          {
           "hovertemplate": "locationtime=1610467693<br>lat=%{lat}<br>lon=%{lon}<br>shingle_id=%{marker.color}<extra></extra>",
           "ids": [
            469
           ],
           "lat": [
            47.6459541321
           ],
           "legendgroup": "",
           "lon": [
            -122.1410675049
           ],
           "marker": {
            "color": [
             469
            ],
            "coloraxis": "coloraxis"
           },
           "mode": "markers",
           "name": "",
           "showlegend": false,
           "subplot": "mapbox",
           "type": "scattermapbox"
          }
         ],
         "name": "1610467693"
        },
        {
         "data": [
          {
           "hovertemplate": "locationtime=1610467788<br>lat=%{lat}<br>lon=%{lon}<br>shingle_id=%{marker.color}<extra></extra>",
           "ids": [
            469
           ],
           "lat": [
            47.65259552
           ],
           "legendgroup": "",
           "lon": [
            -122.1431884766
           ],
           "marker": {
            "color": [
             469
            ],
            "coloraxis": "coloraxis"
           },
           "mode": "markers",
           "name": "",
           "showlegend": false,
           "subplot": "mapbox",
           "type": "scattermapbox"
          }
         ],
         "name": "1610467788"
        },
        {
         "data": [
          {
           "hovertemplate": "locationtime=1610468271<br>lat=%{lat}<br>lon=%{lon}<br>shingle_id=%{marker.color}<extra></extra>",
           "ids": [
            469
           ],
           "lat": [
            47.667301178
           ],
           "legendgroup": "",
           "lon": [
            -122.1001586914
           ],
           "marker": {
            "color": [
             469
            ],
            "coloraxis": "coloraxis"
           },
           "mode": "markers",
           "name": "",
           "showlegend": false,
           "subplot": "mapbox",
           "type": "scattermapbox"
          }
         ],
         "name": "1610468271"
        },
        {
         "data": [
          {
           "hovertemplate": "locationtime=1610468385<br>lat=%{lat}<br>lon=%{lon}<br>shingle_id=%{marker.color}<extra></extra>",
           "ids": [
            469
           ],
           "lat": [
            47.6639671326
           ],
           "legendgroup": "",
           "lon": [
            -122.0931243896
           ],
           "marker": {
            "color": [
             469
            ],
            "coloraxis": "coloraxis"
           },
           "mode": "markers",
           "name": "",
           "showlegend": false,
           "subplot": "mapbox",
           "type": "scattermapbox"
          }
         ],
         "name": "1610468385"
        },
        {
         "data": [
          {
           "hovertemplate": "locationtime=1610468513<br>lat=%{lat}<br>lon=%{lon}<br>shingle_id=%{marker.color}<extra></extra>",
           "ids": [
            469
           ],
           "lat": [
            47.6579780579
           ],
           "legendgroup": "",
           "lon": [
            -122.0879516602
           ],
           "marker": {
            "color": [
             469
            ],
            "coloraxis": "coloraxis"
           },
           "mode": "markers",
           "name": "",
           "showlegend": false,
           "subplot": "mapbox",
           "type": "scattermapbox"
          }
         ],
         "name": "1610468513"
        },
        {
         "data": [
          {
           "hovertemplate": "locationtime=1610468543<br>lat=%{lat}<br>lon=%{lon}<br>shingle_id=%{marker.color}<extra></extra>",
           "ids": [
            469
           ],
           "lat": [
            47.6579666138
           ],
           "legendgroup": "",
           "lon": [
            -122.0879592896
           ],
           "marker": {
            "color": [
             469
            ],
            "coloraxis": "coloraxis"
           },
           "mode": "markers",
           "name": "",
           "showlegend": false,
           "subplot": "mapbox",
           "type": "scattermapbox"
          }
         ],
         "name": "1610468543"
        },
        {
         "data": [
          {
           "hovertemplate": "locationtime=1610468638<br>lat=%{lat}<br>lon=%{lon}<br>shingle_id=%{marker.color}<extra></extra>",
           "ids": [
            470
           ],
           "lat": [
            47.6558227539
           ],
           "legendgroup": "",
           "lon": [
            -122.0715255737
           ],
           "marker": {
            "color": [
             470
            ],
            "coloraxis": "coloraxis"
           },
           "mode": "markers",
           "name": "",
           "showlegend": false,
           "subplot": "mapbox",
           "type": "scattermapbox"
          }
         ],
         "name": "1610468638"
        },
        {
         "data": [
          {
           "hovertemplate": "locationtime=1610468694<br>lat=%{lat}<br>lon=%{lon}<br>shingle_id=%{marker.color}<extra></extra>",
           "ids": [
            470
           ],
           "lat": [
            47.654914856
           ],
           "legendgroup": "",
           "lon": [
            -122.0625991821
           ],
           "marker": {
            "color": [
             470
            ],
            "coloraxis": "coloraxis"
           },
           "mode": "markers",
           "name": "",
           "showlegend": false,
           "subplot": "mapbox",
           "type": "scattermapbox"
          }
         ],
         "name": "1610468694"
        },
        {
         "data": [
          {
           "hovertemplate": "locationtime=1610468754<br>lat=%{lat}<br>lon=%{lon}<br>shingle_id=%{marker.color}<extra></extra>",
           "ids": [
            470
           ],
           "lat": [
            47.649017334
           ],
           "legendgroup": "",
           "lon": [
            -122.0557556152
           ],
           "marker": {
            "color": [
             470
            ],
            "coloraxis": "coloraxis"
           },
           "mode": "markers",
           "name": "",
           "showlegend": false,
           "subplot": "mapbox",
           "type": "scattermapbox"
          }
         ],
         "name": "1610468754"
        },
        {
         "data": [
          {
           "hovertemplate": "locationtime=1610468804<br>lat=%{lat}<br>lon=%{lon}<br>shingle_id=%{marker.color}<extra></extra>",
           "ids": [
            470
           ],
           "lat": [
            47.643737793
           ],
           "legendgroup": "",
           "lon": [
            -122.0563049316
           ],
           "marker": {
            "color": [
             470
            ],
            "coloraxis": "coloraxis"
           },
           "mode": "markers",
           "name": "",
           "showlegend": false,
           "subplot": "mapbox",
           "type": "scattermapbox"
          }
         ],
         "name": "1610468804"
        },
        {
         "data": [
          {
           "hovertemplate": "locationtime=1610467184<br>lat=%{lat}<br>lon=%{lon}<br>shingle_id=%{marker.color}<extra></extra>",
           "ids": [
            529
           ],
           "lat": [
            47.6514854431
           ],
           "legendgroup": "",
           "lon": [
            -122.1433105469
           ],
           "marker": {
            "color": [
             529
            ],
            "coloraxis": "coloraxis"
           },
           "mode": "markers",
           "name": "",
           "showlegend": false,
           "subplot": "mapbox",
           "type": "scattermapbox"
          }
         ],
         "name": "1610467184"
        },
        {
         "data": [
          {
           "hovertemplate": "locationtime=1610470508<br>lat=%{lat}<br>lon=%{lon}<br>shingle_id=%{marker.color}<extra></extra>",
           "ids": [
            549
           ],
           "lat": [
            47.6518707275
           ],
           "legendgroup": "",
           "lon": [
            -122.1433258057
           ],
           "marker": {
            "color": [
             549
            ],
            "coloraxis": "coloraxis"
           },
           "mode": "markers",
           "name": "",
           "showlegend": false,
           "subplot": "mapbox",
           "type": "scattermapbox"
          }
         ],
         "name": "1610470508"
        },
        {
         "data": [
          {
           "hovertemplate": "locationtime=1610469385<br>lat=%{lat}<br>lon=%{lon}<br>shingle_id=%{marker.color}<extra></extra>",
           "ids": [
            709
           ],
           "lat": [
            47.6462211609
           ],
           "legendgroup": "",
           "lon": [
            -122.1322860718
           ],
           "marker": {
            "color": [
             709
            ],
            "coloraxis": "coloraxis"
           },
           "mode": "markers",
           "name": "",
           "showlegend": false,
           "subplot": "mapbox",
           "type": "scattermapbox"
          }
         ],
         "name": "1610469385"
        },
        {
         "data": [
          {
           "hovertemplate": "locationtime=1610468651<br>lat=%{lat}<br>lon=%{lon}<br>shingle_id=%{marker.color}<extra></extra>",
           "ids": [
            748
           ],
           "lat": [
            47.6460494995
           ],
           "legendgroup": "",
           "lon": [
            -122.1322860718
           ],
           "marker": {
            "color": [
             748
            ],
            "coloraxis": "coloraxis"
           },
           "mode": "markers",
           "name": "",
           "showlegend": false,
           "subplot": "mapbox",
           "type": "scattermapbox"
          }
         ],
         "name": "1610468651"
        },
        {
         "data": [
          {
           "hovertemplate": "locationtime=1610469173<br>lat=%{lat}<br>lon=%{lon}<br>shingle_id=%{marker.color}<extra></extra>",
           "ids": [
            768
           ],
           "lat": [
            47.6458702087
           ],
           "legendgroup": "",
           "lon": [
            -122.1322860718
           ],
           "marker": {
            "color": [
             768
            ],
            "coloraxis": "coloraxis"
           },
           "mode": "markers",
           "name": "",
           "showlegend": false,
           "subplot": "mapbox",
           "type": "scattermapbox"
          }
         ],
         "name": "1610469173"
        },
        {
         "data": [
          {
           "hovertemplate": "locationtime=1610469945<br>lat=%{lat}<br>lon=%{lon}<br>shingle_id=%{marker.color}<extra></extra>",
           "ids": [
            770
           ],
           "lat": [
            47.6457633972
           ],
           "legendgroup": "",
           "lon": [
            -122.1322860718
           ],
           "marker": {
            "color": [
             770
            ],
            "coloraxis": "coloraxis"
           },
           "mode": "markers",
           "name": "",
           "showlegend": false,
           "subplot": "mapbox",
           "type": "scattermapbox"
          }
         ],
         "name": "1610469945"
        },
        {
         "data": [
          {
           "hovertemplate": "locationtime=1610467970<br>lat=%{lat}<br>lon=%{lon}<br>shingle_id=%{marker.color}<extra></extra>",
           "ids": [
            793,
            1822
           ],
           "lat": [
            47.6459121704,
            47.6526069641
           ],
           "legendgroup": "",
           "lon": [
            -122.1322860718,
            -122.1431884766
           ],
           "marker": {
            "color": [
             793,
             1822
            ],
            "coloraxis": "coloraxis"
           },
           "mode": "markers",
           "name": "",
           "showlegend": false,
           "subplot": "mapbox",
           "type": "scattermapbox"
          }
         ],
         "name": "1610467970"
        },
        {
         "data": [
          {
           "hovertemplate": "locationtime=1610467448<br>lat=%{lat}<br>lon=%{lon}<br>shingle_id=%{marker.color}<extra></extra>",
           "ids": [
            801
           ],
           "lat": [
            47.6460342407
           ],
           "legendgroup": "",
           "lon": [
            -122.1322860718
           ],
           "marker": {
            "color": [
             801
            ],
            "coloraxis": "coloraxis"
           },
           "mode": "markers",
           "name": "",
           "showlegend": false,
           "subplot": "mapbox",
           "type": "scattermapbox"
          }
         ],
         "name": "1610467448"
        },
        {
         "data": [
          {
           "hovertemplate": "locationtime=1610469811<br>lat=%{lat}<br>lon=%{lon}<br>shingle_id=%{marker.color}<extra></extra>",
           "ids": [
            1145
           ],
           "lat": [
            47.6673278809
           ],
           "legendgroup": "",
           "lon": [
            -122.1001586914
           ],
           "marker": {
            "color": [
             1145
            ],
            "coloraxis": "coloraxis"
           },
           "mode": "markers",
           "name": "",
           "showlegend": false,
           "subplot": "mapbox",
           "type": "scattermapbox"
          }
         ],
         "name": "1610469811"
        },
        {
         "data": [
          {
           "hovertemplate": "locationtime=1610469860<br>lat=%{lat}<br>lon=%{lon}<br>shingle_id=%{marker.color}<extra></extra>",
           "ids": [
            1145
           ],
           "lat": [
            47.66746521
           ],
           "legendgroup": "",
           "lon": [
            -122.0936889648
           ],
           "marker": {
            "color": [
             1145
            ],
            "coloraxis": "coloraxis"
           },
           "mode": "markers",
           "name": "",
           "showlegend": false,
           "subplot": "mapbox",
           "type": "scattermapbox"
          }
         ],
         "name": "1610469860"
        },
        {
         "data": [
          {
           "hovertemplate": "locationtime=1610469908<br>lat=%{lat}<br>lon=%{lon}<br>shingle_id=%{marker.color}<extra></extra>",
           "ids": [
            1145
           ],
           "lat": [
            47.6639671326
           ],
           "legendgroup": "",
           "lon": [
            -122.0925445557
           ],
           "marker": {
            "color": [
             1145
            ],
            "coloraxis": "coloraxis"
           },
           "mode": "markers",
           "name": "",
           "showlegend": false,
           "subplot": "mapbox",
           "type": "scattermapbox"
          }
         ],
         "name": "1610469908"
        },
        {
         "data": [
          {
           "hovertemplate": "locationtime=1610470012<br>lat=%{lat}<br>lon=%{lon}<br>shingle_id=%{marker.color}<extra></extra>",
           "ids": [
            1145
           ],
           "lat": [
            47.6579017639
           ],
           "legendgroup": "",
           "lon": [
            -122.0879898071
           ],
           "marker": {
            "color": [
             1145
            ],
            "coloraxis": "coloraxis"
           },
           "mode": "markers",
           "name": "",
           "showlegend": false,
           "subplot": "mapbox",
           "type": "scattermapbox"
          }
         ],
         "name": "1610470012"
        },
        {
         "data": [
          {
           "hovertemplate": "locationtime=1610470136<br>lat=%{lat}<br>lon=%{lon}<br>shingle_id=%{marker.color}<extra></extra>",
           "ids": [
            1145
           ],
           "lat": [
            47.6549301147
           ],
           "legendgroup": "",
           "lon": [
            -122.0626068115
           ],
           "marker": {
            "color": [
             1145
            ],
            "coloraxis": "coloraxis"
           },
           "mode": "markers",
           "name": "",
           "showlegend": false,
           "subplot": "mapbox",
           "type": "scattermapbox"
          }
         ],
         "name": "1610470136"
        },
        {
         "data": [
          {
           "hovertemplate": "locationtime=1610470196<br>lat=%{lat}<br>lon=%{lon}<br>shingle_id=%{marker.color}<extra></extra>",
           "ids": [
            1145
           ],
           "lat": [
            47.6488494873
           ],
           "legendgroup": "",
           "lon": [
            -122.0557556152
           ],
           "marker": {
            "color": [
             1145
            ],
            "coloraxis": "coloraxis"
           },
           "mode": "markers",
           "name": "",
           "showlegend": false,
           "subplot": "mapbox",
           "type": "scattermapbox"
          }
         ],
         "name": "1610470196"
        },
        {
         "data": [
          {
           "hovertemplate": "locationtime=1610470226<br>lat=%{lat}<br>lon=%{lon}<br>shingle_id=%{marker.color}<extra></extra>",
           "ids": [
            1145
           ],
           "lat": [
            47.6454048157
           ],
           "legendgroup": "",
           "lon": [
            -122.056388855
           ],
           "marker": {
            "color": [
             1145
            ],
            "coloraxis": "coloraxis"
           },
           "mode": "markers",
           "name": "",
           "showlegend": false,
           "subplot": "mapbox",
           "type": "scattermapbox"
          }
         ],
         "name": "1610470226"
        },
        {
         "data": [
          {
           "hovertemplate": "locationtime=1610470255<br>lat=%{lat}<br>lon=%{lon}<br>shingle_id=%{marker.color}<extra></extra>",
           "ids": [
            1145
           ],
           "lat": [
            47.6438140869
           ],
           "legendgroup": "",
           "lon": [
            -122.0563735962
           ],
           "marker": {
            "color": [
             1145
            ],
            "coloraxis": "coloraxis"
           },
           "mode": "markers",
           "name": "",
           "showlegend": false,
           "subplot": "mapbox",
           "type": "scattermapbox"
          }
         ],
         "name": "1610470255"
        },
        {
         "data": [
          {
           "hovertemplate": "locationtime=1610470391<br>lat=%{lat}<br>lon=%{lon}<br>shingle_id=%{marker.color}<extra></extra>",
           "ids": [
            1146
           ],
           "lat": [
            47.6293296814
           ],
           "legendgroup": "",
           "lon": [
            -122.0354537964
           ],
           "marker": {
            "color": [
             1146
            ],
            "coloraxis": "coloraxis"
           },
           "mode": "markers",
           "name": "",
           "showlegend": false,
           "subplot": "mapbox",
           "type": "scattermapbox"
          }
         ],
         "name": "1610470391"
        },
        {
         "data": [
          {
           "hovertemplate": "locationtime=1610468759<br>lat=%{lat}<br>lon=%{lon}<br>shingle_id=%{marker.color}<extra></extra>",
           "ids": [
            1558
           ],
           "lat": [
            47.6381530762
           ],
           "legendgroup": "",
           "lon": [
            -122.1355743408
           ],
           "marker": {
            "color": [
             1558
            ],
            "coloraxis": "coloraxis"
           },
           "mode": "markers",
           "name": "",
           "showlegend": false,
           "subplot": "mapbox",
           "type": "scattermapbox"
          }
         ],
         "name": "1610468759"
        },
        {
         "data": [
          {
           "hovertemplate": "locationtime=1610468809<br>lat=%{lat}<br>lon=%{lon}<br>shingle_id=%{marker.color}<extra></extra>",
           "ids": [
            1558
           ],
           "lat": [
            47.6380615234
           ],
           "legendgroup": "",
           "lon": [
            -122.1361541748
           ],
           "marker": {
            "color": [
             1558
            ],
            "coloraxis": "coloraxis"
           },
           "mode": "markers",
           "name": "",
           "showlegend": false,
           "subplot": "mapbox",
           "type": "scattermapbox"
          }
         ],
         "name": "1610468809"
        },
        {
         "data": [
          {
           "hovertemplate": "locationtime=1610469012<br>lat=%{lat}<br>lon=%{lon}<br>shingle_id=%{marker.color}<extra></extra>",
           "ids": [
            1558
           ],
           "lat": [
            47.6459770203
           ],
           "legendgroup": "",
           "lon": [
            -122.1386489868
           ],
           "marker": {
            "color": [
             1558
            ],
            "coloraxis": "coloraxis"
           },
           "mode": "markers",
           "name": "",
           "showlegend": false,
           "subplot": "mapbox",
           "type": "scattermapbox"
          }
         ],
         "name": "1610469012"
        },
        {
         "data": [
          {
           "hovertemplate": "locationtime=1610469104<br>lat=%{lat}<br>lon=%{lon}<br>shingle_id=%{marker.color}<extra></extra>",
           "ids": [
            1558
           ],
           "lat": [
            47.652633667
           ],
           "legendgroup": "",
           "lon": [
            -122.1431884766
           ],
           "marker": {
            "color": [
             1558
            ],
            "coloraxis": "coloraxis"
           },
           "mode": "markers",
           "name": "",
           "showlegend": false,
           "subplot": "mapbox",
           "type": "scattermapbox"
          }
         ],
         "name": "1610469104"
        },
        {
         "data": [
          {
           "hovertemplate": "locationtime=1610470234<br>lat=%{lat}<br>lon=%{lon}<br>shingle_id=%{marker.color}<extra></extra>",
           "ids": [
            1561
           ],
           "lat": [
            47.6381492615
           ],
           "legendgroup": "",
           "lon": [
            -122.1354598999
           ],
           "marker": {
            "color": [
             1561
            ],
            "coloraxis": "coloraxis"
           },
           "mode": "markers",
           "name": "",
           "showlegend": false,
           "subplot": "mapbox",
           "type": "scattermapbox"
          }
         ],
         "name": "1610470234"
        },
        {
         "data": [
          {
           "hovertemplate": "locationtime=1610470310<br>lat=%{lat}<br>lon=%{lon}<br>shingle_id=%{marker.color}<extra></extra>",
           "ids": [
            1561
           ],
           "lat": [
            47.6380691528
           ],
           "legendgroup": "",
           "lon": [
            -122.1361465454
           ],
           "marker": {
            "color": [
             1561
            ],
            "coloraxis": "coloraxis"
           },
           "mode": "markers",
           "name": "",
           "showlegend": false,
           "subplot": "mapbox",
           "type": "scattermapbox"
          }
         ],
         "name": "1610470310"
        },
        {
         "data": [
          {
           "hovertemplate": "locationtime=1610470449<br>lat=%{lat}<br>lon=%{lon}<br>shingle_id=%{marker.color}<extra></extra>",
           "ids": [
            1561
           ],
           "lat": [
            47.6459999084
           ],
           "legendgroup": "",
           "lon": [
            -122.1368255615
           ],
           "marker": {
            "color": [
             1561
            ],
            "coloraxis": "coloraxis"
           },
           "mode": "markers",
           "name": "",
           "showlegend": false,
           "subplot": "mapbox",
           "type": "scattermapbox"
          }
         ],
         "name": "1610470449"
        },
        {
         "data": [
          {
           "hovertemplate": "locationtime=1610470509<br>lat=%{lat}<br>lon=%{lon}<br>shingle_id=%{marker.color}<extra></extra>",
           "ids": [
            1561
           ],
           "lat": [
            47.6459884644
           ],
           "legendgroup": "",
           "lon": [
            -122.137802124
           ],
           "marker": {
            "color": [
             1561
            ],
            "coloraxis": "coloraxis"
           },
           "mode": "markers",
           "name": "",
           "showlegend": false,
           "subplot": "mapbox",
           "type": "scattermapbox"
          }
         ],
         "name": "1610470509"
        },
        {
         "data": [
          {
           "hovertemplate": "locationtime=1610469249<br>lat=%{lat}<br>lon=%{lon}<br>shingle_id=%{marker.color}<extra></extra>",
           "ids": [
            1581
           ],
           "lat": [
            47.6514472961
           ],
           "legendgroup": "",
           "lon": [
            -122.1433029175
           ],
           "marker": {
            "color": [
             1581
            ],
            "coloraxis": "coloraxis"
           },
           "mode": "markers",
           "name": "",
           "showlegend": false,
           "subplot": "mapbox",
           "type": "scattermapbox"
          }
         ],
         "name": "1610469249"
        },
        {
         "data": [
          {
           "hovertemplate": "locationtime=1610469338<br>lat=%{lat}<br>lon=%{lon}<br>shingle_id=%{marker.color}<extra></extra>",
           "ids": [
            1582
           ],
           "lat": [
            47.6459617615
           ],
           "legendgroup": "",
           "lon": [
            -122.1402740479
           ],
           "marker": {
            "color": [
             1582
            ],
            "coloraxis": "coloraxis"
           },
           "mode": "markers",
           "name": "",
           "showlegend": false,
           "subplot": "mapbox",
           "type": "scattermapbox"
          }
         ],
         "name": "1610469338"
        },
        {
         "data": [
          {
           "hovertemplate": "locationtime=1610469481<br>lat=%{lat}<br>lon=%{lon}<br>shingle_id=%{marker.color}<extra></extra>",
           "ids": [
            1582
           ],
           "lat": [
            47.6459884644
           ],
           "legendgroup": "",
           "lon": [
            -122.1377105713
           ],
           "marker": {
            "color": [
             1582
            ],
            "coloraxis": "coloraxis"
           },
           "mode": "markers",
           "name": "",
           "showlegend": false,
           "subplot": "mapbox",
           "type": "scattermapbox"
          }
         ],
         "name": "1610469481"
        },
        {
         "data": [
          {
           "hovertemplate": "locationtime=1610469599<br>lat=%{lat}<br>lon=%{lon}<br>shingle_id=%{marker.color}<extra></extra>",
           "ids": [
            1582,
            1582,
            1582,
            1582,
            1582,
            1582,
            1582,
            1582,
            1582,
            1582,
            1582
           ],
           "lat": [
            47.6381568909,
            47.6381568909,
            47.6381568909,
            47.6381568909,
            47.6381568909,
            47.6381568909,
            47.6381568909,
            47.6381568909,
            47.6381568909,
            47.6381568909,
            47.6381568909
           ],
           "legendgroup": "",
           "lon": [
            -122.1323547363,
            -122.1323547363,
            -122.1323547363,
            -122.1323547363,
            -122.1323547363,
            -122.1323547363,
            -122.1323547363,
            -122.1323547363,
            -122.1323547363,
            -122.1323547363,
            -122.1323547363
           ],
           "marker": {
            "color": [
             1582,
             1582,
             1582,
             1582,
             1582,
             1582,
             1582,
             1582,
             1582,
             1582,
             1582
            ],
            "coloraxis": "coloraxis"
           },
           "mode": "markers",
           "name": "",
           "showlegend": false,
           "subplot": "mapbox",
           "type": "scattermapbox"
          }
         ],
         "name": "1610469599"
        },
        {
         "data": [
          {
           "hovertemplate": "locationtime=1610469676<br>lat=%{lat}<br>lon=%{lon}<br>shingle_id=%{marker.color}<extra></extra>",
           "ids": [
            1582
           ],
           "lat": [
            47.635471344
           ],
           "legendgroup": "",
           "lon": [
            -122.1376800537
           ],
           "marker": {
            "color": [
             1582
            ],
            "coloraxis": "coloraxis"
           },
           "mode": "markers",
           "name": "",
           "showlegend": false,
           "subplot": "mapbox",
           "type": "scattermapbox"
          }
         ],
         "name": "1610469676"
        },
        {
         "data": [
          {
           "hovertemplate": "locationtime=1610469765<br>lat=%{lat}<br>lon=%{lon}<br>shingle_id=%{marker.color}<extra></extra>",
           "ids": [
            1582,
            1582,
            1582,
            1582,
            1582,
            1582,
            1582,
            1582,
            1582,
            1582,
            1582
           ],
           "lat": [
            47.6315612793,
            47.6315612793,
            47.6315612793,
            47.6315612793,
            47.6315612793,
            47.6315612793,
            47.6315612793,
            47.6315612793,
            47.6315612793,
            47.6315612793,
            47.6315612793
           ],
           "legendgroup": "",
           "lon": [
            -122.1365356445,
            -122.1365356445,
            -122.1365356445,
            -122.1365356445,
            -122.1365356445,
            -122.1365356445,
            -122.1365356445,
            -122.1365356445,
            -122.1365356445,
            -122.1365356445,
            -122.1365356445
           ],
           "marker": {
            "color": [
             1582,
             1582,
             1582,
             1582,
             1582,
             1582,
             1582,
             1582,
             1582,
             1582,
             1582
            ],
            "coloraxis": "coloraxis"
           },
           "mode": "markers",
           "name": "",
           "showlegend": false,
           "subplot": "mapbox",
           "type": "scattermapbox"
          }
         ],
         "name": "1610469765"
        },
        {
         "data": [
          {
           "hovertemplate": "locationtime=1610468141<br>lat=%{lat}<br>lon=%{lon}<br>shingle_id=%{marker.color}<extra></extra>",
           "ids": [
            1613
           ],
           "lat": [
            47.6518440247
           ],
           "legendgroup": "",
           "lon": [
            -122.1433258057
           ],
           "marker": {
            "color": [
             1613
            ],
            "coloraxis": "coloraxis"
           },
           "mode": "markers",
           "name": "",
           "showlegend": false,
           "subplot": "mapbox",
           "type": "scattermapbox"
          }
         ],
         "name": "1610468141"
        },
        {
         "data": [
          {
           "hovertemplate": "locationtime=1610468231<br>lat=%{lat}<br>lon=%{lon}<br>shingle_id=%{marker.color}<extra></extra>",
           "ids": [
            1613
           ],
           "lat": [
            47.6459922791
           ],
           "legendgroup": "",
           "lon": [
            -122.1376800537
           ],
           "marker": {
            "color": [
             1613
            ],
            "coloraxis": "coloraxis"
           },
           "mode": "markers",
           "name": "",
           "showlegend": false,
           "subplot": "mapbox",
           "type": "scattermapbox"
          }
         ],
         "name": "1610468231"
        },
        {
         "data": [
          {
           "hovertemplate": "locationtime=1610468346<br>lat=%{lat}<br>lon=%{lon}<br>shingle_id=%{marker.color}<extra></extra>",
           "ids": [
            1613,
            1613,
            1613,
            1613,
            1613,
            1613,
            1613,
            1613,
            1613,
            1613,
            1613
           ],
           "lat": [
            47.6381492615,
            47.6381492615,
            47.6381492615,
            47.6381492615,
            47.6381492615,
            47.6381492615,
            47.6381492615,
            47.6381492615,
            47.6381492615,
            47.6381492615,
            47.6381492615
           ],
           "legendgroup": "",
           "lon": [
            -122.1340026855,
            -122.1340026855,
            -122.1340026855,
            -122.1340026855,
            -122.1340026855,
            -122.1340026855,
            -122.1340026855,
            -122.1340026855,
            -122.1340026855,
            -122.1340026855,
            -122.1340026855
           ],
           "marker": {
            "color": [
             1613,
             1613,
             1613,
             1613,
             1613,
             1613,
             1613,
             1613,
             1613,
             1613,
             1613
            ],
            "coloraxis": "coloraxis"
           },
           "mode": "markers",
           "name": "",
           "showlegend": false,
           "subplot": "mapbox",
           "type": "scattermapbox"
          }
         ],
         "name": "1610468346"
        },
        {
         "data": [
          {
           "hovertemplate": "locationtime=1610468376<br>lat=%{lat}<br>lon=%{lon}<br>shingle_id=%{marker.color}<extra></extra>",
           "ids": [
            1613
           ],
           "lat": [
            47.6381225586
           ],
           "legendgroup": "",
           "lon": [
            -122.1360702515
           ],
           "marker": {
            "color": [
             1613
            ],
            "coloraxis": "coloraxis"
           },
           "mode": "markers",
           "name": "",
           "showlegend": false,
           "subplot": "mapbox",
           "type": "scattermapbox"
          }
         ],
         "name": "1610468376"
        },
        {
         "data": [
          {
           "hovertemplate": "locationtime=1610469707<br>lat=%{lat}<br>lon=%{lon}<br>shingle_id=%{marker.color}<extra></extra>",
           "ids": [
            1634
           ],
           "lat": [
            47.6381492615
           ],
           "legendgroup": "",
           "lon": [
            -122.1354598999
           ],
           "marker": {
            "color": [
             1634
            ],
            "coloraxis": "coloraxis"
           },
           "mode": "markers",
           "name": "",
           "showlegend": false,
           "subplot": "mapbox",
           "type": "scattermapbox"
          }
         ],
         "name": "1610469707"
        },
        {
         "data": [
          {
           "hovertemplate": "locationtime=1610469736<br>lat=%{lat}<br>lon=%{lon}<br>shingle_id=%{marker.color}<extra></extra>",
           "ids": [
            1635,
            1635,
            1635,
            1635,
            1635,
            1635,
            1635,
            1635,
            1635,
            1635,
            1635
           ],
           "lat": [
            47.6381530762,
            47.6381530762,
            47.6381530762,
            47.6381530762,
            47.6381530762,
            47.6381530762,
            47.6381530762,
            47.6381530762,
            47.6381530762,
            47.6381530762,
            47.6381530762
           ],
           "legendgroup": "",
           "lon": [
            -122.1327209473,
            -122.1327209473,
            -122.1327209473,
            -122.1327209473,
            -122.1327209473,
            -122.1327209473,
            -122.1327209473,
            -122.1327209473,
            -122.1327209473,
            -122.1327209473,
            -122.1327209473
           ],
           "marker": {
            "color": [
             1635,
             1635,
             1635,
             1635,
             1635,
             1635,
             1635,
             1635,
             1635,
             1635,
             1635
            ],
            "coloraxis": "coloraxis"
           },
           "mode": "markers",
           "name": "",
           "showlegend": false,
           "subplot": "mapbox",
           "type": "scattermapbox"
          }
         ],
         "name": "1610469736"
        },
        {
         "data": [
          {
           "hovertemplate": "locationtime=1610469988<br>lat=%{lat}<br>lon=%{lon}<br>shingle_id=%{marker.color}<extra></extra>",
           "ids": [
            1635
           ],
           "lat": [
            47.6457061768
           ],
           "legendgroup": "",
           "lon": [
            -122.1322860718
           ],
           "marker": {
            "color": [
             1635
            ],
            "coloraxis": "coloraxis"
           },
           "mode": "markers",
           "name": "",
           "showlegend": false,
           "subplot": "mapbox",
           "type": "scattermapbox"
          }
         ],
         "name": "1610469988"
        },
        {
         "data": [
          {
           "hovertemplate": "locationtime=1610470119<br>lat=%{lat}<br>lon=%{lon}<br>shingle_id=%{marker.color}<extra></extra>",
           "ids": [
            1635
           ],
           "lat": [
            47.6459884644
           ],
           "legendgroup": "",
           "lon": [
            -122.1378097534
           ],
           "marker": {
            "color": [
             1635
            ],
            "coloraxis": "coloraxis"
           },
           "mode": "markers",
           "name": "",
           "showlegend": false,
           "subplot": "mapbox",
           "type": "scattermapbox"
          }
         ],
         "name": "1610470119"
        },
        {
         "data": [
          {
           "hovertemplate": "locationtime=1610467385<br>lat=%{lat}<br>lon=%{lon}<br>shingle_id=%{marker.color}<extra></extra>",
           "ids": [
            1645
           ],
           "lat": [
            47.6364402771
           ],
           "legendgroup": "",
           "lon": [
            -122.1376724243
           ],
           "marker": {
            "color": [
             1645
            ],
            "coloraxis": "coloraxis"
           },
           "mode": "markers",
           "name": "",
           "showlegend": false,
           "subplot": "mapbox",
           "type": "scattermapbox"
          }
         ],
         "name": "1610467385"
        },
        {
         "data": [
          {
           "hovertemplate": "locationtime=1610467426<br>lat=%{lat}<br>lon=%{lon}<br>shingle_id=%{marker.color}<extra></extra>",
           "ids": [
            1645
           ],
           "lat": [
            47.6381454468
           ],
           "legendgroup": "",
           "lon": [
            -122.1355361938
           ],
           "marker": {
            "color": [
             1645
            ],
            "coloraxis": "coloraxis"
           },
           "mode": "markers",
           "name": "",
           "showlegend": false,
           "subplot": "mapbox",
           "type": "scattermapbox"
          }
         ],
         "name": "1610467426"
        },
        {
         "data": [
          {
           "hovertemplate": "locationtime=1610467456<br>lat=%{lat}<br>lon=%{lon}<br>shingle_id=%{marker.color}<extra></extra>",
           "ids": [
            1645,
            1645,
            1645,
            1645,
            1645,
            1645,
            1645,
            1645,
            1645,
            1645,
            1645
           ],
           "lat": [
            47.6381530762,
            47.6381530762,
            47.6381530762,
            47.6381530762,
            47.6381530762,
            47.6381530762,
            47.6381530762,
            47.6381530762,
            47.6381530762,
            47.6381530762,
            47.6381530762
           ],
           "legendgroup": "",
           "lon": [
            -122.1325302124,
            -122.1325302124,
            -122.1325302124,
            -122.1325302124,
            -122.1325302124,
            -122.1325302124,
            -122.1325302124,
            -122.1325302124,
            -122.1325302124,
            -122.1325302124,
            -122.1325302124
           ],
           "marker": {
            "color": [
             1645,
             1645,
             1645,
             1645,
             1645,
             1645,
             1645,
             1645,
             1645,
             1645,
             1645
            ],
            "coloraxis": "coloraxis"
           },
           "mode": "markers",
           "name": "",
           "showlegend": false,
           "subplot": "mapbox",
           "type": "scattermapbox"
          }
         ],
         "name": "1610467456"
        },
        {
         "data": [
          {
           "hovertemplate": "locationtime=1610467577<br>lat=%{lat}<br>lon=%{lon}<br>shingle_id=%{marker.color}<extra></extra>",
           "ids": [
            1645
           ],
           "lat": [
            47.6457595825
           ],
           "legendgroup": "",
           "lon": [
            -122.1322860718
           ],
           "marker": {
            "color": [
             1645
            ],
            "coloraxis": "coloraxis"
           },
           "mode": "markers",
           "name": "",
           "showlegend": false,
           "subplot": "mapbox",
           "type": "scattermapbox"
          }
         ],
         "name": "1610467577"
        },
        {
         "data": [
          {
           "hovertemplate": "locationtime=1610467656<br>lat=%{lat}<br>lon=%{lon}<br>shingle_id=%{marker.color}<extra></extra>",
           "ids": [
            1645
           ],
           "lat": [
            47.6459884644
           ],
           "legendgroup": "",
           "lon": [
            -122.137878418
           ],
           "marker": {
            "color": [
             1645
            ],
            "coloraxis": "coloraxis"
           },
           "mode": "markers",
           "name": "",
           "showlegend": false,
           "subplot": "mapbox",
           "type": "scattermapbox"
          }
         ],
         "name": "1610467656"
        },
        {
         "data": [
          {
           "hovertemplate": "locationtime=1610467661<br>lat=%{lat}<br>lon=%{lon}<br>shingle_id=%{marker.color}<extra></extra>",
           "ids": [
            1645
           ],
           "lat": [
            47.6459884644
           ],
           "legendgroup": "",
           "lon": [
            -122.137802124
           ],
           "marker": {
            "color": [
             1645
            ],
            "coloraxis": "coloraxis"
           },
           "mode": "markers",
           "name": "",
           "showlegend": false,
           "subplot": "mapbox",
           "type": "scattermapbox"
          }
         ],
         "name": "1610467661"
        },
        {
         "data": [
          {
           "hovertemplate": "locationtime=1610467687<br>lat=%{lat}<br>lon=%{lon}<br>shingle_id=%{marker.color}<extra></extra>",
           "ids": [
            1645
           ],
           "lat": [
            47.6459617615
           ],
           "legendgroup": "",
           "lon": [
            -122.1402511597
           ],
           "marker": {
            "color": [
             1645
            ],
            "coloraxis": "coloraxis"
           },
           "mode": "markers",
           "name": "",
           "showlegend": false,
           "subplot": "mapbox",
           "type": "scattermapbox"
          }
         ],
         "name": "1610467687"
        },
        {
         "data": [
          {
           "hovertemplate": "locationtime=1610470389<br>lat=%{lat}<br>lon=%{lon}<br>shingle_id=%{marker.color}<extra></extra>",
           "ids": [
            1653
           ],
           "lat": [
            47.6513938904
           ],
           "legendgroup": "",
           "lon": [
            -122.1433029175
           ],
           "marker": {
            "color": [
             1653
            ],
            "coloraxis": "coloraxis"
           },
           "mode": "markers",
           "name": "",
           "showlegend": false,
           "subplot": "mapbox",
           "type": "scattermapbox"
          }
         ],
         "name": "1610470389"
        },
        {
         "data": [
          {
           "hovertemplate": "locationtime=1610470451<br>lat=%{lat}<br>lon=%{lon}<br>shingle_id=%{marker.color}<extra></extra>",
           "ids": [
            1653
           ],
           "lat": [
            47.6518440247
           ],
           "legendgroup": "",
           "lon": [
            -122.1433258057
           ],
           "marker": {
            "color": [
             1653
            ],
            "coloraxis": "coloraxis"
           },
           "mode": "markers",
           "name": "",
           "showlegend": false,
           "subplot": "mapbox",
           "type": "scattermapbox"
          }
         ],
         "name": "1610470451"
        },
        {
         "data": [
          {
           "hovertemplate": "locationtime=1610470504<br>lat=%{lat}<br>lon=%{lon}<br>shingle_id=%{marker.color}<extra></extra>",
           "ids": [
            1654
           ],
           "lat": [
            47.6459541321
           ],
           "legendgroup": "",
           "lon": [
            -122.141166687
           ],
           "marker": {
            "color": [
             1654
            ],
            "coloraxis": "coloraxis"
           },
           "mode": "markers",
           "name": "",
           "showlegend": false,
           "subplot": "mapbox",
           "type": "scattermapbox"
          }
         ],
         "name": "1610470504"
        },
        {
         "data": [
          {
           "hovertemplate": "locationtime=1610468729<br>lat=%{lat}<br>lon=%{lon}<br>shingle_id=%{marker.color}<extra></extra>",
           "ids": [
            1673
           ],
           "lat": [
            47.6514472961
           ],
           "legendgroup": "",
           "lon": [
            -122.1433029175
           ],
           "marker": {
            "color": [
             1673
            ],
            "coloraxis": "coloraxis"
           },
           "mode": "markers",
           "name": "",
           "showlegend": false,
           "subplot": "mapbox",
           "type": "scattermapbox"
          }
         ],
         "name": "1610468729"
        },
        {
         "data": [
          {
           "hovertemplate": "locationtime=1610468830<br>lat=%{lat}<br>lon=%{lon}<br>shingle_id=%{marker.color}<extra></extra>",
           "ids": [
            1673
           ],
           "lat": [
            47.6459541321
           ],
           "legendgroup": "",
           "lon": [
            -122.141166687
           ],
           "marker": {
            "color": [
             1673
            ],
            "coloraxis": "coloraxis"
           },
           "mode": "markers",
           "name": "",
           "showlegend": false,
           "subplot": "mapbox",
           "type": "scattermapbox"
          }
         ],
         "name": "1610468830"
        },
        {
         "data": [
          {
           "hovertemplate": "locationtime=1610468864<br>lat=%{lat}<br>lon=%{lon}<br>shingle_id=%{marker.color}<extra></extra>",
           "ids": [
            1673
           ],
           "lat": [
            47.6459999084
           ],
           "legendgroup": "",
           "lon": [
            -122.1370010376
           ],
           "marker": {
            "color": [
             1673
            ],
            "coloraxis": "coloraxis"
           },
           "mode": "markers",
           "name": "",
           "showlegend": false,
           "subplot": "mapbox",
           "type": "scattermapbox"
          }
         ],
         "name": "1610468864"
        },
        {
         "data": [
          {
           "hovertemplate": "locationtime=1610469106<br>lat=%{lat}<br>lon=%{lon}<br>shingle_id=%{marker.color}<extra></extra>",
           "ids": [
            1674
           ],
           "lat": [
            47.638217926
           ],
           "legendgroup": "",
           "lon": [
            -122.135848999
           ],
           "marker": {
            "color": [
             1674
            ],
            "coloraxis": "coloraxis"
           },
           "mode": "markers",
           "name": "",
           "showlegend": false,
           "subplot": "mapbox",
           "type": "scattermapbox"
          }
         ],
         "name": "1610469106"
        },
        {
         "data": [
          {
           "hovertemplate": "locationtime=1610469136<br>lat=%{lat}<br>lon=%{lon}<br>shingle_id=%{marker.color}<extra></extra>",
           "ids": [
            1674
           ],
           "lat": [
            47.6361808777
           ],
           "legendgroup": "",
           "lon": [
            -122.1376724243
           ],
           "marker": {
            "color": [
             1674
            ],
            "coloraxis": "coloraxis"
           },
           "mode": "markers",
           "name": "",
           "showlegend": false,
           "subplot": "mapbox",
           "type": "scattermapbox"
          }
         ],
         "name": "1610469136"
        },
        {
         "data": [
          {
           "hovertemplate": "locationtime=1610468873<br>lat=%{lat}<br>lon=%{lon}<br>shingle_id=%{marker.color}<extra></extra>",
           "ids": [
            1727,
            1727,
            1727,
            1727,
            1727,
            1727,
            1727,
            1727,
            1727,
            1727,
            1727
           ],
           "lat": [
            47.6381530762,
            47.6381530762,
            47.6381530762,
            47.6381530762,
            47.6381530762,
            47.6381530762,
            47.6381530762,
            47.6381530762,
            47.6381530762,
            47.6381530762,
            47.6381530762
           ],
           "legendgroup": "",
           "lon": [
            -122.1328125,
            -122.1328125,
            -122.1328125,
            -122.1328125,
            -122.1328125,
            -122.1328125,
            -122.1328125,
            -122.1328125,
            -122.1328125,
            -122.1328125,
            -122.1328125
           ],
           "marker": {
            "color": [
             1727,
             1727,
             1727,
             1727,
             1727,
             1727,
             1727,
             1727,
             1727,
             1727,
             1727
            ],
            "coloraxis": "coloraxis"
           },
           "mode": "markers",
           "name": "",
           "showlegend": false,
           "subplot": "mapbox",
           "type": "scattermapbox"
          }
         ],
         "name": "1610468873"
        },
        {
         "data": [
          {
           "hovertemplate": "locationtime=1610469326<br>lat=%{lat}<br>lon=%{lon}<br>shingle_id=%{marker.color}<extra></extra>",
           "ids": [
            1727
           ],
           "lat": [
            47.6459884644
           ],
           "legendgroup": "",
           "lon": [
            -122.137802124
           ],
           "marker": {
            "color": [
             1727
            ],
            "coloraxis": "coloraxis"
           },
           "mode": "markers",
           "name": "",
           "showlegend": false,
           "subplot": "mapbox",
           "type": "scattermapbox"
          }
         ],
         "name": "1610469326"
        },
        {
         "data": [
          {
           "hovertemplate": "locationtime=1610469397<br>lat=%{lat}<br>lon=%{lon}<br>shingle_id=%{marker.color}<extra></extra>",
           "ids": [
            1728
           ],
           "lat": [
            47.645942688
           ],
           "legendgroup": "",
           "lon": [
            -122.1421279907
           ],
           "marker": {
            "color": [
             1728
            ],
            "coloraxis": "coloraxis"
           },
           "mode": "markers",
           "name": "",
           "showlegend": false,
           "subplot": "mapbox",
           "type": "scattermapbox"
          }
         ],
         "name": "1610469397"
        },
        {
         "data": [
          {
           "hovertemplate": "locationtime=1610469429<br>lat=%{lat}<br>lon=%{lon}<br>shingle_id=%{marker.color}<extra></extra>",
           "ids": [
            1728
           ],
           "lat": [
            47.6459884644
           ],
           "legendgroup": "",
           "lon": [
            -122.1378555298
           ],
           "marker": {
            "color": [
             1728
            ],
            "coloraxis": "coloraxis"
           },
           "mode": "markers",
           "name": "",
           "showlegend": false,
           "subplot": "mapbox",
           "type": "scattermapbox"
          }
         ],
         "name": "1610469429"
        },
        {
         "data": [
          {
           "hovertemplate": "locationtime=1610469519<br>lat=%{lat}<br>lon=%{lon}<br>shingle_id=%{marker.color}<extra></extra>",
           "ids": [
            1728
           ],
           "lat": [
            47.6526069641
           ],
           "legendgroup": "",
           "lon": [
            -122.1431884766
           ],
           "marker": {
            "color": [
             1728
            ],
            "coloraxis": "coloraxis"
           },
           "mode": "markers",
           "name": "",
           "showlegend": false,
           "subplot": "mapbox",
           "type": "scattermapbox"
          }
         ],
         "name": "1610469519"
        },
        {
         "data": [
          {
           "hovertemplate": "locationtime=1610469608<br>lat=%{lat}<br>lon=%{lon}<br>shingle_id=%{marker.color}<extra></extra>",
           "ids": [
            1728
           ],
           "lat": [
            47.6526069641
           ],
           "legendgroup": "",
           "lon": [
            -122.1431884766
           ],
           "marker": {
            "color": [
             1728
            ],
            "coloraxis": "coloraxis"
           },
           "mode": "markers",
           "name": "",
           "showlegend": false,
           "subplot": "mapbox",
           "type": "scattermapbox"
          }
         ],
         "name": "1610469608"
        },
        {
         "data": [
          {
           "hovertemplate": "locationtime=1610469698<br>lat=%{lat}<br>lon=%{lon}<br>shingle_id=%{marker.color}<extra></extra>",
           "ids": [
            1728
           ],
           "lat": [
            47.6526069641
           ],
           "legendgroup": "",
           "lon": [
            -122.1431884766
           ],
           "marker": {
            "color": [
             1728
            ],
            "coloraxis": "coloraxis"
           },
           "mode": "markers",
           "name": "",
           "showlegend": false,
           "subplot": "mapbox",
           "type": "scattermapbox"
          }
         ],
         "name": "1610469698"
        },
        {
         "data": [
          {
           "hovertemplate": "locationtime=1610467178<br>lat=%{lat}<br>lon=%{lon}<br>shingle_id=%{marker.color}<extra></extra>",
           "ids": [
            1755
           ],
           "lat": [
            47.6518974304
           ],
           "legendgroup": "",
           "lon": [
            -122.1433258057
           ],
           "marker": {
            "color": [
             1755
            ],
            "coloraxis": "coloraxis"
           },
           "mode": "markers",
           "name": "",
           "showlegend": false,
           "subplot": "mapbox",
           "type": "scattermapbox"
          }
         ],
         "name": "1610467178"
        },
        {
         "data": [
          {
           "hovertemplate": "locationtime=1610467449<br>lat=%{lat}<br>lon=%{lon}<br>shingle_id=%{marker.color}<extra></extra>",
           "ids": [
            1755,
            1755,
            1755,
            1755,
            1755,
            1755,
            1755,
            1755,
            1755,
            1755,
            1755
           ],
           "lat": [
            47.6381492615,
            47.6381492615,
            47.6381492615,
            47.6381492615,
            47.6381492615,
            47.6381492615,
            47.6381492615,
            47.6381492615,
            47.6381492615,
            47.6381492615,
            47.6381492615
           ],
           "legendgroup": "",
           "lon": [
            -122.1332321167,
            -122.1332321167,
            -122.1332321167,
            -122.1332321167,
            -122.1332321167,
            -122.1332321167,
            -122.1332321167,
            -122.1332321167,
            -122.1332321167,
            -122.1332321167,
            -122.1332321167
           ],
           "marker": {
            "color": [
             1755,
             1755,
             1755,
             1755,
             1755,
             1755,
             1755,
             1755,
             1755,
             1755,
             1755
            ],
            "coloraxis": "coloraxis"
           },
           "mode": "markers",
           "name": "",
           "showlegend": false,
           "subplot": "mapbox",
           "type": "scattermapbox"
          }
         ],
         "name": "1610467449"
        },
        {
         "data": [
          {
           "hovertemplate": "locationtime=1610467554<br>lat=%{lat}<br>lon=%{lon}<br>shingle_id=%{marker.color}<extra></extra>",
           "ids": [
            1787
           ],
           "lat": [
            47.6459999084
           ],
           "legendgroup": "",
           "lon": [
            -122.1368255615
           ],
           "marker": {
            "color": [
             1787
            ],
            "coloraxis": "coloraxis"
           },
           "mode": "markers",
           "name": "",
           "showlegend": false,
           "subplot": "mapbox",
           "type": "scattermapbox"
          }
         ],
         "name": "1610467554"
        },
        {
         "data": [
          {
           "hovertemplate": "locationtime=1610467615<br>lat=%{lat}<br>lon=%{lon}<br>shingle_id=%{marker.color}<extra></extra>",
           "ids": [
            1787,
            1822
           ],
           "lat": [
            47.6459884644,
            47.6458854675
           ],
           "legendgroup": "",
           "lon": [
            -122.1377105713,
            -122.1322860718
           ],
           "marker": {
            "color": [
             1787,
             1822
            ],
            "coloraxis": "coloraxis"
           },
           "mode": "markers",
           "name": "",
           "showlegend": false,
           "subplot": "mapbox",
           "type": "scattermapbox"
          }
         ],
         "name": "1610467615"
        },
        {
         "data": [
          {
           "hovertemplate": "locationtime=1610467795<br>lat=%{lat}<br>lon=%{lon}<br>shingle_id=%{marker.color}<extra></extra>",
           "ids": [
            1787,
            1787,
            1787,
            1787,
            1787,
            1787,
            1787,
            1787,
            1787,
            1787,
            1787
           ],
           "lat": [
            47.6381492615,
            47.6381492615,
            47.6381492615,
            47.6381492615,
            47.6381492615,
            47.6381492615,
            47.6381492615,
            47.6381492615,
            47.6381492615,
            47.6381492615,
            47.6381492615
           ],
           "legendgroup": "",
           "lon": [
            -122.1332473755,
            -122.1332473755,
            -122.1332473755,
            -122.1332473755,
            -122.1332473755,
            -122.1332473755,
            -122.1332473755,
            -122.1332473755,
            -122.1332473755,
            -122.1332473755,
            -122.1332473755
           ],
           "marker": {
            "color": [
             1787,
             1787,
             1787,
             1787,
             1787,
             1787,
             1787,
             1787,
             1787,
             1787,
             1787
            ],
            "coloraxis": "coloraxis"
           },
           "mode": "markers",
           "name": "",
           "showlegend": false,
           "subplot": "mapbox",
           "type": "scattermapbox"
          }
         ],
         "name": "1610467795"
        },
        {
         "data": [
          {
           "hovertemplate": "locationtime=1610467831<br>lat=%{lat}<br>lon=%{lon}<br>shingle_id=%{marker.color}<extra></extra>",
           "ids": [
            1787
           ],
           "lat": [
            47.6356048584
           ],
           "legendgroup": "",
           "lon": [
            -122.1376800537
           ],
           "marker": {
            "color": [
             1787
            ],
            "coloraxis": "coloraxis"
           },
           "mode": "markers",
           "name": "",
           "showlegend": false,
           "subplot": "mapbox",
           "type": "scattermapbox"
          }
         ],
         "name": "1610467831"
        },
        {
         "data": [
          {
           "hovertemplate": "locationtime=1610467484<br>lat=%{lat}<br>lon=%{lon}<br>shingle_id=%{marker.color}<extra></extra>",
           "ids": [
            1821
           ],
           "lat": [
            47.637336731
           ],
           "legendgroup": "",
           "lon": [
            -122.1370773315
           ],
           "marker": {
            "color": [
             1821
            ],
            "coloraxis": "coloraxis"
           },
           "mode": "markers",
           "name": "",
           "showlegend": false,
           "subplot": "mapbox",
           "type": "scattermapbox"
          }
         ],
         "name": "1610467484"
        },
        {
         "data": [
          {
           "hovertemplate": "locationtime=1610467501<br>lat=%{lat}<br>lon=%{lon}<br>shingle_id=%{marker.color}<extra></extra>",
           "ids": [
            1822
           ],
           "lat": [
            47.6381454468
           ],
           "legendgroup": "",
           "lon": [
            -122.1354980469
           ],
           "marker": {
            "color": [
             1822
            ],
            "coloraxis": "coloraxis"
           },
           "mode": "markers",
           "name": "",
           "showlegend": false,
           "subplot": "mapbox",
           "type": "scattermapbox"
          }
         ],
         "name": "1610467501"
        },
        {
         "data": [
          {
           "hovertemplate": "locationtime=1610467747<br>lat=%{lat}<br>lon=%{lon}<br>shingle_id=%{marker.color}<extra></extra>",
           "ids": [
            1822
           ],
           "lat": [
            47.6459541321
           ],
           "legendgroup": "",
           "lon": [
            -122.1408920288
           ],
           "marker": {
            "color": [
             1822
            ],
            "coloraxis": "coloraxis"
           },
           "mode": "markers",
           "name": "",
           "showlegend": false,
           "subplot": "mapbox",
           "type": "scattermapbox"
          }
         ],
         "name": "1610467747"
        },
        {
         "data": [
          {
           "hovertemplate": "locationtime=1610467008<br>lat=%{lat}<br>lon=%{lon}<br>shingle_id=%{marker.color}<extra></extra>",
           "ids": [
            5532
           ],
           "lat": [
            47.6459922791
           ],
           "legendgroup": "",
           "lon": [
            -122.137512207
           ],
           "marker": {
            "color": [
             5532
            ],
            "coloraxis": "coloraxis"
           },
           "mode": "markers",
           "name": "",
           "showlegend": false,
           "subplot": "mapbox",
           "type": "scattermapbox"
          }
         ],
         "name": "1610467008"
        },
        {
         "data": [
          {
           "hovertemplate": "locationtime=1610467189<br>lat=%{lat}<br>lon=%{lon}<br>shingle_id=%{marker.color}<extra></extra>",
           "ids": [
            5532
           ],
           "lat": [
            47.6459922791
           ],
           "legendgroup": "",
           "lon": [
            -122.137512207
           ],
           "marker": {
            "color": [
             5532
            ],
            "coloraxis": "coloraxis"
           },
           "mode": "markers",
           "name": "",
           "showlegend": false,
           "subplot": "mapbox",
           "type": "scattermapbox"
          }
         ],
         "name": "1610467189"
        },
        {
         "data": [
          {
           "hovertemplate": "locationtime=1610468202<br>lat=%{lat}<br>lon=%{lon}<br>shingle_id=%{marker.color}<extra></extra>",
           "ids": [
            5534
           ],
           "lat": [
            47.6459884644
           ],
           "legendgroup": "",
           "lon": [
            -122.1376953125
           ],
           "marker": {
            "color": [
             5534
            ],
            "coloraxis": "coloraxis"
           },
           "mode": "markers",
           "name": "",
           "showlegend": false,
           "subplot": "mapbox",
           "type": "scattermapbox"
          }
         ],
         "name": "1610468202"
        },
        {
         "data": [
          {
           "hovertemplate": "locationtime=1610468290<br>lat=%{lat}<br>lon=%{lon}<br>shingle_id=%{marker.color}<extra></extra>",
           "ids": [
            5534
           ],
           "lat": [
            47.6459922791
           ],
           "legendgroup": "",
           "lon": [
            -122.137588501
           ],
           "marker": {
            "color": [
             5534
            ],
            "coloraxis": "coloraxis"
           },
           "mode": "markers",
           "name": "",
           "showlegend": false,
           "subplot": "mapbox",
           "type": "scattermapbox"
          }
         ],
         "name": "1610468290"
        },
        {
         "data": [
          {
           "hovertemplate": "locationtime=1610468381<br>lat=%{lat}<br>lon=%{lon}<br>shingle_id=%{marker.color}<extra></extra>",
           "ids": [
            5534
           ],
           "lat": [
            47.6459922791
           ],
           "legendgroup": "",
           "lon": [
            -122.1375350952
           ],
           "marker": {
            "color": [
             5534
            ],
            "coloraxis": "coloraxis"
           },
           "mode": "markers",
           "name": "",
           "showlegend": false,
           "subplot": "mapbox",
           "type": "scattermapbox"
          }
         ],
         "name": "1610468381"
        },
        {
         "data": [
          {
           "hovertemplate": "locationtime=1610469796<br>lat=%{lat}<br>lon=%{lon}<br>shingle_id=%{marker.color}<extra></extra>",
           "ids": [
            5538
           ],
           "lat": [
            47.6518707275
           ],
           "legendgroup": "",
           "lon": [
            -122.1433258057
           ],
           "marker": {
            "color": [
             5538
            ],
            "coloraxis": "coloraxis"
           },
           "mode": "markers",
           "name": "",
           "showlegend": false,
           "subplot": "mapbox",
           "type": "scattermapbox"
          }
         ],
         "name": "1610469796"
        },
        {
         "data": [
          {
           "hovertemplate": "locationtime=1610469886<br>lat=%{lat}<br>lon=%{lon}<br>shingle_id=%{marker.color}<extra></extra>",
           "ids": [
            5538
           ],
           "lat": [
            47.6459884644
           ],
           "legendgroup": "",
           "lon": [
            -122.1377334595
           ],
           "marker": {
            "color": [
             5538
            ],
            "coloraxis": "coloraxis"
           },
           "mode": "markers",
           "name": "",
           "showlegend": false,
           "subplot": "mapbox",
           "type": "scattermapbox"
          }
         ],
         "name": "1610469886"
        },
        {
         "data": [
          {
           "hovertemplate": "locationtime=1610469976<br>lat=%{lat}<br>lon=%{lon}<br>shingle_id=%{marker.color}<extra></extra>",
           "ids": [
            5538
           ],
           "lat": [
            47.6459922791
           ],
           "legendgroup": "",
           "lon": [
            -122.1376266479
           ],
           "marker": {
            "color": [
             5538
            ],
            "coloraxis": "coloraxis"
           },
           "mode": "markers",
           "name": "",
           "showlegend": false,
           "subplot": "mapbox",
           "type": "scattermapbox"
          }
         ],
         "name": "1610469976"
        },
        {
         "data": [
          {
           "hovertemplate": "locationtime=1610470066<br>lat=%{lat}<br>lon=%{lon}<br>shingle_id=%{marker.color}<extra></extra>",
           "ids": [
            5538
           ],
           "lat": [
            47.6459922791
           ],
           "legendgroup": "",
           "lon": [
            -122.137550354
           ],
           "marker": {
            "color": [
             5538
            ],
            "coloraxis": "coloraxis"
           },
           "mode": "markers",
           "name": "",
           "showlegend": false,
           "subplot": "mapbox",
           "type": "scattermapbox"
          }
         ],
         "name": "1610470066"
        },
        {
         "data": [
          {
           "hovertemplate": "locationtime=1610470336<br>lat=%{lat}<br>lon=%{lon}<br>shingle_id=%{marker.color}<extra></extra>",
           "ids": [
            5538
           ],
           "lat": [
            47.6459922791
           ],
           "legendgroup": "",
           "lon": [
            -122.137512207
           ],
           "marker": {
            "color": [
             5538
            ],
            "coloraxis": "coloraxis"
           },
           "mode": "markers",
           "name": "",
           "showlegend": false,
           "subplot": "mapbox",
           "type": "scattermapbox"
          }
         ],
         "name": "1610470336"
        },
        {
         "data": [
          {
           "hovertemplate": "locationtime=1610467972<br>lat=%{lat}<br>lon=%{lon}<br>shingle_id=%{marker.color}<extra></extra>",
           "ids": [
            5608
           ],
           "lat": [
            47.6459541321
           ],
           "legendgroup": "",
           "lon": [
            -122.1411132812
           ],
           "marker": {
            "color": [
             5608
            ],
            "coloraxis": "coloraxis"
           },
           "mode": "markers",
           "name": "",
           "showlegend": false,
           "subplot": "mapbox",
           "type": "scattermapbox"
          }
         ],
         "name": "1610467972"
        },
        {
         "data": [
          {
           "hovertemplate": "locationtime=1610469658<br>lat=%{lat}<br>lon=%{lon}<br>shingle_id=%{marker.color}<extra></extra>",
           "ids": [
            5612
           ],
           "lat": [
            47.6459922791
           ],
           "legendgroup": "",
           "lon": [
            -122.1374893188
           ],
           "marker": {
            "color": [
             5612
            ],
            "coloraxis": "coloraxis"
           },
           "mode": "markers",
           "name": "",
           "showlegend": false,
           "subplot": "mapbox",
           "type": "scattermapbox"
          }
         ],
         "name": "1610469658"
        },
        {
         "data": [
          {
           "hovertemplate": "locationtime=1610469708<br>lat=%{lat}<br>lon=%{lon}<br>shingle_id=%{marker.color}<extra></extra>",
           "ids": [
            5612
           ],
           "lat": [
            47.6459579468
           ],
           "legendgroup": "",
           "lon": [
            -122.1406784058
           ],
           "marker": {
            "color": [
             5612
            ],
            "coloraxis": "coloraxis"
           },
           "mode": "markers",
           "name": "",
           "showlegend": false,
           "subplot": "mapbox",
           "type": "scattermapbox"
          }
         ],
         "name": "1610469708"
        }
       ],
       "layout": {
        "coloraxis": {
         "colorbar": {
          "title": {
           "text": "shingle_id"
          }
         },
         "colorscale": [
          [
           0,
           "#0d0887"
          ],
          [
           0.1111111111111111,
           "#46039f"
          ],
          [
           0.2222222222222222,
           "#7201a8"
          ],
          [
           0.3333333333333333,
           "#9c179e"
          ],
          [
           0.4444444444444444,
           "#bd3786"
          ],
          [
           0.5555555555555556,
           "#d8576b"
          ],
          [
           0.6666666666666666,
           "#ed7953"
          ],
          [
           0.7777777777777778,
           "#fb9f3a"
          ],
          [
           0.8888888888888888,
           "#fdca26"
          ],
          [
           1,
           "#f0f921"
          ]
         ]
        },
        "legend": {
         "tracegroupgap": 0
        },
        "mapbox": {
         "accesstoken": "pk.eyJ1IjoiemFja2FlbW1lciIsImEiOiJjbDJpYmFzYW4wMTZlM2JwYzJoMHB1Z3NhIn0.djPywnzqtsITNwGe4-AZ0A",
         "center": {
          "lat": 47.64215910579639,
          "lon": -122.12352862990454
         },
         "domain": {
          "x": [
           0,
           1
          ],
          "y": [
           0,
           1
          ]
         },
         "zoom": 8
        },
        "margin": {
         "t": 60
        },
        "sliders": [
         {
          "active": 0,
          "currentvalue": {
           "prefix": "locationtime="
          },
          "len": 0.9,
          "pad": {
           "b": 10,
           "t": 60
          },
          "steps": [
           {
            "args": [
             [
              "1610466953"
             ],
             {
              "frame": {
               "duration": 0,
               "redraw": true
              },
              "fromcurrent": true,
              "mode": "immediate",
              "transition": {
               "duration": 0,
               "easing": "linear"
              }
             }
            ],
            "label": "1610466953",
            "method": "animate"
           },
           {
            "args": [
             [
              "1610467010"
             ],
             {
              "frame": {
               "duration": 0,
               "redraw": true
              },
              "fromcurrent": true,
              "mode": "immediate",
              "transition": {
               "duration": 0,
               "easing": "linear"
              }
             }
            ],
            "label": "1610467010",
            "method": "animate"
           },
           {
            "args": [
             [
              "1610467032"
             ],
             {
              "frame": {
               "duration": 0,
               "redraw": true
              },
              "fromcurrent": true,
              "mode": "immediate",
              "transition": {
               "duration": 0,
               "easing": "linear"
              }
             }
            ],
            "label": "1610467032",
            "method": "animate"
           },
           {
            "args": [
             [
              "1610467056"
             ],
             {
              "frame": {
               "duration": 0,
               "redraw": true
              },
              "fromcurrent": true,
              "mode": "immediate",
              "transition": {
               "duration": 0,
               "easing": "linear"
              }
             }
            ],
            "label": "1610467056",
            "method": "animate"
           },
           {
            "args": [
             [
              "1610467086"
             ],
             {
              "frame": {
               "duration": 0,
               "redraw": true
              },
              "fromcurrent": true,
              "mode": "immediate",
              "transition": {
               "duration": 0,
               "easing": "linear"
              }
             }
            ],
            "label": "1610467086",
            "method": "animate"
           },
           {
            "args": [
             [
              "1610467134"
             ],
             {
              "frame": {
               "duration": 0,
               "redraw": true
              },
              "fromcurrent": true,
              "mode": "immediate",
              "transition": {
               "duration": 0,
               "easing": "linear"
              }
             }
            ],
            "label": "1610467134",
            "method": "animate"
           },
           {
            "args": [
             [
              "1610467157"
             ],
             {
              "frame": {
               "duration": 0,
               "redraw": true
              },
              "fromcurrent": true,
              "mode": "immediate",
              "transition": {
               "duration": 0,
               "easing": "linear"
              }
             }
            ],
            "label": "1610467157",
            "method": "animate"
           },
           {
            "args": [
             [
              "1610467188"
             ],
             {
              "frame": {
               "duration": 0,
               "redraw": true
              },
              "fromcurrent": true,
              "mode": "immediate",
              "transition": {
               "duration": 0,
               "easing": "linear"
              }
             }
            ],
            "label": "1610467188",
            "method": "animate"
           },
           {
            "args": [
             [
              "1610467224"
             ],
             {
              "frame": {
               "duration": 0,
               "redraw": true
              },
              "fromcurrent": true,
              "mode": "immediate",
              "transition": {
               "duration": 0,
               "easing": "linear"
              }
             }
            ],
            "label": "1610467224",
            "method": "animate"
           },
           {
            "args": [
             [
              "1610467254"
             ],
             {
              "frame": {
               "duration": 0,
               "redraw": true
              },
              "fromcurrent": true,
              "mode": "immediate",
              "transition": {
               "duration": 0,
               "easing": "linear"
              }
             }
            ],
            "label": "1610467254",
            "method": "animate"
           },
           {
            "args": [
             [
              "1610467375"
             ],
             {
              "frame": {
               "duration": 0,
               "redraw": true
              },
              "fromcurrent": true,
              "mode": "immediate",
              "transition": {
               "duration": 0,
               "easing": "linear"
              }
             }
            ],
            "label": "1610467375",
            "method": "animate"
           },
           {
            "args": [
             [
              "1610467403"
             ],
             {
              "frame": {
               "duration": 0,
               "redraw": true
              },
              "fromcurrent": true,
              "mode": "immediate",
              "transition": {
               "duration": 0,
               "easing": "linear"
              }
             }
            ],
            "label": "1610467403",
            "method": "animate"
           },
           {
            "args": [
             [
              "1610467493"
             ],
             {
              "frame": {
               "duration": 0,
               "redraw": true
              },
              "fromcurrent": true,
              "mode": "immediate",
              "transition": {
               "duration": 0,
               "easing": "linear"
              }
             }
            ],
            "label": "1610467493",
            "method": "animate"
           },
           {
            "args": [
             [
              "1610467583"
             ],
             {
              "frame": {
               "duration": 0,
               "redraw": true
              },
              "fromcurrent": true,
              "mode": "immediate",
              "transition": {
               "duration": 0,
               "easing": "linear"
              }
             }
            ],
            "label": "1610467583",
            "method": "animate"
           },
           {
            "args": [
             [
              "1610467673"
             ],
             {
              "frame": {
               "duration": 0,
               "redraw": true
              },
              "fromcurrent": true,
              "mode": "immediate",
              "transition": {
               "duration": 0,
               "easing": "linear"
              }
             }
            ],
            "label": "1610467673",
            "method": "animate"
           },
           {
            "args": [
             [
              "1610467763"
             ],
             {
              "frame": {
               "duration": 0,
               "redraw": true
              },
              "fromcurrent": true,
              "mode": "immediate",
              "transition": {
               "duration": 0,
               "easing": "linear"
              }
             }
            ],
            "label": "1610467763",
            "method": "animate"
           },
           {
            "args": [
             [
              "1610467854"
             ],
             {
              "frame": {
               "duration": 0,
               "redraw": true
              },
              "fromcurrent": true,
              "mode": "immediate",
              "transition": {
               "duration": 0,
               "easing": "linear"
              }
             }
            ],
            "label": "1610467854",
            "method": "animate"
           },
           {
            "args": [
             [
              "1610467916"
             ],
             {
              "frame": {
               "duration": 0,
               "redraw": true
              },
              "fromcurrent": true,
              "mode": "immediate",
              "transition": {
               "duration": 0,
               "easing": "linear"
              }
             }
            ],
            "label": "1610467916",
            "method": "animate"
           },
           {
            "args": [
             [
              "1610467936"
             ],
             {
              "frame": {
               "duration": 0,
               "redraw": true
              },
              "fromcurrent": true,
              "mode": "immediate",
              "transition": {
               "duration": 0,
               "easing": "linear"
              }
             }
            ],
            "label": "1610467936",
            "method": "animate"
           },
           {
            "args": [
             [
              "1610467958"
             ],
             {
              "frame": {
               "duration": 0,
               "redraw": true
              },
              "fromcurrent": true,
              "mode": "immediate",
              "transition": {
               "duration": 0,
               "easing": "linear"
              }
             }
            ],
            "label": "1610467958",
            "method": "animate"
           },
           {
            "args": [
             [
              "1610468033"
             ],
             {
              "frame": {
               "duration": 0,
               "redraw": true
              },
              "fromcurrent": true,
              "mode": "immediate",
              "transition": {
               "duration": 0,
               "easing": "linear"
              }
             }
            ],
            "label": "1610468033",
            "method": "animate"
           },
           {
            "args": [
             [
              "1610468123"
             ],
             {
              "frame": {
               "duration": 0,
               "redraw": true
              },
              "fromcurrent": true,
              "mode": "immediate",
              "transition": {
               "duration": 0,
               "easing": "linear"
              }
             }
            ],
            "label": "1610468123",
            "method": "animate"
           },
           {
            "args": [
             [
              "1610468213"
             ],
             {
              "frame": {
               "duration": 0,
               "redraw": true
              },
              "fromcurrent": true,
              "mode": "immediate",
              "transition": {
               "duration": 0,
               "easing": "linear"
              }
             }
            ],
            "label": "1610468213",
            "method": "animate"
           },
           {
            "args": [
             [
              "1610468394"
             ],
             {
              "frame": {
               "duration": 0,
               "redraw": true
              },
              "fromcurrent": true,
              "mode": "immediate",
              "transition": {
               "duration": 0,
               "easing": "linear"
              }
             }
            ],
            "label": "1610468394",
            "method": "animate"
           },
           {
            "args": [
             [
              "1610468483"
             ],
             {
              "frame": {
               "duration": 0,
               "redraw": true
              },
              "fromcurrent": true,
              "mode": "immediate",
              "transition": {
               "duration": 0,
               "easing": "linear"
              }
             }
            ],
            "label": "1610468483",
            "method": "animate"
           },
           {
            "args": [
             [
              "1610468573"
             ],
             {
              "frame": {
               "duration": 0,
               "redraw": true
              },
              "fromcurrent": true,
              "mode": "immediate",
              "transition": {
               "duration": 0,
               "easing": "linear"
              }
             }
            ],
            "label": "1610468573",
            "method": "animate"
           },
           {
            "args": [
             [
              "1610468663"
             ],
             {
              "frame": {
               "duration": 0,
               "redraw": true
              },
              "fromcurrent": true,
              "mode": "immediate",
              "transition": {
               "duration": 0,
               "easing": "linear"
              }
             }
            ],
            "label": "1610468663",
            "method": "animate"
           },
           {
            "args": [
             [
              "1610468753"
             ],
             {
              "frame": {
               "duration": 0,
               "redraw": true
              },
              "fromcurrent": true,
              "mode": "immediate",
              "transition": {
               "duration": 0,
               "easing": "linear"
              }
             }
            ],
            "label": "1610468753",
            "method": "animate"
           },
           {
            "args": [
             [
              "1610468870"
             ],
             {
              "frame": {
               "duration": 0,
               "redraw": true
              },
              "fromcurrent": true,
              "mode": "immediate",
              "transition": {
               "duration": 0,
               "easing": "linear"
              }
             }
            ],
            "label": "1610468870",
            "method": "animate"
           },
           {
            "args": [
             [
              "1610468901"
             ],
             {
              "frame": {
               "duration": 0,
               "redraw": true
              },
              "fromcurrent": true,
              "mode": "immediate",
              "transition": {
               "duration": 0,
               "easing": "linear"
              }
             }
            ],
            "label": "1610468901",
            "method": "animate"
           },
           {
            "args": [
             [
              "1610468960"
             ],
             {
              "frame": {
               "duration": 0,
               "redraw": true
              },
              "fromcurrent": true,
              "mode": "immediate",
              "transition": {
               "duration": 0,
               "easing": "linear"
              }
             }
            ],
            "label": "1610468960",
            "method": "animate"
           },
           {
            "args": [
             [
              "1610468991"
             ],
             {
              "frame": {
               "duration": 0,
               "redraw": true
              },
              "fromcurrent": true,
              "mode": "immediate",
              "transition": {
               "duration": 0,
               "easing": "linear"
              }
             }
            ],
            "label": "1610468991",
            "method": "animate"
           },
           {
            "args": [
             [
              "1610469203"
             ],
             {
              "frame": {
               "duration": 0,
               "redraw": true
              },
              "fromcurrent": true,
              "mode": "immediate",
              "transition": {
               "duration": 0,
               "easing": "linear"
              }
             }
            ],
            "label": "1610469203",
            "method": "animate"
           },
           {
            "args": [
             [
              "1610469231"
             ],
             {
              "frame": {
               "duration": 0,
               "redraw": true
              },
              "fromcurrent": true,
              "mode": "immediate",
              "transition": {
               "duration": 0,
               "easing": "linear"
              }
             }
            ],
            "label": "1610469231",
            "method": "animate"
           },
           {
            "args": [
             [
              "1610469383"
             ],
             {
              "frame": {
               "duration": 0,
               "redraw": true
              },
              "fromcurrent": true,
              "mode": "immediate",
              "transition": {
               "duration": 0,
               "easing": "linear"
              }
             }
            ],
            "label": "1610469383",
            "method": "animate"
           },
           {
            "args": [
             [
              "1610469411"
             ],
             {
              "frame": {
               "duration": 0,
               "redraw": true
              },
              "fromcurrent": true,
              "mode": "immediate",
              "transition": {
               "duration": 0,
               "easing": "linear"
              }
             }
            ],
            "label": "1610469411",
            "method": "animate"
           },
           {
            "args": [
             [
              "1610469473"
             ],
             {
              "frame": {
               "duration": 0,
               "redraw": true
              },
              "fromcurrent": true,
              "mode": "immediate",
              "transition": {
               "duration": 0,
               "easing": "linear"
              }
             }
            ],
            "label": "1610469473",
            "method": "animate"
           },
           {
            "args": [
             [
              "1610469531"
             ],
             {
              "frame": {
               "duration": 0,
               "redraw": true
              },
              "fromcurrent": true,
              "mode": "immediate",
              "transition": {
               "duration": 0,
               "easing": "linear"
              }
             }
            ],
            "label": "1610469531",
            "method": "animate"
           },
           {
            "args": [
             [
              "1610469563"
             ],
             {
              "frame": {
               "duration": 0,
               "redraw": true
              },
              "fromcurrent": true,
              "mode": "immediate",
              "transition": {
               "duration": 0,
               "easing": "linear"
              }
             }
            ],
            "label": "1610469563",
            "method": "animate"
           },
           {
            "args": [
             [
              "1610469590"
             ],
             {
              "frame": {
               "duration": 0,
               "redraw": true
              },
              "fromcurrent": true,
              "mode": "immediate",
              "transition": {
               "duration": 0,
               "easing": "linear"
              }
             }
            ],
            "label": "1610469590",
            "method": "animate"
           },
           {
            "args": [
             [
              "1610469653"
             ],
             {
              "frame": {
               "duration": 0,
               "redraw": true
              },
              "fromcurrent": true,
              "mode": "immediate",
              "transition": {
               "duration": 0,
               "easing": "linear"
              }
             }
            ],
            "label": "1610469653",
            "method": "animate"
           },
           {
            "args": [
             [
              "1610469710"
             ],
             {
              "frame": {
               "duration": 0,
               "redraw": true
              },
              "fromcurrent": true,
              "mode": "immediate",
              "transition": {
               "duration": 0,
               "easing": "linear"
              }
             }
            ],
            "label": "1610469710",
            "method": "animate"
           },
           {
            "args": [
             [
              "1610469743"
             ],
             {
              "frame": {
               "duration": 0,
               "redraw": true
              },
              "fromcurrent": true,
              "mode": "immediate",
              "transition": {
               "duration": 0,
               "easing": "linear"
              }
             }
            ],
            "label": "1610469743",
            "method": "animate"
           },
           {
            "args": [
             [
              "1610469772"
             ],
             {
              "frame": {
               "duration": 0,
               "redraw": true
              },
              "fromcurrent": true,
              "mode": "immediate",
              "transition": {
               "duration": 0,
               "easing": "linear"
              }
             }
            ],
            "label": "1610469772",
            "method": "animate"
           },
           {
            "args": [
             [
              "1610470013"
             ],
             {
              "frame": {
               "duration": 0,
               "redraw": true
              },
              "fromcurrent": true,
              "mode": "immediate",
              "transition": {
               "duration": 0,
               "easing": "linear"
              }
             }
            ],
            "label": "1610470013",
            "method": "animate"
           },
           {
            "args": [
             [
              "1610470071"
             ],
             {
              "frame": {
               "duration": 0,
               "redraw": true
              },
              "fromcurrent": true,
              "mode": "immediate",
              "transition": {
               "duration": 0,
               "easing": "linear"
              }
             }
            ],
            "label": "1610470071",
            "method": "animate"
           },
           {
            "args": [
             [
              "1610470193"
             ],
             {
              "frame": {
               "duration": 0,
               "redraw": true
              },
              "fromcurrent": true,
              "mode": "immediate",
              "transition": {
               "duration": 0,
               "easing": "linear"
              }
             }
            ],
            "label": "1610470193",
            "method": "animate"
           },
           {
            "args": [
             [
              "1610470221"
             ],
             {
              "frame": {
               "duration": 0,
               "redraw": true
              },
              "fromcurrent": true,
              "mode": "immediate",
              "transition": {
               "duration": 0,
               "easing": "linear"
              }
             }
            ],
            "label": "1610470221",
            "method": "animate"
           },
           {
            "args": [
             [
              "1610470284"
             ],
             {
              "frame": {
               "duration": 0,
               "redraw": true
              },
              "fromcurrent": true,
              "mode": "immediate",
              "transition": {
               "duration": 0,
               "easing": "linear"
              }
             }
            ],
            "label": "1610470284",
            "method": "animate"
           },
           {
            "args": [
             [
              "1610470311"
             ],
             {
              "frame": {
               "duration": 0,
               "redraw": true
              },
              "fromcurrent": true,
              "mode": "immediate",
              "transition": {
               "duration": 0,
               "easing": "linear"
              }
             }
            ],
            "label": "1610470311",
            "method": "animate"
           },
           {
            "args": [
             [
              "1610470373"
             ],
             {
              "frame": {
               "duration": 0,
               "redraw": true
              },
              "fromcurrent": true,
              "mode": "immediate",
              "transition": {
               "duration": 0,
               "easing": "linear"
              }
             }
            ],
            "label": "1610470373",
            "method": "animate"
           },
           {
            "args": [
             [
              "1610470432"
             ],
             {
              "frame": {
               "duration": 0,
               "redraw": true
              },
              "fromcurrent": true,
              "mode": "immediate",
              "transition": {
               "duration": 0,
               "easing": "linear"
              }
             }
            ],
            "label": "1610470432",
            "method": "animate"
           },
           {
            "args": [
             [
              "1610470463"
             ],
             {
              "frame": {
               "duration": 0,
               "redraw": true
              },
              "fromcurrent": true,
              "mode": "immediate",
              "transition": {
               "duration": 0,
               "easing": "linear"
              }
             }
            ],
            "label": "1610470463",
            "method": "animate"
           },
           {
            "args": [
             [
              "1610470510"
             ],
             {
              "frame": {
               "duration": 0,
               "redraw": true
              },
              "fromcurrent": true,
              "mode": "immediate",
              "transition": {
               "duration": 0,
               "easing": "linear"
              }
             }
            ],
            "label": "1610470510",
            "method": "animate"
           },
           {
            "args": [
             [
              "1610468196"
             ],
             {
              "frame": {
               "duration": 0,
               "redraw": true
              },
              "fromcurrent": true,
              "mode": "immediate",
              "transition": {
               "duration": 0,
               "easing": "linear"
              }
             }
            ],
            "label": "1610468196",
            "method": "animate"
           },
           {
            "args": [
             [
              "1610468326"
             ],
             {
              "frame": {
               "duration": 0,
               "redraw": true
              },
              "fromcurrent": true,
              "mode": "immediate",
              "transition": {
               "duration": 0,
               "easing": "linear"
              }
             }
            ],
            "label": "1610468326",
            "method": "animate"
           },
           {
            "args": [
             [
              "1610468356"
             ],
             {
              "frame": {
               "duration": 0,
               "redraw": true
              },
              "fromcurrent": true,
              "mode": "immediate",
              "transition": {
               "duration": 0,
               "easing": "linear"
              }
             }
            ],
            "label": "1610468356",
            "method": "animate"
           },
           {
            "args": [
             [
              "1610468396"
             ],
             {
              "frame": {
               "duration": 0,
               "redraw": true
              },
              "fromcurrent": true,
              "mode": "immediate",
              "transition": {
               "duration": 0,
               "easing": "linear"
              }
             }
            ],
            "label": "1610468396",
            "method": "animate"
           },
           {
            "args": [
             [
              "1610468427"
             ],
             {
              "frame": {
               "duration": 0,
               "redraw": true
              },
              "fromcurrent": true,
              "mode": "immediate",
              "transition": {
               "duration": 0,
               "easing": "linear"
              }
             }
            ],
            "label": "1610468427",
            "method": "animate"
           },
           {
            "args": [
             [
              "1610468482"
             ],
             {
              "frame": {
               "duration": 0,
               "redraw": true
              },
              "fromcurrent": true,
              "mode": "immediate",
              "transition": {
               "duration": 0,
               "easing": "linear"
              }
             }
            ],
            "label": "1610468482",
            "method": "animate"
           },
           {
            "args": [
             [
              "1610468512"
             ],
             {
              "frame": {
               "duration": 0,
               "redraw": true
              },
              "fromcurrent": true,
              "mode": "immediate",
              "transition": {
               "duration": 0,
               "easing": "linear"
              }
             }
            ],
            "label": "1610468512",
            "method": "animate"
           },
           {
            "args": [
             [
              "1610468572"
             ],
             {
              "frame": {
               "duration": 0,
               "redraw": true
              },
              "fromcurrent": true,
              "mode": "immediate",
              "transition": {
               "duration": 0,
               "easing": "linear"
              }
             }
            ],
            "label": "1610468572",
            "method": "animate"
           },
           {
            "args": [
             [
              "1610468677"
             ],
             {
              "frame": {
               "duration": 0,
               "redraw": true
              },
              "fromcurrent": true,
              "mode": "immediate",
              "transition": {
               "duration": 0,
               "easing": "linear"
              }
             }
            ],
            "label": "1610468677",
            "method": "animate"
           },
           {
            "args": [
             [
              "1610468737"
             ],
             {
              "frame": {
               "duration": 0,
               "redraw": true
              },
              "fromcurrent": true,
              "mode": "immediate",
              "transition": {
               "duration": 0,
               "easing": "linear"
              }
             }
            ],
            "label": "1610468737",
            "method": "animate"
           },
           {
            "args": [
             [
              "1610468773"
             ],
             {
              "frame": {
               "duration": 0,
               "redraw": true
              },
              "fromcurrent": true,
              "mode": "immediate",
              "transition": {
               "duration": 0,
               "easing": "linear"
              }
             }
            ],
            "label": "1610468773",
            "method": "animate"
           },
           {
            "args": [
             [
              "1610468831"
             ],
             {
              "frame": {
               "duration": 0,
               "redraw": true
              },
              "fromcurrent": true,
              "mode": "immediate",
              "transition": {
               "duration": 0,
               "easing": "linear"
              }
             }
            ],
            "label": "1610468831",
            "method": "animate"
           },
           {
            "args": [
             [
              "1610469056"
             ],
             {
              "frame": {
               "duration": 0,
               "redraw": true
              },
              "fromcurrent": true,
              "mode": "immediate",
              "transition": {
               "duration": 0,
               "easing": "linear"
              }
             }
            ],
            "label": "1610469056",
            "method": "animate"
           },
           {
            "args": [
             [
              "1610469393"
             ],
             {
              "frame": {
               "duration": 0,
               "redraw": true
              },
              "fromcurrent": true,
              "mode": "immediate",
              "transition": {
               "duration": 0,
               "easing": "linear"
              }
             }
            ],
            "label": "1610469393",
            "method": "animate"
           },
           {
            "args": [
             [
              "1610469398"
             ],
             {
              "frame": {
               "duration": 0,
               "redraw": true
              },
              "fromcurrent": true,
              "mode": "immediate",
              "transition": {
               "duration": 0,
               "easing": "linear"
              }
             }
            ],
            "label": "1610469398",
            "method": "animate"
           },
           {
            "args": [
             [
              "1610469536"
             ],
             {
              "frame": {
               "duration": 0,
               "redraw": true
              },
              "fromcurrent": true,
              "mode": "immediate",
              "transition": {
               "duration": 0,
               "easing": "linear"
              }
             }
            ],
            "label": "1610469536",
            "method": "animate"
           },
           {
            "args": [
             [
              "1610469634"
             ],
             {
              "frame": {
               "duration": 0,
               "redraw": true
              },
              "fromcurrent": true,
              "mode": "immediate",
              "transition": {
               "duration": 0,
               "easing": "linear"
              }
             }
            ],
            "label": "1610469634",
            "method": "animate"
           },
           {
            "args": [
             [
              "1610469667"
             ],
             {
              "frame": {
               "duration": 0,
               "redraw": true
              },
              "fromcurrent": true,
              "mode": "immediate",
              "transition": {
               "duration": 0,
               "easing": "linear"
              }
             }
            ],
            "label": "1610469667",
            "method": "animate"
           },
           {
            "args": [
             [
              "1610469865"
             ],
             {
              "frame": {
               "duration": 0,
               "redraw": true
              },
              "fromcurrent": true,
              "mode": "immediate",
              "transition": {
               "duration": 0,
               "easing": "linear"
              }
             }
            ],
            "label": "1610469865",
            "method": "animate"
           },
           {
            "args": [
             [
              "1610469895"
             ],
             {
              "frame": {
               "duration": 0,
               "redraw": true
              },
              "fromcurrent": true,
              "mode": "immediate",
              "transition": {
               "duration": 0,
               "easing": "linear"
              }
             }
            ],
            "label": "1610469895",
            "method": "animate"
           },
           {
            "args": [
             [
              "1610469951"
             ],
             {
              "frame": {
               "duration": 0,
               "redraw": true
              },
              "fromcurrent": true,
              "mode": "immediate",
              "transition": {
               "duration": 0,
               "easing": "linear"
              }
             }
            ],
            "label": "1610469951",
            "method": "animate"
           },
           {
            "args": [
             [
              "1610470431"
             ],
             {
              "frame": {
               "duration": 0,
               "redraw": true
              },
              "fromcurrent": true,
              "mode": "immediate",
              "transition": {
               "duration": 0,
               "easing": "linear"
              }
             }
            ],
            "label": "1610470431",
            "method": "animate"
           },
           {
            "args": [
             [
              "1610470370"
             ],
             {
              "frame": {
               "duration": 0,
               "redraw": true
              },
              "fromcurrent": true,
              "mode": "immediate",
              "transition": {
               "duration": 0,
               "easing": "linear"
              }
             }
            ],
            "label": "1610470370",
            "method": "animate"
           },
           {
            "args": [
             [
              "1610470390"
             ],
             {
              "frame": {
               "duration": 0,
               "redraw": true
              },
              "fromcurrent": true,
              "mode": "immediate",
              "transition": {
               "duration": 0,
               "easing": "linear"
              }
             }
            ],
            "label": "1610470390",
            "method": "animate"
           },
           {
            "args": [
             [
              "1610470434"
             ],
             {
              "frame": {
               "duration": 0,
               "redraw": true
              },
              "fromcurrent": true,
              "mode": "immediate",
              "transition": {
               "duration": 0,
               "easing": "linear"
              }
             }
            ],
            "label": "1610470434",
            "method": "animate"
           },
           {
            "args": [
             [
              "1610470487"
             ],
             {
              "frame": {
               "duration": 0,
               "redraw": true
              },
              "fromcurrent": true,
              "mode": "immediate",
              "transition": {
               "duration": 0,
               "easing": "linear"
              }
             }
            ],
            "label": "1610470487",
            "method": "animate"
           },
           {
            "args": [
             [
              "1610468714"
             ],
             {
              "frame": {
               "duration": 0,
               "redraw": true
              },
              "fromcurrent": true,
              "mode": "immediate",
              "transition": {
               "duration": 0,
               "easing": "linear"
              }
             }
            ],
            "label": "1610468714",
            "method": "animate"
           },
           {
            "args": [
             [
              "1610467068"
             ],
             {
              "frame": {
               "duration": 0,
               "redraw": true
              },
              "fromcurrent": true,
              "mode": "immediate",
              "transition": {
               "duration": 0,
               "easing": "linear"
              }
             }
            ],
            "label": "1610467068",
            "method": "animate"
           },
           {
            "args": [
             [
              "1610467080"
             ],
             {
              "frame": {
               "duration": 0,
               "redraw": true
              },
              "fromcurrent": true,
              "mode": "immediate",
              "transition": {
               "duration": 0,
               "easing": "linear"
              }
             }
            ],
            "label": "1610467080",
            "method": "animate"
           },
           {
            "args": [
             [
              "1610467126"
             ],
             {
              "frame": {
               "duration": 0,
               "redraw": true
              },
              "fromcurrent": true,
              "mode": "immediate",
              "transition": {
               "duration": 0,
               "easing": "linear"
              }
             }
            ],
            "label": "1610467126",
            "method": "animate"
           },
           {
            "args": [
             [
              "1610467230"
             ],
             {
              "frame": {
               "duration": 0,
               "redraw": true
              },
              "fromcurrent": true,
              "mode": "immediate",
              "transition": {
               "duration": 0,
               "easing": "linear"
              }
             }
            ],
            "label": "1610467230",
            "method": "animate"
           },
           {
            "args": [
             [
              "1610467351"
             ],
             {
              "frame": {
               "duration": 0,
               "redraw": true
              },
              "fromcurrent": true,
              "mode": "immediate",
              "transition": {
               "duration": 0,
               "easing": "linear"
              }
             }
            ],
            "label": "1610467351",
            "method": "animate"
           },
           {
            "args": [
             [
              "1610467427"
             ],
             {
              "frame": {
               "duration": 0,
               "redraw": true
              },
              "fromcurrent": true,
              "mode": "immediate",
              "transition": {
               "duration": 0,
               "easing": "linear"
              }
             }
            ],
            "label": "1610467427",
            "method": "animate"
           },
           {
            "args": [
             [
              "1610467593"
             ],
             {
              "frame": {
               "duration": 0,
               "redraw": true
              },
              "fromcurrent": true,
              "mode": "immediate",
              "transition": {
               "duration": 0,
               "easing": "linear"
              }
             }
            ],
            "label": "1610467593",
            "method": "animate"
           },
           {
            "args": [
             [
              "1610467607"
             ],
             {
              "frame": {
               "duration": 0,
               "redraw": true
              },
              "fromcurrent": true,
              "mode": "immediate",
              "transition": {
               "duration": 0,
               "easing": "linear"
              }
             }
            ],
            "label": "1610467607",
            "method": "animate"
           },
           {
            "args": [
             [
              "1610467693"
             ],
             {
              "frame": {
               "duration": 0,
               "redraw": true
              },
              "fromcurrent": true,
              "mode": "immediate",
              "transition": {
               "duration": 0,
               "easing": "linear"
              }
             }
            ],
            "label": "1610467693",
            "method": "animate"
           },
           {
            "args": [
             [
              "1610467788"
             ],
             {
              "frame": {
               "duration": 0,
               "redraw": true
              },
              "fromcurrent": true,
              "mode": "immediate",
              "transition": {
               "duration": 0,
               "easing": "linear"
              }
             }
            ],
            "label": "1610467788",
            "method": "animate"
           },
           {
            "args": [
             [
              "1610468271"
             ],
             {
              "frame": {
               "duration": 0,
               "redraw": true
              },
              "fromcurrent": true,
              "mode": "immediate",
              "transition": {
               "duration": 0,
               "easing": "linear"
              }
             }
            ],
            "label": "1610468271",
            "method": "animate"
           },
           {
            "args": [
             [
              "1610468385"
             ],
             {
              "frame": {
               "duration": 0,
               "redraw": true
              },
              "fromcurrent": true,
              "mode": "immediate",
              "transition": {
               "duration": 0,
               "easing": "linear"
              }
             }
            ],
            "label": "1610468385",
            "method": "animate"
           },
           {
            "args": [
             [
              "1610468513"
             ],
             {
              "frame": {
               "duration": 0,
               "redraw": true
              },
              "fromcurrent": true,
              "mode": "immediate",
              "transition": {
               "duration": 0,
               "easing": "linear"
              }
             }
            ],
            "label": "1610468513",
            "method": "animate"
           },
           {
            "args": [
             [
              "1610468543"
             ],
             {
              "frame": {
               "duration": 0,
               "redraw": true
              },
              "fromcurrent": true,
              "mode": "immediate",
              "transition": {
               "duration": 0,
               "easing": "linear"
              }
             }
            ],
            "label": "1610468543",
            "method": "animate"
           },
           {
            "args": [
             [
              "1610468638"
             ],
             {
              "frame": {
               "duration": 0,
               "redraw": true
              },
              "fromcurrent": true,
              "mode": "immediate",
              "transition": {
               "duration": 0,
               "easing": "linear"
              }
             }
            ],
            "label": "1610468638",
            "method": "animate"
           },
           {
            "args": [
             [
              "1610468694"
             ],
             {
              "frame": {
               "duration": 0,
               "redraw": true
              },
              "fromcurrent": true,
              "mode": "immediate",
              "transition": {
               "duration": 0,
               "easing": "linear"
              }
             }
            ],
            "label": "1610468694",
            "method": "animate"
           },
           {
            "args": [
             [
              "1610468754"
             ],
             {
              "frame": {
               "duration": 0,
               "redraw": true
              },
              "fromcurrent": true,
              "mode": "immediate",
              "transition": {
               "duration": 0,
               "easing": "linear"
              }
             }
            ],
            "label": "1610468754",
            "method": "animate"
           },
           {
            "args": [
             [
              "1610468804"
             ],
             {
              "frame": {
               "duration": 0,
               "redraw": true
              },
              "fromcurrent": true,
              "mode": "immediate",
              "transition": {
               "duration": 0,
               "easing": "linear"
              }
             }
            ],
            "label": "1610468804",
            "method": "animate"
           },
           {
            "args": [
             [
              "1610467184"
             ],
             {
              "frame": {
               "duration": 0,
               "redraw": true
              },
              "fromcurrent": true,
              "mode": "immediate",
              "transition": {
               "duration": 0,
               "easing": "linear"
              }
             }
            ],
            "label": "1610467184",
            "method": "animate"
           },
           {
            "args": [
             [
              "1610470508"
             ],
             {
              "frame": {
               "duration": 0,
               "redraw": true
              },
              "fromcurrent": true,
              "mode": "immediate",
              "transition": {
               "duration": 0,
               "easing": "linear"
              }
             }
            ],
            "label": "1610470508",
            "method": "animate"
           },
           {
            "args": [
             [
              "1610469385"
             ],
             {
              "frame": {
               "duration": 0,
               "redraw": true
              },
              "fromcurrent": true,
              "mode": "immediate",
              "transition": {
               "duration": 0,
               "easing": "linear"
              }
             }
            ],
            "label": "1610469385",
            "method": "animate"
           },
           {
            "args": [
             [
              "1610468651"
             ],
             {
              "frame": {
               "duration": 0,
               "redraw": true
              },
              "fromcurrent": true,
              "mode": "immediate",
              "transition": {
               "duration": 0,
               "easing": "linear"
              }
             }
            ],
            "label": "1610468651",
            "method": "animate"
           },
           {
            "args": [
             [
              "1610469173"
             ],
             {
              "frame": {
               "duration": 0,
               "redraw": true
              },
              "fromcurrent": true,
              "mode": "immediate",
              "transition": {
               "duration": 0,
               "easing": "linear"
              }
             }
            ],
            "label": "1610469173",
            "method": "animate"
           },
           {
            "args": [
             [
              "1610469945"
             ],
             {
              "frame": {
               "duration": 0,
               "redraw": true
              },
              "fromcurrent": true,
              "mode": "immediate",
              "transition": {
               "duration": 0,
               "easing": "linear"
              }
             }
            ],
            "label": "1610469945",
            "method": "animate"
           },
           {
            "args": [
             [
              "1610467970"
             ],
             {
              "frame": {
               "duration": 0,
               "redraw": true
              },
              "fromcurrent": true,
              "mode": "immediate",
              "transition": {
               "duration": 0,
               "easing": "linear"
              }
             }
            ],
            "label": "1610467970",
            "method": "animate"
           },
           {
            "args": [
             [
              "1610467448"
             ],
             {
              "frame": {
               "duration": 0,
               "redraw": true
              },
              "fromcurrent": true,
              "mode": "immediate",
              "transition": {
               "duration": 0,
               "easing": "linear"
              }
             }
            ],
            "label": "1610467448",
            "method": "animate"
           },
           {
            "args": [
             [
              "1610469811"
             ],
             {
              "frame": {
               "duration": 0,
               "redraw": true
              },
              "fromcurrent": true,
              "mode": "immediate",
              "transition": {
               "duration": 0,
               "easing": "linear"
              }
             }
            ],
            "label": "1610469811",
            "method": "animate"
           },
           {
            "args": [
             [
              "1610469860"
             ],
             {
              "frame": {
               "duration": 0,
               "redraw": true
              },
              "fromcurrent": true,
              "mode": "immediate",
              "transition": {
               "duration": 0,
               "easing": "linear"
              }
             }
            ],
            "label": "1610469860",
            "method": "animate"
           },
           {
            "args": [
             [
              "1610469908"
             ],
             {
              "frame": {
               "duration": 0,
               "redraw": true
              },
              "fromcurrent": true,
              "mode": "immediate",
              "transition": {
               "duration": 0,
               "easing": "linear"
              }
             }
            ],
            "label": "1610469908",
            "method": "animate"
           },
           {
            "args": [
             [
              "1610470012"
             ],
             {
              "frame": {
               "duration": 0,
               "redraw": true
              },
              "fromcurrent": true,
              "mode": "immediate",
              "transition": {
               "duration": 0,
               "easing": "linear"
              }
             }
            ],
            "label": "1610470012",
            "method": "animate"
           },
           {
            "args": [
             [
              "1610470136"
             ],
             {
              "frame": {
               "duration": 0,
               "redraw": true
              },
              "fromcurrent": true,
              "mode": "immediate",
              "transition": {
               "duration": 0,
               "easing": "linear"
              }
             }
            ],
            "label": "1610470136",
            "method": "animate"
           },
           {
            "args": [
             [
              "1610470196"
             ],
             {
              "frame": {
               "duration": 0,
               "redraw": true
              },
              "fromcurrent": true,
              "mode": "immediate",
              "transition": {
               "duration": 0,
               "easing": "linear"
              }
             }
            ],
            "label": "1610470196",
            "method": "animate"
           },
           {
            "args": [
             [
              "1610470226"
             ],
             {
              "frame": {
               "duration": 0,
               "redraw": true
              },
              "fromcurrent": true,
              "mode": "immediate",
              "transition": {
               "duration": 0,
               "easing": "linear"
              }
             }
            ],
            "label": "1610470226",
            "method": "animate"
           },
           {
            "args": [
             [
              "1610470255"
             ],
             {
              "frame": {
               "duration": 0,
               "redraw": true
              },
              "fromcurrent": true,
              "mode": "immediate",
              "transition": {
               "duration": 0,
               "easing": "linear"
              }
             }
            ],
            "label": "1610470255",
            "method": "animate"
           },
           {
            "args": [
             [
              "1610470391"
             ],
             {
              "frame": {
               "duration": 0,
               "redraw": true
              },
              "fromcurrent": true,
              "mode": "immediate",
              "transition": {
               "duration": 0,
               "easing": "linear"
              }
             }
            ],
            "label": "1610470391",
            "method": "animate"
           },
           {
            "args": [
             [
              "1610468759"
             ],
             {
              "frame": {
               "duration": 0,
               "redraw": true
              },
              "fromcurrent": true,
              "mode": "immediate",
              "transition": {
               "duration": 0,
               "easing": "linear"
              }
             }
            ],
            "label": "1610468759",
            "method": "animate"
           },
           {
            "args": [
             [
              "1610468809"
             ],
             {
              "frame": {
               "duration": 0,
               "redraw": true
              },
              "fromcurrent": true,
              "mode": "immediate",
              "transition": {
               "duration": 0,
               "easing": "linear"
              }
             }
            ],
            "label": "1610468809",
            "method": "animate"
           },
           {
            "args": [
             [
              "1610469012"
             ],
             {
              "frame": {
               "duration": 0,
               "redraw": true
              },
              "fromcurrent": true,
              "mode": "immediate",
              "transition": {
               "duration": 0,
               "easing": "linear"
              }
             }
            ],
            "label": "1610469012",
            "method": "animate"
           },
           {
            "args": [
             [
              "1610469104"
             ],
             {
              "frame": {
               "duration": 0,
               "redraw": true
              },
              "fromcurrent": true,
              "mode": "immediate",
              "transition": {
               "duration": 0,
               "easing": "linear"
              }
             }
            ],
            "label": "1610469104",
            "method": "animate"
           },
           {
            "args": [
             [
              "1610470234"
             ],
             {
              "frame": {
               "duration": 0,
               "redraw": true
              },
              "fromcurrent": true,
              "mode": "immediate",
              "transition": {
               "duration": 0,
               "easing": "linear"
              }
             }
            ],
            "label": "1610470234",
            "method": "animate"
           },
           {
            "args": [
             [
              "1610470310"
             ],
             {
              "frame": {
               "duration": 0,
               "redraw": true
              },
              "fromcurrent": true,
              "mode": "immediate",
              "transition": {
               "duration": 0,
               "easing": "linear"
              }
             }
            ],
            "label": "1610470310",
            "method": "animate"
           },
           {
            "args": [
             [
              "1610470449"
             ],
             {
              "frame": {
               "duration": 0,
               "redraw": true
              },
              "fromcurrent": true,
              "mode": "immediate",
              "transition": {
               "duration": 0,
               "easing": "linear"
              }
             }
            ],
            "label": "1610470449",
            "method": "animate"
           },
           {
            "args": [
             [
              "1610470509"
             ],
             {
              "frame": {
               "duration": 0,
               "redraw": true
              },
              "fromcurrent": true,
              "mode": "immediate",
              "transition": {
               "duration": 0,
               "easing": "linear"
              }
             }
            ],
            "label": "1610470509",
            "method": "animate"
           },
           {
            "args": [
             [
              "1610469249"
             ],
             {
              "frame": {
               "duration": 0,
               "redraw": true
              },
              "fromcurrent": true,
              "mode": "immediate",
              "transition": {
               "duration": 0,
               "easing": "linear"
              }
             }
            ],
            "label": "1610469249",
            "method": "animate"
           },
           {
            "args": [
             [
              "1610469338"
             ],
             {
              "frame": {
               "duration": 0,
               "redraw": true
              },
              "fromcurrent": true,
              "mode": "immediate",
              "transition": {
               "duration": 0,
               "easing": "linear"
              }
             }
            ],
            "label": "1610469338",
            "method": "animate"
           },
           {
            "args": [
             [
              "1610469481"
             ],
             {
              "frame": {
               "duration": 0,
               "redraw": true
              },
              "fromcurrent": true,
              "mode": "immediate",
              "transition": {
               "duration": 0,
               "easing": "linear"
              }
             }
            ],
            "label": "1610469481",
            "method": "animate"
           },
           {
            "args": [
             [
              "1610469599"
             ],
             {
              "frame": {
               "duration": 0,
               "redraw": true
              },
              "fromcurrent": true,
              "mode": "immediate",
              "transition": {
               "duration": 0,
               "easing": "linear"
              }
             }
            ],
            "label": "1610469599",
            "method": "animate"
           },
           {
            "args": [
             [
              "1610469676"
             ],
             {
              "frame": {
               "duration": 0,
               "redraw": true
              },
              "fromcurrent": true,
              "mode": "immediate",
              "transition": {
               "duration": 0,
               "easing": "linear"
              }
             }
            ],
            "label": "1610469676",
            "method": "animate"
           },
           {
            "args": [
             [
              "1610469765"
             ],
             {
              "frame": {
               "duration": 0,
               "redraw": true
              },
              "fromcurrent": true,
              "mode": "immediate",
              "transition": {
               "duration": 0,
               "easing": "linear"
              }
             }
            ],
            "label": "1610469765",
            "method": "animate"
           },
           {
            "args": [
             [
              "1610468141"
             ],
             {
              "frame": {
               "duration": 0,
               "redraw": true
              },
              "fromcurrent": true,
              "mode": "immediate",
              "transition": {
               "duration": 0,
               "easing": "linear"
              }
             }
            ],
            "label": "1610468141",
            "method": "animate"
           },
           {
            "args": [
             [
              "1610468231"
             ],
             {
              "frame": {
               "duration": 0,
               "redraw": true
              },
              "fromcurrent": true,
              "mode": "immediate",
              "transition": {
               "duration": 0,
               "easing": "linear"
              }
             }
            ],
            "label": "1610468231",
            "method": "animate"
           },
           {
            "args": [
             [
              "1610468346"
             ],
             {
              "frame": {
               "duration": 0,
               "redraw": true
              },
              "fromcurrent": true,
              "mode": "immediate",
              "transition": {
               "duration": 0,
               "easing": "linear"
              }
             }
            ],
            "label": "1610468346",
            "method": "animate"
           },
           {
            "args": [
             [
              "1610468376"
             ],
             {
              "frame": {
               "duration": 0,
               "redraw": true
              },
              "fromcurrent": true,
              "mode": "immediate",
              "transition": {
               "duration": 0,
               "easing": "linear"
              }
             }
            ],
            "label": "1610468376",
            "method": "animate"
           },
           {
            "args": [
             [
              "1610469707"
             ],
             {
              "frame": {
               "duration": 0,
               "redraw": true
              },
              "fromcurrent": true,
              "mode": "immediate",
              "transition": {
               "duration": 0,
               "easing": "linear"
              }
             }
            ],
            "label": "1610469707",
            "method": "animate"
           },
           {
            "args": [
             [
              "1610469736"
             ],
             {
              "frame": {
               "duration": 0,
               "redraw": true
              },
              "fromcurrent": true,
              "mode": "immediate",
              "transition": {
               "duration": 0,
               "easing": "linear"
              }
             }
            ],
            "label": "1610469736",
            "method": "animate"
           },
           {
            "args": [
             [
              "1610469988"
             ],
             {
              "frame": {
               "duration": 0,
               "redraw": true
              },
              "fromcurrent": true,
              "mode": "immediate",
              "transition": {
               "duration": 0,
               "easing": "linear"
              }
             }
            ],
            "label": "1610469988",
            "method": "animate"
           },
           {
            "args": [
             [
              "1610470119"
             ],
             {
              "frame": {
               "duration": 0,
               "redraw": true
              },
              "fromcurrent": true,
              "mode": "immediate",
              "transition": {
               "duration": 0,
               "easing": "linear"
              }
             }
            ],
            "label": "1610470119",
            "method": "animate"
           },
           {
            "args": [
             [
              "1610467385"
             ],
             {
              "frame": {
               "duration": 0,
               "redraw": true
              },
              "fromcurrent": true,
              "mode": "immediate",
              "transition": {
               "duration": 0,
               "easing": "linear"
              }
             }
            ],
            "label": "1610467385",
            "method": "animate"
           },
           {
            "args": [
             [
              "1610467426"
             ],
             {
              "frame": {
               "duration": 0,
               "redraw": true
              },
              "fromcurrent": true,
              "mode": "immediate",
              "transition": {
               "duration": 0,
               "easing": "linear"
              }
             }
            ],
            "label": "1610467426",
            "method": "animate"
           },
           {
            "args": [
             [
              "1610467456"
             ],
             {
              "frame": {
               "duration": 0,
               "redraw": true
              },
              "fromcurrent": true,
              "mode": "immediate",
              "transition": {
               "duration": 0,
               "easing": "linear"
              }
             }
            ],
            "label": "1610467456",
            "method": "animate"
           },
           {
            "args": [
             [
              "1610467577"
             ],
             {
              "frame": {
               "duration": 0,
               "redraw": true
              },
              "fromcurrent": true,
              "mode": "immediate",
              "transition": {
               "duration": 0,
               "easing": "linear"
              }
             }
            ],
            "label": "1610467577",
            "method": "animate"
           },
           {
            "args": [
             [
              "1610467656"
             ],
             {
              "frame": {
               "duration": 0,
               "redraw": true
              },
              "fromcurrent": true,
              "mode": "immediate",
              "transition": {
               "duration": 0,
               "easing": "linear"
              }
             }
            ],
            "label": "1610467656",
            "method": "animate"
           },
           {
            "args": [
             [
              "1610467661"
             ],
             {
              "frame": {
               "duration": 0,
               "redraw": true
              },
              "fromcurrent": true,
              "mode": "immediate",
              "transition": {
               "duration": 0,
               "easing": "linear"
              }
             }
            ],
            "label": "1610467661",
            "method": "animate"
           },
           {
            "args": [
             [
              "1610467687"
             ],
             {
              "frame": {
               "duration": 0,
               "redraw": true
              },
              "fromcurrent": true,
              "mode": "immediate",
              "transition": {
               "duration": 0,
               "easing": "linear"
              }
             }
            ],
            "label": "1610467687",
            "method": "animate"
           },
           {
            "args": [
             [
              "1610470389"
             ],
             {
              "frame": {
               "duration": 0,
               "redraw": true
              },
              "fromcurrent": true,
              "mode": "immediate",
              "transition": {
               "duration": 0,
               "easing": "linear"
              }
             }
            ],
            "label": "1610470389",
            "method": "animate"
           },
           {
            "args": [
             [
              "1610470451"
             ],
             {
              "frame": {
               "duration": 0,
               "redraw": true
              },
              "fromcurrent": true,
              "mode": "immediate",
              "transition": {
               "duration": 0,
               "easing": "linear"
              }
             }
            ],
            "label": "1610470451",
            "method": "animate"
           },
           {
            "args": [
             [
              "1610470504"
             ],
             {
              "frame": {
               "duration": 0,
               "redraw": true
              },
              "fromcurrent": true,
              "mode": "immediate",
              "transition": {
               "duration": 0,
               "easing": "linear"
              }
             }
            ],
            "label": "1610470504",
            "method": "animate"
           },
           {
            "args": [
             [
              "1610468729"
             ],
             {
              "frame": {
               "duration": 0,
               "redraw": true
              },
              "fromcurrent": true,
              "mode": "immediate",
              "transition": {
               "duration": 0,
               "easing": "linear"
              }
             }
            ],
            "label": "1610468729",
            "method": "animate"
           },
           {
            "args": [
             [
              "1610468830"
             ],
             {
              "frame": {
               "duration": 0,
               "redraw": true
              },
              "fromcurrent": true,
              "mode": "immediate",
              "transition": {
               "duration": 0,
               "easing": "linear"
              }
             }
            ],
            "label": "1610468830",
            "method": "animate"
           },
           {
            "args": [
             [
              "1610468864"
             ],
             {
              "frame": {
               "duration": 0,
               "redraw": true
              },
              "fromcurrent": true,
              "mode": "immediate",
              "transition": {
               "duration": 0,
               "easing": "linear"
              }
             }
            ],
            "label": "1610468864",
            "method": "animate"
           },
           {
            "args": [
             [
              "1610469106"
             ],
             {
              "frame": {
               "duration": 0,
               "redraw": true
              },
              "fromcurrent": true,
              "mode": "immediate",
              "transition": {
               "duration": 0,
               "easing": "linear"
              }
             }
            ],
            "label": "1610469106",
            "method": "animate"
           },
           {
            "args": [
             [
              "1610469136"
             ],
             {
              "frame": {
               "duration": 0,
               "redraw": true
              },
              "fromcurrent": true,
              "mode": "immediate",
              "transition": {
               "duration": 0,
               "easing": "linear"
              }
             }
            ],
            "label": "1610469136",
            "method": "animate"
           },
           {
            "args": [
             [
              "1610468873"
             ],
             {
              "frame": {
               "duration": 0,
               "redraw": true
              },
              "fromcurrent": true,
              "mode": "immediate",
              "transition": {
               "duration": 0,
               "easing": "linear"
              }
             }
            ],
            "label": "1610468873",
            "method": "animate"
           },
           {
            "args": [
             [
              "1610469326"
             ],
             {
              "frame": {
               "duration": 0,
               "redraw": true
              },
              "fromcurrent": true,
              "mode": "immediate",
              "transition": {
               "duration": 0,
               "easing": "linear"
              }
             }
            ],
            "label": "1610469326",
            "method": "animate"
           },
           {
            "args": [
             [
              "1610469397"
             ],
             {
              "frame": {
               "duration": 0,
               "redraw": true
              },
              "fromcurrent": true,
              "mode": "immediate",
              "transition": {
               "duration": 0,
               "easing": "linear"
              }
             }
            ],
            "label": "1610469397",
            "method": "animate"
           },
           {
            "args": [
             [
              "1610469429"
             ],
             {
              "frame": {
               "duration": 0,
               "redraw": true
              },
              "fromcurrent": true,
              "mode": "immediate",
              "transition": {
               "duration": 0,
               "easing": "linear"
              }
             }
            ],
            "label": "1610469429",
            "method": "animate"
           },
           {
            "args": [
             [
              "1610469519"
             ],
             {
              "frame": {
               "duration": 0,
               "redraw": true
              },
              "fromcurrent": true,
              "mode": "immediate",
              "transition": {
               "duration": 0,
               "easing": "linear"
              }
             }
            ],
            "label": "1610469519",
            "method": "animate"
           },
           {
            "args": [
             [
              "1610469608"
             ],
             {
              "frame": {
               "duration": 0,
               "redraw": true
              },
              "fromcurrent": true,
              "mode": "immediate",
              "transition": {
               "duration": 0,
               "easing": "linear"
              }
             }
            ],
            "label": "1610469608",
            "method": "animate"
           },
           {
            "args": [
             [
              "1610469698"
             ],
             {
              "frame": {
               "duration": 0,
               "redraw": true
              },
              "fromcurrent": true,
              "mode": "immediate",
              "transition": {
               "duration": 0,
               "easing": "linear"
              }
             }
            ],
            "label": "1610469698",
            "method": "animate"
           },
           {
            "args": [
             [
              "1610467178"
             ],
             {
              "frame": {
               "duration": 0,
               "redraw": true
              },
              "fromcurrent": true,
              "mode": "immediate",
              "transition": {
               "duration": 0,
               "easing": "linear"
              }
             }
            ],
            "label": "1610467178",
            "method": "animate"
           },
           {
            "args": [
             [
              "1610467449"
             ],
             {
              "frame": {
               "duration": 0,
               "redraw": true
              },
              "fromcurrent": true,
              "mode": "immediate",
              "transition": {
               "duration": 0,
               "easing": "linear"
              }
             }
            ],
            "label": "1610467449",
            "method": "animate"
           },
           {
            "args": [
             [
              "1610467554"
             ],
             {
              "frame": {
               "duration": 0,
               "redraw": true
              },
              "fromcurrent": true,
              "mode": "immediate",
              "transition": {
               "duration": 0,
               "easing": "linear"
              }
             }
            ],
            "label": "1610467554",
            "method": "animate"
           },
           {
            "args": [
             [
              "1610467615"
             ],
             {
              "frame": {
               "duration": 0,
               "redraw": true
              },
              "fromcurrent": true,
              "mode": "immediate",
              "transition": {
               "duration": 0,
               "easing": "linear"
              }
             }
            ],
            "label": "1610467615",
            "method": "animate"
           },
           {
            "args": [
             [
              "1610467795"
             ],
             {
              "frame": {
               "duration": 0,
               "redraw": true
              },
              "fromcurrent": true,
              "mode": "immediate",
              "transition": {
               "duration": 0,
               "easing": "linear"
              }
             }
            ],
            "label": "1610467795",
            "method": "animate"
           },
           {
            "args": [
             [
              "1610467831"
             ],
             {
              "frame": {
               "duration": 0,
               "redraw": true
              },
              "fromcurrent": true,
              "mode": "immediate",
              "transition": {
               "duration": 0,
               "easing": "linear"
              }
             }
            ],
            "label": "1610467831",
            "method": "animate"
           },
           {
            "args": [
             [
              "1610467484"
             ],
             {
              "frame": {
               "duration": 0,
               "redraw": true
              },
              "fromcurrent": true,
              "mode": "immediate",
              "transition": {
               "duration": 0,
               "easing": "linear"
              }
             }
            ],
            "label": "1610467484",
            "method": "animate"
           },
           {
            "args": [
             [
              "1610467501"
             ],
             {
              "frame": {
               "duration": 0,
               "redraw": true
              },
              "fromcurrent": true,
              "mode": "immediate",
              "transition": {
               "duration": 0,
               "easing": "linear"
              }
             }
            ],
            "label": "1610467501",
            "method": "animate"
           },
           {
            "args": [
             [
              "1610467747"
             ],
             {
              "frame": {
               "duration": 0,
               "redraw": true
              },
              "fromcurrent": true,
              "mode": "immediate",
              "transition": {
               "duration": 0,
               "easing": "linear"
              }
             }
            ],
            "label": "1610467747",
            "method": "animate"
           },
           {
            "args": [
             [
              "1610467008"
             ],
             {
              "frame": {
               "duration": 0,
               "redraw": true
              },
              "fromcurrent": true,
              "mode": "immediate",
              "transition": {
               "duration": 0,
               "easing": "linear"
              }
             }
            ],
            "label": "1610467008",
            "method": "animate"
           },
           {
            "args": [
             [
              "1610467189"
             ],
             {
              "frame": {
               "duration": 0,
               "redraw": true
              },
              "fromcurrent": true,
              "mode": "immediate",
              "transition": {
               "duration": 0,
               "easing": "linear"
              }
             }
            ],
            "label": "1610467189",
            "method": "animate"
           },
           {
            "args": [
             [
              "1610468202"
             ],
             {
              "frame": {
               "duration": 0,
               "redraw": true
              },
              "fromcurrent": true,
              "mode": "immediate",
              "transition": {
               "duration": 0,
               "easing": "linear"
              }
             }
            ],
            "label": "1610468202",
            "method": "animate"
           },
           {
            "args": [
             [
              "1610468290"
             ],
             {
              "frame": {
               "duration": 0,
               "redraw": true
              },
              "fromcurrent": true,
              "mode": "immediate",
              "transition": {
               "duration": 0,
               "easing": "linear"
              }
             }
            ],
            "label": "1610468290",
            "method": "animate"
           },
           {
            "args": [
             [
              "1610468381"
             ],
             {
              "frame": {
               "duration": 0,
               "redraw": true
              },
              "fromcurrent": true,
              "mode": "immediate",
              "transition": {
               "duration": 0,
               "easing": "linear"
              }
             }
            ],
            "label": "1610468381",
            "method": "animate"
           },
           {
            "args": [
             [
              "1610469796"
             ],
             {
              "frame": {
               "duration": 0,
               "redraw": true
              },
              "fromcurrent": true,
              "mode": "immediate",
              "transition": {
               "duration": 0,
               "easing": "linear"
              }
             }
            ],
            "label": "1610469796",
            "method": "animate"
           },
           {
            "args": [
             [
              "1610469886"
             ],
             {
              "frame": {
               "duration": 0,
               "redraw": true
              },
              "fromcurrent": true,
              "mode": "immediate",
              "transition": {
               "duration": 0,
               "easing": "linear"
              }
             }
            ],
            "label": "1610469886",
            "method": "animate"
           },
           {
            "args": [
             [
              "1610469976"
             ],
             {
              "frame": {
               "duration": 0,
               "redraw": true
              },
              "fromcurrent": true,
              "mode": "immediate",
              "transition": {
               "duration": 0,
               "easing": "linear"
              }
             }
            ],
            "label": "1610469976",
            "method": "animate"
           },
           {
            "args": [
             [
              "1610470066"
             ],
             {
              "frame": {
               "duration": 0,
               "redraw": true
              },
              "fromcurrent": true,
              "mode": "immediate",
              "transition": {
               "duration": 0,
               "easing": "linear"
              }
             }
            ],
            "label": "1610470066",
            "method": "animate"
           },
           {
            "args": [
             [
              "1610470336"
             ],
             {
              "frame": {
               "duration": 0,
               "redraw": true
              },
              "fromcurrent": true,
              "mode": "immediate",
              "transition": {
               "duration": 0,
               "easing": "linear"
              }
             }
            ],
            "label": "1610470336",
            "method": "animate"
           },
           {
            "args": [
             [
              "1610467972"
             ],
             {
              "frame": {
               "duration": 0,
               "redraw": true
              },
              "fromcurrent": true,
              "mode": "immediate",
              "transition": {
               "duration": 0,
               "easing": "linear"
              }
             }
            ],
            "label": "1610467972",
            "method": "animate"
           },
           {
            "args": [
             [
              "1610469658"
             ],
             {
              "frame": {
               "duration": 0,
               "redraw": true
              },
              "fromcurrent": true,
              "mode": "immediate",
              "transition": {
               "duration": 0,
               "easing": "linear"
              }
             }
            ],
            "label": "1610469658",
            "method": "animate"
           },
           {
            "args": [
             [
              "1610469708"
             ],
             {
              "frame": {
               "duration": 0,
               "redraw": true
              },
              "fromcurrent": true,
              "mode": "immediate",
              "transition": {
               "duration": 0,
               "easing": "linear"
              }
             }
            ],
            "label": "1610469708",
            "method": "animate"
           }
          ],
          "x": 0.1,
          "xanchor": "left",
          "y": 0,
          "yanchor": "top"
         }
        ],
        "template": {
         "data": {
          "bar": [
           {
            "error_x": {
             "color": "#2a3f5f"
            },
            "error_y": {
             "color": "#2a3f5f"
            },
            "marker": {
             "line": {
              "color": "#E5ECF6",
              "width": 0.5
             },
             "pattern": {
              "fillmode": "overlay",
              "size": 10,
              "solidity": 0.2
             }
            },
            "type": "bar"
           }
          ],
          "barpolar": [
           {
            "marker": {
             "line": {
              "color": "#E5ECF6",
              "width": 0.5
             },
             "pattern": {
              "fillmode": "overlay",
              "size": 10,
              "solidity": 0.2
             }
            },
            "type": "barpolar"
           }
          ],
          "carpet": [
           {
            "aaxis": {
             "endlinecolor": "#2a3f5f",
             "gridcolor": "white",
             "linecolor": "white",
             "minorgridcolor": "white",
             "startlinecolor": "#2a3f5f"
            },
            "baxis": {
             "endlinecolor": "#2a3f5f",
             "gridcolor": "white",
             "linecolor": "white",
             "minorgridcolor": "white",
             "startlinecolor": "#2a3f5f"
            },
            "type": "carpet"
           }
          ],
          "choropleth": [
           {
            "colorbar": {
             "outlinewidth": 0,
             "ticks": ""
            },
            "type": "choropleth"
           }
          ],
          "contour": [
           {
            "colorbar": {
             "outlinewidth": 0,
             "ticks": ""
            },
            "colorscale": [
             [
              0,
              "#0d0887"
             ],
             [
              0.1111111111111111,
              "#46039f"
             ],
             [
              0.2222222222222222,
              "#7201a8"
             ],
             [
              0.3333333333333333,
              "#9c179e"
             ],
             [
              0.4444444444444444,
              "#bd3786"
             ],
             [
              0.5555555555555556,
              "#d8576b"
             ],
             [
              0.6666666666666666,
              "#ed7953"
             ],
             [
              0.7777777777777778,
              "#fb9f3a"
             ],
             [
              0.8888888888888888,
              "#fdca26"
             ],
             [
              1,
              "#f0f921"
             ]
            ],
            "type": "contour"
           }
          ],
          "contourcarpet": [
           {
            "colorbar": {
             "outlinewidth": 0,
             "ticks": ""
            },
            "type": "contourcarpet"
           }
          ],
          "heatmap": [
           {
            "colorbar": {
             "outlinewidth": 0,
             "ticks": ""
            },
            "colorscale": [
             [
              0,
              "#0d0887"
             ],
             [
              0.1111111111111111,
              "#46039f"
             ],
             [
              0.2222222222222222,
              "#7201a8"
             ],
             [
              0.3333333333333333,
              "#9c179e"
             ],
             [
              0.4444444444444444,
              "#bd3786"
             ],
             [
              0.5555555555555556,
              "#d8576b"
             ],
             [
              0.6666666666666666,
              "#ed7953"
             ],
             [
              0.7777777777777778,
              "#fb9f3a"
             ],
             [
              0.8888888888888888,
              "#fdca26"
             ],
             [
              1,
              "#f0f921"
             ]
            ],
            "type": "heatmap"
           }
          ],
          "heatmapgl": [
           {
            "colorbar": {
             "outlinewidth": 0,
             "ticks": ""
            },
            "colorscale": [
             [
              0,
              "#0d0887"
             ],
             [
              0.1111111111111111,
              "#46039f"
             ],
             [
              0.2222222222222222,
              "#7201a8"
             ],
             [
              0.3333333333333333,
              "#9c179e"
             ],
             [
              0.4444444444444444,
              "#bd3786"
             ],
             [
              0.5555555555555556,
              "#d8576b"
             ],
             [
              0.6666666666666666,
              "#ed7953"
             ],
             [
              0.7777777777777778,
              "#fb9f3a"
             ],
             [
              0.8888888888888888,
              "#fdca26"
             ],
             [
              1,
              "#f0f921"
             ]
            ],
            "type": "heatmapgl"
           }
          ],
          "histogram": [
           {
            "marker": {
             "pattern": {
              "fillmode": "overlay",
              "size": 10,
              "solidity": 0.2
             }
            },
            "type": "histogram"
           }
          ],
          "histogram2d": [
           {
            "colorbar": {
             "outlinewidth": 0,
             "ticks": ""
            },
            "colorscale": [
             [
              0,
              "#0d0887"
             ],
             [
              0.1111111111111111,
              "#46039f"
             ],
             [
              0.2222222222222222,
              "#7201a8"
             ],
             [
              0.3333333333333333,
              "#9c179e"
             ],
             [
              0.4444444444444444,
              "#bd3786"
             ],
             [
              0.5555555555555556,
              "#d8576b"
             ],
             [
              0.6666666666666666,
              "#ed7953"
             ],
             [
              0.7777777777777778,
              "#fb9f3a"
             ],
             [
              0.8888888888888888,
              "#fdca26"
             ],
             [
              1,
              "#f0f921"
             ]
            ],
            "type": "histogram2d"
           }
          ],
          "histogram2dcontour": [
           {
            "colorbar": {
             "outlinewidth": 0,
             "ticks": ""
            },
            "colorscale": [
             [
              0,
              "#0d0887"
             ],
             [
              0.1111111111111111,
              "#46039f"
             ],
             [
              0.2222222222222222,
              "#7201a8"
             ],
             [
              0.3333333333333333,
              "#9c179e"
             ],
             [
              0.4444444444444444,
              "#bd3786"
             ],
             [
              0.5555555555555556,
              "#d8576b"
             ],
             [
              0.6666666666666666,
              "#ed7953"
             ],
             [
              0.7777777777777778,
              "#fb9f3a"
             ],
             [
              0.8888888888888888,
              "#fdca26"
             ],
             [
              1,
              "#f0f921"
             ]
            ],
            "type": "histogram2dcontour"
           }
          ],
          "mesh3d": [
           {
            "colorbar": {
             "outlinewidth": 0,
             "ticks": ""
            },
            "type": "mesh3d"
           }
          ],
          "parcoords": [
           {
            "line": {
             "colorbar": {
              "outlinewidth": 0,
              "ticks": ""
             }
            },
            "type": "parcoords"
           }
          ],
          "pie": [
           {
            "automargin": true,
            "type": "pie"
           }
          ],
          "scatter": [
           {
            "fillpattern": {
             "fillmode": "overlay",
             "size": 10,
             "solidity": 0.2
            },
            "type": "scatter"
           }
          ],
          "scatter3d": [
           {
            "line": {
             "colorbar": {
              "outlinewidth": 0,
              "ticks": ""
             }
            },
            "marker": {
             "colorbar": {
              "outlinewidth": 0,
              "ticks": ""
             }
            },
            "type": "scatter3d"
           }
          ],
          "scattercarpet": [
           {
            "marker": {
             "colorbar": {
              "outlinewidth": 0,
              "ticks": ""
             }
            },
            "type": "scattercarpet"
           }
          ],
          "scattergeo": [
           {
            "marker": {
             "colorbar": {
              "outlinewidth": 0,
              "ticks": ""
             }
            },
            "type": "scattergeo"
           }
          ],
          "scattergl": [
           {
            "marker": {
             "colorbar": {
              "outlinewidth": 0,
              "ticks": ""
             }
            },
            "type": "scattergl"
           }
          ],
          "scattermapbox": [
           {
            "marker": {
             "colorbar": {
              "outlinewidth": 0,
              "ticks": ""
             }
            },
            "type": "scattermapbox"
           }
          ],
          "scatterpolar": [
           {
            "marker": {
             "colorbar": {
              "outlinewidth": 0,
              "ticks": ""
             }
            },
            "type": "scatterpolar"
           }
          ],
          "scatterpolargl": [
           {
            "marker": {
             "colorbar": {
              "outlinewidth": 0,
              "ticks": ""
             }
            },
            "type": "scatterpolargl"
           }
          ],
          "scatterternary": [
           {
            "marker": {
             "colorbar": {
              "outlinewidth": 0,
              "ticks": ""
             }
            },
            "type": "scatterternary"
           }
          ],
          "surface": [
           {
            "colorbar": {
             "outlinewidth": 0,
             "ticks": ""
            },
            "colorscale": [
             [
              0,
              "#0d0887"
             ],
             [
              0.1111111111111111,
              "#46039f"
             ],
             [
              0.2222222222222222,
              "#7201a8"
             ],
             [
              0.3333333333333333,
              "#9c179e"
             ],
             [
              0.4444444444444444,
              "#bd3786"
             ],
             [
              0.5555555555555556,
              "#d8576b"
             ],
             [
              0.6666666666666666,
              "#ed7953"
             ],
             [
              0.7777777777777778,
              "#fb9f3a"
             ],
             [
              0.8888888888888888,
              "#fdca26"
             ],
             [
              1,
              "#f0f921"
             ]
            ],
            "type": "surface"
           }
          ],
          "table": [
           {
            "cells": {
             "fill": {
              "color": "#EBF0F8"
             },
             "line": {
              "color": "white"
             }
            },
            "header": {
             "fill": {
              "color": "#C8D4E3"
             },
             "line": {
              "color": "white"
             }
            },
            "type": "table"
           }
          ]
         },
         "layout": {
          "annotationdefaults": {
           "arrowcolor": "#2a3f5f",
           "arrowhead": 0,
           "arrowwidth": 1
          },
          "autotypenumbers": "strict",
          "coloraxis": {
           "colorbar": {
            "outlinewidth": 0,
            "ticks": ""
           }
          },
          "colorscale": {
           "diverging": [
            [
             0,
             "#8e0152"
            ],
            [
             0.1,
             "#c51b7d"
            ],
            [
             0.2,
             "#de77ae"
            ],
            [
             0.3,
             "#f1b6da"
            ],
            [
             0.4,
             "#fde0ef"
            ],
            [
             0.5,
             "#f7f7f7"
            ],
            [
             0.6,
             "#e6f5d0"
            ],
            [
             0.7,
             "#b8e186"
            ],
            [
             0.8,
             "#7fbc41"
            ],
            [
             0.9,
             "#4d9221"
            ],
            [
             1,
             "#276419"
            ]
           ],
           "sequential": [
            [
             0,
             "#0d0887"
            ],
            [
             0.1111111111111111,
             "#46039f"
            ],
            [
             0.2222222222222222,
             "#7201a8"
            ],
            [
             0.3333333333333333,
             "#9c179e"
            ],
            [
             0.4444444444444444,
             "#bd3786"
            ],
            [
             0.5555555555555556,
             "#d8576b"
            ],
            [
             0.6666666666666666,
             "#ed7953"
            ],
            [
             0.7777777777777778,
             "#fb9f3a"
            ],
            [
             0.8888888888888888,
             "#fdca26"
            ],
            [
             1,
             "#f0f921"
            ]
           ],
           "sequentialminus": [
            [
             0,
             "#0d0887"
            ],
            [
             0.1111111111111111,
             "#46039f"
            ],
            [
             0.2222222222222222,
             "#7201a8"
            ],
            [
             0.3333333333333333,
             "#9c179e"
            ],
            [
             0.4444444444444444,
             "#bd3786"
            ],
            [
             0.5555555555555556,
             "#d8576b"
            ],
            [
             0.6666666666666666,
             "#ed7953"
            ],
            [
             0.7777777777777778,
             "#fb9f3a"
            ],
            [
             0.8888888888888888,
             "#fdca26"
            ],
            [
             1,
             "#f0f921"
            ]
           ]
          },
          "colorway": [
           "#636efa",
           "#EF553B",
           "#00cc96",
           "#ab63fa",
           "#FFA15A",
           "#19d3f3",
           "#FF6692",
           "#B6E880",
           "#FF97FF",
           "#FECB52"
          ],
          "font": {
           "color": "#2a3f5f"
          },
          "geo": {
           "bgcolor": "white",
           "lakecolor": "white",
           "landcolor": "#E5ECF6",
           "showlakes": true,
           "showland": true,
           "subunitcolor": "white"
          },
          "hoverlabel": {
           "align": "left"
          },
          "hovermode": "closest",
          "mapbox": {
           "style": "light"
          },
          "paper_bgcolor": "white",
          "plot_bgcolor": "#E5ECF6",
          "polar": {
           "angularaxis": {
            "gridcolor": "white",
            "linecolor": "white",
            "ticks": ""
           },
           "bgcolor": "#E5ECF6",
           "radialaxis": {
            "gridcolor": "white",
            "linecolor": "white",
            "ticks": ""
           }
          },
          "scene": {
           "xaxis": {
            "backgroundcolor": "#E5ECF6",
            "gridcolor": "white",
            "gridwidth": 2,
            "linecolor": "white",
            "showbackground": true,
            "ticks": "",
            "zerolinecolor": "white"
           },
           "yaxis": {
            "backgroundcolor": "#E5ECF6",
            "gridcolor": "white",
            "gridwidth": 2,
            "linecolor": "white",
            "showbackground": true,
            "ticks": "",
            "zerolinecolor": "white"
           },
           "zaxis": {
            "backgroundcolor": "#E5ECF6",
            "gridcolor": "white",
            "gridwidth": 2,
            "linecolor": "white",
            "showbackground": true,
            "ticks": "",
            "zerolinecolor": "white"
           }
          },
          "shapedefaults": {
           "line": {
            "color": "#2a3f5f"
           }
          },
          "ternary": {
           "aaxis": {
            "gridcolor": "white",
            "linecolor": "white",
            "ticks": ""
           },
           "baxis": {
            "gridcolor": "white",
            "linecolor": "white",
            "ticks": ""
           },
           "bgcolor": "#E5ECF6",
           "caxis": {
            "gridcolor": "white",
            "linecolor": "white",
            "ticks": ""
           }
          },
          "title": {
           "x": 0.05
          },
          "xaxis": {
           "automargin": true,
           "gridcolor": "white",
           "linecolor": "white",
           "ticks": "",
           "title": {
            "standoff": 15
           },
           "zerolinecolor": "white",
           "zerolinewidth": 2
          },
          "yaxis": {
           "automargin": true,
           "gridcolor": "white",
           "linecolor": "white",
           "ticks": "",
           "title": {
            "standoff": 15
           },
           "zerolinecolor": "white",
           "zerolinewidth": 2
          }
         }
        },
        "updatemenus": [
         {
          "buttons": [
           {
            "args": [
             null,
             {
              "frame": {
               "duration": 500,
               "redraw": true
              },
              "fromcurrent": true,
              "mode": "immediate",
              "transition": {
               "duration": 500,
               "easing": "linear"
              }
             }
            ],
            "label": "&#9654;",
            "method": "animate"
           },
           {
            "args": [
             [
              null
             ],
             {
              "frame": {
               "duration": 0,
               "redraw": true
              },
              "fromcurrent": true,
              "mode": "immediate",
              "transition": {
               "duration": 0,
               "easing": "linear"
              }
             }
            ],
            "label": "&#9724;",
            "method": "animate"
           }
          ],
          "direction": "left",
          "pad": {
           "r": 10,
           "t": 70
          },
          "showactive": false,
          "type": "buttons",
          "x": 0.1,
          "xanchor": "right",
          "y": 0,
          "yanchor": "top"
         }
        ]
       }
      }
     },
     "metadata": {},
     "output_type": "display_data"
    }
   ],
   "source": [
    "px.set_mapbox_access_token(os.getenv('MAPBOX_TOKEN'))\n",
    "fig = px.scatter_mapbox(\n",
    "    plot_data,\n",
    "    lon=\"lon\",\n",
    "    lat=\"lat\",\n",
    "    color=\"shingle_id\",\n",
    "    animation_frame=\"locationtime\",\n",
    "    animation_group=\"shingle_id\"\n",
    ")\n",
    "fig.show()"
   ]
  },
  {
   "cell_type": "code",
   "execution_count": null,
   "metadata": {},
   "outputs": [],
   "source": [
    "point_obs = train_traces[['lon','lat','speed_m_s','bearing']].values\n",
    "# Get component of speeds in x and y axes: soh cah toa\n",
    "x_speed_m_s = np.sin(point_obs[:,3]) * point_obs[:,2]\n",
    "y_speed_m_s = np.cos(point_obs[:,3]) * point_obs[:,2]\n",
    "# https://stackoverflow.com/questions/36013063/what-is-the-purpose-of-meshgrid-in-python-numpy\n",
    "# For X, only x coordinate indexes diff values. For Y, only y coordinate indexes diff values\n",
    "x = np.linspace(np.min(train_traces['lon']), np.max(train_traces['lon']), 1000)\n",
    "y = np.linspace(np.min(train_traces['lat']), np.max(train_traces['lat']), 1000)\n",
    "Y, X = np.meshgrid(x, y)\n",
    "# lon_bins = np.digitize(point_obs[:,0], x) - 1\n",
    "# lat_bins = np.digitize(point_obs[:,1], y) - 1"
   ]
  },
  {
   "cell_type": "code",
   "execution_count": null,
   "metadata": {},
   "outputs": [],
   "source": [
    "# The bins are off by one dimension from the gridlines; add back a very small extra bin\n",
    "xbins = np.append(x, x[-1]+.0000001)\n",
    "ybins = np.append(y, y[-1]+.0000001)\n",
    "# Gather speeds by their 2d lat/lon bins\n",
    "x_speed_hist, x_edges, y_edges = np.histogram2d(point_obs[:,0], point_obs[:,1], bins=[xbins,ybins], weights=x_speed_m_s, normed=False)\n",
    "y_speed_hist, x_edges, y_edges = np.histogram2d(point_obs[:,0], point_obs[:,1], bins=[xbins,ybins], weights=y_speed_m_s, normed=False)\n",
    "count_hist, x_edges, y_edges = np.histogram2d(point_obs[:,0], point_obs[:,1], bins=[xbins,ybins], normed=False)\n",
    "# Get the average in each 2d bin\n",
    "x_speed_hist = x_speed_hist.T / np.maximum(1, count_hist.T)\n",
    "y_speed_hist = y_speed_hist.T / np.maximum(1, count_hist.T)\n",
    "x_speed_hist[x_speed_hist==0] = .000001\n",
    "y_speed_hist[y_speed_hist==0] = .000001\n",
    "count_hist = count_hist.T"
   ]
  },
  {
   "cell_type": "code",
   "execution_count": null,
   "metadata": {},
   "outputs": [],
   "source": [
    "fig = px.imshow(count_hist)\n",
    "fig.show()"
   ]
  },
  {
   "cell_type": "code",
   "execution_count": null,
   "metadata": {},
   "outputs": [],
   "source": [
    "# Create streamline figure\n",
    "fig = ff.create_streamline(x, y, x_speed_hist, y_speed_hist, density=2, arrow_scale=.005)\n",
    "fig.show()"
   ]
  },
  {
   "cell_type": "code",
   "execution_count": null,
   "metadata": {},
   "outputs": [],
   "source": [
    "# Could filter on bearing\n",
    "# Could weight mean by distance and time\n",
    "# Could use pace, percentiles, or schedule deviation"
   ]
  },
  {
   "cell_type": "code",
   "execution_count": null,
   "metadata": {},
   "outputs": [],
   "source": [
    "avg_shingle_speeds = train_traces.groupby('shingle_id').mean(numeric_only=True)['speed_m_s'].reset_index()\n",
    "t = pd.merge(avg_shingle_speeds, adjacent_shingles, left_on=\"shingle_id\", right_on=\"pred_shingle\")\n",
    "print(len(avg_shingle_speeds), len(adjacent_shingles))\n",
    "t"
   ]
  },
  {
   "cell_type": "code",
   "execution_count": null,
   "metadata": {},
   "outputs": [],
   "source": [
    "logx = np.log(t['avg_adj_speed_m_s'])\n",
    "logy = np.log(t['speed_m_s'])\n",
    "\n",
    "# Fit polynomial to the data\n",
    "z = np.polyfit(logx, y=logy, deg=2)\n",
    "x_val = np.arange(-5,4,.1)\n",
    "p = np.poly1d(z)\n",
    "y_val = p(x_val)\n",
    "\n",
    "# Get metrics\n",
    "# R2: variance explained by model / total variance\n",
    "SSR = np.sum((logy - p(logx))**2)\n",
    "SST = np.sum((logy - np.mean(logy))**2)\n",
    "print(1 - (SSR/SST))\n",
    "sns.scatterplot(x=logx, y=logy, marker=\".\")\n",
    "sns.scatterplot(x=x_val, y=y_val)"
   ]
  },
  {
   "cell_type": "code",
   "execution_count": null,
   "metadata": {},
   "outputs": [],
   "source": [
    "# Fit polynomial to the data\n",
    "z = np.polyfit(x=t['avg_adj_speed_m_s'], y=t['speed_m_s'], deg=2)\n",
    "x_val = np.arange(0,35,.1)\n",
    "p = np.poly1d(z)\n",
    "y_val = p(x_val)\n",
    "\n",
    "# Get metrics\n",
    "# R2: variance explained by model / total variance\n",
    "SSR = np.sum((t['speed_m_s'] - p(t['avg_adj_speed_m_s']))**2)\n",
    "SST = np.sum((t['speed_m_s'] - np.mean(t['speed_m_s']))**2)\n",
    "print(1 - (SSR/SST))\n",
    "sns.scatterplot(x=t['avg_adj_speed_m_s'], y=t['speed_m_s'], marker=\".\")\n",
    "sns.scatterplot(x=x_val, y=y_val)"
   ]
  }
 ],
 "metadata": {
  "kernelspec": {
   "display_name": "valle_m1",
   "language": "python",
   "name": "python3"
  },
  "language_info": {
   "codemirror_mode": {
    "name": "ipython",
    "version": 3
   },
   "file_extension": ".py",
   "mimetype": "text/x-python",
   "name": "python",
   "nbconvert_exporter": "python",
   "pygments_lexer": "ipython3",
   "version": "3.9.16"
  },
  "orig_nbformat": 4,
  "vscode": {
   "interpreter": {
    "hash": "b30fe1de1713ca8e7537eef068b13a2de77ded03f86aab2e80ea73416dd3d704"
   }
  }
 },
 "nbformat": 4,
 "nbformat_minor": 2
}
