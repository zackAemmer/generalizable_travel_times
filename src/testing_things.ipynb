{
 "cells": [
  {
   "cell_type": "code",
   "execution_count": 4,
   "metadata": {},
   "outputs": [],
   "source": [
    "from datetime import datetime\n",
    "import itertools\n",
    "import json\n",
    "import math\n",
    "import os\n",
    "import sys\n",
    "\n",
    "import importlib\n",
    "import matplotlib.animation as animation\n",
    "import matplotlib.pyplot as plt\n",
    "import numpy as np\n",
    "import pandas as pd\n",
    "import pickle\n",
    "import plotly.express as px\n",
    "import plotly.figure_factory as ff\n",
    "import plotly.graph_objects as go\n",
    "import scipy\n",
    "from scipy.spatial import KDTree\n",
    "import seaborn as sns\n",
    "from sklearn import metrics\n",
    "import torch\n",
    "from torch.utils.data import DataLoader\n",
    "\n",
    "from utils import data_utils, data_loader, shape_utils\n",
    "\n",
    "importlib.reload(data_utils)\n",
    "importlib.reload(data_loader)\n",
    "importlib.reload(shape_utils)\n",
    "\n",
    "from dotenv import load_dotenv\n",
    "load_dotenv()\n",
    "\n",
    "%matplotlib inline\n",
    "\n",
    "RUN_FOLDER = \"../results/debug/\""
   ]
  },
  {
   "cell_type": "code",
   "execution_count": 2,
   "metadata": {},
   "outputs": [],
   "source": [
    "kcm_inputs = data_utils.load_all_inputs(RUN_FOLDER, \"kcm/\")\n",
    "atb_inputs = data_utils.load_all_inputs(RUN_FOLDER, \"atb/\")"
   ]
  },
  {
   "cell_type": "code",
   "execution_count": 6,
   "metadata": {},
   "outputs": [
    {
     "name": "stdout",
     "output_type": "stream",
     "text": [
      "0\n",
      "1\n",
      "2\n",
      "3\n",
      "4\n"
     ]
    }
   ],
   "source": [
    "# Sample shingle ids and choose dist/time ranges to test\n",
    "shingle_ids = pd.unique(kcm_inputs['test_traces']['shingle_id'])\n",
    "shingle_id_sample = np.random.choice(shingle_ids, 5)\n",
    "d_buffers = np.linspace(1,10000,20)\n",
    "t_buffers = np.linspace(1,60*60*6,20)\n",
    "\n",
    "# Collect metrics for each combination of d/t\n",
    "target = np.empty((len(shingle_id_sample)))\n",
    "adj = np.empty((len(shingle_id_sample), len(d_buffers), len(t_buffers)))\n",
    "# Filter on shingle id\n",
    "for i, id in enumerate(shingle_id_sample):\n",
    "    print(i)\n",
    "    shingle_data = kcm_inputs['test_traces'][kcm_inputs['test_traces']['shingle_id']==id]\n",
    "    adjacent_data = kcm_inputs['test_traces'][kcm_inputs['test_traces']['shingle_id']!=id]\n",
    "    # Filter adjacent points by distance\n",
    "    for d, dist in enumerate(d_buffers):\n",
    "        pt_indices = shape_utils.get_points_within_dist(adjacent_data[['x','y']].values, shingle_data[['x','y']].values, dist)\n",
    "        candidates = adjacent_data.iloc[pt_indices].sort_values(['shingle_id', 'locationtime'])\n",
    "        # Filter adjacent points by time\n",
    "        for t, time in enumerate(t_buffers):\n",
    "            t_min = np.min(shingle_data.locationtime) - time\n",
    "            t_max = np.min(shingle_data.locationtime)\n",
    "            candidates = candidates[candidates['locationtime'].between(t_min, t_max)]\n",
    "            # Keep record of feature for each combination of dist and time buffers\n",
    "            if candidates is None:\n",
    "                adj[i,d,t] = np.nan\n",
    "            else:\n",
    "                adj[i,d,t] = np.mean(candidates.speed_m_s)\n",
    "    # Shingle data is same regardless of t_buffer and d_buffer\n",
    "    target[i] = np.mean(shingle_data.speed_m_s)\n",
    "# Fill cases with no adjacent points with the average\n",
    "adj[np.isnan(adj)] = np.mean(adj[~np.isnan(adj)])"
   ]
  },
  {
   "cell_type": "code",
   "execution_count": 7,
   "metadata": {},
   "outputs": [
    {
     "name": "stderr",
     "output_type": "stream",
     "text": [
      "/var/folders/6p/76scpql109v8rhf5gm61sr4c0000gn/T/ipykernel_85562/2859743613.py:5: RankWarning: Polyfit may be poorly conditioned\n",
      "  R2, x_plt, y_plt = shape_utils.fit_poly(adj[:,d,t], target)\n",
      "/var/folders/6p/76scpql109v8rhf5gm61sr4c0000gn/T/ipykernel_85562/2859743613.py:5: RankWarning: Polyfit may be poorly conditioned\n",
      "  R2, x_plt, y_plt = shape_utils.fit_poly(adj[:,d,t], target)\n",
      "/var/folders/6p/76scpql109v8rhf5gm61sr4c0000gn/T/ipykernel_85562/2859743613.py:5: RankWarning: Polyfit may be poorly conditioned\n",
      "  R2, x_plt, y_plt = shape_utils.fit_poly(adj[:,d,t], target)\n",
      "/var/folders/6p/76scpql109v8rhf5gm61sr4c0000gn/T/ipykernel_85562/2859743613.py:5: RankWarning: Polyfit may be poorly conditioned\n",
      "  R2, x_plt, y_plt = shape_utils.fit_poly(adj[:,d,t], target)\n",
      "/var/folders/6p/76scpql109v8rhf5gm61sr4c0000gn/T/ipykernel_85562/2859743613.py:5: RankWarning: Polyfit may be poorly conditioned\n",
      "  R2, x_plt, y_plt = shape_utils.fit_poly(adj[:,d,t], target)\n",
      "/var/folders/6p/76scpql109v8rhf5gm61sr4c0000gn/T/ipykernel_85562/2859743613.py:5: RankWarning: Polyfit may be poorly conditioned\n",
      "  R2, x_plt, y_plt = shape_utils.fit_poly(adj[:,d,t], target)\n",
      "/var/folders/6p/76scpql109v8rhf5gm61sr4c0000gn/T/ipykernel_85562/2859743613.py:5: RankWarning: Polyfit may be poorly conditioned\n",
      "  R2, x_plt, y_plt = shape_utils.fit_poly(adj[:,d,t], target)\n",
      "/var/folders/6p/76scpql109v8rhf5gm61sr4c0000gn/T/ipykernel_85562/2859743613.py:5: RankWarning: Polyfit may be poorly conditioned\n",
      "  R2, x_plt, y_plt = shape_utils.fit_poly(adj[:,d,t], target)\n",
      "/var/folders/6p/76scpql109v8rhf5gm61sr4c0000gn/T/ipykernel_85562/2859743613.py:5: RankWarning: Polyfit may be poorly conditioned\n",
      "  R2, x_plt, y_plt = shape_utils.fit_poly(adj[:,d,t], target)\n",
      "/var/folders/6p/76scpql109v8rhf5gm61sr4c0000gn/T/ipykernel_85562/2859743613.py:5: RankWarning: Polyfit may be poorly conditioned\n",
      "  R2, x_plt, y_plt = shape_utils.fit_poly(adj[:,d,t], target)\n",
      "/var/folders/6p/76scpql109v8rhf5gm61sr4c0000gn/T/ipykernel_85562/2859743613.py:5: RankWarning: Polyfit may be poorly conditioned\n",
      "  R2, x_plt, y_plt = shape_utils.fit_poly(adj[:,d,t], target)\n",
      "/var/folders/6p/76scpql109v8rhf5gm61sr4c0000gn/T/ipykernel_85562/2859743613.py:5: RankWarning: Polyfit may be poorly conditioned\n",
      "  R2, x_plt, y_plt = shape_utils.fit_poly(adj[:,d,t], target)\n",
      "/var/folders/6p/76scpql109v8rhf5gm61sr4c0000gn/T/ipykernel_85562/2859743613.py:5: RankWarning: Polyfit may be poorly conditioned\n",
      "  R2, x_plt, y_plt = shape_utils.fit_poly(adj[:,d,t], target)\n",
      "/var/folders/6p/76scpql109v8rhf5gm61sr4c0000gn/T/ipykernel_85562/2859743613.py:5: RankWarning: Polyfit may be poorly conditioned\n",
      "  R2, x_plt, y_plt = shape_utils.fit_poly(adj[:,d,t], target)\n",
      "/var/folders/6p/76scpql109v8rhf5gm61sr4c0000gn/T/ipykernel_85562/2859743613.py:5: RankWarning: Polyfit may be poorly conditioned\n",
      "  R2, x_plt, y_plt = shape_utils.fit_poly(adj[:,d,t], target)\n",
      "/var/folders/6p/76scpql109v8rhf5gm61sr4c0000gn/T/ipykernel_85562/2859743613.py:5: RankWarning: Polyfit may be poorly conditioned\n",
      "  R2, x_plt, y_plt = shape_utils.fit_poly(adj[:,d,t], target)\n",
      "/var/folders/6p/76scpql109v8rhf5gm61sr4c0000gn/T/ipykernel_85562/2859743613.py:5: RankWarning: Polyfit may be poorly conditioned\n",
      "  R2, x_plt, y_plt = shape_utils.fit_poly(adj[:,d,t], target)\n",
      "/var/folders/6p/76scpql109v8rhf5gm61sr4c0000gn/T/ipykernel_85562/2859743613.py:5: RankWarning: Polyfit may be poorly conditioned\n",
      "  R2, x_plt, y_plt = shape_utils.fit_poly(adj[:,d,t], target)\n",
      "/var/folders/6p/76scpql109v8rhf5gm61sr4c0000gn/T/ipykernel_85562/2859743613.py:5: RankWarning: Polyfit may be poorly conditioned\n",
      "  R2, x_plt, y_plt = shape_utils.fit_poly(adj[:,d,t], target)\n",
      "/var/folders/6p/76scpql109v8rhf5gm61sr4c0000gn/T/ipykernel_85562/2859743613.py:5: RankWarning: Polyfit may be poorly conditioned\n",
      "  R2, x_plt, y_plt = shape_utils.fit_poly(adj[:,d,t], target)\n",
      "/var/folders/6p/76scpql109v8rhf5gm61sr4c0000gn/T/ipykernel_85562/2859743613.py:5: RankWarning: Polyfit may be poorly conditioned\n",
      "  R2, x_plt, y_plt = shape_utils.fit_poly(adj[:,d,t], target)\n",
      "/var/folders/6p/76scpql109v8rhf5gm61sr4c0000gn/T/ipykernel_85562/2859743613.py:5: RankWarning: Polyfit may be poorly conditioned\n",
      "  R2, x_plt, y_plt = shape_utils.fit_poly(adj[:,d,t], target)\n",
      "/var/folders/6p/76scpql109v8rhf5gm61sr4c0000gn/T/ipykernel_85562/2859743613.py:5: RankWarning: Polyfit may be poorly conditioned\n",
      "  R2, x_plt, y_plt = shape_utils.fit_poly(adj[:,d,t], target)\n",
      "/var/folders/6p/76scpql109v8rhf5gm61sr4c0000gn/T/ipykernel_85562/2859743613.py:5: RankWarning: Polyfit may be poorly conditioned\n",
      "  R2, x_plt, y_plt = shape_utils.fit_poly(adj[:,d,t], target)\n",
      "/var/folders/6p/76scpql109v8rhf5gm61sr4c0000gn/T/ipykernel_85562/2859743613.py:5: RankWarning: Polyfit may be poorly conditioned\n",
      "  R2, x_plt, y_plt = shape_utils.fit_poly(adj[:,d,t], target)\n",
      "/var/folders/6p/76scpql109v8rhf5gm61sr4c0000gn/T/ipykernel_85562/2859743613.py:5: RankWarning: Polyfit may be poorly conditioned\n",
      "  R2, x_plt, y_plt = shape_utils.fit_poly(adj[:,d,t], target)\n",
      "/var/folders/6p/76scpql109v8rhf5gm61sr4c0000gn/T/ipykernel_85562/2859743613.py:5: RankWarning: Polyfit may be poorly conditioned\n",
      "  R2, x_plt, y_plt = shape_utils.fit_poly(adj[:,d,t], target)\n",
      "/var/folders/6p/76scpql109v8rhf5gm61sr4c0000gn/T/ipykernel_85562/2859743613.py:5: RankWarning: Polyfit may be poorly conditioned\n",
      "  R2, x_plt, y_plt = shape_utils.fit_poly(adj[:,d,t], target)\n",
      "/var/folders/6p/76scpql109v8rhf5gm61sr4c0000gn/T/ipykernel_85562/2859743613.py:5: RankWarning: Polyfit may be poorly conditioned\n",
      "  R2, x_plt, y_plt = shape_utils.fit_poly(adj[:,d,t], target)\n",
      "/var/folders/6p/76scpql109v8rhf5gm61sr4c0000gn/T/ipykernel_85562/2859743613.py:5: RankWarning: Polyfit may be poorly conditioned\n",
      "  R2, x_plt, y_plt = shape_utils.fit_poly(adj[:,d,t], target)\n",
      "/var/folders/6p/76scpql109v8rhf5gm61sr4c0000gn/T/ipykernel_85562/2859743613.py:5: RankWarning: Polyfit may be poorly conditioned\n",
      "  R2, x_plt, y_plt = shape_utils.fit_poly(adj[:,d,t], target)\n",
      "/var/folders/6p/76scpql109v8rhf5gm61sr4c0000gn/T/ipykernel_85562/2859743613.py:5: RankWarning: Polyfit may be poorly conditioned\n",
      "  R2, x_plt, y_plt = shape_utils.fit_poly(adj[:,d,t], target)\n",
      "/var/folders/6p/76scpql109v8rhf5gm61sr4c0000gn/T/ipykernel_85562/2859743613.py:5: RankWarning: Polyfit may be poorly conditioned\n",
      "  R2, x_plt, y_plt = shape_utils.fit_poly(adj[:,d,t], target)\n",
      "/var/folders/6p/76scpql109v8rhf5gm61sr4c0000gn/T/ipykernel_85562/2859743613.py:5: RankWarning: Polyfit may be poorly conditioned\n",
      "  R2, x_plt, y_plt = shape_utils.fit_poly(adj[:,d,t], target)\n",
      "/var/folders/6p/76scpql109v8rhf5gm61sr4c0000gn/T/ipykernel_85562/2859743613.py:5: RankWarning: Polyfit may be poorly conditioned\n",
      "  R2, x_plt, y_plt = shape_utils.fit_poly(adj[:,d,t], target)\n",
      "/var/folders/6p/76scpql109v8rhf5gm61sr4c0000gn/T/ipykernel_85562/2859743613.py:5: RankWarning: Polyfit may be poorly conditioned\n",
      "  R2, x_plt, y_plt = shape_utils.fit_poly(adj[:,d,t], target)\n",
      "/var/folders/6p/76scpql109v8rhf5gm61sr4c0000gn/T/ipykernel_85562/2859743613.py:5: RankWarning: Polyfit may be poorly conditioned\n",
      "  R2, x_plt, y_plt = shape_utils.fit_poly(adj[:,d,t], target)\n",
      "/var/folders/6p/76scpql109v8rhf5gm61sr4c0000gn/T/ipykernel_85562/2859743613.py:5: RankWarning: Polyfit may be poorly conditioned\n",
      "  R2, x_plt, y_plt = shape_utils.fit_poly(adj[:,d,t], target)\n",
      "/var/folders/6p/76scpql109v8rhf5gm61sr4c0000gn/T/ipykernel_85562/2859743613.py:5: RankWarning: Polyfit may be poorly conditioned\n",
      "  R2, x_plt, y_plt = shape_utils.fit_poly(adj[:,d,t], target)\n",
      "/var/folders/6p/76scpql109v8rhf5gm61sr4c0000gn/T/ipykernel_85562/2859743613.py:5: RankWarning: Polyfit may be poorly conditioned\n",
      "  R2, x_plt, y_plt = shape_utils.fit_poly(adj[:,d,t], target)\n"
     ]
    },
    {
     "data": {
      "text/plain": [
       "array([[0.        , 0.        , 0.        , 0.        , 0.        ,\n",
       "        0.        , 0.        , 0.        , 0.        , 0.        ,\n",
       "        0.        , 0.        , 0.        , 0.        , 0.        ,\n",
       "        0.        , 0.        , 0.        , 0.        , 0.        ],\n",
       "       [0.07289969, 0.07289969, 0.07289969, 0.07289969, 0.07289969,\n",
       "        0.07289969, 0.07289969, 0.07289969, 0.07289969, 0.07289969,\n",
       "        0.07289969, 0.07289969, 0.07289969, 0.07289969, 0.07289969,\n",
       "        0.07289969, 0.07289969, 0.07289969, 0.07289969, 0.07289969],\n",
       "       [0.34438348, 0.34438348, 0.34438348, 0.34438348, 0.34438348,\n",
       "        0.34438348, 0.34438348, 0.34438348, 0.34438348, 0.34438348,\n",
       "        0.34438348, 0.34438348, 0.34438348, 0.34438348, 0.34438348,\n",
       "        0.34438348, 0.34438348, 0.34438348, 0.34438348, 0.34438348],\n",
       "       [0.3346522 , 0.3346522 , 0.3346522 , 0.3346522 , 0.3346522 ,\n",
       "        0.3346522 , 0.3346522 , 0.3346522 , 0.3346522 , 0.3346522 ,\n",
       "        0.3346522 , 0.3346522 , 0.3346522 , 0.3346522 , 0.3346522 ,\n",
       "        0.3346522 , 0.3346522 , 0.3346522 , 0.3346522 , 0.3346522 ],\n",
       "       [0.33433494, 0.33433494, 0.33433494, 0.33433494, 0.33433494,\n",
       "        0.33433494, 0.33433494, 0.33433494, 0.33433494, 0.33433494,\n",
       "        0.33433494, 0.33433494, 0.33433494, 0.33433494, 0.33433494,\n",
       "        0.33433494, 0.33433494, 0.33433494, 0.33433494, 0.33433494],\n",
       "       [0.2454821 , 0.2454821 , 0.2454821 , 0.2454821 , 0.2454821 ,\n",
       "        0.2454821 , 0.2454821 , 0.2454821 , 0.2454821 , 0.2454821 ,\n",
       "        0.2454821 , 0.2454821 , 0.2454821 , 0.2454821 , 0.2454821 ,\n",
       "        0.2454821 , 0.2454821 , 0.2454821 , 0.2454821 , 0.2454821 ],\n",
       "       [0.34614651, 0.34614651, 0.34614651, 0.34614651, 0.34614651,\n",
       "        0.34614651, 0.34614651, 0.34614651, 0.34614651, 0.34614651,\n",
       "        0.34614651, 0.34614651, 0.34614651, 0.34614651, 0.34614651,\n",
       "        0.34614651, 0.34614651, 0.34614651, 0.34614651, 0.34614651],\n",
       "       [0.32112727, 0.32112727, 0.32112727, 0.32112727, 0.32112727,\n",
       "        0.32112727, 0.32112727, 0.32112727, 0.32112727, 0.32112727,\n",
       "        0.32112727, 0.32112727, 0.32112727, 0.32112727, 0.32112727,\n",
       "        0.32112727, 0.32112727, 0.32112727, 0.32112727, 0.32112727],\n",
       "       [0.07791791, 0.07791791, 0.07791791, 0.07791791, 0.07791791,\n",
       "        0.07791791, 0.07791791, 0.07791791, 0.07791791, 0.07791791,\n",
       "        0.07791791, 0.07791791, 0.07791791, 0.07791791, 0.07791791,\n",
       "        0.07791791, 0.07791791, 0.07791791, 0.07791791, 0.07791791],\n",
       "       [0.29153599, 0.29153599, 0.29153599, 0.29153599, 0.29153599,\n",
       "        0.29153599, 0.29153599, 0.29153599, 0.29153599, 0.29153599,\n",
       "        0.29153599, 0.29153599, 0.29153599, 0.29153599, 0.29153599,\n",
       "        0.29153599, 0.29153599, 0.29153599, 0.29153599, 0.29153599],\n",
       "       [0.21429673, 0.21429673, 0.21429673, 0.21429673, 0.21429673,\n",
       "        0.21429673, 0.21429673, 0.21429673, 0.21429673, 0.21429673,\n",
       "        0.21429673, 0.21429673, 0.21429673, 0.21429673, 0.21429673,\n",
       "        0.21429673, 0.21429673, 0.21429673, 0.21429673, 0.21429673],\n",
       "       [0.28917018, 0.28917018, 0.28917018, 0.28917018, 0.28917018,\n",
       "        0.28917018, 0.28917018, 0.28917018, 0.28917018, 0.28917018,\n",
       "        0.28917018, 0.28917018, 0.28917018, 0.28917018, 0.28917018,\n",
       "        0.28917018, 0.28917018, 0.28917018, 0.28917018, 0.28917018],\n",
       "       [0.18766812, 0.18766812, 0.18766812, 0.18766812, 0.18766812,\n",
       "        0.18766812, 0.18766812, 0.18766812, 0.18766812, 0.18766812,\n",
       "        0.18766812, 0.18766812, 0.18766812, 0.18766812, 0.18766812,\n",
       "        0.18766812, 0.18766812, 0.18766812, 0.18766812, 0.18766812],\n",
       "       [0.1919257 , 0.1919257 , 0.1919257 , 0.1919257 , 0.1919257 ,\n",
       "        0.1919257 , 0.1919257 , 0.1919257 , 0.1919257 , 0.1919257 ,\n",
       "        0.1919257 , 0.1919257 , 0.1919257 , 0.1919257 , 0.1919257 ,\n",
       "        0.1919257 , 0.1919257 , 0.1919257 , 0.1919257 , 0.1919257 ],\n",
       "       [0.18677592, 0.18677592, 0.18677592, 0.18677592, 0.18677592,\n",
       "        0.18677592, 0.18677592, 0.18677592, 0.18677592, 0.18677592,\n",
       "        0.18677592, 0.18677592, 0.18677592, 0.18677592, 0.18677592,\n",
       "        0.18677592, 0.18677592, 0.18677592, 0.18677592, 0.18677592],\n",
       "       [0.16430015, 0.16430015, 0.16430015, 0.16430015, 0.16430015,\n",
       "        0.16430015, 0.16430015, 0.16430015, 0.16430015, 0.16430015,\n",
       "        0.16430015, 0.16430015, 0.16430015, 0.16430015, 0.16430015,\n",
       "        0.16430015, 0.16430015, 0.16430015, 0.16430015, 0.16430015],\n",
       "       [0.17773615, 0.17773615, 0.17773615, 0.17773615, 0.17773615,\n",
       "        0.17773615, 0.17773615, 0.17773615, 0.17773615, 0.17773615,\n",
       "        0.17773615, 0.17773615, 0.17773615, 0.17773615, 0.17773615,\n",
       "        0.17773615, 0.17773615, 0.17773615, 0.17773615, 0.17773615],\n",
       "       [0.19802274, 0.19802274, 0.19802274, 0.19802274, 0.19802274,\n",
       "        0.19802274, 0.19802274, 0.19802274, 0.19802274, 0.19802274,\n",
       "        0.19802274, 0.19802274, 0.19802274, 0.19802274, 0.19802274,\n",
       "        0.19802274, 0.19802274, 0.19802274, 0.19802274, 0.19802274],\n",
       "       [0.2116676 , 0.2116676 , 0.2116676 , 0.2116676 , 0.2116676 ,\n",
       "        0.2116676 , 0.2116676 , 0.2116676 , 0.2116676 , 0.2116676 ,\n",
       "        0.2116676 , 0.2116676 , 0.2116676 , 0.2116676 , 0.2116676 ,\n",
       "        0.2116676 , 0.2116676 , 0.2116676 , 0.2116676 , 0.2116676 ],\n",
       "       [0.2161287 , 0.2161287 , 0.2161287 , 0.2161287 , 0.2161287 ,\n",
       "        0.2161287 , 0.2161287 , 0.2161287 , 0.2161287 , 0.2161287 ,\n",
       "        0.2161287 , 0.2161287 , 0.2161287 , 0.2161287 , 0.2161287 ,\n",
       "        0.2161287 , 0.2161287 , 0.2161287 , 0.2161287 , 0.2161287 ]])"
      ]
     },
     "execution_count": 7,
     "metadata": {},
     "output_type": "execute_result"
    }
   ],
   "source": [
    "# Rows, Columns\n",
    "r_values = np.empty((adj.shape[1], adj.shape[2]))\n",
    "for d in range(adj.shape[1]):\n",
    "    for t in range(adj.shape[2]):\n",
    "        R2, x_plt, y_plt = shape_utils.fit_poly(adj[:,d,t], target)\n",
    "        r_values[d,t] = R2\n",
    "r_values"
   ]
  },
  {
   "cell_type": "code",
   "execution_count": 8,
   "metadata": {},
   "outputs": [
    {
     "data": {
      "application/vnd.plotly.v1+json": {
       "config": {
        "plotlyServerURL": "https://plot.ly"
       },
       "data": [
        {
         "coloraxis": "coloraxis",
         "hovertemplate": "Time: %{x}<br>Dist: %{y}<br>color: %{z}<extra></extra>",
         "name": "0",
         "type": "heatmap",
         "xaxis": "x",
         "yaxis": "y",
         "z": [
          [
           0,
           0,
           0,
           0,
           0,
           0,
           0,
           0,
           0,
           0,
           0,
           0,
           0,
           0,
           0,
           0,
           0,
           0,
           0,
           0
          ],
          [
           0.07289968548262793,
           0.07289968548262793,
           0.07289968548262793,
           0.07289968548262793,
           0.07289968548262793,
           0.07289968548262793,
           0.07289968548262793,
           0.07289968548262793,
           0.07289968548262793,
           0.07289968548262793,
           0.07289968548262793,
           0.07289968548262793,
           0.07289968548262793,
           0.07289968548262793,
           0.07289968548262793,
           0.07289968548262793,
           0.07289968548262793,
           0.07289968548262793,
           0.07289968548262793,
           0.07289968548262793
          ],
          [
           0.34438348462284474,
           0.34438348462284474,
           0.34438348462284474,
           0.34438348462284474,
           0.34438348462284474,
           0.34438348462284474,
           0.34438348462284474,
           0.34438348462284474,
           0.34438348462284474,
           0.34438348462284474,
           0.34438348462284474,
           0.34438348462284474,
           0.34438348462284474,
           0.34438348462284474,
           0.34438348462284474,
           0.34438348462284474,
           0.34438348462284474,
           0.34438348462284474,
           0.34438348462284474,
           0.34438348462284474
          ],
          [
           0.3346521988978841,
           0.3346521988978841,
           0.3346521988978841,
           0.3346521988978841,
           0.3346521988978841,
           0.3346521988978841,
           0.3346521988978841,
           0.3346521988978841,
           0.3346521988978841,
           0.3346521988978841,
           0.3346521988978841,
           0.3346521988978841,
           0.3346521988978841,
           0.3346521988978841,
           0.3346521988978841,
           0.3346521988978841,
           0.3346521988978841,
           0.3346521988978841,
           0.3346521988978841,
           0.3346521988978841
          ],
          [
           0.3343349430082514,
           0.3343349430082514,
           0.3343349430082514,
           0.3343349430082514,
           0.3343349430082514,
           0.3343349430082514,
           0.3343349430082514,
           0.3343349430082514,
           0.3343349430082514,
           0.3343349430082514,
           0.3343349430082514,
           0.3343349430082514,
           0.3343349430082514,
           0.3343349430082514,
           0.3343349430082514,
           0.3343349430082514,
           0.3343349430082514,
           0.3343349430082514,
           0.3343349430082514,
           0.3343349430082514
          ],
          [
           0.24548210277036075,
           0.24548210277036075,
           0.24548210277036075,
           0.24548210277036075,
           0.24548210277036075,
           0.24548210277036075,
           0.24548210277036075,
           0.24548210277036075,
           0.24548210277036075,
           0.24548210277036075,
           0.24548210277036075,
           0.24548210277036075,
           0.24548210277036075,
           0.24548210277036075,
           0.24548210277036075,
           0.24548210277036075,
           0.24548210277036075,
           0.24548210277036075,
           0.24548210277036075,
           0.24548210277036075
          ],
          [
           0.34614650725293494,
           0.34614650725293494,
           0.34614650725293494,
           0.34614650725293494,
           0.34614650725293494,
           0.34614650725293494,
           0.34614650725293494,
           0.34614650725293494,
           0.34614650725293494,
           0.34614650725293494,
           0.34614650725293494,
           0.34614650725293494,
           0.34614650725293494,
           0.34614650725293494,
           0.34614650725293494,
           0.34614650725293494,
           0.34614650725293494,
           0.34614650725293494,
           0.34614650725293494,
           0.34614650725293494
          ],
          [
           0.3211272674262594,
           0.3211272674262594,
           0.3211272674262594,
           0.3211272674262594,
           0.3211272674262594,
           0.3211272674262594,
           0.3211272674262594,
           0.3211272674262594,
           0.3211272674262594,
           0.3211272674262594,
           0.3211272674262594,
           0.3211272674262594,
           0.3211272674262594,
           0.3211272674262594,
           0.3211272674262594,
           0.3211272674262594,
           0.3211272674262594,
           0.3211272674262594,
           0.3211272674262594,
           0.3211272674262594
          ],
          [
           0.07791790945389432,
           0.07791790945389432,
           0.07791790945389432,
           0.07791790945389432,
           0.07791790945389432,
           0.07791790945389432,
           0.07791790945389432,
           0.07791790945389432,
           0.07791790945389432,
           0.07791790945389432,
           0.07791790945389432,
           0.07791790945389432,
           0.07791790945389432,
           0.07791790945389432,
           0.07791790945389432,
           0.07791790945389432,
           0.07791790945389432,
           0.07791790945389432,
           0.07791790945389432,
           0.07791790945389432
          ],
          [
           0.29153598782827705,
           0.29153598782827705,
           0.29153598782827705,
           0.29153598782827705,
           0.29153598782827705,
           0.29153598782827705,
           0.29153598782827705,
           0.29153598782827705,
           0.29153598782827705,
           0.29153598782827705,
           0.29153598782827705,
           0.29153598782827705,
           0.29153598782827705,
           0.29153598782827705,
           0.29153598782827705,
           0.29153598782827705,
           0.29153598782827705,
           0.29153598782827705,
           0.29153598782827705,
           0.29153598782827705
          ],
          [
           0.21429673263487192,
           0.21429673263487192,
           0.21429673263487192,
           0.21429673263487192,
           0.21429673263487192,
           0.21429673263487192,
           0.21429673263487192,
           0.21429673263487192,
           0.21429673263487192,
           0.21429673263487192,
           0.21429673263487192,
           0.21429673263487192,
           0.21429673263487192,
           0.21429673263487192,
           0.21429673263487192,
           0.21429673263487192,
           0.21429673263487192,
           0.21429673263487192,
           0.21429673263487192,
           0.21429673263487192
          ],
          [
           0.28917018392789184,
           0.28917018392789184,
           0.28917018392789184,
           0.28917018392789184,
           0.28917018392789184,
           0.28917018392789184,
           0.28917018392789184,
           0.28917018392789184,
           0.28917018392789184,
           0.28917018392789184,
           0.28917018392789184,
           0.28917018392789184,
           0.28917018392789184,
           0.28917018392789184,
           0.28917018392789184,
           0.28917018392789184,
           0.28917018392789184,
           0.28917018392789184,
           0.28917018392789184,
           0.28917018392789184
          ],
          [
           0.1876681234198042,
           0.1876681234198042,
           0.1876681234198042,
           0.1876681234198042,
           0.1876681234198042,
           0.1876681234198042,
           0.1876681234198042,
           0.1876681234198042,
           0.1876681234198042,
           0.1876681234198042,
           0.1876681234198042,
           0.1876681234198042,
           0.1876681234198042,
           0.1876681234198042,
           0.1876681234198042,
           0.1876681234198042,
           0.1876681234198042,
           0.1876681234198042,
           0.1876681234198042,
           0.1876681234198042
          ],
          [
           0.19192569585833386,
           0.19192569585833386,
           0.19192569585833386,
           0.19192569585833386,
           0.19192569585833386,
           0.19192569585833386,
           0.19192569585833386,
           0.19192569585833386,
           0.19192569585833386,
           0.19192569585833386,
           0.19192569585833386,
           0.19192569585833386,
           0.19192569585833386,
           0.19192569585833386,
           0.19192569585833386,
           0.19192569585833386,
           0.19192569585833386,
           0.19192569585833386,
           0.19192569585833386,
           0.19192569585833386
          ],
          [
           0.18677591953555184,
           0.18677591953555184,
           0.18677591953555184,
           0.18677591953555184,
           0.18677591953555184,
           0.18677591953555184,
           0.18677591953555184,
           0.18677591953555184,
           0.18677591953555184,
           0.18677591953555184,
           0.18677591953555184,
           0.18677591953555184,
           0.18677591953555184,
           0.18677591953555184,
           0.18677591953555184,
           0.18677591953555184,
           0.18677591953555184,
           0.18677591953555184,
           0.18677591953555184,
           0.18677591953555184
          ],
          [
           0.1643001540105895,
           0.1643001540105895,
           0.1643001540105895,
           0.1643001540105895,
           0.1643001540105895,
           0.1643001540105895,
           0.1643001540105895,
           0.1643001540105895,
           0.1643001540105895,
           0.1643001540105895,
           0.1643001540105895,
           0.1643001540105895,
           0.1643001540105895,
           0.1643001540105895,
           0.1643001540105895,
           0.1643001540105895,
           0.1643001540105895,
           0.1643001540105895,
           0.1643001540105895,
           0.1643001540105895
          ],
          [
           0.1777361496844605,
           0.1777361496844605,
           0.1777361496844605,
           0.1777361496844605,
           0.1777361496844605,
           0.1777361496844605,
           0.1777361496844605,
           0.1777361496844605,
           0.1777361496844605,
           0.1777361496844605,
           0.1777361496844605,
           0.1777361496844605,
           0.1777361496844605,
           0.1777361496844605,
           0.1777361496844605,
           0.1777361496844605,
           0.1777361496844605,
           0.1777361496844605,
           0.1777361496844605,
           0.1777361496844605
          ],
          [
           0.19802274478219495,
           0.19802274478219495,
           0.19802274478219495,
           0.19802274478219495,
           0.19802274478219495,
           0.19802274478219495,
           0.19802274478219495,
           0.19802274478219495,
           0.19802274478219495,
           0.19802274478219495,
           0.19802274478219495,
           0.19802274478219495,
           0.19802274478219495,
           0.19802274478219495,
           0.19802274478219495,
           0.19802274478219495,
           0.19802274478219495,
           0.19802274478219495,
           0.19802274478219495,
           0.19802274478219495
          ],
          [
           0.2116676020694679,
           0.2116676020694679,
           0.2116676020694679,
           0.2116676020694679,
           0.2116676020694679,
           0.2116676020694679,
           0.2116676020694679,
           0.2116676020694679,
           0.2116676020694679,
           0.2116676020694679,
           0.2116676020694679,
           0.2116676020694679,
           0.2116676020694679,
           0.2116676020694679,
           0.2116676020694679,
           0.2116676020694679,
           0.2116676020694679,
           0.2116676020694679,
           0.2116676020694679,
           0.2116676020694679
          ],
          [
           0.21612869714579008,
           0.21612869714579008,
           0.21612869714579008,
           0.21612869714579008,
           0.21612869714579008,
           0.21612869714579008,
           0.21612869714579008,
           0.21612869714579008,
           0.21612869714579008,
           0.21612869714579008,
           0.21612869714579008,
           0.21612869714579008,
           0.21612869714579008,
           0.21612869714579008,
           0.21612869714579008,
           0.21612869714579008,
           0.21612869714579008,
           0.21612869714579008,
           0.21612869714579008,
           0.21612869714579008
          ]
         ]
        }
       ],
       "layout": {
        "coloraxis": {
         "colorscale": [
          [
           0,
           "#0d0887"
          ],
          [
           0.1111111111111111,
           "#46039f"
          ],
          [
           0.2222222222222222,
           "#7201a8"
          ],
          [
           0.3333333333333333,
           "#9c179e"
          ],
          [
           0.4444444444444444,
           "#bd3786"
          ],
          [
           0.5555555555555556,
           "#d8576b"
          ],
          [
           0.6666666666666666,
           "#ed7953"
          ],
          [
           0.7777777777777778,
           "#fb9f3a"
          ],
          [
           0.8888888888888888,
           "#fdca26"
          ],
          [
           1,
           "#f0f921"
          ]
         ]
        },
        "margin": {
         "t": 60
        },
        "template": {
         "data": {
          "bar": [
           {
            "error_x": {
             "color": "#2a3f5f"
            },
            "error_y": {
             "color": "#2a3f5f"
            },
            "marker": {
             "line": {
              "color": "#E5ECF6",
              "width": 0.5
             },
             "pattern": {
              "fillmode": "overlay",
              "size": 10,
              "solidity": 0.2
             }
            },
            "type": "bar"
           }
          ],
          "barpolar": [
           {
            "marker": {
             "line": {
              "color": "#E5ECF6",
              "width": 0.5
             },
             "pattern": {
              "fillmode": "overlay",
              "size": 10,
              "solidity": 0.2
             }
            },
            "type": "barpolar"
           }
          ],
          "carpet": [
           {
            "aaxis": {
             "endlinecolor": "#2a3f5f",
             "gridcolor": "white",
             "linecolor": "white",
             "minorgridcolor": "white",
             "startlinecolor": "#2a3f5f"
            },
            "baxis": {
             "endlinecolor": "#2a3f5f",
             "gridcolor": "white",
             "linecolor": "white",
             "minorgridcolor": "white",
             "startlinecolor": "#2a3f5f"
            },
            "type": "carpet"
           }
          ],
          "choropleth": [
           {
            "colorbar": {
             "outlinewidth": 0,
             "ticks": ""
            },
            "type": "choropleth"
           }
          ],
          "contour": [
           {
            "colorbar": {
             "outlinewidth": 0,
             "ticks": ""
            },
            "colorscale": [
             [
              0,
              "#0d0887"
             ],
             [
              0.1111111111111111,
              "#46039f"
             ],
             [
              0.2222222222222222,
              "#7201a8"
             ],
             [
              0.3333333333333333,
              "#9c179e"
             ],
             [
              0.4444444444444444,
              "#bd3786"
             ],
             [
              0.5555555555555556,
              "#d8576b"
             ],
             [
              0.6666666666666666,
              "#ed7953"
             ],
             [
              0.7777777777777778,
              "#fb9f3a"
             ],
             [
              0.8888888888888888,
              "#fdca26"
             ],
             [
              1,
              "#f0f921"
             ]
            ],
            "type": "contour"
           }
          ],
          "contourcarpet": [
           {
            "colorbar": {
             "outlinewidth": 0,
             "ticks": ""
            },
            "type": "contourcarpet"
           }
          ],
          "heatmap": [
           {
            "colorbar": {
             "outlinewidth": 0,
             "ticks": ""
            },
            "colorscale": [
             [
              0,
              "#0d0887"
             ],
             [
              0.1111111111111111,
              "#46039f"
             ],
             [
              0.2222222222222222,
              "#7201a8"
             ],
             [
              0.3333333333333333,
              "#9c179e"
             ],
             [
              0.4444444444444444,
              "#bd3786"
             ],
             [
              0.5555555555555556,
              "#d8576b"
             ],
             [
              0.6666666666666666,
              "#ed7953"
             ],
             [
              0.7777777777777778,
              "#fb9f3a"
             ],
             [
              0.8888888888888888,
              "#fdca26"
             ],
             [
              1,
              "#f0f921"
             ]
            ],
            "type": "heatmap"
           }
          ],
          "heatmapgl": [
           {
            "colorbar": {
             "outlinewidth": 0,
             "ticks": ""
            },
            "colorscale": [
             [
              0,
              "#0d0887"
             ],
             [
              0.1111111111111111,
              "#46039f"
             ],
             [
              0.2222222222222222,
              "#7201a8"
             ],
             [
              0.3333333333333333,
              "#9c179e"
             ],
             [
              0.4444444444444444,
              "#bd3786"
             ],
             [
              0.5555555555555556,
              "#d8576b"
             ],
             [
              0.6666666666666666,
              "#ed7953"
             ],
             [
              0.7777777777777778,
              "#fb9f3a"
             ],
             [
              0.8888888888888888,
              "#fdca26"
             ],
             [
              1,
              "#f0f921"
             ]
            ],
            "type": "heatmapgl"
           }
          ],
          "histogram": [
           {
            "marker": {
             "pattern": {
              "fillmode": "overlay",
              "size": 10,
              "solidity": 0.2
             }
            },
            "type": "histogram"
           }
          ],
          "histogram2d": [
           {
            "colorbar": {
             "outlinewidth": 0,
             "ticks": ""
            },
            "colorscale": [
             [
              0,
              "#0d0887"
             ],
             [
              0.1111111111111111,
              "#46039f"
             ],
             [
              0.2222222222222222,
              "#7201a8"
             ],
             [
              0.3333333333333333,
              "#9c179e"
             ],
             [
              0.4444444444444444,
              "#bd3786"
             ],
             [
              0.5555555555555556,
              "#d8576b"
             ],
             [
              0.6666666666666666,
              "#ed7953"
             ],
             [
              0.7777777777777778,
              "#fb9f3a"
             ],
             [
              0.8888888888888888,
              "#fdca26"
             ],
             [
              1,
              "#f0f921"
             ]
            ],
            "type": "histogram2d"
           }
          ],
          "histogram2dcontour": [
           {
            "colorbar": {
             "outlinewidth": 0,
             "ticks": ""
            },
            "colorscale": [
             [
              0,
              "#0d0887"
             ],
             [
              0.1111111111111111,
              "#46039f"
             ],
             [
              0.2222222222222222,
              "#7201a8"
             ],
             [
              0.3333333333333333,
              "#9c179e"
             ],
             [
              0.4444444444444444,
              "#bd3786"
             ],
             [
              0.5555555555555556,
              "#d8576b"
             ],
             [
              0.6666666666666666,
              "#ed7953"
             ],
             [
              0.7777777777777778,
              "#fb9f3a"
             ],
             [
              0.8888888888888888,
              "#fdca26"
             ],
             [
              1,
              "#f0f921"
             ]
            ],
            "type": "histogram2dcontour"
           }
          ],
          "mesh3d": [
           {
            "colorbar": {
             "outlinewidth": 0,
             "ticks": ""
            },
            "type": "mesh3d"
           }
          ],
          "parcoords": [
           {
            "line": {
             "colorbar": {
              "outlinewidth": 0,
              "ticks": ""
             }
            },
            "type": "parcoords"
           }
          ],
          "pie": [
           {
            "automargin": true,
            "type": "pie"
           }
          ],
          "scatter": [
           {
            "fillpattern": {
             "fillmode": "overlay",
             "size": 10,
             "solidity": 0.2
            },
            "type": "scatter"
           }
          ],
          "scatter3d": [
           {
            "line": {
             "colorbar": {
              "outlinewidth": 0,
              "ticks": ""
             }
            },
            "marker": {
             "colorbar": {
              "outlinewidth": 0,
              "ticks": ""
             }
            },
            "type": "scatter3d"
           }
          ],
          "scattercarpet": [
           {
            "marker": {
             "colorbar": {
              "outlinewidth": 0,
              "ticks": ""
             }
            },
            "type": "scattercarpet"
           }
          ],
          "scattergeo": [
           {
            "marker": {
             "colorbar": {
              "outlinewidth": 0,
              "ticks": ""
             }
            },
            "type": "scattergeo"
           }
          ],
          "scattergl": [
           {
            "marker": {
             "colorbar": {
              "outlinewidth": 0,
              "ticks": ""
             }
            },
            "type": "scattergl"
           }
          ],
          "scattermapbox": [
           {
            "marker": {
             "colorbar": {
              "outlinewidth": 0,
              "ticks": ""
             }
            },
            "type": "scattermapbox"
           }
          ],
          "scatterpolar": [
           {
            "marker": {
             "colorbar": {
              "outlinewidth": 0,
              "ticks": ""
             }
            },
            "type": "scatterpolar"
           }
          ],
          "scatterpolargl": [
           {
            "marker": {
             "colorbar": {
              "outlinewidth": 0,
              "ticks": ""
             }
            },
            "type": "scatterpolargl"
           }
          ],
          "scatterternary": [
           {
            "marker": {
             "colorbar": {
              "outlinewidth": 0,
              "ticks": ""
             }
            },
            "type": "scatterternary"
           }
          ],
          "surface": [
           {
            "colorbar": {
             "outlinewidth": 0,
             "ticks": ""
            },
            "colorscale": [
             [
              0,
              "#0d0887"
             ],
             [
              0.1111111111111111,
              "#46039f"
             ],
             [
              0.2222222222222222,
              "#7201a8"
             ],
             [
              0.3333333333333333,
              "#9c179e"
             ],
             [
              0.4444444444444444,
              "#bd3786"
             ],
             [
              0.5555555555555556,
              "#d8576b"
             ],
             [
              0.6666666666666666,
              "#ed7953"
             ],
             [
              0.7777777777777778,
              "#fb9f3a"
             ],
             [
              0.8888888888888888,
              "#fdca26"
             ],
             [
              1,
              "#f0f921"
             ]
            ],
            "type": "surface"
           }
          ],
          "table": [
           {
            "cells": {
             "fill": {
              "color": "#EBF0F8"
             },
             "line": {
              "color": "white"
             }
            },
            "header": {
             "fill": {
              "color": "#C8D4E3"
             },
             "line": {
              "color": "white"
             }
            },
            "type": "table"
           }
          ]
         },
         "layout": {
          "annotationdefaults": {
           "arrowcolor": "#2a3f5f",
           "arrowhead": 0,
           "arrowwidth": 1
          },
          "autotypenumbers": "strict",
          "coloraxis": {
           "colorbar": {
            "outlinewidth": 0,
            "ticks": ""
           }
          },
          "colorscale": {
           "diverging": [
            [
             0,
             "#8e0152"
            ],
            [
             0.1,
             "#c51b7d"
            ],
            [
             0.2,
             "#de77ae"
            ],
            [
             0.3,
             "#f1b6da"
            ],
            [
             0.4,
             "#fde0ef"
            ],
            [
             0.5,
             "#f7f7f7"
            ],
            [
             0.6,
             "#e6f5d0"
            ],
            [
             0.7,
             "#b8e186"
            ],
            [
             0.8,
             "#7fbc41"
            ],
            [
             0.9,
             "#4d9221"
            ],
            [
             1,
             "#276419"
            ]
           ],
           "sequential": [
            [
             0,
             "#0d0887"
            ],
            [
             0.1111111111111111,
             "#46039f"
            ],
            [
             0.2222222222222222,
             "#7201a8"
            ],
            [
             0.3333333333333333,
             "#9c179e"
            ],
            [
             0.4444444444444444,
             "#bd3786"
            ],
            [
             0.5555555555555556,
             "#d8576b"
            ],
            [
             0.6666666666666666,
             "#ed7953"
            ],
            [
             0.7777777777777778,
             "#fb9f3a"
            ],
            [
             0.8888888888888888,
             "#fdca26"
            ],
            [
             1,
             "#f0f921"
            ]
           ],
           "sequentialminus": [
            [
             0,
             "#0d0887"
            ],
            [
             0.1111111111111111,
             "#46039f"
            ],
            [
             0.2222222222222222,
             "#7201a8"
            ],
            [
             0.3333333333333333,
             "#9c179e"
            ],
            [
             0.4444444444444444,
             "#bd3786"
            ],
            [
             0.5555555555555556,
             "#d8576b"
            ],
            [
             0.6666666666666666,
             "#ed7953"
            ],
            [
             0.7777777777777778,
             "#fb9f3a"
            ],
            [
             0.8888888888888888,
             "#fdca26"
            ],
            [
             1,
             "#f0f921"
            ]
           ]
          },
          "colorway": [
           "#636efa",
           "#EF553B",
           "#00cc96",
           "#ab63fa",
           "#FFA15A",
           "#19d3f3",
           "#FF6692",
           "#B6E880",
           "#FF97FF",
           "#FECB52"
          ],
          "font": {
           "color": "#2a3f5f"
          },
          "geo": {
           "bgcolor": "white",
           "lakecolor": "white",
           "landcolor": "#E5ECF6",
           "showlakes": true,
           "showland": true,
           "subunitcolor": "white"
          },
          "hoverlabel": {
           "align": "left"
          },
          "hovermode": "closest",
          "mapbox": {
           "style": "light"
          },
          "paper_bgcolor": "white",
          "plot_bgcolor": "#E5ECF6",
          "polar": {
           "angularaxis": {
            "gridcolor": "white",
            "linecolor": "white",
            "ticks": ""
           },
           "bgcolor": "#E5ECF6",
           "radialaxis": {
            "gridcolor": "white",
            "linecolor": "white",
            "ticks": ""
           }
          },
          "scene": {
           "xaxis": {
            "backgroundcolor": "#E5ECF6",
            "gridcolor": "white",
            "gridwidth": 2,
            "linecolor": "white",
            "showbackground": true,
            "ticks": "",
            "zerolinecolor": "white"
           },
           "yaxis": {
            "backgroundcolor": "#E5ECF6",
            "gridcolor": "white",
            "gridwidth": 2,
            "linecolor": "white",
            "showbackground": true,
            "ticks": "",
            "zerolinecolor": "white"
           },
           "zaxis": {
            "backgroundcolor": "#E5ECF6",
            "gridcolor": "white",
            "gridwidth": 2,
            "linecolor": "white",
            "showbackground": true,
            "ticks": "",
            "zerolinecolor": "white"
           }
          },
          "shapedefaults": {
           "line": {
            "color": "#2a3f5f"
           }
          },
          "ternary": {
           "aaxis": {
            "gridcolor": "white",
            "linecolor": "white",
            "ticks": ""
           },
           "baxis": {
            "gridcolor": "white",
            "linecolor": "white",
            "ticks": ""
           },
           "bgcolor": "#E5ECF6",
           "caxis": {
            "gridcolor": "white",
            "linecolor": "white",
            "ticks": ""
           }
          },
          "title": {
           "x": 0.05
          },
          "xaxis": {
           "automargin": true,
           "gridcolor": "white",
           "linecolor": "white",
           "ticks": "",
           "title": {
            "standoff": 15
           },
           "zerolinecolor": "white",
           "zerolinewidth": 2
          },
          "yaxis": {
           "automargin": true,
           "gridcolor": "white",
           "linecolor": "white",
           "ticks": "",
           "title": {
            "standoff": 15
           },
           "zerolinecolor": "white",
           "zerolinewidth": 2
          }
         }
        },
        "xaxis": {
         "anchor": "y",
         "constrain": "domain",
         "domain": [
          0,
          1
         ],
         "scaleanchor": "y",
         "title": {
          "text": "Time"
         }
        },
        "yaxis": {
         "anchor": "x",
         "autorange": "reversed",
         "constrain": "domain",
         "domain": [
          0,
          1
         ],
         "title": {
          "text": "Dist"
         }
        }
       }
      }
     },
     "metadata": {},
     "output_type": "display_data"
    }
   ],
   "source": [
    "fig = px.imshow(r_values, labels={\"x\":\"Time\",\"y\":\"Dist\"})\n",
    "fig.show()"
   ]
  }
 ],
 "metadata": {
  "kernelspec": {
   "display_name": "valle_m1",
   "language": "python",
   "name": "python3"
  },
  "language_info": {
   "codemirror_mode": {
    "name": "ipython",
    "version": 3
   },
   "file_extension": ".py",
   "mimetype": "text/x-python",
   "name": "python",
   "nbconvert_exporter": "python",
   "pygments_lexer": "ipython3",
   "version": "3.9.16"
  },
  "orig_nbformat": 4,
  "vscode": {
   "interpreter": {
    "hash": "b30fe1de1713ca8e7537eef068b13a2de77ded03f86aab2e80ea73416dd3d704"
   }
  }
 },
 "nbformat": 4,
 "nbformat_minor": 2
}
