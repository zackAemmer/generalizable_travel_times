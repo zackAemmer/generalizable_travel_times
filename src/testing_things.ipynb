{
 "cells": [
  {
   "cell_type": "code",
   "execution_count": null,
   "metadata": {},
   "outputs": [],
   "source": [
    "from datetime import datetime\n",
    "import itertools\n",
    "import json\n",
    "import math\n",
    "import os\n",
    "import sys\n",
    "\n",
    "import importlib\n",
    "import matplotlib.animation as animation\n",
    "import matplotlib.pyplot as plt\n",
    "import numpy as np\n",
    "import pandas as pd\n",
    "import pickle\n",
    "import plotly.express as px\n",
    "import plotly.figure_factory as ff\n",
    "import plotly.graph_objects as go\n",
    "import scipy\n",
    "from scipy.spatial import KDTree\n",
    "import seaborn as sns\n",
    "from sklearn import metrics\n",
    "import torch\n",
    "from torch.utils.data import DataLoader\n",
    "\n",
    "from utils import data_utils, data_loader, shape_utils\n",
    "\n",
    "importlib.reload(data_utils)\n",
    "importlib.reload(data_loader)\n",
    "importlib.reload(shape_utils)\n",
    "\n",
    "from dotenv import load_dotenv\n",
    "load_dotenv()\n",
    "\n",
    "%matplotlib inline\n",
    "\n",
    "RUN_FOLDER = \"../results/debug/\""
   ]
  },
  {
   "cell_type": "code",
   "execution_count": null,
   "metadata": {},
   "outputs": [],
   "source": [
    "kcm_inputs = data_utils.load_all_inputs(RUN_FOLDER, \"kcm/\")\n",
    "atb_inputs = data_utils.load_all_inputs(RUN_FOLDER, \"atb/\")"
   ]
  },
  {
   "cell_type": "code",
   "execution_count": null,
   "metadata": {},
   "outputs": [],
   "source": [
    "# Sample shingle ids and choose dist/time ranges to test\n",
    "shingle_ids = pd.unique(kcm_inputs['test_traces']['shingle_id'])\n",
    "shingle_id_sample = np.random.choice(shingle_ids, 100)\n",
    "d_buffers = np.linspace(1,10000,20)\n",
    "t_buffers = np.linspace(1,60*60*6,20)\n",
    "# Test shingle data against all other data\n",
    "traces = kcm_inputs['test_traces']\n",
    "shingle_traces = traces[traces['shingle_id'].isin(shingle_id_sample)][['x','y','locationtime','speed_m_s','shingle_id']]\n",
    "shingle_groups = shingle_traces.groupby('shingle_id')\n",
    "adj_traces = traces[~traces['shingle_id'].isin(shingle_id_sample)][['x','y','locationtime','speed_m_s']].values\n",
    "# Save results for each shingle, and buffer combination\n",
    "targets_res = np.zeros((len(shingle_id_sample), len(d_buffers), len(t_buffers)))\n",
    "preds_res = np.zeros((len(shingle_id_sample), len(d_buffers), len(t_buffers)))"
   ]
  },
  {
   "cell_type": "code",
   "execution_count": null,
   "metadata": {},
   "outputs": [],
   "source": [
    "# Run adjacent analysis for each d and t buffer\n",
    "for d, dist_buffer in enumerate(d_buffers):\n",
    "    print(d)\n",
    "    for t, t_buffer in enumerate(t_buffers):\n",
    "        print(t)\n",
    "        res = shingle_groups.apply(shape_utils.get_adjacent_metric, adj_traces, dist_buffer, t_buffer)\n",
    "        targets = np.array([x[0] for x in res])\n",
    "        preds = np.array([x[1] for x in res])\n",
    "        targets[np.isnan(targets)] = np.mean(targets[~np.isnan(targets)])\n",
    "        preds[np.isnan(preds)] = np.mean(preds[~np.isnan(preds)])\n",
    "        targets_res[:,d,t] = targets\n",
    "        preds_res[:,d,t] = preds"
   ]
  },
  {
   "cell_type": "code",
   "execution_count": null,
   "metadata": {},
   "outputs": [],
   "source": [
    "# Rows, Columns\n",
    "r_values = np.empty((preds.shape[1], preds.shape[2]))\n",
    "for d in range(preds.shape[1]):\n",
    "    for t in range(preds.shape[2]):\n",
    "        R2, x_plt, y_plt = shape_utils.fit_poly(adj[:,d,t], target)\n",
    "        r_values[d,t] = R2\n",
    "r_values"
   ]
  },
  {
   "cell_type": "code",
   "execution_count": null,
   "metadata": {},
   "outputs": [],
   "source": [
    "fig = px.imshow(r_values, labels={\"x\":\"Time\",\"y\":\"Dist\"})\n",
    "fig.show()"
   ]
  }
 ],
 "metadata": {
  "kernelspec": {
   "display_name": "valle_m1",
   "language": "python",
   "name": "python3"
  },
  "language_info": {
   "codemirror_mode": {
    "name": "ipython",
    "version": 3
   },
   "file_extension": ".py",
   "mimetype": "text/x-python",
   "name": "python",
   "nbconvert_exporter": "python",
   "pygments_lexer": "ipython3",
   "version": "3.9.16"
  },
  "orig_nbformat": 4,
  "vscode": {
   "interpreter": {
    "hash": "b30fe1de1713ca8e7537eef068b13a2de77ded03f86aab2e80ea73416dd3d704"
   }
  }
 },
 "nbformat": 4,
 "nbformat_minor": 2
}
