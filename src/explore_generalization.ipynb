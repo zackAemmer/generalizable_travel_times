{
 "cells": [
  {
   "cell_type": "code",
   "execution_count": null,
   "metadata": {},
   "outputs": [],
   "source": [
    "import json\n",
    "import os\n",
    "\n",
    "import importlib\n",
    "import matplotlib.animation as animation\n",
    "import matplotlib.pyplot as plt\n",
    "import numpy as np\n",
    "import pandas as pd\n",
    "import pickle\n",
    "import plotly.express as px\n",
    "import plotly.figure_factory as ff\n",
    "import plotly.graph_objects as go\n",
    "import seaborn as sns\n",
    "from sklearn import metrics\n",
    "\n",
    "%matplotlib inline\n",
    "\n",
    "# Get list of available train/test files for chosen run folder\n",
    "run_folder_kcm = \"../results/debug/\"\n",
    "run_folder_atb = \"../results/debug/\"\n",
    "run_folder_tte = \"../results/debug/\""
   ]
  },
  {
   "cell_type": "code",
   "execution_count": null,
   "metadata": {},
   "outputs": [],
   "source": [
    "models = []\n",
    "train_nets = []\n",
    "test_nets = []\n",
    "errors = []\n",
    "results = kcm_kcm_model_fold_results\n",
    "for model_name in results.keys():\n",
    "    models.append(model_name)\n",
    "    train_nets.append(\"KCM\")\n",
    "    test_nets.append(\"KCM\")\n",
    "    errors.append(np.round(np.sqrt(metrics.mean_squared_error(results[model_name]['Labels'], results[model_name]['Preds'])), 2))\n",
    "results = kcm_atb_model_fold_results\n",
    "for model_name in results.keys():\n",
    "    models.append(model_name)\n",
    "    train_nets.append(\"KCM\")\n",
    "    test_nets.append(\"ATB\")\n",
    "    errors.append(np.round(np.sqrt(metrics.mean_squared_error(results[model_name]['Labels'], results[model_name]['Preds'])), 2))\n",
    "results = atb_atb_model_fold_results\n",
    "for model_name in results.keys():\n",
    "    models.append(model_name)\n",
    "    train_nets.append(\"ATB\")\n",
    "    test_nets.append(\"ATB\")\n",
    "    errors.append(np.round(np.sqrt(metrics.mean_squared_error(results[model_name]['Labels'], results[model_name]['Preds'])), 2))\n",
    "results = atb_kcm_model_fold_results\n",
    "for model_name in results.keys():\n",
    "    models.append(model_name)\n",
    "    train_nets.append(\"ATB\")\n",
    "    test_nets.append(\"KCM\")\n",
    "    errors.append(np.round(np.sqrt(metrics.mean_squared_error(results[model_name]['Labels'], results[model_name]['Preds'])), 2))\n",
    "\n",
    "metric_results = pd.DataFrame(columns=[\"Model\",\"Train Network\",\"Test Network\",\"Metric\"])\n",
    "metric_results['Model'] = models\n",
    "metric_results['Train Network'] = train_nets\n",
    "metric_results['Test Network'] = test_nets\n",
    "metric_results['Metric'] = errors\n",
    "metric_results['Model-Train-Test'] = metric_results['Model']+\"_\"+metric_results['Train Network']+\"_\"+metric_results['Test Network']\n",
    "metric_results = metric_results.sort_values('Model-Train-Test')\n",
    "metric_results"
   ]
  }
 ],
 "metadata": {
  "kernelspec": {
   "display_name": "valle_m1",
   "language": "python",
   "name": "python3"
  },
  "language_info": {
   "codemirror_mode": {
    "name": "ipython",
    "version": 3
   },
   "file_extension": ".py",
   "mimetype": "text/x-python",
   "name": "python",
   "nbconvert_exporter": "python",
   "pygments_lexer": "ipython3",
   "version": "3.9.16"
  },
  "orig_nbformat": 4,
  "vscode": {
   "interpreter": {
    "hash": "b30fe1de1713ca8e7537eef068b13a2de77ded03f86aab2e80ea73416dd3d704"
   }
  }
 },
 "nbformat": 4,
 "nbformat_minor": 2
}
