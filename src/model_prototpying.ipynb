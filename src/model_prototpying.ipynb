{
 "cells": [
  {
   "cell_type": "code",
   "execution_count": 1,
   "metadata": {},
   "outputs": [
    {
     "name": "stdout",
     "output_type": "stream",
     "text": [
      "Using device: cuda\n",
      "==============================\n",
      "Loading data from '../results/throwaway/kcm/deeptte_formatted/'...\n",
      "Loading and merging GTFS files from './data/kcm_gtfs/2023_01_23/'...\n"
     ]
    }
   ],
   "source": [
    "#!/usr/bin python3\n",
    "import itertools\n",
    "import json\n",
    "import numpy as np\n",
    "import pandas as pd\n",
    "import random\n",
    "from sklearn import metrics\n",
    "import seaborn as sns\n",
    "from tabulate import tabulate\n",
    "import torch\n",
    "import torch.backends.mps\n",
    "from torch.utils.data import DataLoader\n",
    "\n",
    "from utils import data_utils, data_loader, model_utils\n",
    "from models import avg_speed, avg_speed_seq, time_table, basic_ff, basic_rnn, gru_rnn\n",
    "\n",
    "import importlib\n",
    "\n",
    "torch.set_default_dtype(torch.float)\n",
    "\n",
    "run_folder = \"../results/debug/\"\n",
    "network_folder = \"kcm/\"\n",
    "\n",
    "if torch.cuda.is_available():\n",
    "    device = torch.device(\"cuda\")\n",
    "# elif torch.backends.mps.is_available():\n",
    "#     device = torch.device(\"mps\")\n",
    "else:\n",
    "    device = torch.device(\"cpu\")\n",
    "print(f\"Using device: {device}\")\n",
    "\n",
    "### Set run and hyperparameters\n",
    "EPOCHS = 20\n",
    "BATCH_SIZE = 512\n",
    "LEARN_RATE = 1e-3\n",
    "HIDDEN_SIZE = 32\n",
    "\n",
    "### Load train/test data\n",
    "print(\"=\"*30)\n",
    "data_folder = run_folder + network_folder + \"deeptte_formatted/\"\n",
    "print(f\"Loading data from '{data_folder}'...\")\n",
    "# Load config\n",
    "with open(data_folder + \"config.json\", \"r\") as f:\n",
    "    config = json.load(f)\n",
    "# Load GTFS-RT samples\n",
    "train_data_chunks, valid_data = data_utils.load_train_test_data(data_folder, config['n_folds']) # Validation data no longer used\n",
    "# Load GTFS data\n",
    "print(f\"Loading and merging GTFS files from '{config['gtfs_folder']}'...\")\n",
    "gtfs_data = data_utils.merge_gtfs_files(\".\"+config['gtfs_folder'])"
   ]
  },
  {
   "cell_type": "code",
   "execution_count": 2,
   "metadata": {},
   "outputs": [
    {
     "name": "stdout",
     "output_type": "stream",
     "text": [
      "Successfully loaded 261219 training samples and 65413 testing samples.\n"
     ]
    }
   ],
   "source": [
    "fold_num = 0\n",
    "importlib.reload(data_loader)\n",
    "# Set aside the train/test data according to the current fold number\n",
    "test_data = train_data_chunks[fold_num]\n",
    "train_data = [x for i,x in enumerate(train_data_chunks) if i!=fold_num]\n",
    "# Combine the training data to single object\n",
    "train_data = list(itertools.chain.from_iterable(train_data))\n",
    "\n",
    "# Construct dataloaders for Pytorch models\n",
    "train_dataloader = data_loader.make_generic_dataloader(train_data, config, BATCH_SIZE, \"basic\")\n",
    "test_dataloader = data_loader.make_generic_dataloader(test_data, config, BATCH_SIZE, \"basic\")\n",
    "train_dataloader_seq = data_loader.make_generic_dataloader(train_data, config, BATCH_SIZE, \"sequential\")\n",
    "test_dataloader_seq = data_loader.make_generic_dataloader(test_data, config, BATCH_SIZE, \"sequential\")\n",
    "train_lens, train_mask = data_utils.get_seq_info(train_dataloader_seq)\n",
    "test_lens, test_mask = data_utils.get_seq_info(test_dataloader_seq)\n",
    "print(f\"Successfully loaded {len(train_data)} training samples and {len(test_data)} testing samples.\")\n",
    "\n",
    "# Define embedded variables for nn models\n",
    "embed_dict = {\n",
    "    'timeID': {\n",
    "        'vocab_size': 1440,\n",
    "        'embed_dims': 24\n",
    "    },\n",
    "    'weekID': {\n",
    "        'vocab_size': 7,\n",
    "        'embed_dims': 4\n",
    "    },\n",
    "    'driverID': {\n",
    "        'vocab_size': config['n_unique_veh'],\n",
    "        'embed_dims': 6\n",
    "    },\n",
    "    'tripID': {\n",
    "        'vocab_size': config['n_unique_trip'],\n",
    "        'embed_dims': 20\n",
    "    }\n",
    "}"
   ]
  },
  {
   "cell_type": "code",
   "execution_count": 3,
   "metadata": {},
   "outputs": [],
   "source": [
    "for i, data in enumerate(train_dataloader_seq):\n",
    "    inputs, labels = data\n",
    "    inputs[:2] = [i.to(device) for i in inputs[:2]]\n",
    "    labels = labels.to(device)\n",
    "    hidden_prev = torch.zeros(1, len(data[1]), HIDDEN_SIZE).to(device)"
   ]
  },
  {
   "cell_type": "code",
   "execution_count": 4,
   "metadata": {},
   "outputs": [
    {
     "name": "stdout",
     "output_type": "stream",
     "text": [
      "==============================\n",
      "Training rnn model...\n",
      "EPOCH: 0\n",
      "LOSS: train 0.2576126605855509 valid 0.19154726469423622\n",
      "EPOCH: 1\n",
      "LOSS: train 0.18223761115405424 valid 0.17787964921444654\n",
      "EPOCH: 2\n",
      "LOSS: train 0.17491915902221272 valid 0.17338630638550967\n",
      "EPOCH: 3\n",
      "LOSS: train 0.1729759713762427 valid 0.17049150611273944\n",
      "EPOCH: 4\n",
      "LOSS: train 0.16972787907153894 valid 0.16842911497224122\n",
      "EPOCH: 5\n",
      "LOSS: train 0.1667264845302427 valid 0.16345408686902374\n",
      "EPOCH: 6\n",
      "LOSS: train 0.1622070759505675 valid 0.16152826324105263\n",
      "EPOCH: 7\n",
      "LOSS: train 0.1608671000675679 valid 0.1590141276246868\n",
      "EPOCH: 8\n",
      "LOSS: train 0.15831514443553357 valid 0.15747349010780454\n",
      "EPOCH: 9\n",
      "LOSS: train 0.15711703244778974 valid 0.15658597636502236\n",
      "EPOCH: 10\n",
      "LOSS: train 0.1563455365058727 valid 0.15649272105656564\n",
      "EPOCH: 11\n",
      "LOSS: train 0.15917773778074643 valid 0.1600443221977912\n",
      "EPOCH: 12\n",
      "LOSS: train 0.155544124995659 valid 0.15623442793730646\n",
      "EPOCH: 13\n",
      "LOSS: train 0.15466523610799046 valid 0.15476516186026856\n",
      "EPOCH: 14\n",
      "LOSS: train 0.1544311729983341 valid 0.155577733006794\n",
      "EPOCH: 15\n",
      "LOSS: train 0.15476384693337514 valid 0.15596449532313272\n",
      "EPOCH: 16\n",
      "LOSS: train 0.1534488041340255 valid 0.154441112652421\n",
      "EPOCH: 17\n",
      "LOSS: train 0.15303095507411807 valid 0.15523188997758552\n",
      "EPOCH: 18\n",
      "LOSS: train 0.15407215206065522 valid 0.16360710834851488\n",
      "EPOCH: 19\n",
      "LOSS: train 0.15402887433534032 valid 0.15410421491833404\n"
     ]
    }
   ],
   "source": [
    "### Train RNN model\n",
    "print(\"=\"*30)\n",
    "print(f\"Training rnn model...\")\n",
    "rnn_model = gru_rnn.GRU_RNN(\n",
    "    5,\n",
    "    1,\n",
    "    HIDDEN_SIZE,\n",
    "    BATCH_SIZE,\n",
    "    embed_dict\n",
    ").to(device)\n",
    "rnn_train_losses, rnn_test_losses = model_utils.fit_to_data(rnn_model, train_dataloader_seq, test_dataloader_seq, LEARN_RATE, EPOCHS, config, device, sequential_flag=True)\n",
    "torch.save(rnn_model.state_dict(), run_folder + network_folder + f\"models/rnn_model_{fold_num}.pt\")\n",
    "rnn_labels, rnn_preds, rnn_avg_loss = model_utils.predict(rnn_model, test_dataloader_seq, device, sequential_flag=True)\n",
    "rnn_labels = data_utils.de_normalize(rnn_labels, config['speed_m_s_mean'], config['speed_m_s_std'])\n",
    "rnn_preds = data_utils.de_normalize(rnn_preds, config['speed_m_s_mean'], config['speed_m_s_std'])"
   ]
  },
  {
   "cell_type": "code",
   "execution_count": 5,
   "metadata": {},
   "outputs": [
    {
     "name": "stdout",
     "output_type": "stream",
     "text": [
      "312.5\n",
      "5766.69\n"
     ]
    }
   ],
   "source": [
    "rnn_preds_tt = data_utils.convert_speeds_to_tts(rnn_preds, test_dataloader_seq, test_mask, config)\n",
    "rnn_labels_tt = data_utils.convert_speeds_to_tts(rnn_labels, test_dataloader_seq, test_mask, config)\n",
    "print(np.round(metrics.mean_absolute_error(rnn_labels_tt, rnn_preds_tt), 2))\n",
    "print(np.round(np.sqrt(metrics.mean_squared_error(rnn_labels_tt, rnn_preds_tt)), 2))"
   ]
  },
  {
   "cell_type": "code",
   "execution_count": 6,
   "metadata": {},
   "outputs": [
    {
     "data": {
      "text/plain": [
       "85"
      ]
     },
     "execution_count": 6,
     "metadata": {},
     "output_type": "execute_result"
    }
   ],
   "source": [
    "len(rnn_preds_tt[rnn_preds_tt>10000])"
   ]
  },
  {
   "cell_type": "code",
   "execution_count": 7,
   "metadata": {},
   "outputs": [
    {
     "data": {
      "text/plain": [
       "<Axes: ylabel='Count'>"
      ]
     },
     "execution_count": 7,
     "metadata": {},
     "output_type": "execute_result"
    },
    {
     "data": {
      "image/png": "[encoded data removed]",
      "text/plain": [
       "<Figure size 640x480 with 1 Axes>"
      ]
     },
     "metadata": {},
     "output_type": "display_data"
    }
   ],
   "source": [
    "sns.histplot(rnn_preds_tt[rnn_preds_tt<10000])"
   ]
  },
  {
   "cell_type": "code",
   "execution_count": 8,
   "metadata": {},
   "outputs": [
    {
     "data": {
      "text/plain": [
       "344904.88"
      ]
     },
     "execution_count": 8,
     "metadata": {},
     "output_type": "execute_result"
    }
   ],
   "source": [
    "np.max(rnn_preds_tt)"
   ]
  },
  {
   "cell_type": "code",
   "execution_count": 9,
   "metadata": {},
   "outputs": [
    {
     "data": {
      "text/plain": [
       "<Axes: ylabel='Count'>"
      ]
     },
     "execution_count": 9,
     "metadata": {},
     "output_type": "execute_result"
    },
    {
     "data": {
      "image/png": "[encoded data removed]",
      "text/plain": [
       "<Figure size 640x480 with 1 Axes>"
      ]
     },
     "metadata": {},
     "output_type": "display_data"
    }
   ],
   "source": [
    "sns.histplot(rnn_labels_tt)"
   ]
  },
  {
   "cell_type": "code",
   "execution_count": 10,
   "metadata": {},
   "outputs": [
    {
     "name": "stdout",
     "output_type": "stream",
     "text": [
      "-------------------------------  ------------  ------------  ------------  ------------  ------------  ------------  ------------  ------------  ------------  ------------  \n",
      "                           Name    Self CPU %      Self CPU   CPU total %     CPU total  CPU time avg     Self CUDA   Self CUDA %    CUDA total  CUDA time avg    # of Calls  \n",
      "-------------------------------  ------------  ------------  ------------  ------------  ------------  ------------  ------------  ------------  ------------  ------------  \n",
      "                model_inference         7.73%       1.036ms        99.79%      13.378ms      13.378ms     880.000us         6.56%      13.382ms      13.382ms             1  \n",
      "    aten::_pack_padded_sequence        14.19%       1.902ms        42.34%       5.676ms       5.676ms       1.193ms         8.90%       5.683ms       5.683ms             1  \n",
      "     aten::_pad_packed_sequence        13.26%       1.778ms        29.79%       3.993ms       3.993ms       1.063ms         7.93%       3.996ms       3.996ms             1  \n",
      "               aten::contiguous         3.38%     453.000us        19.33%       2.591ms      74.029us     421.000us         3.14%       2.759ms      78.829us            35  \n",
      "                    aten::slice        17.84%       2.392ms        18.92%       2.536ms      13.934us       2.333ms        17.40%       3.297ms      18.115us           182  \n",
      "                    aten::clone         6.97%     935.000us        15.95%       2.138ms      61.086us     731.000us         5.45%       2.338ms      66.800us            35  \n",
      "                      aten::gru         1.18%     158.000us        14.45%       1.937ms       1.937ms     158.000us         1.18%       1.940ms       1.940ms             1  \n",
      "               aten::_cudnn_rnn        12.82%       1.719ms        13.02%       1.745ms       1.745ms       1.703ms        12.70%       1.755ms       1.755ms             1  \n",
      "                    aten::copy_         8.40%       1.126ms         8.40%       1.126ms      15.639us       1.508ms        11.24%       1.508ms      20.944us            72  \n",
      "               aten::empty_like         3.40%     456.000us         5.30%     710.000us      20.286us     430.000us         3.21%     885.000us      25.286us            35  \n",
      "-------------------------------  ------------  ------------  ------------  ------------  ------------  ------------  ------------  ------------  ------------  ------------  \n",
      "Self CPU time total: 13.406ms\n",
      "Self CUDA time total: 13.411ms\n",
      "\n"
     ]
    }
   ],
   "source": [
    "import torch\n",
    "from torch.profiler import profile, record_function, ProfilerActivity\n",
    "\n",
    "with profile(activities=[ProfilerActivity.CPU, ProfilerActivity.CUDA], record_shapes=True) as prof:\n",
    "    with record_function(\"model_inference\"):\n",
    "        preds, hidden_prev = rnn_model(inputs, hidden_prev)\n",
    "print(prof.key_averages().table(sort_by=\"cpu_time_total\", row_limit=10))"
   ]
  },
  {
   "cell_type": "code",
   "execution_count": 11,
   "metadata": {},
   "outputs": [
    {
     "data": {
      "text/plain": [
       "<Axes: xlabel='Epoch', ylabel='value'>"
      ]
     },
     "execution_count": 11,
     "metadata": {},
     "output_type": "execute_result"
    },
    {
     "data": {
      "image/png": "[encoded data removed]",
      "text/plain": [
       "<Figure size 640x480 with 1 Axes>"
      ]
     },
     "metadata": {},
     "output_type": "display_data"
    }
   ],
   "source": [
    "# Plot training curves\n",
    "plot_data = pd.DataFrame(\n",
    "    {\n",
    "        \"Epoch\": [x for x in range(0,len(rnn_train_losses))],\n",
    "        \"Training Loss\": rnn_train_losses,\n",
    "        \"Validation Loss\": rnn_test_losses\n",
    "    }\n",
    ")\n",
    "sns.lineplot(x='Epoch', y='value', hue='variable', data=pd.melt(plot_data, ['Epoch']))"
   ]
  }
 ],
 "metadata": {
  "kernelspec": {
   "display_name": "valle_m1",
   "language": "python",
   "name": "python3"
  },
  "language_info": {
   "codemirror_mode": {
    "name": "ipython",
    "version": 3
   },
   "file_extension": ".py",
   "mimetype": "text/x-python",
   "name": "python",
   "nbconvert_exporter": "python",
   "pygments_lexer": "ipython3",
   "version": "3.9.16"
  },
  "orig_nbformat": 4,
  "vscode": {
   "interpreter": {
    "hash": "b30fe1de1713ca8e7537eef068b13a2de77ded03f86aab2e80ea73416dd3d704"
   }
  }
 },
 "nbformat": 4,
 "nbformat_minor": 2
}
