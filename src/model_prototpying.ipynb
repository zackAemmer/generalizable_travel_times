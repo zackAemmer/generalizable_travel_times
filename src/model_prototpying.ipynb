{
 "cells": [
  {
   "cell_type": "code",
   "execution_count": 53,
   "metadata": {},
   "outputs": [
    {
     "name": "stdout",
     "output_type": "stream",
     "text": [
      "Using device: mps\n",
      "==============================\n",
      "Loading data from '../results/throwaway/kcm/deeptte_formatted/'...\n",
      "Loading and merging GTFS files from './data/kcm_gtfs/2020_09_23/'...\n"
     ]
    }
   ],
   "source": [
    "#!/usr/bin python3\n",
    "import itertools\n",
    "import json\n",
    "import numpy as np\n",
    "import pandas as pd\n",
    "import random\n",
    "from sklearn import metrics\n",
    "import seaborn as sns\n",
    "from tabulate import tabulate\n",
    "import torch\n",
    "import torch.backends.mps\n",
    "from torch.utils.data import DataLoader\n",
    "\n",
    "from utils import data_utils, data_loader, model_utils\n",
    "from models import avg_speed, avg_speed_seq, time_table, basic_ff, basic_rnn\n",
    "\n",
    "import importlib\n",
    "\n",
    "run_folder = \"../results/throwaway/\"\n",
    "network_folder = \"kcm/\"\n",
    "\n",
    "if torch.cuda.is_available():\n",
    "    device = torch.device(\"cuda\")\n",
    "elif torch.backends.mps.is_available():\n",
    "    device = torch.device(\"mps\")\n",
    "else:\n",
    "    device = torch.device(\"cpu\")\n",
    "print(f\"Using device: {device}\")\n",
    "\n",
    "### Set run and hyperparameters\n",
    "EPOCHS = 50\n",
    "BATCH_SIZE = 512\n",
    "LEARN_RATE = 1e-3\n",
    "HIDDEN_SIZE = 32\n",
    "SEQ_LEN = 2\n",
    "\n",
    "### Load train/test data\n",
    "print(\"=\"*30)\n",
    "data_folder = run_folder + network_folder + \"deeptte_formatted/\"\n",
    "print(f\"Loading data from '{data_folder}'...\")\n",
    "# Load config\n",
    "with open(data_folder + \"config.json\", \"r\") as f:\n",
    "    config = json.load(f)\n",
    "# Load GTFS-RT samples\n",
    "train_data_chunks, valid_data = data_utils.load_train_test_data(data_folder, config['n_folds']) # Validation data no longer used\n",
    "# Load GTFS data\n",
    "print(f\"Loading and merging GTFS files from '{config['gtfs_folder']}'...\")\n",
    "gtfs_data = data_utils.merge_gtfs_files(\".\"+config['gtfs_folder'])"
   ]
  },
  {
   "cell_type": "code",
   "execution_count": 54,
   "metadata": {},
   "outputs": [
    {
     "name": "stdout",
     "output_type": "stream",
     "text": [
      "Successfully loaded 39262 training samples and 9814 testing samples.\n"
     ]
    }
   ],
   "source": [
    "fold_num = 0\n",
    "importlib.reload(data_loader)\n",
    "# Set aside the train/test data according to the current fold number\n",
    "test_data = train_data_chunks[fold_num]\n",
    "train_data = [x for i,x in enumerate(train_data_chunks) if i!=fold_num]\n",
    "# Combine the training data to single object\n",
    "train_data = list(itertools.chain.from_iterable(train_data))\n",
    "\n",
    "# Construct dataloaders for Pytorch models\n",
    "train_dataset = data_loader.make_dataset(train_data, config)\n",
    "test_dataset = data_loader.make_dataset(test_data, config)\n",
    "train_dataset_seq = data_loader.make_seq_dataset(train_data, config, SEQ_LEN)\n",
    "test_dataset_seq = data_loader.make_seq_dataset(test_data, config, SEQ_LEN)\n",
    "train_dataloader = DataLoader(train_dataset, batch_size=BATCH_SIZE, shuffle=False, pin_memory=False, num_workers=0)\n",
    "test_dataloader = DataLoader(test_dataset, batch_size=BATCH_SIZE, shuffle=False, pin_memory=False, num_workers=0)\n",
    "train_dataloader_seq = DataLoader(train_dataset_seq, batch_size=BATCH_SIZE, shuffle=False, pin_memory=False, num_workers=0)\n",
    "test_dataloader_seq = DataLoader(test_dataset_seq, batch_size=BATCH_SIZE, shuffle=False, pin_memory=False, num_workers=0)\n",
    "print(f\"Successfully loaded {len(train_data)} training samples and {len(test_data)} testing samples.\")\n",
    "\n",
    "# Define embedded variables for nn models\n",
    "embed_dict = {\n",
    "    'timeID': {\n",
    "        'vocab_size': 1440,\n",
    "        'embed_dims': 24,\n",
    "        'col': 8\n",
    "    },\n",
    "    'weekID': {\n",
    "        'vocab_size': 7,\n",
    "        'embed_dims': 4,\n",
    "        'col': 9\n",
    "    },\n",
    "    'driverID': {\n",
    "        'vocab_size': config['n_unique_veh'],\n",
    "        'embed_dims': 12,\n",
    "        'col': 10\n",
    "    }\n",
    "}"
   ]
  },
  {
   "cell_type": "code",
   "execution_count": 55,
   "metadata": {},
   "outputs": [],
   "source": [
    "importlib.reload(avg_speed)\n",
    "avg_model = avg_speed.AvgHourlySpeedModel(config)\n",
    "avg_model.fit(train_dataloader)\n",
    "avg_model.save_to(f\"{run_folder}{network_folder}models/avg_model_{fold_num}.pkl\")\n",
    "avg_labels, avg_preds = avg_model.predict(test_dataloader)"
   ]
  },
  {
   "cell_type": "code",
   "execution_count": 56,
   "metadata": {},
   "outputs": [],
   "source": [
    "importlib.reload(avg_speed_seq)\n",
    "avg_seq_model = avg_speed_seq.AvgHourlySpeedSeqModel(config)\n",
    "avg_seq_model.fit(train_dataloader_seq)\n",
    "avg_seq_model.save_to(f\"{run_folder}{network_folder}models/avg_model_{fold_num}.pkl\")\n",
    "avg_seq_labels, avg_seq_preds = avg_seq_model.predict(test_dataloader_seq)"
   ]
  },
  {
   "cell_type": "code",
   "execution_count": 57,
   "metadata": {},
   "outputs": [
    {
     "name": "stdout",
     "output_type": "stream",
     "text": [
      "EPOCH: 0\n",
      "LOSS: train 0.7717082337899641 valid 0.572636878490448\n",
      "EPOCH: 1\n",
      "LOSS: train 0.48301688881663535 valid 0.42305348366498946\n",
      "EPOCH: 2\n",
      "LOSS: train 0.4116829591138022 valid 0.3945321783423424\n",
      "EPOCH: 3\n",
      "LOSS: train 0.38504556982548205 valid 0.37559735029935837\n",
      "EPOCH: 4\n",
      "LOSS: train 0.36912611591351496 valid 0.36249997913837434\n",
      "EPOCH: 5\n",
      "LOSS: train 0.3565405278236835 valid 0.3526439256966114\n",
      "EPOCH: 6\n",
      "LOSS: train 0.3469004745220209 valid 0.345319914072752\n",
      "EPOCH: 7\n",
      "LOSS: train 0.3401445595474986 valid 0.3404027596116066\n",
      "EPOCH: 8\n",
      "LOSS: train 0.3355770434265013 valid 0.3383918821811676\n",
      "EPOCH: 9\n",
      "LOSS: train 0.3319821034546022 valid 0.33684544190764426\n",
      "EPOCH: 10\n",
      "LOSS: train 0.3283893262798136 valid 0.3311319686472416\n",
      "EPOCH: 11\n",
      "LOSS: train 0.3236361786529615 valid 0.32571106404066086\n",
      "EPOCH: 12\n",
      "LOSS: train 0.3200179754526584 valid 0.32488269805908204\n",
      "EPOCH: 13\n",
      "LOSS: train 0.32341950183564966 valid 0.327045214176178\n",
      "EPOCH: 14\n",
      "LOSS: train 0.3338316725446032 valid 0.34670219421386717\n",
      "EPOCH: 15\n",
      "LOSS: train 0.33967952391543943 valid 0.32347590774297713\n",
      "EPOCH: 16\n",
      "LOSS: train 0.31796032635422494 valid 0.3213220126926899\n",
      "EPOCH: 17\n",
      "LOSS: train 0.3121001824930117 valid 0.31957261711359025\n",
      "EPOCH: 18\n",
      "LOSS: train 0.3109499920498241 valid 0.31840153634548185\n",
      "EPOCH: 19\n",
      "LOSS: train 0.30885720233638564 valid 0.31767356395721436\n",
      "EPOCH: 20\n",
      "LOSS: train 0.30762243193465394 valid 0.31737569347023964\n",
      "EPOCH: 21\n",
      "LOSS: train 0.3062079752033407 valid 0.3168226845562458\n",
      "EPOCH: 22\n",
      "LOSS: train 0.3046195294175829 valid 0.3160047382116318\n",
      "EPOCH: 23\n",
      "LOSS: train 0.3031191982619174 valid 0.31538846865296366\n",
      "EPOCH: 24\n",
      "LOSS: train 0.30200517642033564 valid 0.3154869765043259\n",
      "EPOCH: 25\n",
      "LOSS: train 0.30113720603577504 valid 0.31647211909294126\n",
      "EPOCH: 26\n",
      "LOSS: train 0.30018033280775147 valid 0.31683242693543434\n",
      "EPOCH: 27\n",
      "LOSS: train 0.29900208289747116 valid 0.3147899009287357\n",
      "EPOCH: 28\n",
      "LOSS: train 0.29703367027369415 valid 0.3127273105084896\n",
      "EPOCH: 29\n",
      "LOSS: train 0.29490624310134295 valid 0.31329812854528427\n",
      "EPOCH: 30\n",
      "LOSS: train 0.29579090375404854 valid 0.31250766590237616\n",
      "EPOCH: 31\n",
      "LOSS: train 0.30084841475858315 valid 0.33187187239527705\n",
      "EPOCH: 32\n",
      "LOSS: train 0.3114359669097058 valid 0.3281971804797649\n",
      "EPOCH: 33\n",
      "LOSS: train 0.3280503498269366 valid 0.31569088250398636\n",
      "EPOCH: 34\n",
      "LOSS: train 0.30062691480308384 valid 0.3152001664042473\n",
      "EPOCH: 35\n",
      "LOSS: train 0.2901545048921139 valid 0.31070949509739876\n",
      "EPOCH: 36\n",
      "LOSS: train 0.28866187241170316 valid 0.31011458933353425\n",
      "EPOCH: 37\n",
      "LOSS: train 0.2876126367550392 valid 0.30959026888012886\n",
      "EPOCH: 38\n",
      "LOSS: train 0.28661037536410544 valid 0.3091047048568726\n",
      "EPOCH: 39\n",
      "LOSS: train 0.2857182985776431 valid 0.3087217748165131\n",
      "EPOCH: 40\n",
      "LOSS: train 0.2849175026277443 valid 0.30833694860339167\n",
      "EPOCH: 41\n",
      "LOSS: train 0.28410069470281724 valid 0.3079277992248535\n",
      "EPOCH: 42\n",
      "LOSS: train 0.28333083182186275 valid 0.3075852796435356\n",
      "EPOCH: 43\n",
      "LOSS: train 0.28264538208385565 valid 0.3073144435882568\n",
      "EPOCH: 44\n",
      "LOSS: train 0.2819865448521329 valid 0.3069595225155354\n",
      "EPOCH: 45\n",
      "LOSS: train 0.28130452683219664 valid 0.3064428441226482\n",
      "EPOCH: 46\n",
      "LOSS: train 0.28059703963143484 valid 0.3058973588049412\n",
      "EPOCH: 47\n",
      "LOSS: train 0.2800056380884988 valid 0.30549184158444403\n",
      "EPOCH: 48\n",
      "LOSS: train 0.27965484830466186 valid 0.3056205742061138\n",
      "EPOCH: 49\n",
      "LOSS: train 0.2794407904148102 valid 0.30647094249725343\n"
     ]
    }
   ],
   "source": [
    "rnn_model = basic_rnn.BasicRNN(\n",
    "    # X tensor, first element, traj component, n_features\n",
    "    train_dataloader_seq.dataset.tensors[0][0][0].shape[1],\n",
    "    1,\n",
    "    HIDDEN_SIZE,\n",
    "    BATCH_SIZE,\n",
    "    embed_dict\n",
    ").to(device)\n",
    "rnn_train_losses, rnn_test_losses = model_utils.fit_to_data(rnn_model, train_dataloader_seq, test_dataloader_seq, LEARN_RATE, EPOCHS, config, device, sequential_flag=True)\n",
    "torch.save(rnn_model.state_dict(), run_folder + network_folder + f\"models/rnn_model_{fold_num}.pt\")\n",
    "rnn_labels, rnn_preds, rnn_avg_loss = model_utils.predict(rnn_model, test_dataloader_seq, config, device, sequential_flag=True)\n",
    "rnn_labels = data_utils.de_normalize(rnn_labels, config['speed_m_s_mean'], config['speed_m_s_std'])\n",
    "rnn_preds = data_utils.de_normalize(rnn_preds, config['speed_m_s_mean'], config['speed_m_s_std'])"
   ]
  },
  {
   "cell_type": "code",
   "execution_count": 58,
   "metadata": {},
   "outputs": [
    {
     "data": {
      "text/plain": [
       "<Axes: xlabel='Epoch', ylabel='value'>"
      ]
     },
     "execution_count": 58,
     "metadata": {},
     "output_type": "execute_result"
    },
    {
     "data": {
      "image/png": "[encoded data removed]",
      "text/plain": [
       "<Figure size 640x480 with 1 Axes>"
      ]
     },
     "metadata": {},
     "output_type": "display_data"
    }
   ],
   "source": [
    "# Plot training curves\n",
    "plot_data = pd.DataFrame(\n",
    "    {\n",
    "        \"Epoch\": [x for x in range(0,len(rnn_train_losses))],\n",
    "        \"Training Loss\": rnn_train_losses,\n",
    "        \"Validation Loss\": rnn_test_losses\n",
    "    }\n",
    ")\n",
    "sns.lineplot(x='Epoch', y='value', hue='variable', data=pd.melt(plot_data, ['Epoch']))"
   ]
  },
  {
   "cell_type": "code",
   "execution_count": 96,
   "metadata": {},
   "outputs": [
    {
     "name": "stdout",
     "output_type": "stream",
     "text": [
      "MAPE: 3.2734146118164062\n",
      "RMSE: 3.44891619682312\n",
      "MAE: 2.10748553276062\n",
      "MAPE: 0.0002097583783324808\n",
      "RMSE: 5.9839582443237305\n",
      "MAE: 4.657571792602539\n"
     ]
    }
   ],
   "source": [
    "# Look at predictions\n",
    "# Note zeros in MAPE cause overflow\n",
    "print(f\"MAPE: {metrics.mean_absolute_percentage_error(rnn_labels[:13], rnn_preds[:13])}\")\n",
    "print(f\"RMSE: {np.sqrt(metrics.mean_squared_error(rnn_labels, rnn_preds))}\")\n",
    "print(f\"MAE: {metrics.mean_absolute_error(rnn_labels, rnn_preds)}\")\n",
    "\n",
    "print(f\"MAPE: {metrics.mean_absolute_percentage_error(avg_seq_labels / 1e20, avg_seq_preds / 1e20)}\")\n",
    "print(f\"RMSE: {np.sqrt(metrics.mean_squared_error(avg_seq_labels, avg_seq_preds))}\")\n",
    "print(f\"MAE: {metrics.mean_absolute_error(avg_seq_labels, avg_seq_preds)}\")"
   ]
  },
  {
   "cell_type": "code",
   "execution_count": 81,
   "metadata": {},
   "outputs": [
    {
     "data": {
      "text/plain": [
       "<Axes: ylabel='Count'>"
      ]
     },
     "execution_count": 81,
     "metadata": {},
     "output_type": "execute_result"
    },
    {
     "data": {
      "image/png": "[encoded data removed]",
      "text/plain": [
       "<Figure size 640x480 with 1 Axes>"
      ]
     },
     "metadata": {},
     "output_type": "display_data"
    }
   ],
   "source": [
    "sns.histplot(rnn_labels)"
   ]
  },
  {
   "cell_type": "code",
   "execution_count": 82,
   "metadata": {},
   "outputs": [
    {
     "data": {
      "text/plain": [
       "<Axes: ylabel='Count'>"
      ]
     },
     "execution_count": 82,
     "metadata": {},
     "output_type": "execute_result"
    },
    {
     "data": {
      "image/png": "[encoded data removed]",
      "text/plain": [
       "<Figure size 640x480 with 1 Axes>"
      ]
     },
     "metadata": {},
     "output_type": "display_data"
    }
   ],
   "source": [
    "sns.histplot(rnn_preds)"
   ]
  }
 ],
 "metadata": {
  "kernelspec": {
   "display_name": "valle_m1",
   "language": "python",
   "name": "python3"
  },
  "language_info": {
   "codemirror_mode": {
    "name": "ipython",
    "version": 3
   },
   "file_extension": ".py",
   "mimetype": "text/x-python",
   "name": "python",
   "nbconvert_exporter": "python",
   "pygments_lexer": "ipython3",
   "version": "3.9.16"
  },
  "orig_nbformat": 4,
  "vscode": {
   "interpreter": {
    "hash": "b30fe1de1713ca8e7537eef068b13a2de77ded03f86aab2e80ea73416dd3d704"
   }
  }
 },
 "nbformat": 4,
 "nbformat_minor": 2
}
