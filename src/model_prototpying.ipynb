{
 "cells": [
  {
   "cell_type": "code",
   "execution_count": 1,
   "metadata": {},
   "outputs": [
    {
     "name": "stdout",
     "output_type": "stream",
     "text": [
      "Using device: cpu\n",
      "==============================\n",
      "Loading data from '../results/debug/kcm/deeptte_formatted/'...\n",
      "Loading and merging GTFS files from './data/kcm_gtfs/2023_01_23/'...\n"
     ]
    }
   ],
   "source": [
    "#!/usr/bin python3\n",
    "import itertools\n",
    "import json\n",
    "import numpy as np\n",
    "import pandas as pd\n",
    "import random\n",
    "from sklearn import metrics\n",
    "import seaborn as sns\n",
    "from tabulate import tabulate\n",
    "import torch\n",
    "import torch.backends.mps\n",
    "from torch.utils.data import DataLoader\n",
    "\n",
    "from utils import data_utils, data_loader, model_utils\n",
    "from models import (avg_speed, basic_ff, basic_rnn, gru_rnn, persistent_speed, time_table)\n",
    "\n",
    "import importlib\n",
    "\n",
    "torch.set_default_dtype(torch.float)\n",
    "\n",
    "run_folder = \"../results/debug/\"\n",
    "network_folder = \"kcm/\"\n",
    "\n",
    "if torch.cuda.is_available():\n",
    "    device = torch.device(\"cuda\")\n",
    "# elif torch.backends.mps.is_available():\n",
    "#     device = torch.device(\"mps\")\n",
    "else:\n",
    "    device = torch.device(\"cpu\")\n",
    "print(f\"Using device: {device}\")\n",
    "\n",
    "### Set run and hyperparameters\n",
    "EPOCHS = 50\n",
    "BATCH_SIZE = 512\n",
    "LEARN_RATE = 1e-3\n",
    "HIDDEN_SIZE = 32\n",
    "NUM_WORKERS = 0\n",
    "\n",
    "### Load train/test data\n",
    "print(\"=\"*30)\n",
    "data_folder = run_folder + network_folder + \"deeptte_formatted/\"\n",
    "print(f\"Loading data from '{data_folder}'...\")\n",
    "# Load config\n",
    "with open(data_folder + \"config.json\", \"r\") as f:\n",
    "    config = json.load(f)\n",
    "# Load GTFS-RT samples\n",
    "train_data_chunks, valid_data = data_utils.load_train_test_data(data_folder, config['n_folds']) # Validation data no longer used\n",
    "# Load GTFS data\n",
    "print(f\"Loading and merging GTFS files from '{config['gtfs_folder']}'...\")\n",
    "gtfs_data = data_utils.merge_gtfs_files(\".\"+config['gtfs_folder'])"
   ]
  },
  {
   "cell_type": "code",
   "execution_count": 2,
   "metadata": {},
   "outputs": [
    {
     "name": "stdout",
     "output_type": "stream",
     "text": [
      "Successfully loaded 10356 training samples and 2589 testing samples.\n"
     ]
    }
   ],
   "source": [
    "fold_num = 0\n",
    "importlib.reload(data_loader)\n",
    "# Set aside the train/test data according to the current fold number\n",
    "test_data = train_data_chunks[fold_num]\n",
    "train_data = [x for i,x in enumerate(train_data_chunks) if i!=fold_num]\n",
    "# Combine the training data to single object\n",
    "train_data = list(itertools.chain.from_iterable(train_data))\n",
    "\n",
    "# Construct dataloaders for Pytorch models\n",
    "train_dataloader = data_loader.make_generic_dataloader(train_data, config, BATCH_SIZE, \"basic\", NUM_WORKERS)\n",
    "test_dataloader = data_loader.make_generic_dataloader(test_data, config, BATCH_SIZE, \"basic\", NUM_WORKERS)\n",
    "train_dataloader_seq = data_loader.make_generic_dataloader(train_data, config, BATCH_SIZE, \"sequential\", NUM_WORKERS)\n",
    "test_dataloader_seq = data_loader.make_generic_dataloader(test_data, config, BATCH_SIZE, \"sequential\", NUM_WORKERS)\n",
    "train_lens, train_mask = data_utils.get_seq_info(train_dataloader_seq)\n",
    "test_lens, test_mask = data_utils.get_seq_info(test_dataloader_seq)\n",
    "\n",
    "train_dataloader_seq_tt = data_loader.make_generic_dataloader(train_data, config, BATCH_SIZE, \"sequential_tt\", NUM_WORKERS)\n",
    "test_dataloader_seq_tt = data_loader.make_generic_dataloader(test_data, config, BATCH_SIZE, \"sequential_tt\", NUM_WORKERS)\n",
    "train_lens_tt, train_mask_tt = data_utils.get_seq_info(train_dataloader_seq_tt)\n",
    "test_lens_tt, test_mask_tt = data_utils.get_seq_info(test_dataloader_seq_tt)\n",
    "print(f\"Successfully loaded {len(train_data)} training samples and {len(test_data)} testing samples.\")\n",
    "\n",
    "# Define embedded variables for nn models\n",
    "embed_dict = {\n",
    "    'timeID': {\n",
    "        'vocab_size': 1440,\n",
    "        'embed_dims': 24\n",
    "    },\n",
    "    'weekID': {\n",
    "        'vocab_size': 7,\n",
    "        'embed_dims': 4\n",
    "    },\n",
    "    'driverID': {\n",
    "        'vocab_size': config['n_unique_veh'],\n",
    "        'embed_dims': 6\n",
    "    },\n",
    "    'tripID': {\n",
    "        'vocab_size': config['n_unique_trip'],\n",
    "        'embed_dims': 20\n",
    "    }\n",
    "}"
   ]
  },
  {
   "cell_type": "code",
   "execution_count": 20,
   "metadata": {},
   "outputs": [
    {
     "name": "stdout",
     "output_type": "stream",
     "text": [
      "Training persistent speed model...\n"
     ]
    }
   ],
   "source": [
    "print(f\"Training persistent speed model...\")\n",
    "persistent_seq_model = persistent_speed.PersistentSpeedSeqModel(config, 1.0)\n",
    "persistent_seq_labels, persistent_seq_preds = persistent_seq_model.predict(test_dataloader_seq)\n",
    "\n",
    "persistent_seq_preds_tt = data_utils.convert_speeds_to_tts(persistent_seq_preds, test_dataloader_seq, test_mask, config)\n",
    "persistent_seq_labels_tt = data_utils.convert_speeds_to_tts(persistent_seq_labels, test_dataloader_seq, test_mask, config)"
   ]
  },
  {
   "cell_type": "code",
   "execution_count": 21,
   "metadata": {},
   "outputs": [
    {
     "data": {
      "text/plain": [
       "<Axes: ylabel='Count'>"
      ]
     },
     "execution_count": 21,
     "metadata": {},
     "output_type": "execute_result"
    },
    {
     "data": {
      "image/png": "[encoded data removed]",
      "text/plain": [
       "<Figure size 640x480 with 1 Axes>"
      ]
     },
     "metadata": {},
     "output_type": "display_data"
    }
   ],
   "source": [
    "sns.histplot(persistent_seq_preds_tt)"
   ]
  },
  {
   "cell_type": "code",
   "execution_count": 15,
   "metadata": {},
   "outputs": [
    {
     "data": {
      "text/plain": [
       "<Axes: ylabel='Count'>"
      ]
     },
     "execution_count": 15,
     "metadata": {},
     "output_type": "execute_result"
    },
    {
     "data": {
      "image/png": "[encoded data removed]",
      "text/plain": [
       "<Figure size 640x480 with 1 Axes>"
      ]
     },
     "metadata": {},
     "output_type": "display_data"
    }
   ],
   "source": [
    "sns.histplot(persistent_seq_labels_tt)"
   ]
  },
  {
   "cell_type": "code",
   "execution_count": null,
   "metadata": {},
   "outputs": [],
   "source": [
    "### Train RNN model\n",
    "importlib.reload(gru_rnn)\n",
    "print(\"=\"*30)\n",
    "print(f\"Training rnn model...\")\n",
    "rnn_model = gru_rnn.GRU_RNN(\n",
    "    8,\n",
    "    1,\n",
    "    HIDDEN_SIZE,\n",
    "    BATCH_SIZE,\n",
    "    embed_dict\n",
    ").to(device)\n",
    "rnn_train_losses, rnn_test_losses = model_utils.fit_to_data(rnn_model, train_dataloader_seq_tt, test_dataloader_seq_tt, LEARN_RATE, EPOCHS, config, device, sequential_flag=True)\n",
    "torch.save(rnn_model.state_dict(), run_folder + network_folder + f\"models/rnn_model_{fold_num}.pt\")\n",
    "rnn_labels, rnn_preds, rnn_avg_loss = model_utils.predict(rnn_model, test_dataloader_seq_tt, device, sequential_flag=True)\n",
    "rnn_labels = data_utils.de_normalize(rnn_labels, config['time_calc_s_mean'], config['time_calc_s_std'])\n",
    "rnn_preds = data_utils.de_normalize(rnn_preds, config['time_calc_s_mean'], config['time_calc_s_std'])\n"
   ]
  },
  {
   "cell_type": "code",
   "execution_count": null,
   "metadata": {},
   "outputs": [],
   "source": [
    "rnn_preds_masked = rnn_preds[test_mask_tt]\n",
    "rnn_labels_masked = rnn_labels[test_mask_tt]\n",
    "\n",
    "rnn_preds_tt = data_utils.aggregate_tts(rnn_preds, test_mask_tt)\n",
    "rnn_labels_tt = data_utils.aggregate_tts(rnn_labels, test_mask_tt)"
   ]
  },
  {
   "cell_type": "code",
   "execution_count": null,
   "metadata": {},
   "outputs": [],
   "source": [
    "metrics.mean_absolute_error(rnn_preds_tt, rnn_labels_tt)"
   ]
  },
  {
   "cell_type": "code",
   "execution_count": null,
   "metadata": {},
   "outputs": [],
   "source": [
    "sns.histplot(rnn_preds_tt)"
   ]
  },
  {
   "cell_type": "code",
   "execution_count": null,
   "metadata": {},
   "outputs": [],
   "source": [
    "sns.histplot(rnn_labels_tt)"
   ]
  },
  {
   "cell_type": "code",
   "execution_count": null,
   "metadata": {},
   "outputs": [],
   "source": [
    "sns.histplot(rnn_preds_masked)"
   ]
  },
  {
   "cell_type": "code",
   "execution_count": null,
   "metadata": {},
   "outputs": [],
   "source": [
    "sns.histplot(rnn_labels_masked)"
   ]
  },
  {
   "cell_type": "code",
   "execution_count": null,
   "metadata": {},
   "outputs": [],
   "source": [
    "# Plot training curves\n",
    "plot_data = pd.DataFrame(\n",
    "    {\n",
    "        \"Epoch\": [x for x in range(0,len(rnn_train_losses))],\n",
    "        \"Training Loss\": rnn_train_losses,\n",
    "        \"Validation Loss\": rnn_test_losses\n",
    "    }\n",
    ")\n",
    "sns.lineplot(x='Epoch', y='value', hue='variable', data=pd.melt(plot_data, ['Epoch']))"
   ]
  },
  {
   "cell_type": "code",
   "execution_count": null,
   "metadata": {},
   "outputs": [],
   "source": [
    "# import torch\n",
    "# from torch.profiler import profile, record_function, ProfilerActivity\n",
    "\n",
    "# with profile(activities=[ProfilerActivity.CPU, ProfilerActivity.CUDA], record_shapes=True) as prof:\n",
    "#     with record_function(\"model_inference\"):\n",
    "#         preds, hidden_prev = rnn_model(inputs, hidden_prev)\n",
    "# print(prof.key_averages().table(sort_by=\"cpu_time_total\", row_limit=10))"
   ]
  }
 ],
 "metadata": {
  "kernelspec": {
   "display_name": "valle_m1",
   "language": "python",
   "name": "python3"
  },
  "language_info": {
   "codemirror_mode": {
    "name": "ipython",
    "version": 3
   },
   "file_extension": ".py",
   "mimetype": "text/x-python",
   "name": "python",
   "nbconvert_exporter": "python",
   "pygments_lexer": "ipython3",
   "version": "3.9.16"
  },
  "orig_nbformat": 4,
  "vscode": {
   "interpreter": {
    "hash": "b30fe1de1713ca8e7537eef068b13a2de77ded03f86aab2e80ea73416dd3d704"
   }
  }
 },
 "nbformat": 4,
 "nbformat_minor": 2
}
