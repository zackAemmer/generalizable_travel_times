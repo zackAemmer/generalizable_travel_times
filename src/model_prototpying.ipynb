{
 "cells": [
  {
   "cell_type": "code",
   "execution_count": 2,
   "metadata": {},
   "outputs": [
    {
     "data": {
      "text/plain": [
       "<module 'database.data_loader' from '/Users/zack/Desktop/valle/src/database/data_loader.py'>"
      ]
     },
     "execution_count": 2,
     "metadata": {},
     "output_type": "execute_result"
    }
   ],
   "source": [
    "from datetime import datetime\n",
    "import itertools\n",
    "import json\n",
    "import os\n",
    "\n",
    "import matplotlib.pyplot as plt\n",
    "import numpy as np\n",
    "import pandas as pd\n",
    "import pickle\n",
    "import seaborn as sns\n",
    "import torch\n",
    "from torch.utils.data import DataLoader, Dataset\n",
    "import torch.nn.functional as F\n",
    "\n",
    "from database import data_utils, data_loader\n",
    "from models import basic_nn\n",
    "\n",
    "import importlib\n",
    "importlib.reload(basic_nn)\n",
    "importlib.reload(data_loader)"
   ]
  },
  {
   "cell_type": "code",
   "execution_count": 3,
   "metadata": {},
   "outputs": [],
   "source": [
    "# Read in train data\n",
    "kcm_data_train = []\n",
    "for i in range(0,5):\n",
    "    kcm_contents = open(\"../results/kcm2weeks/data/train_0\"+str(i), \"r\").read()\n",
    "    kcm_data_train.append([json.loads(str(item)) for item in kcm_contents.strip().split('\\n')])\n",
    "kcm_data_train = list(itertools.chain.from_iterable(kcm_data_train))\n",
    "# Read in test data\n",
    "kcm_contents = open(\"../results/kcm2weeks/data/test\", \"r\").read()\n",
    "kcm_data_valid = [json.loads(str(item)) for item in kcm_contents.strip().split('\\n')]"
   ]
  },
  {
   "cell_type": "code",
   "execution_count": 27,
   "metadata": {},
   "outputs": [
    {
     "data": {
      "text/plain": [
       "BasicNeuralNet(\n",
       "  (flatten): Flatten(start_dim=1, end_dim=-1)\n",
       "  (linear_relu_stack): Sequential(\n",
       "    (0): Linear(in_features=6, out_features=512, bias=True)\n",
       "    (1): ReLU()\n",
       "    (2): Linear(in_features=512, out_features=512, bias=True)\n",
       "    (3): ReLU()\n",
       "    (4): Linear(in_features=512, out_features=1, bias=True)\n",
       "  )\n",
       ")"
      ]
     },
     "execution_count": 27,
     "metadata": {},
     "output_type": "execute_result"
    }
   ],
   "source": [
    "# Set hyperparameters\n",
    "EPOCHS = 10\n",
    "BATCH_SIZE = 100\n",
    "LEARN_RATE = 1e-2\n",
    "\n",
    "# Make data loaders\n",
    "dataloader_train = data_loader.make_dataloader(kcm_data_train, BATCH_SIZE)\n",
    "dataloader_valid = data_loader.make_dataloader(kcm_data_valid, BATCH_SIZE)\n",
    "\n",
    "# Initialize model\n",
    "model = basic_nn.BasicNeuralNet(dataloader_train.dataset[0][0].shape[0])\n",
    "optimizer = torch.optim.Adam(model.parameters(), lr=LEARN_RATE)\n",
    "loss_fn = torch.nn.MSELoss()\n",
    "model"
   ]
  },
  {
   "cell_type": "code",
   "execution_count": 28,
   "metadata": {},
   "outputs": [
    {
     "name": "stdout",
     "output_type": "stream",
     "text": [
      "EPOCH: 0\n",
      "LOSS: train 145903031.35714287 valid 164244784.0\n",
      "EPOCH: 1\n",
      "LOSS: train 139660154.98214287 valid 160366128.0\n",
      "EPOCH: 2\n",
      "LOSS: train 138175892.625 valid 161602272.0\n",
      "EPOCH: 3\n",
      "LOSS: train 137492751.55357143 valid 166528192.0\n",
      "EPOCH: 4\n",
      "LOSS: train 137949954.16964287 valid 159754640.0\n",
      "EPOCH: 5\n",
      "LOSS: train 137403181.48214287 valid 161079648.0\n",
      "EPOCH: 6\n",
      "LOSS: train 137347714.14285713 valid 163453584.0\n",
      "EPOCH: 7\n",
      "LOSS: train 137953919.99107143 valid 161159760.0\n",
      "EPOCH: 8\n",
      "LOSS: train 137062110.74776787 valid 163493264.0\n",
      "EPOCH: 9\n",
      "LOSS: train 136760758.7767857 valid 160985968.0\n"
     ]
    }
   ],
   "source": [
    "timestamp = datetime.now().strftime('%Y%m%d_%H%M%S')\n",
    "epoch_number = 0\n",
    "best_vloss = 100000000.\n",
    "\n",
    "training_loss = []\n",
    "validation_loss = []\n",
    "training_steps = len(dataloader_train) // BATCH_SIZE\n",
    "validation_steps = len(dataloader_valid) // BATCH_SIZE\n",
    "\n",
    "for epoch in range(EPOCHS):\n",
    "    print(f'EPOCH: {epoch_number}')\n",
    "\n",
    "    # Make sure gradient tracking is on, and do a pass over the data\n",
    "    model.train(True)\n",
    "    running_tloss = 0.0\n",
    "    last_loss = 0.0\n",
    "\n",
    "    # Iterate overa all batches per-epoch\n",
    "    for i, data in enumerate(dataloader_train):\n",
    "        # Every data instance is an input + label pair\n",
    "        inputs, labels = data\n",
    "\n",
    "        # Run forward/backward\n",
    "        optimizer.zero_grad()\n",
    "        preds = model(inputs)\n",
    "        loss = loss_fn(preds, labels.unsqueeze(1))\n",
    "        loss.backward()\n",
    "\n",
    "        # Adjust weights\n",
    "        optimizer.step()\n",
    "\n",
    "        # Gather data and report\n",
    "        running_tloss += loss.item()\n",
    "\n",
    "    # We don't need gradients on to do reporting\n",
    "    model.train(False)\n",
    "\n",
    "    avg_batch_loss = running_tloss / training_steps\n",
    "    training_loss.append(avg_batch_loss)\n",
    "\n",
    "    running_vloss = 0.0\n",
    "    for i, vdata in enumerate(dataloader_valid):\n",
    "        vinputs, vlabels = vdata\n",
    "        vpreds = model(vinputs)\n",
    "        vloss = loss_fn(vpreds, vlabels.unsqueeze(1))\n",
    "        running_vloss += vloss\n",
    "    avg_valid_loss = running_vloss / validation_steps\n",
    "    validation_loss.append(avg_valid_loss.item())\n",
    "\n",
    "    print(f'LOSS: train {avg_batch_loss} valid {avg_valid_loss}')\n",
    "\n",
    "    # Track best performance, and save the model's state\n",
    "    if avg_valid_loss < best_vloss:\n",
    "        best_vloss = avg_valid_loss\n",
    "        model_path = f'../results/basic_nn/model_{timestamp}_{epoch_number}'\n",
    "        torch.save(model.state_dict(), model_path)\n",
    "\n",
    "    epoch_number += 1"
   ]
  },
  {
   "cell_type": "code",
   "execution_count": 32,
   "metadata": {},
   "outputs": [
    {
     "data": {
      "text/plain": [
       "<AxesSubplot: xlabel='Epoch', ylabel='value'>"
      ]
     },
     "execution_count": 32,
     "metadata": {},
     "output_type": "execute_result"
    },
    {
     "data": {
      "image/png": "[encoded data removed]",
      "text/plain": [
       "<Figure size 640x480 with 1 Axes>"
      ]
     },
     "metadata": {},
     "output_type": "display_data"
    }
   ],
   "source": [
    "# Plot training curves\n",
    "plot_data = pd.DataFrame(\n",
    "    {\n",
    "        \"Epoch\": [x for x in range(0,len(training_loss))],\n",
    "        \"Training Loss\": training_loss,\n",
    "        \"Validation Loss\": validation_loss\n",
    "    }\n",
    ")\n",
    "\n",
    "sns.lineplot(x='Epoch', y='value', hue='variable', data=pd.melt(plot_data, ['Epoch']))"
   ]
  }
 ],
 "metadata": {
  "kernelspec": {
   "display_name": "valle_x86",
   "language": "python",
   "name": "python3"
  },
  "language_info": {
   "codemirror_mode": {
    "name": "ipython",
    "version": 3
   },
   "file_extension": ".py",
   "mimetype": "text/x-python",
   "name": "python",
   "nbconvert_exporter": "python",
   "pygments_lexer": "ipython3",
   "version": "3.9.16"
  },
  "orig_nbformat": 4,
  "vscode": {
   "interpreter": {
    "hash": "2fb70e07b0f17e68643879a7b77756b03ab185a4cb75b0cac3ca67f13a3aadd8"
   }
  }
 },
 "nbformat": 4,
 "nbformat_minor": 2
}
