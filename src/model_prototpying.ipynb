{
 "cells": [
  {
   "cell_type": "code",
   "execution_count": 1,
   "metadata": {},
   "outputs": [
    {
     "data": {
      "text/plain": [
       "<module 'database.data_loader' from '/Users/zack/Desktop/valle/src/database/data_loader.py'>"
      ]
     },
     "execution_count": 1,
     "metadata": {},
     "output_type": "execute_result"
    }
   ],
   "source": [
    "from datetime import datetime\n",
    "import itertools\n",
    "import json\n",
    "import os\n",
    "\n",
    "import matplotlib.pyplot as plt\n",
    "import numpy as np\n",
    "import pandas as pd\n",
    "import pickle\n",
    "import seaborn as sns\n",
    "import torch\n",
    "from torch.utils.data import DataLoader, Dataset\n",
    "import torch.nn.functional as F\n",
    "\n",
    "from database import data_utils, data_loader\n",
    "from models import basic_nn\n",
    "\n",
    "import importlib\n",
    "importlib.reload(basic_nn)\n",
    "importlib.reload(data_loader)"
   ]
  },
  {
   "cell_type": "code",
   "execution_count": 2,
   "metadata": {},
   "outputs": [],
   "source": [
    "# Read in config\n",
    "with open(\"../results/kcm2weeks/data/config.json\", \"r\") as f:\n",
    "    kcm_config = json.load(f)\n",
    "# Read in train data\n",
    "kcm_data_train = []\n",
    "for i in range(0,5):\n",
    "    kcm_contents = open(\"../results/kcm2weeks/data/train_0\"+str(i), \"r\").read()\n",
    "    kcm_data_train.append([json.loads(str(item)) for item in kcm_contents.strip().split('\\n')])\n",
    "kcm_data_train = list(itertools.chain.from_iterable(kcm_data_train))\n",
    "# Read in test data\n",
    "kcm_contents = open(\"../results/kcm2weeks/data/test\", \"r\").read()\n",
    "kcm_data_valid = [json.loads(str(item)) for item in kcm_contents.strip().split('\\n')]"
   ]
  },
  {
   "cell_type": "code",
   "execution_count": 3,
   "metadata": {},
   "outputs": [
    {
     "name": "stdout",
     "output_type": "stream",
     "text": [
      "Using device: cpu\n",
      "Model: BasicNeuralNet(\n",
      "  (flatten): Flatten(start_dim=1, end_dim=-1)\n",
      "  (embeddingTimeID): Embedding(1440, 16)\n",
      "  (embeddingWeekID): Embedding(7, 16)\n",
      "  (linear_relu_stack): Sequential(\n",
      "    (0): Linear(in_features=36, out_features=512, bias=True)\n",
      "    (1): ReLU()\n",
      "    (2): Linear(in_features=512, out_features=512, bias=True)\n",
      "    (3): ReLU()\n",
      "    (4): Linear(in_features=512, out_features=1, bias=True)\n",
      "  )\n",
      ")\n"
     ]
    }
   ],
   "source": [
    "# Set hyperparameters\n",
    "EPOCHS = 30\n",
    "BATCH_SIZE = 512\n",
    "LEARN_RATE = 1e-3\n",
    "HIDDEN_SIZE = 512\n",
    "\n",
    "# Use acceleration if available\n",
    "device = torch.device(\"cpu\")\n",
    "\n",
    "# Make data loaders\n",
    "dataloader_train = data_loader.make_dataloader(kcm_data_train, kcm_config, BATCH_SIZE, device)\n",
    "dataloader_valid = data_loader.make_dataloader(kcm_data_valid, kcm_config, BATCH_SIZE, device)\n",
    "\n",
    "# Initialize model\n",
    "# KCM: 1147\n",
    "# NWY: 646\n",
    "embed_dict = {\n",
    "    'timeID': {\n",
    "        'vocab_size': 1440,\n",
    "        'embed_dims': 16,\n",
    "        'col': 4\n",
    "    },\n",
    "    'weekID': {\n",
    "        'vocab_size': 7,\n",
    "        'embed_dims': 16,\n",
    "        'col': 5\n",
    "    }\n",
    "}\n",
    "model = basic_nn.BasicNeuralNet(dataloader_train.dataset[0][0].shape[0], embed_dict, HIDDEN_SIZE).to(device)\n",
    "optimizer = torch.optim.Adam(model.parameters(), lr=LEARN_RATE)\n",
    "loss_fn = torch.nn.MSELoss()\n",
    "\n",
    "print(f\"Using device: {device}\")\n",
    "print(f\"Model: {model}\")"
   ]
  },
  {
   "cell_type": "code",
   "execution_count": 4,
   "metadata": {},
   "outputs": [
    {
     "name": "stdout",
     "output_type": "stream",
     "text": [
      "EPOCH: 0\n",
      "LOSS: train 323.06172858344183 valid 228.7010955810547\n",
      "EPOCH: 1\n",
      "LOSS: train 193.0539599524604 valid 184.70030212402344\n",
      "EPOCH: 2\n",
      "LOSS: train 155.0384554862976 valid 154.88723754882812\n",
      "EPOCH: 3\n",
      "LOSS: train 135.8040130403307 valid 146.41558837890625\n",
      "EPOCH: 4\n",
      "LOSS: train 129.05189275741577 valid 138.4940643310547\n",
      "EPOCH: 5\n",
      "LOSS: train 124.39680586920844 valid 133.96665954589844\n",
      "EPOCH: 6\n",
      "LOSS: train 119.70612112681071 valid 129.2615203857422\n",
      "EPOCH: 7\n",
      "LOSS: train 115.37286281585693 valid 124.00789642333984\n",
      "EPOCH: 8\n",
      "LOSS: train 110.79805755615234 valid 119.66091918945312\n",
      "EPOCH: 9\n",
      "LOSS: train 105.79482179217868 valid 114.3582763671875\n",
      "EPOCH: 10\n",
      "LOSS: train 101.56376515494452 valid 112.26038360595703\n",
      "EPOCH: 11\n",
      "LOSS: train 97.50748480690851 valid 107.17005920410156\n",
      "EPOCH: 12\n",
      "LOSS: train 94.33636299769084 valid 104.121826171875\n",
      "EPOCH: 13\n",
      "LOSS: train 91.37758329179552 valid 102.57996368408203\n",
      "EPOCH: 14\n",
      "LOSS: train 89.24475908279419 valid 100.44447326660156\n",
      "EPOCH: 15\n",
      "LOSS: train 87.18622530831232 valid 99.3656234741211\n",
      "EPOCH: 16\n",
      "LOSS: train 85.0455961757236 valid 97.60745239257812\n",
      "EPOCH: 17\n",
      "LOSS: train 83.51035340627034 valid 95.96875762939453\n",
      "EPOCH: 18\n",
      "LOSS: train 81.46785550647311 valid 93.541748046875\n",
      "EPOCH: 19\n",
      "LOSS: train 80.54340953297086 valid 92.96768188476562\n",
      "EPOCH: 20\n",
      "LOSS: train 79.23853529824152 valid 92.53707885742188\n",
      "EPOCH: 21\n",
      "LOSS: train 77.68320107460022 valid 93.11192321777344\n",
      "EPOCH: 22\n",
      "LOSS: train 76.70418365796407 valid 91.10765838623047\n",
      "EPOCH: 23\n",
      "LOSS: train 75.98914994133844 valid 92.97926330566406\n",
      "EPOCH: 24\n",
      "LOSS: train 74.71545335981581 valid 91.56285858154297\n",
      "EPOCH: 25\n",
      "LOSS: train 73.90439253383212 valid 93.57406616210938\n",
      "EPOCH: 26\n",
      "LOSS: train 73.30227218733893 valid 89.06228637695312\n",
      "EPOCH: 27\n",
      "LOSS: train 71.87989788585239 valid 90.51239013671875\n",
      "EPOCH: 28\n",
      "LOSS: train 71.54881416426764 valid 89.5208969116211\n",
      "EPOCH: 29\n",
      "LOSS: train 70.92326095369127 valid 87.4000015258789\n"
     ]
    }
   ],
   "source": [
    "timestamp = datetime.now().strftime('%Y%m%d_%H%M%S')\n",
    "epoch_number = 0\n",
    "best_vloss = 100000000.\n",
    "\n",
    "training_loss = []\n",
    "validation_loss = []\n",
    "training_steps = len(dataloader_train)\n",
    "validation_steps = len(dataloader_valid)\n",
    "\n",
    "for epoch in range(EPOCHS):\n",
    "    print(f'EPOCH: {epoch_number}')\n",
    "\n",
    "    # Make sure gradient tracking is on, and do a pass over the data\n",
    "    model.train(True)\n",
    "    running_tloss = 0.0\n",
    "    last_loss = 0.0\n",
    "\n",
    "    # Iterate over all batches per-epoch\n",
    "    for i, data in enumerate(dataloader_train):\n",
    "        # Every data instance is an input + label pair\n",
    "        inputs, labels = data\n",
    "\n",
    "        # Run forward/backward\n",
    "        optimizer.zero_grad()\n",
    "        preds = model(inputs)\n",
    "        loss = loss_fn(preds, labels)\n",
    "        loss.backward()\n",
    "\n",
    "        # Adjust weights\n",
    "        optimizer.step()\n",
    "\n",
    "        # Gather data and report\n",
    "        running_tloss += loss.item()\n",
    "\n",
    "    # We don't need gradients on to do reporting\n",
    "    model.train(False)\n",
    "\n",
    "    avg_batch_loss = running_tloss / training_steps\n",
    "    training_loss.append(avg_batch_loss)\n",
    "\n",
    "    running_vloss = 0.0\n",
    "    for i, vdata in enumerate(dataloader_valid):\n",
    "        vinputs, vlabels = vdata\n",
    "        vpreds = model(vinputs)\n",
    "        vloss = loss_fn(vpreds, vlabels)\n",
    "        running_vloss += vloss\n",
    "    avg_valid_loss = running_vloss / validation_steps\n",
    "    validation_loss.append(avg_valid_loss.item())\n",
    "\n",
    "    print(f'LOSS: train {avg_batch_loss} valid {avg_valid_loss}')\n",
    "\n",
    "    # Track best performance, and save the model's state\n",
    "    if avg_valid_loss < best_vloss:\n",
    "        best_vloss = avg_valid_loss\n",
    "        model_path = f'../results/basic_nn/model_{timestamp}_{epoch_number}'\n",
    "        torch.save(model.state_dict(), model_path)\n",
    "\n",
    "    epoch_number += 1"
   ]
  },
  {
   "cell_type": "code",
   "execution_count": 5,
   "metadata": {},
   "outputs": [
    {
     "data": {
      "text/plain": [
       "<AxesSubplot: xlabel='Epoch', ylabel='value'>"
      ]
     },
     "execution_count": 5,
     "metadata": {},
     "output_type": "execute_result"
    },
    {
     "data": {
      "image/png": "[encoded data removed]",
      "text/plain": [
       "<Figure size 640x480 with 1 Axes>"
      ]
     },
     "metadata": {},
     "output_type": "display_data"
    }
   ],
   "source": [
    "# Plot training curves\n",
    "plot_data = pd.DataFrame(\n",
    "    {\n",
    "        \"Epoch\": [x for x in range(0,len(training_loss))],\n",
    "        \"Training Loss\": training_loss,\n",
    "        \"Validation Loss\": validation_loss\n",
    "    }\n",
    ")\n",
    "\n",
    "sns.lineplot(x='Epoch', y='value', hue='variable', data=pd.melt(plot_data, ['Epoch']))"
   ]
  }
 ],
 "metadata": {
  "kernelspec": {
   "display_name": "valle_m1",
   "language": "python",
   "name": "python3"
  },
  "language_info": {
   "codemirror_mode": {
    "name": "ipython",
    "version": 3
   },
   "file_extension": ".py",
   "mimetype": "text/x-python",
   "name": "python",
   "nbconvert_exporter": "python",
   "pygments_lexer": "ipython3",
   "version": "3.10.9"
  },
  "orig_nbformat": 4,
  "vscode": {
   "interpreter": {
    "hash": "b30fe1de1713ca8e7537eef068b13a2de77ded03f86aab2e80ea73416dd3d704"
   }
  }
 },
 "nbformat": 4,
 "nbformat_minor": 2
}
