{
 "cells": [
  {
   "cell_type": "code",
   "execution_count": 13,
   "metadata": {},
   "outputs": [],
   "source": [
    "from datetime import datetime\n",
    "import itertools\n",
    "import json\n",
    "\n",
    "import importlib\n",
    "import numpy as np\n",
    "import pandas as pd\n",
    "import seaborn as sns\n",
    "from sklearn import metrics\n",
    "import torch\n",
    "from torch.utils.data import DataLoader\n",
    "\n",
    "from database import data_utils, data_loader\n",
    "from models import basic_ff\n",
    "import run_models\n",
    "\n",
    "importlib.reload(data_utils)\n",
    "importlib.reload(basic_ff)\n",
    "importlib.reload(data_loader)\n",
    "\n",
    "\n",
    "run_folder = \"../results/3_mo_cross_val/\"\n",
    "network_folder = \"kcm/\"\n",
    "fold_num = 0\n",
    "device = torch.device(\"cpu\")\n",
    "torch.set_default_device(\"cpu\")"
   ]
  },
  {
   "cell_type": "code",
   "execution_count": 10,
   "metadata": {},
   "outputs": [
    {
     "name": "stdout",
     "output_type": "stream",
     "text": [
      "==============================\n",
      "RUN MODEL: '../results/3_mo_cross_val/'\n",
      "NETWORK: 'kcm/'\n",
      "==============================\n",
      "Loading data from '../results/3_mo_cross_val/kcm/deeptte_formatted/'...\n",
      "Loading and merging GTFS files from './data/kcm_gtfs/2020_09_23/'...\n"
     ]
    }
   ],
   "source": [
    "print(\"=\"*30)\n",
    "print(f\"RUN MODEL: '{run_folder}'\")\n",
    "print(f\"NETWORK: '{network_folder}'\")\n",
    "\n",
    "### Set run and hyperparameters\n",
    "EPOCHS = 50\n",
    "BATCH_SIZE = 16\n",
    "LEARN_RATE = 1e-3\n",
    "HIDDEN_SIZE = 32\n",
    "\n",
    "### Load train/test data\n",
    "print(\"=\"*30)\n",
    "data_folder = run_folder + network_folder + \"deeptte_formatted/\"\n",
    "print(f\"Loading data from '{data_folder}'...\")\n",
    "# Load config\n",
    "with open(data_folder + \"config.json\", \"r\") as f:\n",
    "    config = json.load(f)\n",
    "# Load GTFS-RT samples\n",
    "train_data_chunks, valid_data = data_utils.load_train_test_data(data_folder, config['n_folds'])\n",
    "# Load GTFS data\n",
    "print(f\"Loading and merging GTFS files from '{config['gtfs_folder']}'...\")\n",
    "gtfs_data = data_utils.merge_gtfs_files(\".\"+config['gtfs_folder'])\n",
    "\n",
    "### Run full training process for each validation fold\n",
    "run_results = []"
   ]
  },
  {
   "cell_type": "code",
   "execution_count": 14,
   "metadata": {},
   "outputs": [
    {
     "name": "stdout",
     "output_type": "stream",
     "text": [
      "==============================\n",
      "FOLD: 0\n",
      "Successfully loaded 123759 training samples and 13752 testing samples.\n"
     ]
    }
   ],
   "source": [
    "print(\"=\"*30)\n",
    "print(f\"FOLD: {fold_num}\")\n",
    "test_data = train_data_chunks[fold_num]\n",
    "train_data = [x for i,x in enumerate(train_data_chunks) if i!=fold_num]\n",
    "train_data = list(itertools.chain.from_iterable(train_data))\n",
    "\n",
    "# Construct dataloaders for Pytorch models\n",
    "train_dataset = data_loader.make_dataset(train_data, config, device)\n",
    "test_dataset = data_loader.make_dataset(test_data, config, device)\n",
    "valid_dataset = data_loader.make_dataset(valid_data, config, device)\n",
    "train_dataloader = DataLoader(train_dataset, batch_size=BATCH_SIZE, shuffle=False, pin_memory=False, num_workers=0)\n",
    "test_dataloader = DataLoader(test_dataset, batch_size=BATCH_SIZE, shuffle=False, pin_memory=False, num_workers=0)\n",
    "valid_dataloader = DataLoader(valid_dataset, batch_size=BATCH_SIZE, shuffle=False, pin_memory=False, num_workers=0)\n",
    "print(f\"Successfully loaded {len(train_data)} training samples and {len(test_data)} testing samples.\")"
   ]
  },
  {
   "cell_type": "code",
   "execution_count": 15,
   "metadata": {},
   "outputs": [
    {
     "name": "stdout",
     "output_type": "stream",
     "text": [
      "==============================\n",
      "Training basic ff network model...\n",
      "EPOCH: 0\n",
      "LOSS: train 0.2700924858282324 valid 0.24238690733909607\n",
      "EPOCH: 1\n",
      "LOSS: train 0.22808735940025057 valid 0.22511732578277588\n",
      "EPOCH: 2\n",
      "LOSS: train 0.21882129145416526 valid 0.2053474634885788\n",
      "EPOCH: 3\n",
      "LOSS: train 0.21128634264561424 valid 0.19917570054531097\n",
      "EPOCH: 4\n",
      "LOSS: train 0.20707348223664854 valid 0.19061557948589325\n",
      "EPOCH: 5\n",
      "LOSS: train 0.20307928878445547 valid 0.19081354141235352\n",
      "EPOCH: 6\n",
      "LOSS: train 0.19993770044891773 valid 0.1878887414932251\n",
      "EPOCH: 7\n",
      "LOSS: train 0.19729159792214535 valid 0.1882079541683197\n",
      "EPOCH: 8\n",
      "LOSS: train 0.19665828911754957 valid 0.18370558321475983\n",
      "EPOCH: 9\n",
      "LOSS: train 0.1951026949968909 valid 0.18285632133483887\n",
      "EPOCH: 10\n",
      "LOSS: train 0.19418701318579676 valid 0.18331408500671387\n",
      "EPOCH: 11\n",
      "LOSS: train 0.1943407224403344 valid 0.18145091831684113\n",
      "EPOCH: 12\n",
      "LOSS: train 0.19152277226294329 valid 0.1810632348060608\n",
      "EPOCH: 13\n",
      "LOSS: train 0.190675011446968 valid 0.1834656000137329\n",
      "EPOCH: 14\n",
      "LOSS: train 0.1920273787018728 valid 0.18277837336063385\n",
      "EPOCH: 15\n",
      "LOSS: train 0.19064363511995627 valid 0.18137800693511963\n",
      "EPOCH: 16\n",
      "LOSS: train 0.19026337698783483 valid 0.1886998862028122\n",
      "EPOCH: 17\n",
      "LOSS: train 0.1903527413206518 valid 0.18225038051605225\n",
      "EPOCH: 18\n",
      "LOSS: train 0.18922665198709823 valid 0.17910265922546387\n",
      "EPOCH: 19\n",
      "LOSS: train 0.18855867180238828 valid 0.1793900728225708\n",
      "EPOCH: 20\n",
      "LOSS: train 0.18903577287465276 valid 0.1775708645582199\n",
      "EPOCH: 21\n",
      "LOSS: train 0.1889071445788107 valid 0.17919078469276428\n",
      "EPOCH: 22\n",
      "LOSS: train 0.18801527001666846 valid 0.1801396608352661\n",
      "EPOCH: 23\n",
      "LOSS: train 0.18751057739421947 valid 0.17899659276008606\n",
      "EPOCH: 24\n",
      "LOSS: train 0.187504557307157 valid 0.18098965287208557\n",
      "EPOCH: 25\n",
      "LOSS: train 0.18770625515339467 valid 0.17631660401821136\n",
      "EPOCH: 26\n",
      "LOSS: train 0.18674619484478494 valid 0.18310414254665375\n",
      "EPOCH: 27\n",
      "LOSS: train 0.18587581332142056 valid 0.18206027150154114\n",
      "EPOCH: 28\n",
      "LOSS: train 0.18678979321991582 valid 0.1760503202676773\n",
      "EPOCH: 29\n",
      "LOSS: train 0.18580378405063497 valid 0.18085798621177673\n",
      "EPOCH: 30\n",
      "LOSS: train 0.18607953793688906 valid 0.17615747451782227\n",
      "EPOCH: 31\n",
      "LOSS: train 0.18552222307434313 valid 0.17937004566192627\n",
      "EPOCH: 32\n",
      "LOSS: train 0.184967050121636 valid 0.17873263359069824\n",
      "EPOCH: 33\n",
      "LOSS: train 0.18608380970560165 valid 0.17807692289352417\n",
      "EPOCH: 34\n",
      "LOSS: train 0.18506211892502417 valid 0.17596164345741272\n",
      "EPOCH: 35\n",
      "LOSS: train 0.18432038097456338 valid 0.18076232075691223\n",
      "EPOCH: 36\n",
      "LOSS: train 0.185013063845442 valid 0.18012769520282745\n",
      "EPOCH: 37\n",
      "LOSS: train 0.18456596249308732 valid 0.17967157065868378\n",
      "EPOCH: 38\n",
      "LOSS: train 0.18352804403997713 valid 0.1761273592710495\n",
      "EPOCH: 39\n",
      "LOSS: train 0.18475609305829446 valid 0.17735904455184937\n",
      "EPOCH: 40\n",
      "LOSS: train 0.18552664676410252 valid 0.17581257224082947\n",
      "EPOCH: 41\n",
      "LOSS: train 0.1838938203507236 valid 0.17571036517620087\n",
      "EPOCH: 42\n",
      "LOSS: train 0.18480386274042596 valid 0.17724472284317017\n",
      "EPOCH: 43\n",
      "LOSS: train 0.18350981614180992 valid 0.17585106194019318\n",
      "EPOCH: 44\n",
      "LOSS: train 0.18398514587959514 valid 0.17473405599594116\n",
      "EPOCH: 45\n",
      "LOSS: train 0.18396537385606426 valid 0.17996662855148315\n",
      "EPOCH: 46\n",
      "LOSS: train 0.18365204380638536 valid 0.17643074691295624\n",
      "EPOCH: 47\n",
      "LOSS: train 0.18286401137225594 valid 0.1763935536146164\n",
      "EPOCH: 48\n",
      "LOSS: train 0.1832741765868889 valid 0.1721675992012024\n",
      "EPOCH: 49\n",
      "LOSS: train 0.1833438578044301 valid 0.17199434340000153\n"
     ]
    }
   ],
   "source": [
    "### Train basic ff model\n",
    "print(\"=\"*30)\n",
    "print(f\"Training basic ff network model...\")\n",
    "# Variables must be changed here, and in data_loader.\n",
    "# Must change model file if using only continuous or only embedded variables\n",
    "embed_dict = {\n",
    "    'timeID': {\n",
    "        'vocab_size': 1440,\n",
    "        'embed_dims': 24,\n",
    "        'col': 8\n",
    "    },\n",
    "    'weekID': {\n",
    "        'vocab_size': 7,\n",
    "        'embed_dims': 4,\n",
    "        'col': 9\n",
    "    },\n",
    "    'driverID': {\n",
    "        'vocab_size': config['n_unique_veh'],\n",
    "        'embed_dims': 12,\n",
    "        'col': 10\n",
    "    }\n",
    "}\n",
    "ff_model = basic_ff.BasicFeedForward(\n",
    "    train_dataloader.dataset[0][0].shape[0],\n",
    "    embed_dict,\n",
    "    HIDDEN_SIZE\n",
    ").to(device)\n",
    "ff_train_losses, ff_test_losses = ff_model.fit_to_data(train_dataloader, test_dataloader, LEARN_RATE, EPOCHS)\n",
    "ff_model.eval()\n",
    "ff_labels, ff_preds = ff_model.predict(valid_dataloader, config)"
   ]
  },
  {
   "cell_type": "code",
   "execution_count": 16,
   "metadata": {},
   "outputs": [
    {
     "data": {
      "text/plain": [
       "<AxesSubplot: xlabel='Epoch', ylabel='value'>"
      ]
     },
     "execution_count": 16,
     "metadata": {},
     "output_type": "execute_result"
    },
    {
     "data": {
      "image/png": "[encoded data removed]",
      "text/plain": [
       "<Figure size 640x480 with 1 Axes>"
      ]
     },
     "metadata": {},
     "output_type": "display_data"
    }
   ],
   "source": [
    "# Plot training curves\n",
    "plot_data = pd.DataFrame(\n",
    "    {\n",
    "        \"Epoch\": [x for x in range(0,len(ff_train_losses))],\n",
    "        \"Training Loss\": ff_train_losses,\n",
    "        \"Validation Loss\": ff_test_losses\n",
    "    }\n",
    ")\n",
    "sns.lineplot(x='Epoch', y='value', hue='variable', data=pd.melt(plot_data, ['Epoch']))"
   ]
  },
  {
   "cell_type": "code",
   "execution_count": 17,
   "metadata": {},
   "outputs": [
    {
     "name": "stdout",
     "output_type": "stream",
     "text": [
      "MAPE: 0.18565595149993896\n",
      "RMSE: 400.4659729003906\n",
      "MAE: 261.9237976074219\n"
     ]
    }
   ],
   "source": [
    "# Look at predictions\n",
    "print(f\"MAPE: {metrics.mean_absolute_percentage_error(ff_labels, ff_preds)}\")\n",
    "print(f\"RMSE: {np.sqrt(metrics.mean_squared_error(ff_labels, ff_preds))}\")\n",
    "print(f\"MAE: {metrics.mean_absolute_error(ff_labels, ff_preds)}\")"
   ]
  }
 ],
 "metadata": {
  "kernelspec": {
   "display_name": "valle_m1",
   "language": "python",
   "name": "python3"
  },
  "language_info": {
   "codemirror_mode": {
    "name": "ipython",
    "version": 3
   },
   "file_extension": ".py",
   "mimetype": "text/x-python",
   "name": "python",
   "nbconvert_exporter": "python",
   "pygments_lexer": "ipython3",
   "version": "3.10.9"
  },
  "orig_nbformat": 4,
  "vscode": {
   "interpreter": {
    "hash": "b30fe1de1713ca8e7537eef068b13a2de77ded03f86aab2e80ea73416dd3d704"
   }
  }
 },
 "nbformat": 4,
 "nbformat_minor": 2
}
