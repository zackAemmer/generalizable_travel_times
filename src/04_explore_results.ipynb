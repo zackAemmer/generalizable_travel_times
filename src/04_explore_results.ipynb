{
 "cells": [
  {
   "cell_type": "code",
   "execution_count": 1,
   "metadata": {},
   "outputs": [
    {
     "data": {
      "text/plain": [
       "<module 'models.time_table_model' from '/Users/zack/Desktop/valle/src/models/time_table_model.py'>"
      ]
     },
     "execution_count": 1,
     "metadata": {},
     "output_type": "execute_result"
    }
   ],
   "source": [
    "import itertools\n",
    "import json\n",
    "import os\n",
    "from random import sample\n",
    "\n",
    "import contextily as cx\n",
    "import matplotlib.pyplot as plt\n",
    "import numpy as np\n",
    "import pandas as pd\n",
    "import pickle\n",
    "import seaborn as sns\n",
    "from sklearn import metrics\n",
    "from sklearn.ensemble import GradientBoostingRegressor\n",
    "from sklearn.model_selection import train_test_split\n",
    "\n",
    "from database import data_utils\n",
    "from models import time_table_model\n",
    "\n",
    "import importlib\n",
    "importlib.reload(time_table_model)"
   ]
  },
  {
   "cell_type": "code",
   "execution_count": null,
   "metadata": {},
   "outputs": [],
   "source": [
    "# Read in DeepTTE results\n",
    "kcm_deeptte_preds = pd.read_csv(\"../results/kcm2weeks/deeptte.res\", delimiter=\" \", header=None)\n",
    "kcm_deeptte_preds.columns = [\"label\", \"pred\"]\n",
    "\n",
    "nwy_deeptte_preds = pd.read_csv(\"../results/nwy2weeks/deeptte.res\", delimiter=\" \", header=None)\n",
    "nwy_deeptte_preds.columns = [\"label\", \"pred\"]"
   ]
  },
  {
   "cell_type": "code",
   "execution_count": null,
   "metadata": {},
   "outputs": [],
   "source": [
    "# Read in config file\n",
    "with open(\"../results/kcm2weeks/data/config.json\") as f:\n",
    "    nwy_config = json.load(f)\n",
    "\n",
    "with open(\"../results/nwy2weeks/data/config.json\") as f:\n",
    "    nwy_config = json.load(f)"
   ]
  },
  {
   "cell_type": "code",
   "execution_count": null,
   "metadata": {},
   "outputs": [],
   "source": [
    "# Read in test data\n",
    "nwy_contents = open(\"../results/kcm2weeks/data/test\", \"r\").read()\n",
    "kcm_test_data = [json.loads(str(item)) for item in kcm_contents.strip().split('\\n')]\n",
    "\n",
    "nwy_contents = open(\"../results/nwy2weeks/data/test\", \"r\").read()\n",
    "nwy_test_data = [json.loads(str(item)) for item in nwy_contents.strip().split('\\n')]"
   ]
  },
  {
   "cell_type": "code",
   "execution_count": null,
   "metadata": {},
   "outputs": [],
   "source": [
    "# Read in train data\n",
    "kcm_train_data = []\n",
    "for i in range(0,5):\n",
    "    kcm_contents = open(\"../results/kcm2weeks/data/train_0\"+str(i), \"r\").read()\n",
    "    kcm_train_data.append([json.loads(str(item)) for item in kcm_contents.strip().split('\\n')])\n",
    "kcm_train_data = list(itertools.chain.from_iterable(kcm_train_data))\n",
    "\n",
    "nwy_train_data = []\n",
    "for i in range(0,5):\n",
    "    nwy_contents = open(\"../results/nwy2weeks/data/train_0\"+str(i), \"r\").read()\n",
    "    nwy_train_data.append([json.loads(str(item)) for item in nwy_contents.strip().split('\\n')])\n",
    "nwy_train_data = list(itertools.chain.from_iterable(nwy_train_data))"
   ]
  },
  {
   "cell_type": "code",
   "execution_count": null,
   "metadata": {},
   "outputs": [],
   "source": [
    "# Calculate average speed grouped by time of day\n",
    "dists = [x['dist'] for x in nwy_train_data]\n",
    "times = [x['time'] for x in nwy_train_data]\n",
    "hours = [x['timeID'] // 60 for x in nwy_train_data]\n",
    "speeds = [dists[i] / times[i] for i in range(0,len(dists))] # km/s\n",
    "nwy_avg_speeds = pd.DataFrame({\"hour\":hours, \"speed\":speeds}).groupby(\"hour\").mean().to_dict()\n",
    "# Predict travel time based on historical average speeds\n",
    "hours = [x['timeID'] // 60 for x in nwy_test_data]\n",
    "dists = [x['dist'] for x in nwy_test_data]\n",
    "speeds = [nwy_avg_speeds['speed'][x] for x in hours]\n",
    "nwy_avg_preds = [dists[i] / speeds[i] for i in range(0,len(dists))]\n",
    "\n",
    "# Calculate average speed grouped by time of day\n",
    "dists = [x['dist'] for x in kcm_train_data]\n",
    "times = [x['time'] for x in kcm_train_data]\n",
    "hours = [x['timeID'] // 60 for x in kcm_train_data]\n",
    "speeds = [dists[i] / times[i] for i in range(0,len(dists))] # km/s\n",
    "kcm_avg_speeds = pd.DataFrame({\"hour\":hours, \"speed\":speeds}).groupby(\"hour\").mean().to_dict()\n",
    "# Predict travel time based on historical average speeds\n",
    "hours = [x['timeID'] // 60 for x in kcm_test_data]\n",
    "dists = [x['dist'] for x in kcm_test_data]\n",
    "speeds = [kcm_avg_speeds['speed'][x] for x in hours]\n",
    "kcm_avg_preds = [dists[i] / speeds[i] for i in range(0,len(dists))]"
   ]
  },
  {
   "cell_type": "code",
   "execution_count": null,
   "metadata": {},
   "outputs": [],
   "source": [
    "# Resample GPS points to fixed number\n",
    "nwy_train_data_resample = data_utils.resample_deeptte_gps(nwy_train_data, 128)\n",
    "nwy_test_data_resample = data_utils.resample_deeptte_gps(nwy_test_data, 128)\n",
    "\n",
    "kcm_train_data_resample = data_utils.resample_deeptte_gps(kcm_train_data, 128)\n",
    "kcm_test_data_resample = data_utils.resample_deeptte_gps(kcm_test_data, 128)"
   ]
  },
  {
   "cell_type": "code",
   "execution_count": null,
   "metadata": {},
   "outputs": [],
   "source": [
    "# Reshape the resampled GPS data to a 2d np array for train/testing additional models\n",
    "X_train_nwy, y_train_nwy = data_utils.format_deeptte_to_features(nwy_train_data, nwy_train_data_resample)\n",
    "X_test_nwy, y_test_nwy = data_utils.format_deeptte_to_features(nwy_test_data, nwy_test_data_resample)\n",
    "\n",
    "X_train_kcm, y_train_kcm = data_utils.format_deeptte_to_features(kcm_train_data, kcm_train_data_resample)\n",
    "X_test_kcm, y_test_kcm = data_utils.format_deeptte_to_features(kcm_test_data, kcm_test_data_resample)"
   ]
  },
  {
   "cell_type": "code",
   "execution_count": null,
   "metadata": {},
   "outputs": [],
   "source": [
    "# Train GBDT on training data, make preds on test data\n",
    "nwy_reg = GradientBoostingRegressor(random_state=0)\n",
    "nwy_reg.fit(X_train_nwy, y_train_nwy)\n",
    "GradientBoostingRegressor(random_state=0)\n",
    "nwy_gbdt_preds = nwy_reg.predict(X_test_nwy)\n",
    "\n",
    "kcm_reg = GradientBoostingRegressor(random_state=0)\n",
    "kcm_reg.fit(X_train_kcm, y_train_kcm)\n",
    "GradientBoostingRegressor(random_state=0)\n",
    "kcm_gbdt_preds = kcm_reg.predict(X_test_kcm)"
   ]
  },
  {
   "cell_type": "code",
   "execution_count": 11,
   "metadata": {},
   "outputs": [
    {
     "name": "stderr",
     "output_type": "stream",
     "text": [
      "/Users/zack/Desktop/valle/src/models/time_table_model.py:74: DtypeWarning: Columns (5) have mixed types. Specify dtype option on import or set low_memory=False.\n",
      "  st = pd.read_csv(self.gtfs_folder+\"stop_times.txt\")\n",
      "/Users/zack/Desktop/valle/src/models/time_table_model.py:76: DtypeWarning: Columns (10) have mixed types. Specify dtype option on import or set low_memory=False.\n",
      "  sl = pd.read_csv(self.gtfs_folder+\"stops.txt\")\n"
     ]
    },
    {
     "ename": "AttributeError",
     "evalue": "'TimeTableModel' object has no attribute 'predict'",
     "output_type": "error",
     "traceback": [
      "\u001b[0;31m---------------------------------------------------------------------------\u001b[0m",
      "\u001b[0;31mAttributeError\u001b[0m                            Traceback (most recent call last)",
      "Cell \u001b[0;32mIn[11], line 5\u001b[0m\n\u001b[1;32m      3\u001b[0m     nwy_test_traces \u001b[39m=\u001b[39m pickle\u001b[39m.\u001b[39mload(f)\n\u001b[1;32m      4\u001b[0m nwy_sch \u001b[39m=\u001b[39m time_table_model\u001b[39m.\u001b[39mTimeTableModel(\u001b[39m\"\u001b[39m\u001b[39m../data/nwy_gtfs/2weeks/\u001b[39m\u001b[39m\"\u001b[39m, \u001b[39m\"\u001b[39m\u001b[39mEurope/Oslo\u001b[39m\u001b[39m\"\u001b[39m)\n\u001b[0;32m----> 5\u001b[0m nwy_sch_preds, nwy_sch_labels \u001b[39m=\u001b[39m nwy_sch\u001b[39m.\u001b[39;49mpredict(nwy_test_traces)\n\u001b[1;32m      7\u001b[0m \u001b[39m# with open('../results/kcm2weeks/data/test_traces.pkl', 'rb') as f:\u001b[39;00m\n\u001b[1;32m      8\u001b[0m \u001b[39m#     kcm_test_traces = pickle.load(f)\u001b[39;00m\n\u001b[1;32m      9\u001b[0m \u001b[39m# kcm_sch = time_table_model.TimeTableModel(\"../data/kcm_gtfs/\", \"America/Los_Angeles\")\u001b[39;00m\n\u001b[1;32m     10\u001b[0m \u001b[39m# kcm_sch_preds, kcm_sch_labels = kcm_sch.predict_using_schedule_only(kcm_test_traces)\u001b[39;00m\n",
      "\u001b[0;31mAttributeError\u001b[0m: 'TimeTableModel' object has no attribute 'predict'"
     ]
    }
   ],
   "source": [
    "# Use schedule model to make preds on test data\n",
    "with open('../results/nwy2weeks/data/test_traces.pkl', 'rb') as f:\n",
    "    nwy_test_traces = pickle.load(f)\n",
    "nwy_sch = time_table_model.TimeTableModel(\"../data/nwy_gtfs/2weeks/\", \"Europe/Oslo\")\n",
    "nwy_sch_preds, nwy_sch_labels = nwy_sch.predict_using_schedule_only(nwy_test_traces)\n",
    "\n",
    "# with open('../results/kcm2weeks/data/test_traces.pkl', 'rb') as f:\n",
    "#     kcm_test_traces = pickle.load(f)\n",
    "# kcm_sch = time_table_model.TimeTableModel(\"../data/kcm_gtfs/\", \"America/Los_Angeles\")\n",
    "# kcm_sch_preds, kcm_sch_labels = kcm_sch.predict_using_schedule_only(kcm_test_traces)"
   ]
  },
  {
   "cell_type": "code",
   "execution_count": 25,
   "metadata": {},
   "outputs": [
    {
     "data": {
      "text/html": [
       "<div>\n",
       "<style scoped>\n",
       "    .dataframe tbody tr th:only-of-type {\n",
       "        vertical-align: middle;\n",
       "    }\n",
       "\n",
       "    .dataframe tbody tr th {\n",
       "        vertical-align: top;\n",
       "    }\n",
       "\n",
       "    .dataframe thead th {\n",
       "        text-align: right;\n",
       "    }\n",
       "</style>\n",
       "<table border=\"1\" class=\"dataframe\">\n",
       "  <thead>\n",
       "    <tr style=\"text-align: right;\">\n",
       "      <th></th>\n",
       "      <th>datedvehiclejourney</th>\n",
       "      <th>dataframe</th>\n",
       "      <th>vehicle</th>\n",
       "      <th>mode</th>\n",
       "      <th>line</th>\n",
       "      <th>linename</th>\n",
       "      <th>direction</th>\n",
       "      <th>operator</th>\n",
       "      <th>datasource</th>\n",
       "      <th>lat</th>\n",
       "      <th>...</th>\n",
       "      <th>dist_calc</th>\n",
       "      <th>speed_m_s</th>\n",
       "      <th>dist_calc_km</th>\n",
       "      <th>time_cumulative</th>\n",
       "      <th>dist_cumulative</th>\n",
       "      <th>datetime</th>\n",
       "      <th>dateID</th>\n",
       "      <th>weekID</th>\n",
       "      <th>timeID</th>\n",
       "      <th>actual_time_from_midnight</th>\n",
       "    </tr>\n",
       "  </thead>\n",
       "  <tbody>\n",
       "    <tr>\n",
       "      <th>75978</th>\n",
       "      <td>624-100001-170-2246-20220915-5852266</td>\n",
       "      <td>2022-09-15</td>\n",
       "      <td>1703</td>\n",
       "      <td>bus</td>\n",
       "      <td>ATB:Line:1600010</td>\n",
       "      <td>10</td>\n",
       "      <td>Outbound</td>\n",
       "      <td>160</td>\n",
       "      <td>ATB</td>\n",
       "      <td>63.3953888</td>\n",
       "      <td>...</td>\n",
       "      <td>23.589686</td>\n",
       "      <td>1.123318</td>\n",
       "      <td>0.023590</td>\n",
       "      <td>0.0</td>\n",
       "      <td>0.000000</td>\n",
       "      <td>2022-09-15 07:00:19+02:00</td>\n",
       "      <td>15</td>\n",
       "      <td>3</td>\n",
       "      <td>420</td>\n",
       "      <td>25219</td>\n",
       "    </tr>\n",
       "    <tr>\n",
       "      <th>75979</th>\n",
       "      <td>624-100001-170-2246-20220915-5852266</td>\n",
       "      <td>2022-09-15</td>\n",
       "      <td>1703</td>\n",
       "      <td>bus</td>\n",
       "      <td>ATB:Line:1600010</td>\n",
       "      <td>10</td>\n",
       "      <td>Outbound</td>\n",
       "      <td>160</td>\n",
       "      <td>ATB</td>\n",
       "      <td>63.3974473</td>\n",
       "      <td>...</td>\n",
       "      <td>260.169892</td>\n",
       "      <td>8.392577</td>\n",
       "      <td>0.260170</td>\n",
       "      <td>31.0</td>\n",
       "      <td>0.260170</td>\n",
       "      <td>2022-09-15 07:00:50+02:00</td>\n",
       "      <td>15</td>\n",
       "      <td>3</td>\n",
       "      <td>420</td>\n",
       "      <td>25250</td>\n",
       "    </tr>\n",
       "    <tr>\n",
       "      <th>75980</th>\n",
       "      <td>624-100001-170-2246-20220915-5852266</td>\n",
       "      <td>2022-09-15</td>\n",
       "      <td>1703</td>\n",
       "      <td>bus</td>\n",
       "      <td>ATB:Line:1600010</td>\n",
       "      <td>10</td>\n",
       "      <td>Outbound</td>\n",
       "      <td>160</td>\n",
       "      <td>ATB</td>\n",
       "      <td>63.3987772</td>\n",
       "      <td>...</td>\n",
       "      <td>154.484363</td>\n",
       "      <td>7.724218</td>\n",
       "      <td>0.154484</td>\n",
       "      <td>51.0</td>\n",
       "      <td>0.414654</td>\n",
       "      <td>2022-09-15 07:01:10+02:00</td>\n",
       "      <td>15</td>\n",
       "      <td>3</td>\n",
       "      <td>421</td>\n",
       "      <td>25270</td>\n",
       "    </tr>\n",
       "    <tr>\n",
       "      <th>75981</th>\n",
       "      <td>624-100001-170-2246-20220915-5852266</td>\n",
       "      <td>2022-09-15</td>\n",
       "      <td>1703</td>\n",
       "      <td>bus</td>\n",
       "      <td>ATB:Line:1600010</td>\n",
       "      <td>10</td>\n",
       "      <td>Outbound</td>\n",
       "      <td>160</td>\n",
       "      <td>ATB</td>\n",
       "      <td>63.4001098</td>\n",
       "      <td>...</td>\n",
       "      <td>162.393484</td>\n",
       "      <td>8.119674</td>\n",
       "      <td>0.162393</td>\n",
       "      <td>71.0</td>\n",
       "      <td>0.577048</td>\n",
       "      <td>2022-09-15 07:01:30+02:00</td>\n",
       "      <td>15</td>\n",
       "      <td>3</td>\n",
       "      <td>421</td>\n",
       "      <td>25290</td>\n",
       "    </tr>\n",
       "    <tr>\n",
       "      <th>75982</th>\n",
       "      <td>624-100001-170-2246-20220915-5852266</td>\n",
       "      <td>2022-09-15</td>\n",
       "      <td>1703</td>\n",
       "      <td>bus</td>\n",
       "      <td>ATB:Line:1600010</td>\n",
       "      <td>10</td>\n",
       "      <td>Outbound</td>\n",
       "      <td>160</td>\n",
       "      <td>ATB</td>\n",
       "      <td>63.4018095</td>\n",
       "      <td>...</td>\n",
       "      <td>214.246767</td>\n",
       "      <td>10.202227</td>\n",
       "      <td>0.214247</td>\n",
       "      <td>92.0</td>\n",
       "      <td>0.791295</td>\n",
       "      <td>2022-09-15 07:01:51+02:00</td>\n",
       "      <td>15</td>\n",
       "      <td>3</td>\n",
       "      <td>421</td>\n",
       "      <td>25311</td>\n",
       "    </tr>\n",
       "  </tbody>\n",
       "</table>\n",
       "<p>5 rows × 29 columns</p>\n",
       "</div>"
      ],
      "text/plain": [
       "                        datedvehiclejourney   dataframe vehicle mode  \\\n",
       "75978  624-100001-170-2246-20220915-5852266  2022-09-15    1703  bus   \n",
       "75979  624-100001-170-2246-20220915-5852266  2022-09-15    1703  bus   \n",
       "75980  624-100001-170-2246-20220915-5852266  2022-09-15    1703  bus   \n",
       "75981  624-100001-170-2246-20220915-5852266  2022-09-15    1703  bus   \n",
       "75982  624-100001-170-2246-20220915-5852266  2022-09-15    1703  bus   \n",
       "\n",
       "                   line linename direction operator datasource         lat  \\\n",
       "75978  ATB:Line:1600010       10  Outbound      160        ATB  63.3953888   \n",
       "75979  ATB:Line:1600010       10  Outbound      160        ATB  63.3974473   \n",
       "75980  ATB:Line:1600010       10  Outbound      160        ATB  63.3987772   \n",
       "75981  ATB:Line:1600010       10  Outbound      160        ATB  63.4001098   \n",
       "75982  ATB:Line:1600010       10  Outbound      160        ATB  63.4018095   \n",
       "\n",
       "       ...   dist_calc  speed_m_s dist_calc_km time_cumulative  \\\n",
       "75978  ...   23.589686   1.123318     0.023590             0.0   \n",
       "75979  ...  260.169892   8.392577     0.260170            31.0   \n",
       "75980  ...  154.484363   7.724218     0.154484            51.0   \n",
       "75981  ...  162.393484   8.119674     0.162393            71.0   \n",
       "75982  ...  214.246767  10.202227     0.214247            92.0   \n",
       "\n",
       "       dist_cumulative                  datetime dateID  weekID  timeID  \\\n",
       "75978         0.000000 2022-09-15 07:00:19+02:00     15       3     420   \n",
       "75979         0.260170 2022-09-15 07:00:50+02:00     15       3     420   \n",
       "75980         0.414654 2022-09-15 07:01:10+02:00     15       3     421   \n",
       "75981         0.577048 2022-09-15 07:01:30+02:00     15       3     421   \n",
       "75982         0.791295 2022-09-15 07:01:51+02:00     15       3     421   \n",
       "\n",
       "       actual_time_from_midnight  \n",
       "75978                      25219  \n",
       "75979                      25250  \n",
       "75980                      25270  \n",
       "75981                      25290  \n",
       "75982                      25311  \n",
       "\n",
       "[5 rows x 29 columns]"
      ]
     },
     "execution_count": 25,
     "metadata": {},
     "output_type": "execute_result"
    }
   ],
   "source": [
    "nwy_test_traces.head()"
   ]
  },
  {
   "cell_type": "code",
   "execution_count": 5,
   "metadata": {},
   "outputs": [
    {
     "ename": "NameError",
     "evalue": "name 'nwy_deeptte_preds' is not defined",
     "output_type": "error",
     "traceback": [
      "\u001b[0;31m---------------------------------------------------------------------------\u001b[0m",
      "\u001b[0;31mNameError\u001b[0m                                 Traceback (most recent call last)",
      "Cell \u001b[0;32mIn[5], line 5\u001b[0m\n\u001b[1;32m      1\u001b[0m \u001b[39m# Compare different methods for predicting travel times of the test data\u001b[39;00m\n\u001b[1;32m      2\u001b[0m model_performances \u001b[39m=\u001b[39m {\n\u001b[1;32m      3\u001b[0m     \u001b[39m\"\u001b[39m\u001b[39mMAPE\u001b[39m\u001b[39m\"\u001b[39m: {\n\u001b[1;32m      4\u001b[0m         \u001b[39m\"\u001b[39m\u001b[39mTrondheim\u001b[39m\u001b[39m\"\u001b[39m: {\n\u001b[0;32m----> 5\u001b[0m             \u001b[39m\"\u001b[39m\u001b[39mDeepTTE\u001b[39m\u001b[39m\"\u001b[39m: metrics\u001b[39m.\u001b[39mmean_absolute_percentage_error(nwy_deeptte_preds\u001b[39m.\u001b[39mlabel, nwy_deeptte_preds\u001b[39m.\u001b[39mpred),\n\u001b[1;32m      6\u001b[0m             \u001b[39m\"\u001b[39m\u001b[39mGBDT\u001b[39m\u001b[39m\"\u001b[39m: metrics\u001b[39m.\u001b[39mmean_absolute_percentage_error(nwy_gbdt_preds, [x[\u001b[39m'\u001b[39m\u001b[39mtime\u001b[39m\u001b[39m'\u001b[39m] \u001b[39mfor\u001b[39;00m x \u001b[39min\u001b[39;00m nwy_test_data]),\n\u001b[1;32m      7\u001b[0m             \u001b[39m\"\u001b[39m\u001b[39mAVG\u001b[39m\u001b[39m\"\u001b[39m: metrics\u001b[39m.\u001b[39mmean_absolute_percentage_error(nwy_avg_preds, [x[\u001b[39m'\u001b[39m\u001b[39mtime\u001b[39m\u001b[39m'\u001b[39m] \u001b[39mfor\u001b[39;00m x \u001b[39min\u001b[39;00m nwy_test_data]),\n\u001b[1;32m      8\u001b[0m             \u001b[39m\"\u001b[39m\u001b[39mSCH\u001b[39m\u001b[39m\"\u001b[39m: metrics\u001b[39m.\u001b[39mmean_absolute_percentage_error(nwy_sch_preds, nwy_sch_labels)\n\u001b[1;32m      9\u001b[0m         },\n\u001b[1;32m     10\u001b[0m         \u001b[39m\"\u001b[39m\u001b[39mSeattle\u001b[39m\u001b[39m\"\u001b[39m: {\n\u001b[1;32m     11\u001b[0m             \u001b[39m\"\u001b[39m\u001b[39mDeepTTE\u001b[39m\u001b[39m\"\u001b[39m: metrics\u001b[39m.\u001b[39mmean_absolute_percentage_error(kcm_deeptte_preds\u001b[39m.\u001b[39mlabel, kcm_deeptte_preds\u001b[39m.\u001b[39mpred),\n\u001b[1;32m     12\u001b[0m             \u001b[39m\"\u001b[39m\u001b[39mGBDT\u001b[39m\u001b[39m\"\u001b[39m: metrics\u001b[39m.\u001b[39mmean_absolute_percentage_error(kcm_gbdt_preds, [x[\u001b[39m'\u001b[39m\u001b[39mtime\u001b[39m\u001b[39m'\u001b[39m] \u001b[39mfor\u001b[39;00m x \u001b[39min\u001b[39;00m kcm_test_data]),\n\u001b[1;32m     13\u001b[0m             \u001b[39m\"\u001b[39m\u001b[39mAVG\u001b[39m\u001b[39m\"\u001b[39m: metrics\u001b[39m.\u001b[39mmean_absolute_percentage_error(kcm_avg_preds, [x[\u001b[39m'\u001b[39m\u001b[39mtime\u001b[39m\u001b[39m'\u001b[39m] \u001b[39mfor\u001b[39;00m x \u001b[39min\u001b[39;00m kcm_test_data]),\n\u001b[1;32m     14\u001b[0m             \u001b[39m\"\u001b[39m\u001b[39mSCH\u001b[39m\u001b[39m\"\u001b[39m: metrics\u001b[39m.\u001b[39mmean_absolute_percentage_error(kcm_sch_preds, kcm_sch_labels)\n\u001b[1;32m     15\u001b[0m         }\n\u001b[1;32m     16\u001b[0m     },\n\u001b[1;32m     17\u001b[0m     \u001b[39m\"\u001b[39m\u001b[39mRMSE\u001b[39m\u001b[39m\"\u001b[39m: {\n\u001b[1;32m     18\u001b[0m         \u001b[39m\"\u001b[39m\u001b[39mTrondheim\u001b[39m\u001b[39m\"\u001b[39m: {\n\u001b[1;32m     19\u001b[0m             \u001b[39m\"\u001b[39m\u001b[39mDeepTTE\u001b[39m\u001b[39m\"\u001b[39m: np\u001b[39m.\u001b[39msqrt(metrics\u001b[39m.\u001b[39mmean_squared_error(nwy_deeptte_preds\u001b[39m.\u001b[39mlabel, nwy_deeptte_preds\u001b[39m.\u001b[39mpred)),\n\u001b[1;32m     20\u001b[0m             \u001b[39m\"\u001b[39m\u001b[39mGBDT\u001b[39m\u001b[39m\"\u001b[39m: np\u001b[39m.\u001b[39msqrt(metrics\u001b[39m.\u001b[39mmean_squared_error(nwy_gbdt_preds, [x[\u001b[39m'\u001b[39m\u001b[39mtime\u001b[39m\u001b[39m'\u001b[39m] \u001b[39mfor\u001b[39;00m x \u001b[39min\u001b[39;00m nwy_test_data])),\n\u001b[1;32m     21\u001b[0m             \u001b[39m\"\u001b[39m\u001b[39mAVG\u001b[39m\u001b[39m\"\u001b[39m: np\u001b[39m.\u001b[39msqrt(metrics\u001b[39m.\u001b[39mmean_squared_error(nwy_avg_preds, [x[\u001b[39m'\u001b[39m\u001b[39mtime\u001b[39m\u001b[39m'\u001b[39m] \u001b[39mfor\u001b[39;00m x \u001b[39min\u001b[39;00m nwy_test_data])),\n\u001b[1;32m     22\u001b[0m             \u001b[39m\"\u001b[39m\u001b[39mSCH\u001b[39m\u001b[39m\"\u001b[39m: np\u001b[39m.\u001b[39msqrt(metrics\u001b[39m.\u001b[39mmean_squared_error(nwy_sch_preds, nwy_sch_labels)),\n\u001b[1;32m     23\u001b[0m         },\n\u001b[1;32m     24\u001b[0m         \u001b[39m\"\u001b[39m\u001b[39mSeattle\u001b[39m\u001b[39m\"\u001b[39m: {\n\u001b[1;32m     25\u001b[0m             \u001b[39m\"\u001b[39m\u001b[39mDeepTTE\u001b[39m\u001b[39m\"\u001b[39m: np\u001b[39m.\u001b[39msqrt(metrics\u001b[39m.\u001b[39mmean_squared_error(kcm_deeptte_preds\u001b[39m.\u001b[39mlabel, kcm_deeptte_preds\u001b[39m.\u001b[39mpred)),\n\u001b[1;32m     26\u001b[0m             \u001b[39m\"\u001b[39m\u001b[39mGBDT\u001b[39m\u001b[39m\"\u001b[39m: np\u001b[39m.\u001b[39msqrt(metrics\u001b[39m.\u001b[39mmean_squared_error(kcm_gbdt_preds, [x[\u001b[39m'\u001b[39m\u001b[39mtime\u001b[39m\u001b[39m'\u001b[39m] \u001b[39mfor\u001b[39;00m x \u001b[39min\u001b[39;00m kcm_test_data])),\n\u001b[1;32m     27\u001b[0m             \u001b[39m\"\u001b[39m\u001b[39mAVG\u001b[39m\u001b[39m\"\u001b[39m: np\u001b[39m.\u001b[39msqrt(metrics\u001b[39m.\u001b[39mmean_squared_error(kcm_avg_preds, [x[\u001b[39m'\u001b[39m\u001b[39mtime\u001b[39m\u001b[39m'\u001b[39m] \u001b[39mfor\u001b[39;00m x \u001b[39min\u001b[39;00m kcm_test_data])),\n\u001b[1;32m     28\u001b[0m             \u001b[39m\"\u001b[39m\u001b[39mSCH\u001b[39m\u001b[39m\"\u001b[39m: np\u001b[39m.\u001b[39msqrt(metrics\u001b[39m.\u001b[39mmean_squared_error(kcm_sch_preds, kcm_sch_labels)),\n\u001b[1;32m     29\u001b[0m         }\n\u001b[1;32m     30\u001b[0m     },\n\u001b[1;32m     31\u001b[0m     \u001b[39m\"\u001b[39m\u001b[39mMAE\u001b[39m\u001b[39m\"\u001b[39m: {\n\u001b[1;32m     32\u001b[0m         \u001b[39m\"\u001b[39m\u001b[39mTrondheim\u001b[39m\u001b[39m\"\u001b[39m: {\n\u001b[1;32m     33\u001b[0m             \u001b[39m\"\u001b[39m\u001b[39mDeepTTE\u001b[39m\u001b[39m\"\u001b[39m: metrics\u001b[39m.\u001b[39mmean_absolute_error(nwy_deeptte_preds\u001b[39m.\u001b[39mlabel, nwy_deeptte_preds\u001b[39m.\u001b[39mpred),\n\u001b[1;32m     34\u001b[0m             \u001b[39m\"\u001b[39m\u001b[39mGBDT\u001b[39m\u001b[39m\"\u001b[39m: metrics\u001b[39m.\u001b[39mmean_absolute_error(nwy_gbdt_preds, [x[\u001b[39m'\u001b[39m\u001b[39mtime\u001b[39m\u001b[39m'\u001b[39m] \u001b[39mfor\u001b[39;00m x \u001b[39min\u001b[39;00m nwy_test_data]),\n\u001b[1;32m     35\u001b[0m             \u001b[39m\"\u001b[39m\u001b[39mAVG\u001b[39m\u001b[39m\"\u001b[39m: metrics\u001b[39m.\u001b[39mmean_absolute_error(nwy_avg_preds, [x[\u001b[39m'\u001b[39m\u001b[39mtime\u001b[39m\u001b[39m'\u001b[39m] \u001b[39mfor\u001b[39;00m x \u001b[39min\u001b[39;00m nwy_test_data]),\n\u001b[1;32m     36\u001b[0m             \u001b[39m\"\u001b[39m\u001b[39mSCH\u001b[39m\u001b[39m\"\u001b[39m: metrics\u001b[39m.\u001b[39mmean_absolute_error(nwy_sch_preds, nwy_sch_labels)\n\u001b[1;32m     37\u001b[0m         },\n\u001b[1;32m     38\u001b[0m         \u001b[39m\"\u001b[39m\u001b[39mSeattle\u001b[39m\u001b[39m\"\u001b[39m: {\n\u001b[1;32m     39\u001b[0m             \u001b[39m\"\u001b[39m\u001b[39mDeepTTE\u001b[39m\u001b[39m\"\u001b[39m: metrics\u001b[39m.\u001b[39mmean_absolute_error(kcm_deeptte_preds\u001b[39m.\u001b[39mlabel, kcm_deeptte_preds\u001b[39m.\u001b[39mpred),\n\u001b[1;32m     40\u001b[0m             \u001b[39m\"\u001b[39m\u001b[39mGBDT\u001b[39m\u001b[39m\"\u001b[39m: metrics\u001b[39m.\u001b[39mmean_absolute_error(kcm_gbdt_preds, [x[\u001b[39m'\u001b[39m\u001b[39mtime\u001b[39m\u001b[39m'\u001b[39m] \u001b[39mfor\u001b[39;00m x \u001b[39min\u001b[39;00m kcm_test_data]),\n\u001b[1;32m     41\u001b[0m             \u001b[39m\"\u001b[39m\u001b[39mAVG\u001b[39m\u001b[39m\"\u001b[39m: metrics\u001b[39m.\u001b[39mmean_absolute_error(kcm_avg_preds, [x[\u001b[39m'\u001b[39m\u001b[39mtime\u001b[39m\u001b[39m'\u001b[39m] \u001b[39mfor\u001b[39;00m x \u001b[39min\u001b[39;00m kcm_test_data]),\n\u001b[1;32m     42\u001b[0m             \u001b[39m\"\u001b[39m\u001b[39mSCH\u001b[39m\u001b[39m\"\u001b[39m: metrics\u001b[39m.\u001b[39mmean_absolute_error(kcm_sch_preds, kcm_sch_labels)\n\u001b[1;32m     43\u001b[0m         }\n\u001b[1;32m     44\u001b[0m     }\n\u001b[1;32m     45\u001b[0m }\n\u001b[1;32m     46\u001b[0m model_performances_df \u001b[39m=\u001b[39m []\n\u001b[1;32m     47\u001b[0m \u001b[39mfor\u001b[39;00m metric \u001b[39min\u001b[39;00m model_performances\u001b[39m.\u001b[39mkeys():\n",
      "\u001b[0;31mNameError\u001b[0m: name 'nwy_deeptte_preds' is not defined"
     ]
    }
   ],
   "source": [
    "# Compare different methods for predicting travel times of the test data\n",
    "model_performances = {\n",
    "    \"MAPE\": {\n",
    "        \"Trondheim\": {\n",
    "            \"DeepTTE\": metrics.mean_absolute_percentage_error(nwy_deeptte_preds.label, nwy_deeptte_preds.pred),\n",
    "            \"GBDT\": metrics.mean_absolute_percentage_error(nwy_gbdt_preds, [x['time'] for x in nwy_test_data]),\n",
    "            \"AVG\": metrics.mean_absolute_percentage_error(nwy_avg_preds, [x['time'] for x in nwy_test_data]),\n",
    "            \"SCH\": metrics.mean_absolute_percentage_error(nwy_sch_preds, nwy_sch_labels)\n",
    "        },\n",
    "        \"Seattle\": {\n",
    "            \"DeepTTE\": metrics.mean_absolute_percentage_error(kcm_deeptte_preds.label, kcm_deeptte_preds.pred),\n",
    "            \"GBDT\": metrics.mean_absolute_percentage_error(kcm_gbdt_preds, [x['time'] for x in kcm_test_data]),\n",
    "            \"AVG\": metrics.mean_absolute_percentage_error(kcm_avg_preds, [x['time'] for x in kcm_test_data]),\n",
    "            \"SCH\": metrics.mean_absolute_percentage_error(kcm_sch_preds, kcm_sch_labels)\n",
    "        }\n",
    "    },\n",
    "    \"RMSE\": {\n",
    "        \"Trondheim\": {\n",
    "            \"DeepTTE\": np.sqrt(metrics.mean_squared_error(nwy_deeptte_preds.label, nwy_deeptte_preds.pred)),\n",
    "            \"GBDT\": np.sqrt(metrics.mean_squared_error(nwy_gbdt_preds, [x['time'] for x in nwy_test_data])),\n",
    "            \"AVG\": np.sqrt(metrics.mean_squared_error(nwy_avg_preds, [x['time'] for x in nwy_test_data])),\n",
    "            \"SCH\": np.sqrt(metrics.mean_squared_error(nwy_sch_preds, nwy_sch_labels)),\n",
    "        },\n",
    "        \"Seattle\": {\n",
    "            \"DeepTTE\": np.sqrt(metrics.mean_squared_error(kcm_deeptte_preds.label, kcm_deeptte_preds.pred)),\n",
    "            \"GBDT\": np.sqrt(metrics.mean_squared_error(kcm_gbdt_preds, [x['time'] for x in kcm_test_data])),\n",
    "            \"AVG\": np.sqrt(metrics.mean_squared_error(kcm_avg_preds, [x['time'] for x in kcm_test_data])),\n",
    "            \"SCH\": np.sqrt(metrics.mean_squared_error(kcm_sch_preds, kcm_sch_labels)),\n",
    "        }\n",
    "    },\n",
    "    \"MAE\": {\n",
    "        \"Trondheim\": {\n",
    "            \"DeepTTE\": metrics.mean_absolute_error(nwy_deeptte_preds.label, nwy_deeptte_preds.pred),\n",
    "            \"GBDT\": metrics.mean_absolute_error(nwy_gbdt_preds, [x['time'] for x in nwy_test_data]),\n",
    "            \"AVG\": metrics.mean_absolute_error(nwy_avg_preds, [x['time'] for x in nwy_test_data]),\n",
    "            \"SCH\": metrics.mean_absolute_error(nwy_sch_preds, nwy_sch_labels)\n",
    "        },\n",
    "        \"Seattle\": {\n",
    "            \"DeepTTE\": metrics.mean_absolute_error(kcm_deeptte_preds.label, kcm_deeptte_preds.pred),\n",
    "            \"GBDT\": metrics.mean_absolute_error(kcm_gbdt_preds, [x['time'] for x in kcm_test_data]),\n",
    "            \"AVG\": metrics.mean_absolute_error(kcm_avg_preds, [x['time'] for x in kcm_test_data]),\n",
    "            \"SCH\": metrics.mean_absolute_error(kcm_sch_preds, kcm_sch_labels)\n",
    "        }\n",
    "    }\n",
    "}\n",
    "model_performances_df = []\n",
    "for metric in model_performances.keys():\n",
    "    df = pd.DataFrame(model_performances[metric]).reset_index()\n",
    "    df = df.melt(id_vars=\"index\", value_vars=['Trondheim', 'Seattle'])\n",
    "    df['Metric'] = metric\n",
    "    model_performances_df.append(df)\n",
    "model_performances_df = pd.concat(model_performances_df)\n",
    "model_performances_df.columns = [\"Model\",\"City\",\"value\",\"Metric\"]\n",
    "model_performances_df"
   ]
  },
  {
   "cell_type": "code",
   "execution_count": null,
   "metadata": {},
   "outputs": [],
   "source": [
    "# Plot accuracy across all models\n",
    "fig, ax = plt.subplots(1,1)\n",
    "sns.barplot(model_performances_df[model_performances_df['Metric']=='MAPE'], x=\"Model\", y=\"value\", hue=\"City\")\n",
    "plt.savefig(\"../plots/model_performances.png\", dpi=1800, bbox_inches='tight')"
   ]
  },
  {
   "cell_type": "code",
   "execution_count": null,
   "metadata": {},
   "outputs": [],
   "source": [
    "# List of feature names for understanding importance\n",
    "feature_names = ['timeID','weekID','dateID','driverID','dist']\n",
    "feature_names = feature_names + [f\"lat_{x}\" for x in range(128)]\n",
    "feature_names = feature_names + [f\"lng_{x}\" for x in range(128)]"
   ]
  },
  {
   "cell_type": "code",
   "execution_count": null,
   "metadata": {},
   "outputs": [],
   "source": [
    "# Sort importances and names\n",
    "nwy_features_sorted = [x for _, x in sorted(zip(nwy_reg.feature_importances_, feature_names))][::-1]\n",
    "nwy_importances_sorted = [_ for _, x in sorted(zip(nwy_reg.feature_importances_, feature_names))][::-1]\n",
    "kcm_features_sorted = [x for _, x in sorted(zip(kcm_reg.feature_importances_, feature_names))][::-1]\n",
    "kcm_importances_sorted = [_ for _, x in sorted(zip(kcm_reg.feature_importances_, feature_names))][::-1]\n",
    "\n",
    "# Read out names and importances of top n\n",
    "print(nwy_features_sorted[:10])\n",
    "print(kcm_features_sorted[:10])"
   ]
  },
  {
   "cell_type": "code",
   "execution_count": null,
   "metadata": {},
   "outputs": [],
   "source": [
    "# Plot importances\n",
    "fig, ax = plt.subplots(1,1)\n",
    "plt.bar(nwy_features_sorted[:10], nwy_importances_sorted[:10])\n",
    "plt.savefig(\"../plots/nwy_gbdt_importances.png\", dpi=1800, bbox_inches='tight')"
   ]
  },
  {
   "cell_type": "code",
   "execution_count": null,
   "metadata": {},
   "outputs": [],
   "source": [
    "# Plot importances\n",
    "fig, ax = plt.subplots(1,1)\n",
    "plt.bar(kcm_features_sorted[:10], kcm_importances_sorted[:10])\n",
    "plt.savefig(\"../plots/kcm_gbdt_importances.png\", dpi=1800, bbox_inches='tight')"
   ]
  },
  {
   "cell_type": "code",
   "execution_count": null,
   "metadata": {},
   "outputs": [],
   "source": [
    "# Plot importances\n",
    "fig, ax = plt.subplots(1,1)\n",
    "plt.bar(nwy_features_sorted[1:], nwy_importances_sorted[1:])\n",
    "plt.savefig(\"../plots/nwy_gbdt_non_dist_importances.png\", dpi=1800, bbox_inches='tight')"
   ]
  },
  {
   "cell_type": "code",
   "execution_count": null,
   "metadata": {},
   "outputs": [],
   "source": [
    "# Plot importances\n",
    "fig, ax = plt.subplots(1,1)\n",
    "plt.bar(kcm_features_sorted[1:], kcm_importances_sorted[1:])\n",
    "plt.savefig(\"../plots/kcm_gbdt_non_dist_importances.png\", dpi=1800, bbox_inches='tight')"
   ]
  }
 ],
 "metadata": {
  "kernelspec": {
   "display_name": "valle",
   "language": "python",
   "name": "python3"
  },
  "language_info": {
   "codemirror_mode": {
    "name": "ipython",
    "version": 3
   },
   "file_extension": ".py",
   "mimetype": "text/x-python",
   "name": "python",
   "nbconvert_exporter": "python",
   "pygments_lexer": "ipython3",
   "version": "3.9.7"
  },
  "orig_nbformat": 4,
  "vscode": {
   "interpreter": {
    "hash": "ee7dd9afb01237dfbf26e9cc0cb1d4f149c742bc84ef8f1e9c50b404e05a47f5"
   }
  }
 },
 "nbformat": 4,
 "nbformat_minor": 2
}
