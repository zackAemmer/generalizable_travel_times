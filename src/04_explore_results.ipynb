{
 "cells": [
  {
   "cell_type": "code",
   "execution_count": null,
   "metadata": {},
   "outputs": [],
   "source": [
    "import itertools\n",
    "import json\n",
    "from math import radians, cos, sin, asin, sqrt\n",
    "import os\n",
    "from random import sample\n",
    "\n",
    "import contextily as cx\n",
    "import geopandas\n",
    "import matplotlib.pyplot as plt\n",
    "from mpl_toolkits.axes_grid1 import make_axes_locatable\n",
    "import numpy as np\n",
    "import pandas as pd\n",
    "import pickle\n",
    "import shapely.geometry\n",
    "from sklearn import metrics\n",
    "from sklearn.ensemble import GradientBoostingRegressor\n",
    "from sklearn.model_selection import train_test_split\n",
    "from zipfile import ZipFile\n",
    "\n",
    "from database import data_utils\n",
    "\n",
    "import importlib\n",
    "importlib.reload(data_utils)"
   ]
  },
  {
   "cell_type": "code",
   "execution_count": null,
   "metadata": {},
   "outputs": [],
   "source": [
    "# Read in DeepTTE results\n",
    "kcm_results = pd.read_csv(\"../results/kcm2weeks/deeptte.res\", delimiter=\" \", header=None)\n",
    "kcm_results.columns = [\"label\", \"pred\"]\n",
    "\n",
    "nwy_results = pd.read_csv(\"../results/nwy2weeks/deeptte.res\", delimiter=\" \", header=None)\n",
    "nwy_results.columns = [\"label\", \"pred\"]"
   ]
  },
  {
   "cell_type": "code",
   "execution_count": null,
   "metadata": {},
   "outputs": [],
   "source": [
    "# Read in config file\n",
    "with open(\"../results/kcm2weeks/data/config.json\") as f:\n",
    "    kcm_config = json.load(f)\n",
    "\n",
    "with open(\"../results/nwy2weeks/data/config.json\") as f:\n",
    "    nwy_config = json.load(f)"
   ]
  },
  {
   "cell_type": "code",
   "execution_count": null,
   "metadata": {},
   "outputs": [],
   "source": [
    "# Read in test data\n",
    "kcm_contents = open(\"../results/kcm2weeks/data/test\", \"r\").read()\n",
    "kcm_test_data = [json.loads(str(item)) for item in kcm_contents.strip().split('\\n')]\n",
    "\n",
    "nwy_contents = open(\"../results/nwy2weeks/data/test\", \"r\").read()\n",
    "nwy_test_data = [json.loads(str(item)) for item in nwy_contents.strip().split('\\n')]"
   ]
  },
  {
   "cell_type": "code",
   "execution_count": null,
   "metadata": {},
   "outputs": [],
   "source": [
    "# Read in train data\n",
    "kcm_train_data = []\n",
    "for i in range(0,5):\n",
    "    kcm_contents = open(\"../results/kcm2weeks/data/train_0\"+str(i), \"r\").read()\n",
    "    kcm_train_data.append([json.loads(str(item)) for item in kcm_contents.strip().split('\\n')])\n",
    "kcm_train_data = list(itertools.chain.from_iterable(kcm_train_data))\n",
    "\n",
    "nwy_train_data = []\n",
    "for i in range(0,5):\n",
    "    nwy_contents = open(\"../results/nwy2weeks/data/train_0\"+str(i), \"r\").read()\n",
    "    nwy_train_data.append([json.loads(str(item)) for item in nwy_contents.strip().split('\\n')])\n",
    "nwy_train_data = list(itertools.chain.from_iterable(nwy_train_data))"
   ]
  },
  {
   "cell_type": "code",
   "execution_count": null,
   "metadata": {},
   "outputs": [],
   "source": [
    "# Calculate average speed grouped by time of day\n",
    "dists = [x['dist'] for x in nwy_train_data]\n",
    "times = [x['time'] for x in nwy_train_data]\n",
    "hours = [x['timeID'] // 60 for x in nwy_train_data]\n",
    "speeds = [dists[i] / times[i] for i in range(0,len(dists))] # km/s\n",
    "nwy_avg_speeds = pd.DataFrame({\"hour\":hours, \"speed\":speeds}).groupby(\"hour\").mean().to_dict()\n",
    "# Predict travel time based on historical average speeds\n",
    "hours = [x['timeID'] // 60 for x in nwy_test_data]\n",
    "dists = [x['dist'] for x in nwy_test_data]\n",
    "speeds = [nwy_avg_speeds['speed'][x] for x in hours]\n",
    "nwy_avg_preds = [dists[i] / speeds[i] for i in range(0,len(dists))]\n",
    "\n",
    "# Calculate average speed grouped by time of day\n",
    "dists = [x['dist'] for x in kcm_train_data]\n",
    "times = [x['time'] for x in kcm_train_data]\n",
    "hours = [x['timeID'] // 60 for x in kcm_train_data]\n",
    "speeds = [dists[i] / times[i] for i in range(0,len(dists))] # km/s\n",
    "kcm_avg_speeds = pd.DataFrame({\"hour\":hours, \"speed\":speeds}).groupby(\"hour\").mean().to_dict()\n",
    "# Predict travel time based on historical average speeds\n",
    "hours = [x['timeID'] // 60 for x in kcm_test_data]\n",
    "dists = [x['dist'] for x in kcm_test_data]\n",
    "speeds = [kcm_avg_speeds['speed'][x] for x in hours]\n",
    "kcm_avg_preds = [dists[i] / speeds[i] for i in range(0,len(dists))]"
   ]
  },
  {
   "cell_type": "code",
   "execution_count": null,
   "metadata": {},
   "outputs": [],
   "source": [
    "# Resample GPS points to fixed number\n",
    "nwy_train_data_resample = data_utils.resample_deeptte_gps(nwy_train_data, 128)\n",
    "nwy_test_data_resample = data_utils.resample_deeptte_gps(nwy_test_data, 128)\n",
    "\n",
    "kcm_train_data_resample = data_utils.resample_deeptte_gps(kcm_train_data, 128)\n",
    "kcm_test_data_resample = data_utils.resample_deeptte_gps(kcm_test_data, 128)"
   ]
  },
  {
   "cell_type": "code",
   "execution_count": null,
   "metadata": {},
   "outputs": [],
   "source": [
    "# Reshape the resampled GPS data to a 2d np array for train/testing additional models\n",
    "X_train_nwy, y_train_nwy = data_utils.format_deeptte_to_features(nwy_train_data, nwy_train_data_resample)\n",
    "X_test_nwy, y_test_nwy = data_utils.format_deeptte_to_features(nwy_test_data, nwy_test_data_resample)\n",
    "\n",
    "X_train_kcm, y_train_kcm = data_utils.format_deeptte_to_features(kcm_train_data, kcm_train_data_resample)\n",
    "X_test_kcm, y_test_kcm = data_utils.format_deeptte_to_features(kcm_test_data, kcm_test_data_resample)"
   ]
  },
  {
   "cell_type": "code",
   "execution_count": null,
   "metadata": {},
   "outputs": [],
   "source": [
    "# Train GBDT on training data, make preds on test data\n",
    "nwy_reg = GradientBoostingRegressor(random_state=0)\n",
    "nwy_reg.fit(X_train_nwy, y_train_nwy)\n",
    "GradientBoostingRegressor(random_state=0)\n",
    "nwy_gbdt_preds = nwy_reg.predict(X_test_nwy)\n",
    "\n",
    "kcm_reg = GradientBoostingRegressor(random_state=0)\n",
    "kcm_reg.fit(X_train_kcm, y_train_kcm)\n",
    "GradientBoostingRegressor(random_state=0)\n",
    "kcm_gbdt_preds = kcm_reg.predict(X_test_kcm)"
   ]
  },
  {
   "cell_type": "code",
   "execution_count": null,
   "metadata": {},
   "outputs": [],
   "source": [
    "# Compare different methods for predicting travel times of the test data\n",
    "print(\"DeepTTE\")\n",
    "print(\"-KCM-\")\n",
    "print(f\"MAPE: {metrics.mean_absolute_percentage_error(kcm_results.label, kcm_results.pred)}\")\n",
    "print(f\"RMSE: {np.sqrt(metrics.mean_squared_error(kcm_results.label, kcm_results.pred))}\")\n",
    "print(f\"MAE: {metrics.mean_absolute_error(kcm_results.label, kcm_results.pred)}\")\n",
    "print(\"-NWY-\")\n",
    "print(f\"MAPE: {metrics.mean_absolute_percentage_error(nwy_results.label, nwy_results.pred)}\")\n",
    "print(f\"RMSE: {np.sqrt(metrics.mean_squared_error(nwy_results.label, nwy_results.pred))}\")\n",
    "print(f\"MAE: {metrics.mean_absolute_error(nwy_results.label, nwy_results.pred)}\")\n",
    "print()\n",
    "print(\"Average\")\n",
    "print(\"-KCM-\")\n",
    "print(f\"MAPE: {metrics.mean_absolute_percentage_error([x['time'] for x in kcm_test_data], kcm_avg_preds)}\")\n",
    "print(f\"RMSE: {np.sqrt(metrics.mean_squared_error([x['time'] for x in kcm_test_data], kcm_avg_preds))}\")\n",
    "print(f\"MAE: {metrics.mean_absolute_error([x['time'] for x in kcm_test_data], kcm_avg_preds)}\")\n",
    "print(\"-NWY-\")\n",
    "print(f\"MAPE: {metrics.mean_absolute_percentage_error([x['time'] for x in nwy_test_data], nwy_avg_preds)}\")\n",
    "print(f\"RMSE: {np.sqrt(metrics.mean_squared_error([x['time'] for x in nwy_test_data], nwy_avg_preds))}\")\n",
    "print(f\"MAE: {metrics.mean_absolute_error([x['time'] for x in nwy_test_data], nwy_avg_preds)}\")\n",
    "print()\n",
    "print(\"GBDT\")\n",
    "print(\"-KCM-\")\n",
    "print(f\"MAPE: {metrics.mean_absolute_percentage_error([x['time'] for x in kcm_test_data], kcm_gbdt_preds)}\")\n",
    "print(f\"RMSE: {np.sqrt(metrics.mean_squared_error([x['time'] for x in kcm_test_data], kcm_gbdt_preds))}\")\n",
    "print(f\"MAE: {metrics.mean_absolute_error([x['time'] for x in kcm_test_data], kcm_gbdt_preds)}\")\n",
    "print(\"-NWY-\")\n",
    "print(f\"MAPE: {metrics.mean_absolute_percentage_error([x['time'] for x in nwy_test_data], nwy_gbdt_preds)}\")\n",
    "print(f\"RMSE: {np.sqrt(metrics.mean_squared_error([x['time'] for x in nwy_test_data], nwy_gbdt_preds))}\")\n",
    "print(f\"MAE: {metrics.mean_absolute_error([x['time'] for x in nwy_test_data], nwy_gbdt_preds)}\")\n"
   ]
  },
  {
   "cell_type": "code",
   "execution_count": null,
   "metadata": {},
   "outputs": [],
   "source": [
    "# List of feature names for understanding importance\n",
    "feature_names = ['timeID','weekID','dateID','driverID','dist']\n",
    "feature_names = feature_names + [f\"lat_{x}\" for x in range(128)]\n",
    "feature_names = feature_names + [f\"lng_{x}\" for x in range(128)]\n",
    "feature_names"
   ]
  },
  {
   "cell_type": "code",
   "execution_count": null,
   "metadata": {},
   "outputs": [],
   "source": [
    "from matplotlib import pyplot\n",
    "# plot\n",
    "pyplot.bar(range(len(nwy_reg.feature_importances_)), nwy_reg.feature_importances_)\n",
    "pyplot.show()"
   ]
  },
  {
   "cell_type": "code",
   "execution_count": null,
   "metadata": {},
   "outputs": [],
   "source": [
    "np.argmax(nwy_reg.feature_importances_)"
   ]
  },
  {
   "cell_type": "code",
   "execution_count": null,
   "metadata": {},
   "outputs": [],
   "source": [
    "X_test[:,np.argmax(nwy_reg.feature_importances_)]"
   ]
  },
  {
   "cell_type": "code",
   "execution_count": null,
   "metadata": {},
   "outputs": [],
   "source": [
    "nwy_test_data_resample"
   ]
  }
 ],
 "metadata": {
  "kernelspec": {
   "display_name": "valle",
   "language": "python",
   "name": "python3"
  },
  "language_info": {
   "codemirror_mode": {
    "name": "ipython",
    "version": 3
   },
   "file_extension": ".py",
   "mimetype": "text/x-python",
   "name": "python",
   "nbconvert_exporter": "python",
   "pygments_lexer": "ipython3",
   "version": "3.9.7"
  },
  "orig_nbformat": 4,
  "vscode": {
   "interpreter": {
    "hash": "ee7dd9afb01237dfbf26e9cc0cb1d4f149c742bc84ef8f1e9c50b404e05a47f5"
   }
  }
 },
 "nbformat": 4,
 "nbformat_minor": 2
}
