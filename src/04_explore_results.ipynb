{
 "cells": [
  {
   "cell_type": "code",
   "execution_count": 1,
   "metadata": {},
   "outputs": [
    {
     "data": {
      "text/plain": [
       "<module 'models.time_table_model' from '/Users/zack/Desktop/valle/src/models/time_table_model.py'>"
      ]
     },
     "execution_count": 1,
     "metadata": {},
     "output_type": "execute_result"
    }
   ],
   "source": [
    "import itertools\n",
    "import json\n",
    "import os\n",
    "from random import sample\n",
    "\n",
    "import contextily as cx\n",
    "import matplotlib.pyplot as plt\n",
    "import numpy as np\n",
    "import pandas as pd\n",
    "import pickle\n",
    "import seaborn as sns\n",
    "from sklearn import metrics\n",
    "from sklearn.ensemble import GradientBoostingRegressor\n",
    "from sklearn.model_selection import train_test_split\n",
    "\n",
    "from database import data_utils\n",
    "from models import time_table_model\n",
    "\n",
    "import importlib\n",
    "importlib.reload(time_table_model)"
   ]
  },
  {
   "cell_type": "code",
   "execution_count": 2,
   "metadata": {},
   "outputs": [],
   "source": [
    "# Read in DeepTTE results\n",
    "kcm_deeptte_preds = pd.read_csv(\"../results/kcm2weeks/deeptte.res\", delimiter=\" \", header=None)\n",
    "kcm_deeptte_preds.columns = [\"label\", \"pred\"]\n",
    "\n",
    "nwy_deeptte_preds = pd.read_csv(\"../results/nwy2weeks/deeptte.res\", delimiter=\" \", header=None)\n",
    "nwy_deeptte_preds.columns = [\"label\", \"pred\"]"
   ]
  },
  {
   "cell_type": "code",
   "execution_count": 3,
   "metadata": {},
   "outputs": [],
   "source": [
    "# Read in config file\n",
    "with open(\"../results/kcm2weeks/data/config.json\") as f:\n",
    "    nwy_config = json.load(f)\n",
    "\n",
    "with open(\"../results/nwy2weeks/data/config.json\") as f:\n",
    "    nwy_config = json.load(f)"
   ]
  },
  {
   "cell_type": "code",
   "execution_count": 4,
   "metadata": {},
   "outputs": [],
   "source": [
    "# Read in test data\n",
    "kcm_contents = open(\"../results/kcm2weeks/data/test\", \"r\").read()\n",
    "kcm_test_data = [json.loads(str(item)) for item in kcm_contents.strip().split('\\n')]\n",
    "\n",
    "nwy_contents = open(\"../results/nwy2weeks/data/test\", \"r\").read()\n",
    "nwy_test_data = [json.loads(str(item)) for item in nwy_contents.strip().split('\\n')]"
   ]
  },
  {
   "cell_type": "code",
   "execution_count": 5,
   "metadata": {},
   "outputs": [],
   "source": [
    "# Read in train data\n",
    "kcm_train_data = []\n",
    "for i in range(0,5):\n",
    "    kcm_contents = open(\"../results/kcm2weeks/data/train_0\"+str(i), \"r\").read()\n",
    "    kcm_train_data.append([json.loads(str(item)) for item in kcm_contents.strip().split('\\n')])\n",
    "kcm_train_data = list(itertools.chain.from_iterable(kcm_train_data))\n",
    "\n",
    "nwy_train_data = []\n",
    "for i in range(0,5):\n",
    "    nwy_contents = open(\"../results/nwy2weeks/data/train_0\"+str(i), \"r\").read()\n",
    "    nwy_train_data.append([json.loads(str(item)) for item in nwy_contents.strip().split('\\n')])\n",
    "nwy_train_data = list(itertools.chain.from_iterable(nwy_train_data))"
   ]
  },
  {
   "cell_type": "code",
   "execution_count": 6,
   "metadata": {},
   "outputs": [],
   "source": [
    "# Calculate average speed grouped by time of day\n",
    "dists = [x['dist'] for x in nwy_train_data]\n",
    "times = [x['time'] for x in nwy_train_data]\n",
    "hours = [x['timeID'] // 60 for x in nwy_train_data]\n",
    "speeds = [dists[i] / times[i] for i in range(0,len(dists))] # km/s\n",
    "nwy_avg_speeds = pd.DataFrame({\"hour\":hours, \"speed\":speeds}).groupby(\"hour\").mean().to_dict()\n",
    "# Predict travel time based on historical average speeds\n",
    "hours = [x['timeID'] // 60 for x in nwy_test_data]\n",
    "dists = [x['dist'] for x in nwy_test_data]\n",
    "speeds = [nwy_avg_speeds['speed'][x] for x in hours]\n",
    "nwy_avg_preds = [dists[i] / speeds[i] for i in range(0,len(dists))]\n",
    "\n",
    "# Calculate average speed grouped by time of day\n",
    "dists = [x['dist'] for x in kcm_train_data]\n",
    "times = [x['time'] for x in kcm_train_data]\n",
    "hours = [x['timeID'] // 60 for x in kcm_train_data]\n",
    "speeds = [dists[i] / times[i] for i in range(0,len(dists))] # km/s\n",
    "kcm_avg_speeds = pd.DataFrame({\"hour\":hours, \"speed\":speeds}).groupby(\"hour\").mean().to_dict()\n",
    "# Predict travel time based on historical average speeds\n",
    "hours = [x['timeID'] // 60 for x in kcm_test_data]\n",
    "dists = [x['dist'] for x in kcm_test_data]\n",
    "speeds = [kcm_avg_speeds['speed'][x] for x in hours]\n",
    "kcm_avg_preds = [dists[i] / speeds[i] for i in range(0,len(dists))]"
   ]
  },
  {
   "cell_type": "code",
   "execution_count": 7,
   "metadata": {},
   "outputs": [],
   "source": [
    "# Resample GPS points to fixed number\n",
    "nwy_train_data_resample = data_utils.resample_deeptte_gps(nwy_train_data, 128)\n",
    "nwy_test_data_resample = data_utils.resample_deeptte_gps(nwy_test_data, 128)\n",
    "\n",
    "kcm_train_data_resample = data_utils.resample_deeptte_gps(kcm_train_data, 128)\n",
    "kcm_test_data_resample = data_utils.resample_deeptte_gps(kcm_test_data, 128)"
   ]
  },
  {
   "cell_type": "code",
   "execution_count": 8,
   "metadata": {},
   "outputs": [],
   "source": [
    "# Reshape the resampled GPS data to a 2d np array for train/testing additional models\n",
    "X_train_nwy, y_train_nwy = data_utils.format_deeptte_to_features(nwy_train_data, nwy_train_data_resample)\n",
    "X_test_nwy, y_test_nwy = data_utils.format_deeptte_to_features(nwy_test_data, nwy_test_data_resample)\n",
    "\n",
    "X_train_kcm, y_train_kcm = data_utils.format_deeptte_to_features(kcm_train_data, kcm_train_data_resample)\n",
    "X_test_kcm, y_test_kcm = data_utils.format_deeptte_to_features(kcm_test_data, kcm_test_data_resample)"
   ]
  },
  {
   "cell_type": "code",
   "execution_count": 9,
   "metadata": {},
   "outputs": [],
   "source": [
    "# Train GBDT on training data, make preds on test data\n",
    "nwy_reg = GradientBoostingRegressor(random_state=0)\n",
    "nwy_reg.fit(X_train_nwy, y_train_nwy)\n",
    "GradientBoostingRegressor(random_state=0)\n",
    "nwy_gbdt_preds = nwy_reg.predict(X_test_nwy)\n",
    "\n",
    "kcm_reg = GradientBoostingRegressor(random_state=0)\n",
    "kcm_reg.fit(X_train_kcm, y_train_kcm)\n",
    "GradientBoostingRegressor(random_state=0)\n",
    "kcm_gbdt_preds = kcm_reg.predict(X_test_kcm)"
   ]
  },
  {
   "cell_type": "code",
   "execution_count": 10,
   "metadata": {},
   "outputs": [
    {
     "name": "stdout",
     "output_type": "stream",
     "text": [
      "NWY Lost: 0.10734474443609915\n",
      "KCM Lost: 0.0\n"
     ]
    }
   ],
   "source": [
    "# Use schedule model to make preds on test data\n",
    "with open('../results/nwy2weeks/data/test_traces.pkl', 'rb') as f:\n",
    "    nwy_test_traces = pickle.load(f)\n",
    "nwy_sch = time_table_model.TimeTableModel(\"../data/nwy_gtfs/04_11_22/\", \"Europe/Oslo\", \"datedvehiclejourney\")\n",
    "nwy_sch_preds, nwy_sch_labels, nwy_lost = nwy_sch.predict_using_schedule_only(nwy_test_traces)\n",
    "print(\"NWY Lost: \"+str(nwy_lost))\n",
    "\n",
    "with open('../results/kcm2weeks/data/test_traces.pkl', 'rb') as f:\n",
    "    kcm_test_traces = pickle.load(f)\n",
    "kcm_sch = time_table_model.TimeTableModel(\"../data/kcm_gtfs/\", \"America/Los_Angeles\", \"tripid\")\n",
    "kcm_sch_preds, kcm_sch_labels, kcm_lost = kcm_sch.predict_using_schedule_only(kcm_test_traces)\n",
    "print(\"KCM Lost: \"+str(kcm_lost))"
   ]
  },
  {
   "cell_type": "code",
   "execution_count": 11,
   "metadata": {},
   "outputs": [],
   "source": [
    "# Give the schedule model the benefit of the doubt and remove anything with an error over 15 minutes (there are some large outliers)\n",
    "nwy_residuals = nwy_sch_labels - nwy_sch_preds\n",
    "nwy_sch_labels2 = nwy_sch_labels[nwy_residuals<900]\n",
    "nwy_sch_preds2 = nwy_sch_preds[nwy_residuals<900]\n",
    "\n",
    "kcm_residuals = kcm_sch_labels - kcm_sch_preds\n",
    "kcm_sch_labels2 = kcm_sch_labels[kcm_residuals<900]\n",
    "kcm_sch_preds2 = kcm_sch_preds[kcm_residuals<900]"
   ]
  },
  {
   "cell_type": "code",
   "execution_count": 12,
   "metadata": {},
   "outputs": [
    {
     "data": {
      "text/html": [
       "<div>\n",
       "<style scoped>\n",
       "    .dataframe tbody tr th:only-of-type {\n",
       "        vertical-align: middle;\n",
       "    }\n",
       "\n",
       "    .dataframe tbody tr th {\n",
       "        vertical-align: top;\n",
       "    }\n",
       "\n",
       "    .dataframe thead th {\n",
       "        text-align: right;\n",
       "    }\n",
       "</style>\n",
       "<table border=\"1\" class=\"dataframe\">\n",
       "  <thead>\n",
       "    <tr style=\"text-align: right;\">\n",
       "      <th></th>\n",
       "      <th>Model</th>\n",
       "      <th>City</th>\n",
       "      <th>value</th>\n",
       "      <th>Metric</th>\n",
       "    </tr>\n",
       "  </thead>\n",
       "  <tbody>\n",
       "    <tr>\n",
       "      <th>0</th>\n",
       "      <td>DeepTTE</td>\n",
       "      <td>Trondheim</td>\n",
       "      <td>0.086576</td>\n",
       "      <td>MAPE</td>\n",
       "    </tr>\n",
       "    <tr>\n",
       "      <th>1</th>\n",
       "      <td>GBDT</td>\n",
       "      <td>Trondheim</td>\n",
       "      <td>0.127635</td>\n",
       "      <td>MAPE</td>\n",
       "    </tr>\n",
       "    <tr>\n",
       "      <th>2</th>\n",
       "      <td>AVG</td>\n",
       "      <td>Trondheim</td>\n",
       "      <td>0.325473</td>\n",
       "      <td>MAPE</td>\n",
       "    </tr>\n",
       "    <tr>\n",
       "      <th>3</th>\n",
       "      <td>SCH</td>\n",
       "      <td>Trondheim</td>\n",
       "      <td>0.218373</td>\n",
       "      <td>MAPE</td>\n",
       "    </tr>\n",
       "    <tr>\n",
       "      <th>4</th>\n",
       "      <td>DeepTTE</td>\n",
       "      <td>Seattle</td>\n",
       "      <td>0.142112</td>\n",
       "      <td>MAPE</td>\n",
       "    </tr>\n",
       "    <tr>\n",
       "      <th>5</th>\n",
       "      <td>GBDT</td>\n",
       "      <td>Seattle</td>\n",
       "      <td>0.153147</td>\n",
       "      <td>MAPE</td>\n",
       "    </tr>\n",
       "    <tr>\n",
       "      <th>6</th>\n",
       "      <td>AVG</td>\n",
       "      <td>Seattle</td>\n",
       "      <td>0.650413</td>\n",
       "      <td>MAPE</td>\n",
       "    </tr>\n",
       "    <tr>\n",
       "      <th>7</th>\n",
       "      <td>SCH</td>\n",
       "      <td>Seattle</td>\n",
       "      <td>0.226796</td>\n",
       "      <td>MAPE</td>\n",
       "    </tr>\n",
       "    <tr>\n",
       "      <th>0</th>\n",
       "      <td>DeepTTE</td>\n",
       "      <td>Trondheim</td>\n",
       "      <td>329.799330</td>\n",
       "      <td>RMSE</td>\n",
       "    </tr>\n",
       "    <tr>\n",
       "      <th>1</th>\n",
       "      <td>GBDT</td>\n",
       "      <td>Trondheim</td>\n",
       "      <td>292.090103</td>\n",
       "      <td>RMSE</td>\n",
       "    </tr>\n",
       "    <tr>\n",
       "      <th>2</th>\n",
       "      <td>AVG</td>\n",
       "      <td>Trondheim</td>\n",
       "      <td>979.122032</td>\n",
       "      <td>RMSE</td>\n",
       "    </tr>\n",
       "    <tr>\n",
       "      <th>3</th>\n",
       "      <td>SCH</td>\n",
       "      <td>Trondheim</td>\n",
       "      <td>677.872125</td>\n",
       "      <td>RMSE</td>\n",
       "    </tr>\n",
       "    <tr>\n",
       "      <th>4</th>\n",
       "      <td>DeepTTE</td>\n",
       "      <td>Seattle</td>\n",
       "      <td>693.519187</td>\n",
       "      <td>RMSE</td>\n",
       "    </tr>\n",
       "    <tr>\n",
       "      <th>5</th>\n",
       "      <td>GBDT</td>\n",
       "      <td>Seattle</td>\n",
       "      <td>553.015788</td>\n",
       "      <td>RMSE</td>\n",
       "    </tr>\n",
       "    <tr>\n",
       "      <th>6</th>\n",
       "      <td>AVG</td>\n",
       "      <td>Seattle</td>\n",
       "      <td>881.652353</td>\n",
       "      <td>RMSE</td>\n",
       "    </tr>\n",
       "    <tr>\n",
       "      <th>7</th>\n",
       "      <td>SCH</td>\n",
       "      <td>Seattle</td>\n",
       "      <td>1301.240581</td>\n",
       "      <td>RMSE</td>\n",
       "    </tr>\n",
       "    <tr>\n",
       "      <th>0</th>\n",
       "      <td>DeepTTE</td>\n",
       "      <td>Trondheim</td>\n",
       "      <td>159.128869</td>\n",
       "      <td>MAE</td>\n",
       "    </tr>\n",
       "    <tr>\n",
       "      <th>1</th>\n",
       "      <td>GBDT</td>\n",
       "      <td>Trondheim</td>\n",
       "      <td>191.718159</td>\n",
       "      <td>MAE</td>\n",
       "    </tr>\n",
       "    <tr>\n",
       "      <th>2</th>\n",
       "      <td>AVG</td>\n",
       "      <td>Trondheim</td>\n",
       "      <td>603.321474</td>\n",
       "      <td>MAE</td>\n",
       "    </tr>\n",
       "    <tr>\n",
       "      <th>3</th>\n",
       "      <td>SCH</td>\n",
       "      <td>Trondheim</td>\n",
       "      <td>289.610418</td>\n",
       "      <td>MAE</td>\n",
       "    </tr>\n",
       "    <tr>\n",
       "      <th>4</th>\n",
       "      <td>DeepTTE</td>\n",
       "      <td>Seattle</td>\n",
       "      <td>443.830300</td>\n",
       "      <td>MAE</td>\n",
       "    </tr>\n",
       "    <tr>\n",
       "      <th>5</th>\n",
       "      <td>GBDT</td>\n",
       "      <td>Seattle</td>\n",
       "      <td>403.224672</td>\n",
       "      <td>MAE</td>\n",
       "    </tr>\n",
       "    <tr>\n",
       "      <th>6</th>\n",
       "      <td>AVG</td>\n",
       "      <td>Seattle</td>\n",
       "      <td>665.170218</td>\n",
       "      <td>MAE</td>\n",
       "    </tr>\n",
       "    <tr>\n",
       "      <th>7</th>\n",
       "      <td>SCH</td>\n",
       "      <td>Seattle</td>\n",
       "      <td>439.782361</td>\n",
       "      <td>MAE</td>\n",
       "    </tr>\n",
       "  </tbody>\n",
       "</table>\n",
       "</div>"
      ],
      "text/plain": [
       "     Model       City        value Metric\n",
       "0  DeepTTE  Trondheim     0.086576   MAPE\n",
       "1     GBDT  Trondheim     0.127635   MAPE\n",
       "2      AVG  Trondheim     0.325473   MAPE\n",
       "3      SCH  Trondheim     0.218373   MAPE\n",
       "4  DeepTTE    Seattle     0.142112   MAPE\n",
       "5     GBDT    Seattle     0.153147   MAPE\n",
       "6      AVG    Seattle     0.650413   MAPE\n",
       "7      SCH    Seattle     0.226796   MAPE\n",
       "0  DeepTTE  Trondheim   329.799330   RMSE\n",
       "1     GBDT  Trondheim   292.090103   RMSE\n",
       "2      AVG  Trondheim   979.122032   RMSE\n",
       "3      SCH  Trondheim   677.872125   RMSE\n",
       "4  DeepTTE    Seattle   693.519187   RMSE\n",
       "5     GBDT    Seattle   553.015788   RMSE\n",
       "6      AVG    Seattle   881.652353   RMSE\n",
       "7      SCH    Seattle  1301.240581   RMSE\n",
       "0  DeepTTE  Trondheim   159.128869    MAE\n",
       "1     GBDT  Trondheim   191.718159    MAE\n",
       "2      AVG  Trondheim   603.321474    MAE\n",
       "3      SCH  Trondheim   289.610418    MAE\n",
       "4  DeepTTE    Seattle   443.830300    MAE\n",
       "5     GBDT    Seattle   403.224672    MAE\n",
       "6      AVG    Seattle   665.170218    MAE\n",
       "7      SCH    Seattle   439.782361    MAE"
      ]
     },
     "execution_count": 12,
     "metadata": {},
     "output_type": "execute_result"
    }
   ],
   "source": [
    "# Compare different methods for predicting travel times of the test data\n",
    "model_performances = {\n",
    "    \"MAPE\": {\n",
    "        \"Trondheim\": {\n",
    "            \"DeepTTE\": metrics.mean_absolute_percentage_error(nwy_deeptte_preds.label, nwy_deeptte_preds.pred),\n",
    "            \"GBDT\": metrics.mean_absolute_percentage_error(nwy_gbdt_preds, [x['time'] for x in nwy_test_data]),\n",
    "            \"AVG\": metrics.mean_absolute_percentage_error(nwy_avg_preds, [x['time'] for x in nwy_test_data]),\n",
    "            \"SCH\": metrics.mean_absolute_percentage_error(nwy_sch_preds2, nwy_sch_labels2)\n",
    "        },\n",
    "        \"Seattle\": {\n",
    "            \"DeepTTE\": metrics.mean_absolute_percentage_error(kcm_deeptte_preds.label, kcm_deeptte_preds.pred),\n",
    "            \"GBDT\": metrics.mean_absolute_percentage_error(kcm_gbdt_preds, [x['time'] for x in kcm_test_data]),\n",
    "            \"AVG\": metrics.mean_absolute_percentage_error(kcm_avg_preds, [x['time'] for x in kcm_test_data]),\n",
    "            \"SCH\": metrics.mean_absolute_percentage_error(kcm_sch_preds, kcm_sch_labels)\n",
    "        }\n",
    "    },\n",
    "    \"RMSE\": {\n",
    "        \"Trondheim\": {\n",
    "            \"DeepTTE\": np.sqrt(metrics.mean_squared_error(nwy_deeptte_preds.label, nwy_deeptte_preds.pred)),\n",
    "            \"GBDT\": np.sqrt(metrics.mean_squared_error(nwy_gbdt_preds, [x['time'] for x in nwy_test_data])),\n",
    "            \"AVG\": np.sqrt(metrics.mean_squared_error(nwy_avg_preds, [x['time'] for x in nwy_test_data])),\n",
    "            \"SCH\": np.sqrt(metrics.mean_squared_error(nwy_sch_preds, nwy_sch_labels)),\n",
    "        },\n",
    "        \"Seattle\": {\n",
    "            \"DeepTTE\": np.sqrt(metrics.mean_squared_error(kcm_deeptte_preds.label, kcm_deeptte_preds.pred)),\n",
    "            \"GBDT\": np.sqrt(metrics.mean_squared_error(kcm_gbdt_preds, [x['time'] for x in kcm_test_data])),\n",
    "            \"AVG\": np.sqrt(metrics.mean_squared_error(kcm_avg_preds, [x['time'] for x in kcm_test_data])),\n",
    "            \"SCH\": np.sqrt(metrics.mean_squared_error(kcm_sch_preds, kcm_sch_labels)),\n",
    "        }\n",
    "    },\n",
    "    \"MAE\": {\n",
    "        \"Trondheim\": {\n",
    "            \"DeepTTE\": metrics.mean_absolute_error(nwy_deeptte_preds.label, nwy_deeptte_preds.pred),\n",
    "            \"GBDT\": metrics.mean_absolute_error(nwy_gbdt_preds, [x['time'] for x in nwy_test_data]),\n",
    "            \"AVG\": metrics.mean_absolute_error(nwy_avg_preds, [x['time'] for x in nwy_test_data]),\n",
    "            \"SCH\": metrics.mean_absolute_error(nwy_sch_preds, nwy_sch_labels)\n",
    "        },\n",
    "        \"Seattle\": {\n",
    "            \"DeepTTE\": metrics.mean_absolute_error(kcm_deeptte_preds.label, kcm_deeptte_preds.pred),\n",
    "            \"GBDT\": metrics.mean_absolute_error(kcm_gbdt_preds, [x['time'] for x in kcm_test_data]),\n",
    "            \"AVG\": metrics.mean_absolute_error(kcm_avg_preds, [x['time'] for x in kcm_test_data]),\n",
    "            \"SCH\": metrics.mean_absolute_error(kcm_sch_preds, kcm_sch_labels)\n",
    "        }\n",
    "    }\n",
    "}\n",
    "model_performances_df = []\n",
    "for metric in model_performances.keys():\n",
    "    df = pd.DataFrame(model_performances[metric]).reset_index()\n",
    "    df = df.melt(id_vars=\"index\", value_vars=['Trondheim', 'Seattle'])\n",
    "    df['Metric'] = metric\n",
    "    model_performances_df.append(df)\n",
    "model_performances_df = pd.concat(model_performances_df)\n",
    "model_performances_df.columns = [\"Model\",\"City\",\"value\",\"Metric\"]\n",
    "model_performances_df"
   ]
  },
  {
   "cell_type": "code",
   "execution_count": 31,
   "metadata": {},
   "outputs": [
    {
     "data": {
      "image/png": "[encoded data removed]",
      "text/plain": [
       "<Figure size 640x480 with 1 Axes>"
      ]
     },
     "metadata": {},
     "output_type": "display_data"
    }
   ],
   "source": [
    "# Plot accuracy across all models\n",
    "fig, ax = plt.subplots(1,1)\n",
    "model_performances_df_plot = model_performances_df.sort_values(['value'])\n",
    "sns.barplot(model_performances_df_plot[model_performances_df_plot['Metric']=='MAPE'], x=\"Model\", y=\"value\", hue=\"City\")\n",
    "plt.savefig(\"../plots/model_performances.png\", dpi=1800, bbox_inches='tight')"
   ]
  },
  {
   "cell_type": "code",
   "execution_count": 14,
   "metadata": {},
   "outputs": [],
   "source": [
    "# List of feature names for understanding importance\n",
    "feature_names = ['timeID','weekID','dateID','driverID','dist']\n",
    "feature_names = feature_names + [f\"lat_{x}\" for x in range(128)]\n",
    "feature_names = feature_names + [f\"lng_{x}\" for x in range(128)]"
   ]
  },
  {
   "cell_type": "code",
   "execution_count": 15,
   "metadata": {},
   "outputs": [
    {
     "name": "stdout",
     "output_type": "stream",
     "text": [
      "['dist', 'timeID', 'lng_73', 'lng_69', 'lng_0', 'lng_96', 'lng_72', 'lng_109', 'lng_66', 'lng_75']\n",
      "['dist', 'timeID', 'driverID', 'lat_20', 'lng_71', 'weekID', 'lat_0', 'lat_10', 'lng_107', 'lat_39']\n"
     ]
    }
   ],
   "source": [
    "# Sort importances and names\n",
    "nwy_features_sorted = [x for _, x in sorted(zip(nwy_reg.feature_importances_, feature_names))][::-1]\n",
    "nwy_importances_sorted = [_ for _, x in sorted(zip(nwy_reg.feature_importances_, feature_names))][::-1]\n",
    "kcm_features_sorted = [x for _, x in sorted(zip(kcm_reg.feature_importances_, feature_names))][::-1]\n",
    "kcm_importances_sorted = [_ for _, x in sorted(zip(kcm_reg.feature_importances_, feature_names))][::-1]\n",
    "\n",
    "# Read out names and importances of top n\n",
    "print(nwy_features_sorted[:10])\n",
    "print(kcm_features_sorted[:10])"
   ]
  },
  {
   "cell_type": "code",
   "execution_count": 16,
   "metadata": {},
   "outputs": [
    {
     "data": {
      "image/png": "[encoded data removed]",
      "text/plain": [
       "<Figure size 640x480 with 1 Axes>"
      ]
     },
     "metadata": {},
     "output_type": "display_data"
    }
   ],
   "source": [
    "# Plot importances\n",
    "fig, ax = plt.subplots(1,1)\n",
    "plt.bar(nwy_features_sorted[:10], nwy_importances_sorted[:10])\n",
    "plt.savefig(\"../plots/nwy_gbdt_importances.png\", dpi=1800, bbox_inches='tight')"
   ]
  },
  {
   "cell_type": "code",
   "execution_count": 17,
   "metadata": {},
   "outputs": [
    {
     "data": {
      "image/png": "[encoded data removed]",
      "text/plain": [
       "<Figure size 640x480 with 1 Axes>"
      ]
     },
     "metadata": {},
     "output_type": "display_data"
    }
   ],
   "source": [
    "# Plot importances\n",
    "fig, ax = plt.subplots(1,1)\n",
    "plt.bar(kcm_features_sorted[:10], kcm_importances_sorted[:10])\n",
    "plt.savefig(\"../plots/kcm_gbdt_importances.png\", dpi=1800, bbox_inches='tight')"
   ]
  },
  {
   "cell_type": "code",
   "execution_count": 18,
   "metadata": {},
   "outputs": [
    {
     "data": {
      "image/png": "[encoded data removed]",
      "text/plain": [
       "<Figure size 640x480 with 1 Axes>"
      ]
     },
     "metadata": {},
     "output_type": "display_data"
    }
   ],
   "source": [
    "# Plot importances\n",
    "fig, ax = plt.subplots(1,1)\n",
    "plt.bar(nwy_features_sorted[1:], nwy_importances_sorted[1:])\n",
    "plt.savefig(\"../plots/nwy_gbdt_non_dist_importances.png\", dpi=1800, bbox_inches='tight')"
   ]
  },
  {
   "cell_type": "code",
   "execution_count": 19,
   "metadata": {},
   "outputs": [
    {
     "data": {
      "image/png": "[encoded data removed]",
      "text/plain": [
       "<Figure size 640x480 with 1 Axes>"
      ]
     },
     "metadata": {},
     "output_type": "display_data"
    }
   ],
   "source": [
    "# Plot importances\n",
    "fig, ax = plt.subplots(1,1)\n",
    "plt.bar(kcm_features_sorted[1:], kcm_importances_sorted[1:])\n",
    "plt.savefig(\"../plots/kcm_gbdt_non_dist_importances.png\", dpi=1800, bbox_inches='tight')"
   ]
  }
 ],
 "metadata": {
  "kernelspec": {
   "display_name": "valle",
   "language": "python",
   "name": "python3"
  },
  "language_info": {
   "codemirror_mode": {
    "name": "ipython",
    "version": 3
   },
   "file_extension": ".py",
   "mimetype": "text/x-python",
   "name": "python",
   "nbconvert_exporter": "python",
   "pygments_lexer": "ipython3",
   "version": "3.9.7"
  },
  "orig_nbformat": 4,
  "vscode": {
   "interpreter": {
    "hash": "ee7dd9afb01237dfbf26e9cc0cb1d4f149c742bc84ef8f1e9c50b404e05a47f5"
   }
  }
 },
 "nbformat": 4,
 "nbformat_minor": 2
}
