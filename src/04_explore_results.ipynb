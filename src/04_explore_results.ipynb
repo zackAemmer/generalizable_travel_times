{
 "cells": [
  {
   "cell_type": "code",
   "execution_count": null,
   "metadata": {},
   "outputs": [],
   "source": [
    "import itertools\n",
    "import json\n",
    "import os\n",
    "from random import sample\n",
    "\n",
    "import matplotlib.pyplot as plt\n",
    "import numpy as np\n",
    "import pandas as pd\n",
    "import pickle\n",
    "import seaborn as sns\n",
    "from sklearn import metrics\n",
    "\n",
    "from database import data_utils\n",
    "\n",
    "import importlib\n",
    "importlib.reload(data_utils)\n",
    "\n",
    "RUN_FOLDER = \"../results/3_mo_cross_val/\""
   ]
  },
  {
   "cell_type": "code",
   "execution_count": null,
   "metadata": {},
   "outputs": [],
   "source": [
    "# # Read in DeepTTE files\n",
    "# kcm_deeptte_results = pd.read_csv(\n",
    "#     RUN_FOLDER+\"kcm/deeptte_results/result/deeptte.res\",\n",
    "#     header=None,\n",
    "#     names=[\"Fold\",\"Epoch\",\"Test File\",\"DTTE Loss\",\"MAPE\",\"RMSE\",\"MAE\"],\n",
    "#     dtype={\"Fold\": int, \"Epoch\": int, \"Test File\": str, \"DTTE Loss\": float, \"MAPE\": float, \"RMSE\": float, \"MAE\": float}\n",
    "# )\n",
    "# kcm_deeptte_results['City'] = \"Seattle\"\n",
    "# kcm_deeptte_results['Model'] = \"DeepTTE\"\n",
    "# kcm_deeptte_result_df = kcm_deeptte_results[kcm_deeptte_results['Test File']==\"test\"]\n",
    "# kcm_deeptte_result_df = kcm_deeptte_result_df[['Model','City','Fold','MAPE','RMSE','MAE']].copy()\n",
    "\n",
    "# atb_deeptte_results = pd.read_csv(\n",
    "#     RUN_FOLDER+\"atb/deeptte_results/result/deeptte.res\",\n",
    "#     header=None,\n",
    "#     names=[\"Fold\",\"Epoch\",\"Test File\",\"DTTE Loss\",\"MAPE\",\"RMSE\",\"MAE\"],\n",
    "#     dtype={\"Fold\": int, \"Epoch\": int, \"Test File\": str, \"DTTE Loss\": float, \"MAPE\": float, \"RMSE\": float, \"MAE\": float}\n",
    "# )\n",
    "# atb_deeptte_results['City'] = \"Trondheim\"\n",
    "# atb_deeptte_results['Model'] = \"DeepTTE\"\n",
    "# atb_deeptte_result_df = atb_deeptte_results[atb_deeptte_results['Test File']==\"test\"]\n",
    "# atb_deeptte_result_df = atb_deeptte_result_df[['Model','City','Fold','MAPE','RMSE','MAE']].copy()\n",
    "\n",
    "\n",
    "# kcm_deeptte_results = pd.read_csv(\n",
    "#     RUN_FOLDER+\"kcm/deeptte_results/result/deeptte.res\",\n",
    "#     header=None,\n",
    "#     delimiter=\" \",\n",
    "#     names=[\"Label\",\"Pred\"],\n",
    "#     dtype={\"Label\": float, \"Pred\": float}\n",
    "# )\n",
    "# kcm_deeptte_results\n",
    "# mape = metrics.mean_absolute_percentage_error(kcm_deeptte_results['Label'], kcm_deeptte_results['Pred'])\n",
    "# rmse = np.sqrt(metrics.mean_squared_error(kcm_deeptte_results['Label'], kcm_deeptte_results['Pred']))\n",
    "# mae = metrics.mean_absolute_error(kcm_deeptte_results['Label'], kcm_deeptte_results['Pred'])\n",
    "# kcm_deeptte_result_df = pd.DataFrame({\n",
    "#     \"Model\": \"DeepTTE\",\n",
    "#     \"City\": \"Seattle\",\n",
    "#     \"Fold\": 0,\n",
    "#     \"MAPE\": mape,\n",
    "#     \"RMSE\": rmse,\n",
    "#     \"MAE\": mae\n",
    "# }, index=[0])\n",
    "# kcm_deeptte_result_df"
   ]
  },
  {
   "cell_type": "code",
   "execution_count": null,
   "metadata": {},
   "outputs": [],
   "source": [
    "kcm_model_results = data_utils.load_pkl(RUN_FOLDER + \"kcm/\" + \"model_results.pkl\")\n",
    "atb_model_results = data_utils.load_pkl(RUN_FOLDER + \"atb/\" + \"model_results.pkl\")\n",
    "kcm_result_df = data_utils.extract_results(\"Seattle\", kcm_model_results)\n",
    "atb_result_df = data_utils.extract_results(\"Trondheim\", atb_model_results)"
   ]
  },
  {
   "cell_type": "code",
   "execution_count": null,
   "metadata": {},
   "outputs": [],
   "source": [
    "model_performances_df = pd.concat([kcm_result_df, atb_result_df], axis=0)\n",
    "model_performances_df.head()"
   ]
  },
  {
   "cell_type": "code",
   "execution_count": null,
   "metadata": {},
   "outputs": [],
   "source": [
    "plot_data = model_performances_df[model_performances_df['City']==\"Seattle\"]\n",
    "fig, axes = plt.subplots(3,1)\n",
    "fig.set_figheight(6)\n",
    "fig.set_figwidth(6)\n",
    "sns.barplot(plot_data, x=\"MAPE\", y=\"Model\", ax=axes[0])\n",
    "sns.barplot(plot_data, x=\"RMSE\", y=\"Model\", ax=axes[1])\n",
    "sns.barplot(plot_data, x=\"MAE\", y=\"Model\", ax=axes[2])\n",
    "fig.suptitle('KCM Model Performance (1 month data, 10 folds)', fontsize=16)\n",
    "fig.tight_layout()\n",
    "plt.savefig(\"../plots/model_performances_seattle.png\", dpi=1800, bbox_inches='tight')"
   ]
  },
  {
   "cell_type": "code",
   "execution_count": null,
   "metadata": {},
   "outputs": [],
   "source": [
    "plot_data = model_performances_df[model_performances_df['City']==\"Trondheim\"]\n",
    "fig, axes = plt.subplots(3,1)\n",
    "fig.set_figheight(6)\n",
    "fig.set_figwidth(6)\n",
    "sns.barplot(plot_data, x=\"MAPE\", y=\"Model\", ax=axes[0])\n",
    "sns.barplot(plot_data, x=\"RMSE\", y=\"Model\", ax=axes[1])\n",
    "sns.barplot(plot_data, x=\"MAE\", y=\"Model\", ax=axes[2])\n",
    "fig.suptitle('AtB Model Performance (1 month data, 10 folds)', fontsize=16)\n",
    "fig.tight_layout()\n",
    "plt.savefig(\"../plots/model_performances_trondheim.png\", dpi=1800, bbox_inches='tight')"
   ]
  }
 ],
 "metadata": {
  "kernelspec": {
   "display_name": "valle_m1",
   "language": "python",
   "name": "python3"
  },
  "language_info": {
   "codemirror_mode": {
    "name": "ipython",
    "version": 3
   },
   "file_extension": ".py",
   "mimetype": "text/x-python",
   "name": "python",
   "nbconvert_exporter": "python",
   "pygments_lexer": "ipython3",
   "version": "3.10.9"
  },
  "orig_nbformat": 4,
  "vscode": {
   "interpreter": {
    "hash": "b30fe1de1713ca8e7537eef068b13a2de77ded03f86aab2e80ea73416dd3d704"
   }
  }
 },
 "nbformat": 4,
 "nbformat_minor": 2
}
