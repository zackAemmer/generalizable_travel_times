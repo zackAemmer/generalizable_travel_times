{
 "cells": [
  {
   "cell_type": "code",
   "execution_count": null,
   "metadata": {},
   "outputs": [],
   "source": [
    "from datetime import datetime\n",
    "import sys\n",
    "\n",
    "import importlib\n",
    "from joblib import Parallel, delayed\n",
    "import matplotlib.animation as animation\n",
    "import matplotlib.pyplot as plt\n",
    "import numpy as np\n",
    "import pandas as pd\n",
    "import plotly.express as px\n",
    "import seaborn as sns\n",
    "\n",
    "from utils import data_utils, data_loader, shape_utils\n",
    "\n",
    "importlib.reload(data_utils)\n",
    "importlib.reload(data_loader)\n",
    "importlib.reload(shape_utils)\n",
    "\n",
    "RUN_FOLDER = \"../results/debug/\"\n",
    "NETWORK = \"kcm\""
   ]
  },
  {
   "cell_type": "code",
   "execution_count": null,
   "metadata": {},
   "outputs": [],
   "source": [
    "kcm_inputs = data_utils.load_all_inputs(RUN_FOLDER, \"kcm/\")\n",
    "atb_inputs = data_utils.load_all_inputs(RUN_FOLDER, \"atb/\")"
   ]
  },
  {
   "cell_type": "code",
   "execution_count": null,
   "metadata": {},
   "outputs": [],
   "source": [
    "kcm_grid = kcm_inputs['train_grid']\n",
    "print(kcm_grid.shape) # (tsteps, channels, latsteps, lonsteps)\n",
    "print(sys.getsizeof(kcm_grid)*1e-9)\n",
    "shape_utils.save_grid_anim(kcm_grid, \"grid_speeds_kcm.mp4\", 0, 35)"
   ]
  },
  {
   "cell_type": "code",
   "execution_count": null,
   "metadata": {},
   "outputs": [],
   "source": [
    "kcm_grid_ffill = kcm_inputs['train_grid_ffill']\n",
    "print(kcm_grid_ffill.shape) # (tsteps, channels, latsteps, lonsteps)\n",
    "print(sys.getsizeof(kcm_grid_ffill)*1e-9)\n",
    "shape_utils.save_grid_anim(kcm_grid_ffill, \"grid_speeds_ffill_kcm.mp4\", 0, 35)"
   ]
  },
  {
   "cell_type": "code",
   "execution_count": null,
   "metadata": {},
   "outputs": [],
   "source": [
    "atb_grid = atb_inputs['train_grid']\n",
    "print(atb_grid.shape) # (tsteps, channels, latsteps, lonsteps)\n",
    "print(sys.getsizeof(atb_grid)*1e-9)\n",
    "shape_utils.save_grid_anim(atb_grid, \"grid_speeds_atb.mp4\", 0, 35)"
   ]
  },
  {
   "cell_type": "code",
   "execution_count": null,
   "metadata": {},
   "outputs": [],
   "source": [
    "atb_grid_ffill = atb_inputs['train_grid_ffill']\n",
    "print(atb_grid_ffill.shape) # (tsteps, channels, latsteps, lonsteps)\n",
    "print(sys.getsizeof(atb_grid_ffill)*1e-9)\n",
    "shape_utils.save_grid_anim(atb_grid_ffill, \"grid_speeds_ffill_atb.mp4\", 0, 35)"
   ]
  },
  {
   "cell_type": "code",
   "execution_count": null,
   "metadata": {},
   "outputs": [],
   "source": [
    "# Look at a single trip\n",
    "test_traces = kcm_inputs['test_traces']\n",
    "shingle_data = test_traces[test_traces['shingle_id']==5885]\n",
    "# Plot overview of the shingle\n",
    "plot_data = shingle_data\n",
    "fig, axes = plt.subplots(1,1)\n",
    "shape_utils.plot_gtfs_trip(axes, plot_data['trip_id'].iloc[0], kcm_inputs['gtfs_data'], kcm_inputs['config']['epsg'])\n",
    "shape_utils.plot_gtfsrt_trip(axes, plot_data, kcm_inputs['config']['epsg'])"
   ]
  },
  {
   "cell_type": "code",
   "execution_count": null,
   "metadata": {},
   "outputs": [],
   "source": [
    "# Look at a single trip\n",
    "test_traces = atb_inputs['test_traces']\n",
    "shingle_data = test_traces[test_traces['shingle_id']==31]\n",
    "shingle_data.head()\n",
    "# Plot overview of the shingle\n",
    "plot_data = shingle_data\n",
    "fig, axes = plt.subplots(1,1)\n",
    "shape_utils.plot_gtfs_trip(axes, plot_data['trip_id'].iloc[0], atb_inputs['gtfs_data'], atb_inputs['config']['epsg'])\n",
    "shape_utils.plot_gtfsrt_trip(axes, plot_data, atb_inputs['config']['epsg'])"
   ]
  },
  {
   "cell_type": "code",
   "execution_count": null,
   "metadata": {},
   "outputs": [],
   "source": [
    "# Look at grid features for a shingle\n",
    "importlib.reload(shape_utils)\n",
    "grid = kcm_inputs['train_grid']\n",
    "sample = kcm_inputs['train_data_chunks'][0][112]\n",
    "tbins = sample['tbin_idx']\n",
    "xbins = sample['xbin_idx']\n",
    "ybins = sample['ybin_idx']\n",
    "# Loop over each point in sample\n",
    "grid_features = shape_utils.extract_grid_features(grid, tbins, xbins, ybins, n_prior=1, buffer=5)\n",
    "print(np.min(grid_features))\n",
    "print(np.max(grid_features))"
   ]
  },
  {
   "cell_type": "code",
   "execution_count": null,
   "metadata": {},
   "outputs": [],
   "source": [
    "shape_utils.save_grid_anim(grid_features, \"grid_speeds_shingle.mp4\", np.min(grid_features), np.max(grid_features))"
   ]
  },
  {
   "cell_type": "code",
   "execution_count": null,
   "metadata": {},
   "outputs": [],
   "source": [
    "# Histogram of scheduled travel times\n",
    "plot_data = kcm_inputs['train_traces']\n",
    "sns.histplot(plot_data.scheduled_time_s)\n",
    "plt.title(f\"Scheduled Travel Time (s) (KCM) [{np.min(plot_data['scheduled_time_s'])}, {np.max(plot_data['scheduled_time_s'])}]\")\n",
    "plt.xlabel(\"Travel Time (s)\")\n",
    "plt.savefig(\"../plots/kcm_scheduled_time_dist.png\")"
   ]
  },
  {
   "cell_type": "code",
   "execution_count": null,
   "metadata": {},
   "outputs": [],
   "source": [
    "# Histogram of scheduled travel times\n",
    "plot_data = atb_inputs['train_traces']\n",
    "sns.histplot(plot_data.scheduled_time_s)\n",
    "plt.title(f\"Scheduled Travel Time (s) (AtB) [{np.min(plot_data['scheduled_time_s'])}, {np.max(plot_data['scheduled_time_s'])}]\")\n",
    "plt.xlabel(\"Travel Time (s)\")\n",
    "plt.savefig(\"../plots/atb_scheduled_time_dist.png\")"
   ]
  },
  {
   "cell_type": "code",
   "execution_count": null,
   "metadata": {},
   "outputs": [],
   "source": [
    "# Histogram of bus travel times in schedule\n",
    "gtfs_data = kcm_inputs['gtfs_data']\n",
    "x = gtfs_data[['trip_id','arrival_s']]\n",
    "y = gtfs_data[['trip_id','arrival_s']].shift()\n",
    "y.columns = [colname+\"_shift\" for colname in y.columns]\n",
    "z = pd.concat([x,y], axis=1)\n",
    "z = z[z['trip_id']==z['trip_id_shift']]\n",
    "z['tt'] = z['arrival_s'] - z['arrival_s_shift']\n",
    "z = z[z['tt']<=250]\n",
    "z = z.dropna()\n",
    "sns.histplot(z.tt)\n",
    "plt.title(f\"Stop Arrival Gaps (KCM) [{np.min(z['tt'])}, {np.max(z['tt'])}]\")\n",
    "plt.xlabel(\"Travel Time (s)\")\n",
    "plt.axvline(30, 0.0, 20000, color=\"black\")\n",
    "plt.savefig(\"../plots/kcm_gtfs_arrival_gaps.png\")"
   ]
  },
  {
   "cell_type": "code",
   "execution_count": null,
   "metadata": {},
   "outputs": [],
   "source": [
    "# Histogram of bus travel times in schedule\n",
    "gtfs_data = atb_inputs['gtfs_data']\n",
    "\n",
    "x = gtfs_data[['trip_id','arrival_s']]\n",
    "y = gtfs_data[['trip_id','arrival_s']].shift()\n",
    "y.columns = [colname+\"_shift\" for colname in y.columns]\n",
    "z = pd.concat([x,y], axis=1)\n",
    "z = z[z['trip_id']==z['trip_id_shift']]\n",
    "z['tt'] = z['arrival_s'] - z['arrival_s_shift']\n",
    "z = z[z['tt']<=250]\n",
    "z = z.dropna()\n",
    "sns.histplot(z.tt)\n",
    "plt.title(f\"Stop Arrival Gaps (AtB) [{np.min(z['tt'])}, {np.max(z['tt'])}]\")\n",
    "plt.xlabel(\"Travel Time (s)\")\n",
    "plt.axvline(30, 0.0, 20000, color=\"black\")\n",
    "plt.savefig(\"../plots/atb_gtfs_arrival_gaps.png\")"
   ]
  },
  {
   "cell_type": "code",
   "execution_count": null,
   "metadata": {},
   "outputs": [],
   "source": [
    "# Shingle distance\n",
    "metric = kcm_inputs['train_traces'].groupby('shingle_id').sum(numeric_only=True)['dist_calc_m']\n",
    "sns.histplot(metric)\n",
    "plt.title(f\"Shingle Distances (KCM) [{np.min(metric)}, {np.round(np.max(metric))}]\")\n",
    "plt.xlabel(\"Travel Dist (m)\")\n",
    "plt.savefig(\"../plots/kcm_shingle_dists.png\")"
   ]
  },
  {
   "cell_type": "code",
   "execution_count": null,
   "metadata": {},
   "outputs": [],
   "source": [
    "# Shingle distance\n",
    "metric = atb_inputs['train_traces'].groupby('shingle_id').sum(numeric_only=True)['dist_calc_m']\n",
    "sns.histplot(metric)\n",
    "plt.title(f\"Shingle Distances (AtB) [{np.min(metric)}, {np.round(np.max(metric))}]\")\n",
    "plt.xlabel(\"Travel Dist (m)\")\n",
    "plt.savefig(\"../plots/atb_shingle_dists.png\")"
   ]
  },
  {
   "cell_type": "code",
   "execution_count": null,
   "metadata": {},
   "outputs": [],
   "source": [
    "# Shingle travel time\n",
    "metric = kcm_inputs['train_traces'].groupby('shingle_id').last()['time_cumulative_s']\n",
    "sns.histplot(metric)\n",
    "plt.title(f\"Shingle Travel Times (KCM) [{np.min(metric)}, {np.round(np.max(metric))}]\")\n",
    "plt.xlabel(\"Travel Time (s)\")\n",
    "plt.savefig(\"../plots/kcm_shingle_times.png\")"
   ]
  },
  {
   "cell_type": "code",
   "execution_count": null,
   "metadata": {},
   "outputs": [],
   "source": [
    "# Shingle travel time\n",
    "metric = atb_inputs['train_traces'].groupby('shingle_id').last()['time_cumulative_s']\n",
    "sns.histplot(metric)\n",
    "plt.title(f\"Shingle Travel Times (AtB) [{np.min(metric)}, {np.round(np.max(metric))}]\")\n",
    "plt.xlabel(\"Travel Time (s)\")\n",
    "plt.savefig(\"../plots/atb_shingle_times.png\")"
   ]
  },
  {
   "cell_type": "code",
   "execution_count": null,
   "metadata": {},
   "outputs": [],
   "source": [
    "# Points per trajectory\n",
    "metric = kcm_inputs['train_traces'].groupby(['shingle_id']).count()['lat']\n",
    "sns.histplot(metric)\n",
    "plt.title(f\"Observations per Shingle (KCM) [{np.min(metric)}, {np.round(np.max(metric))}]\")\n",
    "plt.xlabel(\"Observations (n)\")\n",
    "plt.savefig(\"../plots/kcm_shingle_n.png\")"
   ]
  },
  {
   "cell_type": "code",
   "execution_count": null,
   "metadata": {},
   "outputs": [],
   "source": [
    "# Points per trajectory\n",
    "metric = atb_inputs['train_traces'].groupby(['shingle_id']).count()['lat']\n",
    "sns.histplot(metric)\n",
    "plt.title(f\"Observations per Shingle (AtB) [{np.min(metric)}, {np.round(np.max(metric))}]\")\n",
    "plt.xlabel(\"Observations (n)\")\n",
    "plt.savefig(\"../plots/atb_shingle_n.png\")"
   ]
  },
  {
   "cell_type": "code",
   "execution_count": null,
   "metadata": {},
   "outputs": [],
   "source": [
    "# Look at speed correlation between adjacent bus trips\n",
    "if NETWORK==\"kcm\":\n",
    "    shingle_ids = pd.unique(kcm_inputs['test_traces']['shingle_id'])\n",
    "    traces = kcm_inputs['test_traces']\n",
    "else:\n",
    "    shingle_ids = pd.unique(atb_inputs['test_traces']['shingle_id'])\n",
    "    traces = atb_inputs['test_traces']\n",
    "shingle_id_sample = np.random.choice(shingle_ids, 10, replace=False)\n",
    "d_buffers = np.linspace(1,1000,20)\n",
    "t_buffers = np.linspace(1,60*10,20)\n",
    "b_buffer = 10\n",
    "orthogonal = True\n",
    "# Test shingle data against all other data\n",
    "shingle_traces = traces[traces['shingle_id'].isin(shingle_id_sample)][['x','y','locationtime','bearing','speed_m_s','shingle_id']]\n",
    "shingle_groups = shingle_traces.groupby('shingle_id')\n",
    "adj_traces = traces[~traces['shingle_id'].isin(shingle_id_sample)][['x','y','locationtime','bearing','speed_m_s']].values\n",
    "# Save results for each shingle, and buffer combination\n",
    "targets_res = np.zeros((len(shingle_id_sample), len(d_buffers), len(t_buffers)))\n",
    "preds_res = np.zeros((len(shingle_id_sample), len(d_buffers), len(t_buffers)))"
   ]
  },
  {
   "cell_type": "code",
   "execution_count": null,
   "metadata": {},
   "outputs": [],
   "source": [
    "# Parallel: 5min with 10 samples, 20x20 buffers\n",
    "def parallel_get_metrics(d):\n",
    "    dist_buffer = d_buffers[d]\n",
    "    results = []\n",
    "    for t, t_buffer in enumerate(t_buffers):\n",
    "        res = shingle_groups.apply(shape_utils.get_adjacent_metric, adj_traces, dist_buffer, t_buffer, b_buffer=b_buffer, orthogonal=orthogonal)\n",
    "        targets = np.array([x[0] for x in res])\n",
    "        preds = np.array([x[1] for x in res])\n",
    "        # If all nan, fill with zeros\n",
    "        if sum(~np.isnan(targets))==0:\n",
    "            targets = np.nan_to_num(targets, nan=1.0)\n",
    "        else:\n",
    "            targets[np.isnan(targets)] = np.mean(targets[~np.isnan(targets)])\n",
    "        # If some nan, fill with mean\n",
    "        if sum(~np.isnan(preds))==0:\n",
    "            preds = np.nan_to_num(preds, nan=1.0)\n",
    "        else:\n",
    "            preds[np.isnan(preds)] = np.mean(preds[~np.isnan(preds)])\n",
    "        results.append((targets, preds, d, t))\n",
    "    return results\n",
    "# Each item in the results corresponds to a distance buffer; it has n subitems, 1 for each time buffer\n",
    "# Within a d-t buffer, there are 4 values; (targets, preds, d_buffer idx, t_buffer idx)\n",
    "res_parallel = Parallel(n_jobs=-2)(delayed(parallel_get_metrics)(x) for x in range(len(d_buffers)))"
   ]
  },
  {
   "cell_type": "code",
   "execution_count": null,
   "metadata": {},
   "outputs": [],
   "source": [
    "# Expand parallel adjacent metric results\n",
    "for d_idx in range(len(res_parallel)):\n",
    "    for t_idx in range(len(res_parallel[0])):\n",
    "        targets = res_parallel[d_idx][t_idx][0]\n",
    "        preds = res_parallel[d_idx][t_idx][1]\n",
    "        targets_res[:,d_idx,t_idx] = targets\n",
    "        preds_res[:,d_idx,t_idx] = preds"
   ]
  },
  {
   "cell_type": "code",
   "execution_count": null,
   "metadata": {},
   "outputs": [],
   "source": [
    "# Get R2 value for each combination of preds and targets and for each d and t buffer\n",
    "r_values = np.empty((preds_res.shape[1], preds_res.shape[2]))\n",
    "for d in range(preds_res.shape[1]):\n",
    "    for t in range(preds_res.shape[2]):\n",
    "        R2, x_plt, y_plt = shape_utils.fit_poly(preds_res[:,d,t], targets_res[:,d,t])\n",
    "        r_values[d,t] = R2\n",
    "r_values"
   ]
  },
  {
   "cell_type": "code",
   "execution_count": null,
   "metadata": {},
   "outputs": [],
   "source": [
    "fig, ax = plt.subplots()\n",
    "im = ax.imshow(r_values, origin=\"lower\", cmap=\"plasma\")\n",
    "fig.suptitle(\"R2 of Polynomial Fit to Adjacent Trips\")\n",
    "ax.set_title(f\"B={b_buffer} deg, Orth={str(orthogonal)}, Net={NETWORK}\")\n",
    "ax.set_xlabel(\"Time (s)\")\n",
    "ax.set_xticks([x for x in range(len(t_buffers))])\n",
    "ax.set_xticklabels([str(int(x)) for x in t_buffers], rotation=45)\n",
    "ax.set_ylabel(\"Distance (m)\")\n",
    "ax.set_yticks([y for y in range(len(d_buffers))])\n",
    "ax.set_yticklabels([str(int(y)) for y in d_buffers])\n",
    "cbar = fig.colorbar(im, ax=ax)\n",
    "plt.draw()\n",
    "plt.savefig(f\"../plots/R2_poly_adj_small_{b_buffer}_{str(orthogonal)}_{NETWORK}.png\")\n",
    "plt.show()"
   ]
  }
 ],
 "metadata": {
  "kernelspec": {
   "display_name": "valle_m1",
   "language": "python",
   "name": "python3"
  },
  "language_info": {
   "codemirror_mode": {
    "name": "ipython",
    "version": 3
   },
   "file_extension": ".py",
   "mimetype": "text/x-python",
   "name": "python",
   "nbconvert_exporter": "python",
   "pygments_lexer": "ipython3",
   "version": "3.9.16"
  },
  "orig_nbformat": 4,
  "vscode": {
   "interpreter": {
    "hash": "b30fe1de1713ca8e7537eef068b13a2de77ded03f86aab2e80ea73416dd3d704"
   }
  }
 },
 "nbformat": 4,
 "nbformat_minor": 2
}
