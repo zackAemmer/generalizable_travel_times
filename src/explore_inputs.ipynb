{
 "cells": [
  {
   "cell_type": "code",
   "execution_count": null,
   "metadata": {},
   "outputs": [],
   "source": [
    "import importlib\n",
    "import matplotlib.pyplot as plt\n",
    "import numpy as np\n",
    "import seaborn as sns\n",
    "\n",
    "from models import grid\n",
    "from utils import data_utils, shape_utils\n",
    "\n",
    "RUN_FOLDER = \"../results/debug/\"\n",
    "NETWORK = \"kcm\""
   ]
  },
  {
   "cell_type": "code",
   "execution_count": null,
   "metadata": {},
   "outputs": [],
   "source": [
    "kcm_inputs = data_utils.load_all_inputs(RUN_FOLDER, \"kcm/\", 0)\n",
    "atb_inputs = data_utils.load_all_inputs(RUN_FOLDER, \"atb/\", 0)"
   ]
  },
  {
   "cell_type": "code",
   "execution_count": null,
   "metadata": {},
   "outputs": [],
   "source": [
    "# Look at a single trip\n",
    "test_traces = kcm_inputs['test_traces']\n",
    "shingle_data = test_traces[test_traces['shingle_id']==np.unique(test_traces.shingle_id)[55]]\n",
    "# Plot overview of the shingle\n",
    "plot_data = shingle_data\n",
    "fig, axes = plt.subplots(1,1)\n",
    "# shape_utils.plot_gtfs_trip(axes, plot_data['trip_id'].iloc[0], kcm_inputs['gtfs_data'], kcm_inputs['config']['epsg'])\n",
    "shape_utils.plot_gtfsrt_trip(axes, plot_data, kcm_inputs['config']['epsg'])"
   ]
  },
  {
   "cell_type": "code",
   "execution_count": null,
   "metadata": {},
   "outputs": [],
   "source": [
    "# Look at a single trip\n",
    "test_traces = atb_inputs['test_traces']\n",
    "shingle_data = test_traces[test_traces['shingle_id']==np.unique(test_traces.shingle_id)[0]]\n",
    "shingle_data.head()\n",
    "# Plot overview of the shingle\n",
    "plot_data = shingle_data\n",
    "fig, axes = plt.subplots(1,1)\n",
    "# shape_utils.plot_gtfs_trip(axes, plot_data['trip_id'].iloc[0], atb_inputs['gtfs_data'], atb_inputs['config']['epsg'])\n",
    "shape_utils.plot_gtfsrt_trip(axes, plot_data, atb_inputs['config']['epsg'])"
   ]
  },
  {
   "cell_type": "code",
   "execution_count": null,
   "metadata": {},
   "outputs": [],
   "source": [
    "# Examine grid\n",
    "grid_kcm = kcm_inputs['train_grid_ffill']\n",
    "grid_atb = atb_inputs['train_grid_ffill']\n",
    "print(f\"KCM grid density: {grid_kcm.get_density()}, fill density: {grid_kcm.get_fill_density()}\")\n",
    "print(f\"AtB grid density: {grid_atb.get_density()}, fill density: {grid_atb.get_fill_density()}\")\n",
    "print(f\"KCM grid cell speeds: {grid_kcm.get_masked_content()}, mean: {np.mean(grid_kcm.get_masked_content())}, std: {np.std(grid_kcm.get_masked_content())}, min: {np.min(grid_kcm.get_masked_content())}, max: {np.max(grid_kcm.get_masked_content())}\")\n",
    "print(f\"AtB grid cell speeds: {grid_atb.get_masked_content()}, mean: {np.mean(grid_atb.get_masked_content())}, std: {np.std(grid_atb.get_masked_content())}, min: {np.min(grid_atb.get_masked_content())}, max: {np.max(grid_atb.get_masked_content())}\")\n",
    "print(f\"KCM grid sample sizes: {grid_kcm.get_masked_counts()}, mean: {np.mean(grid_kcm.get_masked_counts())}, std: {np.std(grid_kcm.get_masked_counts())}, min: {np.min(grid_kcm.get_masked_counts())}, max: {np.max(grid_kcm.get_masked_counts())}\")\n",
    "print(f\"AtB grid sample sizes: {grid_atb.get_masked_counts()}, mean: {np.mean(grid_atb.get_masked_counts())}, std: {np.std(grid_atb.get_masked_counts())}, min: {np.min(grid_atb.get_masked_counts())}, max: {np.max(grid_atb.get_masked_counts())}\")"
   ]
  },
  {
   "cell_type": "code",
   "execution_count": null,
   "metadata": {},
   "outputs": [],
   "source": [
    "# Look at grid features for a shingle\n",
    "sample = kcm_inputs['train_data'][1]\n",
    "tbins = sample['tbin_idx']\n",
    "xbins = sample['xbin_idx']\n",
    "ybins = sample['ybin_idx']\n",
    "grid_features = grid.extract_grid_features(grid_kcm.get_fill_content(), tbins, xbins, ybins, kcm_inputs['config'], buffer=3)\n",
    "grid_features = np.concatenate([np.expand_dims(x, 0) for x in grid_features], axis=0)\n",
    "print(grid_features.shape) # (tsteps, channels, latsteps, lonsteps)\n",
    "grid.save_grid_anim(grid_features, \"grid_speeds_shingle.mp4\", np.min(grid_features[:,:4,:,:]), np.max(grid_features[:,:4,:,:]))"
   ]
  },
  {
   "cell_type": "code",
   "execution_count": null,
   "metadata": {},
   "outputs": [],
   "source": [
    "# # Save plots of full grid features\n",
    "# grid_features = grid_kcm.get_fill_content()\n",
    "# print(grid_features.shape) # (tsteps, channels, latsteps, lonsteps)\n",
    "# grid.save_grid_anim(grid_features, \"grid_speeds_kcm.mp4\", np.min(grid_features[:,:4,:,:]), np.max(grid_features[:,:4,:,:]))"
   ]
  },
  {
   "cell_type": "code",
   "execution_count": null,
   "metadata": {},
   "outputs": [],
   "source": [
    "# # Save plots of full grid features\n",
    "# grid_features = grid_atb.get_fill_content()\n",
    "# print(grid_features.shape) # (tsteps, channels, latsteps, lonsteps)\n",
    "# grid.save_grid_anim(grid_features, \"grid_speeds_atb.mp4\", np.min(grid_features[:,:4,:,:]), np.max(grid_features[:,:4,:,:]))"
   ]
  },
  {
   "cell_type": "code",
   "execution_count": null,
   "metadata": {},
   "outputs": [],
   "source": [
    "# Histogram of scheduled travel times\n",
    "plot_data = kcm_inputs['train_traces']\n",
    "sns.histplot(plot_data.scheduled_time_s)\n",
    "plt.title(f\"Scheduled Travel Time (s) (KCM) [{np.min(plot_data['scheduled_time_s'])}, {np.max(plot_data['scheduled_time_s'])}]\")\n",
    "plt.xlabel(\"Travel Time (s)\")\n",
    "plt.savefig(\"../plots/kcm_scheduled_time_dist.png\")"
   ]
  },
  {
   "cell_type": "code",
   "execution_count": null,
   "metadata": {},
   "outputs": [],
   "source": [
    "# Histogram of scheduled travel times\n",
    "plot_data = atb_inputs['train_traces']\n",
    "sns.histplot(plot_data.scheduled_time_s)\n",
    "plt.title(f\"Scheduled Travel Time (s) (AtB) [{np.min(plot_data['scheduled_time_s'])}, {np.max(plot_data['scheduled_time_s'])}]\")\n",
    "plt.xlabel(\"Travel Time (s)\")\n",
    "plt.savefig(\"../plots/atb_scheduled_time_dist.png\")"
   ]
  },
  {
   "cell_type": "code",
   "execution_count": null,
   "metadata": {},
   "outputs": [],
   "source": [
    "# Shingle distance\n",
    "metric = kcm_inputs['train_traces'].groupby('shingle_id').sum(numeric_only=True)['dist_calc_m']\n",
    "sns.histplot(metric)\n",
    "plt.title(f\"Shingle Distances (KCM) [{np.min(metric)}, {np.round(np.max(metric))}]\")\n",
    "plt.xlabel(\"Travel Dist (m)\")\n",
    "plt.savefig(\"../plots/kcm_shingle_dists.png\")"
   ]
  },
  {
   "cell_type": "code",
   "execution_count": null,
   "metadata": {},
   "outputs": [],
   "source": [
    "# Shingle distance\n",
    "metric = atb_inputs['train_traces'].groupby('shingle_id').sum(numeric_only=True)['dist_calc_m']\n",
    "sns.histplot(metric)\n",
    "plt.title(f\"Shingle Distances (AtB) [{np.min(metric)}, {np.round(np.max(metric))}]\")\n",
    "plt.xlabel(\"Travel Dist (m)\")\n",
    "plt.savefig(\"../plots/atb_shingle_dists.png\")"
   ]
  },
  {
   "cell_type": "code",
   "execution_count": null,
   "metadata": {},
   "outputs": [],
   "source": [
    "# Shingle travel time\n",
    "metric = kcm_inputs['train_traces'].groupby('shingle_id').last()['time_cumulative_s']\n",
    "sns.histplot(metric)\n",
    "plt.title(f\"Shingle Travel Times (KCM) [{np.min(metric)}, {np.round(np.max(metric))}]\")\n",
    "plt.xlabel(\"Travel Time (s)\")\n",
    "plt.savefig(\"../plots/kcm_shingle_times.png\")"
   ]
  },
  {
   "cell_type": "code",
   "execution_count": null,
   "metadata": {},
   "outputs": [],
   "source": [
    "# Shingle travel time\n",
    "metric = atb_inputs['train_traces'].groupby('shingle_id').last()['time_cumulative_s']\n",
    "sns.histplot(metric)\n",
    "plt.title(f\"Shingle Travel Times (AtB) [{np.min(metric)}, {np.round(np.max(metric))}]\")\n",
    "plt.xlabel(\"Travel Time (s)\")\n",
    "plt.savefig(\"../plots/atb_shingle_times.png\")"
   ]
  },
  {
   "cell_type": "code",
   "execution_count": null,
   "metadata": {},
   "outputs": [],
   "source": [
    "# Points per trajectory\n",
    "metric = kcm_inputs['train_traces'].groupby(['shingle_id']).count()['lat']\n",
    "sns.histplot(metric)\n",
    "plt.title(f\"Observations per Shingle (KCM) [{np.min(metric)}, {np.round(np.max(metric))}]\")\n",
    "plt.xlabel(\"Observations (n)\")\n",
    "plt.savefig(\"../plots/kcm_shingle_n.png\")"
   ]
  },
  {
   "cell_type": "code",
   "execution_count": null,
   "metadata": {},
   "outputs": [],
   "source": [
    "# Points per trajectory\n",
    "metric = atb_inputs['train_traces'].groupby(['shingle_id']).count()['lat']\n",
    "sns.histplot(metric)\n",
    "plt.title(f\"Observations per Shingle (AtB) [{np.min(metric)}, {np.round(np.max(metric))}]\")\n",
    "plt.xlabel(\"Observations (n)\")\n",
    "plt.savefig(\"../plots/atb_shingle_n.png\")"
   ]
  },
  {
   "cell_type": "code",
   "execution_count": null,
   "metadata": {},
   "outputs": [],
   "source": [
    "# # Histogram of bus travel times in schedule\n",
    "# gtfs_data = kcm_inputs['gtfs_data']\n",
    "# x = gtfs_data[['trip_id','arrival_s']]\n",
    "# y = gtfs_data[['trip_id','arrival_s']].shift()\n",
    "# y.columns = [colname+\"_shift\" for colname in y.columns]\n",
    "# z = pd.concat([x,y], axis=1)\n",
    "# z = z[z['trip_id']==z['trip_id_shift']]\n",
    "# z['tt'] = z['arrival_s'] - z['arrival_s_shift']\n",
    "# z = z[z['tt']<=250]\n",
    "# z = z.dropna()\n",
    "# sns.histplot(z.tt)\n",
    "# plt.title(f\"Stop Arrival Gaps (KCM) [{np.min(z['tt'])}, {np.max(z['tt'])}]\")\n",
    "# plt.xlabel(\"Travel Time (s)\")\n",
    "# plt.axvline(30, 0.0, 20000, color=\"black\")\n",
    "# plt.savefig(\"../plots/kcm_gtfs_arrival_gaps.png\")"
   ]
  },
  {
   "cell_type": "code",
   "execution_count": null,
   "metadata": {},
   "outputs": [],
   "source": [
    "# # Histogram of bus travel times in schedule\n",
    "# gtfs_data = atb_inputs['gtfs_data']\n",
    "\n",
    "# x = gtfs_data[['trip_id','arrival_s']]\n",
    "# y = gtfs_data[['trip_id','arrival_s']].shift()\n",
    "# y.columns = [colname+\"_shift\" for colname in y.columns]\n",
    "# z = pd.concat([x,y], axis=1)\n",
    "# z = z[z['trip_id']==z['trip_id_shift']]\n",
    "# z['tt'] = z['arrival_s'] - z['arrival_s_shift']\n",
    "# z = z[z['tt']<=250]\n",
    "# z = z.dropna()\n",
    "# sns.histplot(z.tt)\n",
    "# plt.title(f\"Stop Arrival Gaps (AtB) [{np.min(z['tt'])}, {np.max(z['tt'])}]\")\n",
    "# plt.xlabel(\"Travel Time (s)\")\n",
    "# plt.axvline(30, 0.0, 20000, color=\"black\")\n",
    "# plt.savefig(\"../plots/atb_gtfs_arrival_gaps.png\")"
   ]
  },
  {
   "cell_type": "code",
   "execution_count": null,
   "metadata": {},
   "outputs": [],
   "source": [
    "# Adjacent trip analysis"
   ]
  },
  {
   "cell_type": "code",
   "execution_count": null,
   "metadata": {},
   "outputs": [],
   "source": [
    "# # Run parameters\n",
    "# shingle_sample_size = 200\n",
    "# d_buffers = np.linspace(1,1000,20)\n",
    "# t_buffers = np.linspace(1,60*20,20)\n",
    "# b_buffer = None\n",
    "# orthogonal = False\n",
    "\n",
    "# # Look at speed correlation between adjacent bus trips\n",
    "# if NETWORK==\"kcm\":\n",
    "#     traces = kcm_inputs['test_traces']\n",
    "# else:\n",
    "#     traces = atb_inputs['test_traces']\n",
    "# # Look at only a single hour for the sake of speed (assumes loaded test data comes from single day)\n",
    "# traces = traces[traces.time<10*60]\n",
    "# traces = traces[traces.time>=9*60]\n",
    "# shingle_ids = pd.unique(traces['shingle_id'])\n",
    "# shingle_id_sample = np.random.choice(shingle_ids, shingle_sample_size, replace=False)\n",
    "\n",
    "# # Test shingle data against all other data\n",
    "# shingle_traces = traces[traces['shingle_id'].isin(shingle_id_sample)][['x','y','locationtime','bearing','speed_m_s','shingle_id']]\n",
    "# shingle_groups = shingle_traces.groupby('shingle_id')\n",
    "# adj_traces = traces[~traces['shingle_id'].isin(shingle_id_sample)][['x','y','locationtime','bearing','speed_m_s']].values\n",
    "# # Save results for each shingle, and buffer combination\n",
    "# targets_res = np.zeros((len(shingle_id_sample), len(d_buffers), len(t_buffers)))\n",
    "# preds_res = np.zeros((len(shingle_id_sample), len(d_buffers), len(t_buffers)))\n",
    "\n",
    "# # Parallel: 1min with 200 samples, 20x20 buffers, 1hr data\n",
    "# # Each item in the results corresponds to a distance buffer; it has n subitems, 1 for each time buffer\n",
    "# # Within a d-t buffer, there are 4 values; (targets, preds, d_buffer idx, t_buffer idx)\n",
    "# def parallel_get_metrics(d):\n",
    "#     dist_buffer = d_buffers[d]\n",
    "#     results = []\n",
    "#     for t, t_buffer in enumerate(t_buffers):\n",
    "#         res = shingle_groups.apply(shape_utils.get_adjacent_metric, adj_traces, dist_buffer, t_buffer, b_buffer=b_buffer, orthogonal=orthogonal)\n",
    "#         targets = np.array([x[0] for x in res])\n",
    "#         preds = np.array([x[1] for x in res])\n",
    "#         results.append((targets, preds, d, t))\n",
    "#     return results\n",
    "# res_parallel = Parallel(n_jobs=-2)(delayed(parallel_get_metrics)(x) for x in range(len(d_buffers)))\n",
    "\n",
    "# # Expand parallel adjacent metric results\n",
    "# for d_idx in range(len(res_parallel)):\n",
    "#     for t_idx in range(len(res_parallel[0])):\n",
    "#         targets = res_parallel[d_idx][t_idx][0]\n",
    "#         preds = res_parallel[d_idx][t_idx][1]\n",
    "#         targets_res[:,d_idx,t_idx] = targets\n",
    "#         preds_res[:,d_idx,t_idx] = preds\n",
    "# # Get R2 value for each combination of preds and targets and for each d and t buffer\n",
    "# r_values = np.empty((preds_res.shape[1], preds_res.shape[2]))\n",
    "# slope_mean = 0.0\n",
    "# slope_ct = 0\n",
    "# for d in range(preds_res.shape[1]):\n",
    "#     for t in range(preds_res.shape[2]):\n",
    "#         try:\n",
    "#             non_nan_preds = preds_res[:,d,t][~np.isnan(preds_res[:,d,t])]\n",
    "#             non_nan_targs = targets_res[:,d,t][~np.isnan(preds_res[:,d,t])]\n",
    "#             if len(non_nan_preds)>1:\n",
    "#                 slope, intercept, r_value, p_value, std_err = scipy.stats.linregress(non_nan_preds, non_nan_targs)\n",
    "#                 r_values[d,t] = r_value**2\n",
    "#                 slope_mean += slope\n",
    "#                 slope_ct += 1\n",
    "#             else:\n",
    "#                 r_values[d,t] = np.nan\n",
    "#         except:\n",
    "#             r_values[d,t] = np.nan\n",
    "            \n",
    "# # Plot results for all d/t combos\n",
    "# print(f\"Average slope: {slope_mean / slope_ct}\")\n",
    "# fig, ax = plt.subplots()\n",
    "# im = ax.imshow(r_values, origin=\"lower\", cmap=\"plasma\")\n",
    "# fig.suptitle(\"R2 of Linear Fit to Mean Adjacent Speeds\")\n",
    "# ax.set_title(f\"B={b_buffer} deg, Orth={str(orthogonal)}, Net={NETWORK}\")\n",
    "# ax.set_xlabel(\"Time (s)\")\n",
    "# ax.set_xticks([x for x in range(len(t_buffers))])\n",
    "# ax.set_xticklabels([str(int(x)) for x in t_buffers], rotation=45)\n",
    "# ax.set_ylabel(\"Distance (m)\")\n",
    "# ax.set_yticks([y for y in range(len(d_buffers))])\n",
    "# ax.set_yticklabels([str(int(y)) for y in d_buffers])\n",
    "# cbar = fig.colorbar(im, ax=ax)\n",
    "# plt.draw()\n",
    "# plt.savefig(f\"../plots/R2_adj_{b_buffer}_{str(orthogonal)}_{NETWORK}.png\")\n",
    "# plt.show()"
   ]
  }
 ],
 "metadata": {
  "kernelspec": {
   "display_name": "valle_m1",
   "language": "python",
   "name": "python3"
  },
  "language_info": {
   "codemirror_mode": {
    "name": "ipython",
    "version": 3
   },
   "file_extension": ".py",
   "mimetype": "text/x-python",
   "name": "python",
   "nbconvert_exporter": "python",
   "pygments_lexer": "ipython3",
   "version": "3.9.16"
  },
  "orig_nbformat": 4,
  "vscode": {
   "interpreter": {
    "hash": "b30fe1de1713ca8e7537eef068b13a2de77ded03f86aab2e80ea73416dd3d704"
   }
  }
 },
 "nbformat": 4,
 "nbformat_minor": 2
}
