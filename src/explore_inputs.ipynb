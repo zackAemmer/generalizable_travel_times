{
 "cells": [
  {
   "cell_type": "code",
   "execution_count": 1,
   "metadata": {},
   "outputs": [],
   "source": [
    "from datetime import datetime\n",
    "import itertools\n",
    "import json\n",
    "\n",
    "import importlib\n",
    "import matplotlib.pyplot as plt\n",
    "import numpy as np\n",
    "import pandas as pd\n",
    "import seaborn as sns\n",
    "from sklearn import metrics\n",
    "import torch\n",
    "from torch.utils.data import DataLoader\n",
    "\n",
    "from database import data_utils, data_loader, shape_utils\n",
    "from models import basic_ff\n",
    "import run_models\n",
    "\n",
    "importlib.reload(data_utils)\n",
    "importlib.reload(basic_ff)\n",
    "importlib.reload(data_loader)\n",
    "importlib.reload(shape_utils)\n",
    "\n",
    "RUN_FOLDER = \"../results/3_mo_cross_val/\""
   ]
  },
  {
   "cell_type": "code",
   "execution_count": 2,
   "metadata": {},
   "outputs": [],
   "source": [
    "train_traces = data_utils.load_pkl(RUN_FOLDER + \"kcm/\" + \"train_traces.pkl\")\n",
    "test_traces = data_utils.load_pkl(RUN_FOLDER + \"kcm/\" + \"test_traces.pkl\")\n",
    "with open(RUN_FOLDER + \"kcm/deeptte_formatted/\" + \"config.json\") as f:\n",
    "    config = json.load(f)\n",
    "gtfs_data = data_utils.merge_gtfs_files(\".\" + config['gtfs_folder'])"
   ]
  },
  {
   "cell_type": "code",
   "execution_count": 3,
   "metadata": {},
   "outputs": [
    {
     "data": {
      "text/html": [
       "<div>\n",
       "<style scoped>\n",
       "    .dataframe tbody tr th:only-of-type {\n",
       "        vertical-align: middle;\n",
       "    }\n",
       "\n",
       "    .dataframe tbody tr th {\n",
       "        vertical-align: top;\n",
       "    }\n",
       "\n",
       "    .dataframe thead th {\n",
       "        text-align: right;\n",
       "    }\n",
       "</style>\n",
       "<table border=\"1\" class=\"dataframe\">\n",
       "  <thead>\n",
       "    <tr style=\"text-align: right;\">\n",
       "      <th></th>\n",
       "      <th>trip_id</th>\n",
       "      <th>file</th>\n",
       "      <th>locationtime</th>\n",
       "      <th>lat</th>\n",
       "      <th>lon</th>\n",
       "      <th>vehicle_id</th>\n",
       "      <th>speed_m_s</th>\n",
       "      <th>dist_calc_m</th>\n",
       "      <th>time_calc_s</th>\n",
       "      <th>dist_calc_km</th>\n",
       "      <th>...</th>\n",
       "      <th>timeID</th>\n",
       "      <th>timeID_s</th>\n",
       "      <th>shingle_id</th>\n",
       "      <th>stop_dist_km</th>\n",
       "      <th>stop_arrival_s</th>\n",
       "      <th>stop_lon</th>\n",
       "      <th>stop_lat</th>\n",
       "      <th>trip_start_timeID_s</th>\n",
       "      <th>scheduled_time_s</th>\n",
       "      <th>vehicle_id_recode</th>\n",
       "    </tr>\n",
       "  </thead>\n",
       "  <tbody>\n",
       "    <tr>\n",
       "      <th>0</th>\n",
       "      <td>478065569</td>\n",
       "      <td>2022_01_02.pkl</td>\n",
       "      <td>1641128355</td>\n",
       "      <td>47.401463</td>\n",
       "      <td>-122.297646</td>\n",
       "      <td>6105.0</td>\n",
       "      <td>1.592291</td>\n",
       "      <td>46.176435</td>\n",
       "      <td>29.0</td>\n",
       "      <td>0.046176</td>\n",
       "      <td>...</td>\n",
       "      <td>299</td>\n",
       "      <td>17955</td>\n",
       "      <td>0</td>\n",
       "      <td>0.011051</td>\n",
       "      <td>18462</td>\n",
       "      <td>-122.295349</td>\n",
       "      <td>47.435078</td>\n",
       "      <td>17955</td>\n",
       "      <td>507</td>\n",
       "      <td>1100</td>\n",
       "    </tr>\n",
       "    <tr>\n",
       "      <th>1</th>\n",
       "      <td>478065569</td>\n",
       "      <td>2022_01_02.pkl</td>\n",
       "      <td>1641128401</td>\n",
       "      <td>47.408894</td>\n",
       "      <td>-122.298058</td>\n",
       "      <td>6105.0</td>\n",
       "      <td>9.649471</td>\n",
       "      <td>443.875669</td>\n",
       "      <td>46.0</td>\n",
       "      <td>0.443876</td>\n",
       "      <td>...</td>\n",
       "      <td>300</td>\n",
       "      <td>18001</td>\n",
       "      <td>0</td>\n",
       "      <td>0.011051</td>\n",
       "      <td>18462</td>\n",
       "      <td>-122.295349</td>\n",
       "      <td>47.435078</td>\n",
       "      <td>17955</td>\n",
       "      <td>507</td>\n",
       "      <td>1100</td>\n",
       "    </tr>\n",
       "    <tr>\n",
       "      <th>2</th>\n",
       "      <td>478065569</td>\n",
       "      <td>2022_01_02.pkl</td>\n",
       "      <td>1641128454</td>\n",
       "      <td>47.414848</td>\n",
       "      <td>-122.297264</td>\n",
       "      <td>6105.0</td>\n",
       "      <td>6.879754</td>\n",
       "      <td>364.626941</td>\n",
       "      <td>53.0</td>\n",
       "      <td>0.364627</td>\n",
       "      <td>...</td>\n",
       "      <td>300</td>\n",
       "      <td>18054</td>\n",
       "      <td>0</td>\n",
       "      <td>0.011051</td>\n",
       "      <td>18462</td>\n",
       "      <td>-122.295349</td>\n",
       "      <td>47.435078</td>\n",
       "      <td>17955</td>\n",
       "      <td>507</td>\n",
       "      <td>1100</td>\n",
       "    </tr>\n",
       "    <tr>\n",
       "      <th>3</th>\n",
       "      <td>478065569</td>\n",
       "      <td>2022_01_02.pkl</td>\n",
       "      <td>1641128472</td>\n",
       "      <td>47.414902</td>\n",
       "      <td>-122.297256</td>\n",
       "      <td>6105.0</td>\n",
       "      <td>0.182475</td>\n",
       "      <td>3.284542</td>\n",
       "      <td>18.0</td>\n",
       "      <td>0.003285</td>\n",
       "      <td>...</td>\n",
       "      <td>301</td>\n",
       "      <td>18072</td>\n",
       "      <td>0</td>\n",
       "      <td>0.011051</td>\n",
       "      <td>18462</td>\n",
       "      <td>-122.295349</td>\n",
       "      <td>47.435078</td>\n",
       "      <td>17955</td>\n",
       "      <td>507</td>\n",
       "      <td>1100</td>\n",
       "    </tr>\n",
       "    <tr>\n",
       "      <th>4</th>\n",
       "      <td>478065569</td>\n",
       "      <td>2022_01_02.pkl</td>\n",
       "      <td>1641128560</td>\n",
       "      <td>47.423382</td>\n",
       "      <td>-122.296181</td>\n",
       "      <td>6105.0</td>\n",
       "      <td>21.575930</td>\n",
       "      <td>517.822327</td>\n",
       "      <td>24.0</td>\n",
       "      <td>0.517822</td>\n",
       "      <td>...</td>\n",
       "      <td>302</td>\n",
       "      <td>18160</td>\n",
       "      <td>0</td>\n",
       "      <td>0.011051</td>\n",
       "      <td>18462</td>\n",
       "      <td>-122.295349</td>\n",
       "      <td>47.435078</td>\n",
       "      <td>17955</td>\n",
       "      <td>507</td>\n",
       "      <td>1100</td>\n",
       "    </tr>\n",
       "  </tbody>\n",
       "</table>\n",
       "<p>5 rows × 25 columns</p>\n",
       "</div>"
      ],
      "text/plain": [
       "     trip_id            file  locationtime        lat         lon vehicle_id  \\\n",
       "0  478065569  2022_01_02.pkl    1641128355  47.401463 -122.297646     6105.0   \n",
       "1  478065569  2022_01_02.pkl    1641128401  47.408894 -122.298058     6105.0   \n",
       "2  478065569  2022_01_02.pkl    1641128454  47.414848 -122.297264     6105.0   \n",
       "3  478065569  2022_01_02.pkl    1641128472  47.414902 -122.297256     6105.0   \n",
       "4  478065569  2022_01_02.pkl    1641128560  47.423382 -122.296181     6105.0   \n",
       "\n",
       "   speed_m_s  dist_calc_m  time_calc_s  dist_calc_km  ...  timeID  timeID_s  \\\n",
       "0   1.592291    46.176435         29.0      0.046176  ...     299     17955   \n",
       "1   9.649471   443.875669         46.0      0.443876  ...     300     18001   \n",
       "2   6.879754   364.626941         53.0      0.364627  ...     300     18054   \n",
       "3   0.182475     3.284542         18.0      0.003285  ...     301     18072   \n",
       "4  21.575930   517.822327         24.0      0.517822  ...     302     18160   \n",
       "\n",
       "  shingle_id  stop_dist_km  stop_arrival_s    stop_lon   stop_lat  \\\n",
       "0          0      0.011051           18462 -122.295349  47.435078   \n",
       "1          0      0.011051           18462 -122.295349  47.435078   \n",
       "2          0      0.011051           18462 -122.295349  47.435078   \n",
       "3          0      0.011051           18462 -122.295349  47.435078   \n",
       "4          0      0.011051           18462 -122.295349  47.435078   \n",
       "\n",
       "   trip_start_timeID_s  scheduled_time_s  vehicle_id_recode  \n",
       "0                17955               507               1100  \n",
       "1                17955               507               1100  \n",
       "2                17955               507               1100  \n",
       "3                17955               507               1100  \n",
       "4                17955               507               1100  \n",
       "\n",
       "[5 rows x 25 columns]"
      ]
     },
     "execution_count": 3,
     "metadata": {},
     "output_type": "execute_result"
    }
   ],
   "source": [
    "train_traces.head()"
   ]
  },
  {
   "cell_type": "code",
   "execution_count": 4,
   "metadata": {},
   "outputs": [
    {
     "data": {
      "text/html": [
       "<div>\n",
       "<style scoped>\n",
       "    .dataframe tbody tr th:only-of-type {\n",
       "        vertical-align: middle;\n",
       "    }\n",
       "\n",
       "    .dataframe tbody tr th {\n",
       "        vertical-align: top;\n",
       "    }\n",
       "\n",
       "    .dataframe thead th {\n",
       "        text-align: right;\n",
       "    }\n",
       "</style>\n",
       "<table border=\"1\" class=\"dataframe\">\n",
       "  <thead>\n",
       "    <tr style=\"text-align: right;\">\n",
       "      <th></th>\n",
       "      <th>route_id</th>\n",
       "      <th>service_id</th>\n",
       "      <th>trip_id</th>\n",
       "      <th>trip_headsign</th>\n",
       "      <th>trip_short_name</th>\n",
       "      <th>direction_id</th>\n",
       "      <th>block_id</th>\n",
       "      <th>shape_id</th>\n",
       "      <th>peak_flag</th>\n",
       "      <th>fare_id</th>\n",
       "      <th>...</th>\n",
       "      <th>stop_name</th>\n",
       "      <th>stop_desc</th>\n",
       "      <th>stop_lat</th>\n",
       "      <th>stop_lon</th>\n",
       "      <th>zone_id</th>\n",
       "      <th>stop_url</th>\n",
       "      <th>location_type</th>\n",
       "      <th>parent_station</th>\n",
       "      <th>stop_timezone</th>\n",
       "      <th>arrival_s</th>\n",
       "    </tr>\n",
       "  </thead>\n",
       "  <tbody>\n",
       "    <tr>\n",
       "      <th>0</th>\n",
       "      <td>100129</td>\n",
       "      <td>104497</td>\n",
       "      <td>347458169</td>\n",
       "      <td>Bellevue Via I-405</td>\n",
       "      <td>LOCAL</td>\n",
       "      <td>1</td>\n",
       "      <td>6200507</td>\n",
       "      <td>20237002</td>\n",
       "      <td>0</td>\n",
       "      <td>101</td>\n",
       "      <td>...</td>\n",
       "      <td>Woodinville Park And Ride</td>\n",
       "      <td>NaN</td>\n",
       "      <td>47.756782</td>\n",
       "      <td>-122.151398</td>\n",
       "      <td>19</td>\n",
       "      <td>NaN</td>\n",
       "      <td>0</td>\n",
       "      <td>NaN</td>\n",
       "      <td>America/Los_Angeles</td>\n",
       "      <td>24720</td>\n",
       "    </tr>\n",
       "    <tr>\n",
       "      <th>226</th>\n",
       "      <td>100129</td>\n",
       "      <td>104497</td>\n",
       "      <td>347458169</td>\n",
       "      <td>Bellevue Via I-405</td>\n",
       "      <td>LOCAL</td>\n",
       "      <td>1</td>\n",
       "      <td>6200507</td>\n",
       "      <td>20237002</td>\n",
       "      <td>0</td>\n",
       "      <td>101</td>\n",
       "      <td>...</td>\n",
       "      <td>138th Pl NE &amp; NE 178th Pl</td>\n",
       "      <td>NaN</td>\n",
       "      <td>47.756855</td>\n",
       "      <td>-122.155403</td>\n",
       "      <td>19</td>\n",
       "      <td>NaN</td>\n",
       "      <td>0</td>\n",
       "      <td>NaN</td>\n",
       "      <td>America/Los_Angeles</td>\n",
       "      <td>24768</td>\n",
       "    </tr>\n",
       "    <tr>\n",
       "      <th>298</th>\n",
       "      <td>100129</td>\n",
       "      <td>104497</td>\n",
       "      <td>347458169</td>\n",
       "      <td>Bellevue Via I-405</td>\n",
       "      <td>LOCAL</td>\n",
       "      <td>1</td>\n",
       "      <td>6200507</td>\n",
       "      <td>20237002</td>\n",
       "      <td>0</td>\n",
       "      <td>101</td>\n",
       "      <td>...</td>\n",
       "      <td>138th Pl NE &amp; NE 175th St</td>\n",
       "      <td>NaN</td>\n",
       "      <td>47.754986</td>\n",
       "      <td>-122.155319</td>\n",
       "      <td>19</td>\n",
       "      <td>NaN</td>\n",
       "      <td>0</td>\n",
       "      <td>NaN</td>\n",
       "      <td>America/Los_Angeles</td>\n",
       "      <td>24793</td>\n",
       "    </tr>\n",
       "    <tr>\n",
       "      <th>370</th>\n",
       "      <td>100129</td>\n",
       "      <td>104497</td>\n",
       "      <td>347458169</td>\n",
       "      <td>Bellevue Via I-405</td>\n",
       "      <td>LOCAL</td>\n",
       "      <td>1</td>\n",
       "      <td>6200507</td>\n",
       "      <td>20237002</td>\n",
       "      <td>0</td>\n",
       "      <td>101</td>\n",
       "      <td>...</td>\n",
       "      <td>NE 175th St &amp; 135th Ave NE</td>\n",
       "      <td>NaN</td>\n",
       "      <td>47.754551</td>\n",
       "      <td>-122.159569</td>\n",
       "      <td>19</td>\n",
       "      <td>NaN</td>\n",
       "      <td>0</td>\n",
       "      <td>NaN</td>\n",
       "      <td>America/Los_Angeles</td>\n",
       "      <td>24839</td>\n",
       "    </tr>\n",
       "    <tr>\n",
       "      <th>384</th>\n",
       "      <td>100129</td>\n",
       "      <td>104497</td>\n",
       "      <td>347458169</td>\n",
       "      <td>Bellevue Via I-405</td>\n",
       "      <td>LOCAL</td>\n",
       "      <td>1</td>\n",
       "      <td>6200507</td>\n",
       "      <td>20237002</td>\n",
       "      <td>0</td>\n",
       "      <td>101</td>\n",
       "      <td>...</td>\n",
       "      <td>131st Ave NE &amp; NE 175th St</td>\n",
       "      <td>NaN</td>\n",
       "      <td>47.754749</td>\n",
       "      <td>-122.165237</td>\n",
       "      <td>19</td>\n",
       "      <td>NaN</td>\n",
       "      <td>0</td>\n",
       "      <td>NaN</td>\n",
       "      <td>America/Los_Angeles</td>\n",
       "      <td>24894</td>\n",
       "    </tr>\n",
       "  </tbody>\n",
       "</table>\n",
       "<p>5 rows × 30 columns</p>\n",
       "</div>"
      ],
      "text/plain": [
       "     route_id  service_id    trip_id       trip_headsign trip_short_name  \\\n",
       "0      100129      104497  347458169  Bellevue Via I-405           LOCAL   \n",
       "226    100129      104497  347458169  Bellevue Via I-405           LOCAL   \n",
       "298    100129      104497  347458169  Bellevue Via I-405           LOCAL   \n",
       "370    100129      104497  347458169  Bellevue Via I-405           LOCAL   \n",
       "384    100129      104497  347458169  Bellevue Via I-405           LOCAL   \n",
       "\n",
       "     direction_id  block_id  shape_id  peak_flag  fare_id  ...  \\\n",
       "0               1   6200507  20237002          0      101  ...   \n",
       "226             1   6200507  20237002          0      101  ...   \n",
       "298             1   6200507  20237002          0      101  ...   \n",
       "370             1   6200507  20237002          0      101  ...   \n",
       "384             1   6200507  20237002          0      101  ...   \n",
       "\n",
       "                      stop_name stop_desc   stop_lat    stop_lon zone_id  \\\n",
       "0     Woodinville Park And Ride       NaN  47.756782 -122.151398      19   \n",
       "226   138th Pl NE & NE 178th Pl       NaN  47.756855 -122.155403      19   \n",
       "298   138th Pl NE & NE 175th St       NaN  47.754986 -122.155319      19   \n",
       "370  NE 175th St & 135th Ave NE       NaN  47.754551 -122.159569      19   \n",
       "384  131st Ave NE & NE 175th St       NaN  47.754749 -122.165237      19   \n",
       "\n",
       "     stop_url  location_type  parent_station        stop_timezone  arrival_s  \n",
       "0         NaN              0             NaN  America/Los_Angeles      24720  \n",
       "226       NaN              0             NaN  America/Los_Angeles      24768  \n",
       "298       NaN              0             NaN  America/Los_Angeles      24793  \n",
       "370       NaN              0             NaN  America/Los_Angeles      24839  \n",
       "384       NaN              0             NaN  America/Los_Angeles      24894  \n",
       "\n",
       "[5 rows x 30 columns]"
      ]
     },
     "execution_count": 4,
     "metadata": {},
     "output_type": "execute_result"
    }
   ],
   "source": [
    "gtfs_data.head()"
   ]
  },
  {
   "cell_type": "code",
   "execution_count": 5,
   "metadata": {},
   "outputs": [
    {
     "data": {
      "text/plain": [
       "<matplotlib.lines.Line2D at 0x136b3fdf0>"
      ]
     },
     "execution_count": 5,
     "metadata": {},
     "output_type": "execute_result"
    },
    {
     "data": {
      "image/png": "[encoded data removed]",
      "text/plain": [
       "<Figure size 640x480 with 1 Axes>"
      ]
     },
     "metadata": {},
     "output_type": "display_data"
    }
   ],
   "source": [
    "# Histogram of bus travel times in schedule\n",
    "gtfs_data['arrival_s_prev'] = gtfs_data.groupby('trip_id').shift()[['arrival_s']]\n",
    "gtfs_data_times = gtfs_data[['arrival_s','arrival_s_prev']].dropna()\n",
    "gtfs_data_times['tt'] = gtfs_data_times['arrival_s'] - gtfs_data_times['arrival_s_prev']\n",
    "# Time between bus stops\n",
    "sns.histplot(gtfs_data_times.loc[gtfs_data_times['tt']<250, 'tt'])\n",
    "plt.axvline(30, 0.0, 20000, color=\"black\")"
   ]
  },
  {
   "cell_type": "code",
   "execution_count": 6,
   "metadata": {},
   "outputs": [
    {
     "data": {
      "text/plain": [
       "<AxesSubplot: xlabel='dist_calc_m', ylabel='Count'>"
      ]
     },
     "execution_count": 6,
     "metadata": {},
     "output_type": "execute_result"
    },
    {
     "data": {
      "image/png": "[encoded data removed]",
      "text/plain": [
       "<Figure size 640x480 with 1 Axes>"
      ]
     },
     "metadata": {},
     "output_type": "display_data"
    }
   ],
   "source": [
    "# Shingle distance\n",
    "sns.histplot(train_traces.groupby('shingle_id').sum(numeric_only=True)['dist_calc_m'])"
   ]
  },
  {
   "cell_type": "code",
   "execution_count": 7,
   "metadata": {},
   "outputs": [
    {
     "data": {
      "text/plain": [
       "<AxesSubplot: xlabel='time_cumulative_s', ylabel='Count'>"
      ]
     },
     "execution_count": 7,
     "metadata": {},
     "output_type": "execute_result"
    },
    {
     "data": {
      "image/png": "[encoded data removed]",
      "text/plain": [
       "<Figure size 640x480 with 1 Axes>"
      ]
     },
     "metadata": {},
     "output_type": "display_data"
    }
   ],
   "source": [
    "# Shingle travel time\n",
    "sns.histplot(train_traces.groupby('shingle_id').last()['time_cumulative_s'])"
   ]
  },
  {
   "cell_type": "code",
   "execution_count": 8,
   "metadata": {},
   "outputs": [
    {
     "data": {
      "text/plain": [
       "<AxesSubplot: xlabel='lat', ylabel='Count'>"
      ]
     },
     "execution_count": 8,
     "metadata": {},
     "output_type": "execute_result"
    },
    {
     "data": {
      "image/png": "[encoded data removed]",
      "text/plain": [
       "<Figure size 640x480 with 1 Axes>"
      ]
     },
     "metadata": {},
     "output_type": "display_data"
    }
   ],
   "source": [
    "# Points per trajectory\n",
    "sns.histplot(train_traces.groupby(['shingle_id']).count()['lat'])"
   ]
  },
  {
   "cell_type": "code",
   "execution_count": 33,
   "metadata": {},
   "outputs": [
    {
     "data": {
      "image/png": "[encoded data removed]",
      "text/plain": [
       "<Figure size 640x480 with 1 Axes>"
      ]
     },
     "metadata": {},
     "output_type": "display_data"
    }
   ],
   "source": [
    "# Look at a single trip\n",
    "shingle_num = 8\n",
    "plot_data = train_traces[train_traces['shingle_id']==shingle_num]\n",
    "fig, axes = plt.subplots(1,1)\n",
    "shape_utils.plot_gtfs_trip(axes, plot_data['trip_id'].iloc[0], gtfs_data)\n",
    "shape_utils.plot_gtfsrt_trip(axes, plot_data)"
   ]
  }
 ],
 "metadata": {
  "kernelspec": {
   "display_name": "valle_m1",
   "language": "python",
   "name": "python3"
  },
  "language_info": {
   "codemirror_mode": {
    "name": "ipython",
    "version": 3
   },
   "file_extension": ".py",
   "mimetype": "text/x-python",
   "name": "python",
   "nbconvert_exporter": "python",
   "pygments_lexer": "ipython3",
   "version": "3.10.9"
  },
  "orig_nbformat": 4,
  "vscode": {
   "interpreter": {
    "hash": "b30fe1de1713ca8e7537eef068b13a2de77ded03f86aab2e80ea73416dd3d704"
   }
  }
 },
 "nbformat": 4,
 "nbformat_minor": 2
}
