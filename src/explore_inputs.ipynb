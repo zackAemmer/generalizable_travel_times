{
 "cells": [
  {
   "cell_type": "code",
   "execution_count": null,
   "metadata": {},
   "outputs": [],
   "source": [
    "from datetime import datetime\n",
    "import itertools\n",
    "import json\n",
    "\n",
    "import importlib\n",
    "import matplotlib.pyplot as plt\n",
    "import numpy as np\n",
    "import pandas as pd\n",
    "import plotly.express as px\n",
    "import seaborn as sns\n",
    "from sklearn import metrics\n",
    "import torch\n",
    "from torch.utils.data import DataLoader\n",
    "\n",
    "from database import data_utils, data_loader, shape_utils\n",
    "from models import basic_ff\n",
    "import run_models\n",
    "\n",
    "importlib.reload(data_utils)\n",
    "importlib.reload(basic_ff)\n",
    "importlib.reload(data_loader)\n",
    "importlib.reload(shape_utils)\n",
    "\n",
    "RUN_FOLDER = \"../results/throwaway/\""
   ]
  },
  {
   "cell_type": "code",
   "execution_count": null,
   "metadata": {},
   "outputs": [],
   "source": [
    "train_traces = data_utils.load_pkl(RUN_FOLDER + \"kcm/\" + \"train_traces.pkl\")\n",
    "test_traces = data_utils.load_pkl(RUN_FOLDER + \"kcm/\" + \"test_traces.pkl\")\n",
    "with open(RUN_FOLDER + \"kcm/deeptte_formatted/\" + \"config.json\") as f:\n",
    "    config = json.load(f)\n",
    "gtfs_data = data_utils.merge_gtfs_files(\".\" + config['gtfs_folder'])\n",
    "tte_train_chunks, tte_test = data_utils.load_train_test_data(RUN_FOLDER + \"kcm/deeptte_formatted/\", 5)"
   ]
  },
  {
   "cell_type": "code",
   "execution_count": null,
   "metadata": {},
   "outputs": [],
   "source": [
    "# Histogram of bus travel times in schedule\n",
    "gtfs_data['arrival_s_prev'] = gtfs_data.groupby('trip_id').shift()[['arrival_s']]\n",
    "gtfs_data_times = gtfs_data[['arrival_s','arrival_s_prev']].dropna()\n",
    "gtfs_data_times['tt'] = gtfs_data_times['arrival_s'] - gtfs_data_times['arrival_s_prev']\n",
    "# Time between bus stops\n",
    "sns.histplot(gtfs_data_times.loc[gtfs_data_times['tt']<250, 'tt'])\n",
    "plt.axvline(30, 0.0, 20000, color=\"black\")"
   ]
  },
  {
   "cell_type": "code",
   "execution_count": null,
   "metadata": {},
   "outputs": [],
   "source": [
    "# Shingle distance\n",
    "sns.histplot(train_traces.groupby('shingle_id').sum(numeric_only=True)['dist_calc_m'])"
   ]
  },
  {
   "cell_type": "code",
   "execution_count": null,
   "metadata": {},
   "outputs": [],
   "source": [
    "# Shingle travel time\n",
    "sns.histplot(train_traces.groupby('shingle_id').last()['time_cumulative_s'])"
   ]
  },
  {
   "cell_type": "code",
   "execution_count": null,
   "metadata": {},
   "outputs": [],
   "source": [
    "# Points per trajectory\n",
    "sns.histplot(train_traces.groupby(['shingle_id']).count()['lat'])"
   ]
  }
 ],
 "metadata": {
  "kernelspec": {
   "display_name": "valle_m1",
   "language": "python",
   "name": "python3"
  },
  "language_info": {
   "codemirror_mode": {
    "name": "ipython",
    "version": 3
   },
   "file_extension": ".py",
   "mimetype": "text/x-python",
   "name": "python",
   "nbconvert_exporter": "python",
   "pygments_lexer": "ipython3",
   "version": "3.9.16"
  },
  "orig_nbformat": 4,
  "vscode": {
   "interpreter": {
    "hash": "b30fe1de1713ca8e7537eef068b13a2de77ded03f86aab2e80ea73416dd3d704"
   }
  }
 },
 "nbformat": 4,
 "nbformat_minor": 2
}
