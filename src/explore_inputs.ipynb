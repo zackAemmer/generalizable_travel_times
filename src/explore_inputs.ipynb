{
 "cells": [
  {
   "cell_type": "code",
   "execution_count": null,
   "metadata": {},
   "outputs": [],
   "source": [
    "from datetime import datetime\n",
    "import itertools\n",
    "import json\n",
    "import sys\n",
    "\n",
    "import importlib\n",
    "import matplotlib.animation as animation\n",
    "import matplotlib.pyplot as plt\n",
    "import numpy as np\n",
    "import pandas as pd\n",
    "import plotly.express as px\n",
    "import seaborn as sns\n",
    "from sklearn import metrics\n",
    "from torch.utils.data import DataLoader\n",
    "\n",
    "from utils import data_utils, data_loader, shape_utils\n",
    "from models import basic_ff\n",
    "\n",
    "importlib.reload(data_utils)\n",
    "importlib.reload(basic_ff)\n",
    "importlib.reload(data_loader)\n",
    "importlib.reload(shape_utils)\n",
    "\n",
    "RUN_FOLDER = \"../results/1mo_new_data/\""
   ]
  },
  {
   "cell_type": "code",
   "execution_count": null,
   "metadata": {},
   "outputs": [],
   "source": [
    "kcm_inputs = data_utils.load_run_input_data(RUN_FOLDER, \"kcm/\")\n",
    "atb_inputs = data_utils.load_run_input_data(RUN_FOLDER, \"atb/\")"
   ]
  },
  {
   "cell_type": "code",
   "execution_count": null,
   "metadata": {},
   "outputs": [],
   "source": [
    "# Create grid\n",
    "resolution = 128\n",
    "timestep = 60\n",
    "bbox = [47.420752,-122.440000,47.827248,-122.110950]\n",
    "point_obs = kcm_inputs['train_traces'][['speed_m_s','bearing','lon','lat','timeID_s','file']]\n",
    "point_obs = point_obs[point_obs['file']=='2023_03_02.pkl']\n",
    "point_obs = point_obs.values\n",
    "point_obs = point_obs[:,:5]\n",
    "point_obs = shape_utils.apply_bbox(point_obs, bbox)\n",
    "point_obs = point_obs.astype('float32')\n",
    "point_obs.shape\n",
    "grid_features = shape_utils.create_grid_features(point_obs[:,0], point_obs[:,1], point_obs[:,2], point_obs[:,3], point_obs[:,4], timestep, resolution)\n",
    "print(grid_features.shape) # (xsteps, ysteps, tsteps, channels)\n",
    "print(sys.getsizeof(grid_features)*1e-9)"
   ]
  },
  {
   "cell_type": "code",
   "execution_count": null,
   "metadata": {},
   "outputs": [],
   "source": [
    "# Plot all channels\n",
    "data = grid_features[:,:,600:1200,:]\n",
    "fig, axes = plt.subplots(2,2)\n",
    "axes = axes.reshape(-1)\n",
    "fig.tight_layout()\n",
    "\n",
    "# Define the update function that will be called for each frame of the animation\n",
    "def update(frame):\n",
    "    fig.suptitle(f\"Frame {frame}\")\n",
    "    for i, ax in enumerate(axes):\n",
    "        ax.clear()\n",
    "        ax.imshow(data[:,:,frame,i], cmap='plasma', vmin=0.0, vmax=35.0)\n",
    "\n",
    "# Create the animation object\n",
    "ani = animation.FuncAnimation(fig, update, frames=data.shape[2])\n",
    "\n",
    "# Save the animation object\n",
    "ani.save(f\"../plots/grid_speeds_kcm.mp4\", fps=10, dpi=300)"
   ]
  },
  {
   "cell_type": "code",
   "execution_count": null,
   "metadata": {},
   "outputs": [],
   "source": [
    "# Create grid\n",
    "resolution = 128\n",
    "timestep = 60\n",
    "bbox = [63.333176,10.293082,63.464390,10.558090]\n",
    "point_obs = atb_inputs['train_traces'][['speed_m_s','bearing','lon','lat','timeID_s','file']]\n",
    "point_obs = point_obs[point_obs['file']=='2023_03_02.pkl']\n",
    "point_obs = point_obs.values\n",
    "point_obs = point_obs[:,:5]\n",
    "point_obs = shape_utils.apply_bbox(point_obs, bbox)\n",
    "point_obs = point_obs.astype('float32')\n",
    "grid_features = shape_utils.create_grid_features(point_obs[:,0], point_obs[:,1], point_obs[:,2], point_obs[:,3], point_obs[:,4], timestep, resolution)\n",
    "print(grid_features.shape) # (xsteps, ysteps, tsteps, channels)\n",
    "print(sys.getsizeof(grid_features)*1e-9)"
   ]
  },
  {
   "cell_type": "code",
   "execution_count": null,
   "metadata": {},
   "outputs": [],
   "source": [
    "# Plot all channels\n",
    "data = grid_features[:,:,600:1200,:]\n",
    "fig, axes = plt.subplots(2,2)\n",
    "axes = axes.reshape(-1)\n",
    "fig.tight_layout()\n",
    "\n",
    "# Define the update function that will be called for each frame of the animation\n",
    "def update(frame):\n",
    "    fig.suptitle(f\"Frame {frame}\")\n",
    "    for i, ax in enumerate(axes):\n",
    "        ax.clear()\n",
    "        ax.imshow(data[:,:,frame,i], cmap='plasma', vmin=0.0, vmax=15.0)\n",
    "\n",
    "# Create the animation object\n",
    "ani = animation.FuncAnimation(fig, update, frames=data.shape[2])\n",
    "\n",
    "# Save the animation object\n",
    "ani.save(f\"../plots/grid_speeds_atb.mp4\", fps=10, dpi=300)"
   ]
  },
  {
   "cell_type": "code",
   "execution_count": null,
   "metadata": {},
   "outputs": [],
   "source": [
    "# Looking at just kcm\n",
    "train_traces, test_traces, config, gtfs_data, tte_train_chunks, tte_test = [kcm_inputs[key] for key in kcm_inputs.keys()]\n",
    "# Work with a single trip\n",
    "shingle_data = test_traces[test_traces['shingle_id']==5885]\n",
    "shingle_data.head()\n",
    "# Plot overview of the shingle\n",
    "plot_data = shingle_data\n",
    "fig, axes = plt.subplots(1,1)\n",
    "shape_utils.plot_gtfs_trip(axes, plot_data['trip_id'].iloc[0], gtfs_data)\n",
    "shape_utils.plot_gtfsrt_trip(axes, plot_data)"
   ]
  },
  {
   "cell_type": "code",
   "execution_count": null,
   "metadata": {},
   "outputs": [],
   "source": [
    "# Histogram of scheduled travel times\n",
    "plot_data = kcm_inputs['train_traces']\n",
    "sns.histplot(plot_data.scheduled_time_s)\n",
    "plt.title(f\"Scheduled Travel Time (s) (KCM) [{np.min(plot_data['scheduled_time_s'])}, {np.max(plot_data['scheduled_time_s'])}]\")\n",
    "plt.xlabel(\"Travel Time (s)\")\n",
    "plt.savefig(\"../plots/kcm_scheduled_time_dist.png\")"
   ]
  },
  {
   "cell_type": "code",
   "execution_count": null,
   "metadata": {},
   "outputs": [],
   "source": [
    "# Histogram of scheduled travel times\n",
    "plot_data = atb_inputs['train_traces']\n",
    "sns.histplot(plot_data.scheduled_time_s)\n",
    "plt.title(f\"Scheduled Travel Time (s) (AtB) [{np.min(plot_data['scheduled_time_s'])}, {np.max(plot_data['scheduled_time_s'])}]\")\n",
    "plt.xlabel(\"Travel Time (s)\")\n",
    "plt.savefig(\"../plots/atb_scheduled_time_dist.png\")"
   ]
  },
  {
   "cell_type": "code",
   "execution_count": null,
   "metadata": {},
   "outputs": [],
   "source": [
    "# Histogram of bus travel times in schedule\n",
    "gtfs_data = kcm_inputs['gtfs_data']\n",
    "x = gtfs_data[['trip_id','arrival_s']]\n",
    "y = gtfs_data[['trip_id','arrival_s']].shift()\n",
    "y.columns = [colname+\"_shift\" for colname in y.columns]\n",
    "z = pd.concat([x,y], axis=1)\n",
    "z = z[z['trip_id']==z['trip_id_shift']]\n",
    "z['tt'] = z['arrival_s'] - z['arrival_s_shift']\n",
    "z = z[z['tt']<=250]\n",
    "z = z.dropna()\n",
    "sns.histplot(z.tt)\n",
    "plt.title(f\"Stop Arrival Gaps (KCM) [{np.min(z['tt'])}, {np.max(z['tt'])}]\")\n",
    "plt.xlabel(\"Travel Time (s)\")\n",
    "plt.axvline(30, 0.0, 20000, color=\"black\")\n",
    "plt.savefig(\"../plots/kcm_gtfs_arrival_gaps.png\")"
   ]
  },
  {
   "cell_type": "code",
   "execution_count": null,
   "metadata": {},
   "outputs": [],
   "source": [
    "# Histogram of bus travel times in schedule\n",
    "gtfs_data = atb_inputs['gtfs_data']\n",
    "\n",
    "x = gtfs_data[['trip_id','arrival_s']]\n",
    "y = gtfs_data[['trip_id','arrival_s']].shift()\n",
    "y.columns = [colname+\"_shift\" for colname in y.columns]\n",
    "z = pd.concat([x,y], axis=1)\n",
    "z = z[z['trip_id']==z['trip_id_shift']]\n",
    "z['tt'] = z['arrival_s'] - z['arrival_s_shift']\n",
    "z = z[z['tt']<=250]\n",
    "z = z.dropna()\n",
    "sns.histplot(z.tt)\n",
    "plt.title(f\"Stop Arrival Gaps (AtB) [{np.min(z['tt'])}, {np.max(z['tt'])}]\")\n",
    "plt.xlabel(\"Travel Time (s)\")\n",
    "plt.axvline(30, 0.0, 20000, color=\"black\")\n",
    "plt.savefig(\"../plots/atb_gtfs_arrival_gaps.png\")"
   ]
  },
  {
   "cell_type": "code",
   "execution_count": null,
   "metadata": {},
   "outputs": [],
   "source": [
    "# Shingle distance\n",
    "metric = kcm_inputs['train_traces'].groupby('shingle_id').sum(numeric_only=True)['dist_calc_m']\n",
    "sns.histplot(metric)\n",
    "plt.title(f\"Shingle Distances (KCM) [{np.min(metric)}, {np.round(np.max(metric))}]\")\n",
    "plt.xlabel(\"Travel Dist (m)\")\n",
    "plt.savefig(\"../plots/kcm_shingle_dists.png\")"
   ]
  },
  {
   "cell_type": "code",
   "execution_count": null,
   "metadata": {},
   "outputs": [],
   "source": [
    "# Shingle distance\n",
    "metric = atb_inputs['train_traces'].groupby('shingle_id').sum(numeric_only=True)['dist_calc_m']\n",
    "sns.histplot(metric)\n",
    "plt.title(f\"Shingle Distances (AtB) [{np.min(metric)}, {np.round(np.max(metric))}]\")\n",
    "plt.xlabel(\"Travel Dist (m)\")\n",
    "plt.savefig(\"../plots/atb_shingle_dists.png\")"
   ]
  },
  {
   "cell_type": "code",
   "execution_count": null,
   "metadata": {},
   "outputs": [],
   "source": [
    "# Shingle travel time\n",
    "metric = kcm_inputs['train_traces'].groupby('shingle_id').last()['time_cumulative_s']\n",
    "sns.histplot(metric)\n",
    "plt.title(f\"Shingle Travel Times (KCM) [{np.min(metric)}, {np.round(np.max(metric))}]\")\n",
    "plt.xlabel(\"Travel Time (s)\")\n",
    "plt.savefig(\"../plots/kcm_shingle_times.png\")"
   ]
  },
  {
   "cell_type": "code",
   "execution_count": null,
   "metadata": {},
   "outputs": [],
   "source": [
    "# Shingle travel time\n",
    "metric = atb_inputs['train_traces'].groupby('shingle_id').last()['time_cumulative_s']\n",
    "sns.histplot(metric)\n",
    "plt.title(f\"Shingle Travel Times (AtB) [{np.min(metric)}, {np.round(np.max(metric))}]\")\n",
    "plt.xlabel(\"Travel Time (s)\")\n",
    "plt.savefig(\"../plots/atb_shingle_times.png\")"
   ]
  },
  {
   "cell_type": "code",
   "execution_count": null,
   "metadata": {},
   "outputs": [],
   "source": [
    "# Points per trajectory\n",
    "metric = kcm_inputs['train_traces'].groupby(['shingle_id']).count()['lat']\n",
    "sns.histplot(metric)\n",
    "plt.title(f\"Observations per Shingle (KCM) [{np.min(metric)}, {np.round(np.max(metric))}]\")\n",
    "plt.xlabel(\"Observations (n)\")\n",
    "plt.savefig(\"../plots/kcm_shingle_n.png\")"
   ]
  },
  {
   "cell_type": "code",
   "execution_count": null,
   "metadata": {},
   "outputs": [],
   "source": [
    "# Points per trajectory\n",
    "metric = atb_inputs['train_traces'].groupby(['shingle_id']).count()['lat']\n",
    "sns.histplot(metric)\n",
    "plt.title(f\"Observations per Shingle (AtB) [{np.min(metric)}, {np.round(np.max(metric))}]\")\n",
    "plt.xlabel(\"Observations (n)\")\n",
    "plt.savefig(\"../plots/atb_shingle_n.png\")"
   ]
  }
 ],
 "metadata": {
  "kernelspec": {
   "display_name": "valle_m1",
   "language": "python",
   "name": "python3"
  },
  "language_info": {
   "codemirror_mode": {
    "name": "ipython",
    "version": 3
   },
   "file_extension": ".py",
   "mimetype": "text/x-python",
   "name": "python",
   "nbconvert_exporter": "python",
   "pygments_lexer": "ipython3",
   "version": "3.9.16"
  },
  "orig_nbformat": 4,
  "vscode": {
   "interpreter": {
    "hash": "b30fe1de1713ca8e7537eef068b13a2de77ded03f86aab2e80ea73416dd3d704"
   }
  }
 },
 "nbformat": 4,
 "nbformat_minor": 2
}
