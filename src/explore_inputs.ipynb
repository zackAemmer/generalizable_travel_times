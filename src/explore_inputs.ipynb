{
 "cells": [
  {
   "cell_type": "code",
   "execution_count": 2,
   "metadata": {},
   "outputs": [],
   "source": [
    "from datetime import datetime\n",
    "import itertools\n",
    "import json\n",
    "\n",
    "import importlib\n",
    "import matplotlib.pyplot as plt\n",
    "import numpy as np\n",
    "import pandas as pd\n",
    "import seaborn as sns\n",
    "from sklearn import metrics\n",
    "import torch\n",
    "from torch.utils.data import DataLoader\n",
    "\n",
    "from database import data_utils, data_loader, shape_utils\n",
    "from models import basic_ff\n",
    "import run_models\n",
    "\n",
    "importlib.reload(data_utils)\n",
    "importlib.reload(basic_ff)\n",
    "importlib.reload(data_loader)\n",
    "importlib.reload(shape_utils)\n",
    "\n",
    "RUN_FOLDER = \"../results/throwaway/\""
   ]
  },
  {
   "cell_type": "code",
   "execution_count": 3,
   "metadata": {},
   "outputs": [],
   "source": [
    "train_traces = data_utils.load_pkl(RUN_FOLDER + \"kcm/\" + \"train_traces.pkl\")\n",
    "test_traces = data_utils.load_pkl(RUN_FOLDER + \"kcm/\" + \"test_traces.pkl\")\n",
    "with open(RUN_FOLDER + \"kcm/deeptte_formatted/\" + \"config.json\") as f:\n",
    "    config = json.load(f)\n",
    "gtfs_data = data_utils.merge_gtfs_files(\".\" + config['gtfs_folder'])"
   ]
  },
  {
   "cell_type": "code",
   "execution_count": 20,
   "metadata": {},
   "outputs": [],
   "source": [
    "t_model = data_utils.load_pkl(RUN_FOLDER + \"kcm/models/sch_model_4\" + \".pkl\")\n",
    "tte_train_chunks, tte_test = data_utils.load_train_test_data(RUN_FOLDER + \"kcm/deeptte_formatted/\", 5)"
   ]
  },
  {
   "cell_type": "code",
   "execution_count": 24,
   "metadata": {},
   "outputs": [],
   "source": [
    "labels = [x['time'] for x in tte_test]\n",
    "preds = t_model.predict_simple_sch(tte_test, gtfs_data)"
   ]
  },
  {
   "cell_type": "code",
   "execution_count": 41,
   "metadata": {},
   "outputs": [],
   "source": [
    "stop_dists = [x['stop_dist_km'] for x in tte_test]"
   ]
  },
  {
   "cell_type": "code",
   "execution_count": 45,
   "metadata": {},
   "outputs": [
    {
     "data": {
      "text/plain": [
       "26376"
      ]
     },
     "execution_count": 45,
     "metadata": {},
     "output_type": "execute_result"
    }
   ],
   "source": [
    "tte_test[0]['trip_start_timeID_s']"
   ]
  },
  {
   "cell_type": "code",
   "execution_count": 44,
   "metadata": {},
   "outputs": [
    {
     "data": {
      "text/plain": [
       "dict_keys(['time_gap', 'dist_gap', 'dist', 'lats', 'lngs', 'driverID', 'weekID', 'timeID', 'dateID', 'trip_id', 'file', 'speed_m_s', 'time_calc_s', 'dist_calc_km', 'trip_start_timeID_s', 'timeID_s', 'stop_lat', 'stop_lon', 'stop_dist_km', 'scheduled_time_s', 'time'])"
      ]
     },
     "execution_count": 44,
     "metadata": {},
     "output_type": "execute_result"
    }
   ],
   "source": [
    "tte_test[0].keys()"
   ]
  },
  {
   "cell_type": "code",
   "execution_count": 30,
   "metadata": {},
   "outputs": [
    {
     "data": {
      "text/plain": [
       "0.4980671107187768"
      ]
     },
     "execution_count": 30,
     "metadata": {},
     "output_type": "execute_result"
    }
   ],
   "source": [
    "metrics.mean_absolute_percentage_error(labels, preds)"
   ]
  },
  {
   "cell_type": "code",
   "execution_count": 29,
   "metadata": {},
   "outputs": [
    {
     "data": {
      "text/plain": [
       "<AxesSubplot: ylabel='Count'>"
      ]
     },
     "execution_count": 29,
     "metadata": {},
     "output_type": "execute_result"
    },
    {
     "data": {
      "image/png": "[encoded data removed]",
      "text/plain": [
       "<Figure size 640x480 with 1 Axes>"
      ]
     },
     "metadata": {},
     "output_type": "display_data"
    }
   ],
   "source": [
    "sns.histplot(preds)"
   ]
  },
  {
   "cell_type": "code",
   "execution_count": 28,
   "metadata": {},
   "outputs": [
    {
     "data": {
      "text/plain": [
       "<AxesSubplot: ylabel='Count'>"
      ]
     },
     "execution_count": 28,
     "metadata": {},
     "output_type": "execute_result"
    },
    {
     "data": {
      "image/png": "[encoded data removed]",
      "text/plain": [
       "<Figure size 640x480 with 1 Axes>"
      ]
     },
     "metadata": {},
     "output_type": "display_data"
    }
   ],
   "source": [
    "sns.histplot(labels)"
   ]
  },
  {
   "cell_type": "code",
   "execution_count": 4,
   "metadata": {},
   "outputs": [
    {
     "data": {
      "text/html": [
       "<div>\n",
       "<style scoped>\n",
       "    .dataframe tbody tr th:only-of-type {\n",
       "        vertical-align: middle;\n",
       "    }\n",
       "\n",
       "    .dataframe tbody tr th {\n",
       "        vertical-align: top;\n",
       "    }\n",
       "\n",
       "    .dataframe thead th {\n",
       "        text-align: right;\n",
       "    }\n",
       "</style>\n",
       "<table border=\"1\" class=\"dataframe\">\n",
       "  <thead>\n",
       "    <tr style=\"text-align: right;\">\n",
       "      <th></th>\n",
       "      <th>trip_id</th>\n",
       "      <th>file</th>\n",
       "      <th>locationtime</th>\n",
       "      <th>lat</th>\n",
       "      <th>lon</th>\n",
       "      <th>vehicle_id</th>\n",
       "      <th>speed_m_s</th>\n",
       "      <th>dist_calc_m</th>\n",
       "      <th>time_calc_s</th>\n",
       "      <th>bearing</th>\n",
       "      <th>...</th>\n",
       "      <th>timeID</th>\n",
       "      <th>timeID_s</th>\n",
       "      <th>shingle_id</th>\n",
       "      <th>stop_dist_km</th>\n",
       "      <th>stop_arrival_s</th>\n",
       "      <th>stop_lon</th>\n",
       "      <th>stop_lat</th>\n",
       "      <th>trip_start_timeID_s</th>\n",
       "      <th>scheduled_time_s</th>\n",
       "      <th>vehicle_id_recode</th>\n",
       "    </tr>\n",
       "  </thead>\n",
       "  <tbody>\n",
       "    <tr>\n",
       "      <th>0</th>\n",
       "      <td>34761963</td>\n",
       "      <td>2020_10_24.pkl</td>\n",
       "      <td>1603547169</td>\n",
       "      <td>47.615574</td>\n",
       "      <td>-122.195343</td>\n",
       "      <td>6025.0</td>\n",
       "      <td>6.634283</td>\n",
       "      <td>99.514248</td>\n",
       "      <td>15.0</td>\n",
       "      <td>180.3</td>\n",
       "      <td>...</td>\n",
       "      <td>406</td>\n",
       "      <td>24369</td>\n",
       "      <td>0</td>\n",
       "      <td>0.007803</td>\n",
       "      <td>24300</td>\n",
       "      <td>-122.195358</td>\n",
       "      <td>47.615505</td>\n",
       "      <td>24369</td>\n",
       "      <td>-69</td>\n",
       "      <td>1094</td>\n",
       "    </tr>\n",
       "    <tr>\n",
       "      <th>1</th>\n",
       "      <td>34761963</td>\n",
       "      <td>2020_10_24.pkl</td>\n",
       "      <td>1603547214</td>\n",
       "      <td>47.615963</td>\n",
       "      <td>-122.190948</td>\n",
       "      <td>6025.0</td>\n",
       "      <td>7.382834</td>\n",
       "      <td>332.227550</td>\n",
       "      <td>45.0</td>\n",
       "      <td>357.3</td>\n",
       "      <td>...</td>\n",
       "      <td>406</td>\n",
       "      <td>24414</td>\n",
       "      <td>0</td>\n",
       "      <td>0.492087</td>\n",
       "      <td>24300</td>\n",
       "      <td>-122.195358</td>\n",
       "      <td>47.615505</td>\n",
       "      <td>24369</td>\n",
       "      <td>-69</td>\n",
       "      <td>1094</td>\n",
       "    </tr>\n",
       "    <tr>\n",
       "      <th>2</th>\n",
       "      <td>34761963</td>\n",
       "      <td>2020_10_24.pkl</td>\n",
       "      <td>1603547274</td>\n",
       "      <td>47.617352</td>\n",
       "      <td>-122.189812</td>\n",
       "      <td>6025.0</td>\n",
       "      <td>2.939179</td>\n",
       "      <td>176.350742</td>\n",
       "      <td>60.0</td>\n",
       "      <td>326.9</td>\n",
       "      <td>...</td>\n",
       "      <td>407</td>\n",
       "      <td>24474</td>\n",
       "      <td>0</td>\n",
       "      <td>0.540485</td>\n",
       "      <td>24417</td>\n",
       "      <td>-122.184944</td>\n",
       "      <td>47.61723</td>\n",
       "      <td>24369</td>\n",
       "      <td>48</td>\n",
       "      <td>1094</td>\n",
       "    </tr>\n",
       "    <tr>\n",
       "      <th>3</th>\n",
       "      <td>34761963</td>\n",
       "      <td>2020_10_24.pkl</td>\n",
       "      <td>1603547323</td>\n",
       "      <td>47.617298</td>\n",
       "      <td>-122.184029</td>\n",
       "      <td>6025.0</td>\n",
       "      <td>8.847076</td>\n",
       "      <td>433.506734</td>\n",
       "      <td>49.0</td>\n",
       "      <td>0.3</td>\n",
       "      <td>...</td>\n",
       "      <td>408</td>\n",
       "      <td>24523</td>\n",
       "      <td>0</td>\n",
       "      <td>0.101892</td>\n",
       "      <td>24417</td>\n",
       "      <td>-122.184944</td>\n",
       "      <td>47.61723</td>\n",
       "      <td>24369</td>\n",
       "      <td>48</td>\n",
       "      <td>1094</td>\n",
       "    </tr>\n",
       "    <tr>\n",
       "      <th>4</th>\n",
       "      <td>34761963</td>\n",
       "      <td>2020_10_24.pkl</td>\n",
       "      <td>1603547352</td>\n",
       "      <td>47.617325</td>\n",
       "      <td>-122.179306</td>\n",
       "      <td>6025.0</td>\n",
       "      <td>12.206578</td>\n",
       "      <td>353.990749</td>\n",
       "      <td>29.0</td>\n",
       "      <td>359.8</td>\n",
       "      <td>...</td>\n",
       "      <td>409</td>\n",
       "      <td>24552</td>\n",
       "      <td>0</td>\n",
       "      <td>0.071511</td>\n",
       "      <td>24462</td>\n",
       "      <td>-122.179947</td>\n",
       "      <td>47.61726</td>\n",
       "      <td>24369</td>\n",
       "      <td>93</td>\n",
       "      <td>1094</td>\n",
       "    </tr>\n",
       "  </tbody>\n",
       "</table>\n",
       "<p>5 rows × 26 columns</p>\n",
       "</div>"
      ],
      "text/plain": [
       "    trip_id            file  locationtime        lat         lon vehicle_id  \\\n",
       "0  34761963  2020_10_24.pkl    1603547169  47.615574 -122.195343     6025.0   \n",
       "1  34761963  2020_10_24.pkl    1603547214  47.615963 -122.190948     6025.0   \n",
       "2  34761963  2020_10_24.pkl    1603547274  47.617352 -122.189812     6025.0   \n",
       "3  34761963  2020_10_24.pkl    1603547323  47.617298 -122.184029     6025.0   \n",
       "4  34761963  2020_10_24.pkl    1603547352  47.617325 -122.179306     6025.0   \n",
       "\n",
       "   speed_m_s  dist_calc_m  time_calc_s  bearing  ...  timeID  timeID_s  \\\n",
       "0   6.634283    99.514248         15.0    180.3  ...     406     24369   \n",
       "1   7.382834   332.227550         45.0    357.3  ...     406     24414   \n",
       "2   2.939179   176.350742         60.0    326.9  ...     407     24474   \n",
       "3   8.847076   433.506734         49.0      0.3  ...     408     24523   \n",
       "4  12.206578   353.990749         29.0    359.8  ...     409     24552   \n",
       "\n",
       "   shingle_id stop_dist_km  stop_arrival_s    stop_lon   stop_lat  \\\n",
       "0           0     0.007803           24300 -122.195358  47.615505   \n",
       "1           0     0.492087           24300 -122.195358  47.615505   \n",
       "2           0     0.540485           24417 -122.184944   47.61723   \n",
       "3           0     0.101892           24417 -122.184944   47.61723   \n",
       "4           0     0.071511           24462 -122.179947   47.61726   \n",
       "\n",
       "   trip_start_timeID_s  scheduled_time_s vehicle_id_recode  \n",
       "0                24369               -69              1094  \n",
       "1                24369               -69              1094  \n",
       "2                24369                48              1094  \n",
       "3                24369                48              1094  \n",
       "4                24369                93              1094  \n",
       "\n",
       "[5 rows x 26 columns]"
      ]
     },
     "execution_count": 4,
     "metadata": {},
     "output_type": "execute_result"
    }
   ],
   "source": [
    "train_traces.head()"
   ]
  },
  {
   "cell_type": "code",
   "execution_count": 5,
   "metadata": {},
   "outputs": [
    {
     "data": {
      "text/html": [
       "<div>\n",
       "<style scoped>\n",
       "    .dataframe tbody tr th:only-of-type {\n",
       "        vertical-align: middle;\n",
       "    }\n",
       "\n",
       "    .dataframe tbody tr th {\n",
       "        vertical-align: top;\n",
       "    }\n",
       "\n",
       "    .dataframe thead th {\n",
       "        text-align: right;\n",
       "    }\n",
       "</style>\n",
       "<table border=\"1\" class=\"dataframe\">\n",
       "  <thead>\n",
       "    <tr style=\"text-align: right;\">\n",
       "      <th></th>\n",
       "      <th>route_id</th>\n",
       "      <th>service_id</th>\n",
       "      <th>trip_id</th>\n",
       "      <th>trip_headsign</th>\n",
       "      <th>trip_short_name</th>\n",
       "      <th>direction_id</th>\n",
       "      <th>block_id</th>\n",
       "      <th>shape_id</th>\n",
       "      <th>peak_flag</th>\n",
       "      <th>fare_id</th>\n",
       "      <th>...</th>\n",
       "      <th>stop_name</th>\n",
       "      <th>stop_desc</th>\n",
       "      <th>stop_lat</th>\n",
       "      <th>stop_lon</th>\n",
       "      <th>zone_id</th>\n",
       "      <th>stop_url</th>\n",
       "      <th>location_type</th>\n",
       "      <th>parent_station</th>\n",
       "      <th>stop_timezone</th>\n",
       "      <th>arrival_s</th>\n",
       "    </tr>\n",
       "  </thead>\n",
       "  <tbody>\n",
       "    <tr>\n",
       "      <th>0</th>\n",
       "      <td>100160</td>\n",
       "      <td>128901</td>\n",
       "      <td>34745815</td>\n",
       "      <td>Overlake</td>\n",
       "      <td>LOCAL</td>\n",
       "      <td>0</td>\n",
       "      <td>5891543</td>\n",
       "      <td>11269002</td>\n",
       "      <td>0</td>\n",
       "      <td>101</td>\n",
       "      <td>...</td>\n",
       "      <td>Issaquah Transit Center - Bay 5</td>\n",
       "      <td>NaN</td>\n",
       "      <td>47.542252</td>\n",
       "      <td>-122.062225</td>\n",
       "      <td>19</td>\n",
       "      <td>NaN</td>\n",
       "      <td>0</td>\n",
       "      <td>NaN</td>\n",
       "      <td>America/Los_Angeles</td>\n",
       "      <td>26340</td>\n",
       "    </tr>\n",
       "    <tr>\n",
       "      <th>49</th>\n",
       "      <td>100160</td>\n",
       "      <td>128901</td>\n",
       "      <td>34745815</td>\n",
       "      <td>Overlake</td>\n",
       "      <td>LOCAL</td>\n",
       "      <td>0</td>\n",
       "      <td>5891543</td>\n",
       "      <td>11269002</td>\n",
       "      <td>0</td>\n",
       "      <td>101</td>\n",
       "      <td>...</td>\n",
       "      <td>NW Sammamish Rd &amp; 11th Ave NW</td>\n",
       "      <td>NaN</td>\n",
       "      <td>47.551914</td>\n",
       "      <td>-122.053436</td>\n",
       "      <td>19</td>\n",
       "      <td>NaN</td>\n",
       "      <td>0</td>\n",
       "      <td>NaN</td>\n",
       "      <td>America/Los_Angeles</td>\n",
       "      <td>26511</td>\n",
       "    </tr>\n",
       "    <tr>\n",
       "      <th>73</th>\n",
       "      <td>100160</td>\n",
       "      <td>128901</td>\n",
       "      <td>34745815</td>\n",
       "      <td>Overlake</td>\n",
       "      <td>LOCAL</td>\n",
       "      <td>0</td>\n",
       "      <td>5891543</td>\n",
       "      <td>11269002</td>\n",
       "      <td>0</td>\n",
       "      <td>101</td>\n",
       "      <td>...</td>\n",
       "      <td>SE 56th St &amp; 221st Pl SE</td>\n",
       "      <td>NaN</td>\n",
       "      <td>47.551895</td>\n",
       "      <td>-122.046417</td>\n",
       "      <td>19</td>\n",
       "      <td>NaN</td>\n",
       "      <td>0</td>\n",
       "      <td>NaN</td>\n",
       "      <td>America/Los_Angeles</td>\n",
       "      <td>26562</td>\n",
       "    </tr>\n",
       "    <tr>\n",
       "      <th>97</th>\n",
       "      <td>100160</td>\n",
       "      <td>128901</td>\n",
       "      <td>34745815</td>\n",
       "      <td>Overlake</td>\n",
       "      <td>LOCAL</td>\n",
       "      <td>0</td>\n",
       "      <td>5891543</td>\n",
       "      <td>11269002</td>\n",
       "      <td>0</td>\n",
       "      <td>101</td>\n",
       "      <td>...</td>\n",
       "      <td>SE 56th St &amp; East Lake Sammamish Pkwy SE</td>\n",
       "      <td>NaN</td>\n",
       "      <td>47.551865</td>\n",
       "      <td>-122.044014</td>\n",
       "      <td>19</td>\n",
       "      <td>NaN</td>\n",
       "      <td>0</td>\n",
       "      <td>NaN</td>\n",
       "      <td>America/Los_Angeles</td>\n",
       "      <td>26580</td>\n",
       "    </tr>\n",
       "    <tr>\n",
       "      <th>121</th>\n",
       "      <td>100160</td>\n",
       "      <td>128901</td>\n",
       "      <td>34745815</td>\n",
       "      <td>Overlake</td>\n",
       "      <td>LOCAL</td>\n",
       "      <td>0</td>\n",
       "      <td>5891543</td>\n",
       "      <td>11269002</td>\n",
       "      <td>0</td>\n",
       "      <td>101</td>\n",
       "      <td>...</td>\n",
       "      <td>SE Black Nugget Rd &amp; East Lake Sammamish Pkwy SE</td>\n",
       "      <td>NaN</td>\n",
       "      <td>47.549954</td>\n",
       "      <td>-122.040268</td>\n",
       "      <td>19</td>\n",
       "      <td>NaN</td>\n",
       "      <td>0</td>\n",
       "      <td>NaN</td>\n",
       "      <td>America/Los_Angeles</td>\n",
       "      <td>26647</td>\n",
       "    </tr>\n",
       "  </tbody>\n",
       "</table>\n",
       "<p>5 rows × 29 columns</p>\n",
       "</div>"
      ],
      "text/plain": [
       "     route_id  service_id   trip_id trip_headsign trip_short_name  \\\n",
       "0      100160      128901  34745815     Overlake            LOCAL   \n",
       "49     100160      128901  34745815     Overlake            LOCAL   \n",
       "73     100160      128901  34745815     Overlake            LOCAL   \n",
       "97     100160      128901  34745815     Overlake            LOCAL   \n",
       "121    100160      128901  34745815     Overlake            LOCAL   \n",
       "\n",
       "     direction_id  block_id  shape_id  peak_flag  fare_id  ...  \\\n",
       "0               0   5891543  11269002          0      101  ...   \n",
       "49              0   5891543  11269002          0      101  ...   \n",
       "73              0   5891543  11269002          0      101  ...   \n",
       "97              0   5891543  11269002          0      101  ...   \n",
       "121             0   5891543  11269002          0      101  ...   \n",
       "\n",
       "                                            stop_name stop_desc   stop_lat  \\\n",
       "0                     Issaquah Transit Center - Bay 5       NaN  47.542252   \n",
       "49                      NW Sammamish Rd & 11th Ave NW       NaN  47.551914   \n",
       "73                           SE 56th St & 221st Pl SE       NaN  47.551895   \n",
       "97           SE 56th St & East Lake Sammamish Pkwy SE       NaN  47.551865   \n",
       "121  SE Black Nugget Rd & East Lake Sammamish Pkwy SE       NaN  47.549954   \n",
       "\n",
       "       stop_lon zone_id  stop_url  location_type  parent_station  \\\n",
       "0   -122.062225      19       NaN              0             NaN   \n",
       "49  -122.053436      19       NaN              0             NaN   \n",
       "73  -122.046417      19       NaN              0             NaN   \n",
       "97  -122.044014      19       NaN              0             NaN   \n",
       "121 -122.040268      19       NaN              0             NaN   \n",
       "\n",
       "           stop_timezone arrival_s  \n",
       "0    America/Los_Angeles     26340  \n",
       "49   America/Los_Angeles     26511  \n",
       "73   America/Los_Angeles     26562  \n",
       "97   America/Los_Angeles     26580  \n",
       "121  America/Los_Angeles     26647  \n",
       "\n",
       "[5 rows x 29 columns]"
      ]
     },
     "execution_count": 5,
     "metadata": {},
     "output_type": "execute_result"
    }
   ],
   "source": [
    "gtfs_data.head()"
   ]
  },
  {
   "cell_type": "code",
   "execution_count": 6,
   "metadata": {},
   "outputs": [
    {
     "data": {
      "text/plain": [
       "<matplotlib.lines.Line2D at 0x2a356dd90>"
      ]
     },
     "execution_count": 6,
     "metadata": {},
     "output_type": "execute_result"
    },
    {
     "data": {
      "image/png": "[encoded data removed]",
      "text/plain": [
       "<Figure size 640x480 with 1 Axes>"
      ]
     },
     "metadata": {},
     "output_type": "display_data"
    }
   ],
   "source": [
    "# Histogram of bus travel times in schedule\n",
    "gtfs_data['arrival_s_prev'] = gtfs_data.groupby('trip_id').shift()[['arrival_s']]\n",
    "gtfs_data_times = gtfs_data[['arrival_s','arrival_s_prev']].dropna()\n",
    "gtfs_data_times['tt'] = gtfs_data_times['arrival_s'] - gtfs_data_times['arrival_s_prev']\n",
    "# Time between bus stops\n",
    "sns.histplot(gtfs_data_times.loc[gtfs_data_times['tt']<250, 'tt'])\n",
    "plt.axvline(30, 0.0, 20000, color=\"black\")"
   ]
  },
  {
   "cell_type": "code",
   "execution_count": 7,
   "metadata": {},
   "outputs": [
    {
     "data": {
      "text/plain": [
       "<AxesSubplot: xlabel='dist_calc_m', ylabel='Count'>"
      ]
     },
     "execution_count": 7,
     "metadata": {},
     "output_type": "execute_result"
    },
    {
     "data": {
      "image/png": "[encoded data removed]",
      "text/plain": [
       "<Figure size 640x480 with 1 Axes>"
      ]
     },
     "metadata": {},
     "output_type": "display_data"
    }
   ],
   "source": [
    "# Shingle distance\n",
    "sns.histplot(train_traces.groupby('shingle_id').sum(numeric_only=True)['dist_calc_m'])"
   ]
  },
  {
   "cell_type": "code",
   "execution_count": 8,
   "metadata": {},
   "outputs": [
    {
     "data": {
      "text/plain": [
       "<AxesSubplot: xlabel='time_cumulative_s', ylabel='Count'>"
      ]
     },
     "execution_count": 8,
     "metadata": {},
     "output_type": "execute_result"
    },
    {
     "data": {
      "image/png": "[encoded data removed]",
      "text/plain": [
       "<Figure size 640x480 with 1 Axes>"
      ]
     },
     "metadata": {},
     "output_type": "display_data"
    }
   ],
   "source": [
    "# Shingle travel time\n",
    "sns.histplot(train_traces.groupby('shingle_id').last()['time_cumulative_s'])"
   ]
  },
  {
   "cell_type": "code",
   "execution_count": 9,
   "metadata": {},
   "outputs": [
    {
     "data": {
      "text/plain": [
       "<AxesSubplot: xlabel='lat', ylabel='Count'>"
      ]
     },
     "execution_count": 9,
     "metadata": {},
     "output_type": "execute_result"
    },
    {
     "data": {
      "image/png": "[encoded data removed]",
      "text/plain": [
       "<Figure size 640x480 with 1 Axes>"
      ]
     },
     "metadata": {},
     "output_type": "display_data"
    }
   ],
   "source": [
    "# Points per trajectory\n",
    "sns.histplot(train_traces.groupby(['shingle_id']).count()['lat'])"
   ]
  },
  {
   "cell_type": "code",
   "execution_count": 10,
   "metadata": {},
   "outputs": [
    {
     "data": {
      "image/png": "[encoded data removed]",
      "text/plain": [
       "<Figure size 640x480 with 1 Axes>"
      ]
     },
     "metadata": {},
     "output_type": "display_data"
    }
   ],
   "source": [
    "# Look at a single trip\n",
    "shingle_num = 8\n",
    "plot_data = train_traces[train_traces['shingle_id']==shingle_num]\n",
    "fig, axes = plt.subplots(1,1)\n",
    "shape_utils.plot_gtfs_trip(axes, plot_data['trip_id'].iloc[0], gtfs_data)\n",
    "shape_utils.plot_gtfsrt_trip(axes, plot_data)"
   ]
  }
 ],
 "metadata": {
  "kernelspec": {
   "display_name": "valle_m1",
   "language": "python",
   "name": "python3"
  },
  "language_info": {
   "codemirror_mode": {
    "name": "ipython",
    "version": 3
   },
   "file_extension": ".py",
   "mimetype": "text/x-python",
   "name": "python",
   "nbconvert_exporter": "python",
   "pygments_lexer": "ipython3",
   "version": "3.9.16"
  },
  "orig_nbformat": 4,
  "vscode": {
   "interpreter": {
    "hash": "b30fe1de1713ca8e7537eef068b13a2de77ded03f86aab2e80ea73416dd3d704"
   }
  }
 },
 "nbformat": 4,
 "nbformat_minor": 2
}
