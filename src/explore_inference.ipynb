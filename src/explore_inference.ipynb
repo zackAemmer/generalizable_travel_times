{
 "cells": [
  {
   "cell_type": "code",
   "execution_count": 1,
   "metadata": {},
   "outputs": [
    {
     "ename": "TypeError",
     "evalue": "Argument 'bases' has incorrect type (expected list, got tuple)",
     "output_type": "error",
     "traceback": [
      "\u001b[0;31m---------------------------------------------------------------------------\u001b[0m",
      "\u001b[0;31mTypeError\u001b[0m                                 Traceback (most recent call last)",
      "Cell \u001b[0;32mIn[1], line 11\u001b[0m\n\u001b[1;32m      9\u001b[0m \u001b[39mimport\u001b[39;00m \u001b[39mpyproj\u001b[39;00m\n\u001b[1;32m     10\u001b[0m \u001b[39mimport\u001b[39;00m \u001b[39mseaborn\u001b[39;00m \u001b[39mas\u001b[39;00m \u001b[39msns\u001b[39;00m\n\u001b[0;32m---> 11\u001b[0m \u001b[39mimport\u001b[39;00m \u001b[39mlightning\u001b[39;00m\u001b[39m.\u001b[39;00m\u001b[39mpytorch\u001b[39;00m \u001b[39mas\u001b[39;00m \u001b[39mpl\u001b[39;00m\n\u001b[1;32m     12\u001b[0m \u001b[39mimport\u001b[39;00m \u001b[39mnumpy\u001b[39;00m \u001b[39mas\u001b[39;00m \u001b[39mnp\u001b[39;00m\n\u001b[1;32m     13\u001b[0m \u001b[39mfrom\u001b[39;00m \u001b[39mshapely\u001b[39;00m\u001b[39m.\u001b[39;00m\u001b[39mgeometry\u001b[39;00m \u001b[39mimport\u001b[39;00m Point\n",
      "File \u001b[0;32m~/miniconda3/envs/valle_ltn/lib/python3.10/site-packages/lightning/__init__.py:18\u001b[0m\n\u001b[1;32m     16\u001b[0m \u001b[39mfrom\u001b[39;00m \u001b[39mlightning\u001b[39;00m\u001b[39m.\u001b[39;00m\u001b[39m__about__\u001b[39;00m \u001b[39mimport\u001b[39;00m \u001b[39m*\u001b[39m  \u001b[39m# noqa: E402, F401, F403\u001b[39;00m\n\u001b[1;32m     17\u001b[0m \u001b[39mfrom\u001b[39;00m \u001b[39mlightning\u001b[39;00m\u001b[39m.\u001b[39;00m\u001b[39m__version__\u001b[39;00m \u001b[39mimport\u001b[39;00m version \u001b[39mas\u001b[39;00m __version__  \u001b[39m# noqa: E402, F401\u001b[39;00m\n\u001b[0;32m---> 18\u001b[0m \u001b[39mfrom\u001b[39;00m \u001b[39mlightning\u001b[39;00m\u001b[39m.\u001b[39;00m\u001b[39mapp\u001b[39;00m \u001b[39mimport\u001b[39;00m storage  \u001b[39m# noqa: E402\u001b[39;00m\n\u001b[1;32m     19\u001b[0m \u001b[39mfrom\u001b[39;00m \u001b[39mlightning\u001b[39;00m\u001b[39m.\u001b[39;00m\u001b[39mapp\u001b[39;00m\u001b[39m.\u001b[39;00m\u001b[39mcore\u001b[39;00m\u001b[39m.\u001b[39;00m\u001b[39mapp\u001b[39;00m \u001b[39mimport\u001b[39;00m LightningApp  \u001b[39m# noqa: E402\u001b[39;00m\n\u001b[1;32m     20\u001b[0m \u001b[39mfrom\u001b[39;00m \u001b[39mlightning\u001b[39;00m\u001b[39m.\u001b[39;00m\u001b[39mapp\u001b[39;00m\u001b[39m.\u001b[39;00m\u001b[39mcore\u001b[39;00m\u001b[39m.\u001b[39;00m\u001b[39mflow\u001b[39;00m \u001b[39mimport\u001b[39;00m LightningFlow  \u001b[39m# noqa: E402\u001b[39;00m\n",
      "File \u001b[0;32m~/miniconda3/envs/valle_ltn/lib/python3.10/site-packages/lightning/app/__init__.py:24\u001b[0m\n\u001b[1;32m     20\u001b[0m     _logger\u001b[39m.\u001b[39maddHandler(_console)\n\u001b[1;32m     21\u001b[0m     _logger\u001b[39m.\u001b[39mpropagate \u001b[39m=\u001b[39m \u001b[39mFalse\u001b[39;00m\n\u001b[0;32m---> 24\u001b[0m \u001b[39mfrom\u001b[39;00m \u001b[39mlightning\u001b[39;00m\u001b[39m.\u001b[39;00m\u001b[39mapp\u001b[39;00m \u001b[39mimport\u001b[39;00m components  \u001b[39m# noqa: E402, F401\u001b[39;00m\n\u001b[1;32m     26\u001b[0m \u001b[39mif\u001b[39;00m os\u001b[39m.\u001b[39mpath\u001b[39m.\u001b[39misfile(os\u001b[39m.\u001b[39mpath\u001b[39m.\u001b[39mjoin(os\u001b[39m.\u001b[39mpath\u001b[39m.\u001b[39mdirname(\u001b[39m__file__\u001b[39m), \u001b[39m\"\u001b[39m\u001b[39m__about__.py\u001b[39m\u001b[39m\"\u001b[39m)):\n\u001b[1;32m     27\u001b[0m     \u001b[39mfrom\u001b[39;00m \u001b[39mlightning\u001b[39;00m\u001b[39m.\u001b[39;00m\u001b[39mapp\u001b[39;00m\u001b[39m.\u001b[39;00m\u001b[39m__about__\u001b[39;00m \u001b[39mimport\u001b[39;00m \u001b[39m*\u001b[39m  \u001b[39m# noqa: F401, F403\u001b[39;00m\n",
      "File \u001b[0;32m~/miniconda3/envs/valle_ltn/lib/python3.10/site-packages/lightning/app/components/__init__.py:1\u001b[0m\n\u001b[0;32m----> 1\u001b[0m \u001b[39mfrom\u001b[39;00m \u001b[39mlightning\u001b[39;00m\u001b[39m.\u001b[39;00m\u001b[39mapp\u001b[39;00m\u001b[39m.\u001b[39;00m\u001b[39mcomponents\u001b[39;00m\u001b[39m.\u001b[39;00m\u001b[39mdatabase\u001b[39;00m\u001b[39m.\u001b[39;00m\u001b[39mclient\u001b[39;00m \u001b[39mimport\u001b[39;00m DatabaseClient\n\u001b[1;32m      2\u001b[0m \u001b[39mfrom\u001b[39;00m \u001b[39mlightning\u001b[39;00m\u001b[39m.\u001b[39;00m\u001b[39mapp\u001b[39;00m\u001b[39m.\u001b[39;00m\u001b[39mcomponents\u001b[39;00m\u001b[39m.\u001b[39;00m\u001b[39mdatabase\u001b[39;00m\u001b[39m.\u001b[39;00m\u001b[39mserver\u001b[39;00m \u001b[39mimport\u001b[39;00m Database\n\u001b[1;32m      3\u001b[0m \u001b[39mfrom\u001b[39;00m \u001b[39mlightning\u001b[39;00m\u001b[39m.\u001b[39;00m\u001b[39mapp\u001b[39;00m\u001b[39m.\u001b[39;00m\u001b[39mcomponents\u001b[39;00m\u001b[39m.\u001b[39;00m\u001b[39mmulti_node\u001b[39;00m \u001b[39mimport\u001b[39;00m (\n\u001b[1;32m      4\u001b[0m     FabricMultiNode,\n\u001b[1;32m      5\u001b[0m     LightningTrainerMultiNode,\n\u001b[1;32m      6\u001b[0m     MultiNode,\n\u001b[1;32m      7\u001b[0m     PyTorchSpawnMultiNode,\n\u001b[1;32m      8\u001b[0m )\n",
      "File \u001b[0;32m~/miniconda3/envs/valle_ltn/lib/python3.10/site-packages/lightning/app/components/database/__init__.py:1\u001b[0m\n\u001b[0;32m----> 1\u001b[0m \u001b[39mfrom\u001b[39;00m \u001b[39mlightning\u001b[39;00m\u001b[39m.\u001b[39;00m\u001b[39mapp\u001b[39;00m\u001b[39m.\u001b[39;00m\u001b[39mcomponents\u001b[39;00m\u001b[39m.\u001b[39;00m\u001b[39mdatabase\u001b[39;00m\u001b[39m.\u001b[39;00m\u001b[39mclient\u001b[39;00m \u001b[39mimport\u001b[39;00m DatabaseClient\n\u001b[1;32m      2\u001b[0m \u001b[39mfrom\u001b[39;00m \u001b[39mlightning\u001b[39;00m\u001b[39m.\u001b[39;00m\u001b[39mapp\u001b[39;00m\u001b[39m.\u001b[39;00m\u001b[39mcomponents\u001b[39;00m\u001b[39m.\u001b[39;00m\u001b[39mdatabase\u001b[39;00m\u001b[39m.\u001b[39;00m\u001b[39mserver\u001b[39;00m \u001b[39mimport\u001b[39;00m Database\n\u001b[1;32m      4\u001b[0m __all__ \u001b[39m=\u001b[39m [\u001b[39m\"\u001b[39m\u001b[39mDatabase\u001b[39m\u001b[39m\"\u001b[39m, \u001b[39m\"\u001b[39m\u001b[39mDatabaseClient\u001b[39m\u001b[39m\"\u001b[39m]\n",
      "File \u001b[0;32m~/miniconda3/envs/valle_ltn/lib/python3.10/site-packages/lightning/app/components/database/client.py:22\u001b[0m\n\u001b[1;32m     19\u001b[0m \u001b[39mfrom\u001b[39;00m \u001b[39mrequests\u001b[39;00m\u001b[39m.\u001b[39;00m\u001b[39madapters\u001b[39;00m \u001b[39mimport\u001b[39;00m HTTPAdapter\n\u001b[1;32m     20\u001b[0m \u001b[39mfrom\u001b[39;00m \u001b[39murllib3\u001b[39;00m\u001b[39m.\u001b[39;00m\u001b[39mutil\u001b[39;00m\u001b[39m.\u001b[39;00m\u001b[39mretry\u001b[39;00m \u001b[39mimport\u001b[39;00m Retry\n\u001b[0;32m---> 22\u001b[0m \u001b[39mfrom\u001b[39;00m \u001b[39mlightning\u001b[39;00m\u001b[39m.\u001b[39;00m\u001b[39mapp\u001b[39;00m\u001b[39m.\u001b[39;00m\u001b[39mcomponents\u001b[39;00m\u001b[39m.\u001b[39;00m\u001b[39mdatabase\u001b[39;00m\u001b[39m.\u001b[39;00m\u001b[39mutilities\u001b[39;00m \u001b[39mimport\u001b[39;00m _GeneralModel\n\u001b[1;32m     24\u001b[0m _CONNECTION_RETRY_TOTAL \u001b[39m=\u001b[39m \u001b[39m5\u001b[39m\n\u001b[1;32m     25\u001b[0m _CONNECTION_RETRY_BACKOFF_FACTOR \u001b[39m=\u001b[39m \u001b[39m1\u001b[39m\n",
      "File \u001b[0;32m~/miniconda3/envs/valle_ltn/lib/python3.10/site-packages/lightning/app/components/database/utilities.py:20\u001b[0m\n\u001b[1;32m     17\u001b[0m \u001b[39mimport\u001b[39;00m \u001b[39mpathlib\u001b[39;00m\n\u001b[1;32m     18\u001b[0m \u001b[39mfrom\u001b[39;00m \u001b[39mtyping\u001b[39;00m \u001b[39mimport\u001b[39;00m Any, Dict, Generic, List, Type, TypeVar\n\u001b[0;32m---> 20\u001b[0m \u001b[39mfrom\u001b[39;00m \u001b[39mfastapi\u001b[39;00m \u001b[39mimport\u001b[39;00m Response, status\n\u001b[1;32m     21\u001b[0m \u001b[39mfrom\u001b[39;00m \u001b[39mfastapi\u001b[39;00m\u001b[39m.\u001b[39;00m\u001b[39mencoders\u001b[39;00m \u001b[39mimport\u001b[39;00m jsonable_encoder\n\u001b[1;32m     22\u001b[0m \u001b[39mfrom\u001b[39;00m \u001b[39mlightning_utilities\u001b[39;00m\u001b[39m.\u001b[39;00m\u001b[39mcore\u001b[39;00m\u001b[39m.\u001b[39;00m\u001b[39mimports\u001b[39;00m \u001b[39mimport\u001b[39;00m RequirementCache\n",
      "File \u001b[0;32m~/miniconda3/envs/valle_ltn/lib/python3.10/site-packages/fastapi/__init__.py:7\u001b[0m\n\u001b[1;32m      3\u001b[0m __version__ \u001b[39m=\u001b[39m \u001b[39m\"\u001b[39m\u001b[39m0.100.0\u001b[39m\u001b[39m\"\u001b[39m\n\u001b[1;32m      5\u001b[0m \u001b[39mfrom\u001b[39;00m \u001b[39mstarlette\u001b[39;00m \u001b[39mimport\u001b[39;00m status \u001b[39mas\u001b[39;00m status\n\u001b[0;32m----> 7\u001b[0m \u001b[39mfrom\u001b[39;00m \u001b[39m.\u001b[39;00m\u001b[39mapplications\u001b[39;00m \u001b[39mimport\u001b[39;00m FastAPI \u001b[39mas\u001b[39;00m FastAPI\n\u001b[1;32m      8\u001b[0m \u001b[39mfrom\u001b[39;00m \u001b[39m.\u001b[39;00m\u001b[39mbackground\u001b[39;00m \u001b[39mimport\u001b[39;00m BackgroundTasks \u001b[39mas\u001b[39;00m BackgroundTasks\n\u001b[1;32m      9\u001b[0m \u001b[39mfrom\u001b[39;00m \u001b[39m.\u001b[39;00m\u001b[39mdatastructures\u001b[39;00m \u001b[39mimport\u001b[39;00m UploadFile \u001b[39mas\u001b[39;00m UploadFile\n",
      "File \u001b[0;32m~/miniconda3/envs/valle_ltn/lib/python3.10/site-packages/fastapi/applications.py:16\u001b[0m\n\u001b[1;32m      1\u001b[0m \u001b[39mfrom\u001b[39;00m \u001b[39menum\u001b[39;00m \u001b[39mimport\u001b[39;00m Enum\n\u001b[1;32m      2\u001b[0m \u001b[39mfrom\u001b[39;00m \u001b[39mtyping\u001b[39;00m \u001b[39mimport\u001b[39;00m (\n\u001b[1;32m      3\u001b[0m     Any,\n\u001b[1;32m      4\u001b[0m     Awaitable,\n\u001b[0;32m   (...)\u001b[0m\n\u001b[1;32m     13\u001b[0m     Union,\n\u001b[1;32m     14\u001b[0m )\n\u001b[0;32m---> 16\u001b[0m \u001b[39mfrom\u001b[39;00m \u001b[39mfastapi\u001b[39;00m \u001b[39mimport\u001b[39;00m routing\n\u001b[1;32m     17\u001b[0m \u001b[39mfrom\u001b[39;00m \u001b[39mfastapi\u001b[39;00m\u001b[39m.\u001b[39;00m\u001b[39mdatastructures\u001b[39;00m \u001b[39mimport\u001b[39;00m Default, DefaultPlaceholder\n\u001b[1;32m     18\u001b[0m \u001b[39mfrom\u001b[39;00m \u001b[39mfastapi\u001b[39;00m\u001b[39m.\u001b[39;00m\u001b[39mexception_handlers\u001b[39;00m \u001b[39mimport\u001b[39;00m (\n\u001b[1;32m     19\u001b[0m     http_exception_handler,\n\u001b[1;32m     20\u001b[0m     request_validation_exception_handler,\n\u001b[1;32m     21\u001b[0m     websocket_request_validation_exception_handler,\n\u001b[1;32m     22\u001b[0m )\n",
      "File \u001b[0;32m~/miniconda3/envs/valle_ltn/lib/python3.10/site-packages/fastapi/routing.py:32\u001b[0m\n\u001b[1;32m     23\u001b[0m \u001b[39mfrom\u001b[39;00m \u001b[39mfastapi\u001b[39;00m\u001b[39m.\u001b[39;00m\u001b[39m_compat\u001b[39;00m \u001b[39mimport\u001b[39;00m (\n\u001b[1;32m     24\u001b[0m     ModelField,\n\u001b[1;32m     25\u001b[0m     Undefined,\n\u001b[0;32m   (...)\u001b[0m\n\u001b[1;32m     29\u001b[0m     lenient_issubclass,\n\u001b[1;32m     30\u001b[0m )\n\u001b[1;32m     31\u001b[0m \u001b[39mfrom\u001b[39;00m \u001b[39mfastapi\u001b[39;00m\u001b[39m.\u001b[39;00m\u001b[39mdatastructures\u001b[39;00m \u001b[39mimport\u001b[39;00m Default, DefaultPlaceholder\n\u001b[0;32m---> 32\u001b[0m \u001b[39mfrom\u001b[39;00m \u001b[39mfastapi\u001b[39;00m\u001b[39m.\u001b[39;00m\u001b[39mdependencies\u001b[39;00m\u001b[39m.\u001b[39;00m\u001b[39mmodels\u001b[39;00m \u001b[39mimport\u001b[39;00m Dependant\n\u001b[1;32m     33\u001b[0m \u001b[39mfrom\u001b[39;00m \u001b[39mfastapi\u001b[39;00m\u001b[39m.\u001b[39;00m\u001b[39mdependencies\u001b[39;00m\u001b[39m.\u001b[39;00m\u001b[39mutils\u001b[39;00m \u001b[39mimport\u001b[39;00m (\n\u001b[1;32m     34\u001b[0m     get_body_field,\n\u001b[1;32m     35\u001b[0m     get_dependant,\n\u001b[0;32m   (...)\u001b[0m\n\u001b[1;32m     38\u001b[0m     solve_dependencies,\n\u001b[1;32m     39\u001b[0m )\n\u001b[1;32m     40\u001b[0m \u001b[39mfrom\u001b[39;00m \u001b[39mfastapi\u001b[39;00m\u001b[39m.\u001b[39;00m\u001b[39mencoders\u001b[39;00m \u001b[39mimport\u001b[39;00m jsonable_encoder\n",
      "File \u001b[0;32m~/miniconda3/envs/valle_ltn/lib/python3.10/site-packages/fastapi/dependencies/models.py:4\u001b[0m\n\u001b[1;32m      1\u001b[0m \u001b[39mfrom\u001b[39;00m \u001b[39mtyping\u001b[39;00m \u001b[39mimport\u001b[39;00m Any, Callable, List, Optional, Sequence\n\u001b[1;32m      3\u001b[0m \u001b[39mfrom\u001b[39;00m \u001b[39mfastapi\u001b[39;00m\u001b[39m.\u001b[39;00m\u001b[39m_compat\u001b[39;00m \u001b[39mimport\u001b[39;00m ModelField\n\u001b[0;32m----> 4\u001b[0m \u001b[39mfrom\u001b[39;00m \u001b[39mfastapi\u001b[39;00m\u001b[39m.\u001b[39;00m\u001b[39msecurity\u001b[39;00m\u001b[39m.\u001b[39;00m\u001b[39mbase\u001b[39;00m \u001b[39mimport\u001b[39;00m SecurityBase\n\u001b[1;32m      7\u001b[0m \u001b[39mclass\u001b[39;00m \u001b[39mSecurityRequirement\u001b[39;00m:\n\u001b[1;32m      8\u001b[0m     \u001b[39mdef\u001b[39;00m \u001b[39m__init__\u001b[39m(\n\u001b[1;32m      9\u001b[0m         \u001b[39mself\u001b[39m, security_scheme: SecurityBase, scopes: Optional[Sequence[\u001b[39mstr\u001b[39m]] \u001b[39m=\u001b[39m \u001b[39mNone\u001b[39;00m\n\u001b[1;32m     10\u001b[0m     ):\n",
      "File \u001b[0;32m~/miniconda3/envs/valle_ltn/lib/python3.10/site-packages/fastapi/security/__init__.py:1\u001b[0m\n\u001b[0;32m----> 1\u001b[0m \u001b[39mfrom\u001b[39;00m \u001b[39m.\u001b[39;00m\u001b[39mapi_key\u001b[39;00m \u001b[39mimport\u001b[39;00m APIKeyCookie \u001b[39mas\u001b[39;00m APIKeyCookie\n\u001b[1;32m      2\u001b[0m \u001b[39mfrom\u001b[39;00m \u001b[39m.\u001b[39;00m\u001b[39mapi_key\u001b[39;00m \u001b[39mimport\u001b[39;00m APIKeyHeader \u001b[39mas\u001b[39;00m APIKeyHeader\n\u001b[1;32m      3\u001b[0m \u001b[39mfrom\u001b[39;00m \u001b[39m.\u001b[39;00m\u001b[39mapi_key\u001b[39;00m \u001b[39mimport\u001b[39;00m APIKeyQuery \u001b[39mas\u001b[39;00m APIKeyQuery\n",
      "File \u001b[0;32m~/miniconda3/envs/valle_ltn/lib/python3.10/site-packages/fastapi/security/api_key.py:3\u001b[0m\n\u001b[1;32m      1\u001b[0m \u001b[39mfrom\u001b[39;00m \u001b[39mtyping\u001b[39;00m \u001b[39mimport\u001b[39;00m Optional\n\u001b[0;32m----> 3\u001b[0m \u001b[39mfrom\u001b[39;00m \u001b[39mfastapi\u001b[39;00m\u001b[39m.\u001b[39;00m\u001b[39mopenapi\u001b[39;00m\u001b[39m.\u001b[39;00m\u001b[39mmodels\u001b[39;00m \u001b[39mimport\u001b[39;00m APIKey, APIKeyIn\n\u001b[1;32m      4\u001b[0m \u001b[39mfrom\u001b[39;00m \u001b[39mfastapi\u001b[39;00m\u001b[39m.\u001b[39;00m\u001b[39msecurity\u001b[39;00m\u001b[39m.\u001b[39;00m\u001b[39mbase\u001b[39;00m \u001b[39mimport\u001b[39;00m SecurityBase\n\u001b[1;32m      5\u001b[0m \u001b[39mfrom\u001b[39;00m \u001b[39mstarlette\u001b[39;00m\u001b[39m.\u001b[39;00m\u001b[39mexceptions\u001b[39;00m \u001b[39mimport\u001b[39;00m HTTPException\n",
      "File \u001b[0;32m~/miniconda3/envs/valle_ltn/lib/python3.10/site-packages/fastapi/openapi/models.py:58\u001b[0m\n\u001b[1;32m     51\u001b[0m         \u001b[39m@classmethod\u001b[39m\n\u001b[1;32m     52\u001b[0m         \u001b[39mdef\u001b[39;00m \u001b[39m__get_pydantic_core_schema__\u001b[39m(\n\u001b[1;32m     53\u001b[0m             \u001b[39mcls\u001b[39m, source: Type[Any], handler: Callable[[Any], CoreSchema]\n\u001b[1;32m     54\u001b[0m         ) \u001b[39m-\u001b[39m\u001b[39m>\u001b[39m CoreSchema:\n\u001b[1;32m     55\u001b[0m             \u001b[39mreturn\u001b[39;00m general_plain_validator_function(\u001b[39mcls\u001b[39m\u001b[39m.\u001b[39m_validate)\n\u001b[0;32m---> 58\u001b[0m \u001b[39mclass\u001b[39;00m \u001b[39mContact\u001b[39;00m(BaseModel):\n\u001b[1;32m     59\u001b[0m     name: Optional[\u001b[39mstr\u001b[39m] \u001b[39m=\u001b[39m \u001b[39mNone\u001b[39;00m\n\u001b[1;32m     60\u001b[0m     url: Optional[AnyUrl] \u001b[39m=\u001b[39m \u001b[39mNone\u001b[39;00m\n",
      "File \u001b[0;32m~/miniconda3/envs/valle_ltn/lib/python3.10/site-packages/pydantic/main.py:186\u001b[0m, in \u001b[0;36mpydantic.main.ModelMetaclass.__new__\u001b[0;34m()\u001b[0m\n",
      "\u001b[0;31mTypeError\u001b[0m: Argument 'bases' has incorrect type (expected list, got tuple)"
     ]
    }
   ],
   "source": [
    "import os\n",
    "import importlib\n",
    "import json\n",
    "import matplotlib.pyplot as plt\n",
    "import geopandas as gpd\n",
    "import pandas as pd\n",
    "import plotly.express as px\n",
    "import plotly.figure_factory as ff\n",
    "import pyproj\n",
    "import seaborn as sns\n",
    "import lightning.pytorch as pl\n",
    "import numpy as np\n",
    "from shapely.geometry import Point\n",
    "from sklearn import metrics\n",
    "import torch\n",
    "from torch.utils.data import DataLoader, SequentialSampler\n",
    "from dotenv import load_dotenv\n",
    "load_dotenv()\n",
    "\n",
    "from models import grids\n",
    "from utils import data_loader, data_utils, model_utils\n",
    "\n",
    "run_folder = \"../results/debug/\"\n",
    "atb_network_folder = \"atb/\""
   ]
  },
  {
   "cell_type": "code",
   "execution_count": null,
   "metadata": {},
   "outputs": [],
   "source": [
    "with open(f\"{run_folder}{atb_network_folder}deeptte_formatted/train_summary_config.json\", \"r\") as f:\n",
    "    atb_config = json.load(f)\n",
    "atb_crs = pyproj.crs.CRS.from_epsg(atb_config['epsg'][0])\n",
    "\n",
    "px.set_mapbox_access_token(os.getenv(\"MAPBOX_TOKEN\"))\n",
    "default_crs = pyproj.crs.CRS.from_epsg(4326)\n",
    "\n",
    "fold_num = 4\n",
    "grid_s_size = 500\n",
    "model_type=\"GRU\"\n",
    "skip_gtfs=False\n",
    "num_workers=0\n",
    "pin_memory=False\n",
    "\n",
    "# Define embedded variables for network models\n",
    "embed_dict = {\n",
    "    'timeID': {\n",
    "        'vocab_size': 1440,\n",
    "        'embed_dims': 27\n",
    "    },\n",
    "    'weekID': {\n",
    "        'vocab_size': 7,\n",
    "        'embed_dims': 4\n",
    "    }\n",
    "}\n",
    "hyperparameter_dict = {\n",
    "    'FF': {\n",
    "        'batch_size': 1024,\n",
    "        'hidden_size': 128,\n",
    "        'num_layers': 2,\n",
    "        'dropout_rate': .2\n",
    "    },\n",
    "    'CONV': {\n",
    "        'batch_size': 1024,\n",
    "        'hidden_size': 64,\n",
    "        'num_layers': 3,\n",
    "        'dropout_rate': .1\n",
    "    },\n",
    "    'GRU': {\n",
    "        'batch_size': 1024,\n",
    "        'hidden_size': 64,\n",
    "        'num_layers': 2,\n",
    "        'dropout_rate': .05\n",
    "    },\n",
    "    'TRSF': {\n",
    "        'batch_size': 1024,\n",
    "        'hidden_size': 64,\n",
    "        'num_layers': 3,\n",
    "        'dropout_rate': .1\n",
    "    },\n",
    "    'DEEPTTE': {\n",
    "        'batch_size': 1024\n",
    "    }\n",
    "}"
   ]
  },
  {
   "cell_type": "markdown",
   "metadata": {},
   "source": [
    "### Inference on Sample of Shingles"
   ]
  },
  {
   "cell_type": "code",
   "execution_count": null,
   "metadata": {},
   "outputs": [],
   "source": [
    "# Set up model\n",
    "atb_base_model_list, atb_nn_model = model_utils.make_one_model(model_type, hyperparameter_dict=hyperparameter_dict, embed_dict=embed_dict, config=atb_config, skip_gtfs=skip_gtfs, load_weights=True, weight_folder=f\"{run_folder}{atb_network_folder}models/{model_type}/logs/{model_type}/version_{fold_num}/checkpoints/\", fold_num=4)\n",
    "print(f\"Evaluating: {atb_nn_model.model_name}\")\n",
    "# Set up dataset\n",
    "atb_dataset = data_loader.LoadSliceDataset(f\"{run_folder}{atb_network_folder}deeptte_formatted/test\", atb_config, skip_gtfs=skip_gtfs)\n",
    "atb_ngrid = grids.NGridBetter(atb_config['grid_bounds'][0], grid_s_size)\n",
    "atb_ngrid.add_grid_content(atb_dataset.get_all_samples(keep_cols=['shingle_id','locationtime','x','y','speed_m_s','bearing']), trace_format=True)\n",
    "atb_ngrid.build_cell_lookup()\n",
    "atb_dataset.grid = atb_ngrid\n",
    "atb_dataset.add_grid_features = atb_nn_model.requires_grid\n",
    "loader = DataLoader(atb_dataset, sampler=SequentialSampler(atb_dataset), collate_fn=atb_nn_model.collate_fn, batch_size=atb_nn_model.batch_size, pin_memory=pin_memory, num_workers=num_workers, drop_last=False)\n",
    "trainer = pl.Trainer(\n",
    "    accelerator=\"cpu\",\n",
    "    logger=False\n",
    ")\n",
    "# Extract predictions\n",
    "preds_and_labels = trainer.predict(model=atb_nn_model, dataloaders=loader)\n",
    "atb_preds = np.concatenate([x['out'][x['mask']] for x in preds_and_labels])\n",
    "atb_labels = np.concatenate([x['y'][x['mask']] for x in preds_and_labels])"
   ]
  },
  {
   "cell_type": "code",
   "execution_count": null,
   "metadata": {},
   "outputs": [],
   "source": [
    "# Extract data points and connect to predictions\n",
    "atb_data = [x for x in atb_dataset]\n",
    "atb_feats = np.concatenate([x['samp'] for x in atb_data])\n",
    "atb_ys = np.array([x['norm_label'] for x in atb_data])\n",
    "atb_res = pd.DataFrame(atb_feats, columns=atb_dataset.col_names)\n",
    "atb_res['preds'] = atb_preds\n",
    "atb_res['labels'] = atb_labels\n",
    "# Overall accuracy on data points\n",
    "print(f\"MAE: {metrics.mean_absolute_error(atb_labels,atb_preds)}\")\n",
    "print(f\"MAPE: {metrics.mean_absolute_percentage_error(atb_labels,atb_preds)}\")\n",
    "atb_res"
   ]
  },
  {
   "cell_type": "code",
   "execution_count": null,
   "metadata": {},
   "outputs": [],
   "source": [
    "# Get geometries and other features for every prediciton point\n",
    "atb_res['pred_speeds'] = atb_res['dist_calc_km']*1000 / atb_res['preds']\n",
    "atb_res['label_speeds'] = atb_res['dist_calc_km']*1000 / atb_res['labels']\n",
    "atb_res['absolute_error'] = abs(atb_res['preds'] - atb_res['labels'])\n",
    "atb_res['hour'] = atb_res['timeID']//60\n",
    "points = gpd.points_from_xy(atb_res['lon'], atb_res['lat'], crs=\"EPSG:4326\")\n",
    "atb_res = gpd.GeoDataFrame(atb_res, geometry=points)\n",
    "atb_res = atb_res.sample(100000)"
   ]
  },
  {
   "cell_type": "code",
   "execution_count": null,
   "metadata": {},
   "outputs": [],
   "source": [
    "# axes = geoplot.pointplot(atb_res, projection=geoplot.crs.AlbersEqualArea(), s=0.1)\n",
    "# geoplot.kdeplot(atb_res, fill=True, cmap='coolwarm', alpha=0.5, bw_adjust=0.5, ax=axes)\n",
    "# axes.set_title(f\"Point Heatmap(atb)\")\n",
    "# plt.savefig(\"../plots/model_spatial_performance_atb.png\")\n",
    "\n",
    "# axes = geoplot.pointplot(atb_res, projection=geoplot.crs.AlbersEqualArea(), s=0.1)\n",
    "# geoplot.kdeplot(atb_res, fill=True, cmap='coolwarm', alpha=0.5, bw_adjust=0.5, ax=axes)\n",
    "# axes.set_title(f\"Point Heatmap (AtB)\")\n",
    "# plt.savefig(\"../plots/model_spatial_performance_atb.png\")"
   ]
  },
  {
   "cell_type": "code",
   "execution_count": 2,
   "metadata": {},
   "outputs": [
    {
     "ename": "NameError",
     "evalue": "name 'atb_res' is not defined",
     "output_type": "error",
     "traceback": [
      "\u001b[0;31m---------------------------------------------------------------------------\u001b[0m",
      "\u001b[0;31mNameError\u001b[0m                                 Traceback (most recent call last)",
      "Cell \u001b[0;32mIn[2], line 2\u001b[0m\n\u001b[1;32m      1\u001b[0m fig \u001b[39m=\u001b[39m ff\u001b[39m.\u001b[39mcreate_hexbin_mapbox(\n\u001b[0;32m----> 2\u001b[0m     data_frame\u001b[39m=\u001b[39matb_res,\n\u001b[1;32m      3\u001b[0m     lat\u001b[39m=\u001b[39m\u001b[39m\"\u001b[39m\u001b[39mlat\u001b[39m\u001b[39m\"\u001b[39m,\n\u001b[1;32m      4\u001b[0m     lon\u001b[39m=\u001b[39m\u001b[39m\"\u001b[39m\u001b[39mlon\u001b[39m\u001b[39m\"\u001b[39m,\n\u001b[1;32m      5\u001b[0m     nx_hexagon\u001b[39m=\u001b[39m\u001b[39m30\u001b[39m,\n\u001b[1;32m      6\u001b[0m     opacity\u001b[39m=\u001b[39m\u001b[39m0.7\u001b[39m,\n\u001b[1;32m      7\u001b[0m     labels\u001b[39m=\u001b[39m{\u001b[39m\"\u001b[39m\u001b[39mcolor\u001b[39m\u001b[39m\"\u001b[39m: \u001b[39m\"\u001b[39m\u001b[39mSD of Predictions\u001b[39m\u001b[39m\"\u001b[39m},\n\u001b[1;32m      8\u001b[0m     color\u001b[39m=\u001b[39m\u001b[39m\"\u001b[39m\u001b[39mpred_speeds\u001b[39m\u001b[39m\"\u001b[39m,\n\u001b[1;32m      9\u001b[0m     agg_func\u001b[39m=\u001b[39mnp\u001b[39m.\u001b[39mstd,\n\u001b[1;32m     10\u001b[0m     color_continuous_scale\u001b[39m=\u001b[39m\u001b[39m\"\u001b[39m\u001b[39mIcefire\u001b[39m\u001b[39m\"\u001b[39m,\n\u001b[1;32m     11\u001b[0m     range_color\u001b[39m=\u001b[39m[\u001b[39m0\u001b[39m,\u001b[39m10\u001b[39m]\n\u001b[1;32m     12\u001b[0m )\n\u001b[1;32m     13\u001b[0m fig\u001b[39m.\u001b[39mshow()\n\u001b[1;32m     14\u001b[0m fig\u001b[39m.\u001b[39mwrite_image(\u001b[39m\"\u001b[39m\u001b[39mhexbin_map.png\u001b[39m\u001b[39m\"\u001b[39m)\n",
      "\u001b[0;31mNameError\u001b[0m: name 'atb_res' is not defined"
     ]
    }
   ],
   "source": [
    "fig = ff.create_hexbin_mapbox(\n",
    "    data_frame=atb_res,\n",
    "    lat=\"lat\",\n",
    "    lon=\"lon\",\n",
    "    nx_hexagon=30,\n",
    "    opacity=0.7,\n",
    "    labels={\"color\": \"SD of Predictions\"},\n",
    "    color=\"pred_speeds\",\n",
    "    agg_func=np.std,\n",
    "    color_continuous_scale=\"Icefire\",\n",
    "    range_color=[0,10]\n",
    ")\n",
    "fig.show()\n",
    "fig.write_image(\"hexbin_map.png\")\n",
    "# fig.write_image('fig1.png', engine='orca')\n"
   ]
  },
  {
   "cell_type": "code",
   "execution_count": null,
   "metadata": {},
   "outputs": [],
   "source": [
    "fig = ff.create_hexbin_mapbox(\n",
    "    data_frame=atb_res,\n",
    "    lat=\"lat\",\n",
    "    lon=\"lon\",\n",
    "    nx_hexagon=30,\n",
    "    opacity=0.7,\n",
    "    labels={\"color\": \"SD of Labels\"},\n",
    "    color=\"label_speeds\",\n",
    "    agg_func=np.std,\n",
    "    color_continuous_scale=\"Icefire\",\n",
    "    range_color=[0,10]\n",
    ")\n",
    "fig.show()"
   ]
  },
  {
   "cell_type": "code",
   "execution_count": null,
   "metadata": {},
   "outputs": [],
   "source": [
    "fig = ff.create_hexbin_mapbox(\n",
    "    data_frame=atb_res,\n",
    "    lat=\"lat\",\n",
    "    lon=\"lon\",\n",
    "    nx_hexagon=30,\n",
    "    opacity=0.7,\n",
    "    labels={\"color\": \"MAE\"},\n",
    "    color=\"absolute_error\",\n",
    "    agg_func=np.mean,\n",
    "    color_continuous_scale=\"Icefire\",\n",
    "    range_color=[0,100]\n",
    ")\n",
    "fig.show()\n",
    "# fig.write_image(\"hexbin_map.png\")"
   ]
  },
  {
   "cell_type": "code",
   "execution_count": null,
   "metadata": {},
   "outputs": [],
   "source": [
    "fig, axes = plt.subplots(3,2)\n",
    "fig.tight_layout()\n",
    "axes = axes.flatten()\n",
    "fig.set_figheight(10)\n",
    "fig.set_figwidth(8)\n",
    "sns.histplot(atb_res, x=\"pred_speeds\", ax=axes[0])\n",
    "axes[0].set_title(f\"Predicted Speeds(atb)\")\n",
    "axes[0].set_xlabel(\"Speed (m/s)\")\n",
    "# sns.histplot(atb_res, x=\"pred_speeds\", ax=axes[1])\n",
    "# axes[1].set_title(f\"GRU Mean Absolute Error (AtB)\")\n",
    "# axes[1].set_xlabel(\"MAE (s)\")\n",
    "sns.histplot(atb_res, x=\"label_speeds\", ax=axes[2])\n",
    "axes[2].set_title(f\"Label Speeds (atb)\")\n",
    "axes[2].set_xlabel(\"Speed (m/s)\")\n",
    "# sns.histplot(atb_res, x=\"label_speeds\", ax=axes[3])\n",
    "# axes[3].set_title(f\"Label Speeds (AtB)\")\n",
    "# axes[3].set_xlabel(\"Speed (m/s)\")\n",
    "sns.histplot(atb_res, x=\"absolute_error\", ax=axes[4])\n",
    "axes[4].set_title(f\"Absolute Error (atb)\")\n",
    "axes[4].set_xlabel(\"Error (s)\")\n",
    "# sns.histplot(atb_res, x=\"absolute_error\", ax=axes[5])\n",
    "# axes[5].set_title(f\"Absolute Error (AtB)\")\n",
    "# axes[5].set_xlabel(\"Error (s)\")\n",
    "plt.savefig(\"../plots/model_distribution_comparison.png\")"
   ]
  },
  {
   "cell_type": "code",
   "execution_count": null,
   "metadata": {},
   "outputs": [],
   "source": [
    "fig, axes = plt.subplots(3,2)\n",
    "fig.tight_layout()\n",
    "axes = axes.flatten()\n",
    "fig.set_figheight(10)\n",
    "fig.set_figwidth(8)\n",
    "sns.lineplot(atb_res, x=\"hour\", y=\"pred_speeds\", ax=axes[0])\n",
    "axes[0].set_title(f\"Predicted Speeds (atb)\")\n",
    "axes[0].set_xlabel(\"Hour of Day\")\n",
    "axes[0].set_ylabel(\"Speed (m/s)\")\n",
    "axes[0].set_xlim(0,24)\n",
    "axes[0].set_ylim(0,50)\n",
    "# sns.lineplot(atb_res, x=\"hour\", y=\"pred_speeds\", ax=axes[1])\n",
    "# axes[1].set_title(f\"Predicted Speeds (AtB)\")\n",
    "# axes[1].set_xlabel(\"Hour of Day\")\n",
    "# axes[1].set_ylabel(\"Speed (m/s)\")\n",
    "# axes[1].set_xlim(0,24)\n",
    "# axes[1].set_ylim(0,50)\n",
    "sns.lineplot(atb_res, x=\"hour\", y=\"label_speeds\", ax=axes[2])\n",
    "axes[2].set_title(f\"Label Speeds (atb)\")\n",
    "axes[2].set_xlabel(\"Hour of Day\")\n",
    "axes[2].set_ylabel(\"Speed (m/s)\")\n",
    "axes[2].set_xlim(0,24)\n",
    "axes[2].set_ylim(0,50)\n",
    "# sns.lineplot(atb_res, x=\"hour\", y=\"label_speeds\", ax=axes[3])\n",
    "# axes[3].set_title(f\"Label Speeds (AtB)\")\n",
    "# axes[3].set_xlabel(\"Hour of Day\")\n",
    "# axes[3].set_ylabel(\"Speed (m/s)\")\n",
    "# axes[3].set_xlim(0,24)\n",
    "# axes[3].set_ylim(0,50)\n",
    "sns.lineplot(atb_res, x=\"hour\", y=\"absolute_error\", ax=axes[4])\n",
    "axes[4].set_title(f\"Mean Absolute Error (atb)\")\n",
    "axes[4].set_xlabel(\"Hour of Day\")\n",
    "axes[4].set_ylabel(\"MAE (s)\")\n",
    "axes[4].set_xlim(0,24)\n",
    "axes[4].set_ylim(0,50)\n",
    "# sns.lineplot(atb_res, x=\"hour\", y=\"absolute_error\", ax=axes[5])\n",
    "# axes[5].set_title(f\"Mean Absolute Error (AtB)\")\n",
    "# axes[5].set_xlabel(\"Hour of Day\")\n",
    "# axes[5].set_ylabel(\"MAE (s)\")\n",
    "# axes[5].set_xlim(0,24)\n",
    "# axes[5].set_ylim(0,50)\n",
    "plt.savefig(\"../plots/model_hourly_comparison.png\")"
   ]
  },
  {
   "cell_type": "markdown",
   "metadata": {},
   "source": [
    "### Inference on Entire Network"
   ]
  },
  {
   "cell_type": "code",
   "execution_count": null,
   "metadata": {},
   "outputs": [],
   "source": [
    "importlib.reload(data_loader)"
   ]
  },
  {
   "cell_type": "code",
   "execution_count": null,
   "metadata": {},
   "outputs": [],
   "source": [
    "# Create grid of regularly spaced fake shingles to feed model\n",
    "inference_shingles = data_utils.create_grid_of_shingles(100, atb_config['grid_bounds'][0], atb_config['coord_ref_center'][0])"
   ]
  },
  {
   "cell_type": "code",
   "execution_count": null,
   "metadata": {},
   "outputs": [],
   "source": [
    "atb_dataset = data_loader.ContentDataset(inference_shingles, atb_config, skip_gtfs=True)\n",
    "loader = DataLoader(atb_dataset, sampler=SequentialSampler(atb_dataset), collate_fn=atb_nn_model.collate_fn, batch_size=atb_nn_model.batch_size, pin_memory=PIN_MEMORY, num_workers=NUM_WORKERS, drop_last=False)\n",
    "trainer = pl.Trainer(\n",
    "    accelerator=\"cpu\",\n",
    "    logger=False\n",
    ")\n",
    "preds_and_labels = trainer.predict(model=atb_nn_model, dataloaders=loader)"
   ]
  },
  {
   "cell_type": "code",
   "execution_count": null,
   "metadata": {},
   "outputs": [],
   "source": [
    "print(f\"Evaluating: {atb_nn_model.model_name}\")\n",
    "# Set up dataset\n",
    "atb_dataset = data_loader.LoadSliceDataset(f\"{RUN_FOLDER}{atb_NETWORK_FOLDER}deeptte_formatted/test\", atb_config, skip_gtfs=skip_gtfs)\n",
    "atb_ngrid = grids.NGridBetter(atb_config['grid_bounds'][0], grid_s_size)\n",
    "atb_ngrid.add_grid_content(atb_dataset.get_all_samples(keep_cols=['shingle_id','locationtime','x','y','speed_m_s','bearing']), trace_format=True)\n",
    "atb_ngrid.build_cell_lookup()\n",
    "atb_dataset.grid = atb_ngrid\n",
    "atb_dataset.add_grid_features = atb_nn_model.requires_grid\n",
    "loader = DataLoader(atb_dataset, sampler=SequentialSampler(atb_dataset), collate_fn=atb_nn_model.collate_fn, batch_size=atb_nn_model.batch_size, pin_memory=PIN_MEMORY, num_workers=NUM_WORKERS, drop_last=False)\n",
    "trainer = pl.Trainer(\n",
    "    accelerator=\"cpu\",\n",
    "    logger=False\n",
    ")\n",
    "preds_and_labels = trainer.predict(model=atb_nn_model, dataloaders=loader)"
   ]
  },
  {
   "cell_type": "code",
   "execution_count": null,
   "metadata": {},
   "outputs": [],
   "source": [
    "inference_shingles[0].keys()"
   ]
  },
  {
   "cell_type": "code",
   "execution_count": null,
   "metadata": {},
   "outputs": [],
   "source": [
    "print(f\"Evaluating: {atb_model.model_name}\")\n",
    "# Set up dataset\n",
    "atb_dataset = data_loader.GenericDataset([], atb_config)\n",
    "atb_dataset.content = inference_shingles\n",
    "atb_dataset.add_grid_features = atb_model.requires_grid\n",
    "loader = DataLoader(atb_dataset, sampler=SequentialSampler(atb_dataset), collate_fn=atb_model.collate_fn, batch_size=BATCH_SIZE, pin_memory=PIN_MEMORY, num_workers=NUM_WORKERS, drop_last=False)\n",
    "atb_data = atb_dataset.content\n",
    "# Test model\n",
    "atb_labels, atb_preds, avg_batch_loss, seq_lens = model_utils.predict(atb_model, loader, sequential_flag=True)\n",
    "atb_labels = data_utils.de_normalize(atb_labels, atb_config['time_calc_s_mean'], atb_config['time_calc_s_std'])\n",
    "atb_preds = data_utils.de_normalize(atb_preds, atb_config['time_calc_s_mean'], atb_config['time_calc_s_std'])\n",
    "atb_mask = data_utils.create_tensor_mask(torch.cat(seq_lens)).numpy()\n",
    "atb_preds = atb_preds*atb_mask\n",
    "atb_preds = atb_preds[atb_preds!=0.0]\n",
    "atb_labels = atb_labels*atb_mask\n",
    "atb_labels = atb_labels[atb_labels!=0.0]"
   ]
  },
  {
   "cell_type": "code",
   "execution_count": null,
   "metadata": {},
   "outputs": [],
   "source": [
    "# Get geometries and other features for every prediciton point\n",
    "lon = np.concatenate([np.array(sample['lon']) for sample in atb_data])\n",
    "lat = np.concatenate([np.array(sample['lat']) for sample in atb_data])\n",
    "x_coords = np.concatenate([np.array(sample['x']) for sample in atb_data])\n",
    "y_coords = np.concatenate([np.array(sample['y']) for sample in atb_data])\n",
    "dist_calc_km = np.concatenate([np.array(sample['dist_calc_km']) for sample in atb_data])\n",
    "bearing = np.concatenate([np.array(sample['bearing']) for sample in atb_data])\n",
    "atb_res = pd.DataFrame({\n",
    "    \"lon\": lon,\n",
    "    \"lat\": lat,\n",
    "    \"x_coords\": x_coords,\n",
    "    \"y_coords\": y_coords,\n",
    "    \"dist_calc_km\": dist_calc_km,\n",
    "    \"bearing\": bearing,\n",
    "    \"preds\": atb_preds,\n",
    "    \"labels\": atb_labels\n",
    "})\n",
    "atb_res['speed_m_s'] = atb_res['dist_calc_km']*1000 / atb_res['preds']\n",
    "# Transform x and y to replace dummy lat and lon for mapping\n",
    "transformer = pyproj.Transformer.from_crs(atb_crs, default_crs)\n",
    "atb_res['lat'], atb_res['lon'] = transformer.transform(atb_res['x_coords'], atb_res['y_coords'])\n",
    "points = gpd.points_from_xy(atb_res['lon'], atb_res['lat'], crs=default_crs)\n",
    "atb_res = gpd.GeoDataFrame(atb_res, geometry=points)"
   ]
  },
  {
   "cell_type": "code",
   "execution_count": null,
   "metadata": {},
   "outputs": [],
   "source": [
    "fig = ff.create_hexbin_mapbox(\n",
    "    data_frame=atb_res[atb_res['bearing']==90],\n",
    "    lat=\"lat\",\n",
    "    lon=\"lon\",\n",
    "    nx_hexagon=50,\n",
    "    opacity=0.5,\n",
    "    labels={\"color\": \"Mean Speed (m/s)\"},\n",
    "    color=\"speed_m_s\",\n",
    "    agg_func=np.mean,\n",
    "    color_continuous_scale=\"Icefire_r\",\n",
    ")\n",
    "fig.show()"
   ]
  },
  {
   "cell_type": "code",
   "execution_count": null,
   "metadata": {},
   "outputs": [],
   "source": [
    "fig = ff.create_hexbin_mapbox(\n",
    "    data_frame=atb_res[atb_res['bearing']==0],\n",
    "    lat=\"lat\",\n",
    "    lon=\"lon\",\n",
    "    nx_hexagon=50,\n",
    "    opacity=0.5,\n",
    "    labels={\"color\": \"Mean Speed (m/s)\"},\n",
    "    color=\"speed_m_s\",\n",
    "    agg_func=np.mean,\n",
    "    color_continuous_scale=\"Icefire_r\",\n",
    ")\n",
    "fig.show()"
   ]
  }
 ],
 "metadata": {
  "kernelspec": {
   "display_name": "valle_m1",
   "language": "python",
   "name": "python3"
  },
  "language_info": {
   "codemirror_mode": {
    "name": "ipython",
    "version": 3
   },
   "file_extension": ".py",
   "mimetype": "text/x-python",
   "name": "python",
   "nbconvert_exporter": "python",
   "pygments_lexer": "ipython3",
   "version": "3.10.12"
  },
  "orig_nbformat": 4,
  "vscode": {
   "interpreter": {
    "hash": "b30fe1de1713ca8e7537eef068b13a2de77ded03f86aab2e80ea73416dd3d704"
   }
  }
 },
 "nbformat": 4,
 "nbformat_minor": 2
}
