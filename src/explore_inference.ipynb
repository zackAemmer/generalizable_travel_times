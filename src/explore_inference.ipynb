{
 "cells": [
  {
   "cell_type": "code",
   "execution_count": null,
   "metadata": {},
   "outputs": [],
   "source": [
    "import os\n",
    "import importlib\n",
    "import json\n",
    "import matplotlib.pyplot as plt\n",
    "import geopandas as gpd\n",
    "import pandas as pd\n",
    "import plotly.express as px\n",
    "import plotly.figure_factory as ff\n",
    "import pyproj\n",
    "import seaborn as sns\n",
    "import lightning.pytorch as pl\n",
    "import numpy as np\n",
    "from shapely.geometry import Point\n",
    "from sklearn import metrics\n",
    "import torch\n",
    "from torch.utils.data import DataLoader, SequentialSampler\n",
    "from dotenv import load_dotenv\n",
    "load_dotenv()\n",
    "\n",
    "from models import grids\n",
    "from utils import data_loader, data_utils, model_utils\n",
    "\n",
    "RUN_FOLDER = \"../results/full_run/\"\n",
    "KCM_NETWORK_FOLDER = \"kcm/\"\n",
    "ATB_NETWORK_FOLDER = \"atb/\"\n",
    "\n",
    "with open(f\"{RUN_FOLDER}{KCM_NETWORK_FOLDER}deeptte_formatted/train_summary_config.json\", \"r\") as f:\n",
    "    kcm_config = json.load(f)\n",
    "kcm_crs = pyproj.crs.CRS.from_epsg(kcm_config['epsg'][0])\n",
    "\n",
    "with open(f\"{RUN_FOLDER}{ATB_NETWORK_FOLDER}deeptte_formatted/train_summary_config.json\", \"r\") as f:\n",
    "    atb_config = json.load(f)\n",
    "atb_crs = pyproj.crs.CRS.from_epsg(atb_config['epsg'][0])\n",
    "\n",
    "px.set_mapbox_access_token(os.getenv(\"MAPBOX_TOKEN\"))\n",
    "default_crs = pyproj.crs.CRS.from_epsg(4326)"
   ]
  },
  {
   "cell_type": "code",
   "execution_count": null,
   "metadata": {},
   "outputs": [],
   "source": [
    "# Define embedded variables for network models\n",
    "embed_dict = {\n",
    "    'timeID': {\n",
    "        'vocab_size': 1440,\n",
    "        'embed_dims': 27\n",
    "    },\n",
    "    'weekID': {\n",
    "        'vocab_size': 7,\n",
    "        'embed_dims': 4\n",
    "    }\n",
    "}\n",
    "hyperparameter_dict = {\n",
    "    'FF': {\n",
    "        'batch_size': 1024,\n",
    "        'hidden_size': 128,\n",
    "        'num_layers': 2,\n",
    "        'dropout_rate': .2\n",
    "    },\n",
    "    'CONV': {\n",
    "        'batch_size': 1024,\n",
    "        'hidden_size': 64,\n",
    "        'num_layers': 3,\n",
    "        'dropout_rate': .1\n",
    "    },\n",
    "    'GRU': {\n",
    "        'batch_size': 1024,\n",
    "        'hidden_size': 64,\n",
    "        'num_layers': 2,\n",
    "        'dropout_rate': .05\n",
    "    },\n",
    "    'TRSF': {\n",
    "        'batch_size': 1024,\n",
    "        'hidden_size': 64,\n",
    "        'num_layers': 3,\n",
    "        'dropout_rate': .1\n",
    "    },\n",
    "    'DEEPTTE': {\n",
    "        'batch_size': 1024\n",
    "    }\n",
    "}\n",
    "\n",
    "fold_num = 4\n",
    "grid_s_size = 500\n",
    "model_type=\"GRU\"\n",
    "skip_gtfs=False\n",
    "NUM_WORKERS=0\n",
    "PIN_MEMORY=False"
   ]
  },
  {
   "cell_type": "code",
   "execution_count": null,
   "metadata": {},
   "outputs": [],
   "source": [
    "# Load trained models\n",
    "kcm_base_model_list, kcm_nn_model = model_utils.make_one_model(model_type, hyperparameter_dict=hyperparameter_dict, embed_dict=embed_dict, config=kcm_config, load_weights=True, weight_folder=f\"{RUN_FOLDER}{KCM_NETWORK_FOLDER}models/{model_type}/\", fold_num=4, skip_gtfs=skip_gtfs)\n",
    "# model_list = model_utils.make_all_models_nosch(HIDDEN_SIZE, BATCH_SIZE, embed_dict, device, kcm_config, load_weights=True, weight_folder=f\"{RUN_FOLDER}{KCM_NETWORK_FOLDER}models/\", fold_num=FOLD_NUM)\n",
    "# kcm_model = model_list[1]\n",
    "\n",
    "# Load trained models\n",
    "atb_base_model_list, atb_nn_model = model_utils.make_one_model(model_type, hyperparameter_dict=hyperparameter_dict, embed_dict=embed_dict, config=atb_config, skip_gtfs=skip_gtfs)\n",
    "# model_list = model_utils.make_all_models_nosch(HIDDEN_SIZE, BATCH_SIZE, embed_dict, device, atb_config, load_weights=True, weight_folder=f\"{RUN_FOLDER}{ATB_NETWORK_FOLDER}models/\", fold_num=FOLD_NUM)\n",
    "# atb_model = model_list[1]"
   ]
  },
  {
   "cell_type": "markdown",
   "metadata": {},
   "source": [
    "### Inference on Sample of Shingles"
   ]
  },
  {
   "cell_type": "code",
   "execution_count": null,
   "metadata": {},
   "outputs": [],
   "source": [
    "print(f\"Evaluating: {kcm_nn_model.model_name}\")\n",
    "# Set up dataset\n",
    "kcm_dataset = data_loader.LoadSliceDataset(f\"{RUN_FOLDER}{KCM_NETWORK_FOLDER}deeptte_formatted/test\", kcm_config, skip_gtfs=skip_gtfs)\n",
    "kcm_ngrid = grids.NGridBetter(kcm_config['grid_bounds'][0], grid_s_size)\n",
    "kcm_ngrid.add_grid_content(kcm_dataset.get_all_samples(keep_cols=['shingle_id','locationtime','x','y','speed_m_s','bearing']), trace_format=True)\n",
    "kcm_ngrid.build_cell_lookup()\n",
    "kcm_dataset.grid = kcm_ngrid\n",
    "kcm_dataset.add_grid_features = kcm_nn_model.requires_grid\n",
    "loader = DataLoader(kcm_dataset, sampler=SequentialSampler(kcm_dataset), collate_fn=kcm_nn_model.collate_fn, batch_size=kcm_nn_model.batch_size, pin_memory=PIN_MEMORY, num_workers=NUM_WORKERS, drop_last=False)\n",
    "trainer = pl.Trainer(\n",
    "    accelerator=\"cpu\",\n",
    "    logger=False\n",
    ")\n",
    "preds_and_labels = trainer.predict(model=kcm_nn_model, dataloaders=loader)"
   ]
  },
  {
   "cell_type": "code",
   "execution_count": null,
   "metadata": {},
   "outputs": [],
   "source": [
    "# Extract predictions\n",
    "kcm_preds = np.concatenate([x['out'][x['mask']] for x in preds_and_labels])\n",
    "kcm_labels = np.concatenate([x['y'][x['mask']] for x in preds_and_labels])"
   ]
  },
  {
   "cell_type": "code",
   "execution_count": null,
   "metadata": {},
   "outputs": [],
   "source": [
    "# Extract data points\n",
    "kcm_data = [x for x in kcm_dataset]\n",
    "kcm_feats = np.concatenate([x['samp'] for x in kcm_data])\n",
    "kcm_ys = np.array([x['norm_label'] for x in kcm_data])\n",
    "kcm_res = pd.DataFrame(kcm_feats, columns=kcm_dataset.col_names)\n",
    "kcm_res['preds'] = kcm_preds\n",
    "kcm_res['labels'] = kcm_labels\n",
    "kcm_res"
   ]
  },
  {
   "cell_type": "code",
   "execution_count": null,
   "metadata": {},
   "outputs": [],
   "source": [
    "# Overall accuracy\n",
    "print(f\"MAE: {metrics.mean_absolute_error(kcm_labels,kcm_preds)}\")\n",
    "print(f\"MAPE: {metrics.mean_absolute_percentage_error(kcm_labels,kcm_preds)}\")\n",
    "\n",
    "# print(f\"MAE: {sklearn.metrics.mean_absolute_error(atb_labels,atb_preds)}\")\n",
    "# print(f\"MAPE: {sklearn.metrics.mean_absolute_percentage_error(atb_labels,atb_preds)}\")"
   ]
  },
  {
   "cell_type": "code",
   "execution_count": null,
   "metadata": {},
   "outputs": [],
   "source": [
    "# Get geometries and other features for every prediciton point\n",
    "kcm_res['pred_speeds'] = kcm_res['dist_calc_km']*1000 / kcm_res['preds']\n",
    "kcm_res['label_speeds'] = kcm_res['dist_calc_km']*1000 / kcm_res['labels']\n",
    "kcm_res['absolute_error'] = abs(kcm_res['preds'] - kcm_res['labels'])\n",
    "kcm_res['hour'] = kcm_res['timeID']//60\n",
    "points = gpd.points_from_xy(kcm_res['lon'], kcm_res['lat'], crs=\"EPSG:4326\")\n",
    "kcm_res = gpd.GeoDataFrame(kcm_res, geometry=points)\n",
    "kcm_res = kcm_res.sample(100000)"
   ]
  },
  {
   "cell_type": "code",
   "execution_count": null,
   "metadata": {},
   "outputs": [],
   "source": [
    "# Base data variance vs model variance in time/space\n",
    "print(f\"{np.mean(kcm_res['labels'])}, {np.std(kcm_res['labels'])}\")\n",
    "print(f\"{np.mean(kcm_res['preds'])}, {np.std(kcm_res['preds'])}\")"
   ]
  },
  {
   "cell_type": "code",
   "execution_count": null,
   "metadata": {},
   "outputs": [],
   "source": [
    "# axes = geoplot.pointplot(kcm_res, projection=geoplot.crs.AlbersEqualArea(), s=0.1)\n",
    "# geoplot.kdeplot(kcm_res, fill=True, cmap='coolwarm', alpha=0.5, bw_adjust=0.5, ax=axes)\n",
    "# axes.set_title(f\"Point Heatmap(KCM)\")\n",
    "# plt.savefig(\"../plots/model_spatial_performance_kcm.png\")\n",
    "\n",
    "# axes = geoplot.pointplot(atb_res, projection=geoplot.crs.AlbersEqualArea(), s=0.1)\n",
    "# geoplot.kdeplot(atb_res, fill=True, cmap='coolwarm', alpha=0.5, bw_adjust=0.5, ax=axes)\n",
    "# axes.set_title(f\"Point Heatmap (AtB)\")\n",
    "# plt.savefig(\"../plots/model_spatial_performance_atb.png\")"
   ]
  },
  {
   "cell_type": "code",
   "execution_count": null,
   "metadata": {},
   "outputs": [],
   "source": [
    "fig = ff.create_hexbin_mapbox(\n",
    "    data_frame=kcm_res,\n",
    "    lat=\"lat\",\n",
    "    lon=\"lon\",\n",
    "    nx_hexagon=30,\n",
    "    opacity=0.7,\n",
    "    labels={\"color\": \"SD of Predictions\"},\n",
    "    color=\"pred_speeds\",\n",
    "    agg_func=np.std,\n",
    "    color_continuous_scale=\"Icefire\",\n",
    "    range_color=[0,10]\n",
    ")\n",
    "fig.show()"
   ]
  },
  {
   "cell_type": "code",
   "execution_count": null,
   "metadata": {},
   "outputs": [],
   "source": [
    "fig = ff.create_hexbin_mapbox(\n",
    "    data_frame=kcm_res,\n",
    "    lat=\"lat\",\n",
    "    lon=\"lon\",\n",
    "    nx_hexagon=30,\n",
    "    opacity=0.7,\n",
    "    labels={\"color\": \"SD of Labels\"},\n",
    "    color=\"label_speeds\",\n",
    "    agg_func=np.std,\n",
    "    color_continuous_scale=\"Icefire\",\n",
    "    range_color=[0,10]\n",
    ")\n",
    "fig.show()"
   ]
  },
  {
   "cell_type": "code",
   "execution_count": null,
   "metadata": {},
   "outputs": [],
   "source": [
    "fig = ff.create_hexbin_mapbox(\n",
    "    data_frame=kcm_res,\n",
    "    lat=\"lat\",\n",
    "    lon=\"lon\",\n",
    "    nx_hexagon=30,\n",
    "    opacity=0.7,\n",
    "    labels={\"color\": \"MAE\"},\n",
    "    color=\"absolute_error\",\n",
    "    agg_func=np.mean,\n",
    "    color_continuous_scale=\"Icefire\",\n",
    "    range_color=[0,100]\n",
    ")\n",
    "fig.show()\n",
    "# fig.write_image(\"hexbin_map.png\")"
   ]
  },
  {
   "cell_type": "code",
   "execution_count": null,
   "metadata": {},
   "outputs": [],
   "source": [
    "fig, axes = plt.subplots(3,2)\n",
    "fig.tight_layout()\n",
    "axes = axes.flatten()\n",
    "fig.set_figheight(10)\n",
    "fig.set_figwidth(8)\n",
    "sns.histplot(kcm_res, x=\"pred_speeds\", ax=axes[0])\n",
    "axes[0].set_title(f\"Predicted Speeds(KCM)\")\n",
    "axes[0].set_xlabel(\"Speed (m/s)\")\n",
    "# sns.histplot(atb_res, x=\"pred_speeds\", ax=axes[1])\n",
    "# axes[1].set_title(f\"GRU Mean Absolute Error (AtB)\")\n",
    "# axes[1].set_xlabel(\"MAE (s)\")\n",
    "sns.histplot(kcm_res, x=\"label_speeds\", ax=axes[2])\n",
    "axes[2].set_title(f\"Label Speeds (KCM)\")\n",
    "axes[2].set_xlabel(\"Speed (m/s)\")\n",
    "# sns.histplot(atb_res, x=\"label_speeds\", ax=axes[3])\n",
    "# axes[3].set_title(f\"Label Speeds (AtB)\")\n",
    "# axes[3].set_xlabel(\"Speed (m/s)\")\n",
    "sns.histplot(kcm_res, x=\"absolute_error\", ax=axes[4])\n",
    "axes[4].set_title(f\"Absolute Error (KCM)\")\n",
    "axes[4].set_xlabel(\"Error (s)\")\n",
    "# sns.histplot(atb_res, x=\"absolute_error\", ax=axes[5])\n",
    "# axes[5].set_title(f\"Absolute Error (AtB)\")\n",
    "# axes[5].set_xlabel(\"Error (s)\")\n",
    "plt.savefig(\"../plots/model_distribution_comparison.png\")"
   ]
  },
  {
   "cell_type": "code",
   "execution_count": null,
   "metadata": {},
   "outputs": [],
   "source": [
    "fig, axes = plt.subplots(3,2)\n",
    "fig.tight_layout()\n",
    "axes = axes.flatten()\n",
    "fig.set_figheight(10)\n",
    "fig.set_figwidth(8)\n",
    "sns.lineplot(kcm_res, x=\"hour\", y=\"pred_speeds\", ax=axes[0])\n",
    "axes[0].set_title(f\"Predicted Speeds (KCM)\")\n",
    "axes[0].set_xlabel(\"Hour of Day\")\n",
    "axes[0].set_ylabel(\"Speed (m/s)\")\n",
    "axes[0].set_xlim(0,24)\n",
    "axes[0].set_ylim(0,50)\n",
    "# sns.lineplot(atb_res, x=\"hour\", y=\"pred_speeds\", ax=axes[1])\n",
    "# axes[1].set_title(f\"Predicted Speeds (AtB)\")\n",
    "# axes[1].set_xlabel(\"Hour of Day\")\n",
    "# axes[1].set_ylabel(\"Speed (m/s)\")\n",
    "# axes[1].set_xlim(0,24)\n",
    "# axes[1].set_ylim(0,50)\n",
    "sns.lineplot(kcm_res, x=\"hour\", y=\"label_speeds\", ax=axes[2])\n",
    "axes[2].set_title(f\"Label Speeds (KCM)\")\n",
    "axes[2].set_xlabel(\"Hour of Day\")\n",
    "axes[2].set_ylabel(\"Speed (m/s)\")\n",
    "axes[2].set_xlim(0,24)\n",
    "axes[2].set_ylim(0,50)\n",
    "# sns.lineplot(atb_res, x=\"hour\", y=\"label_speeds\", ax=axes[3])\n",
    "# axes[3].set_title(f\"Label Speeds (AtB)\")\n",
    "# axes[3].set_xlabel(\"Hour of Day\")\n",
    "# axes[3].set_ylabel(\"Speed (m/s)\")\n",
    "# axes[3].set_xlim(0,24)\n",
    "# axes[3].set_ylim(0,50)\n",
    "sns.lineplot(kcm_res, x=\"hour\", y=\"absolute_error\", ax=axes[4])\n",
    "axes[4].set_title(f\"Mean Absolute Error (KCM)\")\n",
    "axes[4].set_xlabel(\"Hour of Day\")\n",
    "axes[4].set_ylabel(\"MAE (s)\")\n",
    "axes[4].set_xlim(0,24)\n",
    "axes[4].set_ylim(0,50)\n",
    "# sns.lineplot(atb_res, x=\"hour\", y=\"absolute_error\", ax=axes[5])\n",
    "# axes[5].set_title(f\"Mean Absolute Error (AtB)\")\n",
    "# axes[5].set_xlabel(\"Hour of Day\")\n",
    "# axes[5].set_ylabel(\"MAE (s)\")\n",
    "# axes[5].set_xlim(0,24)\n",
    "# axes[5].set_ylim(0,50)\n",
    "plt.savefig(\"../plots/model_hourly_comparison.png\")"
   ]
  },
  {
   "cell_type": "markdown",
   "metadata": {},
   "source": [
    "### Inference on Entire Network"
   ]
  },
  {
   "cell_type": "code",
   "execution_count": null,
   "metadata": {},
   "outputs": [],
   "source": [
    "importlib.reload(data_loader)"
   ]
  },
  {
   "cell_type": "code",
   "execution_count": null,
   "metadata": {},
   "outputs": [],
   "source": [
    "# Create grid of regularly spaced fake shingles to feed model\n",
    "inference_shingles = data_utils.create_grid_of_shingles(100, kcm_config['grid_bounds'][0], kcm_config['coord_ref_center'][0])"
   ]
  },
  {
   "cell_type": "code",
   "execution_count": null,
   "metadata": {},
   "outputs": [],
   "source": [
    "kcm_dataset = data_loader.ContentDataset(inference_shingles, kcm_config, skip_gtfs=True)\n",
    "loader = DataLoader(kcm_dataset, sampler=SequentialSampler(kcm_dataset), collate_fn=kcm_nn_model.collate_fn, batch_size=kcm_nn_model.batch_size, pin_memory=PIN_MEMORY, num_workers=NUM_WORKERS, drop_last=False)\n",
    "trainer = pl.Trainer(\n",
    "    accelerator=\"cpu\",\n",
    "    logger=False\n",
    ")\n",
    "preds_and_labels = trainer.predict(model=kcm_nn_model, dataloaders=loader)"
   ]
  },
  {
   "cell_type": "code",
   "execution_count": null,
   "metadata": {},
   "outputs": [],
   "source": [
    "print(f\"Evaluating: {kcm_nn_model.model_name}\")\n",
    "# Set up dataset\n",
    "kcm_dataset = data_loader.LoadSliceDataset(f\"{RUN_FOLDER}{KCM_NETWORK_FOLDER}deeptte_formatted/test\", kcm_config, skip_gtfs=skip_gtfs)\n",
    "kcm_ngrid = grids.NGridBetter(kcm_config['grid_bounds'][0], grid_s_size)\n",
    "kcm_ngrid.add_grid_content(kcm_dataset.get_all_samples(keep_cols=['shingle_id','locationtime','x','y','speed_m_s','bearing']), trace_format=True)\n",
    "kcm_ngrid.build_cell_lookup()\n",
    "kcm_dataset.grid = kcm_ngrid\n",
    "kcm_dataset.add_grid_features = kcm_nn_model.requires_grid\n",
    "loader = DataLoader(kcm_dataset, sampler=SequentialSampler(kcm_dataset), collate_fn=kcm_nn_model.collate_fn, batch_size=kcm_nn_model.batch_size, pin_memory=PIN_MEMORY, num_workers=NUM_WORKERS, drop_last=False)\n",
    "trainer = pl.Trainer(\n",
    "    accelerator=\"cpu\",\n",
    "    logger=False\n",
    ")\n",
    "preds_and_labels = trainer.predict(model=kcm_nn_model, dataloaders=loader)"
   ]
  },
  {
   "cell_type": "code",
   "execution_count": null,
   "metadata": {},
   "outputs": [],
   "source": [
    "inference_shingles[0].keys()"
   ]
  },
  {
   "cell_type": "code",
   "execution_count": null,
   "metadata": {},
   "outputs": [],
   "source": [
    "print(f\"Evaluating: {kcm_model.model_name}\")\n",
    "# Set up dataset\n",
    "kcm_dataset = data_loader.GenericDataset([], kcm_config)\n",
    "kcm_dataset.content = inference_shingles\n",
    "kcm_dataset.add_grid_features = kcm_model.requires_grid\n",
    "loader = DataLoader(kcm_dataset, sampler=SequentialSampler(kcm_dataset), collate_fn=kcm_model.collate_fn, batch_size=BATCH_SIZE, pin_memory=PIN_MEMORY, num_workers=NUM_WORKERS, drop_last=False)\n",
    "kcm_data = kcm_dataset.content\n",
    "# Test model\n",
    "kcm_labels, kcm_preds, avg_batch_loss, seq_lens = model_utils.predict(kcm_model, loader, sequential_flag=True)\n",
    "kcm_labels = data_utils.de_normalize(kcm_labels, kcm_config['time_calc_s_mean'], kcm_config['time_calc_s_std'])\n",
    "kcm_preds = data_utils.de_normalize(kcm_preds, kcm_config['time_calc_s_mean'], kcm_config['time_calc_s_std'])\n",
    "kcm_mask = data_utils.create_tensor_mask(torch.cat(seq_lens)).numpy()\n",
    "kcm_preds = kcm_preds*kcm_mask\n",
    "kcm_preds = kcm_preds[kcm_preds!=0.0]\n",
    "kcm_labels = kcm_labels*kcm_mask\n",
    "kcm_labels = kcm_labels[kcm_labels!=0.0]"
   ]
  },
  {
   "cell_type": "code",
   "execution_count": null,
   "metadata": {},
   "outputs": [],
   "source": [
    "# Get geometries and other features for every prediciton point\n",
    "lon = np.concatenate([np.array(sample['lon']) for sample in kcm_data])\n",
    "lat = np.concatenate([np.array(sample['lat']) for sample in kcm_data])\n",
    "x_coords = np.concatenate([np.array(sample['x']) for sample in kcm_data])\n",
    "y_coords = np.concatenate([np.array(sample['y']) for sample in kcm_data])\n",
    "dist_calc_km = np.concatenate([np.array(sample['dist_calc_km']) for sample in kcm_data])\n",
    "bearing = np.concatenate([np.array(sample['bearing']) for sample in kcm_data])\n",
    "kcm_res = pd.DataFrame({\n",
    "    \"lon\": lon,\n",
    "    \"lat\": lat,\n",
    "    \"x_coords\": x_coords,\n",
    "    \"y_coords\": y_coords,\n",
    "    \"dist_calc_km\": dist_calc_km,\n",
    "    \"bearing\": bearing,\n",
    "    \"preds\": kcm_preds,\n",
    "    \"labels\": kcm_labels\n",
    "})\n",
    "kcm_res['speed_m_s'] = kcm_res['dist_calc_km']*1000 / kcm_res['preds']\n",
    "# Transform x and y to replace dummy lat and lon for mapping\n",
    "transformer = pyproj.Transformer.from_crs(kcm_crs, default_crs)\n",
    "kcm_res['lat'], kcm_res['lon'] = transformer.transform(kcm_res['x_coords'], kcm_res['y_coords'])\n",
    "points = gpd.points_from_xy(kcm_res['lon'], kcm_res['lat'], crs=default_crs)\n",
    "kcm_res = gpd.GeoDataFrame(kcm_res, geometry=points)"
   ]
  },
  {
   "cell_type": "code",
   "execution_count": null,
   "metadata": {},
   "outputs": [],
   "source": [
    "fig = ff.create_hexbin_mapbox(\n",
    "    data_frame=kcm_res[kcm_res['bearing']==90],\n",
    "    lat=\"lat\",\n",
    "    lon=\"lon\",\n",
    "    nx_hexagon=50,\n",
    "    opacity=0.5,\n",
    "    labels={\"color\": \"Mean Speed (m/s)\"},\n",
    "    color=\"speed_m_s\",\n",
    "    agg_func=np.mean,\n",
    "    color_continuous_scale=\"Icefire_r\",\n",
    ")\n",
    "fig.show()"
   ]
  },
  {
   "cell_type": "code",
   "execution_count": null,
   "metadata": {},
   "outputs": [],
   "source": [
    "fig = ff.create_hexbin_mapbox(\n",
    "    data_frame=kcm_res[kcm_res['bearing']==0],\n",
    "    lat=\"lat\",\n",
    "    lon=\"lon\",\n",
    "    nx_hexagon=50,\n",
    "    opacity=0.5,\n",
    "    labels={\"color\": \"Mean Speed (m/s)\"},\n",
    "    color=\"speed_m_s\",\n",
    "    agg_func=np.mean,\n",
    "    color_continuous_scale=\"Icefire_r\",\n",
    ")\n",
    "fig.show()"
   ]
  }
 ],
 "metadata": {
  "kernelspec": {
   "display_name": "valle_m1",
   "language": "python",
   "name": "python3"
  },
  "language_info": {
   "codemirror_mode": {
    "name": "ipython",
    "version": 3
   },
   "file_extension": ".py",
   "mimetype": "text/x-python",
   "name": "python",
   "nbconvert_exporter": "python",
   "pygments_lexer": "ipython3",
   "version": "3.10.12"
  },
  "orig_nbformat": 4,
  "vscode": {
   "interpreter": {
    "hash": "b30fe1de1713ca8e7537eef068b13a2de77ded03f86aab2e80ea73416dd3d704"
   }
  }
 },
 "nbformat": 4,
 "nbformat_minor": 2
}
