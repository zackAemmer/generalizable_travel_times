{
 "cells": [
  {
   "cell_type": "code",
   "execution_count": null,
   "metadata": {},
   "outputs": [],
   "source": [
    "import importlib\n",
    "import matplotlib.pyplot as plt\n",
    "import pandas as pd\n",
    "import os\n",
    "import seaborn as sns\n",
    "import numpy as np\n",
    "\n",
    "from utils import data_utils\n",
    "\n",
    "run_folder_kcm = \"../results/full_run/kcm/models/\"\n",
    "run_folder_atb = \"../results/full_run/atb/models/\"\n",
    "run_folder_mix = \"../results/full_run_nosch/kcm_atb/models/\"\n",
    "run_folder_rut = \"../results/full_run_nosch/rut/models/\""
   ]
  },
  {
   "cell_type": "code",
   "execution_count": null,
   "metadata": {},
   "outputs": [],
   "source": [
    "# Hyperparam results per network:\n",
    "# CONV (128, 64, 3, 0.1)\n",
    "# FF (128, 128, 2, 0.2)\n",
    "# GRU (128, 64, 2, 0.05)\n",
    "# TRSF (128, 64, 3, 0.1)\n",
    "\n",
    "# KCM\n",
    "# 512, 16, 2, 0.4 (TRSF)\n",
    "# 512, 16, 5, 0.1\n",
    "# 512, 128, 4, 0.4\n",
    "# 128, 128, 2, 0.2 (FF)\n",
    "# 128, 128, 2, 0.05 (GRU, CONV)\n",
    "# 512, 16, 4, 0.2\n",
    "# 1024, 16, 4, 0.1\n",
    "\n",
    "# Model Epochs TestLoss\n",
    "# CONV_0\t10.000000\t18.066327\n",
    "# FF_0\t11.333333\t168.559759\n",
    "# GRU_0\t16.000000\t18.540478\n",
    "# TRSF_0\t10.000000\t22.919503\n",
    "\n",
    "# CONV_0\t10.000000\t17.851481\n",
    "# FF_0\t11.333333\t157.528422\n",
    "# GRU_0\t10.000000\t22.917446\n",
    "# TRSF_0\t10.000000\t22.915722\n",
    "\n",
    "# CONV_0\t12.0\t15.852690\n",
    "# FF_0\t14.0\t153.020960\n",
    "# GRU_0\t10.0\t22.916604\n",
    "# TRSF_0\t10.0\t22.912308\n",
    "\n",
    "# CONV_0\t12.8\t15.829175\n",
    "# FF_0\t38.8\t137.929590\n",
    "# GRU_0\t10.0\t16.677470\n",
    "# TRSF_0\t10.0\t22.853009\n",
    "\n",
    "# CONV_1\t12.8\t15.750058\n",
    "# FF_1\t38.0\t138.345676\n",
    "# GRU_1\t10.0\t16.506545\n",
    "# TRSF_1\t10.0\t22.851783\n",
    "\n",
    "# CONV_0\t10.0\t17.629307\n",
    "# FF_0\t11.0\t158.601257\n",
    "# GRU_0\t10.0\t22.885823\n",
    "# TRSF_0\t10.0\t22.888074\n",
    "\n",
    "# CONV_1\t10.0\t18.191666\n",
    "# FF_1\t13.0\t157.479233\n",
    "# GRU_1\t10.0\t22.871649\n",
    "# TRSF_1\t10.0\t22.862472\n",
    "\n",
    "\n",
    "# AtB\n",
    "# 512, 32, 3, 0.2\n",
    "# 512, 32, 5, 0.4\n",
    "# 512, 16, 2, 0.4\n",
    "# 128, 32, 4, 0.2\n",
    "# 128, 64, 5, 0.05 (CONV, FF, GRU, TRSF)\n",
    "\n",
    "# CONV_0\t12.666667\t7.069618\n",
    "# FF_0\t19.333333\t63.465285\n",
    "# GRU_0\t17.333333\t9.175895\n",
    "# TRSF_0\t16.000000\t9.075986\n",
    "\n",
    "# CONV_0\t12.000000\t6.991179\n",
    "# FF_0\t18.000000\t67.876277\n",
    "# GRU_0\t16.666667\t9.161330\n",
    "# TRSF_0\t20.000000\t9.001094\n",
    "\n",
    "# CONV_0\t14.000000\t7.567914\n",
    "# FF_0\t23.333333\t66.901993\n",
    "# GRU_0\t20.000000\t9.058873\n",
    "# TRSF_0\t16.000000\t9.404305\n",
    "\n",
    "# CONV_0\t10.8\t6.135663\n",
    "# FF_0\t17.2\t63.238688\n",
    "# GRU_0\t11.6\t8.897823\n",
    "# TRSF_0\t11.6\t8.895937\n",
    "\n",
    "# CONV_1\t10.0\t6.058242\n",
    "# FF_1\t19.2\t60.404724\n",
    "# GRU_1\t10.0\t8.898676\n",
    "# TRSF_1\t10.8\t8.893464"
   ]
  },
  {
   "cell_type": "code",
   "execution_count": null,
   "metadata": {},
   "outputs": [],
   "source": [
    "# Need to combine model results for all models\n",
    "model_list = [x for x in os.listdir(run_folder_kcm) if (x[-3:]!=\"pkl\" and x!=\".DS_Store\")]\n",
    "all_model_results = []\n",
    "all_model_times = []\n",
    "all_model_gen_results = []\n",
    "all_model_curves = []\n",
    "for i, m in enumerate(model_list):\n",
    "    training_results = data_utils.load_pkl(f\"{run_folder_kcm}{m}/model_results.pkl\")\n",
    "    results_df, time_df = data_utils.extract_results(training_results, \"Seattle\")\n",
    "    curve_df = data_utils.extract_lightning_results(m, f\"{run_folder_kcm}{m}/logs/{m}\", \"Seattle\")\n",
    "    curve_df = curve_df[curve_df[\"Loss Set\"].isin([\"Train\",\"Valid\"])]\n",
    "    if m[-4:]!=\"GRID\":\n",
    "        gen_results = data_utils.load_pkl(f\"{run_folder_kcm}{m}/model_generalization_results.pkl\")\n",
    "        gen_df = data_utils.extract_gen_results(gen_results, \"Seattle\")\n",
    "    if i!=0:\n",
    "        results_df = results_df[results_df['Model']==m]\n",
    "        time_df = time_df[time_df['Model']==m]\n",
    "        gen_df = gen_df[gen_df['Model']==m]\n",
    "    all_model_results.append(results_df)\n",
    "    all_model_times.append(time_df)\n",
    "    all_model_gen_results.append(gen_df)\n",
    "    all_model_curves.append(curve_df)\n",
    "kcm_result_df = pd.concat(all_model_results).sort_values([\"Model\",\"Fold\"])\n",
    "kcm_time_df = pd.concat(all_model_times).sort_values([\"Model\",\"Fold\"])\n",
    "kcm_gen_df = pd.concat(all_model_gen_results).sort_values([\"Model\",\"Fold\"])\n",
    "kcm_curve_df = pd.concat(all_model_curves).sort_values([\"Model\",\"Fold\"])\n",
    "kcm_baseline_df = kcm_gen_df[kcm_gen_df['Loss']==\"Train_Losses\"].copy()\n",
    "kcm_baseline_df['Loss'] = \"Network Baseline\"\n",
    "kcm_baseline_df = kcm_baseline_df[['Model','City','Loss','Fold','MAPE','RMSE','MAE']]\n",
    "\n",
    "# Need to combine model results for all models\n",
    "model_list = [x for x in os.listdir(run_folder_atb) if (x[-3:]!=\"pkl\" and x!=\".DS_Store\")]\n",
    "all_model_results = []\n",
    "all_model_times = []\n",
    "all_model_gen_results = []\n",
    "all_model_curves = []\n",
    "for i, m in enumerate(model_list):\n",
    "    training_results = data_utils.load_pkl(f\"{run_folder_atb}{m}/model_results.pkl\")\n",
    "    results_df, time_df = data_utils.extract_results(training_results, \"Trondheim\")\n",
    "    curve_df = data_utils.extract_lightning_results(m, f\"{run_folder_atb}{m}/logs/{m}\", \"Trondheim\")\n",
    "    curve_df = curve_df[curve_df[\"Loss Set\"].isin([\"Train\",\"Valid\"])]\n",
    "    if m[-4:]!=\"GRID\":\n",
    "        gen_results = data_utils.load_pkl(f\"{run_folder_atb}{m}/model_generalization_results.pkl\")\n",
    "        gen_df = data_utils.extract_gen_results(gen_results, \"Trondheim\")\n",
    "    if i!=0:\n",
    "        results_df = results_df[results_df['Model']==m]\n",
    "        time_df = time_df[time_df['Model']==m]\n",
    "        gen_df = gen_df[gen_df['Model']==m]\n",
    "    all_model_results.append(results_df)\n",
    "    all_model_times.append(time_df)\n",
    "    all_model_gen_results.append(gen_df)\n",
    "    all_model_curves.append(curve_df)\n",
    "atb_result_df = pd.concat(all_model_results).sort_values([\"Model\",\"Fold\"])\n",
    "atb_time_df = pd.concat(all_model_times).sort_values([\"Model\",\"Fold\"])\n",
    "atb_gen_df = pd.concat(all_model_gen_results).sort_values([\"Model\",\"Fold\"])\n",
    "atb_curve_df = pd.concat(all_model_curves).sort_values([\"Model\",\"Fold\"])\n",
    "atb_baseline_df = atb_gen_df[atb_gen_df['Loss']==\"Train_Losses\"].copy()\n",
    "atb_baseline_df['Loss'] = \"Network Baseline\"\n",
    "atb_baseline_df = atb_baseline_df[['Model','City','Loss','Fold','MAPE','RMSE','MAE']]"
   ]
  },
  {
   "cell_type": "code",
   "execution_count": null,
   "metadata": {},
   "outputs": [],
   "source": [
    "model_curves_df = pd.concat([kcm_curve_df, atb_curve_df])\n",
    "print(f\"All Unique NN Models: {pd.unique(model_curves_df['Model'])}\")"
   ]
  },
  {
   "attachments": {},
   "cell_type": "markdown",
   "metadata": {},
   "source": [
    "### Model Performance"
   ]
  },
  {
   "cell_type": "code",
   "execution_count": null,
   "metadata": {},
   "outputs": [],
   "source": [
    "kcm_result_df.groupby([\"Model\"])[[\"MAPE\"]].agg([\"mean\",\"std\"])"
   ]
  },
  {
   "cell_type": "code",
   "execution_count": null,
   "metadata": {},
   "outputs": [],
   "source": [
    "plot_data = kcm_result_df\n",
    "fig, axes = plt.subplots(1,1)\n",
    "fig.set_figheight(6)\n",
    "fig.set_figwidth(8)\n",
    "sns.barplot(plot_data, x=\"MAPE\", y=\"Model\", ax=axes)\n",
    "axes.set_xlim([0, 0.5])\n",
    "fig.suptitle('KCM Model Performance', fontsize=16)\n",
    "fig.tight_layout()\n",
    "plt.savefig(\"../plots/model_performances_kcm.png\", dpi=600, bbox_inches='tight')"
   ]
  },
  {
   "cell_type": "code",
   "execution_count": null,
   "metadata": {},
   "outputs": [],
   "source": [
    "atb_result_df.groupby([\"Model\"])[[\"MAPE\"]].agg([\"mean\",\"std\"])"
   ]
  },
  {
   "cell_type": "code",
   "execution_count": null,
   "metadata": {},
   "outputs": [],
   "source": [
    "plot_data = atb_result_df\n",
    "fig, axes = plt.subplots(1,1)\n",
    "fig.set_figheight(6)\n",
    "fig.set_figwidth(8)\n",
    "sns.barplot(plot_data, x=\"MAPE\", y=\"Model\", ax=axes)\n",
    "axes.set_xlim([0, 0.5])\n",
    "fig.suptitle('AtB Model Performance', fontsize=16)\n",
    "fig.tight_layout()\n",
    "plt.savefig(\"../plots/model_performances_atb.png\", dpi=600, bbox_inches='tight')"
   ]
  },
  {
   "attachments": {},
   "cell_type": "markdown",
   "metadata": {},
   "source": [
    "### Training Time"
   ]
  },
  {
   "cell_type": "code",
   "execution_count": null,
   "metadata": {},
   "outputs": [],
   "source": [
    "# plot_data = kcm_time_df[~kcm_time_df['Model'].isin([\"AVG\",\"SCH\",\"PER_TIM\"])]\n",
    "# fig, axes = plt.subplots(1,1)\n",
    "# fig.set_figheight(6)\n",
    "# fig.set_figwidth(8)\n",
    "# sns.barplot(plot_data, x=\"Time\", y=\"Model\", hue=\"Model\", dodge=False)\n",
    "# axes.set_ylabel(\"Model\")\n",
    "# axes.set_xlabel(\"Training Time (s)\")\n",
    "# fig.suptitle('Per-Fold Model Training Time On KCM', fontsize=16)\n",
    "# fig.tight_layout()\n",
    "# plt.savefig(\"../plots/model_train_time_kcm.png\", dpi=600, bbox_inches='tight')"
   ]
  },
  {
   "cell_type": "code",
   "execution_count": null,
   "metadata": {},
   "outputs": [],
   "source": [
    "# plot_data = atb_time_df[~atb_time_df['Model'].isin([\"AVG\",\"SCH\",\"PER_TIM\"])]\n",
    "# fig, axes = plt.subplots(1,1)\n",
    "# fig.set_figheight(6)\n",
    "# fig.set_figwidth(8)\n",
    "# sns.barplot(plot_data, x=\"Time\", y=\"Model\", hue=\"Model\", dodge=False)\n",
    "# axes.set_ylabel(\"Model\")\n",
    "# axes.set_xlabel(\"Training Time (s)\")\n",
    "# fig.suptitle('Per-Fold Model Training Time On AtB', fontsize=16)\n",
    "# fig.tight_layout()\n",
    "# plt.savefig(\"../plots/model_train_time_atb.png\", dpi=600, bbox_inches='tight')"
   ]
  },
  {
   "attachments": {},
   "cell_type": "markdown",
   "metadata": {},
   "source": [
    "### Training Curves"
   ]
  },
  {
   "cell_type": "code",
   "execution_count": null,
   "metadata": {},
   "outputs": [],
   "source": [
    "model_list = pd.unique(model_curves_df['Model'])\n",
    "plot_data = model_curves_df[model_curves_df['Model'].isin(model_list[:3])]\n",
    "g = sns.FacetGrid(data=plot_data, col=\"City\", row=\"Model\", hue=\"Loss Set\", hue_order=[\"Train\",\"Valid\"], height=4, sharex=False, sharey=False)\n",
    "g.map(sns.lineplot, \"Epoch\", \"Loss\")\n",
    "g.add_legend()\n",
    "plt.savefig(f\"../plots/model_curves_1.png\", dpi=600, bbox_inches='tight')"
   ]
  },
  {
   "cell_type": "code",
   "execution_count": null,
   "metadata": {},
   "outputs": [],
   "source": [
    "model_list = pd.unique(model_curves_df['Model'])\n",
    "plot_data = model_curves_df[model_curves_df['Model'].isin(model_list[3:6])]\n",
    "g = sns.FacetGrid(data=plot_data, col=\"City\", row=\"Model\", hue=\"Loss Set\", hue_order=[\"Train\",\"Valid\"], height=4, sharex=False, sharey=False)\n",
    "g.map(sns.lineplot, \"Epoch\", \"Loss\")\n",
    "g.add_legend()\n",
    "plt.savefig(f\"../plots/model_curves_2.png\", dpi=600, bbox_inches='tight')"
   ]
  },
  {
   "cell_type": "code",
   "execution_count": null,
   "metadata": {},
   "outputs": [],
   "source": [
    "model_list = pd.unique(model_curves_df['Model'])\n",
    "plot_data = model_curves_df[model_curves_df['Model'].isin(model_list[6:])]\n",
    "g = sns.FacetGrid(data=plot_data, col=\"City\", row=\"Model\", hue=\"Loss Set\", hue_order=[\"Train\",\"Valid\"], height=4, sharex=False, sharey=False)\n",
    "g.map(sns.lineplot, \"Epoch\", \"Loss\")\n",
    "g.add_legend()\n",
    "plt.savefig(f\"../plots/model_curves_3.png\", dpi=600, bbox_inches='tight')"
   ]
  },
  {
   "attachments": {},
   "cell_type": "markdown",
   "metadata": {},
   "source": [
    "### Generalization (Across Networks)"
   ]
  },
  {
   "cell_type": "code",
   "execution_count": null,
   "metadata": {},
   "outputs": [],
   "source": [
    "plot_data = atb_gen_df[atb_gen_df['Loss']==\"Test_Losses\"].copy()\n",
    "plot_data = pd.concat([plot_data, kcm_baseline_df])\n",
    "plot_data = plot_data[~plot_data['Model'].isin([\"AVG\",\"SCH\",\"PER_TIM\",\"TRSF\",\"TRSF_GTFS\"])]\n",
    "plot_data['Loss'] = plot_data['Loss'].replace([\"Test_Losses\"],[\"Model Trained on AtB\"])\n",
    "fig, axes = plt.subplots(1,1)\n",
    "fig.set_figheight(6)\n",
    "fig.set_figwidth(8)\n",
    "sns.barplot(plot_data, x=\"MAPE\", y=\"Model\", hue=\"Loss\", dodge=True)\n",
    "axes.set_xlim([0,.5])\n",
    "axes.set_ylabel(\"Model\")\n",
    "axes.set_xlabel(\"Model Performance (MAPE)\")\n",
    "fig.suptitle('KCM Network Generalization Performance', fontsize=16)\n",
    "fig.tight_layout()\n",
    "plt.savefig(\"../plots/model_generalization_kcm.png\", dpi=600, bbox_inches='tight')"
   ]
  },
  {
   "cell_type": "code",
   "execution_count": null,
   "metadata": {},
   "outputs": [],
   "source": [
    "plot_data = kcm_gen_df[kcm_gen_df['Loss']==\"Test_Losses\"].copy()\n",
    "plot_data = pd.concat([plot_data, atb_baseline_df])\n",
    "plot_data = plot_data[~plot_data['Model'].isin([\"AVG\",\"SCH\",\"PER_TIM\",\"TRSF\",\"TRSF_GTFS\"])]\n",
    "plot_data['Loss'] = plot_data['Loss'].replace([\"Test_Losses\"],[\"Model Trained on KCM\"])\n",
    "fig, axes = plt.subplots(1,1)\n",
    "fig.set_figheight(6)\n",
    "fig.set_figwidth(8)\n",
    "sns.barplot(plot_data, x=\"MAPE\", y=\"Model\", hue=\"Loss\", dodge=True)\n",
    "axes.set_xlim([0, .5])\n",
    "axes.set_ylabel(\"Model\")\n",
    "axes.set_xlabel(\"Model Performance (MAPE)\")\n",
    "fig.suptitle('AtB Network Generalization Performance', fontsize=16)\n",
    "fig.tight_layout()\n",
    "plt.savefig(\"../plots/model_generalization_atb.png\", dpi=600, bbox_inches='tight')"
   ]
  },
  {
   "attachments": {},
   "cell_type": "markdown",
   "metadata": {},
   "source": [
    "### Generalization (Within Network)"
   ]
  },
  {
   "cell_type": "code",
   "execution_count": null,
   "metadata": {},
   "outputs": [],
   "source": [
    "plot_data = kcm_gen_df[kcm_gen_df['Loss']==\"Holdout_Losses\"].copy()\n",
    "plot_data = pd.concat([plot_data, kcm_baseline_df])\n",
    "plot_data = plot_data[~plot_data['Model'].isin([\"AVG\",\"SCH\",\"PER_TIM\",\"TRSF\",\"TRSF_GTFS\"])]\n",
    "plot_data['Loss'] = plot_data['Loss'].replace([\"Holdout_Losses\"],[\"Holdout Routes\"])\n",
    "fig, axes = plt.subplots(1,1)\n",
    "fig.set_figheight(6)\n",
    "fig.set_figwidth(8)\n",
    "sns.barplot(plot_data, x=\"MAPE\", y=\"Model\", hue=\"Loss\", dodge=True)\n",
    "axes.set_xlim([0, .5])\n",
    "axes.set_ylabel(\"Model\")\n",
    "axes.set_xlabel(\"Model Performance (MAPE)\")\n",
    "fig.suptitle('KCM Network Holdout Route Performance', fontsize=16)\n",
    "fig.tight_layout()\n",
    "plt.savefig(\"../plots/model_holdout_route_kcm.png\", dpi=600, bbox_inches='tight')"
   ]
  },
  {
   "cell_type": "code",
   "execution_count": null,
   "metadata": {},
   "outputs": [],
   "source": [
    "plot_data = atb_gen_df[atb_gen_df['Loss']==\"Holdout_Losses\"].copy()\n",
    "plot_data = pd.concat([plot_data, atb_baseline_df])\n",
    "plot_data = plot_data[~plot_data['Model'].isin([\"AVG\",\"SCH\",\"PER_TIM\",\"TRSF\",\"TRSF_GTFS\"])]\n",
    "plot_data['Loss'] = plot_data['Loss'].replace([\"Holdout_Losses\"],[\"Holdout Routes\"])\n",
    "fig, axes = plt.subplots(1,1)\n",
    "fig.set_figheight(6)\n",
    "fig.set_figwidth(8)\n",
    "sns.barplot(plot_data, x=\"MAPE\", y=\"Model\", hue=\"Loss\", dodge=True)\n",
    "axes.set_xlim([0, .5])\n",
    "axes.set_ylabel(\"Model\")\n",
    "axes.set_xlabel(\"Model Performance (MAPE)\")\n",
    "fig.suptitle('AtB Network Holdout Route Performance', fontsize=16)\n",
    "fig.tight_layout()\n",
    "plt.savefig(\"../plots/model_holdout_route_atb.png\", dpi=600, bbox_inches='tight')"
   ]
  },
  {
   "attachments": {},
   "cell_type": "markdown",
   "metadata": {},
   "source": [
    "### Fine Tuning"
   ]
  },
  {
   "cell_type": "code",
   "execution_count": null,
   "metadata": {},
   "outputs": [],
   "source": [
    "plot_data = atb_gen_df[atb_gen_df['Loss'].isin(['Tune_Test_Losses','Test_Losses'])]\n",
    "plot_data = pd.concat([plot_data, kcm_baseline_df])\n",
    "plot_data = plot_data[~plot_data['Model'].isin([\"AVG\",\"SCH\",\"PER_TIM\",\"TRSF\",\"TRSF_GTFS\"])]\n",
    "plot_data['Loss'] = plot_data['Loss'].replace([\"Tune_Test_Losses\",\"Test_Losses\"],[\"Model Trained on AtB + Tuning\", \"Model Trained on AtB\"])\n",
    "fig, axes = plt.subplots(1,1)\n",
    "fig.set_figheight(6)\n",
    "fig.set_figwidth(8)\n",
    "sns.barplot(plot_data, x=\"MAPE\", y=\"Model\", hue=\"Loss\", dodge=True)\n",
    "axes.set_xlim([0, .5])\n",
    "axes.set_ylabel(\"Model\")\n",
    "axes.set_xlabel(\"Model Performance (MAPE)\")\n",
    "fig.suptitle('KCM Tuned Network Generalization Performance', fontsize=16)\n",
    "fig.tight_layout()\n",
    "plt.savefig(\"../plots/model_tuning_kcm.png\", dpi=600, bbox_inches='tight')"
   ]
  },
  {
   "cell_type": "code",
   "execution_count": null,
   "metadata": {},
   "outputs": [],
   "source": [
    "plot_data = kcm_gen_df[kcm_gen_df['Loss'].isin(['Tune_Test_Losses','Test_Losses'])]\n",
    "plot_data = pd.concat([plot_data, atb_baseline_df])\n",
    "plot_data = plot_data[~plot_data['Model'].isin([\"AVG\",\"SCH\",\"PER_TIM\",\"TRSF\",\"TRSF_GTFS\"])]\n",
    "plot_data['Loss'] = plot_data['Loss'].replace([\"Tune_Test_Losses\",\"Test_Losses\"],[\"Model Trained on KCM + Tuning\", \"Model Trained on KCM\"])\n",
    "fig, axes = plt.subplots(1,1)\n",
    "fig.set_figheight(6)\n",
    "fig.set_figwidth(8)\n",
    "sns.barplot(plot_data, x=\"MAPE\", y=\"Model\", hue=\"Loss\", dodge=True)\n",
    "axes.set_xlim([0, .5])\n",
    "axes.set_ylabel(\"Model\")\n",
    "axes.set_xlabel(\"Model Performance (MAPE)\")\n",
    "fig.suptitle('AtB Tuned Network Generalization Performance', fontsize=16)\n",
    "fig.tight_layout()\n",
    "plt.savefig(\"../plots/model_tuning_atb.png\", dpi=600, bbox_inches='tight')"
   ]
  },
  {
   "cell_type": "code",
   "execution_count": null,
   "metadata": {},
   "outputs": [],
   "source": [
    "plot_data = kcm_gen_df[kcm_gen_df['Loss']==\"Tune_Train_Losses\"]\n",
    "plot_data = pd.concat([plot_data, kcm_baseline_df])\n",
    "plot_data = plot_data[~plot_data['Model'].isin([\"AVG\",\"SCH\",\"PER_TIM\",\"TRSF\",\"TRSF_GTFS\"])]\n",
    "plot_data['Loss'] = plot_data['Loss'].replace([\"Tune_Train_Losses\"],[\"KCM Model Tuned on AtB\"])\n",
    "fig, axes = plt.subplots(1,1)\n",
    "fig.set_figheight(6)\n",
    "fig.set_figwidth(8)\n",
    "sns.barplot(plot_data, x=\"MAPE\", y=\"Model\", hue=\"Loss\", dodge=True)\n",
    "axes.set_xlim([0,.5])\n",
    "axes.set_ylabel(\"Model\")\n",
    "axes.set_xlabel(\"Model Performance (MAPE)\")\n",
    "fig.suptitle('KCM Network Deterioration', fontsize=16)\n",
    "fig.tight_layout()\n",
    "plt.savefig(\"../plots/model_deterioration_kcm.png\", dpi=600, bbox_inches='tight')"
   ]
  },
  {
   "cell_type": "code",
   "execution_count": null,
   "metadata": {},
   "outputs": [],
   "source": [
    "plot_data = atb_gen_df[atb_gen_df['Loss']==\"Tune_Train_Losses\"]\n",
    "plot_data = pd.concat([plot_data, atb_baseline_df])\n",
    "plot_data = plot_data[~plot_data['Model'].isin([\"AVG\",\"SCH\",\"PER_TIM\",\"TRSF\",\"TRSF_GTFS\"])]\n",
    "plot_data['Loss'] = plot_data['Loss'].replace([\"Tune_Train_Losses\"],[\"AtB Model Tuned on KCM\"])\n",
    "fig, axes = plt.subplots(1,1)\n",
    "fig.set_figheight(6)\n",
    "fig.set_figwidth(8)\n",
    "sns.barplot(plot_data, x=\"MAPE\", y=\"Model\", hue=\"Loss\", dodge=True)\n",
    "axes.set_xlim([0,.5])\n",
    "axes.set_ylabel(\"Model\")\n",
    "axes.set_xlabel(\"Model Performance (MAPE)\")\n",
    "fig.suptitle('AtB Network Deterioration', fontsize=16)\n",
    "fig.tight_layout()\n",
    "plt.savefig(\"../plots/model_deterioration_atb.png\", dpi=600, bbox_inches='tight')"
   ]
  },
  {
   "cell_type": "markdown",
   "metadata": {},
   "source": [
    "### Mixed Data"
   ]
  },
  {
   "cell_type": "code",
   "execution_count": null,
   "metadata": {},
   "outputs": [],
   "source": [
    "# Need to combine model results for all models\n",
    "model_list = [x for x in os.listdir(run_folder_mix) if (x[-3:]!=\"pkl\" and x!=\".DS_Store\")]\n",
    "all_model_results = []\n",
    "all_model_times = []\n",
    "all_model_gen_results = []\n",
    "all_model_curves = []\n",
    "for i, m in enumerate(model_list):\n",
    "    training_results = data_utils.load_pkl(f\"{run_folder_mix}{m}/model_results.pkl\")\n",
    "    results_df, time_df = data_utils.extract_results(training_results, \"Mixed\")\n",
    "    curve_df = data_utils.extract_lightning_results(m, f\"{run_folder_kcm}{m}/logs/{m}\", \"Mixed\")\n",
    "    curve_df = curve_df[curve_df[\"Loss Set\"].isin([\"Train\",\"Valid\"])]\n",
    "    if m[-4:]!=\"GRID\":\n",
    "        gen_results = data_utils.load_pkl(f\"{run_folder_kcm}{m}/model_generalization_results.pkl\")\n",
    "        gen_df = data_utils.extract_gen_results(gen_results, \"Mixed\")\n",
    "    if i!=0:\n",
    "        results_df = results_df[results_df['Model']==m]\n",
    "        time_df = time_df[time_df['Model']==m]\n",
    "        gen_df = gen_df[gen_df['Model']==m]\n",
    "    all_model_results.append(results_df)\n",
    "    all_model_times.append(time_df)\n",
    "    all_model_gen_results.append(gen_df)\n",
    "    all_model_curves.append(curve_df)\n",
    "mix_result_df = pd.concat(all_model_results).sort_values([\"Model\",\"Fold\"])\n",
    "mix_time_df = pd.concat(all_model_times).sort_values([\"Model\",\"Fold\"])\n",
    "mix_gen_df = pd.concat(all_model_gen_results).sort_values([\"Model\",\"Fold\"])\n",
    "mix_curve_df = pd.concat(all_model_curves).sort_values([\"Model\",\"Fold\"])\n",
    "\n",
    "mix_baseline_df = mix_gen_df[mix_gen_df['Loss']==\"Train_Losses\"].copy()\n",
    "mix_baseline_df['Loss'] = \"Network Baseline\"\n",
    "mix_baseline_df = mix_baseline_df[['Model','City','Loss','Fold','MAPE','RMSE','MAE']]"
   ]
  },
  {
   "cell_type": "code",
   "execution_count": null,
   "metadata": {},
   "outputs": [],
   "source": [
    "plot_data = mix_gen_df[mix_gen_df['Loss']==\"Test_Losses\"].copy()\n",
    "plot_data = pd.concat([plot_data, mix_baseline_df])\n",
    "plot_data = plot_data[~plot_data['Model'].isin([\"TRSF\",\"TRSF_GTFS\"])]\n",
    "plot_data['Loss'] = plot_data['Loss'].replace([\"Test_Losses\"],[\"Tested on Ruter\"])\n",
    "fig, axes = plt.subplots(1,1)\n",
    "fig.set_figheight(6)\n",
    "fig.set_figwidth(8)\n",
    "sns.barplot(plot_data, x=\"MAPE\", y=\"Model\", hue=\"Loss\", dodge=True)\n",
    "axes.set_xlim([0,.5])\n",
    "axes.set_ylabel(\"Model\")\n",
    "axes.set_xlabel(\"Model Performance (MAPE)\")\n",
    "fig.suptitle('KCM/AtB Network Generalization Performance', fontsize=16)\n",
    "fig.tight_layout()\n",
    "plt.savefig(\"../plots/model_generalization_mix.png\", dpi=600, bbox_inches='tight')"
   ]
  }
 ],
 "metadata": {
  "kernelspec": {
   "display_name": "valle_m1",
   "language": "python",
   "name": "python3"
  },
  "language_info": {
   "codemirror_mode": {
    "name": "ipython",
    "version": 3
   },
   "file_extension": ".py",
   "mimetype": "text/x-python",
   "name": "python",
   "nbconvert_exporter": "python",
   "pygments_lexer": "ipython3",
   "version": "3.10.12"
  },
  "orig_nbformat": 4,
  "vscode": {
   "interpreter": {
    "hash": "b30fe1de1713ca8e7537eef068b13a2de77ded03f86aab2e80ea73416dd3d704"
   }
  }
 },
 "nbformat": 4,
 "nbformat_minor": 2
}
