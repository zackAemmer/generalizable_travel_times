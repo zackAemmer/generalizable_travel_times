{
 "cells": [
  {
   "cell_type": "code",
   "execution_count": 1,
   "metadata": {},
   "outputs": [],
   "source": [
    "import matplotlib.pyplot as plt\n",
    "import pandas as pd\n",
    "import seaborn as sns\n",
    "\n",
    "from utils import data_utils\n",
    "\n",
    "RUN_FOLDER_KCM = \"../results/debug/\"\n",
    "RUN_FOLDER_ATB = \"../results/debug/\"\n",
    "RUN_FOLDER_TTE = \"../results/debug/\""
   ]
  },
  {
   "cell_type": "code",
   "execution_count": 2,
   "metadata": {},
   "outputs": [
    {
     "ename": "FileNotFoundError",
     "evalue": "[Errno 2] No such file or directory: '../results/debug/kcm/model_results.pkl'",
     "output_type": "error",
     "traceback": [
      "\u001b[0;31m---------------------------------------------------------------------------\u001b[0m",
      "\u001b[0;31mFileNotFoundError\u001b[0m                         Traceback (most recent call last)",
      "Cell \u001b[0;32mIn[2], line 2\u001b[0m\n\u001b[1;32m      1\u001b[0m \u001b[39m# Do Not Include DeepTTE Results:\u001b[39;00m\n\u001b[0;32m----> 2\u001b[0m kcm_model_results \u001b[39m=\u001b[39m data_utils\u001b[39m.\u001b[39;49mload_pkl(RUN_FOLDER_KCM \u001b[39m+\u001b[39;49m \u001b[39m\"\u001b[39;49m\u001b[39mkcm/\u001b[39;49m\u001b[39m\"\u001b[39;49m \u001b[39m+\u001b[39;49m \u001b[39m\"\u001b[39;49m\u001b[39mmodel_results.pkl\u001b[39;49m\u001b[39m\"\u001b[39;49m)\n\u001b[1;32m      3\u001b[0m atb_model_results \u001b[39m=\u001b[39m data_utils\u001b[39m.\u001b[39mload_pkl(RUN_FOLDER_ATB \u001b[39m+\u001b[39m \u001b[39m\"\u001b[39m\u001b[39matb/\u001b[39m\u001b[39m\"\u001b[39m \u001b[39m+\u001b[39m \u001b[39m\"\u001b[39m\u001b[39mmodel_results.pkl\u001b[39m\u001b[39m\"\u001b[39m)\n\u001b[1;32m      4\u001b[0m kcm_result_df, kcm_loss_df \u001b[39m=\u001b[39m data_utils\u001b[39m.\u001b[39mextract_results(\u001b[39m\"\u001b[39m\u001b[39mSeattle\u001b[39m\u001b[39m\"\u001b[39m, kcm_model_results)\n",
      "File \u001b[0;32m~/Skrivebord/valle/src/utils/data_utils.py:35\u001b[0m, in \u001b[0;36mload_pkl\u001b[0;34m(path)\u001b[0m\n\u001b[1;32m     34\u001b[0m \u001b[39mdef\u001b[39;00m \u001b[39mload_pkl\u001b[39m(path):\n\u001b[0;32m---> 35\u001b[0m     \u001b[39mwith\u001b[39;00m \u001b[39mopen\u001b[39;49m(path, \u001b[39m'\u001b[39;49m\u001b[39mrb\u001b[39;49m\u001b[39m'\u001b[39;49m) \u001b[39mas\u001b[39;00m f:\n\u001b[1;32m     36\u001b[0m         data \u001b[39m=\u001b[39m pickle\u001b[39m.\u001b[39mload(f)\n\u001b[1;32m     37\u001b[0m     \u001b[39mreturn\u001b[39;00m data\n",
      "\u001b[0;31mFileNotFoundError\u001b[0m: [Errno 2] No such file or directory: '../results/debug/kcm/model_results.pkl'"
     ]
    }
   ],
   "source": [
    "# Do Not Include DeepTTE Results:\n",
    "kcm_model_results = data_utils.load_pkl(RUN_FOLDER_KCM + \"kcm/\" + \"model_results.pkl\")\n",
    "atb_model_results = data_utils.load_pkl(RUN_FOLDER_ATB + \"atb/\" + \"model_results.pkl\")\n",
    "kcm_result_df, kcm_loss_df, kcm_time_df = data_utils.extract_results(\"Seattle\", kcm_model_results)\n",
    "atb_result_df, atb_loss_df, atb_time_df = data_utils.extract_results(\"Trondheim\", atb_model_results)\n",
    "\n",
    "performances_df = pd.concat([kcm_result_df, atb_result_df], axis=0).sort_values(['Model','City','Fold'])\n",
    "model_curves_df = pd.concat([kcm_loss_df, atb_loss_df], axis=0)\n",
    "\n",
    "print(f\"All Unique Models: {pd.unique(performances_df['Model'])}\")\n",
    "print(f\"All NN Models: {pd.unique(model_curves_df['Model'])}\")"
   ]
  },
  {
   "cell_type": "code",
   "execution_count": null,
   "metadata": {},
   "outputs": [],
   "source": [
    "# # Include DeepTTE Results:\n",
    "# kcm_model_results = data_utils.load_pkl(RUN_FOLDER_KCM + \"kcm/\" + \"model_results.pkl\")\n",
    "# atb_model_results = data_utils.load_pkl(RUN_FOLDER_ATB + \"atb/\" + \"model_results.pkl\")\n",
    "# kcm_result_df, kcm_loss_df = data_utils.extract_results(\"Seattle\", kcm_model_results)\n",
    "# atb_result_df, atb_loss_df = data_utils.extract_results(\"Trondheim\", atb_model_results)\n",
    "\n",
    "# kcm_deeptte_results = data_utils.extract_deeptte_results(\"Seattle\", RUN_FOLDER_TTE, \"kcm/\")\n",
    "# atb_deeptte_results = data_utils.extract_deeptte_results(\"Trondheim\", RUN_FOLDER_TTE, \"atb/\")\n",
    "# kcm_deeptte_result_df = kcm_deeptte_results[['Model','City','Fold','MAPE','RMSE','MAE']].copy()\n",
    "# atb_deeptte_result_df = atb_deeptte_results[['Model','City','Fold','MAPE','RMSE','MAE']].copy()\n",
    "\n",
    "# performances_df = pd.concat([kcm_result_df, atb_result_df, kcm_deeptte_result_df, atb_deeptte_result_df], axis=0).sort_values(['Model','City','Fold'])\n",
    "# model_curves_df = pd.concat([kcm_loss_df, atb_loss_df], axis=0)\n",
    "\n",
    "# print(f\"All Unique Models: {pd.unique(performances_df['Model'])}\")\n",
    "# print(f\"All NN Models: {pd.unique(model_curves_df['Model'])}\")"
   ]
  },
  {
   "cell_type": "code",
   "execution_count": null,
   "metadata": {},
   "outputs": [],
   "source": [
    "# Model Performance"
   ]
  },
  {
   "cell_type": "code",
   "execution_count": null,
   "metadata": {},
   "outputs": [],
   "source": [
    "plot_data = performances_df[performances_df['City']==\"Seattle\"]\n",
    "fig, axes = plt.subplots(3,1)\n",
    "fig.set_figheight(6)\n",
    "fig.set_figwidth(6)\n",
    "sns.barplot(plot_data, x=\"MAPE\", y=\"Model\", ax=axes[0])\n",
    "axes[0].set_xlim([0, 0.8])\n",
    "sns.barplot(plot_data, x=\"RMSE\", y=\"Model\", ax=axes[1])\n",
    "axes[1].set_xlim([0, 1200])\n",
    "sns.barplot(plot_data, x=\"MAE\", y=\"Model\", ax=axes[2])\n",
    "axes[2].set_xlim([0, 800])\n",
    "fig.suptitle('KCM Model Performance', fontsize=16)\n",
    "fig.tight_layout()\n",
    "plt.savefig(\"../plots/model_performances_kcm.png\", dpi=1800, bbox_inches='tight')"
   ]
  },
  {
   "cell_type": "code",
   "execution_count": null,
   "metadata": {},
   "outputs": [],
   "source": [
    "plot_data = performances_df[performances_df['City']==\"Trondheim\"]\n",
    "fig, axes = plt.subplots(3,1)\n",
    "fig.set_figheight(6)\n",
    "fig.set_figwidth(6)\n",
    "sns.barplot(plot_data, x=\"MAPE\", y=\"Model\", ax=axes[0])\n",
    "axes[0].set_xlim([0, 0.8])\n",
    "sns.barplot(plot_data, x=\"RMSE\", y=\"Model\", ax=axes[1])\n",
    "axes[1].set_xlim([0, 1200])\n",
    "sns.barplot(plot_data, x=\"MAE\", y=\"Model\", ax=axes[2])\n",
    "axes[2].set_xlim([0, 800])\n",
    "fig.suptitle('AtB Model Performance', fontsize=16)\n",
    "fig.tight_layout()\n",
    "plt.savefig(\"../plots/model_performances_atb.png\", dpi=1800, bbox_inches='tight')"
   ]
  },
  {
   "cell_type": "code",
   "execution_count": null,
   "metadata": {},
   "outputs": [],
   "source": [
    "# Training Time"
   ]
  },
  {
   "cell_type": "code",
   "execution_count": null,
   "metadata": {},
   "outputs": [],
   "source": []
  },
  {
   "cell_type": "code",
   "execution_count": null,
   "metadata": {},
   "outputs": [],
   "source": [
    "# Training Curves"
   ]
  },
  {
   "cell_type": "code",
   "execution_count": null,
   "metadata": {},
   "outputs": [],
   "source": [
    "model_list = pd.unique(model_curves_df['Model'])\n",
    "plot_data = model_curves_df[model_curves_df['Model'].isin(model_list[:3])]\n",
    "g = sns.FacetGrid(data=plot_data, col=\"City\", row=\"Model\", hue=\"Loss Set\", hue_order=[\"Train\",\"Test\"], height=4)\n",
    "g.map(sns.lineplot, \"Epoch\", \"Loss\")\n",
    "g.add_legend()\n",
    "plt.savefig(f\"../plots/model_curves_1.png\", dpi=1800, bbox_inches='tight')"
   ]
  },
  {
   "cell_type": "code",
   "execution_count": null,
   "metadata": {},
   "outputs": [],
   "source": [
    "model_list = pd.unique(model_curves_df['Model'])\n",
    "plot_data = model_curves_df[model_curves_df['Model'].isin(model_list[3:])]\n",
    "g = sns.FacetGrid(data=plot_data, col=\"City\", row=\"Model\", hue=\"Loss Set\", hue_order=[\"Train\",\"Test\"], height=4)\n",
    "g.map(sns.lineplot, \"Epoch\", \"Loss\")\n",
    "g.add_legend()\n",
    "plt.savefig(f\"../plots/model_curves_2.png\", dpi=1800, bbox_inches='tight')"
   ]
  },
  {
   "cell_type": "code",
   "execution_count": null,
   "metadata": {},
   "outputs": [],
   "source": [
    "# # DeepTTE KCM curves\n",
    "# fig, axes = plt.subplots(1,1)\n",
    "# fig.set_figheight(4)\n",
    "# fig.set_figwidth(5)\n",
    "# sns.lineplot(kcm_deeptte_results, x=\"Epoch\", y=\"MAPE\", hue=\"Loss Set\", hue_order=[\"TrainSet\",\"TestSet\"], ax=axes)\n",
    "# fig.suptitle('KCM DeepTTE Loss', fontsize=16)\n",
    "# fig.tight_layout()\n",
    "# plt.savefig(\"../plots/model_curves_deeptte_kcm.png\", dpi=1800, bbox_inches='tight')"
   ]
  },
  {
   "cell_type": "code",
   "execution_count": null,
   "metadata": {},
   "outputs": [],
   "source": [
    "# # DeepTTE AtB curves\n",
    "# fig, axes = plt.subplots(1,1)\n",
    "# fig.set_figheight(4)\n",
    "# fig.set_figwidth(5)\n",
    "# sns.lineplot(atb_deeptte_results, x=\"Epoch\", y=\"MAPE\", hue=\"Loss Set\", hue_order=[\"TrainSet\",\"TestSet\"], ax=axes)\n",
    "# fig.suptitle('AtB DeepTTE Loss', fontsize=16)\n",
    "# fig.tight_layout()\n",
    "# plt.savefig(\"../plots/model_curves_deeptte_atb.png\", dpi=1800, bbox_inches='tight')"
   ]
  },
  {
   "cell_type": "code",
   "execution_count": null,
   "metadata": {},
   "outputs": [],
   "source": [
    "# Generalization"
   ]
  },
  {
   "cell_type": "code",
   "execution_count": null,
   "metadata": {},
   "outputs": [],
   "source": [
    "# Include DeepTTE Generalization Results\n",
    "kcm_deeptte_gen_res = data_utils.extract_deeptte_results(\"KCM\", run_folder_tte, \"kcm/\", generalization_flag=True)\n",
    "atb_deeptte_gen_res = data_utils.extract_deeptte_results(\"ATB\", run_folder_tte, \"atb/\", generalization_flag=True)\n",
    "deeptte_gen_res = pd.concat([kcm_deeptte_gen_res, atb_deeptte_gen_res])\n",
    "deeptte_gen_res[\"Model\"] = \"DEEPTTE\"\n",
    "deeptte_gen_res[\"Train Network\"] = deeptte_gen_res[\"City\"]\n",
    "deeptte_gen_res[\"Test Network\"] = deeptte_gen_res[\"Loss Set\"]\n",
    "deeptte_gen_res[\"Metric\"] = deeptte_gen_res[\"RMSE\"]\n",
    "deeptte_gen_res = deeptte_gen_res[[\"Model\",\"Train Network\",\"Test Network\",\"Metric\"]]\n",
    "deeptte_gen_res['Model-Train-Test'] = deeptte_gen_res['Model']+\"_\"+deeptte_gen_res['Train Network']+\"_\"+deeptte_gen_res['Test Network']\n",
    "metric_results = pd.concat([metric_results, deeptte_gen_res])\n",
    "metric_results = metric_results.sort_values('Model-Train-Test')\n",
    "metric_results"
   ]
  },
  {
   "cell_type": "code",
   "execution_count": null,
   "metadata": {},
   "outputs": [],
   "source": [
    "plot_data = metric_results[metric_results['Test Network']==\"KCM\"]\n",
    "fig, axes = plt.subplots(1,1)\n",
    "fig.set_figheight(6)\n",
    "fig.set_figwidth(6)\n",
    "sns.barplot(plot_data, x=\"Metric\", y=\"Model-Train-Test\", hue=\"Model\", dodge=False)\n",
    "axes.set_xlim([0, 1200])\n",
    "axes.set_ylabel(\"Model\")\n",
    "axes.set_xlabel(\"RMSE\")\n",
    "fig.suptitle('Model Generalization Performance On KCM', fontsize=16)\n",
    "fig.tight_layout()\n",
    "plt.savefig(\"../plots/model_generalization.png\", dpi=1800, bbox_inches='tight')"
   ]
  },
  {
   "cell_type": "code",
   "execution_count": null,
   "metadata": {},
   "outputs": [],
   "source": [
    "plot_data = metric_results[metric_results['Test Network']==\"ATB\"]\n",
    "fig, axes = plt.subplots(1,1)\n",
    "fig.set_figheight(6)\n",
    "fig.set_figwidth(6)\n",
    "sns.barplot(plot_data, x=\"Metric\", y=\"Model-Train-Test\", hue=\"Model\", dodge=False)\n",
    "axes.set_xlim([0, 1200])\n",
    "axes.set_ylabel(\"Model\")\n",
    "axes.set_xlabel(\"RMSE\")\n",
    "fig.suptitle('Model Generalization Performance On ATB', fontsize=16)\n",
    "fig.tight_layout()\n",
    "plt.savefig(\"../plots/model_generalization.png\", dpi=1800, bbox_inches='tight')"
   ]
  }
 ],
 "metadata": {
  "kernelspec": {
   "display_name": "valle_m1",
   "language": "python",
   "name": "python3"
  },
  "language_info": {
   "codemirror_mode": {
    "name": "ipython",
    "version": 3
   },
   "file_extension": ".py",
   "mimetype": "text/x-python",
   "name": "python",
   "nbconvert_exporter": "python",
   "pygments_lexer": "ipython3",
   "version": "3.9.16"
  },
  "orig_nbformat": 4,
  "vscode": {
   "interpreter": {
    "hash": "b30fe1de1713ca8e7537eef068b13a2de77ded03f86aab2e80ea73416dd3d704"
   }
  }
 },
 "nbformat": 4,
 "nbformat_minor": 2
}
