{
 "cells": [
  {
   "cell_type": "code",
   "execution_count": null,
   "metadata": {},
   "outputs": [],
   "source": [
    "import itertools\n",
    "import json\n",
    "import os\n",
    "from random import sample\n",
    "\n",
    "import matplotlib.pyplot as plt\n",
    "import numpy as np\n",
    "import pandas as pd\n",
    "import pickle\n",
    "import seaborn as sns\n",
    "from sklearn import metrics\n",
    "\n",
    "from database import data_utils, shape_utils\n",
    "\n",
    "import importlib\n",
    "importlib.reload(data_utils)\n",
    "\n",
    "RUN_FOLDER = \"../results/3_month_test/\""
   ]
  },
  {
   "cell_type": "code",
   "execution_count": null,
   "metadata": {},
   "outputs": [],
   "source": [
    "kcm_deeptte_results = data_utils.extract_deeptte_results(\"Seattle\", RUN_FOLDER, \"kcm/\")\n",
    "atb_deeptte_results = data_utils.extract_deeptte_results(\"Trondheim\", RUN_FOLDER, \"atb/\")\n",
    "kcm_deeptte_result_df = kcm_deeptte_results[kcm_deeptte_results['Loss Set']==\"test\"][['Model','City','Fold','MAPE','RMSE','MAE']].copy()\n",
    "atb_deeptte_result_df = atb_deeptte_results[atb_deeptte_results['Loss Set']==\"test\"][['Model','City','Fold','MAPE','RMSE','MAE']].copy()"
   ]
  },
  {
   "cell_type": "code",
   "execution_count": null,
   "metadata": {},
   "outputs": [],
   "source": [
    "kcm_model_results = data_utils.load_pkl(RUN_FOLDER + \"kcm/\" + \"model_results.pkl\")\n",
    "atb_model_results = data_utils.load_pkl(RUN_FOLDER + \"atb/\" + \"model_results.pkl\")\n",
    "kcm_result_df, kcm_loss_df = data_utils.extract_results(\"Seattle\", kcm_model_results)\n",
    "atb_result_df, atb_loss_df = data_utils.extract_results(\"Trondheim\", atb_model_results)"
   ]
  },
  {
   "cell_type": "code",
   "execution_count": null,
   "metadata": {},
   "outputs": [],
   "source": [
    "# performances_df = pd.concat([kcm_result_df, atb_result_df, kcm_deeptte_result_df, atb_deeptte_result_df], axis=0).sort_values(['Model','City','Fold'])\n",
    "performances_df = pd.concat([kcm_result_df, atb_result_df], axis=0).sort_values(['Model','City','Fold'])\n",
    "model_curves_df = pd.concat([kcm_loss_df, atb_loss_df], axis=0)"
   ]
  },
  {
   "cell_type": "code",
   "execution_count": null,
   "metadata": {},
   "outputs": [],
   "source": [
    "performances_df"
   ]
  },
  {
   "cell_type": "code",
   "execution_count": null,
   "metadata": {},
   "outputs": [],
   "source": [
    "fig, axes = plt.subplots(1,1)\n",
    "fig.set_figheight(4)\n",
    "fig.set_figwidth(5)\n",
    "sns.lineplot(kcm_deeptte_results, x=\"Epoch\", y=\"MAPE\", ax=axes)\n",
    "fig.suptitle('KCM DeepTTE Training Loss (only validation curve)', fontsize=16)\n",
    "fig.tight_layout()\n",
    "plt.savefig(\"../plots/model_curves_deeptte_kcm.png\", dpi=1800, bbox_inches='tight')"
   ]
  },
  {
   "cell_type": "code",
   "execution_count": null,
   "metadata": {},
   "outputs": [],
   "source": [
    "plot_data = atb_deeptte_results[atb_deeptte_results['Loss Set']!=\"test\"]\n",
    "fig, axes = plt.subplots(1,1)\n",
    "fig.set_figheight(4)\n",
    "fig.set_figwidth(5)\n",
    "sns.lineplot(plot_data, x=\"Epoch\", y=\"MAPE\", ax=axes)\n",
    "fig.suptitle('AtB DeepTTE Training Loss (only validation curve)', fontsize=16)\n",
    "fig.tight_layout()\n",
    "plt.savefig(\"../plots/model_curves_deeptte_atb.png\", dpi=1800, bbox_inches='tight')"
   ]
  },
  {
   "cell_type": "code",
   "execution_count": null,
   "metadata": {},
   "outputs": [],
   "source": [
    "plot_data = model_curves_df[model_curves_df['City']==\"Seattle\"]\n",
    "plot_data = plot_data[plot_data['Model']=='FF']\n",
    "fig, axes = plt.subplots(1,1)\n",
    "fig.set_figheight(4)\n",
    "fig.set_figwidth(5)\n",
    "sns.lineplot(plot_data, x=\"Epoch\", y=\"Loss\", hue=\"Loss Set\", ax=axes)\n",
    "fig.suptitle('KCM FF Training Loss', fontsize=16)\n",
    "fig.tight_layout()\n",
    "plt.savefig(\"../plots/model_curves_ff_kcm.png\", dpi=1800, bbox_inches='tight')"
   ]
  },
  {
   "cell_type": "code",
   "execution_count": null,
   "metadata": {},
   "outputs": [],
   "source": [
    "plot_data = model_curves_df[model_curves_df['City']==\"Trondheim\"]\n",
    "plot_data = plot_data[plot_data['Model']=='FF']\n",
    "fig, axes = plt.subplots(1,1)\n",
    "fig.set_figheight(4)\n",
    "fig.set_figwidth(5)\n",
    "sns.lineplot(plot_data, x=\"Epoch\", y=\"Loss\", hue=\"Loss Set\", ax=axes)\n",
    "fig.suptitle('AtB FF Training Loss', fontsize=16)\n",
    "fig.tight_layout()\n",
    "plt.savefig(\"../plots/model_curves_ff_atb.png\", dpi=1800, bbox_inches='tight')"
   ]
  },
  {
   "cell_type": "code",
   "execution_count": null,
   "metadata": {},
   "outputs": [],
   "source": [
    "plot_data = model_curves_df[model_curves_df['City']==\"Seattle\"]\n",
    "plot_data = plot_data[plot_data['Model']=='RNN']\n",
    "fig, axes = plt.subplots(1,1)\n",
    "fig.set_figheight(4)\n",
    "fig.set_figwidth(5)\n",
    "sns.lineplot(plot_data, x=\"Epoch\", y=\"Loss\", hue=\"Loss Set\", ax=axes)\n",
    "fig.suptitle('KCM RNN Training Loss', fontsize=16)\n",
    "fig.tight_layout()\n",
    "plt.savefig(\"../plots/model_curves_rnn_kcm.png\", dpi=1800, bbox_inches='tight')"
   ]
  },
  {
   "cell_type": "code",
   "execution_count": null,
   "metadata": {},
   "outputs": [],
   "source": [
    "plot_data = model_curves_df[model_curves_df['City']==\"Trondheim\"]\n",
    "plot_data = plot_data[plot_data['Model']=='RNN']\n",
    "fig, axes = plt.subplots(1,1)\n",
    "fig.set_figheight(4)\n",
    "fig.set_figwidth(5)\n",
    "sns.lineplot(plot_data, x=\"Epoch\", y=\"Loss\", hue=\"Loss Set\", ax=axes)\n",
    "fig.suptitle('AtB RNN Training Loss', fontsize=16)\n",
    "fig.tight_layout()\n",
    "plt.savefig(\"../plots/model_curves_rnn_atb.png\", dpi=1800, bbox_inches='tight')"
   ]
  },
  {
   "cell_type": "code",
   "execution_count": null,
   "metadata": {},
   "outputs": [],
   "source": [
    "plot_data = performances_df[performances_df['City']==\"Seattle\"]\n",
    "fig, axes = plt.subplots(3,1)\n",
    "fig.set_figheight(6)\n",
    "fig.set_figwidth(6)\n",
    "sns.barplot(plot_data, x=\"MAPE\", y=\"Model\", ax=axes[0])\n",
    "sns.barplot(plot_data, x=\"RMSE\", y=\"Model\", ax=axes[1])\n",
    "sns.barplot(plot_data, x=\"MAE\", y=\"Model\", ax=axes[2])\n",
    "fig.suptitle('KCM Model Performance', fontsize=16)\n",
    "fig.tight_layout()\n",
    "plt.savefig(\"../plots/model_performances_kcm.png\", dpi=1800, bbox_inches='tight')"
   ]
  },
  {
   "cell_type": "code",
   "execution_count": null,
   "metadata": {},
   "outputs": [],
   "source": [
    "plot_data = performances_df[performances_df['City']==\"Trondheim\"]\n",
    "fig, axes = plt.subplots(3,1)\n",
    "fig.set_figheight(6)\n",
    "fig.set_figwidth(6)\n",
    "sns.barplot(plot_data, x=\"MAPE\", y=\"Model\", ax=axes[0])\n",
    "sns.barplot(plot_data, x=\"RMSE\", y=\"Model\", ax=axes[1])\n",
    "sns.barplot(plot_data, x=\"MAE\", y=\"Model\", ax=axes[2])\n",
    "fig.suptitle('AtB Model Performance', fontsize=16)\n",
    "fig.tight_layout()\n",
    "plt.savefig(\"../plots/model_performances_atb.png\", dpi=1800, bbox_inches='tight')"
   ]
  }
 ],
 "metadata": {
  "kernelspec": {
   "display_name": "valle_m1",
   "language": "python",
   "name": "python3"
  },
  "language_info": {
   "codemirror_mode": {
    "name": "ipython",
    "version": 3
   },
   "file_extension": ".py",
   "mimetype": "text/x-python",
   "name": "python",
   "nbconvert_exporter": "python",
   "pygments_lexer": "ipython3",
   "version": "3.9.16"
  },
  "orig_nbformat": 4,
  "vscode": {
   "interpreter": {
    "hash": "b30fe1de1713ca8e7537eef068b13a2de77ded03f86aab2e80ea73416dd3d704"
   }
  }
 },
 "nbformat": 4,
 "nbformat_minor": 2
}
