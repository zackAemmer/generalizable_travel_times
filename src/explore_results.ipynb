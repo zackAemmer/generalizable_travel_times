{
 "cells": [
  {
   "cell_type": "code",
   "execution_count": 7,
   "metadata": {},
   "outputs": [
    {
     "data": {
      "text/plain": [
       "[{'n_param_samples': 0,\n",
       "  'batch_size': 512,\n",
       "  'hidden_size': 16,\n",
       "  'num_layers': 2,\n",
       "  'dropout_rate': 0.4}]"
      ]
     },
     "execution_count": 7,
     "metadata": {},
     "output_type": "execute_result"
    }
   ],
   "source": [
    "import importlib\n",
    "import matplotlib.pyplot as plt\n",
    "import pandas as pd\n",
    "import seaborn as sns\n",
    "\n",
    "from utils import data_utils\n",
    "\n",
    "RUN_FOLDER_KCM = \"../results/param_search/kcm/\"\n",
    "RUN_FOLDER_ATB = \"../results/param_search/atb/\""
   ]
  },
  {
   "cell_type": "code",
   "execution_count": null,
   "metadata": {},
   "outputs": [],
   "source": [
    "# Hyperparam results from 3 runs per model per network:\n",
    "# CONV (512, 64, 4, 0.4)\n",
    "# FF (512, 32, 3, 0.2)\n",
    "# GRU (512, 16, 2, 0.4)\n",
    "# TRSF (512, 32, 4, 0.4)\n",
    "\n",
    "# # KCM\n",
    "# 512, 16, 2, 0.4 (GRU, TRSF)\n",
    "# 512, 16, 5, 0.1\n",
    "# 512 128, 4, 0.4 (CONV, FF)\n",
    "\n",
    "# Model Epochs TestLoss\n",
    "# CONV_0\t10.000000\t18.066327\n",
    "# FF_0\t11.333333\t168.559759\n",
    "# GRU_0\t16.000000\t18.540478\n",
    "# TRSF_0\t10.000000\t22.919503\n",
    "\n",
    "# CONV_0\t10.000000\t17.851481\n",
    "# FF_0\t11.333333\t157.528422\n",
    "# GRU_0\t10.000000\t22.917446\n",
    "# TRSF_0\t10.000000\t22.915722\n",
    "\n",
    "# CONV_0\t12.0\t15.852690\n",
    "# FF_0\t14.0\t153.020960\n",
    "# GRU_0\t10.0\t22.916604\n",
    "# TRSF_0\t10.0\t22.912308\n",
    "\n",
    "# AtB\n",
    "# 512, 32, 3, 0.2 (FF)\n",
    "# 512, 32, 5, 0.4 (CONV, TRSF)\n",
    "# 512, 16, 2, 0.4 (GRU)\n",
    "\n",
    "# CONV_0\t12.666667\t7.069618\n",
    "# FF_0\t19.333333\t63.465285\n",
    "# GRU_0\t17.333333\t9.175895\n",
    "# TRSF_0\t16.000000\t9.075986\n",
    "\n",
    "# CONV_0\t12.000000\t6.991179\n",
    "# FF_0\t18.000000\t67.876277\n",
    "# GRU_0\t16.666667\t9.161330\n",
    "# TRSF_0\t20.000000\t9.001094\n",
    "\n",
    "# CONV_0\t14.000000\t7.567914\n",
    "# FF_0\t23.333333\t66.901993\n",
    "# GRU_0\t20.000000\t9.058873\n",
    "# TRSF_0\t16.000000\t9.404305"
   ]
  },
  {
   "cell_type": "code",
   "execution_count": 32,
   "metadata": {},
   "outputs": [],
   "source": [
    "# Base results\n",
    "kcm_model_results = data_utils.extract_lightning_results(f\"{RUN_FOLDER_KCM}all_logs/logs/\", \"Seattle\")\n",
    "atb_model_results = data_utils.extract_lightning_results(f\"{RUN_FOLDER_ATB}all_logs/logs2/\", \"Trondheim\")\n",
    "# kcm_model_results = data_utils.load_pkl(RUN_FOLDER_KCM + \"model_results.pkl\")\n",
    "# atb_model_results = data_utils.load_pkl(RUN_FOLDER_ATB + \"atb/\" + \"model_results.pkl\")\n",
    "# kcm_result_df, kcm_loss_df, kcm_time_df = data_utils.extract_results(\"Seattle\", kcm_model_results)\n",
    "# atb_result_df, atb_loss_df, atb_time_df = data_utils.extract_results(\"Trondheim\", atb_model_results)"
   ]
  },
  {
   "cell_type": "code",
   "execution_count": null,
   "metadata": {},
   "outputs": [],
   "source": [
    "# Model training and validation curves\n",
    "kcm_model_curves = kcm_model_results[kcm_model_results[\"Loss Set\"].isin([\"Train\",\"Valid\"])]\n",
    "atb_model_curves = atb_model_results[atb_model_results[\"Loss Set\"].isin([\"Train\",\"Valid\"])]\n",
    "model_curves_df = pd.concat([kcm_model_curves, atb_model_curves], axis=0)\n",
    "model_curves_df = model_curves_df.sort_values([\"City\",\"Fold\",\"Model\",\"Epoch\",\"Loss Set\"])\n",
    "model_curves_df.head()"
   ]
  },
  {
   "cell_type": "code",
   "execution_count": null,
   "metadata": {},
   "outputs": [],
   "source": [
    "# Model final performance on holdout test set of training network\n",
    "kcm_model_performances = kcm_model_results[kcm_model_results[\"Loss Set\"]==\"Test\"]\n",
    "atb_model_performances = atb_model_results[atb_model_results[\"Loss Set\"]==\"Test\"]\n",
    "model_performances_df = pd.concat([kcm_model_performances, atb_model_performances], axis=0)\n",
    "model_performances_df = model_performances_df.sort_values([\"City\",\"Fold\",\"Model\"])\n",
    "model_performances_df.head()"
   ]
  },
  {
   "cell_type": "code",
   "execution_count": null,
   "metadata": {},
   "outputs": [],
   "source": [
    "# # Include generalization results\n",
    "# kcm_gen_results = data_utils.load_pkl(RUN_FOLDER_KCM + \"kcm/\" + \"model_generalization_results.pkl\")\n",
    "# atb_gen_results = data_utils.load_pkl(RUN_FOLDER_ATB + \"atb/\" + \"model_generalization_results.pkl\")\n",
    "# kcm_gen_df = data_utils.extract_gen_results(\"Seattle\", kcm_gen_results)\n",
    "# atb_gen_df = data_utils.extract_gen_results(\"Trondheim\", atb_gen_results)"
   ]
  },
  {
   "cell_type": "code",
   "execution_count": null,
   "metadata": {},
   "outputs": [],
   "source": [
    "# # Do not include DeepTTE results:\n",
    "# performances_df = pd.concat([kcm_result_df, atb_result_df], axis=0).sort_values(['Model','City','Fold'])\n",
    "# model_curves_df = pd.concat([kcm_loss_df, atb_loss_df], axis=0)\n",
    "# times_df = pd.concat([kcm_time_df, atb_time_df], axis=0)\n",
    "\n",
    "# # Include DeepTTE results:\n",
    "# kcm_deeptte_result_df, kcm_deeptte_loss_df, kcm_deeptte_time_df = data_utils.extract_deeptte_results(\"Seattle\", RUN_FOLDER_KCM + \"kcm/deeptte_results/result/\")\n",
    "# atb_deeptte_result_df, atb_deeptte_loss_df, atb_deeptte_time_df = data_utils.extract_deeptte_results(\"Trondheim\", RUN_FOLDER_ATB + \"atb/deeptte_results/result/\")\n",
    "# performances_df = pd.concat([kcm_result_df, atb_result_df, kcm_deeptte_result_df, atb_deeptte_result_df], axis=0).sort_values(['Model','City','Fold'])\n",
    "# model_curves_df = pd.concat([kcm_loss_df, atb_loss_df, kcm_deeptte_loss_df, atb_deeptte_loss_df], axis=0)\n",
    "# times_df = pd.concat([kcm_deeptte_time_df, atb_deeptte_time_df, kcm_time_df, atb_time_df], axis=0)"
   ]
  },
  {
   "cell_type": "code",
   "execution_count": null,
   "metadata": {},
   "outputs": [],
   "source": [
    "# # Do not include DeepTTE generalization results\n",
    "# gens_df = pd.concat([kcm_gen_df, atb_gen_df], axis=0)\n",
    "\n",
    "# # Include DeepTTE generalization results\n",
    "# kcm_deeptte_gen_results = data_utils.extract_deeptte_gen_results(\"Seattle\", RUN_FOLDER_KCM + \"kcm/deeptte_results/generalization/\")\n",
    "# atb_deeptte_gen_results = data_utils.extract_deeptte_gen_results(\"Trondheim\", RUN_FOLDER_ATB + \"atb/deeptte_results/generalization/\")\n",
    "# gens_df = pd.concat([kcm_deeptte_gen_results, atb_deeptte_gen_results, kcm_gen_df, atb_gen_df]).sort_values(['Fold','Model'])"
   ]
  },
  {
   "cell_type": "code",
   "execution_count": null,
   "metadata": {},
   "outputs": [],
   "source": [
    "# # Baselines for comparing between original evaluation and generalization\n",
    "# kcm_baseline_df = performances_df[performances_df['City']==\"Seattle\"].copy()\n",
    "# kcm_baseline_df['Loss'] = \"Network Baseline\"\n",
    "# kcm_baseline_df = kcm_baseline_df[['Model','City','Loss','Fold','MAPE','RMSE','MAE']]\n",
    "# atb_baseline_df = performances_df[performances_df['City']==\"Trondheim\"].copy()\n",
    "# atb_baseline_df['Loss'] = \"Network Baseline\"\n",
    "# atb_baseline_df = atb_baseline_df[['Model','City','Loss','Fold','MAPE','RMSE','MAE']]\n",
    "\n",
    "# # Deterioration for comparing change in losses in train network\n",
    "# kcm_deterioration_df = gens_df[gens_df['City']==\"Seattle\"]\n",
    "# kcm_deterioration_df = kcm_deterioration_df[kcm_deterioration_df['Loss'].isin(['Extract_Train_Losses'])]\n",
    "# atb_deterioration_df = gens_df[gens_df['City']==\"Trondheim\"]\n",
    "# atb_deterioration_df = atb_deterioration_df[atb_deterioration_df['Loss'].isin(['Extract_Train_Losses'])]"
   ]
  },
  {
   "cell_type": "code",
   "execution_count": null,
   "metadata": {},
   "outputs": [],
   "source": [
    "# print(f\"All Unique Models: {pd.unique(performances_df['Model'])}\")\n",
    "# print(f\"All NN Models: {pd.unique(model_curves_df['Model'])}\")"
   ]
  },
  {
   "attachments": {},
   "cell_type": "markdown",
   "metadata": {},
   "source": [
    "### Model Performance"
   ]
  },
  {
   "cell_type": "code",
   "execution_count": null,
   "metadata": {},
   "outputs": [],
   "source": [
    "# plot_data = performances_df[performances_df['City']==\"Seattle\"]\n",
    "# fig, axes = plt.subplots(3,1)\n",
    "# fig.set_figheight(10)\n",
    "# fig.set_figwidth(10)\n",
    "# sns.barplot(plot_data, x=\"MAPE\", y=\"Model\", ax=axes[0])\n",
    "# axes[0].set_xlim([0, 1.0])\n",
    "# sns.barplot(plot_data, x=\"RMSE\", y=\"Model\", ax=axes[1])\n",
    "# axes[1].set_xlim([0, 1200])\n",
    "# sns.barplot(plot_data, x=\"MAE\", y=\"Model\", ax=axes[2])\n",
    "# axes[2].set_xlim([0, 800])\n",
    "# fig.suptitle('KCM Model Performance', fontsize=16)\n",
    "# fig.tight_layout()\n",
    "# plt.savefig(\"../plots/model_performances_kcm.png\", dpi=1800, bbox_inches='tight')\n",
    "\n",
    "plot_data = model_performances_df[model_performances_df['City']==\"Seattle\"]\n",
    "fig, axes = plt.subplots(1,1)\n",
    "fig.set_figheight(10)\n",
    "fig.set_figwidth(10)\n",
    "sns.barplot(plot_data, x=\"Loss\", y=\"Model\", ax=axes)\n",
    "axes.set_xlim([0, 500])\n",
    "fig.suptitle('KCM Model Performance', fontsize=16)\n",
    "fig.tight_layout()\n",
    "plt.savefig(\"../plots/model_performances_kcm.png\", dpi=1800, bbox_inches='tight')"
   ]
  },
  {
   "cell_type": "code",
   "execution_count": null,
   "metadata": {},
   "outputs": [],
   "source": [
    "# plot_data = performances_df[performances_df['City']==\"Trondheim\"]\n",
    "# fig, axes = plt.subplots(3,1)\n",
    "# fig.set_figheight(10)\n",
    "# fig.set_figwidth(10)\n",
    "# sns.barplot(plot_data, x=\"MAPE\", y=\"Model\", ax=axes[0])\n",
    "# axes[0].set_xlim([0, 1.0])\n",
    "# sns.barplot(plot_data, x=\"RMSE\", y=\"Model\", ax=axes[1])\n",
    "# axes[1].set_xlim([0, 1200])\n",
    "# sns.barplot(plot_data, x=\"MAE\", y=\"Model\", ax=axes[2])\n",
    "# axes[2].set_xlim([0, 800])\n",
    "# fig.suptitle('AtB Model Performance', fontsize=16)\n",
    "# fig.tight_layout()\n",
    "# plt.savefig(\"../plots/model_performances_atb.png\", dpi=1800, bbox_inches='tight')\n",
    "\n",
    "plot_data = model_performances_df[model_performances_df['City']==\"Trondheim\"]\n",
    "fig, axes = plt.subplots(1,1)\n",
    "fig.set_figheight(10)\n",
    "fig.set_figwidth(10)\n",
    "sns.barplot(plot_data, x=\"Loss\", y=\"Model\", ax=axes)\n",
    "axes.set_xlim([0, 500])\n",
    "fig.suptitle('AtB Model Performance', fontsize=16)\n",
    "fig.tight_layout()\n",
    "plt.savefig(\"../plots/model_performances_atb.png\", dpi=1800, bbox_inches='tight')"
   ]
  },
  {
   "attachments": {},
   "cell_type": "markdown",
   "metadata": {},
   "source": [
    "### Training Time"
   ]
  },
  {
   "cell_type": "code",
   "execution_count": null,
   "metadata": {},
   "outputs": [],
   "source": [
    "plot_data = times_df[times_df['City']==\"Seattle\"]\n",
    "fig, axes = plt.subplots(1,1)\n",
    "fig.set_figheight(6)\n",
    "fig.set_figwidth(12)\n",
    "sns.barplot(plot_data, x=\"Time\", y=\"Model\", hue=\"Model\", dodge=False)\n",
    "axes.set_ylabel(\"Model\")\n",
    "axes.set_xlabel(\"Training Time (s)\")\n",
    "fig.suptitle('Per-Epoch Model Training Time On KCM', fontsize=16)\n",
    "fig.tight_layout()\n",
    "plt.savefig(\"../plots/model_train_time_kcm.png\", dpi=1800, bbox_inches='tight')"
   ]
  },
  {
   "cell_type": "code",
   "execution_count": null,
   "metadata": {},
   "outputs": [],
   "source": [
    "plot_data = times_df[times_df['City']==\"Trondheim\"]\n",
    "fig, axes = plt.subplots(1,1)\n",
    "fig.set_figheight(6)\n",
    "fig.set_figwidth(12)\n",
    "sns.barplot(plot_data, x=\"Time\", y=\"Model\", hue=\"Model\", dodge=False)\n",
    "axes.set_ylabel(\"Model\")\n",
    "axes.set_xlabel(\"Training Time (s)\")\n",
    "fig.suptitle('Per-Epoch Model Training Time On AtB', fontsize=16)\n",
    "fig.tight_layout()\n",
    "plt.savefig(\"../plots/model_train_time_atb.png\", dpi=1800, bbox_inches='tight')"
   ]
  },
  {
   "attachments": {},
   "cell_type": "markdown",
   "metadata": {},
   "source": [
    "### Training Curves"
   ]
  },
  {
   "cell_type": "code",
   "execution_count": null,
   "metadata": {},
   "outputs": [],
   "source": [
    "model_list = pd.unique(model_curves_df['Model'])\n",
    "plot_data = model_curves_df[model_curves_df['Model'].isin(model_list[:3])]\n",
    "g = sns.FacetGrid(data=plot_data, col=\"City\", row=\"Model\", hue=\"Loss Set\", hue_order=[\"Train\",\"Valid\"], height=4, sharex=False, sharey=False)\n",
    "g.map(sns.lineplot, \"Epoch\", \"Loss\")\n",
    "g.add_legend()\n",
    "plt.savefig(f\"../plots/model_curves_1.png\", dpi=1800, bbox_inches='tight')"
   ]
  },
  {
   "cell_type": "code",
   "execution_count": null,
   "metadata": {},
   "outputs": [],
   "source": [
    "model_list = pd.unique(model_curves_df['Model'])\n",
    "plot_data = model_curves_df[model_curves_df['Model'].isin(model_list[3:6])]\n",
    "g = sns.FacetGrid(data=plot_data, col=\"City\", row=\"Model\", hue=\"Loss Set\", hue_order=[\"Train\",\"Valid\"], height=4, sharex=False, sharey=False)\n",
    "g.map(sns.lineplot, \"Epoch\", \"Loss\")\n",
    "g.add_legend()\n",
    "plt.savefig(f\"../plots/model_curves_1.png\", dpi=1800, bbox_inches='tight')"
   ]
  },
  {
   "cell_type": "code",
   "execution_count": null,
   "metadata": {},
   "outputs": [],
   "source": [
    "model_list = pd.unique(model_curves_df['Model'])\n",
    "plot_data = model_curves_df[model_curves_df['Model'].isin(model_list[6:])]\n",
    "g = sns.FacetGrid(data=plot_data, col=\"City\", row=\"Model\", hue=\"Loss Set\", hue_order=[\"Train\",\"Valid\"], height=4, sharex=False, sharey=False)\n",
    "g.map(sns.lineplot, \"Epoch\", \"Loss\")\n",
    "g.add_legend()\n",
    "plt.savefig(f\"../plots/model_curves_1.png\", dpi=1800, bbox_inches='tight')"
   ]
  },
  {
   "attachments": {},
   "cell_type": "markdown",
   "metadata": {},
   "source": [
    "### Generalization (Across Networks)"
   ]
  },
  {
   "cell_type": "code",
   "execution_count": null,
   "metadata": {},
   "outputs": [],
   "source": [
    "plot_data = gens_df[gens_df['City']==\"Trondheim\"]\n",
    "plot_data = plot_data[plot_data['Loss'].isin(['Test_Losses'])]\n",
    "plot_data = pd.concat([plot_data, kcm_baseline_df])\n",
    "plot_data = plot_data[plot_data['Model'].isin(['AVG','FF','GRU','TRSF'])]\n",
    "plot_data['Loss'] = plot_data['Loss'].replace([\"Test_Losses\"],[\"Model Trained on AtB\"])\n",
    "fig, axes = plt.subplots(1,1)\n",
    "fig.set_figheight(5)\n",
    "fig.set_figwidth(7)\n",
    "sns.barplot(plot_data, x=\"MAE\", y=\"Model\", hue=\"Loss\", dodge=True)\n",
    "axes.set_xlim([0, 500])\n",
    "axes.set_ylabel(\"Model\")\n",
    "axes.set_xlabel(\"Model Performance (MAE)\")\n",
    "fig.suptitle('KCM Network Generalization Performance', fontsize=16)\n",
    "fig.tight_layout()\n",
    "plt.savefig(\"../plots/model_generalization_kcm.png\", dpi=1800, bbox_inches='tight')"
   ]
  },
  {
   "cell_type": "code",
   "execution_count": null,
   "metadata": {},
   "outputs": [],
   "source": [
    "plot_data = gens_df[gens_df['City']==\"Seattle\"]\n",
    "plot_data = plot_data[plot_data['Loss'].isin(['Test_Losses'])]\n",
    "plot_data = pd.concat([plot_data, atb_baseline_df])\n",
    "plot_data = plot_data[plot_data['Model'].isin(['AVG','FF','GRU','TRSF'])]\n",
    "plot_data['Loss'] = plot_data['Loss'].replace([\"Test_Losses\"],[\"Model Trained on KCM\"])\n",
    "fig, axes = plt.subplots(1,1)\n",
    "fig.set_figheight(5)\n",
    "fig.set_figwidth(7)\n",
    "sns.barplot(plot_data, x=\"MAE\", y=\"Model\", hue=\"Loss\", dodge=True)\n",
    "axes.set_xlim([0, 500])\n",
    "axes.set_ylabel(\"Model\")\n",
    "axes.set_xlabel(\"Model Performance (MAE)\")\n",
    "fig.suptitle('AtB Network Generalization Performance', fontsize=16)\n",
    "fig.tight_layout()\n",
    "plt.savefig(\"../plots/model_generalization_atb.png\", dpi=1800, bbox_inches='tight')"
   ]
  },
  {
   "attachments": {},
   "cell_type": "markdown",
   "metadata": {},
   "source": [
    "### Generalization (Within Network)"
   ]
  },
  {
   "cell_type": "code",
   "execution_count": null,
   "metadata": {},
   "outputs": [],
   "source": [
    "plot_data = gens_df[gens_df['City']==\"Seattle\"]\n",
    "plot_data = plot_data[plot_data['Loss'].isin(['Holdout_Losses'])]\n",
    "plot_data = pd.concat([plot_data, kcm_baseline_df])\n",
    "plot_data = plot_data[plot_data['Model'].isin(['AVG','FF','GRU','TRSF'])]\n",
    "plot_data['Loss'] = plot_data['Loss'].replace([\"Holdout_Losses\"],[\"Holdout Routes\"])\n",
    "fig, axes = plt.subplots(1,1)\n",
    "fig.set_figheight(5)\n",
    "fig.set_figwidth(7)\n",
    "sns.barplot(plot_data, x=\"MAE\", y=\"Model\", hue=\"Loss\", dodge=True)\n",
    "axes.set_xlim([0, 500])\n",
    "axes.set_ylabel(\"Model\")\n",
    "axes.set_xlabel(\"Model Performance (MAE)\")\n",
    "fig.suptitle('KCM Network Holdout Route Performance', fontsize=16)\n",
    "fig.tight_layout()\n",
    "plt.savefig(\"../plots/model_holdout_route_kcm.png\", dpi=1800, bbox_inches='tight')"
   ]
  },
  {
   "cell_type": "code",
   "execution_count": null,
   "metadata": {},
   "outputs": [],
   "source": [
    "plot_data = gens_df[gens_df['City']==\"Trondheim\"]\n",
    "plot_data = plot_data[plot_data['Loss'].isin(['Holdout_Losses'])]\n",
    "plot_data = pd.concat([plot_data, atb_baseline_df])\n",
    "plot_data = plot_data[plot_data['Model'].isin(['AVG','FF','GRU','TRSF'])]\n",
    "plot_data['Loss'] = plot_data['Loss'].replace([\"Holdout_Losses\"],[\"Holdout Routes\"])\n",
    "fig, axes = plt.subplots(1,1)\n",
    "fig.set_figheight(5)\n",
    "fig.set_figwidth(7)\n",
    "sns.barplot(plot_data, x=\"MAE\", y=\"Model\", hue=\"Loss\", dodge=True)\n",
    "axes.set_xlim([0, 500])\n",
    "axes.set_ylabel(\"Model\")\n",
    "axes.set_xlabel(\"Model Performance (MAE)\")\n",
    "fig.suptitle('AtB Model Holdout Route Performance', fontsize=16)\n",
    "fig.tight_layout()\n",
    "plt.savefig(\"../plots/model_holdout_route_atb.png\", dpi=1800, bbox_inches='tight')"
   ]
  },
  {
   "attachments": {},
   "cell_type": "markdown",
   "metadata": {},
   "source": [
    "### Fine Tuning/Feature Extraction"
   ]
  },
  {
   "cell_type": "code",
   "execution_count": null,
   "metadata": {},
   "outputs": [],
   "source": [
    "plot_data = gens_df[gens_df['City']==\"Trondheim\"]\n",
    "plot_data = plot_data[plot_data['Loss'].isin(['Tune_Test_Losses','Test_Losses'])]\n",
    "plot_data = pd.concat([plot_data, kcm_baseline_df])\n",
    "plot_data = plot_data[plot_data['Model'].isin(['AVG','FF','GRU','TRSF'])]\n",
    "plot_data['Loss'] = plot_data['Loss'].replace([\"Tune_Test_Losses\",\"Test_Losses\"],[\"Model Trained on AtB + Tuning\", \"Model Trained on AtB\"])\n",
    "fig, axes = plt.subplots(1,1)\n",
    "fig.set_figheight(10)\n",
    "fig.set_figwidth(10)\n",
    "sns.barplot(plot_data, x=\"MAE\", y=\"Model\", hue=\"Loss\", dodge=True)\n",
    "axes.set_xlim([0, 500])\n",
    "axes.set_ylabel(\"Model\")\n",
    "axes.set_xlabel(\"Model Performance (MAE)\")\n",
    "fig.suptitle('KCM Tuned Network Generalization Performance', fontsize=16)\n",
    "fig.tight_layout()\n",
    "plt.savefig(\"../plots/model_tuning_kcm.png\", dpi=1800, bbox_inches='tight')"
   ]
  },
  {
   "cell_type": "code",
   "execution_count": null,
   "metadata": {},
   "outputs": [],
   "source": [
    "plot_data = gens_df[gens_df['City']==\"Seattle\"]\n",
    "plot_data = plot_data[plot_data['Loss'].isin(['Tune_Test_Losses', 'Test_Losses'])]\n",
    "plot_data = pd.concat([plot_data, atb_baseline_df])\n",
    "plot_data = plot_data[plot_data['Model'].isin(['AVG','FF','GRU','TRSF'])]\n",
    "plot_data['Loss'] = plot_data['Loss'].replace([\"Tune_Test_Losses\",\"Test_Losses\"],[\"Model Trained on KCM + Tuning\", \"Model Trained on KCM\"])\n",
    "fig, axes = plt.subplots(1,1)\n",
    "fig.set_figheight(10)\n",
    "fig.set_figwidth(10)\n",
    "sns.barplot(plot_data, x=\"MAE\", y=\"Model\", hue=\"Loss\", dodge=True)\n",
    "axes.set_xlim([0, 500])\n",
    "axes.set_ylabel(\"Model\")\n",
    "axes.set_xlabel(\"Model Performance (MAE)\")\n",
    "fig.suptitle('AtB Tuned Network Generalization Performance', fontsize=16)\n",
    "fig.tight_layout()\n",
    "plt.savefig(\"../plots/model_tuning_atb.png\", dpi=1800, bbox_inches='tight')"
   ]
  },
  {
   "cell_type": "code",
   "execution_count": null,
   "metadata": {},
   "outputs": [],
   "source": [
    "plot_data = gens_df[gens_df['City']==\"Trondheim\"]\n",
    "plot_data = plot_data[plot_data['Loss'].isin(['Tune_Test_Losses','Test_Losses'])]\n",
    "plot_data = pd.concat([plot_data, kcm_baseline_df, kcm_deterioration_df])\n",
    "plot_data = plot_data[plot_data['Model'].isin(['AVG','FF','GRU','TRSF'])]\n",
    "plot_data['Loss'] = plot_data['Loss'].replace([\"Tune_Test_Losses\",\"Test_Losses\"],[\"Model Trained on AtB + Tuning\", \"Model Trained on AtB\"])\n",
    "fig, axes = plt.subplots(1,1)\n",
    "fig.set_figheight(10)\n",
    "fig.set_figwidth(10)\n",
    "sns.barplot(plot_data, x=\"MAE\", y=\"Model\", hue=\"Loss\", dodge=True)\n",
    "axes.set_xlim([0, 500])\n",
    "axes.set_ylabel(\"Model\")\n",
    "axes.set_xlabel(\"Model Performance (MAE)\")\n",
    "fig.suptitle('KCM Network Deterioration', fontsize=16)\n",
    "fig.tight_layout()\n",
    "plt.savefig(\"../plots/model_deterioration_kcm.png\", dpi=1800, bbox_inches='tight')"
   ]
  },
  {
   "cell_type": "code",
   "execution_count": null,
   "metadata": {},
   "outputs": [],
   "source": [
    "plot_data = gens_df[gens_df['City']==\"Seattle\"]\n",
    "plot_data = plot_data[plot_data['Loss'].isin(['Tune_Test_Losses','Test_Losses'])]\n",
    "plot_data = pd.concat([plot_data, atb_baseline_df, atb_deterioration_df])\n",
    "plot_data = plot_data[plot_data['Model'].isin(['AVG','FF','GRU','TRSF'])]\n",
    "plot_data['Loss'] = plot_data['Loss'].replace([\"Tune_Test_Losses\",\"Test_Losses\"],[\"Model Trained on KCM + Tuning\", \"Model Trained on KCM\"])\n",
    "fig, axes = plt.subplots(1,1)\n",
    "fig.set_figheight(10)\n",
    "fig.set_figwidth(10)\n",
    "sns.barplot(plot_data, x=\"MAE\", y=\"Model\", hue=\"Loss\", dodge=True)\n",
    "axes.set_xlim([0, 500])\n",
    "axes.set_ylabel(\"Model\")\n",
    "axes.set_xlabel(\"Model Performance (MAE)\")\n",
    "fig.suptitle('AtB Network Deterioration', fontsize=16)\n",
    "fig.tight_layout()\n",
    "plt.savefig(\"../plots/model_deterioration_atb.png\", dpi=1800, bbox_inches='tight')"
   ]
  }
 ],
 "metadata": {
  "kernelspec": {
   "display_name": "valle_m1",
   "language": "python",
   "name": "python3"
  },
  "language_info": {
   "codemirror_mode": {
    "name": "ipython",
    "version": 3
   },
   "file_extension": ".py",
   "mimetype": "text/x-python",
   "name": "python",
   "nbconvert_exporter": "python",
   "pygments_lexer": "ipython3",
   "version": "3.9.17"
  },
  "orig_nbformat": 4,
  "vscode": {
   "interpreter": {
    "hash": "b30fe1de1713ca8e7537eef068b13a2de77ded03f86aab2e80ea73416dd3d704"
   }
  }
 },
 "nbformat": 4,
 "nbformat_minor": 2
}
