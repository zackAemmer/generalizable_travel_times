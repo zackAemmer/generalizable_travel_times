{
 "cells": [
  {
   "cell_type": "code",
   "execution_count": null,
   "metadata": {},
   "outputs": [],
   "source": [
    "import importlib\n",
    "import matplotlib.pyplot as plt\n",
    "import pandas as pd\n",
    "import seaborn as sns\n",
    "\n",
    "from utils import data_utils\n",
    "\n",
    "RUN_FOLDER_KCM = \"../results/debug/\"\n",
    "RUN_FOLDER_ATB = \"../results/debug/\"\n",
    "RUN_FOLDER_TTE = \"../results/debug/\""
   ]
  },
  {
   "cell_type": "code",
   "execution_count": null,
   "metadata": {},
   "outputs": [],
   "source": [
    "# Base results\n",
    "kcm_model_results = data_utils.load_pkl(RUN_FOLDER_KCM + \"kcm/\" + \"model_results.pkl\")\n",
    "atb_model_results = data_utils.load_pkl(RUN_FOLDER_ATB + \"atb/\" + \"model_results.pkl\")\n",
    "kcm_result_df, kcm_loss_df, kcm_time_df = data_utils.extract_results(\"Seattle\", kcm_model_results)\n",
    "atb_result_df, atb_loss_df, atb_time_df = data_utils.extract_results(\"Trondheim\", atb_model_results)"
   ]
  },
  {
   "cell_type": "code",
   "execution_count": null,
   "metadata": {},
   "outputs": [],
   "source": [
    "# Include generalization results\n",
    "kcm_gen_results = data_utils.load_pkl(RUN_FOLDER_KCM + \"kcm/\" + \"model_generalization_results.pkl\")\n",
    "atb_gen_results = data_utils.load_pkl(RUN_FOLDER_ATB + \"atb/\" + \"model_generalization_results.pkl\")\n",
    "kcm_gen_df = data_utils.extract_gen_results(\"Seattle\", kcm_gen_results)\n",
    "atb_gen_df = data_utils.extract_gen_results(\"Trondheim\", atb_gen_results)"
   ]
  },
  {
   "cell_type": "code",
   "execution_count": null,
   "metadata": {},
   "outputs": [],
   "source": [
    "# # Do not include DeepTTE results:\n",
    "# performances_df = pd.concat([kcm_result_df, atb_result_df], axis=0).sort_values(['Model','City','Fold'])\n",
    "# model_curves_df = pd.concat([kcm_loss_df, atb_loss_df], axis=0)\n",
    "# times_df = pd.concat([kcm_time_df, atb_time_df], axis=0)\n",
    "\n",
    "# Include DeepTTE results:\n",
    "kcm_deeptte_result_df, kcm_deeptte_loss_df, kcm_deeptte_time_df = data_utils.extract_deeptte_results(\"Seattle\", RUN_FOLDER_KCM + \"kcm/deeptte_results/result/\")\n",
    "atb_deeptte_result_df, atb_deeptte_loss_df, atb_deeptte_time_df = data_utils.extract_deeptte_results(\"Trondheim\", RUN_FOLDER_ATB + \"atb/deeptte_results/result/\")\n",
    "performances_df = pd.concat([kcm_result_df, atb_result_df, kcm_deeptte_result_df, atb_deeptte_result_df], axis=0).sort_values(['Model','City','Fold'])\n",
    "model_curves_df = pd.concat([kcm_loss_df, atb_loss_df, kcm_deeptte_loss_df, atb_deeptte_loss_df], axis=0)\n",
    "times_df = pd.concat([kcm_deeptte_time_df, atb_deeptte_time_df, kcm_time_df, atb_time_df], axis=0)"
   ]
  },
  {
   "cell_type": "code",
   "execution_count": null,
   "metadata": {},
   "outputs": [],
   "source": [
    "# # Do not include DeepTTE generalization results\n",
    "# gens_df = pd.concat([kcm_gen_df, atb_gen_df], axis=0)\n",
    "\n",
    "# Include DeepTTE generalization results\n",
    "kcm_deeptte_gen_results = data_utils.extract_deeptte_gen_results(\"Seattle\", RUN_FOLDER_KCM + \"kcm/deeptte_results/generalization/\")\n",
    "atb_deeptte_gen_results = data_utils.extract_deeptte_gen_results(\"Trondheim\", RUN_FOLDER_ATB + \"atb/deeptte_results/generalization/\")\n",
    "gens_df = pd.concat([kcm_deeptte_gen_results, atb_deeptte_gen_results, kcm_gen_df, atb_gen_df]).sort_values(['Fold','Model'])"
   ]
  },
  {
   "cell_type": "code",
   "execution_count": null,
   "metadata": {},
   "outputs": [],
   "source": [
    "print(f\"All Unique Models: {pd.unique(performances_df['Model'])}\")\n",
    "print(f\"All NN Models: {pd.unique(model_curves_df['Model'])}\")"
   ]
  },
  {
   "attachments": {},
   "cell_type": "markdown",
   "metadata": {},
   "source": [
    "### Model Performance"
   ]
  },
  {
   "cell_type": "code",
   "execution_count": null,
   "metadata": {},
   "outputs": [],
   "source": [
    "plot_data = performances_df[performances_df['City']==\"Seattle\"]\n",
    "fig, axes = plt.subplots(3,1)\n",
    "fig.set_figheight(10)\n",
    "fig.set_figwidth(10)\n",
    "sns.barplot(plot_data, x=\"MAPE\", y=\"Model\", ax=axes[0])\n",
    "axes[0].set_xlim([0, 1.0])\n",
    "sns.barplot(plot_data, x=\"RMSE\", y=\"Model\", ax=axes[1])\n",
    "axes[1].set_xlim([0, 1200])\n",
    "sns.barplot(plot_data, x=\"MAE\", y=\"Model\", ax=axes[2])\n",
    "axes[2].set_xlim([0, 800])\n",
    "fig.suptitle('KCM Model Performance', fontsize=16)\n",
    "fig.tight_layout()\n",
    "plt.savefig(\"../plots/model_performances_kcm.png\", dpi=1800, bbox_inches='tight')"
   ]
  },
  {
   "cell_type": "code",
   "execution_count": null,
   "metadata": {},
   "outputs": [],
   "source": [
    "plot_data = performances_df[performances_df['City']==\"Trondheim\"]\n",
    "fig, axes = plt.subplots(3,1)\n",
    "fig.set_figheight(10)\n",
    "fig.set_figwidth(10)\n",
    "sns.barplot(plot_data, x=\"MAPE\", y=\"Model\", ax=axes[0])\n",
    "axes[0].set_xlim([0, 1.0])\n",
    "sns.barplot(plot_data, x=\"RMSE\", y=\"Model\", ax=axes[1])\n",
    "axes[1].set_xlim([0, 1200])\n",
    "sns.barplot(plot_data, x=\"MAE\", y=\"Model\", ax=axes[2])\n",
    "axes[2].set_xlim([0, 800])\n",
    "fig.suptitle('AtB Model Performance', fontsize=16)\n",
    "fig.tight_layout()\n",
    "plt.savefig(\"../plots/model_performances_atb.png\", dpi=1800, bbox_inches='tight')"
   ]
  },
  {
   "attachments": {},
   "cell_type": "markdown",
   "metadata": {},
   "source": [
    "### Training Time"
   ]
  },
  {
   "cell_type": "code",
   "execution_count": null,
   "metadata": {},
   "outputs": [],
   "source": [
    "plot_data = times_df[times_df['City']==\"Seattle\"]\n",
    "fig, axes = plt.subplots(1,1)\n",
    "fig.set_figheight(6)\n",
    "fig.set_figwidth(12)\n",
    "sns.barplot(plot_data, x=\"Time\", y=\"Model\", hue=\"Model\", dodge=False)\n",
    "axes.set_ylabel(\"Model\")\n",
    "axes.set_xlabel(\"Training Time (s)\")\n",
    "fig.suptitle('Per-Epoch Model Training Time On KCM', fontsize=16)\n",
    "fig.tight_layout()\n",
    "plt.savefig(\"../plots/model_train_time_kcm.png\", dpi=1800, bbox_inches='tight')"
   ]
  },
  {
   "cell_type": "code",
   "execution_count": null,
   "metadata": {},
   "outputs": [],
   "source": [
    "plot_data = times_df[times_df['City']==\"Trondheim\"]\n",
    "fig, axes = plt.subplots(1,1)\n",
    "fig.set_figheight(6)\n",
    "fig.set_figwidth(12)\n",
    "sns.barplot(plot_data, x=\"Time\", y=\"Model\", hue=\"Model\", dodge=False)\n",
    "axes.set_ylabel(\"Model\")\n",
    "axes.set_xlabel(\"Training Time (s)\")\n",
    "fig.suptitle('Per-Epoch Model Training Time On AtB', fontsize=16)\n",
    "fig.tight_layout()\n",
    "plt.savefig(\"../plots/model_train_time_atb.png\", dpi=1800, bbox_inches='tight')"
   ]
  },
  {
   "attachments": {},
   "cell_type": "markdown",
   "metadata": {},
   "source": [
    "### Training Curves"
   ]
  },
  {
   "cell_type": "code",
   "execution_count": null,
   "metadata": {},
   "outputs": [],
   "source": [
    "model_list = pd.unique(model_curves_df['Model'])\n",
    "plot_data = model_curves_df[model_curves_df['Model'].isin(model_list[:3])]\n",
    "g = sns.FacetGrid(data=plot_data, col=\"City\", row=\"Model\", hue=\"Loss Set\", hue_order=[\"Train\",\"Test\"], height=4)\n",
    "g.map(sns.lineplot, \"Epoch\", \"Loss\")\n",
    "g.add_legend()\n",
    "plt.savefig(f\"../plots/model_curves_1.png\", dpi=1800, bbox_inches='tight')"
   ]
  },
  {
   "cell_type": "code",
   "execution_count": null,
   "metadata": {},
   "outputs": [],
   "source": [
    "model_list = pd.unique(model_curves_df['Model'])\n",
    "plot_data = model_curves_df[model_curves_df['Model'].isin(model_list[3:6])]\n",
    "g = sns.FacetGrid(data=plot_data, col=\"City\", row=\"Model\", hue=\"Loss Set\", hue_order=[\"Train\",\"Test\"], height=4)\n",
    "g.map(sns.lineplot, \"Epoch\", \"Loss\")\n",
    "g.add_legend()\n",
    "plt.savefig(f\"../plots/model_curves_2.png\", dpi=1800, bbox_inches='tight')"
   ]
  },
  {
   "cell_type": "code",
   "execution_count": null,
   "metadata": {},
   "outputs": [],
   "source": [
    "model_list = pd.unique(model_curves_df['Model'])\n",
    "plot_data = model_curves_df[model_curves_df['Model'].isin(model_list[6:])]\n",
    "g = sns.FacetGrid(data=plot_data, col=\"City\", row=\"Model\", hue=\"Loss Set\", hue_order=[\"Train\",\"Test\"], height=4)\n",
    "g.map(sns.lineplot, \"Epoch\", \"Loss\")\n",
    "g.add_legend()\n",
    "plt.savefig(f\"../plots/model_curves_3.png\", dpi=1800, bbox_inches='tight')"
   ]
  },
  {
   "attachments": {},
   "cell_type": "markdown",
   "metadata": {},
   "source": [
    "### Generalization (Across Networks)"
   ]
  },
  {
   "cell_type": "code",
   "execution_count": null,
   "metadata": {},
   "outputs": [],
   "source": [
    "plot_data = gens_df[gens_df['City']==\"Seattle\"]\n",
    "plot_data = plot_data[plot_data['Loss'].isin(['Train_Losses','Test_Losses'])]\n",
    "fig, axes = plt.subplots(1,1)\n",
    "fig.set_figheight(5)\n",
    "fig.set_figwidth(7)\n",
    "sns.barplot(plot_data, x=\"MAE\", y=\"Model\", hue=\"Loss\", dodge=True)\n",
    "axes.set_xlim([0, 1000])\n",
    "axes.set_ylabel(\"Model\")\n",
    "axes.set_xlabel(\"Model Performance (MAE)\")\n",
    "fig.suptitle('KCM Model Generalization Performance', fontsize=16)\n",
    "fig.tight_layout()\n",
    "plt.savefig(\"../plots/model_generalization_kcm.png\", dpi=1800, bbox_inches='tight')"
   ]
  },
  {
   "cell_type": "code",
   "execution_count": null,
   "metadata": {},
   "outputs": [],
   "source": [
    "plot_data = gens_df[gens_df['City']==\"Trondheim\"]\n",
    "plot_data = plot_data[plot_data['Loss'].isin(['Train_Losses','Test_Losses'])]\n",
    "fig, axes = plt.subplots(1,1)\n",
    "fig.set_figheight(5)\n",
    "fig.set_figwidth(7)\n",
    "sns.barplot(plot_data, x=\"MAE\", y=\"Model\", hue=\"Loss\", dodge=True)\n",
    "axes.set_xlim([0, 1000])\n",
    "axes.set_ylabel(\"Model\")\n",
    "axes.set_xlabel(\"Model Performance (MAE)\")\n",
    "fig.suptitle('AtB Model Generalization Performance', fontsize=16)\n",
    "fig.tight_layout()\n",
    "plt.savefig(\"../plots/model_generalization_atb.png\", dpi=1800, bbox_inches='tight')"
   ]
  },
  {
   "attachments": {},
   "cell_type": "markdown",
   "metadata": {},
   "source": [
    "### Generalization (Within Network)"
   ]
  },
  {
   "cell_type": "code",
   "execution_count": null,
   "metadata": {},
   "outputs": [],
   "source": [
    "plot_data = gens_df[gens_df['City']==\"Seattle\"]\n",
    "plot_data = plot_data[plot_data['Loss'].isin(['Holdout_Losses'])]\n",
    "fig, axes = plt.subplots(1,1)\n",
    "fig.set_figheight(5)\n",
    "fig.set_figwidth(7)\n",
    "sns.barplot(plot_data, x=\"MAE\", y=\"Model\", hue=\"Loss\", dodge=True)\n",
    "axes.set_xlim([0, 1000])\n",
    "axes.set_ylabel(\"Model\")\n",
    "axes.set_xlabel(\"Model Performance (MAE)\")\n",
    "fig.suptitle('KCM Model Holdout Route Performance', fontsize=16)\n",
    "fig.tight_layout()\n",
    "plt.savefig(\"../plots/model_holdout_route_kcm.png\", dpi=1800, bbox_inches='tight')"
   ]
  },
  {
   "cell_type": "code",
   "execution_count": null,
   "metadata": {},
   "outputs": [],
   "source": [
    "plot_data = gens_df[gens_df['City']==\"Trondheim\"]\n",
    "plot_data = plot_data[plot_data['Loss'].isin(['Holdout_Losses'])]\n",
    "fig, axes = plt.subplots(1,1)\n",
    "fig.set_figheight(5)\n",
    "fig.set_figwidth(7)\n",
    "sns.barplot(plot_data, x=\"MAE\", y=\"Model\", hue=\"Loss\", dodge=True)\n",
    "axes.set_xlim([0, 1000])\n",
    "axes.set_ylabel(\"Model\")\n",
    "axes.set_xlabel(\"Model Performance (MAE)\")\n",
    "fig.suptitle('AtB Model Holdout Route Performance', fontsize=16)\n",
    "fig.tight_layout()\n",
    "plt.savefig(\"../plots/model_holdout_route_atb.png\", dpi=1800, bbox_inches='tight')"
   ]
  },
  {
   "attachments": {},
   "cell_type": "markdown",
   "metadata": {},
   "source": [
    "### Fine Tuning/Feature Extraction"
   ]
  },
  {
   "cell_type": "code",
   "execution_count": null,
   "metadata": {},
   "outputs": [],
   "source": [
    "plot_data = gens_df[gens_df['City']==\"Seattle\"]\n",
    "plot_data = plot_data[plot_data['Loss'].isin(['Tune_Train_Losses','Tune_Test_Losses','Extract_Train_Losses','Extract_Test_Losses'])]\n",
    "fig, axes = plt.subplots(1,1)\n",
    "fig.set_figheight(10)\n",
    "fig.set_figwidth(10)\n",
    "sns.barplot(plot_data, x=\"MAE\", y=\"Model\", hue=\"Loss\", dodge=True)\n",
    "axes.set_xlim([0, 1000])\n",
    "axes.set_ylabel(\"Model\")\n",
    "axes.set_xlabel(\"Model Performance (MAE)\")\n",
    "fig.suptitle('KCM Tuned Model Generalization Performance', fontsize=16)\n",
    "fig.tight_layout()\n",
    "plt.savefig(\"../plots/model_tuning_kcm.png\", dpi=1800, bbox_inches='tight')"
   ]
  },
  {
   "cell_type": "code",
   "execution_count": null,
   "metadata": {},
   "outputs": [],
   "source": [
    "plot_data = gens_df[gens_df['City']==\"Trondheim\"]\n",
    "plot_data = plot_data[plot_data['Loss'].isin(['Tune_Train_Losses','Tune_Test_Losses','Extract_Train_Losses','Extract_Test_Losses'])]\n",
    "fig, axes = plt.subplots(1,1)\n",
    "fig.set_figheight(10)\n",
    "fig.set_figwidth(10)\n",
    "sns.barplot(plot_data, x=\"MAE\", y=\"Model\", hue=\"Loss\", dodge=True)\n",
    "axes.set_xlim([0, 1000])\n",
    "axes.set_ylabel(\"Model\")\n",
    "axes.set_xlabel(\"Model Performance (MAE)\")\n",
    "fig.suptitle('AtB Tuned Model Generalization Performance', fontsize=16)\n",
    "fig.tight_layout()\n",
    "plt.savefig(\"../plots/model_tuning_atb.png\", dpi=1800, bbox_inches='tight')"
   ]
  }
 ],
 "metadata": {
  "kernelspec": {
   "display_name": "valle_m1",
   "language": "python",
   "name": "python3"
  },
  "language_info": {
   "codemirror_mode": {
    "name": "ipython",
    "version": 3
   },
   "file_extension": ".py",
   "mimetype": "text/x-python",
   "name": "python",
   "nbconvert_exporter": "python",
   "pygments_lexer": "ipython3",
   "version": "3.9.16"
  },
  "orig_nbformat": 4,
  "vscode": {
   "interpreter": {
    "hash": "b30fe1de1713ca8e7537eef068b13a2de77ded03f86aab2e80ea73416dd3d704"
   }
  }
 },
 "nbformat": 4,
 "nbformat_minor": 2
}
