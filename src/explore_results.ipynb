{
 "cells": [
  {
   "cell_type": "code",
   "execution_count": null,
   "metadata": {},
   "outputs": [],
   "source": [
    "import matplotlib.pyplot as plt\n",
    "import pandas as pd\n",
    "import seaborn as sns\n",
    "\n",
    "from utils import data_utils\n",
    "\n",
    "import importlib\n",
    "importlib.reload(data_utils)\n",
    "\n",
    "RUN_FOLDER = \"../results/debug/\""
   ]
  },
  {
   "cell_type": "code",
   "execution_count": null,
   "metadata": {},
   "outputs": [],
   "source": [
    "# # Do Not Include DeepTTE Results:\n",
    "# kcm_model_results = data_utils.load_pkl(RUN_FOLDER + \"kcm/\" + \"model_results.pkl\")\n",
    "# atb_model_results = data_utils.load_pkl(RUN_FOLDER + \"atb/\" + \"model_results.pkl\")\n",
    "# kcm_result_df, kcm_loss_df = data_utils.extract_results(\"Seattle\", kcm_model_results)\n",
    "# atb_result_df, atb_loss_df = data_utils.extract_results(\"Trondheim\", atb_model_results)\n",
    "\n",
    "# performances_df = pd.concat([kcm_result_df, atb_result_df], axis=0).sort_values(['Model','City','Fold'])\n",
    "# model_curves_df = pd.concat([kcm_loss_df, atb_loss_df], axis=0)\n",
    "\n",
    "# print(f\"All Unique Models: {pd.unique(performances_df['Model'])}\")\n",
    "# print(f\"All NN Models: {pd.unique(model_curves_df['Model'])}\")"
   ]
  },
  {
   "cell_type": "code",
   "execution_count": null,
   "metadata": {},
   "outputs": [],
   "source": [
    "# Don't include DeepTTE Results:\n",
    "kcm_model_results = data_utils.load_pkl(RUN_FOLDER + \"kcm/\" + \"model_results.pkl\")\n",
    "atb_model_results = data_utils.load_pkl(RUN_FOLDER + \"atb/\" + \"model_results.pkl\")\n",
    "kcm_result_df, kcm_loss_df = data_utils.extract_results(\"Seattle\", kcm_model_results)\n",
    "atb_result_df, atb_loss_df = data_utils.extract_results(\"Trondheim\", atb_model_results)\n",
    "\n",
    "performances_df = pd.concat([kcm_result_df, atb_result_df], axis=0).sort_values(['Model','City','Fold'])\n",
    "model_curves_df = pd.concat([kcm_loss_df, atb_loss_df], axis=0)\n",
    "\n",
    "print(f\"All Unique Models: {pd.unique(performances_df['Model'])}\")\n",
    "print(f\"All NN Models: {pd.unique(model_curves_df['Model'])}\")"
   ]
  },
  {
   "cell_type": "code",
   "execution_count": null,
   "metadata": {},
   "outputs": [],
   "source": [
    "# # Include DeepTTE Results:\n",
    "# kcm_model_results = data_utils.load_pkl(RUN_FOLDER + \"kcm/\" + \"model_results.pkl\")\n",
    "# atb_model_results = data_utils.load_pkl(RUN_FOLDER + \"atb/\" + \"model_results.pkl\")\n",
    "# kcm_result_df, kcm_loss_df = data_utils.extract_results(\"Seattle\", kcm_model_results)\n",
    "# atb_result_df, atb_loss_df = data_utils.extract_results(\"Trondheim\", atb_model_results)\n",
    "\n",
    "# kcm_deeptte_results = data_utils.extract_deeptte_results(\"Seattle\", RUN_FOLDER, \"kcm/\")\n",
    "# atb_deeptte_results = data_utils.extract_deeptte_results(\"Trondheim\", RUN_FOLDER, \"atb/\")\n",
    "# kcm_deeptte_result_df = kcm_deeptte_results[['Model','City','Fold','MAPE','RMSE','MAE']].copy()\n",
    "# atb_deeptte_result_df = atb_deeptte_results[['Model','City','Fold','MAPE','RMSE','MAE']].copy()\n",
    "\n",
    "# performances_df = pd.concat([kcm_result_df, atb_result_df, kcm_deeptte_result_df, atb_deeptte_result_df], axis=0).sort_values(['Model','City','Fold'])\n",
    "# model_curves_df = pd.concat([kcm_loss_df, atb_loss_df], axis=0)\n",
    "\n",
    "# print(f\"All Unique Models: {pd.unique(performances_df['Model'])}\")\n",
    "# print(f\"All NN Models: {pd.unique(model_curves_df['Model'])}\")"
   ]
  },
  {
   "cell_type": "code",
   "execution_count": null,
   "metadata": {},
   "outputs": [],
   "source": [
    "# # DeepTTE KCM curves\n",
    "# fig, axes = plt.subplots(1,1)\n",
    "# fig.set_figheight(4)\n",
    "# fig.set_figwidth(5)\n",
    "# sns.lineplot(kcm_deeptte_results, x=\"Epoch\", y=\"MAPE\", hue=\"Loss Set\", hue_order=[\"TrainSet\",\"TestSet\"], ax=axes)\n",
    "# fig.suptitle('KCM DeepTTE Loss', fontsize=16)\n",
    "# fig.tight_layout()\n",
    "# plt.savefig(\"../plots/model_curves_deeptte_kcm.png\", dpi=1800, bbox_inches='tight')"
   ]
  },
  {
   "cell_type": "code",
   "execution_count": null,
   "metadata": {},
   "outputs": [],
   "source": [
    "# # DeepTTE AtB curves\n",
    "# fig, axes = plt.subplots(1,1)\n",
    "# fig.set_figheight(4)\n",
    "# fig.set_figwidth(5)\n",
    "# sns.lineplot(atb_deeptte_results, x=\"Epoch\", y=\"MAPE\", hue=\"Loss Set\", hue_order=[\"TrainSet\",\"TestSet\"], ax=axes)\n",
    "# fig.suptitle('AtB DeepTTE Loss', fontsize=16)\n",
    "# fig.tight_layout()\n",
    "# plt.savefig(\"../plots/model_curves_deeptte_atb.png\", dpi=1800, bbox_inches='tight')"
   ]
  },
  {
   "cell_type": "code",
   "execution_count": null,
   "metadata": {},
   "outputs": [],
   "source": [
    "plot_data = performances_df[performances_df['City']==\"Seattle\"]\n",
    "fig, axes = plt.subplots(3,1)\n",
    "fig.set_figheight(6)\n",
    "fig.set_figwidth(6)\n",
    "sns.barplot(plot_data, x=\"MAPE\", y=\"Model\", ax=axes[0])\n",
    "axes[0].set_xlim([0, 0.8])\n",
    "sns.barplot(plot_data, x=\"RMSE\", y=\"Model\", ax=axes[1])\n",
    "axes[1].set_xlim([0, 1200])\n",
    "sns.barplot(plot_data, x=\"MAE\", y=\"Model\", ax=axes[2])\n",
    "axes[2].set_xlim([0, 800])\n",
    "fig.suptitle('KCM Model Performance', fontsize=16)\n",
    "fig.tight_layout()\n",
    "plt.savefig(\"../plots/model_performances_kcm.png\", dpi=1800, bbox_inches='tight')"
   ]
  },
  {
   "cell_type": "code",
   "execution_count": null,
   "metadata": {},
   "outputs": [],
   "source": [
    "plot_data = performances_df[performances_df['City']==\"Trondheim\"]\n",
    "fig, axes = plt.subplots(3,1)\n",
    "fig.set_figheight(6)\n",
    "fig.set_figwidth(6)\n",
    "sns.barplot(plot_data, x=\"MAPE\", y=\"Model\", ax=axes[0])\n",
    "axes[0].set_xlim([0, 0.8])\n",
    "sns.barplot(plot_data, x=\"RMSE\", y=\"Model\", ax=axes[1])\n",
    "axes[1].set_xlim([0, 1200])\n",
    "sns.barplot(plot_data, x=\"MAE\", y=\"Model\", ax=axes[2])\n",
    "axes[2].set_xlim([0, 800])\n",
    "fig.suptitle('AtB Model Performance', fontsize=16)\n",
    "fig.tight_layout()\n",
    "plt.savefig(\"../plots/model_performances_atb.png\", dpi=1800, bbox_inches='tight')"
   ]
  },
  {
   "cell_type": "code",
   "execution_count": null,
   "metadata": {},
   "outputs": [],
   "source": [
    "model_list = pd.unique(model_curves_df['Model'])\n",
    "plot_data = model_curves_df[model_curves_df['Model'].isin(model_list[:3])]\n",
    "g = sns.FacetGrid(data=plot_data, col=\"City\", row=\"Model\", hue=\"Loss Set\", hue_order=[\"Train\",\"Test\"], height=4)\n",
    "g.map(sns.lineplot, \"Epoch\", \"Loss\")\n",
    "g.add_legend()\n",
    "plt.savefig(f\"../plots/model_curves_1.png\", dpi=1800, bbox_inches='tight')"
   ]
  },
  {
   "cell_type": "code",
   "execution_count": null,
   "metadata": {},
   "outputs": [],
   "source": [
    "model_list = pd.unique(model_curves_df['Model'])\n",
    "plot_data = model_curves_df[model_curves_df['Model'].isin(model_list[3:])]\n",
    "g = sns.FacetGrid(data=plot_data, col=\"City\", row=\"Model\", hue=\"Loss Set\", hue_order=[\"Train\",\"Test\"], height=4)\n",
    "g.map(sns.lineplot, \"Epoch\", \"Loss\")\n",
    "g.add_legend()\n",
    "plt.savefig(f\"../plots/model_curves_2.png\", dpi=1800, bbox_inches='tight')"
   ]
  }
 ],
 "metadata": {
  "kernelspec": {
   "display_name": "valle_m1",
   "language": "python",
   "name": "python3"
  },
  "language_info": {
   "codemirror_mode": {
    "name": "ipython",
    "version": 3
   },
   "file_extension": ".py",
   "mimetype": "text/x-python",
   "name": "python",
   "nbconvert_exporter": "python",
   "pygments_lexer": "ipython3",
   "version": "3.9.16"
  },
  "orig_nbformat": 4,
  "vscode": {
   "interpreter": {
    "hash": "b30fe1de1713ca8e7537eef068b13a2de77ded03f86aab2e80ea73416dd3d704"
   }
  }
 },
 "nbformat": 4,
 "nbformat_minor": 2
}
